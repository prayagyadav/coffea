{
 "cells": [
  {
   "cell_type": "code",
   "execution_count": 1,
   "id": "99084dd3-6427-4543-936c-eb530c453e51",
   "metadata": {},
   "outputs": [
    {
     "name": "stderr",
     "output_type": "stream",
     "text": [
      "/home/prayag/coffeafcc/development/coffea/src/coffea/nanoevents/schemas/fcc.py:5: FutureWarning: In version 2025.1.0 (target date: 2024-12-31 11:59:59-06:00), this will be an error.\n",
      "To raise these warnings as errors (and get stack traces to find out where they're called), run\n",
      "    import warnings\n",
      "    warnings.filterwarnings(\"error\", module=\"coffea.*\")\n",
      "after the first `import coffea` or use `@pytest.mark.filterwarnings(\"error:::coffea.*\")` in pytest.\n",
      "Issue: coffea.nanoevents.methods.vector will be removed and replaced with scikit-hep vector. Nanoevents schemas internal to coffea will be migrated. Otherwise please consider using that package!.\n",
      "  from coffea.nanoevents.methods import vector\n"
     ]
    }
   ],
   "source": [
    "from coffea.nanoevents import NanoEventsFactory, BaseSchema, FCC\n",
    "import awkward\n",
    "import dask_awkward\n",
    "import numpy"
   ]
  },
  {
   "cell_type": "code",
   "execution_count": 2,
   "id": "b0479692-bda9-43e7-aeff-3009a0fd04a5",
   "metadata": {},
   "outputs": [
    {
     "name": "stderr",
     "output_type": "stream",
     "text": [
      "/home/prayag/coffeafcc/development/coffea/src/coffea/nanoevents/mapping/uproot.py:144: UserWarning: Skipping PARAMETERS/_intMap/_intMap.first as it is not interpretable by Uproot\n",
      "  warnings.warn(f\"Skipping {key} as it is not interpretable by Uproot\")\n",
      "/home/prayag/coffeafcc/development/coffea/src/coffea/nanoevents/mapping/uproot.py:144: UserWarning: Skipping PARAMETERS/_intMap/_intMap.second as it is not interpretable by Uproot\n",
      "  warnings.warn(f\"Skipping {key} as it is not interpretable by Uproot\")\n",
      "/home/prayag/coffeafcc/development/coffea/src/coffea/nanoevents/mapping/uproot.py:144: UserWarning: Skipping PARAMETERS/_floatMap/_floatMap.first as it is not interpretable by Uproot\n",
      "  warnings.warn(f\"Skipping {key} as it is not interpretable by Uproot\")\n",
      "/home/prayag/coffeafcc/development/coffea/src/coffea/nanoevents/mapping/uproot.py:144: UserWarning: Skipping PARAMETERS/_floatMap/_floatMap.second as it is not interpretable by Uproot\n",
      "  warnings.warn(f\"Skipping {key} as it is not interpretable by Uproot\")\n",
      "/home/prayag/coffeafcc/development/coffea/src/coffea/nanoevents/mapping/uproot.py:144: UserWarning: Skipping PARAMETERS/_stringMap/_stringMap.first as it is not interpretable by Uproot\n",
      "  warnings.warn(f\"Skipping {key} as it is not interpretable by Uproot\")\n",
      "/home/prayag/coffeafcc/development/coffea/src/coffea/nanoevents/mapping/uproot.py:144: UserWarning: Skipping PARAMETERS/_stringMap/_stringMap.second as it is not interpretable by Uproot\n",
      "  warnings.warn(f\"Skipping {key} as it is not interpretable by Uproot\")\n"
     ]
    }
   ],
   "source": [
    "# fcc = FCC.get_schema()\n",
    "# events = NanoEventsFactory.from_root(\n",
    "#     '../coffea-fcc-analyses/data/wzp6_ee_mumuH_Hbb_ecm240/events_159112833.root:events',\n",
    "#     schemaclass=fcc,\n",
    "#     entry_start=100,\n",
    "#     entry_stop=200,\n",
    "#     metadata={'dataset':'ZH'},\n",
    "#     delayed=False,\n",
    "#     uproot_options={\"filter_name\": lambda x : \"PARAMETERS\" not in x}\n",
    "# ).events()\n",
    "fcc = FCC.get_schema()\n",
    "events = NanoEventsFactory.from_root(\n",
    "    '../coffea-fcc-analyses/data/wzp6_ee_mumuH_Hbb_ecm240/test_Winter2023.root:events',\n",
    "    schemaclass=fcc,\n",
    "    metadata={'dataset':'ZH'},\n",
    "    delayed=False,\n",
    "    uproot_options={\"filter_name\": lambda x : \"PARAMETERS\" not in x}\n",
    ").events()"
   ]
  },
  {
   "cell_type": "code",
   "execution_count": 3,
   "id": "8edcf5db-37e9-415c-ac55-79cdfdc16a94",
   "metadata": {},
   "outputs": [],
   "source": [
    "from particle import Particle\n",
    "def from_pdgid(array, doubly_nested=False):\n",
    "    \"\"\"\n",
    "    Return an awkward array of names of particles\n",
    "    from an awkward array of PDGIDs of the particles\n",
    "    \"\"\"\n",
    "    def get_name(pdgid):\n",
    "        try:\n",
    "            s = str(Particle.from_pdgid(pdgid))\n",
    "        except:\n",
    "            s = 'unknown'\n",
    "        return s\n",
    "        \n",
    "    def PDG_finder(layout, **kwargs):\n",
    "        if layout.is_numpy:\n",
    "            return awkward.Array(\n",
    "                [get_name(id) for id in layout.data]\n",
    "            ).layout\n",
    "\n",
    "    return awkward.transform(PDG_finder, array)"
   ]
  },
  {
   "cell_type": "code",
   "execution_count": 4,
   "id": "a3b2b23d-d0a6-43d0-a88f-e7f607d0bb2a",
   "metadata": {},
   "outputs": [
    {
     "data": {
      "text/html": [
       "<pre>[[&#x27;e-&#x27;, &#x27;e+&#x27;, &#x27;e-&#x27;, &#x27;e+&#x27;, &#x27;e-&#x27;, ..., &#x27;K-&#x27;, &#x27;gamma&#x27;, &#x27;gamma&#x27;, &#x27;gamma&#x27;, &#x27;gamma&#x27;],\n",
       " [&#x27;e-&#x27;, &#x27;e+&#x27;, &#x27;e-&#x27;, &#x27;e+&#x27;, &#x27;e-&#x27;, ..., &#x27;gamma&#x27;, &#x27;gamma&#x27;, &#x27;gamma&#x27;, &#x27;gamma&#x27;],\n",
       " [&#x27;e-&#x27;, &#x27;e+&#x27;, &#x27;e-&#x27;, &#x27;e+&#x27;, &#x27;e-&#x27;, ..., &#x27;gamma&#x27;, &#x27;K(L)0&#x27;, &#x27;gamma&#x27;, &#x27;gamma&#x27;],\n",
       " [&#x27;e-&#x27;, &#x27;e+&#x27;, &#x27;e-&#x27;, &#x27;e+&#x27;, &#x27;e-&#x27;, ..., &#x27;gamma&#x27;, &#x27;K-&#x27;, &#x27;pi0&#x27;, &#x27;gamma&#x27;, &#x27;gamma&#x27;],\n",
       " [&#x27;e-&#x27;, &#x27;e+&#x27;, &#x27;e-&#x27;, &#x27;e+&#x27;, &#x27;e-&#x27;, ..., &#x27;gamma&#x27;, &#x27;gamma&#x27;, &#x27;gamma&#x27;, &#x27;pi+&#x27;, &#x27;pi-&#x27;],\n",
       " [&#x27;e-&#x27;, &#x27;e+&#x27;, &#x27;e-&#x27;, &#x27;e+&#x27;, &#x27;e-&#x27;, ..., &#x27;pi0&#x27;, &#x27;gamma&#x27;, &#x27;gamma&#x27;, &#x27;gamma&#x27;, &#x27;gamma&#x27;],\n",
       " [&#x27;e-&#x27;, &#x27;e+&#x27;, &#x27;e-&#x27;, &#x27;e+&#x27;, &#x27;e-&#x27;, ..., &#x27;pi0&#x27;, &#x27;gamma&#x27;, &#x27;gamma&#x27;, &#x27;gamma&#x27;, &#x27;gamma&#x27;],\n",
       " [&#x27;e-&#x27;, &#x27;e+&#x27;, &#x27;e-&#x27;, &#x27;e+&#x27;, &#x27;e-&#x27;, ..., &#x27;gamma&#x27;, &#x27;e-&#x27;, &#x27;e+&#x27;, &#x27;gamma&#x27;, &#x27;gamma&#x27;],\n",
       " [&#x27;e-&#x27;, &#x27;e+&#x27;, &#x27;e-&#x27;, &#x27;e+&#x27;, &#x27;e-&#x27;, ..., &#x27;e-&#x27;, &#x27;nu(e)~&#x27;, &#x27;K+&#x27;, &#x27;gamma&#x27;, &#x27;gamma&#x27;],\n",
       " [&#x27;e-&#x27;, &#x27;e+&#x27;, &#x27;e-&#x27;, &#x27;e+&#x27;, &#x27;e-&#x27;, ..., &#x27;gamma&#x27;, &#x27;gamma&#x27;, &#x27;gamma&#x27;, &#x27;gamma&#x27;],\n",
       " ...,\n",
       " [&#x27;e-&#x27;, &#x27;e+&#x27;, &#x27;e-&#x27;, &#x27;e+&#x27;, &#x27;e-&#x27;, ..., &#x27;pi0&#x27;, &#x27;gamma&#x27;, &#x27;gamma&#x27;, &#x27;gamma&#x27;, &#x27;gamma&#x27;],\n",
       " [&#x27;e-&#x27;, &#x27;e+&#x27;, &#x27;e-&#x27;, &#x27;e+&#x27;, &#x27;e-&#x27;, ..., &#x27;pi0&#x27;, &#x27;gamma&#x27;, &#x27;gamma&#x27;, &#x27;gamma&#x27;, &#x27;gamma&#x27;],\n",
       " [&#x27;e-&#x27;, &#x27;e+&#x27;, &#x27;e-&#x27;, &#x27;e+&#x27;, &#x27;e-&#x27;, ..., &#x27;gamma&#x27;, &#x27;gamma&#x27;, &#x27;gamma&#x27;, &#x27;gamma&#x27;],\n",
       " [&#x27;e-&#x27;, &#x27;e+&#x27;, &#x27;e-&#x27;, &#x27;e+&#x27;, &#x27;e-&#x27;, ..., &#x27;gamma&#x27;, &#x27;K(L)0&#x27;, &#x27;gamma&#x27;, &#x27;gamma&#x27;],\n",
       " [&#x27;e-&#x27;, &#x27;e+&#x27;, &#x27;e-&#x27;, &#x27;e+&#x27;, &#x27;e-&#x27;, ..., &#x27;gamma&#x27;, &#x27;gamma&#x27;, &#x27;gamma&#x27;, &#x27;gamma&#x27;],\n",
       " [&#x27;e-&#x27;, &#x27;e+&#x27;, &#x27;e-&#x27;, &#x27;e+&#x27;, &#x27;e-&#x27;, ..., &#x27;gamma&#x27;, &#x27;gamma&#x27;, &#x27;gamma&#x27;, &#x27;pi-&#x27;, &#x27;pi+&#x27;],\n",
       " [&#x27;e-&#x27;, &#x27;e+&#x27;, &#x27;e-&#x27;, &#x27;e+&#x27;, &#x27;e-&#x27;, ..., &#x27;pi0&#x27;, &#x27;gamma&#x27;, &#x27;gamma&#x27;, &#x27;gamma&#x27;, &#x27;gamma&#x27;],\n",
       " [&#x27;e-&#x27;, &#x27;e+&#x27;, &#x27;e-&#x27;, &#x27;e+&#x27;, &#x27;e-&#x27;, ..., &#x27;gamma&#x27;, &#x27;gamma&#x27;, &#x27;gamma&#x27;, &#x27;gamma&#x27;],\n",
       " [&#x27;e-&#x27;, &#x27;e+&#x27;, &#x27;e-&#x27;, &#x27;e+&#x27;, &#x27;e-&#x27;, ..., &#x27;gamma&#x27;, &#x27;gamma&#x27;, &#x27;K(L)0&#x27;, &#x27;pi-&#x27;, &#x27;pi+&#x27;]]\n",
       "--------------------------------------------------------------------------------\n",
       "type: 100 * var * string</pre>"
      ],
      "text/plain": [
       "<Array [['e-', 'e+', ..., 'gamma', 'gamma'], ...] type='100 * var * string'>"
      ]
     },
     "execution_count": 4,
     "metadata": {},
     "output_type": "execute_result"
    }
   ],
   "source": [
    "mc = awkward.zip({\n",
    "    \"mc\": events.Particle,\n",
    "    \"name\": from_pdgid(events.Particle.PDG)\n",
    "})\n",
    "mc.name"
   ]
  },
  {
   "cell_type": "markdown",
   "id": "e7a10a27-0218-4458-83dd-cedec3e82d2f",
   "metadata": {},
   "source": [
    "## We will look at the decay of Kaon $K_S^0 \\rightarrow pions $"
   ]
  },
  {
   "cell_type": "markdown",
   "id": "43837639-8569-48af-a50f-15795a650b0e",
   "metadata": {},
   "source": [
    "$$ K_S^0 \\rightarrow \\pi^0 + \\pi^0 $$\n",
    "$$ K_S^0 \\rightarrow \\pi^+ + \\pi^- $$"
   ]
  },
  {
   "cell_type": "code",
   "execution_count": 5,
   "id": "2e46ba11-e287-4c34-8c29-916cc7336c8a",
   "metadata": {},
   "outputs": [
    {
     "data": {
      "text/html": [
       "<pre>[[&#x27;K(S)0&#x27;],\n",
       " [&#x27;K(S)0&#x27;],\n",
       " [&#x27;K(S)0&#x27;],\n",
       " [&#x27;K(S)0&#x27;],\n",
       " [&#x27;K(S)0&#x27;],\n",
       " [&#x27;K(S)0&#x27;],\n",
       " [&#x27;K(S)0&#x27;],\n",
       " [&#x27;K(S)0&#x27;],\n",
       " [&#x27;K(S)0&#x27;],\n",
       " [&#x27;K(S)0&#x27;],\n",
       " ...,\n",
       " [&#x27;K(S)0&#x27;],\n",
       " [&#x27;K(S)0&#x27;],\n",
       " [&#x27;K(S)0&#x27;],\n",
       " [&#x27;K(S)0&#x27;],\n",
       " [&#x27;K(S)0&#x27;],\n",
       " [&#x27;K(S)0&#x27;],\n",
       " [&#x27;K(S)0&#x27;],\n",
       " [&#x27;K(S)0&#x27;],\n",
       " [&#x27;K(S)0&#x27;]]\n",
       "-----------------------\n",
       "type: 27 * var * string</pre>"
      ],
      "text/plain": [
       "<Array [['K(S)0'], ['K(S)0'], ..., ['K(S)0']] type='27 * var * string'>"
      ]
     },
     "execution_count": 5,
     "metadata": {},
     "output_type": "execute_result"
    }
   ],
   "source": [
    "# Find Single K_S^0\n",
    "K_S0_cut = mc.name == 'K(S)0'\n",
    "K_S0 = mc[K_S0_cut]\n",
    "single_K_S0_cut = awkward.num(K_S0, axis = 1) == 1\n",
    "single_K_S0 = K_S0[single_K_S0_cut]\n",
    "single_K_S0.name"
   ]
  },
  {
   "cell_type": "markdown",
   "id": "78964801-36b4-4419-8a86-f4e028f8a440",
   "metadata": {},
   "source": [
    "## Test for Daughters"
   ]
  },
  {
   "cell_type": "markdown",
   "id": "8a3fa544-54f5-4889-9603-3630debdcf4e",
   "metadata": {},
   "source": [
    "- The Kaon $K_S^0$ must have only pions as the daughters"
   ]
  },
  {
   "cell_type": "code",
   "execution_count": 6,
   "id": "c0f8d261-c748-458d-a71a-3efa1f4dbc6a",
   "metadata": {},
   "outputs": [
    {
     "data": {
      "text/html": [
       "<pre>[[[&#x27;pi+&#x27;, &#x27;pi-&#x27;]],\n",
       " [[&#x27;pi+&#x27;, &#x27;pi-&#x27;]],\n",
       " [[&#x27;pi+&#x27;, &#x27;pi-&#x27;]],\n",
       " [[&#x27;pi+&#x27;, &#x27;pi-&#x27;]],\n",
       " [[&#x27;pi0&#x27;, &#x27;pi0&#x27;]],\n",
       " [[&#x27;pi-&#x27;, &#x27;pi+&#x27;]],\n",
       " [[&#x27;pi0&#x27;, &#x27;pi0&#x27;]],\n",
       " [[&#x27;pi+&#x27;, &#x27;pi-&#x27;]],\n",
       " [[&#x27;pi-&#x27;, &#x27;pi+&#x27;]],\n",
       " [[&#x27;pi+&#x27;, &#x27;pi-&#x27;]],\n",
       " ...,\n",
       " [[&#x27;pi-&#x27;, &#x27;pi+&#x27;]],\n",
       " [[&#x27;pi0&#x27;, &#x27;pi0&#x27;]],\n",
       " [[&#x27;pi0&#x27;, &#x27;pi0&#x27;]],\n",
       " [[&#x27;pi0&#x27;, &#x27;pi0&#x27;]],\n",
       " [[&#x27;pi+&#x27;, &#x27;pi-&#x27;]],\n",
       " [[&#x27;pi+&#x27;, &#x27;pi-&#x27;]],\n",
       " [[&#x27;pi+&#x27;, &#x27;pi-&#x27;]],\n",
       " [[&#x27;pi-&#x27;, &#x27;pi+&#x27;]],\n",
       " [[&#x27;pi+&#x27;, &#x27;pi-&#x27;]]]\n",
       "------------------------------\n",
       "type: 27 * var * var * ?string</pre>"
      ],
      "text/plain": [
       "<Array [[['pi+', 'pi-']], ..., [['pi+', ...]]] type='27 * var * var * ?string'>"
      ]
     },
     "execution_count": 6,
     "metadata": {},
     "output_type": "execute_result"
    }
   ],
   "source": [
    "# Find the daughters of Single K_S^0\n",
    "daughters_of_K_S0 = single_K_S0.mc.get_daughters\n",
    "names_of_daughters_of_K_S0 = from_pdgid(daughters_of_K_S0.PDG)\n",
    "names_of_daughters_of_K_S0"
   ]
  },
  {
   "cell_type": "code",
   "execution_count": 7,
   "id": "cad3af87-5407-4db7-82ee-94c277ed5ed3",
   "metadata": {},
   "outputs": [
    {
     "name": "stdout",
     "output_type": "stream",
     "text": [
      "Valid daughters? :  True\n",
      "Valid charge of daughters? :  True\n",
      "\n",
      "Daughters test is successful? :  True\n"
     ]
    }
   ],
   "source": [
    "# Are these valid daughter particles (pi+ or pi- or pi0)?\n",
    "flat_names = awkward.ravel(names_of_daughters_of_K_S0)\n",
    "is_pi_0 = flat_names == 'pi0'\n",
    "is_pi_plus = flat_names == 'pi+'\n",
    "is_pi_minus = flat_names == 'pi-'\n",
    "names_valid = awkward.all(is_pi_0 | is_pi_plus | is_pi_minus)\n",
    "print(\"Valid daughters? : \", names_valid )\n",
    "\n",
    "# Do the daughters have valid charges (same or opposite)?\n",
    "nested_bool = awkward.prod(daughters_of_K_S0.charge,axis=2) <= 0\n",
    "charge_valid = awkward.all(awkward.ravel(nested_bool))\n",
    "print(\"Valid charge of daughters? : \", charge_valid )\n",
    "print(\"\\nDaughters test is successful? : \", names_valid & charge_valid)"
   ]
  },
  {
   "cell_type": "markdown",
   "id": "b3068cea-ce8e-4db2-b097-d5c2dacba749",
   "metadata": {},
   "source": [
    "## Test for Parents"
   ]
  },
  {
   "cell_type": "markdown",
   "id": "2c6f0a85-dfdd-4a3b-b5bd-90682466a56f",
   "metadata": {},
   "source": [
    "- These pion daughters, just generated, must point back to the single parent $K_S^0$"
   ]
  },
  {
   "cell_type": "code",
   "execution_count": 10,
   "id": "e21c0a94-384f-461b-a810-01ba99835cda",
   "metadata": {},
   "outputs": [
    {
     "data": {
      "text/html": [
       "<pre>[[[&#x27;pi+&#x27;, &#x27;pi-&#x27;]],\n",
       " [[&#x27;pi+&#x27;, &#x27;pi-&#x27;]],\n",
       " [[&#x27;pi+&#x27;, &#x27;pi-&#x27;]],\n",
       " [[&#x27;pi+&#x27;, &#x27;pi-&#x27;]],\n",
       " [[&#x27;pi0&#x27;, &#x27;pi0&#x27;]],\n",
       " [[&#x27;pi-&#x27;, &#x27;pi+&#x27;]],\n",
       " [[&#x27;pi0&#x27;, &#x27;pi0&#x27;]],\n",
       " [[&#x27;pi+&#x27;, &#x27;pi-&#x27;]],\n",
       " [[&#x27;pi-&#x27;, &#x27;pi+&#x27;]],\n",
       " [[&#x27;pi+&#x27;, &#x27;pi-&#x27;]],\n",
       " ...,\n",
       " [[&#x27;pi-&#x27;, &#x27;pi+&#x27;]],\n",
       " [[&#x27;pi0&#x27;, &#x27;pi0&#x27;]],\n",
       " [[&#x27;pi0&#x27;, &#x27;pi0&#x27;]],\n",
       " [[&#x27;pi0&#x27;, &#x27;pi0&#x27;]],\n",
       " [[&#x27;pi+&#x27;, &#x27;pi-&#x27;]],\n",
       " [[&#x27;pi+&#x27;, &#x27;pi-&#x27;]],\n",
       " [[&#x27;pi+&#x27;, &#x27;pi-&#x27;]],\n",
       " [[&#x27;pi-&#x27;, &#x27;pi+&#x27;]],\n",
       " [[&#x27;pi+&#x27;, &#x27;pi-&#x27;]]]\n",
       "------------------------------\n",
       "type: 27 * var * var * ?string</pre>"
      ],
      "text/plain": [
       "<Array [[['pi+', 'pi-']], ..., [['pi+', ...]]] type='27 * var * var * ?string'>"
      ]
     },
     "execution_count": 10,
     "metadata": {},
     "output_type": "execute_result"
    }
   ],
   "source": [
    "daughters = awkward.zip({\n",
    "    \"daughter\": daughters_of_K_S0,\n",
    "    \"name\": from_pdgid(daughters_of_K_S0.PDG)\n",
    "})\n",
    "daughters.name"
   ]
  },
  {
   "cell_type": "code",
   "execution_count": 24,
   "id": "63afbe25-e657-498c-81dd-592b403ebfa1",
   "metadata": {},
   "outputs": [
    {
     "data": {
      "text/html": [
       "<pre>[[[[&#x27;K(S)0&#x27;], [&#x27;K(S)0&#x27;]]],\n",
       " [[[&#x27;K(S)0&#x27;], [&#x27;K(S)0&#x27;]]],\n",
       " [[[&#x27;K(S)0&#x27;], [&#x27;K(S)0&#x27;]]],\n",
       " [[[&#x27;K(S)0&#x27;], [&#x27;K(S)0&#x27;]]],\n",
       " [[[&#x27;K(S)0&#x27;], [&#x27;K(S)0&#x27;]]],\n",
       " [[[&#x27;K(S)0&#x27;], [&#x27;K(S)0&#x27;]]],\n",
       " [[[&#x27;K(S)0&#x27;], [&#x27;K(S)0&#x27;]]],\n",
       " [[[&#x27;K(S)0&#x27;], [&#x27;K(S)0&#x27;]]],\n",
       " [[[&#x27;K(S)0&#x27;], [&#x27;K(S)0&#x27;]]],\n",
       " [[[&#x27;K(S)0&#x27;], [&#x27;K(S)0&#x27;]]],\n",
       " ...,\n",
       " [[[&#x27;K(S)0&#x27;], [&#x27;K(S)0&#x27;]]],\n",
       " [[[&#x27;K(S)0&#x27;], [&#x27;K(S)0&#x27;]]],\n",
       " [[[&#x27;K(S)0&#x27;], [&#x27;K(S)0&#x27;]]],\n",
       " [[[&#x27;K(S)0&#x27;], [&#x27;K(S)0&#x27;]]],\n",
       " [[[&#x27;K(S)0&#x27;], [&#x27;K(S)0&#x27;]]],\n",
       " [[[&#x27;K(S)0&#x27;], [&#x27;K(S)0&#x27;]]],\n",
       " [[[&#x27;K(S)0&#x27;], [&#x27;K(S)0&#x27;]]],\n",
       " [[[&#x27;K(S)0&#x27;], [&#x27;K(S)0&#x27;]]],\n",
       " [[[&#x27;K(S)0&#x27;], [&#x27;K(S)0&#x27;]]]]\n",
       "--------------------------------------------\n",
       "type: 27 * var * var * option[var * ?string]</pre>"
      ],
      "text/plain": [
       "<Array [[[['K(S)0'], ['K(S)0']]], ..., [[...]]] type='27 * var * var * opti...'>"
      ]
     },
     "execution_count": 24,
     "metadata": {},
     "output_type": "execute_result"
    }
   ],
   "source": [
    "p = daughters.daughter.get_parents\n",
    "\n",
    "name_of_parents = from_pdgid(p.PDG)\n",
    "name_of_parents"
   ]
  },
  {
   "cell_type": "code",
   "execution_count": 27,
   "id": "224af55b-7432-48ec-aacb-6129408f1bcc",
   "metadata": {},
   "outputs": [
    {
     "name": "stdout",
     "output_type": "stream",
     "text": [
      "Daughters have a single parent? :  True\n",
      "\n",
      "Daughters have a K(S)0 as a parent? :  True\n",
      "\n",
      "\n",
      "Test for parents successful? :  True\n"
     ]
    }
   ],
   "source": [
    "# Do the daughters have a single parent?\n",
    "nested_bool = awkward.num(p, axis=3) == 1\n",
    "daughters_have_single_parent = awkward.all(awkward.ravel(nested_bool))\n",
    "print(\"Daughters have a single parent? : \", daughters_have_single_parent)\n",
    "\n",
    "# Is that parent K_S^0 ?\n",
    "nested_bool = name_of_parents == 'K(S)0'\n",
    "daughters_have_K_S0_parent = awkward.all(awkward.ravel(nested_bool))\n",
    "print(\"\\nDaughters have a K(S)0 as a parent? : \", daughters_have_K_S0_parent)\n",
    "\n",
    "print(\"\\n\\nTest for parents successful? : \", daughters_have_single_parent & daughters_have_K_S0_parent)"
   ]
  },
  {
   "cell_type": "code",
   "execution_count": null,
   "id": "b1966b01-a533-4262-ac6b-e855565ddde1",
   "metadata": {},
   "outputs": [],
   "source": []
  }
 ],
 "metadata": {
  "kernelspec": {
   "display_name": "fcc-dev",
   "language": "python",
   "name": "fcc-dev"
  },
  "language_info": {
   "codemirror_mode": {
    "name": "ipython",
    "version": 3
   },
   "file_extension": ".py",
   "mimetype": "text/x-python",
   "name": "python",
   "nbconvert_exporter": "python",
   "pygments_lexer": "ipython3",
   "version": "3.12.6"
  }
 },
 "nbformat": 4,
 "nbformat_minor": 5
}
