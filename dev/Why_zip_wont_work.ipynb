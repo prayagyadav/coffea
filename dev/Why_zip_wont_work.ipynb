{
 "cells": [
  {
   "cell_type": "code",
   "execution_count": 1,
   "id": "1b5b4938-d7e5-4f60-98d7-1e97bf1fed3b",
   "metadata": {},
   "outputs": [
    {
     "name": "stdout",
     "output_type": "stream",
     "text": [
      "_______________________________________\n",
      "\tCurrent Configuration\n",
      "---------------------------------------\n",
      "Coffea Version:  0.1.dev3583+ge06c4b8\n",
      "Branch: \t use_scikithep_vector\n",
      "Modified by: \t Prayag Yadav\n",
      "_______________________________________\n"
     ]
    }
   ],
   "source": [
    "import coffea\n",
    "from git import Repo\n",
    "import awkward as ak\n",
    "import dask_awkward as dak\n",
    "import vector\n",
    "mod = \"Prayag Yadav\"\n",
    "local_repo = Repo(path='coffea')\n",
    "local_branch = local_repo.active_branch.name\n",
    "print(\"_______________________________________\")\n",
    "print(\"\\tCurrent Configuration\")\n",
    "print(\"---------------------------------------\")\n",
    "print(\"Coffea Version: \", coffea.__version__)\n",
    "print(\"Branch: \\t\", local_branch)\n",
    "print(\"Modified by: \\t\", mod)\n",
    "print(\"_______________________________________\")"
   ]
  },
  {
   "cell_type": "markdown",
   "id": "7a1b7108-50c7-4eb9-812c-04a343ccbfb2",
   "metadata": {},
   "source": [
    "## What's the problem with zip?"
   ]
  },
  {
   "cell_type": "code",
   "execution_count": 2,
   "id": "037512ec-ff64-4664-8da1-7c0ec1943ac8",
   "metadata": {},
   "outputs": [
    {
     "name": "stderr",
     "output_type": "stream",
     "text": [
      "/home/prayag/coffeafcc/development/coffea/src/coffea/nanoevents/methods/fcc.py:6: FutureWarning: In version 2024.7.0 (target date: 2024-06-30 11:59:59-05:00), this will be an error.\n",
      "To raise these warnings as errors (and get stack traces to find out where they're called), run\n",
      "    import warnings\n",
      "    warnings.filterwarnings(\"error\", module=\"coffea.*\")\n",
      "after the first `import coffea` or use `@pytest.mark.filterwarnings(\"error:::coffea.*\")` in pytest.\n",
      "Issue: coffea.nanoevents.methods.vector will be removed and replaced with scikit-hep vector. Nanoevents schemas internal to coffea will be migrated. Otherwise please consider using that package!.\n",
      "  from coffea.nanoevents.methods import base, vector\n"
     ]
    }
   ],
   "source": [
    "test_file = 'root://eospublic.cern.ch//eos/experiment/fcc/ee/generation/DelphesEvents/spring2021/IDEA/p8_ee_ZH_ecm240/events_101027117.root'\n",
    "from coffea.nanoevents import NanoEventsFactory, FCCSchema\n",
    "events = NanoEventsFactory.from_root(\n",
    "    test_file+\":events\",\n",
    "    entry_stop=100,\n",
    "    schemaclass=FCCSchema,\n",
    "    delayed=True #Delayed=False doesn't work, more info in later sections\n",
    ").events()"
   ]
  },
  {
   "cell_type": "code",
   "execution_count": 3,
   "id": "3d095e84-58cc-4010-82a9-4ec0f9058bf2",
   "metadata": {},
   "outputs": [
    {
     "data": {
      "text/plain": [
       "['AllMuonidx',\n",
       " 'EFlowPhotonidx',\n",
       " 'Photonidx',\n",
       " 'MCRecoAssociationsidx',\n",
       " 'Muonidx',\n",
       " 'Particleidx',\n",
       " 'Jetidx',\n",
       " 'EFlowTrackidx',\n",
       " 'EFlowNeutralHadronidx',\n",
       " 'ReconstructedParticlesidx',\n",
       " 'MissingETidx',\n",
       " 'Electronidx',\n",
       " 'ReconstructedParticles',\n",
       " 'MCRecoAssociations',\n",
       " 'MissingET',\n",
       " 'ParticleIDs',\n",
       " 'EFlowTrack',\n",
       " 'EFlowNeutralHadron',\n",
       " 'Particle',\n",
       " 'EFlowPhoton',\n",
       " 'Jet',\n",
       " 'EFlowTrack_1']"
      ]
     },
     "execution_count": 3,
     "metadata": {},
     "output_type": "execute_result"
    }
   ],
   "source": [
    "events.fields"
   ]
  },
  {
   "cell_type": "markdown",
   "id": "66814989-2fd6-4e6b-8ba7-6c3b71c1e693",
   "metadata": {},
   "source": [
    "### The idx\\<n\\> leaves were zipped together to form the idx collection"
   ]
  },
  {
   "cell_type": "code",
   "execution_count": 4,
   "id": "2bd26ab4-5634-46ab-a1ad-410c28968264",
   "metadata": {},
   "outputs": [
    {
     "data": {
      "text/plain": [
       "['ReconstructedParticlesidx0',\n",
       " 'ReconstructedParticlesidx4',\n",
       " 'ReconstructedParticlesidx5',\n",
       " 'ReconstructedParticlesidx1',\n",
       " 'ReconstructedParticlesidx2',\n",
       " 'ReconstructedParticlesidx3']"
      ]
     },
     "execution_count": 4,
     "metadata": {},
     "output_type": "execute_result"
    }
   ],
   "source": [
    "events.ReconstructedParticlesidx.fields"
   ]
  },
  {
   "cell_type": "markdown",
   "id": "638e4939-c871-4da1-884e-a84e1cb80396",
   "metadata": {},
   "source": [
    "### This is delayed and therefore doesnt produce any error at this stage, but its a error if we want to materialize or use this collection"
   ]
  },
  {
   "cell_type": "code",
   "execution_count": 5,
   "id": "8674c219-7240-43af-adc2-588777b73402",
   "metadata": {
    "scrolled": true
   },
   "outputs": [
    {
     "ename": "TypeError",
     "evalue": "size of array (0) is less than size of form (2739462)",
     "output_type": "error",
     "traceback": [
      "\u001b[0;31m---------------------------------------------------------------------------\u001b[0m",
      "\u001b[0;31mTypeError\u001b[0m                                 Traceback (most recent call last)",
      "Cell \u001b[0;32mIn[5], line 1\u001b[0m\n\u001b[0;32m----> 1\u001b[0m \u001b[43mevents\u001b[49m\u001b[38;5;241;43m.\u001b[39;49m\u001b[43mReconstructedParticlesidx\u001b[49m\u001b[38;5;241;43m.\u001b[39;49m\u001b[43mcompute\u001b[49m\u001b[43m(\u001b[49m\u001b[43m)\u001b[49m\n",
      "File \u001b[0;32m~/coffeafcc/development/fcc-dev/lib64/python3.12/site-packages/dask/base.py:376\u001b[0m, in \u001b[0;36mDaskMethodsMixin.compute\u001b[0;34m(self, **kwargs)\u001b[0m\n\u001b[1;32m    352\u001b[0m \u001b[38;5;28;01mdef\u001b[39;00m \u001b[38;5;21mcompute\u001b[39m(\u001b[38;5;28mself\u001b[39m, \u001b[38;5;241m*\u001b[39m\u001b[38;5;241m*\u001b[39mkwargs):\n\u001b[1;32m    353\u001b[0m \u001b[38;5;250m    \u001b[39m\u001b[38;5;124;03m\"\"\"Compute this dask collection\u001b[39;00m\n\u001b[1;32m    354\u001b[0m \n\u001b[1;32m    355\u001b[0m \u001b[38;5;124;03m    This turns a lazy Dask collection into its in-memory equivalent.\u001b[39;00m\n\u001b[0;32m   (...)\u001b[0m\n\u001b[1;32m    374\u001b[0m \u001b[38;5;124;03m    dask.compute\u001b[39;00m\n\u001b[1;32m    375\u001b[0m \u001b[38;5;124;03m    \"\"\"\u001b[39;00m\n\u001b[0;32m--> 376\u001b[0m     (result,) \u001b[38;5;241m=\u001b[39m \u001b[43mcompute\u001b[49m\u001b[43m(\u001b[49m\u001b[38;5;28;43mself\u001b[39;49m\u001b[43m,\u001b[49m\u001b[43m \u001b[49m\u001b[43mtraverse\u001b[49m\u001b[38;5;241;43m=\u001b[39;49m\u001b[38;5;28;43;01mFalse\u001b[39;49;00m\u001b[43m,\u001b[49m\u001b[43m \u001b[49m\u001b[38;5;241;43m*\u001b[39;49m\u001b[38;5;241;43m*\u001b[39;49m\u001b[43mkwargs\u001b[49m\u001b[43m)\u001b[49m\n\u001b[1;32m    377\u001b[0m     \u001b[38;5;28;01mreturn\u001b[39;00m result\n",
      "File \u001b[0;32m~/coffeafcc/development/fcc-dev/lib64/python3.12/site-packages/dask/base.py:662\u001b[0m, in \u001b[0;36mcompute\u001b[0;34m(traverse, optimize_graph, scheduler, get, *args, **kwargs)\u001b[0m\n\u001b[1;32m    659\u001b[0m     postcomputes\u001b[38;5;241m.\u001b[39mappend(x\u001b[38;5;241m.\u001b[39m__dask_postcompute__())\n\u001b[1;32m    661\u001b[0m \u001b[38;5;28;01mwith\u001b[39;00m shorten_traceback():\n\u001b[0;32m--> 662\u001b[0m     results \u001b[38;5;241m=\u001b[39m \u001b[43mschedule\u001b[49m\u001b[43m(\u001b[49m\u001b[43mdsk\u001b[49m\u001b[43m,\u001b[49m\u001b[43m \u001b[49m\u001b[43mkeys\u001b[49m\u001b[43m,\u001b[49m\u001b[43m \u001b[49m\u001b[38;5;241;43m*\u001b[39;49m\u001b[38;5;241;43m*\u001b[39;49m\u001b[43mkwargs\u001b[49m\u001b[43m)\u001b[49m\n\u001b[1;32m    664\u001b[0m \u001b[38;5;28;01mreturn\u001b[39;00m repack([f(r, \u001b[38;5;241m*\u001b[39ma) \u001b[38;5;28;01mfor\u001b[39;00m r, (f, a) \u001b[38;5;129;01min\u001b[39;00m \u001b[38;5;28mzip\u001b[39m(results, postcomputes)])\n",
      "File \u001b[0;32m~/coffeafcc/development/fcc-dev/lib64/python3.12/site-packages/uproot/_dask.py:1345\u001b[0m, in \u001b[0;36m_UprootOpenAndRead.__call__\u001b[0;34m(self, blockwise_args)\u001b[0m\n\u001b[1;32m   1331\u001b[0m     \u001b[38;5;28;01mexcept\u001b[39;00m \u001b[38;5;28mself\u001b[39m\u001b[38;5;241m.\u001b[39mallowed_exceptions \u001b[38;5;28;01mas\u001b[39;00m err:\n\u001b[1;32m   1332\u001b[0m         \u001b[38;5;28;01mreturn\u001b[39;00m (\n\u001b[1;32m   1333\u001b[0m             \u001b[38;5;28mself\u001b[39m\u001b[38;5;241m.\u001b[39mmock_empty(backend\u001b[38;5;241m=\u001b[39m\u001b[38;5;124m\"\u001b[39m\u001b[38;5;124mcpu\u001b[39m\u001b[38;5;124m\"\u001b[39m),\n\u001b[1;32m   1334\u001b[0m             _report_failure(\n\u001b[0;32m   (...)\u001b[0m\n\u001b[1;32m   1342\u001b[0m             ),\n\u001b[1;32m   1343\u001b[0m         )\n\u001b[0;32m-> 1345\u001b[0m result, _ \u001b[38;5;241m=\u001b[39m \u001b[38;5;28;43mself\u001b[39;49m\u001b[38;5;241;43m.\u001b[39;49m\u001b[43m_call_impl\u001b[49m\u001b[43m(\u001b[49m\n\u001b[1;32m   1346\u001b[0m \u001b[43m    \u001b[49m\u001b[43mfile_path\u001b[49m\u001b[43m,\u001b[49m\u001b[43m \u001b[49m\u001b[43mobject_path\u001b[49m\u001b[43m,\u001b[49m\u001b[43m \u001b[49m\u001b[43mi_step_or_start\u001b[49m\u001b[43m,\u001b[49m\u001b[43m \u001b[49m\u001b[43mn_steps_or_stop\u001b[49m\u001b[43m,\u001b[49m\u001b[43m \u001b[49m\u001b[43mis_chunk\u001b[49m\n\u001b[1;32m   1347\u001b[0m \u001b[43m\u001b[49m\u001b[43m)\u001b[49m\n\u001b[1;32m   1348\u001b[0m \u001b[38;5;28;01mreturn\u001b[39;00m result\n",
      "File \u001b[0;32m~/coffeafcc/development/fcc-dev/lib64/python3.12/site-packages/uproot/_dask.py:1298\u001b[0m, in \u001b[0;36m_UprootOpenAndRead._call_impl\u001b[0;34m(self, file_path, object_path, i_step_or_start, n_steps_or_stop, is_chunk)\u001b[0m\n\u001b[1;32m   1292\u001b[0m     start, stop \u001b[38;5;241m=\u001b[39m \u001b[38;5;28mmin\u001b[39m((i_step_or_start \u001b[38;5;241m*\u001b[39m events_per_step), num_entries), \u001b[38;5;28mmin\u001b[39m(\n\u001b[1;32m   1293\u001b[0m         (i_step_or_start \u001b[38;5;241m+\u001b[39m \u001b[38;5;241m1\u001b[39m) \u001b[38;5;241m*\u001b[39m events_per_step, num_entries\n\u001b[1;32m   1294\u001b[0m     )\n\u001b[1;32m   1296\u001b[0m \u001b[38;5;28;01massert\u001b[39;00m start \u001b[38;5;241m<\u001b[39m\u001b[38;5;241m=\u001b[39m stop\n\u001b[0;32m-> 1298\u001b[0m \u001b[38;5;28;01mreturn\u001b[39;00m \u001b[38;5;28;43mself\u001b[39;49m\u001b[38;5;241;43m.\u001b[39;49m\u001b[43mread_tree\u001b[49m\u001b[43m(\u001b[49m\n\u001b[1;32m   1299\u001b[0m \u001b[43m    \u001b[49m\u001b[43mttree\u001b[49m\u001b[43m,\u001b[49m\n\u001b[1;32m   1300\u001b[0m \u001b[43m    \u001b[49m\u001b[43mstart\u001b[49m\u001b[43m,\u001b[49m\n\u001b[1;32m   1301\u001b[0m \u001b[43m    \u001b[49m\u001b[43mstop\u001b[49m\u001b[43m,\u001b[49m\n\u001b[1;32m   1302\u001b[0m \u001b[43m\u001b[49m\u001b[43m)\u001b[49m\n",
      "File \u001b[0;32m~/coffeafcc/development/fcc-dev/lib64/python3.12/site-packages/uproot/_dask.py:1019\u001b[0m, in \u001b[0;36mUprootReadMixin.read_tree\u001b[0;34m(self, tree, start, stop)\u001b[0m\n\u001b[1;32m   1011\u001b[0m     \u001b[38;5;66;03m# Otherwise, introduce a placeholder\u001b[39;00m\n\u001b[1;32m   1012\u001b[0m     \u001b[38;5;28;01melse\u001b[39;00m:\n\u001b[1;32m   1013\u001b[0m         container[buffer_key] \u001b[38;5;241m=\u001b[39m awkward\u001b[38;5;241m.\u001b[39mtypetracer\u001b[38;5;241m.\u001b[39mPlaceholderArray(\n\u001b[1;32m   1014\u001b[0m             nplike\u001b[38;5;241m=\u001b[39mnplike,\n\u001b[1;32m   1015\u001b[0m             shape\u001b[38;5;241m=\u001b[39m(awkward\u001b[38;5;241m.\u001b[39mtypetracer\u001b[38;5;241m.\u001b[39munknown_length,),\n\u001b[1;32m   1016\u001b[0m             dtype\u001b[38;5;241m=\u001b[39mdtype,\n\u001b[1;32m   1017\u001b[0m         )\n\u001b[0;32m-> 1019\u001b[0m out \u001b[38;5;241m=\u001b[39m \u001b[43mawkward\u001b[49m\u001b[38;5;241;43m.\u001b[39;49m\u001b[43mfrom_buffers\u001b[49m\u001b[43m(\u001b[49m\n\u001b[1;32m   1020\u001b[0m \u001b[43m    \u001b[49m\u001b[38;5;28;43mself\u001b[39;49m\u001b[38;5;241;43m.\u001b[39;49m\u001b[43mexpected_form\u001b[49m\u001b[43m,\u001b[49m\n\u001b[1;32m   1021\u001b[0m \u001b[43m    \u001b[49m\u001b[43mstop\u001b[49m\u001b[43m \u001b[49m\u001b[38;5;241;43m-\u001b[39;49m\u001b[43m \u001b[49m\u001b[43mstart\u001b[49m\u001b[43m,\u001b[49m\n\u001b[1;32m   1022\u001b[0m \u001b[43m    \u001b[49m\u001b[43mcontainer\u001b[49m\u001b[43m,\u001b[49m\n\u001b[1;32m   1023\u001b[0m \u001b[43m    \u001b[49m\u001b[43mbehavior\u001b[49m\u001b[38;5;241;43m=\u001b[39;49m\u001b[38;5;28;43mself\u001b[39;49m\u001b[38;5;241;43m.\u001b[39;49m\u001b[43mform_mapping_info\u001b[49m\u001b[38;5;241;43m.\u001b[39;49m\u001b[43mbehavior\u001b[49m\u001b[43m,\u001b[49m\n\u001b[1;32m   1024\u001b[0m \u001b[43m    \u001b[49m\u001b[43mbuffer_key\u001b[49m\u001b[38;5;241;43m=\u001b[39;49m\u001b[38;5;28;43mself\u001b[39;49m\u001b[38;5;241;43m.\u001b[39;49m\u001b[43mform_mapping_info\u001b[49m\u001b[38;5;241;43m.\u001b[39;49m\u001b[43mbuffer_key\u001b[49m\u001b[43m,\u001b[49m\n\u001b[1;32m   1025\u001b[0m \u001b[43m\u001b[49m\u001b[43m)\u001b[49m\n\u001b[1;32m   1026\u001b[0m \u001b[38;5;28;01massert\u001b[39;00m tree\u001b[38;5;241m.\u001b[39msource  \u001b[38;5;66;03m# we must be reading something here\u001b[39;00m\n\u001b[1;32m   1027\u001b[0m \u001b[38;5;28;01mreturn\u001b[39;00m out, tree\u001b[38;5;241m.\u001b[39msource\u001b[38;5;241m.\u001b[39mperformance_counters\n",
      "File \u001b[0;32m~/coffeafcc/development/fcc-dev/lib64/python3.12/site-packages/awkward/_dispatch.py:39\u001b[0m, in \u001b[0;36mnamed_high_level_function.<locals>.dispatch\u001b[0;34m(*args, **kwargs)\u001b[0m\n\u001b[1;32m     35\u001b[0m \u001b[38;5;129m@wraps\u001b[39m(func)\n\u001b[1;32m     36\u001b[0m \u001b[38;5;28;01mdef\u001b[39;00m \u001b[38;5;21mdispatch\u001b[39m(\u001b[38;5;241m*\u001b[39margs, \u001b[38;5;241m*\u001b[39m\u001b[38;5;241m*\u001b[39mkwargs):\n\u001b[1;32m     37\u001b[0m     \u001b[38;5;66;03m# NOTE: this decorator assumes that the operation is exposed under `ak.`\u001b[39;00m\n\u001b[1;32m     38\u001b[0m     \u001b[38;5;28;01mwith\u001b[39;00m OperationErrorContext(name, args, kwargs):\n\u001b[0;32m---> 39\u001b[0m         gen_or_result \u001b[38;5;241m=\u001b[39m \u001b[43mfunc\u001b[49m\u001b[43m(\u001b[49m\u001b[38;5;241;43m*\u001b[39;49m\u001b[43margs\u001b[49m\u001b[43m,\u001b[49m\u001b[43m \u001b[49m\u001b[38;5;241;43m*\u001b[39;49m\u001b[38;5;241;43m*\u001b[39;49m\u001b[43mkwargs\u001b[49m\u001b[43m)\u001b[49m\n\u001b[1;32m     40\u001b[0m         \u001b[38;5;28;01mif\u001b[39;00m isgenerator(gen_or_result):\n\u001b[1;32m     41\u001b[0m             array_likes \u001b[38;5;241m=\u001b[39m \u001b[38;5;28mnext\u001b[39m(gen_or_result)\n",
      "File \u001b[0;32m~/coffeafcc/development/fcc-dev/lib64/python3.12/site-packages/awkward/operations/ak_from_buffers.py:103\u001b[0m, in \u001b[0;36mfrom_buffers\u001b[0;34m(form, length, container, buffer_key, backend, byteorder, allow_noncanonical_form, highlevel, behavior, attrs)\u001b[0m\n\u001b[1;32m     25\u001b[0m \u001b[38;5;129m@high_level_function\u001b[39m()\n\u001b[1;32m     26\u001b[0m \u001b[38;5;28;01mdef\u001b[39;00m \u001b[38;5;21mfrom_buffers\u001b[39m(\n\u001b[1;32m     27\u001b[0m     form,\n\u001b[0;32m   (...)\u001b[0m\n\u001b[1;32m     37\u001b[0m     attrs\u001b[38;5;241m=\u001b[39m\u001b[38;5;28;01mNone\u001b[39;00m,\n\u001b[1;32m     38\u001b[0m ):\n\u001b[1;32m     39\u001b[0m \u001b[38;5;250m    \u001b[39m\u001b[38;5;124;03m\"\"\"\u001b[39;00m\n\u001b[1;32m     40\u001b[0m \u001b[38;5;124;03m    Args:\u001b[39;00m\n\u001b[1;32m     41\u001b[0m \u001b[38;5;124;03m        form (#ak.forms.Form or str/dict equivalent): The form of the Awkward\u001b[39;00m\n\u001b[0;32m   (...)\u001b[0m\n\u001b[1;32m    101\u001b[0m \u001b[38;5;124;03m    See #ak.to_buffers for examples.\u001b[39;00m\n\u001b[1;32m    102\u001b[0m \u001b[38;5;124;03m    \"\"\"\u001b[39;00m\n\u001b[0;32m--> 103\u001b[0m     \u001b[38;5;28;01mreturn\u001b[39;00m \u001b[43m_impl\u001b[49m\u001b[43m(\u001b[49m\n\u001b[1;32m    104\u001b[0m \u001b[43m        \u001b[49m\u001b[43mform\u001b[49m\u001b[43m,\u001b[49m\n\u001b[1;32m    105\u001b[0m \u001b[43m        \u001b[49m\u001b[43mlength\u001b[49m\u001b[43m,\u001b[49m\n\u001b[1;32m    106\u001b[0m \u001b[43m        \u001b[49m\u001b[43mcontainer\u001b[49m\u001b[43m,\u001b[49m\n\u001b[1;32m    107\u001b[0m \u001b[43m        \u001b[49m\u001b[43mbuffer_key\u001b[49m\u001b[43m,\u001b[49m\n\u001b[1;32m    108\u001b[0m \u001b[43m        \u001b[49m\u001b[43mbackend\u001b[49m\u001b[43m,\u001b[49m\n\u001b[1;32m    109\u001b[0m \u001b[43m        \u001b[49m\u001b[43mbyteorder\u001b[49m\u001b[43m,\u001b[49m\n\u001b[1;32m    110\u001b[0m \u001b[43m        \u001b[49m\u001b[43mhighlevel\u001b[49m\u001b[43m,\u001b[49m\n\u001b[1;32m    111\u001b[0m \u001b[43m        \u001b[49m\u001b[43mbehavior\u001b[49m\u001b[43m,\u001b[49m\n\u001b[1;32m    112\u001b[0m \u001b[43m        \u001b[49m\u001b[43mattrs\u001b[49m\u001b[43m,\u001b[49m\n\u001b[1;32m    113\u001b[0m \u001b[43m        \u001b[49m\u001b[43mallow_noncanonical_form\u001b[49m\u001b[43m,\u001b[49m\n\u001b[1;32m    114\u001b[0m \u001b[43m    \u001b[49m\u001b[43m)\u001b[49m\n",
      "File \u001b[0;32m~/coffeafcc/development/fcc-dev/lib64/python3.12/site-packages/awkward/operations/ak_from_buffers.py:149\u001b[0m, in \u001b[0;36m_impl\u001b[0;34m(form, length, container, buffer_key, backend, byteorder, highlevel, behavior, attrs, simplify)\u001b[0m\n\u001b[1;32m    143\u001b[0m     \u001b[38;5;28;01mraise\u001b[39;00m \u001b[38;5;167;01mTypeError\u001b[39;00m(\n\u001b[1;32m    144\u001b[0m         \u001b[38;5;124m\"\u001b[39m\u001b[38;5;124m'\u001b[39m\u001b[38;5;124mform\u001b[39m\u001b[38;5;124m'\u001b[39m\u001b[38;5;124m argument must be a Form or its Python dict/JSON string representation\u001b[39m\u001b[38;5;124m\"\u001b[39m\n\u001b[1;32m    145\u001b[0m     )\n\u001b[1;32m    147\u001b[0m getkey \u001b[38;5;241m=\u001b[39m regularize_buffer_key(buffer_key)\n\u001b[0;32m--> 149\u001b[0m out \u001b[38;5;241m=\u001b[39m \u001b[43m_reconstitute\u001b[49m\u001b[43m(\u001b[49m\u001b[43mform\u001b[49m\u001b[43m,\u001b[49m\u001b[43m \u001b[49m\u001b[43mlength\u001b[49m\u001b[43m,\u001b[49m\u001b[43m \u001b[49m\u001b[43mcontainer\u001b[49m\u001b[43m,\u001b[49m\u001b[43m \u001b[49m\u001b[43mgetkey\u001b[49m\u001b[43m,\u001b[49m\u001b[43m \u001b[49m\u001b[43mbackend\u001b[49m\u001b[43m,\u001b[49m\u001b[43m \u001b[49m\u001b[43mbyteorder\u001b[49m\u001b[43m,\u001b[49m\u001b[43m \u001b[49m\u001b[43msimplify\u001b[49m\u001b[43m)\u001b[49m\n\u001b[1;32m    151\u001b[0m \u001b[38;5;28;01mreturn\u001b[39;00m wrap_layout(out, highlevel\u001b[38;5;241m=\u001b[39mhighlevel, attrs\u001b[38;5;241m=\u001b[39mattrs, behavior\u001b[38;5;241m=\u001b[39mbehavior)\n",
      "File \u001b[0;32m~/coffeafcc/development/fcc-dev/lib64/python3.12/site-packages/awkward/operations/ak_from_buffers.py:404\u001b[0m, in \u001b[0;36m_reconstitute\u001b[0;34m(form, length, container, getkey, backend, byteorder, simplify)\u001b[0m\n\u001b[1;32m    395\u001b[0m     \u001b[38;5;28;01mreturn\u001b[39;00m ak\u001b[38;5;241m.\u001b[39mcontents\u001b[38;5;241m.\u001b[39mRegularArray(\n\u001b[1;32m    396\u001b[0m         content,\n\u001b[1;32m    397\u001b[0m         form\u001b[38;5;241m.\u001b[39msize,\n\u001b[1;32m    398\u001b[0m         length,\n\u001b[1;32m    399\u001b[0m         parameters\u001b[38;5;241m=\u001b[39mform\u001b[38;5;241m.\u001b[39m_parameters,\n\u001b[1;32m    400\u001b[0m     )\n\u001b[1;32m    402\u001b[0m \u001b[38;5;28;01melif\u001b[39;00m \u001b[38;5;28misinstance\u001b[39m(form, ak\u001b[38;5;241m.\u001b[39mforms\u001b[38;5;241m.\u001b[39mRecordForm):\n\u001b[1;32m    403\u001b[0m     contents \u001b[38;5;241m=\u001b[39m [\n\u001b[0;32m--> 404\u001b[0m         \u001b[43m_reconstitute\u001b[49m\u001b[43m(\u001b[49m\n\u001b[1;32m    405\u001b[0m \u001b[43m            \u001b[49m\u001b[43mcontent\u001b[49m\u001b[43m,\u001b[49m\u001b[43m \u001b[49m\u001b[43mlength\u001b[49m\u001b[43m,\u001b[49m\u001b[43m \u001b[49m\u001b[43mcontainer\u001b[49m\u001b[43m,\u001b[49m\u001b[43m \u001b[49m\u001b[43mgetkey\u001b[49m\u001b[43m,\u001b[49m\u001b[43m \u001b[49m\u001b[43mbackend\u001b[49m\u001b[43m,\u001b[49m\u001b[43m \u001b[49m\u001b[43mbyteorder\u001b[49m\u001b[43m,\u001b[49m\u001b[43m \u001b[49m\u001b[43msimplify\u001b[49m\n\u001b[1;32m    406\u001b[0m \u001b[43m        \u001b[49m\u001b[43m)\u001b[49m\n\u001b[1;32m    407\u001b[0m         \u001b[38;5;28;01mfor\u001b[39;00m content \u001b[38;5;129;01min\u001b[39;00m form\u001b[38;5;241m.\u001b[39mcontents\n\u001b[1;32m    408\u001b[0m     ]\n\u001b[1;32m    409\u001b[0m     \u001b[38;5;28;01mreturn\u001b[39;00m ak\u001b[38;5;241m.\u001b[39mcontents\u001b[38;5;241m.\u001b[39mRecordArray(\n\u001b[1;32m    410\u001b[0m         contents,\n\u001b[1;32m    411\u001b[0m         \u001b[38;5;28;01mNone\u001b[39;00m \u001b[38;5;28;01mif\u001b[39;00m form\u001b[38;5;241m.\u001b[39mis_tuple \u001b[38;5;28;01melse\u001b[39;00m form\u001b[38;5;241m.\u001b[39mfields,\n\u001b[1;32m    412\u001b[0m         length,\n\u001b[1;32m    413\u001b[0m         parameters\u001b[38;5;241m=\u001b[39mform\u001b[38;5;241m.\u001b[39m_parameters,\n\u001b[1;32m    414\u001b[0m     )\n\u001b[1;32m    416\u001b[0m \u001b[38;5;28;01melif\u001b[39;00m \u001b[38;5;28misinstance\u001b[39m(form, ak\u001b[38;5;241m.\u001b[39mforms\u001b[38;5;241m.\u001b[39mUnionForm):\n",
      "File \u001b[0;32m~/coffeafcc/development/fcc-dev/lib64/python3.12/site-packages/awkward/operations/ak_from_buffers.py:381\u001b[0m, in \u001b[0;36m_reconstitute\u001b[0;34m(form, length, container, getkey, backend, byteorder, simplify)\u001b[0m\n\u001b[1;32m    379\u001b[0m     \u001b[38;5;28;01melse\u001b[39;00m:\n\u001b[1;32m    380\u001b[0m         next_length \u001b[38;5;241m=\u001b[39m \u001b[38;5;241m0\u001b[39m \u001b[38;5;28;01mif\u001b[39;00m \u001b[38;5;28mlen\u001b[39m(offsets) \u001b[38;5;241m==\u001b[39m \u001b[38;5;241m1\u001b[39m \u001b[38;5;28;01melse\u001b[39;00m offsets[\u001b[38;5;241m-\u001b[39m\u001b[38;5;241m1\u001b[39m]\n\u001b[0;32m--> 381\u001b[0m     content \u001b[38;5;241m=\u001b[39m \u001b[43m_reconstitute\u001b[49m\u001b[43m(\u001b[49m\n\u001b[1;32m    382\u001b[0m \u001b[43m        \u001b[49m\u001b[43mform\u001b[49m\u001b[38;5;241;43m.\u001b[39;49m\u001b[43mcontent\u001b[49m\u001b[43m,\u001b[49m\u001b[43m \u001b[49m\u001b[43mnext_length\u001b[49m\u001b[43m,\u001b[49m\u001b[43m \u001b[49m\u001b[43mcontainer\u001b[49m\u001b[43m,\u001b[49m\u001b[43m \u001b[49m\u001b[43mgetkey\u001b[49m\u001b[43m,\u001b[49m\u001b[43m \u001b[49m\u001b[43mbackend\u001b[49m\u001b[43m,\u001b[49m\u001b[43m \u001b[49m\u001b[43mbyteorder\u001b[49m\u001b[43m,\u001b[49m\u001b[43m \u001b[49m\u001b[43msimplify\u001b[49m\n\u001b[1;32m    383\u001b[0m \u001b[43m    \u001b[49m\u001b[43m)\u001b[49m\n\u001b[1;32m    384\u001b[0m     \u001b[38;5;28;01mreturn\u001b[39;00m ak\u001b[38;5;241m.\u001b[39mcontents\u001b[38;5;241m.\u001b[39mListOffsetArray(\n\u001b[1;32m    385\u001b[0m         ak\u001b[38;5;241m.\u001b[39mindex\u001b[38;5;241m.\u001b[39mIndex(offsets),\n\u001b[1;32m    386\u001b[0m         content,\n\u001b[1;32m    387\u001b[0m         parameters\u001b[38;5;241m=\u001b[39mform\u001b[38;5;241m.\u001b[39m_parameters,\n\u001b[1;32m    388\u001b[0m     )\n\u001b[1;32m    390\u001b[0m \u001b[38;5;28;01melif\u001b[39;00m \u001b[38;5;28misinstance\u001b[39m(form, ak\u001b[38;5;241m.\u001b[39mforms\u001b[38;5;241m.\u001b[39mRegularForm):\n",
      "File \u001b[0;32m~/coffeafcc/development/fcc-dev/lib64/python3.12/site-packages/awkward/operations/ak_from_buffers.py:404\u001b[0m, in \u001b[0;36m_reconstitute\u001b[0;34m(form, length, container, getkey, backend, byteorder, simplify)\u001b[0m\n\u001b[1;32m    395\u001b[0m     \u001b[38;5;28;01mreturn\u001b[39;00m ak\u001b[38;5;241m.\u001b[39mcontents\u001b[38;5;241m.\u001b[39mRegularArray(\n\u001b[1;32m    396\u001b[0m         content,\n\u001b[1;32m    397\u001b[0m         form\u001b[38;5;241m.\u001b[39msize,\n\u001b[1;32m    398\u001b[0m         length,\n\u001b[1;32m    399\u001b[0m         parameters\u001b[38;5;241m=\u001b[39mform\u001b[38;5;241m.\u001b[39m_parameters,\n\u001b[1;32m    400\u001b[0m     )\n\u001b[1;32m    402\u001b[0m \u001b[38;5;28;01melif\u001b[39;00m \u001b[38;5;28misinstance\u001b[39m(form, ak\u001b[38;5;241m.\u001b[39mforms\u001b[38;5;241m.\u001b[39mRecordForm):\n\u001b[1;32m    403\u001b[0m     contents \u001b[38;5;241m=\u001b[39m [\n\u001b[0;32m--> 404\u001b[0m         \u001b[43m_reconstitute\u001b[49m\u001b[43m(\u001b[49m\n\u001b[1;32m    405\u001b[0m \u001b[43m            \u001b[49m\u001b[43mcontent\u001b[49m\u001b[43m,\u001b[49m\u001b[43m \u001b[49m\u001b[43mlength\u001b[49m\u001b[43m,\u001b[49m\u001b[43m \u001b[49m\u001b[43mcontainer\u001b[49m\u001b[43m,\u001b[49m\u001b[43m \u001b[49m\u001b[43mgetkey\u001b[49m\u001b[43m,\u001b[49m\u001b[43m \u001b[49m\u001b[43mbackend\u001b[49m\u001b[43m,\u001b[49m\u001b[43m \u001b[49m\u001b[43mbyteorder\u001b[49m\u001b[43m,\u001b[49m\u001b[43m \u001b[49m\u001b[43msimplify\u001b[49m\n\u001b[1;32m    406\u001b[0m \u001b[43m        \u001b[49m\u001b[43m)\u001b[49m\n\u001b[1;32m    407\u001b[0m         \u001b[38;5;28;01mfor\u001b[39;00m content \u001b[38;5;129;01min\u001b[39;00m form\u001b[38;5;241m.\u001b[39mcontents\n\u001b[1;32m    408\u001b[0m     ]\n\u001b[1;32m    409\u001b[0m     \u001b[38;5;28;01mreturn\u001b[39;00m ak\u001b[38;5;241m.\u001b[39mcontents\u001b[38;5;241m.\u001b[39mRecordArray(\n\u001b[1;32m    410\u001b[0m         contents,\n\u001b[1;32m    411\u001b[0m         \u001b[38;5;28;01mNone\u001b[39;00m \u001b[38;5;28;01mif\u001b[39;00m form\u001b[38;5;241m.\u001b[39mis_tuple \u001b[38;5;28;01melse\u001b[39;00m form\u001b[38;5;241m.\u001b[39mfields,\n\u001b[1;32m    412\u001b[0m         length,\n\u001b[1;32m    413\u001b[0m         parameters\u001b[38;5;241m=\u001b[39mform\u001b[38;5;241m.\u001b[39m_parameters,\n\u001b[1;32m    414\u001b[0m     )\n\u001b[1;32m    416\u001b[0m \u001b[38;5;28;01melif\u001b[39;00m \u001b[38;5;28misinstance\u001b[39m(form, ak\u001b[38;5;241m.\u001b[39mforms\u001b[38;5;241m.\u001b[39mUnionForm):\n",
      "File \u001b[0;32m~/coffeafcc/development/fcc-dev/lib64/python3.12/site-packages/awkward/operations/ak_from_buffers.py:404\u001b[0m, in \u001b[0;36m_reconstitute\u001b[0;34m(form, length, container, getkey, backend, byteorder, simplify)\u001b[0m\n\u001b[1;32m    395\u001b[0m     \u001b[38;5;28;01mreturn\u001b[39;00m ak\u001b[38;5;241m.\u001b[39mcontents\u001b[38;5;241m.\u001b[39mRegularArray(\n\u001b[1;32m    396\u001b[0m         content,\n\u001b[1;32m    397\u001b[0m         form\u001b[38;5;241m.\u001b[39msize,\n\u001b[1;32m    398\u001b[0m         length,\n\u001b[1;32m    399\u001b[0m         parameters\u001b[38;5;241m=\u001b[39mform\u001b[38;5;241m.\u001b[39m_parameters,\n\u001b[1;32m    400\u001b[0m     )\n\u001b[1;32m    402\u001b[0m \u001b[38;5;28;01melif\u001b[39;00m \u001b[38;5;28misinstance\u001b[39m(form, ak\u001b[38;5;241m.\u001b[39mforms\u001b[38;5;241m.\u001b[39mRecordForm):\n\u001b[1;32m    403\u001b[0m     contents \u001b[38;5;241m=\u001b[39m [\n\u001b[0;32m--> 404\u001b[0m         \u001b[43m_reconstitute\u001b[49m\u001b[43m(\u001b[49m\n\u001b[1;32m    405\u001b[0m \u001b[43m            \u001b[49m\u001b[43mcontent\u001b[49m\u001b[43m,\u001b[49m\u001b[43m \u001b[49m\u001b[43mlength\u001b[49m\u001b[43m,\u001b[49m\u001b[43m \u001b[49m\u001b[43mcontainer\u001b[49m\u001b[43m,\u001b[49m\u001b[43m \u001b[49m\u001b[43mgetkey\u001b[49m\u001b[43m,\u001b[49m\u001b[43m \u001b[49m\u001b[43mbackend\u001b[49m\u001b[43m,\u001b[49m\u001b[43m \u001b[49m\u001b[43mbyteorder\u001b[49m\u001b[43m,\u001b[49m\u001b[43m \u001b[49m\u001b[43msimplify\u001b[49m\n\u001b[1;32m    406\u001b[0m \u001b[43m        \u001b[49m\u001b[43m)\u001b[49m\n\u001b[1;32m    407\u001b[0m         \u001b[38;5;28;01mfor\u001b[39;00m content \u001b[38;5;129;01min\u001b[39;00m form\u001b[38;5;241m.\u001b[39mcontents\n\u001b[1;32m    408\u001b[0m     ]\n\u001b[1;32m    409\u001b[0m     \u001b[38;5;28;01mreturn\u001b[39;00m ak\u001b[38;5;241m.\u001b[39mcontents\u001b[38;5;241m.\u001b[39mRecordArray(\n\u001b[1;32m    410\u001b[0m         contents,\n\u001b[1;32m    411\u001b[0m         \u001b[38;5;28;01mNone\u001b[39;00m \u001b[38;5;28;01mif\u001b[39;00m form\u001b[38;5;241m.\u001b[39mis_tuple \u001b[38;5;28;01melse\u001b[39;00m form\u001b[38;5;241m.\u001b[39mfields,\n\u001b[1;32m    412\u001b[0m         length,\n\u001b[1;32m    413\u001b[0m         parameters\u001b[38;5;241m=\u001b[39mform\u001b[38;5;241m.\u001b[39m_parameters,\n\u001b[1;32m    414\u001b[0m     )\n\u001b[1;32m    416\u001b[0m \u001b[38;5;28;01melif\u001b[39;00m \u001b[38;5;28misinstance\u001b[39m(form, ak\u001b[38;5;241m.\u001b[39mforms\u001b[38;5;241m.\u001b[39mUnionForm):\n",
      "File \u001b[0;32m~/coffeafcc/development/fcc-dev/lib64/python3.12/site-packages/awkward/operations/ak_from_buffers.py:197\u001b[0m, in \u001b[0;36m_reconstitute\u001b[0;34m(form, length, container, getkey, backend, byteorder, simplify)\u001b[0m\n\u001b[1;32m    195\u001b[0m raw_array \u001b[38;5;241m=\u001b[39m container[getkey(form, \u001b[38;5;124m\"\u001b[39m\u001b[38;5;124mdata\u001b[39m\u001b[38;5;124m\"\u001b[39m)]\n\u001b[1;32m    196\u001b[0m real_length \u001b[38;5;241m=\u001b[39m length \u001b[38;5;241m*\u001b[39m math\u001b[38;5;241m.\u001b[39mprod(form\u001b[38;5;241m.\u001b[39minner_shape)\n\u001b[0;32m--> 197\u001b[0m data \u001b[38;5;241m=\u001b[39m \u001b[43m_from_buffer\u001b[49m\u001b[43m(\u001b[49m\n\u001b[1;32m    198\u001b[0m \u001b[43m    \u001b[49m\u001b[43mbackend\u001b[49m\u001b[38;5;241;43m.\u001b[39;49m\u001b[43mnplike\u001b[49m\u001b[43m,\u001b[49m\n\u001b[1;32m    199\u001b[0m \u001b[43m    \u001b[49m\u001b[43mraw_array\u001b[49m\u001b[43m,\u001b[49m\n\u001b[1;32m    200\u001b[0m \u001b[43m    \u001b[49m\u001b[43mdtype\u001b[49m\u001b[38;5;241;43m=\u001b[39;49m\u001b[43mdtype\u001b[49m\u001b[43m,\u001b[49m\n\u001b[1;32m    201\u001b[0m \u001b[43m    \u001b[49m\u001b[43mcount\u001b[49m\u001b[38;5;241;43m=\u001b[39;49m\u001b[43mreal_length\u001b[49m\u001b[43m,\u001b[49m\n\u001b[1;32m    202\u001b[0m \u001b[43m    \u001b[49m\u001b[43mbyteorder\u001b[49m\u001b[38;5;241;43m=\u001b[39;49m\u001b[43mbyteorder\u001b[49m\u001b[43m,\u001b[49m\n\u001b[1;32m    203\u001b[0m \u001b[43m\u001b[49m\u001b[43m)\u001b[49m\n\u001b[1;32m    204\u001b[0m \u001b[38;5;28;01mif\u001b[39;00m form\u001b[38;5;241m.\u001b[39minner_shape \u001b[38;5;241m!=\u001b[39m ():\n\u001b[1;32m    205\u001b[0m     data \u001b[38;5;241m=\u001b[39m backend\u001b[38;5;241m.\u001b[39mnplike\u001b[38;5;241m.\u001b[39mreshape(data, (length, \u001b[38;5;241m*\u001b[39mform\u001b[38;5;241m.\u001b[39minner_shape))\n",
      "File \u001b[0;32m~/coffeafcc/development/fcc-dev/lib64/python3.12/site-packages/awkward/operations/ak_from_buffers.py:174\u001b[0m, in \u001b[0;36m_from_buffer\u001b[0;34m(nplike, buffer, dtype, count, byteorder)\u001b[0m\n\u001b[1;32m    171\u001b[0m     array \u001b[38;5;241m=\u001b[39m nplike\u001b[38;5;241m.\u001b[39mreshape(buffer\u001b[38;5;241m.\u001b[39mview(dtype), shape\u001b[38;5;241m=\u001b[39m(\u001b[38;5;241m-\u001b[39m\u001b[38;5;241m1\u001b[39m,), copy\u001b[38;5;241m=\u001b[39m\u001b[38;5;28;01mFalse\u001b[39;00m)\n\u001b[1;32m    173\u001b[0m     \u001b[38;5;28;01mif\u001b[39;00m array\u001b[38;5;241m.\u001b[39msize \u001b[38;5;241m<\u001b[39m count:\n\u001b[0;32m--> 174\u001b[0m         \u001b[38;5;28;01mraise\u001b[39;00m \u001b[38;5;167;01mTypeError\u001b[39;00m(\n\u001b[1;32m    175\u001b[0m             \u001b[38;5;124mf\u001b[39m\u001b[38;5;124m\"\u001b[39m\u001b[38;5;124msize of array (\u001b[39m\u001b[38;5;132;01m{\u001b[39;00marray\u001b[38;5;241m.\u001b[39msize\u001b[38;5;132;01m}\u001b[39;00m\u001b[38;5;124m) is less than size of form (\u001b[39m\u001b[38;5;132;01m{\u001b[39;00mcount\u001b[38;5;132;01m}\u001b[39;00m\u001b[38;5;124m)\u001b[39m\u001b[38;5;124m\"\u001b[39m\n\u001b[1;32m    176\u001b[0m         )\n\u001b[1;32m    178\u001b[0m     \u001b[38;5;28;01mreturn\u001b[39;00m array[:count]\n\u001b[1;32m    179\u001b[0m \u001b[38;5;28;01melse\u001b[39;00m:\n",
      "\u001b[0;31mTypeError\u001b[0m: size of array (0) is less than size of form (2739462)",
      "\u001b[0m\nThis error occurred while calling\n\n    ak.from_buffers(\n        RecordForm-instance\n        100000\n        {'/offsets/AllMuon%230%2FAllMuon%230.index%2C%21load%2C%21offsets': <...\n        behavior = {'Systematic': <class 'coffea.nanoevents.methods.base.Syst...\n        buffer_key = partial-instance\n    )"
     ]
    }
   ],
   "source": [
    "events.ReconstructedParticlesidx.compute()"
   ]
  },
  {
   "cell_type": "markdown",
   "id": "b6ee6b7a-f0fd-4aa4-a716-6c905ea19120",
   "metadata": {},
   "source": [
    "### Its possible to get some of the individual leaves (capable only in delayed mode ofc)"
   ]
  },
  {
   "cell_type": "code",
   "execution_count": 6,
   "id": "3fb616b6-b0c0-4b64-9e23-ec78b59c51d2",
   "metadata": {},
   "outputs": [
    {
     "data": {
      "text/html": [
       "<pre>[[{index: -2, collectionID: -2}, {...}, ..., {index: -2, collectionID: -2}],\n",
       " [{index: -2, collectionID: -2}, {...}, ..., {index: -2, collectionID: -2}],\n",
       " [{index: -2, collectionID: -2}, {...}, ..., {index: -2, collectionID: -2}],\n",
       " [{index: -2, collectionID: -2}, {...}, ..., {index: -2, collectionID: -2}],\n",
       " [{index: -2, collectionID: -2}, {...}, ..., {index: -2, collectionID: -2}],\n",
       " [{index: -2, collectionID: -2}, {...}, ..., {index: -2, collectionID: -2}],\n",
       " [{index: -2, collectionID: -2}, {...}, ..., {index: -2, collectionID: -2}],\n",
       " [{index: -2, collectionID: -2}, {...}, ..., {index: -2, collectionID: -2}],\n",
       " [{index: -2, collectionID: -2}, {...}, ..., {index: -2, collectionID: -2}],\n",
       " [{index: -2, collectionID: -2}, {...}, ..., {index: -2, collectionID: -2}],\n",
       " ...,\n",
       " [{index: -2, collectionID: -2}, {...}, ..., {index: -2, collectionID: -2}],\n",
       " [{index: -2, collectionID: -2}, {...}, ..., {index: -2, collectionID: -2}],\n",
       " [{index: -2, collectionID: -2}, {...}, ..., {index: -2, collectionID: -2}],\n",
       " [{index: -2, collectionID: -2}, {...}, ..., {index: -2, collectionID: -2}],\n",
       " [{index: -2, collectionID: -2}, {...}, ..., {index: -2, collectionID: -2}],\n",
       " [{index: -2, collectionID: -2}, {...}, ..., {index: -2, collectionID: -2}],\n",
       " [{index: -2, collectionID: -2}, {...}, ..., {index: -2, collectionID: -2}],\n",
       " [{index: -2, collectionID: -2}, {...}, ..., {index: -2, collectionID: -2}],\n",
       " [{index: -2, collectionID: -2}, {...}, ..., {index: -2, collectionID: -2}]]\n",
       "------------------------------------------------------------------------------------------\n",
       "type: 100000 * var * NanoCollection[\n",
       "    index: int32[parameters={&quot;__doc__&quot;: &quot;index[ReconstructedParticles#4_]&quot;}],\n",
       "    collectionID: int32[parameters={&quot;__doc__&quot;: &quot;collectionID[ReconstructedParticles#4_]&quot;}]\n",
       "]</pre>"
      ],
      "text/plain": [
       "<NanoCollectionArray [[{index: -2, ...}, ..., {...}], ...] type='100000 * v...'>"
      ]
     },
     "execution_count": 6,
     "metadata": {},
     "output_type": "execute_result"
    }
   ],
   "source": [
    "events.ReconstructedParticlesidx.ReconstructedParticlesidx4.compute()"
   ]
  },
  {
   "cell_type": "code",
   "execution_count": 7,
   "id": "3e386a99-5a8f-47d8-8b1a-843760d4f667",
   "metadata": {},
   "outputs": [
    {
     "name": "stdout",
     "output_type": "stream",
     "text": [
      "ReconstructedParticlesidx0 : [[{index: 0, collectionID: 8}, {...}, ..., {index: 22, collectionID: 8}], ...]\n",
      "ReconstructedParticlesidx4 : [[{index: -2, collectionID: -2}, ..., {index: -2, collectionID: -2}], ...]\n",
      "ReconstructedParticlesidx5 : [[{index: -2, collectionID: -2}, ..., {index: -2, collectionID: -2}], ...]\n",
      "ReconstructedParticlesidx1 : [[{index: 0, collectionID: 13}, {...}, ..., {index: 22, collectionID: 13}], ...]\n",
      "ReconstructedParticlesidx2 leaf is corrupted\n",
      "ReconstructedParticlesidx3 : [[{index: 0, collectionID: 11}, {...}, ..., {index: 22, collectionID: 11}], ...]\n"
     ]
    }
   ],
   "source": [
    "for idx in events.ReconstructedParticlesidx.fields:\n",
    "    try :\n",
    "        print(f\"{idx} :\", events.ReconstructedParticlesidx[idx].compute())\n",
    "    except:\n",
    "        print(f\"{idx} leaf is corrupted\")"
   ]
  },
  {
   "cell_type": "markdown",
   "id": "5c32b95f-641c-424c-af7c-10b3e54d13aa",
   "metadata": {},
   "source": [
    "### Take the simplest example:"
   ]
  },
  {
   "cell_type": "markdown",
   "id": "2988f14f-f4d0-416d-867e-ec33e269a441",
   "metadata": {},
   "source": [
    "#### Case A : This is possible :"
   ]
  },
  {
   "cell_type": "code",
   "execution_count": 8,
   "id": "fc4098be-d45c-4d52-8d88-a4839a92a605",
   "metadata": {},
   "outputs": [],
   "source": [
    "x = [\n",
    "    [1,2,3],\n",
    "    [4],\n",
    "    []\n",
    "]\n",
    "y = [\n",
    "    [5,2,4],\n",
    "    [4],\n",
    "    []\n",
    "]\n",
    "z = [\n",
    "    [1,5,5],\n",
    "    [7],\n",
    "    []\n",
    "]\n",
    "#These arrays have same dimensions"
   ]
  },
  {
   "cell_type": "code",
   "execution_count": 9,
   "id": "ec075b0b-054d-4fa6-aadd-2ec1d3ca10ef",
   "metadata": {},
   "outputs": [
    {
     "data": {
      "text/html": [
       "<pre>[[{x: 1, y: 5, z: 1}, {x: 2, y: 2, z: 5}, {x: 3, y: 4, z: 5}],\n",
       " [{x: 4, y: 4, z: 7}],\n",
       " []]\n",
       "--------------------------------------------------------------\n",
       "type: 3 * var * Possible[\n",
       "    x: int64,\n",
       "    y: int64,\n",
       "    z: int64\n",
       "]</pre>"
      ],
      "text/plain": [
       "<Array [[{x: 1, y: 5, z: 1}, ..., {...}], ...] type='3 * var * Possible[x: ...'>"
      ]
     },
     "execution_count": 9,
     "metadata": {},
     "output_type": "execute_result"
    }
   ],
   "source": [
    "P = ak.zip(\n",
    "    {\"x\":x, \"y\":y, \"z\":z},\n",
    "    with_name=\"Possible\"\n",
    ")\n",
    "P"
   ]
  },
  {
   "cell_type": "code",
   "execution_count": 10,
   "id": "fb44607d-eea8-45a6-8741-93ce7463f178",
   "metadata": {},
   "outputs": [
    {
     "name": "stdout",
     "output_type": "stream",
     "text": [
      "[[1, 2, 3], [4], []]\n",
      "[[5, 2, 4], [4], []]\n",
      "[[1, 5, 5], [7], []]\n"
     ]
    }
   ],
   "source": [
    "print(f\"{P.x}\\n{P.y}\\n{P.z}\")"
   ]
  },
  {
   "cell_type": "markdown",
   "id": "7485ba30-dc39-4751-b4b4-b3d0dce61bf5",
   "metadata": {},
   "source": [
    "#### Case B : This is NOT possible :"
   ]
  },
  {
   "cell_type": "code",
   "execution_count": 11,
   "id": "eeb490d5-f6db-4f4a-ac42-34cd7f45ca5e",
   "metadata": {},
   "outputs": [],
   "source": [
    "x = [\n",
    "    [1,2],\n",
    "    [4,5],\n",
    "    []\n",
    "]\n",
    "y = [\n",
    "    [5,2,4],\n",
    "    [4],\n",
    "    [6,7]\n",
    "]\n",
    "z = [\n",
    "    [],\n",
    "    [7,6],\n",
    "    [5,5,5]\n",
    "]\n",
    "#These arrays have different dimensions in the \"within events axis\" but same number of events (3)"
   ]
  },
  {
   "cell_type": "code",
   "execution_count": 12,
   "id": "453fd501-b54a-4deb-9c7f-62fb1840960b",
   "metadata": {
    "scrolled": true
   },
   "outputs": [
    {
     "ename": "ValueError",
     "evalue": "cannot broadcast nested list",
     "output_type": "error",
     "traceback": [
      "\u001b[0;31m---------------------------------------------------------------------------\u001b[0m",
      "\u001b[0;31mValueError\u001b[0m                                Traceback (most recent call last)",
      "Cell \u001b[0;32mIn[12], line 1\u001b[0m\n\u001b[0;32m----> 1\u001b[0m I \u001b[38;5;241m=\u001b[39m \u001b[43mak\u001b[49m\u001b[38;5;241;43m.\u001b[39;49m\u001b[43mzip\u001b[49m\u001b[43m(\u001b[49m\n\u001b[1;32m      2\u001b[0m \u001b[43m    \u001b[49m\u001b[43m{\u001b[49m\u001b[38;5;124;43m\"\u001b[39;49m\u001b[38;5;124;43mx\u001b[39;49m\u001b[38;5;124;43m\"\u001b[39;49m\u001b[43m:\u001b[49m\u001b[43mx\u001b[49m\u001b[43m,\u001b[49m\u001b[43m \u001b[49m\u001b[38;5;124;43m\"\u001b[39;49m\u001b[38;5;124;43my\u001b[39;49m\u001b[38;5;124;43m\"\u001b[39;49m\u001b[43m:\u001b[49m\u001b[43my\u001b[49m\u001b[43m,\u001b[49m\u001b[43m \u001b[49m\u001b[38;5;124;43m\"\u001b[39;49m\u001b[38;5;124;43mz\u001b[39;49m\u001b[38;5;124;43m\"\u001b[39;49m\u001b[43m:\u001b[49m\u001b[43mz\u001b[49m\u001b[43m}\u001b[49m\u001b[43m,\u001b[49m\n\u001b[1;32m      3\u001b[0m \u001b[43m    \u001b[49m\u001b[43mwith_name\u001b[49m\u001b[38;5;241;43m=\u001b[39;49m\u001b[38;5;124;43m\"\u001b[39;49m\u001b[38;5;124;43mImpossible\u001b[39;49m\u001b[38;5;124;43m\"\u001b[39;49m\n\u001b[1;32m      4\u001b[0m \u001b[43m)\u001b[49m\n\u001b[1;32m      5\u001b[0m I\n",
      "File \u001b[0;32m~/coffeafcc/development/fcc-dev/lib64/python3.12/site-packages/awkward/_dispatch.py:64\u001b[0m, in \u001b[0;36mnamed_high_level_function.<locals>.dispatch\u001b[0;34m(*args, **kwargs)\u001b[0m\n\u001b[1;32m     62\u001b[0m \u001b[38;5;66;03m# Failed to find a custom overload, so resume the original function\u001b[39;00m\n\u001b[1;32m     63\u001b[0m \u001b[38;5;28;01mtry\u001b[39;00m:\n\u001b[0;32m---> 64\u001b[0m     \u001b[38;5;28;43mnext\u001b[39;49m\u001b[43m(\u001b[49m\u001b[43mgen_or_result\u001b[49m\u001b[43m)\u001b[49m\n\u001b[1;32m     65\u001b[0m \u001b[38;5;28;01mexcept\u001b[39;00m \u001b[38;5;167;01mStopIteration\u001b[39;00m \u001b[38;5;28;01mas\u001b[39;00m err:\n\u001b[1;32m     66\u001b[0m     \u001b[38;5;28;01mreturn\u001b[39;00m err\u001b[38;5;241m.\u001b[39mvalue\n",
      "File \u001b[0;32m~/coffeafcc/development/fcc-dev/lib64/python3.12/site-packages/awkward/operations/ak_zip.py:151\u001b[0m, in \u001b[0;36mzip\u001b[0;34m(arrays, depth_limit, parameters, with_name, right_broadcast, optiontype_outside_record, highlevel, behavior, attrs)\u001b[0m\n\u001b[1;32m    148\u001b[0m     \u001b[38;5;28;01myield\u001b[39;00m arrays\n\u001b[1;32m    150\u001b[0m \u001b[38;5;66;03m# Implementation\u001b[39;00m\n\u001b[0;32m--> 151\u001b[0m \u001b[38;5;28;01mreturn\u001b[39;00m \u001b[43m_impl\u001b[49m\u001b[43m(\u001b[49m\n\u001b[1;32m    152\u001b[0m \u001b[43m    \u001b[49m\u001b[43marrays\u001b[49m\u001b[43m,\u001b[49m\n\u001b[1;32m    153\u001b[0m \u001b[43m    \u001b[49m\u001b[43mdepth_limit\u001b[49m\u001b[43m,\u001b[49m\n\u001b[1;32m    154\u001b[0m \u001b[43m    \u001b[49m\u001b[43mparameters\u001b[49m\u001b[43m,\u001b[49m\n\u001b[1;32m    155\u001b[0m \u001b[43m    \u001b[49m\u001b[43mwith_name\u001b[49m\u001b[43m,\u001b[49m\n\u001b[1;32m    156\u001b[0m \u001b[43m    \u001b[49m\u001b[43mright_broadcast\u001b[49m\u001b[43m,\u001b[49m\n\u001b[1;32m    157\u001b[0m \u001b[43m    \u001b[49m\u001b[43moptiontype_outside_record\u001b[49m\u001b[43m,\u001b[49m\n\u001b[1;32m    158\u001b[0m \u001b[43m    \u001b[49m\u001b[43mhighlevel\u001b[49m\u001b[43m,\u001b[49m\n\u001b[1;32m    159\u001b[0m \u001b[43m    \u001b[49m\u001b[43mbehavior\u001b[49m\u001b[43m,\u001b[49m\n\u001b[1;32m    160\u001b[0m \u001b[43m    \u001b[49m\u001b[43mattrs\u001b[49m\u001b[43m,\u001b[49m\n\u001b[1;32m    161\u001b[0m \u001b[43m\u001b[49m\u001b[43m)\u001b[49m\n",
      "File \u001b[0;32m~/coffeafcc/development/fcc-dev/lib64/python3.12/site-packages/awkward/operations/ak_zip.py:241\u001b[0m, in \u001b[0;36m_impl\u001b[0;34m(arrays, depth_limit, parameters, with_name, right_broadcast, optiontype_outside_record, highlevel, behavior, attrs)\u001b[0m\n\u001b[1;32m    238\u001b[0m     \u001b[38;5;28;01melse\u001b[39;00m:\n\u001b[1;32m    239\u001b[0m         \u001b[38;5;28;01mreturn\u001b[39;00m \u001b[38;5;28;01mNone\u001b[39;00m\n\u001b[0;32m--> 241\u001b[0m out \u001b[38;5;241m=\u001b[39m \u001b[43mak\u001b[49m\u001b[38;5;241;43m.\u001b[39;49m\u001b[43m_broadcasting\u001b[49m\u001b[38;5;241;43m.\u001b[39;49m\u001b[43mbroadcast_and_apply\u001b[49m\u001b[43m(\u001b[49m\n\u001b[1;32m    242\u001b[0m \u001b[43m    \u001b[49m\u001b[43mlayouts\u001b[49m\u001b[43m,\u001b[49m\u001b[43m \u001b[49m\u001b[43maction\u001b[49m\u001b[43m,\u001b[49m\u001b[43m \u001b[49m\u001b[43mright_broadcast\u001b[49m\u001b[38;5;241;43m=\u001b[39;49m\u001b[43mright_broadcast\u001b[49m\n\u001b[1;32m    243\u001b[0m \u001b[43m\u001b[49m\u001b[43m)\u001b[49m\n\u001b[1;32m    244\u001b[0m \u001b[38;5;28;01massert\u001b[39;00m \u001b[38;5;28misinstance\u001b[39m(out, \u001b[38;5;28mtuple\u001b[39m) \u001b[38;5;129;01mand\u001b[39;00m \u001b[38;5;28mlen\u001b[39m(out) \u001b[38;5;241m==\u001b[39m \u001b[38;5;241m1\u001b[39m\n\u001b[1;32m    245\u001b[0m out \u001b[38;5;241m=\u001b[39m out[\u001b[38;5;241m0\u001b[39m]\n",
      "File \u001b[0;32m~/coffeafcc/development/fcc-dev/lib64/python3.12/site-packages/awkward/_broadcasting.py:968\u001b[0m, in \u001b[0;36mbroadcast_and_apply\u001b[0;34m(inputs, action, depth_context, lateral_context, allow_records, left_broadcast, right_broadcast, numpy_to_regular, regular_to_jagged, function_name, broadcast_parameters_rule)\u001b[0m\n\u001b[1;32m    966\u001b[0m backend \u001b[38;5;241m=\u001b[39m backend_of(\u001b[38;5;241m*\u001b[39minputs, coerce_to_common\u001b[38;5;241m=\u001b[39m\u001b[38;5;28;01mFalse\u001b[39;00m)\n\u001b[1;32m    967\u001b[0m isscalar \u001b[38;5;241m=\u001b[39m []\n\u001b[0;32m--> 968\u001b[0m out \u001b[38;5;241m=\u001b[39m \u001b[43mapply_step\u001b[49m\u001b[43m(\u001b[49m\n\u001b[1;32m    969\u001b[0m \u001b[43m    \u001b[49m\u001b[43mbackend\u001b[49m\u001b[43m,\u001b[49m\n\u001b[1;32m    970\u001b[0m \u001b[43m    \u001b[49m\u001b[43mbroadcast_pack\u001b[49m\u001b[43m(\u001b[49m\u001b[43minputs\u001b[49m\u001b[43m,\u001b[49m\u001b[43m \u001b[49m\u001b[43misscalar\u001b[49m\u001b[43m)\u001b[49m\u001b[43m,\u001b[49m\n\u001b[1;32m    971\u001b[0m \u001b[43m    \u001b[49m\u001b[43maction\u001b[49m\u001b[43m,\u001b[49m\n\u001b[1;32m    972\u001b[0m \u001b[43m    \u001b[49m\u001b[38;5;241;43m0\u001b[39;49m\u001b[43m,\u001b[49m\n\u001b[1;32m    973\u001b[0m \u001b[43m    \u001b[49m\u001b[43mdepth_context\u001b[49m\u001b[43m,\u001b[49m\n\u001b[1;32m    974\u001b[0m \u001b[43m    \u001b[49m\u001b[43mlateral_context\u001b[49m\u001b[43m,\u001b[49m\n\u001b[1;32m    975\u001b[0m \u001b[43m    \u001b[49m\u001b[43m{\u001b[49m\n\u001b[1;32m    976\u001b[0m \u001b[43m        \u001b[49m\u001b[38;5;124;43m\"\u001b[39;49m\u001b[38;5;124;43mallow_records\u001b[39;49m\u001b[38;5;124;43m\"\u001b[39;49m\u001b[43m:\u001b[49m\u001b[43m \u001b[49m\u001b[43mallow_records\u001b[49m\u001b[43m,\u001b[49m\n\u001b[1;32m    977\u001b[0m \u001b[43m        \u001b[49m\u001b[38;5;124;43m\"\u001b[39;49m\u001b[38;5;124;43mleft_broadcast\u001b[39;49m\u001b[38;5;124;43m\"\u001b[39;49m\u001b[43m:\u001b[49m\u001b[43m \u001b[49m\u001b[43mleft_broadcast\u001b[49m\u001b[43m,\u001b[49m\n\u001b[1;32m    978\u001b[0m \u001b[43m        \u001b[49m\u001b[38;5;124;43m\"\u001b[39;49m\u001b[38;5;124;43mright_broadcast\u001b[39;49m\u001b[38;5;124;43m\"\u001b[39;49m\u001b[43m:\u001b[49m\u001b[43m \u001b[49m\u001b[43mright_broadcast\u001b[49m\u001b[43m,\u001b[49m\n\u001b[1;32m    979\u001b[0m \u001b[43m        \u001b[49m\u001b[38;5;124;43m\"\u001b[39;49m\u001b[38;5;124;43mnumpy_to_regular\u001b[39;49m\u001b[38;5;124;43m\"\u001b[39;49m\u001b[43m:\u001b[49m\u001b[43m \u001b[49m\u001b[43mnumpy_to_regular\u001b[49m\u001b[43m,\u001b[49m\n\u001b[1;32m    980\u001b[0m \u001b[43m        \u001b[49m\u001b[38;5;124;43m\"\u001b[39;49m\u001b[38;5;124;43mregular_to_jagged\u001b[39;49m\u001b[38;5;124;43m\"\u001b[39;49m\u001b[43m:\u001b[49m\u001b[43m \u001b[49m\u001b[43mregular_to_jagged\u001b[49m\u001b[43m,\u001b[49m\n\u001b[1;32m    981\u001b[0m \u001b[43m        \u001b[49m\u001b[38;5;124;43m\"\u001b[39;49m\u001b[38;5;124;43mfunction_name\u001b[39;49m\u001b[38;5;124;43m\"\u001b[39;49m\u001b[43m:\u001b[49m\u001b[43m \u001b[49m\u001b[43mfunction_name\u001b[49m\u001b[43m,\u001b[49m\n\u001b[1;32m    982\u001b[0m \u001b[43m        \u001b[49m\u001b[38;5;124;43m\"\u001b[39;49m\u001b[38;5;124;43mbroadcast_parameters_rule\u001b[39;49m\u001b[38;5;124;43m\"\u001b[39;49m\u001b[43m:\u001b[49m\u001b[43m \u001b[49m\u001b[43mbroadcast_parameters_rule\u001b[49m\u001b[43m,\u001b[49m\n\u001b[1;32m    983\u001b[0m \u001b[43m    \u001b[49m\u001b[43m}\u001b[49m\u001b[43m,\u001b[49m\n\u001b[1;32m    984\u001b[0m \u001b[43m\u001b[49m\u001b[43m)\u001b[49m\n\u001b[1;32m    985\u001b[0m \u001b[38;5;28;01massert\u001b[39;00m \u001b[38;5;28misinstance\u001b[39m(out, \u001b[38;5;28mtuple\u001b[39m)\n\u001b[1;32m    986\u001b[0m \u001b[38;5;28;01mreturn\u001b[39;00m \u001b[38;5;28mtuple\u001b[39m(broadcast_unpack(x, isscalar) \u001b[38;5;28;01mfor\u001b[39;00m x \u001b[38;5;129;01min\u001b[39;00m out)\n",
      "File \u001b[0;32m~/coffeafcc/development/fcc-dev/lib64/python3.12/site-packages/awkward/_broadcasting.py:946\u001b[0m, in \u001b[0;36mapply_step\u001b[0;34m(backend, inputs, action, depth, depth_context, lateral_context, options)\u001b[0m\n\u001b[1;32m    944\u001b[0m     \u001b[38;5;28;01mreturn\u001b[39;00m result\n\u001b[1;32m    945\u001b[0m \u001b[38;5;28;01melif\u001b[39;00m result \u001b[38;5;129;01mis\u001b[39;00m \u001b[38;5;28;01mNone\u001b[39;00m:\n\u001b[0;32m--> 946\u001b[0m     \u001b[38;5;28;01mreturn\u001b[39;00m \u001b[43mcontinuation\u001b[49m\u001b[43m(\u001b[49m\u001b[43m)\u001b[49m\n\u001b[1;32m    947\u001b[0m \u001b[38;5;28;01melse\u001b[39;00m:\n\u001b[1;32m    948\u001b[0m     \u001b[38;5;28;01mraise\u001b[39;00m \u001b[38;5;167;01mAssertionError\u001b[39;00m(result)\n",
      "File \u001b[0;32m~/coffeafcc/development/fcc-dev/lib64/python3.12/site-packages/awkward/_broadcasting.py:915\u001b[0m, in \u001b[0;36mapply_step.<locals>.continuation\u001b[0;34m()\u001b[0m\n\u001b[1;32m    913\u001b[0m \u001b[38;5;66;03m# Any non-string list-types?\u001b[39;00m\n\u001b[1;32m    914\u001b[0m \u001b[38;5;28;01melif\u001b[39;00m \u001b[38;5;28many\u001b[39m(x\u001b[38;5;241m.\u001b[39mis_list \u001b[38;5;129;01mand\u001b[39;00m \u001b[38;5;129;01mnot\u001b[39;00m is_string_like(x) \u001b[38;5;28;01mfor\u001b[39;00m x \u001b[38;5;129;01min\u001b[39;00m contents):\n\u001b[0;32m--> 915\u001b[0m     \u001b[38;5;28;01mreturn\u001b[39;00m \u001b[43mbroadcast_any_list\u001b[49m\u001b[43m(\u001b[49m\u001b[43m)\u001b[49m\n\u001b[1;32m    917\u001b[0m \u001b[38;5;66;03m# Any RecordArrays?\u001b[39;00m\n\u001b[1;32m    918\u001b[0m \u001b[38;5;28;01melif\u001b[39;00m \u001b[38;5;28many\u001b[39m(x\u001b[38;5;241m.\u001b[39mis_record \u001b[38;5;28;01mfor\u001b[39;00m x \u001b[38;5;129;01min\u001b[39;00m contents):\n",
      "File \u001b[0;32m~/coffeafcc/development/fcc-dev/lib64/python3.12/site-packages/awkward/_broadcasting.py:622\u001b[0m, in \u001b[0;36mapply_step.<locals>.broadcast_any_list\u001b[0;34m()\u001b[0m\n\u001b[1;32m    619\u001b[0m         nextinputs\u001b[38;5;241m.\u001b[39mappend(x)\n\u001b[1;32m    620\u001b[0m         nextparameters\u001b[38;5;241m.\u001b[39mappend(NO_PARAMETERS)\n\u001b[0;32m--> 622\u001b[0m outcontent \u001b[38;5;241m=\u001b[39m \u001b[43mapply_step\u001b[49m\u001b[43m(\u001b[49m\n\u001b[1;32m    623\u001b[0m \u001b[43m    \u001b[49m\u001b[43mbackend\u001b[49m\u001b[43m,\u001b[49m\n\u001b[1;32m    624\u001b[0m \u001b[43m    \u001b[49m\u001b[43mnextinputs\u001b[49m\u001b[43m,\u001b[49m\n\u001b[1;32m    625\u001b[0m \u001b[43m    \u001b[49m\u001b[43maction\u001b[49m\u001b[43m,\u001b[49m\n\u001b[1;32m    626\u001b[0m \u001b[43m    \u001b[49m\u001b[43mdepth\u001b[49m\u001b[43m \u001b[49m\u001b[38;5;241;43m+\u001b[39;49m\u001b[43m \u001b[49m\u001b[38;5;241;43m1\u001b[39;49m\u001b[43m,\u001b[49m\n\u001b[1;32m    627\u001b[0m \u001b[43m    \u001b[49m\u001b[43mcopy\u001b[49m\u001b[38;5;241;43m.\u001b[39;49m\u001b[43mcopy\u001b[49m\u001b[43m(\u001b[49m\u001b[43mdepth_context\u001b[49m\u001b[43m)\u001b[49m\u001b[43m,\u001b[49m\n\u001b[1;32m    628\u001b[0m \u001b[43m    \u001b[49m\u001b[43mlateral_context\u001b[49m\u001b[43m,\u001b[49m\n\u001b[1;32m    629\u001b[0m \u001b[43m    \u001b[49m\u001b[43moptions\u001b[49m\u001b[43m,\u001b[49m\n\u001b[1;32m    630\u001b[0m \u001b[43m\u001b[49m\u001b[43m)\u001b[49m\n\u001b[1;32m    631\u001b[0m \u001b[38;5;28;01massert\u001b[39;00m \u001b[38;5;28misinstance\u001b[39m(outcontent, \u001b[38;5;28mtuple\u001b[39m)\n\u001b[1;32m    632\u001b[0m parameters \u001b[38;5;241m=\u001b[39m parameters_factory(nextparameters, \u001b[38;5;28mlen\u001b[39m(outcontent))\n",
      "File \u001b[0;32m~/coffeafcc/development/fcc-dev/lib64/python3.12/site-packages/awkward/_broadcasting.py:946\u001b[0m, in \u001b[0;36mapply_step\u001b[0;34m(backend, inputs, action, depth, depth_context, lateral_context, options)\u001b[0m\n\u001b[1;32m    944\u001b[0m     \u001b[38;5;28;01mreturn\u001b[39;00m result\n\u001b[1;32m    945\u001b[0m \u001b[38;5;28;01melif\u001b[39;00m result \u001b[38;5;129;01mis\u001b[39;00m \u001b[38;5;28;01mNone\u001b[39;00m:\n\u001b[0;32m--> 946\u001b[0m     \u001b[38;5;28;01mreturn\u001b[39;00m \u001b[43mcontinuation\u001b[49m\u001b[43m(\u001b[49m\u001b[43m)\u001b[49m\n\u001b[1;32m    947\u001b[0m \u001b[38;5;28;01melse\u001b[39;00m:\n\u001b[1;32m    948\u001b[0m     \u001b[38;5;28;01mraise\u001b[39;00m \u001b[38;5;167;01mAssertionError\u001b[39;00m(result)\n",
      "File \u001b[0;32m~/coffeafcc/development/fcc-dev/lib64/python3.12/site-packages/awkward/_broadcasting.py:915\u001b[0m, in \u001b[0;36mapply_step.<locals>.continuation\u001b[0;34m()\u001b[0m\n\u001b[1;32m    913\u001b[0m \u001b[38;5;66;03m# Any non-string list-types?\u001b[39;00m\n\u001b[1;32m    914\u001b[0m \u001b[38;5;28;01melif\u001b[39;00m \u001b[38;5;28many\u001b[39m(x\u001b[38;5;241m.\u001b[39mis_list \u001b[38;5;129;01mand\u001b[39;00m \u001b[38;5;129;01mnot\u001b[39;00m is_string_like(x) \u001b[38;5;28;01mfor\u001b[39;00m x \u001b[38;5;129;01min\u001b[39;00m contents):\n\u001b[0;32m--> 915\u001b[0m     \u001b[38;5;28;01mreturn\u001b[39;00m \u001b[43mbroadcast_any_list\u001b[49m\u001b[43m(\u001b[49m\u001b[43m)\u001b[49m\n\u001b[1;32m    917\u001b[0m \u001b[38;5;66;03m# Any RecordArrays?\u001b[39;00m\n\u001b[1;32m    918\u001b[0m \u001b[38;5;28;01melif\u001b[39;00m \u001b[38;5;28many\u001b[39m(x\u001b[38;5;241m.\u001b[39mis_record \u001b[38;5;28;01mfor\u001b[39;00m x \u001b[38;5;129;01min\u001b[39;00m contents):\n",
      "File \u001b[0;32m~/coffeafcc/development/fcc-dev/lib64/python3.12/site-packages/awkward/_broadcasting.py:671\u001b[0m, in \u001b[0;36mapply_step.<locals>.broadcast_any_list\u001b[0;34m()\u001b[0m\n\u001b[1;32m    669\u001b[0m \u001b[38;5;28;01mfor\u001b[39;00m x, x_is_string \u001b[38;5;129;01min\u001b[39;00m \u001b[38;5;28mzip\u001b[39m(inputs, input_is_string):\n\u001b[1;32m    670\u001b[0m     \u001b[38;5;28;01mif\u001b[39;00m \u001b[38;5;28misinstance\u001b[39m(x, listtypes) \u001b[38;5;129;01mand\u001b[39;00m \u001b[38;5;129;01mnot\u001b[39;00m x_is_string:\n\u001b[0;32m--> 671\u001b[0m         next_content \u001b[38;5;241m=\u001b[39m \u001b[43mbroadcast_to_offsets_avoiding_carry\u001b[49m\u001b[43m(\u001b[49m\u001b[43mx\u001b[49m\u001b[43m,\u001b[49m\u001b[43m \u001b[49m\u001b[43moffsets\u001b[49m\u001b[43m)\u001b[49m\n\u001b[1;32m    672\u001b[0m         nextinputs\u001b[38;5;241m.\u001b[39mappend(next_content)\n\u001b[1;32m    673\u001b[0m         nextparameters\u001b[38;5;241m.\u001b[39mappend(x\u001b[38;5;241m.\u001b[39m_parameters)\n",
      "File \u001b[0;32m~/coffeafcc/development/fcc-dev/lib64/python3.12/site-packages/awkward/_broadcasting.py:371\u001b[0m, in \u001b[0;36mbroadcast_to_offsets_avoiding_carry\u001b[0;34m(list_content, offsets)\u001b[0m\n\u001b[1;32m    369\u001b[0m         \u001b[38;5;28;01mreturn\u001b[39;00m list_content\u001b[38;5;241m.\u001b[39mcontent[:next_length]\n\u001b[1;32m    370\u001b[0m     \u001b[38;5;28;01melse\u001b[39;00m:\n\u001b[0;32m--> 371\u001b[0m         \u001b[38;5;28;01mreturn\u001b[39;00m \u001b[43mlist_content\u001b[49m\u001b[38;5;241;43m.\u001b[39;49m\u001b[43m_broadcast_tooffsets64\u001b[49m\u001b[43m(\u001b[49m\u001b[43moffsets\u001b[49m\u001b[43m)\u001b[49m\u001b[38;5;241m.\u001b[39mcontent\n\u001b[1;32m    372\u001b[0m \u001b[38;5;28;01melif\u001b[39;00m \u001b[38;5;28misinstance\u001b[39m(list_content, ListArray):\n\u001b[1;32m    373\u001b[0m     \u001b[38;5;66;03m# Is this list contiguous?\u001b[39;00m\n\u001b[1;32m    374\u001b[0m     \u001b[38;5;28;01mif\u001b[39;00m index_nplike\u001b[38;5;241m.\u001b[39marray_equal(\n\u001b[1;32m    375\u001b[0m         list_content\u001b[38;5;241m.\u001b[39mstarts\u001b[38;5;241m.\u001b[39mdata[\u001b[38;5;241m1\u001b[39m:], list_content\u001b[38;5;241m.\u001b[39mstops\u001b[38;5;241m.\u001b[39mdata[:\u001b[38;5;241m-\u001b[39m\u001b[38;5;241m1\u001b[39m]\n\u001b[1;32m    376\u001b[0m     ):\n\u001b[1;32m    377\u001b[0m         \u001b[38;5;66;03m# Does this list match the offsets?\u001b[39;00m\n",
      "File \u001b[0;32m~/coffeafcc/development/fcc-dev/lib64/python3.12/site-packages/awkward/contents/listoffsetarray.py:411\u001b[0m, in \u001b[0;36mListOffsetArray._broadcast_tooffsets64\u001b[0;34m(self, offsets)\u001b[0m\n\u001b[1;32m    406\u001b[0m     next_content \u001b[38;5;241m=\u001b[39m \u001b[38;5;28mself\u001b[39m\u001b[38;5;241m.\u001b[39m_content[this_start:]\n\u001b[1;32m    408\u001b[0m \u001b[38;5;28;01mif\u001b[39;00m index_nplike\u001b[38;5;241m.\u001b[39mknown_data \u001b[38;5;129;01mand\u001b[39;00m \u001b[38;5;129;01mnot\u001b[39;00m index_nplike\u001b[38;5;241m.\u001b[39marray_equal(\n\u001b[1;32m    409\u001b[0m     this_zero_offsets, offsets\u001b[38;5;241m.\u001b[39mdata\n\u001b[1;32m    410\u001b[0m ):\n\u001b[0;32m--> 411\u001b[0m     \u001b[38;5;28;01mraise\u001b[39;00m \u001b[38;5;167;01mValueError\u001b[39;00m(\u001b[38;5;124m\"\u001b[39m\u001b[38;5;124mcannot broadcast nested list\u001b[39m\u001b[38;5;124m\"\u001b[39m)\n\u001b[1;32m    413\u001b[0m \u001b[38;5;28;01mreturn\u001b[39;00m ListOffsetArray(\n\u001b[1;32m    414\u001b[0m     offsets, next_content[: offsets[\u001b[38;5;241m-\u001b[39m\u001b[38;5;241m1\u001b[39m]], parameters\u001b[38;5;241m=\u001b[39m\u001b[38;5;28mself\u001b[39m\u001b[38;5;241m.\u001b[39m_parameters\n\u001b[1;32m    415\u001b[0m )\n",
      "\u001b[0;31mValueError\u001b[0m: cannot broadcast nested list",
      "\u001b[0m\nThis error occurred while calling\n\n    ak.zip(\n        {'x': [[1, 2], [4, 5], []], 'y': [[5, 2, 4], [4], [6, 7]], 'z': [[], ...\n        with_name = 'Impossible'\n    )"
     ]
    }
   ],
   "source": [
    "I = ak.zip(\n",
    "    {\"x\":x, \"y\":y, \"z\":z},\n",
    "    with_name=\"Impossible\"\n",
    ")\n",
    "I"
   ]
  },
  {
   "cell_type": "markdown",
   "id": "95c826dc-3d3a-4a86-9910-d642e5879230",
   "metadata": {},
   "source": [
    "### Comparison with Reconstructed Particles"
   ]
  },
  {
   "cell_type": "markdown",
   "id": "aa42a6a5-7d37-4be4-b8a1-dbd9190bc28b",
   "metadata": {},
   "source": [
    "```\n",
    "Initially I thought ReconstructedParticlesidx0, ReconstructedParticlesidx1, ReconstructedParticlesidx2, etc might have different lengths within the events\n",
    "```"
   ]
  },
  {
   "cell_type": "markdown",
   "id": "a3a54d0b-65e0-46bc-b17f-c8f0e11bd565",
   "metadata": {},
   "source": [
    "```\n",
    "But some investigation showed that ReconstructedParticlesidx0, ReconstructedParticlesidx1, ReconstructedParticlesidx2, etc have the same number of events and same lengths within the event axis \n",
    "```"
   ]
  },
  {
   "cell_type": "code",
   "execution_count": 13,
   "id": "305113a9-e73e-4cc8-9d25-bc1e4faefc0a",
   "metadata": {},
   "outputs": [
    {
     "name": "stdout",
     "output_type": "stream",
     "text": [
      "No. of events for idx0 :\t 100000\n",
      "Num within events for idx0:\t [23, 28, 38, 29, 22, 27, 32, 38, 17, ..., 23, 35, 23, 38, 33, 41, 17, 23, 37]\n"
     ]
    }
   ],
   "source": [
    "ev0 = dak.num(events.ReconstructedParticlesidx.ReconstructedParticlesidx0, axis = 0).compute()\n",
    "n0 = dak.num(events.ReconstructedParticlesidx.ReconstructedParticlesidx0, axis = 1).compute()\n",
    "\n",
    "print(f\"No. of events for idx0 :\\t {ev0}\\nNum within events for idx0:\\t {n0}\" )"
   ]
  },
  {
   "cell_type": "code",
   "execution_count": 14,
   "id": "557d5b6f-82d7-45fa-ba8c-58b74f310f19",
   "metadata": {},
   "outputs": [
    {
     "name": "stdout",
     "output_type": "stream",
     "text": [
      "No. of events for idx1 :\t 100000\n",
      "Num within events for idx1:\t [23, 28, 38, 29, 22, 27, 32, 38, 17, ..., 23, 35, 23, 38, 33, 41, 17, 23, 37]\n"
     ]
    }
   ],
   "source": [
    "ev1 = dak.num(events.ReconstructedParticlesidx.ReconstructedParticlesidx5, axis = 0).compute()\n",
    "n1 = dak.num(events.ReconstructedParticlesidx.ReconstructedParticlesidx5, axis = 1).compute()\n",
    "\n",
    "print(f\"No. of events for idx1 :\\t {ev1}\\nNum within events for idx1:\\t {n1}\" )"
   ]
  },
  {
   "cell_type": "code",
   "execution_count": 15,
   "id": "5e1a709b-8758-4d59-8c31-31582a493e1e",
   "metadata": {},
   "outputs": [
    {
     "data": {
      "text/plain": [
       "np.int64(100000)"
      ]
     },
     "execution_count": 15,
     "metadata": {},
     "output_type": "execute_result"
    }
   ],
   "source": [
    "ak.sum(n1 == n0) # All True"
   ]
  },
  {
   "cell_type": "code",
   "execution_count": 16,
   "id": "e869d752-ddb3-40f0-b274-97c5a4b06769",
   "metadata": {},
   "outputs": [
    {
     "name": "stdout",
     "output_type": "stream",
     "text": [
      "No. of events for ReconstructedParticlesidx0 :\t 100000\n",
      "Num within events for ReconstructedParticlesidx0:\t [23, 28, 38, 29, 22, 27, 32, 38, 17, ..., 23, 35, 23, 38, 33, 41, 17, 23, 37]\n",
      "No. of events for ReconstructedParticlesidx4 :\t 100000\n",
      "Num within events for ReconstructedParticlesidx4:\t [23, 28, 38, 29, 22, 27, 32, 38, 17, ..., 23, 35, 23, 38, 33, 41, 17, 23, 37]\n",
      "No. of events for ReconstructedParticlesidx5 :\t 100000\n",
      "Num within events for ReconstructedParticlesidx5:\t [23, 28, 38, 29, 22, 27, 32, 38, 17, ..., 23, 35, 23, 38, 33, 41, 17, 23, 37]\n",
      "No. of events for ReconstructedParticlesidx1 :\t 100000\n",
      "Num within events for ReconstructedParticlesidx1:\t [23, 28, 38, 29, 22, 27, 32, 38, 17, ..., 23, 35, 23, 38, 33, 41, 17, 23, 37]\n",
      "No. of events for ReconstructedParticlesidx2 :\t 100000\n",
      "Num within events for ReconstructedParticlesidx2:\t [23, 28, 38, 29, 22, 27, 32, 38, 17, ..., 23, 35, 23, 38, 33, 41, 17, 23, 37]\n",
      "No. of events for ReconstructedParticlesidx3 :\t 100000\n",
      "Num within events for ReconstructedParticlesidx3:\t [23, 28, 38, 29, 22, 27, 32, 38, 17, ..., 23, 35, 23, 38, 33, 41, 17, 23, 37]\n"
     ]
    }
   ],
   "source": [
    "for idx in events.ReconstructedParticlesidx.fields:\n",
    "    ev = dak.num(events.ReconstructedParticlesidx[idx], axis = 0).compute()\n",
    "    n = dak.num(events.ReconstructedParticlesidx[idx], axis = 1).compute()\n",
    "    print(f\"No. of events for {idx} :\\t {ev}\\nNum within events for {idx}:\\t {n}\" )"
   ]
  },
  {
   "cell_type": "markdown",
   "id": "b340945d-b913-40cb-bee8-ce52ccccb81b",
   "metadata": {},
   "source": [
    "### They are all the same, then, why cant i zip them?:Probably because some of the leaves are corrupted"
   ]
  },
  {
   "cell_type": "code",
   "execution_count": 17,
   "id": "bcaafa82-cb17-4e4d-aa67-75636dacb1a9",
   "metadata": {},
   "outputs": [],
   "source": [
    "idx = ak.zip({\n",
    "    \"idx0\":events.ReconstructedParticlesidx.ReconstructedParticlesidx0,\n",
    "    \"idx1\":events.ReconstructedParticlesidx.ReconstructedParticlesidx1,\n",
    "    \"idx2\":events.ReconstructedParticlesidx.ReconstructedParticlesidx2,\n",
    "    \"idx3\":events.ReconstructedParticlesidx.ReconstructedParticlesidx3,\n",
    "    \"idx4\":events.ReconstructedParticlesidx.ReconstructedParticlesidx4,\n",
    "    \"idx5\":events.ReconstructedParticlesidx.ReconstructedParticlesidx5,\n",
    "},\n",
    "       with_name=\"idx\"\n",
    "      )"
   ]
  },
  {
   "cell_type": "code",
   "execution_count": 18,
   "id": "06bd00dc-3c65-434a-af30-27c80481275b",
   "metadata": {
    "scrolled": true
   },
   "outputs": [
    {
     "ename": "TypeError",
     "evalue": "size of array (0) is less than size of form (2739462)",
     "output_type": "error",
     "traceback": [
      "\u001b[0;31m---------------------------------------------------------------------------\u001b[0m",
      "\u001b[0;31mTypeError\u001b[0m                                 Traceback (most recent call last)",
      "Cell \u001b[0;32mIn[18], line 1\u001b[0m\n\u001b[0;32m----> 1\u001b[0m \u001b[43midx\u001b[49m\u001b[38;5;241;43m.\u001b[39;49m\u001b[43mcompute\u001b[49m\u001b[43m(\u001b[49m\u001b[43m)\u001b[49m\n",
      "File \u001b[0;32m~/coffeafcc/development/fcc-dev/lib64/python3.12/site-packages/dask/base.py:376\u001b[0m, in \u001b[0;36mDaskMethodsMixin.compute\u001b[0;34m(self, **kwargs)\u001b[0m\n\u001b[1;32m    352\u001b[0m \u001b[38;5;28;01mdef\u001b[39;00m \u001b[38;5;21mcompute\u001b[39m(\u001b[38;5;28mself\u001b[39m, \u001b[38;5;241m*\u001b[39m\u001b[38;5;241m*\u001b[39mkwargs):\n\u001b[1;32m    353\u001b[0m \u001b[38;5;250m    \u001b[39m\u001b[38;5;124;03m\"\"\"Compute this dask collection\u001b[39;00m\n\u001b[1;32m    354\u001b[0m \n\u001b[1;32m    355\u001b[0m \u001b[38;5;124;03m    This turns a lazy Dask collection into its in-memory equivalent.\u001b[39;00m\n\u001b[0;32m   (...)\u001b[0m\n\u001b[1;32m    374\u001b[0m \u001b[38;5;124;03m    dask.compute\u001b[39;00m\n\u001b[1;32m    375\u001b[0m \u001b[38;5;124;03m    \"\"\"\u001b[39;00m\n\u001b[0;32m--> 376\u001b[0m     (result,) \u001b[38;5;241m=\u001b[39m \u001b[43mcompute\u001b[49m\u001b[43m(\u001b[49m\u001b[38;5;28;43mself\u001b[39;49m\u001b[43m,\u001b[49m\u001b[43m \u001b[49m\u001b[43mtraverse\u001b[49m\u001b[38;5;241;43m=\u001b[39;49m\u001b[38;5;28;43;01mFalse\u001b[39;49;00m\u001b[43m,\u001b[49m\u001b[43m \u001b[49m\u001b[38;5;241;43m*\u001b[39;49m\u001b[38;5;241;43m*\u001b[39;49m\u001b[43mkwargs\u001b[49m\u001b[43m)\u001b[49m\n\u001b[1;32m    377\u001b[0m     \u001b[38;5;28;01mreturn\u001b[39;00m result\n",
      "File \u001b[0;32m~/coffeafcc/development/fcc-dev/lib64/python3.12/site-packages/dask/base.py:662\u001b[0m, in \u001b[0;36mcompute\u001b[0;34m(traverse, optimize_graph, scheduler, get, *args, **kwargs)\u001b[0m\n\u001b[1;32m    659\u001b[0m     postcomputes\u001b[38;5;241m.\u001b[39mappend(x\u001b[38;5;241m.\u001b[39m__dask_postcompute__())\n\u001b[1;32m    661\u001b[0m \u001b[38;5;28;01mwith\u001b[39;00m shorten_traceback():\n\u001b[0;32m--> 662\u001b[0m     results \u001b[38;5;241m=\u001b[39m \u001b[43mschedule\u001b[49m\u001b[43m(\u001b[49m\u001b[43mdsk\u001b[49m\u001b[43m,\u001b[49m\u001b[43m \u001b[49m\u001b[43mkeys\u001b[49m\u001b[43m,\u001b[49m\u001b[43m \u001b[49m\u001b[38;5;241;43m*\u001b[39;49m\u001b[38;5;241;43m*\u001b[39;49m\u001b[43mkwargs\u001b[49m\u001b[43m)\u001b[49m\n\u001b[1;32m    664\u001b[0m \u001b[38;5;28;01mreturn\u001b[39;00m repack([f(r, \u001b[38;5;241m*\u001b[39ma) \u001b[38;5;28;01mfor\u001b[39;00m r, (f, a) \u001b[38;5;129;01min\u001b[39;00m \u001b[38;5;28mzip\u001b[39m(results, postcomputes)])\n",
      "File \u001b[0;32m~/coffeafcc/development/fcc-dev/lib64/python3.12/site-packages/uproot/_dask.py:1345\u001b[0m, in \u001b[0;36m_UprootOpenAndRead.__call__\u001b[0;34m(self, blockwise_args)\u001b[0m\n\u001b[1;32m   1331\u001b[0m     \u001b[38;5;28;01mexcept\u001b[39;00m \u001b[38;5;28mself\u001b[39m\u001b[38;5;241m.\u001b[39mallowed_exceptions \u001b[38;5;28;01mas\u001b[39;00m err:\n\u001b[1;32m   1332\u001b[0m         \u001b[38;5;28;01mreturn\u001b[39;00m (\n\u001b[1;32m   1333\u001b[0m             \u001b[38;5;28mself\u001b[39m\u001b[38;5;241m.\u001b[39mmock_empty(backend\u001b[38;5;241m=\u001b[39m\u001b[38;5;124m\"\u001b[39m\u001b[38;5;124mcpu\u001b[39m\u001b[38;5;124m\"\u001b[39m),\n\u001b[1;32m   1334\u001b[0m             _report_failure(\n\u001b[0;32m   (...)\u001b[0m\n\u001b[1;32m   1342\u001b[0m             ),\n\u001b[1;32m   1343\u001b[0m         )\n\u001b[0;32m-> 1345\u001b[0m result, _ \u001b[38;5;241m=\u001b[39m \u001b[38;5;28;43mself\u001b[39;49m\u001b[38;5;241;43m.\u001b[39;49m\u001b[43m_call_impl\u001b[49m\u001b[43m(\u001b[49m\n\u001b[1;32m   1346\u001b[0m \u001b[43m    \u001b[49m\u001b[43mfile_path\u001b[49m\u001b[43m,\u001b[49m\u001b[43m \u001b[49m\u001b[43mobject_path\u001b[49m\u001b[43m,\u001b[49m\u001b[43m \u001b[49m\u001b[43mi_step_or_start\u001b[49m\u001b[43m,\u001b[49m\u001b[43m \u001b[49m\u001b[43mn_steps_or_stop\u001b[49m\u001b[43m,\u001b[49m\u001b[43m \u001b[49m\u001b[43mis_chunk\u001b[49m\n\u001b[1;32m   1347\u001b[0m \u001b[43m\u001b[49m\u001b[43m)\u001b[49m\n\u001b[1;32m   1348\u001b[0m \u001b[38;5;28;01mreturn\u001b[39;00m result\n",
      "File \u001b[0;32m~/coffeafcc/development/fcc-dev/lib64/python3.12/site-packages/uproot/_dask.py:1298\u001b[0m, in \u001b[0;36m_UprootOpenAndRead._call_impl\u001b[0;34m(self, file_path, object_path, i_step_or_start, n_steps_or_stop, is_chunk)\u001b[0m\n\u001b[1;32m   1292\u001b[0m     start, stop \u001b[38;5;241m=\u001b[39m \u001b[38;5;28mmin\u001b[39m((i_step_or_start \u001b[38;5;241m*\u001b[39m events_per_step), num_entries), \u001b[38;5;28mmin\u001b[39m(\n\u001b[1;32m   1293\u001b[0m         (i_step_or_start \u001b[38;5;241m+\u001b[39m \u001b[38;5;241m1\u001b[39m) \u001b[38;5;241m*\u001b[39m events_per_step, num_entries\n\u001b[1;32m   1294\u001b[0m     )\n\u001b[1;32m   1296\u001b[0m \u001b[38;5;28;01massert\u001b[39;00m start \u001b[38;5;241m<\u001b[39m\u001b[38;5;241m=\u001b[39m stop\n\u001b[0;32m-> 1298\u001b[0m \u001b[38;5;28;01mreturn\u001b[39;00m \u001b[38;5;28;43mself\u001b[39;49m\u001b[38;5;241;43m.\u001b[39;49m\u001b[43mread_tree\u001b[49m\u001b[43m(\u001b[49m\n\u001b[1;32m   1299\u001b[0m \u001b[43m    \u001b[49m\u001b[43mttree\u001b[49m\u001b[43m,\u001b[49m\n\u001b[1;32m   1300\u001b[0m \u001b[43m    \u001b[49m\u001b[43mstart\u001b[49m\u001b[43m,\u001b[49m\n\u001b[1;32m   1301\u001b[0m \u001b[43m    \u001b[49m\u001b[43mstop\u001b[49m\u001b[43m,\u001b[49m\n\u001b[1;32m   1302\u001b[0m \u001b[43m\u001b[49m\u001b[43m)\u001b[49m\n",
      "File \u001b[0;32m~/coffeafcc/development/fcc-dev/lib64/python3.12/site-packages/uproot/_dask.py:1019\u001b[0m, in \u001b[0;36mUprootReadMixin.read_tree\u001b[0;34m(self, tree, start, stop)\u001b[0m\n\u001b[1;32m   1011\u001b[0m     \u001b[38;5;66;03m# Otherwise, introduce a placeholder\u001b[39;00m\n\u001b[1;32m   1012\u001b[0m     \u001b[38;5;28;01melse\u001b[39;00m:\n\u001b[1;32m   1013\u001b[0m         container[buffer_key] \u001b[38;5;241m=\u001b[39m awkward\u001b[38;5;241m.\u001b[39mtypetracer\u001b[38;5;241m.\u001b[39mPlaceholderArray(\n\u001b[1;32m   1014\u001b[0m             nplike\u001b[38;5;241m=\u001b[39mnplike,\n\u001b[1;32m   1015\u001b[0m             shape\u001b[38;5;241m=\u001b[39m(awkward\u001b[38;5;241m.\u001b[39mtypetracer\u001b[38;5;241m.\u001b[39munknown_length,),\n\u001b[1;32m   1016\u001b[0m             dtype\u001b[38;5;241m=\u001b[39mdtype,\n\u001b[1;32m   1017\u001b[0m         )\n\u001b[0;32m-> 1019\u001b[0m out \u001b[38;5;241m=\u001b[39m \u001b[43mawkward\u001b[49m\u001b[38;5;241;43m.\u001b[39;49m\u001b[43mfrom_buffers\u001b[49m\u001b[43m(\u001b[49m\n\u001b[1;32m   1020\u001b[0m \u001b[43m    \u001b[49m\u001b[38;5;28;43mself\u001b[39;49m\u001b[38;5;241;43m.\u001b[39;49m\u001b[43mexpected_form\u001b[49m\u001b[43m,\u001b[49m\n\u001b[1;32m   1021\u001b[0m \u001b[43m    \u001b[49m\u001b[43mstop\u001b[49m\u001b[43m \u001b[49m\u001b[38;5;241;43m-\u001b[39;49m\u001b[43m \u001b[49m\u001b[43mstart\u001b[49m\u001b[43m,\u001b[49m\n\u001b[1;32m   1022\u001b[0m \u001b[43m    \u001b[49m\u001b[43mcontainer\u001b[49m\u001b[43m,\u001b[49m\n\u001b[1;32m   1023\u001b[0m \u001b[43m    \u001b[49m\u001b[43mbehavior\u001b[49m\u001b[38;5;241;43m=\u001b[39;49m\u001b[38;5;28;43mself\u001b[39;49m\u001b[38;5;241;43m.\u001b[39;49m\u001b[43mform_mapping_info\u001b[49m\u001b[38;5;241;43m.\u001b[39;49m\u001b[43mbehavior\u001b[49m\u001b[43m,\u001b[49m\n\u001b[1;32m   1024\u001b[0m \u001b[43m    \u001b[49m\u001b[43mbuffer_key\u001b[49m\u001b[38;5;241;43m=\u001b[39;49m\u001b[38;5;28;43mself\u001b[39;49m\u001b[38;5;241;43m.\u001b[39;49m\u001b[43mform_mapping_info\u001b[49m\u001b[38;5;241;43m.\u001b[39;49m\u001b[43mbuffer_key\u001b[49m\u001b[43m,\u001b[49m\n\u001b[1;32m   1025\u001b[0m \u001b[43m\u001b[49m\u001b[43m)\u001b[49m\n\u001b[1;32m   1026\u001b[0m \u001b[38;5;28;01massert\u001b[39;00m tree\u001b[38;5;241m.\u001b[39msource  \u001b[38;5;66;03m# we must be reading something here\u001b[39;00m\n\u001b[1;32m   1027\u001b[0m \u001b[38;5;28;01mreturn\u001b[39;00m out, tree\u001b[38;5;241m.\u001b[39msource\u001b[38;5;241m.\u001b[39mperformance_counters\n",
      "File \u001b[0;32m~/coffeafcc/development/fcc-dev/lib64/python3.12/site-packages/awkward/_dispatch.py:39\u001b[0m, in \u001b[0;36mnamed_high_level_function.<locals>.dispatch\u001b[0;34m(*args, **kwargs)\u001b[0m\n\u001b[1;32m     35\u001b[0m \u001b[38;5;129m@wraps\u001b[39m(func)\n\u001b[1;32m     36\u001b[0m \u001b[38;5;28;01mdef\u001b[39;00m \u001b[38;5;21mdispatch\u001b[39m(\u001b[38;5;241m*\u001b[39margs, \u001b[38;5;241m*\u001b[39m\u001b[38;5;241m*\u001b[39mkwargs):\n\u001b[1;32m     37\u001b[0m     \u001b[38;5;66;03m# NOTE: this decorator assumes that the operation is exposed under `ak.`\u001b[39;00m\n\u001b[1;32m     38\u001b[0m     \u001b[38;5;28;01mwith\u001b[39;00m OperationErrorContext(name, args, kwargs):\n\u001b[0;32m---> 39\u001b[0m         gen_or_result \u001b[38;5;241m=\u001b[39m \u001b[43mfunc\u001b[49m\u001b[43m(\u001b[49m\u001b[38;5;241;43m*\u001b[39;49m\u001b[43margs\u001b[49m\u001b[43m,\u001b[49m\u001b[43m \u001b[49m\u001b[38;5;241;43m*\u001b[39;49m\u001b[38;5;241;43m*\u001b[39;49m\u001b[43mkwargs\u001b[49m\u001b[43m)\u001b[49m\n\u001b[1;32m     40\u001b[0m         \u001b[38;5;28;01mif\u001b[39;00m isgenerator(gen_or_result):\n\u001b[1;32m     41\u001b[0m             array_likes \u001b[38;5;241m=\u001b[39m \u001b[38;5;28mnext\u001b[39m(gen_or_result)\n",
      "File \u001b[0;32m~/coffeafcc/development/fcc-dev/lib64/python3.12/site-packages/awkward/operations/ak_from_buffers.py:103\u001b[0m, in \u001b[0;36mfrom_buffers\u001b[0;34m(form, length, container, buffer_key, backend, byteorder, allow_noncanonical_form, highlevel, behavior, attrs)\u001b[0m\n\u001b[1;32m     25\u001b[0m \u001b[38;5;129m@high_level_function\u001b[39m()\n\u001b[1;32m     26\u001b[0m \u001b[38;5;28;01mdef\u001b[39;00m \u001b[38;5;21mfrom_buffers\u001b[39m(\n\u001b[1;32m     27\u001b[0m     form,\n\u001b[0;32m   (...)\u001b[0m\n\u001b[1;32m     37\u001b[0m     attrs\u001b[38;5;241m=\u001b[39m\u001b[38;5;28;01mNone\u001b[39;00m,\n\u001b[1;32m     38\u001b[0m ):\n\u001b[1;32m     39\u001b[0m \u001b[38;5;250m    \u001b[39m\u001b[38;5;124;03m\"\"\"\u001b[39;00m\n\u001b[1;32m     40\u001b[0m \u001b[38;5;124;03m    Args:\u001b[39;00m\n\u001b[1;32m     41\u001b[0m \u001b[38;5;124;03m        form (#ak.forms.Form or str/dict equivalent): The form of the Awkward\u001b[39;00m\n\u001b[0;32m   (...)\u001b[0m\n\u001b[1;32m    101\u001b[0m \u001b[38;5;124;03m    See #ak.to_buffers for examples.\u001b[39;00m\n\u001b[1;32m    102\u001b[0m \u001b[38;5;124;03m    \"\"\"\u001b[39;00m\n\u001b[0;32m--> 103\u001b[0m     \u001b[38;5;28;01mreturn\u001b[39;00m \u001b[43m_impl\u001b[49m\u001b[43m(\u001b[49m\n\u001b[1;32m    104\u001b[0m \u001b[43m        \u001b[49m\u001b[43mform\u001b[49m\u001b[43m,\u001b[49m\n\u001b[1;32m    105\u001b[0m \u001b[43m        \u001b[49m\u001b[43mlength\u001b[49m\u001b[43m,\u001b[49m\n\u001b[1;32m    106\u001b[0m \u001b[43m        \u001b[49m\u001b[43mcontainer\u001b[49m\u001b[43m,\u001b[49m\n\u001b[1;32m    107\u001b[0m \u001b[43m        \u001b[49m\u001b[43mbuffer_key\u001b[49m\u001b[43m,\u001b[49m\n\u001b[1;32m    108\u001b[0m \u001b[43m        \u001b[49m\u001b[43mbackend\u001b[49m\u001b[43m,\u001b[49m\n\u001b[1;32m    109\u001b[0m \u001b[43m        \u001b[49m\u001b[43mbyteorder\u001b[49m\u001b[43m,\u001b[49m\n\u001b[1;32m    110\u001b[0m \u001b[43m        \u001b[49m\u001b[43mhighlevel\u001b[49m\u001b[43m,\u001b[49m\n\u001b[1;32m    111\u001b[0m \u001b[43m        \u001b[49m\u001b[43mbehavior\u001b[49m\u001b[43m,\u001b[49m\n\u001b[1;32m    112\u001b[0m \u001b[43m        \u001b[49m\u001b[43mattrs\u001b[49m\u001b[43m,\u001b[49m\n\u001b[1;32m    113\u001b[0m \u001b[43m        \u001b[49m\u001b[43mallow_noncanonical_form\u001b[49m\u001b[43m,\u001b[49m\n\u001b[1;32m    114\u001b[0m \u001b[43m    \u001b[49m\u001b[43m)\u001b[49m\n",
      "File \u001b[0;32m~/coffeafcc/development/fcc-dev/lib64/python3.12/site-packages/awkward/operations/ak_from_buffers.py:149\u001b[0m, in \u001b[0;36m_impl\u001b[0;34m(form, length, container, buffer_key, backend, byteorder, highlevel, behavior, attrs, simplify)\u001b[0m\n\u001b[1;32m    143\u001b[0m     \u001b[38;5;28;01mraise\u001b[39;00m \u001b[38;5;167;01mTypeError\u001b[39;00m(\n\u001b[1;32m    144\u001b[0m         \u001b[38;5;124m\"\u001b[39m\u001b[38;5;124m'\u001b[39m\u001b[38;5;124mform\u001b[39m\u001b[38;5;124m'\u001b[39m\u001b[38;5;124m argument must be a Form or its Python dict/JSON string representation\u001b[39m\u001b[38;5;124m\"\u001b[39m\n\u001b[1;32m    145\u001b[0m     )\n\u001b[1;32m    147\u001b[0m getkey \u001b[38;5;241m=\u001b[39m regularize_buffer_key(buffer_key)\n\u001b[0;32m--> 149\u001b[0m out \u001b[38;5;241m=\u001b[39m \u001b[43m_reconstitute\u001b[49m\u001b[43m(\u001b[49m\u001b[43mform\u001b[49m\u001b[43m,\u001b[49m\u001b[43m \u001b[49m\u001b[43mlength\u001b[49m\u001b[43m,\u001b[49m\u001b[43m \u001b[49m\u001b[43mcontainer\u001b[49m\u001b[43m,\u001b[49m\u001b[43m \u001b[49m\u001b[43mgetkey\u001b[49m\u001b[43m,\u001b[49m\u001b[43m \u001b[49m\u001b[43mbackend\u001b[49m\u001b[43m,\u001b[49m\u001b[43m \u001b[49m\u001b[43mbyteorder\u001b[49m\u001b[43m,\u001b[49m\u001b[43m \u001b[49m\u001b[43msimplify\u001b[49m\u001b[43m)\u001b[49m\n\u001b[1;32m    151\u001b[0m \u001b[38;5;28;01mreturn\u001b[39;00m wrap_layout(out, highlevel\u001b[38;5;241m=\u001b[39mhighlevel, attrs\u001b[38;5;241m=\u001b[39mattrs, behavior\u001b[38;5;241m=\u001b[39mbehavior)\n",
      "File \u001b[0;32m~/coffeafcc/development/fcc-dev/lib64/python3.12/site-packages/awkward/operations/ak_from_buffers.py:404\u001b[0m, in \u001b[0;36m_reconstitute\u001b[0;34m(form, length, container, getkey, backend, byteorder, simplify)\u001b[0m\n\u001b[1;32m    395\u001b[0m     \u001b[38;5;28;01mreturn\u001b[39;00m ak\u001b[38;5;241m.\u001b[39mcontents\u001b[38;5;241m.\u001b[39mRegularArray(\n\u001b[1;32m    396\u001b[0m         content,\n\u001b[1;32m    397\u001b[0m         form\u001b[38;5;241m.\u001b[39msize,\n\u001b[1;32m    398\u001b[0m         length,\n\u001b[1;32m    399\u001b[0m         parameters\u001b[38;5;241m=\u001b[39mform\u001b[38;5;241m.\u001b[39m_parameters,\n\u001b[1;32m    400\u001b[0m     )\n\u001b[1;32m    402\u001b[0m \u001b[38;5;28;01melif\u001b[39;00m \u001b[38;5;28misinstance\u001b[39m(form, ak\u001b[38;5;241m.\u001b[39mforms\u001b[38;5;241m.\u001b[39mRecordForm):\n\u001b[1;32m    403\u001b[0m     contents \u001b[38;5;241m=\u001b[39m [\n\u001b[0;32m--> 404\u001b[0m         \u001b[43m_reconstitute\u001b[49m\u001b[43m(\u001b[49m\n\u001b[1;32m    405\u001b[0m \u001b[43m            \u001b[49m\u001b[43mcontent\u001b[49m\u001b[43m,\u001b[49m\u001b[43m \u001b[49m\u001b[43mlength\u001b[49m\u001b[43m,\u001b[49m\u001b[43m \u001b[49m\u001b[43mcontainer\u001b[49m\u001b[43m,\u001b[49m\u001b[43m \u001b[49m\u001b[43mgetkey\u001b[49m\u001b[43m,\u001b[49m\u001b[43m \u001b[49m\u001b[43mbackend\u001b[49m\u001b[43m,\u001b[49m\u001b[43m \u001b[49m\u001b[43mbyteorder\u001b[49m\u001b[43m,\u001b[49m\u001b[43m \u001b[49m\u001b[43msimplify\u001b[49m\n\u001b[1;32m    406\u001b[0m \u001b[43m        \u001b[49m\u001b[43m)\u001b[49m\n\u001b[1;32m    407\u001b[0m         \u001b[38;5;28;01mfor\u001b[39;00m content \u001b[38;5;129;01min\u001b[39;00m form\u001b[38;5;241m.\u001b[39mcontents\n\u001b[1;32m    408\u001b[0m     ]\n\u001b[1;32m    409\u001b[0m     \u001b[38;5;28;01mreturn\u001b[39;00m ak\u001b[38;5;241m.\u001b[39mcontents\u001b[38;5;241m.\u001b[39mRecordArray(\n\u001b[1;32m    410\u001b[0m         contents,\n\u001b[1;32m    411\u001b[0m         \u001b[38;5;28;01mNone\u001b[39;00m \u001b[38;5;28;01mif\u001b[39;00m form\u001b[38;5;241m.\u001b[39mis_tuple \u001b[38;5;28;01melse\u001b[39;00m form\u001b[38;5;241m.\u001b[39mfields,\n\u001b[1;32m    412\u001b[0m         length,\n\u001b[1;32m    413\u001b[0m         parameters\u001b[38;5;241m=\u001b[39mform\u001b[38;5;241m.\u001b[39m_parameters,\n\u001b[1;32m    414\u001b[0m     )\n\u001b[1;32m    416\u001b[0m \u001b[38;5;28;01melif\u001b[39;00m \u001b[38;5;28misinstance\u001b[39m(form, ak\u001b[38;5;241m.\u001b[39mforms\u001b[38;5;241m.\u001b[39mUnionForm):\n",
      "File \u001b[0;32m~/coffeafcc/development/fcc-dev/lib64/python3.12/site-packages/awkward/operations/ak_from_buffers.py:381\u001b[0m, in \u001b[0;36m_reconstitute\u001b[0;34m(form, length, container, getkey, backend, byteorder, simplify)\u001b[0m\n\u001b[1;32m    379\u001b[0m     \u001b[38;5;28;01melse\u001b[39;00m:\n\u001b[1;32m    380\u001b[0m         next_length \u001b[38;5;241m=\u001b[39m \u001b[38;5;241m0\u001b[39m \u001b[38;5;28;01mif\u001b[39;00m \u001b[38;5;28mlen\u001b[39m(offsets) \u001b[38;5;241m==\u001b[39m \u001b[38;5;241m1\u001b[39m \u001b[38;5;28;01melse\u001b[39;00m offsets[\u001b[38;5;241m-\u001b[39m\u001b[38;5;241m1\u001b[39m]\n\u001b[0;32m--> 381\u001b[0m     content \u001b[38;5;241m=\u001b[39m \u001b[43m_reconstitute\u001b[49m\u001b[43m(\u001b[49m\n\u001b[1;32m    382\u001b[0m \u001b[43m        \u001b[49m\u001b[43mform\u001b[49m\u001b[38;5;241;43m.\u001b[39;49m\u001b[43mcontent\u001b[49m\u001b[43m,\u001b[49m\u001b[43m \u001b[49m\u001b[43mnext_length\u001b[49m\u001b[43m,\u001b[49m\u001b[43m \u001b[49m\u001b[43mcontainer\u001b[49m\u001b[43m,\u001b[49m\u001b[43m \u001b[49m\u001b[43mgetkey\u001b[49m\u001b[43m,\u001b[49m\u001b[43m \u001b[49m\u001b[43mbackend\u001b[49m\u001b[43m,\u001b[49m\u001b[43m \u001b[49m\u001b[43mbyteorder\u001b[49m\u001b[43m,\u001b[49m\u001b[43m \u001b[49m\u001b[43msimplify\u001b[49m\n\u001b[1;32m    383\u001b[0m \u001b[43m    \u001b[49m\u001b[43m)\u001b[49m\n\u001b[1;32m    384\u001b[0m     \u001b[38;5;28;01mreturn\u001b[39;00m ak\u001b[38;5;241m.\u001b[39mcontents\u001b[38;5;241m.\u001b[39mListOffsetArray(\n\u001b[1;32m    385\u001b[0m         ak\u001b[38;5;241m.\u001b[39mindex\u001b[38;5;241m.\u001b[39mIndex(offsets),\n\u001b[1;32m    386\u001b[0m         content,\n\u001b[1;32m    387\u001b[0m         parameters\u001b[38;5;241m=\u001b[39mform\u001b[38;5;241m.\u001b[39m_parameters,\n\u001b[1;32m    388\u001b[0m     )\n\u001b[1;32m    390\u001b[0m \u001b[38;5;28;01melif\u001b[39;00m \u001b[38;5;28misinstance\u001b[39m(form, ak\u001b[38;5;241m.\u001b[39mforms\u001b[38;5;241m.\u001b[39mRegularForm):\n",
      "File \u001b[0;32m~/coffeafcc/development/fcc-dev/lib64/python3.12/site-packages/awkward/operations/ak_from_buffers.py:404\u001b[0m, in \u001b[0;36m_reconstitute\u001b[0;34m(form, length, container, getkey, backend, byteorder, simplify)\u001b[0m\n\u001b[1;32m    395\u001b[0m     \u001b[38;5;28;01mreturn\u001b[39;00m ak\u001b[38;5;241m.\u001b[39mcontents\u001b[38;5;241m.\u001b[39mRegularArray(\n\u001b[1;32m    396\u001b[0m         content,\n\u001b[1;32m    397\u001b[0m         form\u001b[38;5;241m.\u001b[39msize,\n\u001b[1;32m    398\u001b[0m         length,\n\u001b[1;32m    399\u001b[0m         parameters\u001b[38;5;241m=\u001b[39mform\u001b[38;5;241m.\u001b[39m_parameters,\n\u001b[1;32m    400\u001b[0m     )\n\u001b[1;32m    402\u001b[0m \u001b[38;5;28;01melif\u001b[39;00m \u001b[38;5;28misinstance\u001b[39m(form, ak\u001b[38;5;241m.\u001b[39mforms\u001b[38;5;241m.\u001b[39mRecordForm):\n\u001b[1;32m    403\u001b[0m     contents \u001b[38;5;241m=\u001b[39m [\n\u001b[0;32m--> 404\u001b[0m         \u001b[43m_reconstitute\u001b[49m\u001b[43m(\u001b[49m\n\u001b[1;32m    405\u001b[0m \u001b[43m            \u001b[49m\u001b[43mcontent\u001b[49m\u001b[43m,\u001b[49m\u001b[43m \u001b[49m\u001b[43mlength\u001b[49m\u001b[43m,\u001b[49m\u001b[43m \u001b[49m\u001b[43mcontainer\u001b[49m\u001b[43m,\u001b[49m\u001b[43m \u001b[49m\u001b[43mgetkey\u001b[49m\u001b[43m,\u001b[49m\u001b[43m \u001b[49m\u001b[43mbackend\u001b[49m\u001b[43m,\u001b[49m\u001b[43m \u001b[49m\u001b[43mbyteorder\u001b[49m\u001b[43m,\u001b[49m\u001b[43m \u001b[49m\u001b[43msimplify\u001b[49m\n\u001b[1;32m    406\u001b[0m \u001b[43m        \u001b[49m\u001b[43m)\u001b[49m\n\u001b[1;32m    407\u001b[0m         \u001b[38;5;28;01mfor\u001b[39;00m content \u001b[38;5;129;01min\u001b[39;00m form\u001b[38;5;241m.\u001b[39mcontents\n\u001b[1;32m    408\u001b[0m     ]\n\u001b[1;32m    409\u001b[0m     \u001b[38;5;28;01mreturn\u001b[39;00m ak\u001b[38;5;241m.\u001b[39mcontents\u001b[38;5;241m.\u001b[39mRecordArray(\n\u001b[1;32m    410\u001b[0m         contents,\n\u001b[1;32m    411\u001b[0m         \u001b[38;5;28;01mNone\u001b[39;00m \u001b[38;5;28;01mif\u001b[39;00m form\u001b[38;5;241m.\u001b[39mis_tuple \u001b[38;5;28;01melse\u001b[39;00m form\u001b[38;5;241m.\u001b[39mfields,\n\u001b[1;32m    412\u001b[0m         length,\n\u001b[1;32m    413\u001b[0m         parameters\u001b[38;5;241m=\u001b[39mform\u001b[38;5;241m.\u001b[39m_parameters,\n\u001b[1;32m    414\u001b[0m     )\n\u001b[1;32m    416\u001b[0m \u001b[38;5;28;01melif\u001b[39;00m \u001b[38;5;28misinstance\u001b[39m(form, ak\u001b[38;5;241m.\u001b[39mforms\u001b[38;5;241m.\u001b[39mUnionForm):\n",
      "File \u001b[0;32m~/coffeafcc/development/fcc-dev/lib64/python3.12/site-packages/awkward/operations/ak_from_buffers.py:404\u001b[0m, in \u001b[0;36m_reconstitute\u001b[0;34m(form, length, container, getkey, backend, byteorder, simplify)\u001b[0m\n\u001b[1;32m    395\u001b[0m     \u001b[38;5;28;01mreturn\u001b[39;00m ak\u001b[38;5;241m.\u001b[39mcontents\u001b[38;5;241m.\u001b[39mRegularArray(\n\u001b[1;32m    396\u001b[0m         content,\n\u001b[1;32m    397\u001b[0m         form\u001b[38;5;241m.\u001b[39msize,\n\u001b[1;32m    398\u001b[0m         length,\n\u001b[1;32m    399\u001b[0m         parameters\u001b[38;5;241m=\u001b[39mform\u001b[38;5;241m.\u001b[39m_parameters,\n\u001b[1;32m    400\u001b[0m     )\n\u001b[1;32m    402\u001b[0m \u001b[38;5;28;01melif\u001b[39;00m \u001b[38;5;28misinstance\u001b[39m(form, ak\u001b[38;5;241m.\u001b[39mforms\u001b[38;5;241m.\u001b[39mRecordForm):\n\u001b[1;32m    403\u001b[0m     contents \u001b[38;5;241m=\u001b[39m [\n\u001b[0;32m--> 404\u001b[0m         \u001b[43m_reconstitute\u001b[49m\u001b[43m(\u001b[49m\n\u001b[1;32m    405\u001b[0m \u001b[43m            \u001b[49m\u001b[43mcontent\u001b[49m\u001b[43m,\u001b[49m\u001b[43m \u001b[49m\u001b[43mlength\u001b[49m\u001b[43m,\u001b[49m\u001b[43m \u001b[49m\u001b[43mcontainer\u001b[49m\u001b[43m,\u001b[49m\u001b[43m \u001b[49m\u001b[43mgetkey\u001b[49m\u001b[43m,\u001b[49m\u001b[43m \u001b[49m\u001b[43mbackend\u001b[49m\u001b[43m,\u001b[49m\u001b[43m \u001b[49m\u001b[43mbyteorder\u001b[49m\u001b[43m,\u001b[49m\u001b[43m \u001b[49m\u001b[43msimplify\u001b[49m\n\u001b[1;32m    406\u001b[0m \u001b[43m        \u001b[49m\u001b[43m)\u001b[49m\n\u001b[1;32m    407\u001b[0m         \u001b[38;5;28;01mfor\u001b[39;00m content \u001b[38;5;129;01min\u001b[39;00m form\u001b[38;5;241m.\u001b[39mcontents\n\u001b[1;32m    408\u001b[0m     ]\n\u001b[1;32m    409\u001b[0m     \u001b[38;5;28;01mreturn\u001b[39;00m ak\u001b[38;5;241m.\u001b[39mcontents\u001b[38;5;241m.\u001b[39mRecordArray(\n\u001b[1;32m    410\u001b[0m         contents,\n\u001b[1;32m    411\u001b[0m         \u001b[38;5;28;01mNone\u001b[39;00m \u001b[38;5;28;01mif\u001b[39;00m form\u001b[38;5;241m.\u001b[39mis_tuple \u001b[38;5;28;01melse\u001b[39;00m form\u001b[38;5;241m.\u001b[39mfields,\n\u001b[1;32m    412\u001b[0m         length,\n\u001b[1;32m    413\u001b[0m         parameters\u001b[38;5;241m=\u001b[39mform\u001b[38;5;241m.\u001b[39m_parameters,\n\u001b[1;32m    414\u001b[0m     )\n\u001b[1;32m    416\u001b[0m \u001b[38;5;28;01melif\u001b[39;00m \u001b[38;5;28misinstance\u001b[39m(form, ak\u001b[38;5;241m.\u001b[39mforms\u001b[38;5;241m.\u001b[39mUnionForm):\n",
      "File \u001b[0;32m~/coffeafcc/development/fcc-dev/lib64/python3.12/site-packages/awkward/operations/ak_from_buffers.py:197\u001b[0m, in \u001b[0;36m_reconstitute\u001b[0;34m(form, length, container, getkey, backend, byteorder, simplify)\u001b[0m\n\u001b[1;32m    195\u001b[0m raw_array \u001b[38;5;241m=\u001b[39m container[getkey(form, \u001b[38;5;124m\"\u001b[39m\u001b[38;5;124mdata\u001b[39m\u001b[38;5;124m\"\u001b[39m)]\n\u001b[1;32m    196\u001b[0m real_length \u001b[38;5;241m=\u001b[39m length \u001b[38;5;241m*\u001b[39m math\u001b[38;5;241m.\u001b[39mprod(form\u001b[38;5;241m.\u001b[39minner_shape)\n\u001b[0;32m--> 197\u001b[0m data \u001b[38;5;241m=\u001b[39m \u001b[43m_from_buffer\u001b[49m\u001b[43m(\u001b[49m\n\u001b[1;32m    198\u001b[0m \u001b[43m    \u001b[49m\u001b[43mbackend\u001b[49m\u001b[38;5;241;43m.\u001b[39;49m\u001b[43mnplike\u001b[49m\u001b[43m,\u001b[49m\n\u001b[1;32m    199\u001b[0m \u001b[43m    \u001b[49m\u001b[43mraw_array\u001b[49m\u001b[43m,\u001b[49m\n\u001b[1;32m    200\u001b[0m \u001b[43m    \u001b[49m\u001b[43mdtype\u001b[49m\u001b[38;5;241;43m=\u001b[39;49m\u001b[43mdtype\u001b[49m\u001b[43m,\u001b[49m\n\u001b[1;32m    201\u001b[0m \u001b[43m    \u001b[49m\u001b[43mcount\u001b[49m\u001b[38;5;241;43m=\u001b[39;49m\u001b[43mreal_length\u001b[49m\u001b[43m,\u001b[49m\n\u001b[1;32m    202\u001b[0m \u001b[43m    \u001b[49m\u001b[43mbyteorder\u001b[49m\u001b[38;5;241;43m=\u001b[39;49m\u001b[43mbyteorder\u001b[49m\u001b[43m,\u001b[49m\n\u001b[1;32m    203\u001b[0m \u001b[43m\u001b[49m\u001b[43m)\u001b[49m\n\u001b[1;32m    204\u001b[0m \u001b[38;5;28;01mif\u001b[39;00m form\u001b[38;5;241m.\u001b[39minner_shape \u001b[38;5;241m!=\u001b[39m ():\n\u001b[1;32m    205\u001b[0m     data \u001b[38;5;241m=\u001b[39m backend\u001b[38;5;241m.\u001b[39mnplike\u001b[38;5;241m.\u001b[39mreshape(data, (length, \u001b[38;5;241m*\u001b[39mform\u001b[38;5;241m.\u001b[39minner_shape))\n",
      "File \u001b[0;32m~/coffeafcc/development/fcc-dev/lib64/python3.12/site-packages/awkward/operations/ak_from_buffers.py:174\u001b[0m, in \u001b[0;36m_from_buffer\u001b[0;34m(nplike, buffer, dtype, count, byteorder)\u001b[0m\n\u001b[1;32m    171\u001b[0m     array \u001b[38;5;241m=\u001b[39m nplike\u001b[38;5;241m.\u001b[39mreshape(buffer\u001b[38;5;241m.\u001b[39mview(dtype), shape\u001b[38;5;241m=\u001b[39m(\u001b[38;5;241m-\u001b[39m\u001b[38;5;241m1\u001b[39m,), copy\u001b[38;5;241m=\u001b[39m\u001b[38;5;28;01mFalse\u001b[39;00m)\n\u001b[1;32m    173\u001b[0m     \u001b[38;5;28;01mif\u001b[39;00m array\u001b[38;5;241m.\u001b[39msize \u001b[38;5;241m<\u001b[39m count:\n\u001b[0;32m--> 174\u001b[0m         \u001b[38;5;28;01mraise\u001b[39;00m \u001b[38;5;167;01mTypeError\u001b[39;00m(\n\u001b[1;32m    175\u001b[0m             \u001b[38;5;124mf\u001b[39m\u001b[38;5;124m\"\u001b[39m\u001b[38;5;124msize of array (\u001b[39m\u001b[38;5;132;01m{\u001b[39;00marray\u001b[38;5;241m.\u001b[39msize\u001b[38;5;132;01m}\u001b[39;00m\u001b[38;5;124m) is less than size of form (\u001b[39m\u001b[38;5;132;01m{\u001b[39;00mcount\u001b[38;5;132;01m}\u001b[39;00m\u001b[38;5;124m)\u001b[39m\u001b[38;5;124m\"\u001b[39m\n\u001b[1;32m    176\u001b[0m         )\n\u001b[1;32m    178\u001b[0m     \u001b[38;5;28;01mreturn\u001b[39;00m array[:count]\n\u001b[1;32m    179\u001b[0m \u001b[38;5;28;01melse\u001b[39;00m:\n",
      "\u001b[0;31mTypeError\u001b[0m: size of array (0) is less than size of form (2739462)",
      "\u001b[0m\nThis error occurred while calling\n\n    ak.from_buffers(\n        RecordForm-instance\n        100000\n        {'/offsets/AllMuon%230%2FAllMuon%230.index%2C%21load%2C%21offsets': <...\n        behavior = {'Systematic': <class 'coffea.nanoevents.methods.base.Syst...\n        buffer_key = partial-instance\n    )"
     ]
    }
   ],
   "source": [
    "idx.compute()"
   ]
  },
  {
   "cell_type": "markdown",
   "id": "987657f1-dfac-4e16-a6c1-0337c1c3b396",
   "metadata": {},
   "source": [
    "### One peculiarity: the error string mentions '/offsets/AllMuon' towards the end....But, this is the ReconstructedParticle collection, it shouldnt use AllMuon Offsets. Sometimes the error string has '/offset/Jet/'. Maybe random incorrect offsets are being assigned here."
   ]
  },
  {
   "cell_type": "markdown",
   "id": "84863a62-1df8-4727-9943-3cb96624fe1a",
   "metadata": {},
   "source": [
    "## Due to the previous issue, delayed=False is an error"
   ]
  },
  {
   "cell_type": "code",
   "execution_count": 19,
   "id": "27114989-7b35-4f9a-8654-425d63b632d1",
   "metadata": {},
   "outputs": [
    {
     "ename": "TypeError",
     "evalue": "size of array (0) is less than size of form (505)",
     "output_type": "error",
     "traceback": [
      "\u001b[0;31m---------------------------------------------------------------------------\u001b[0m",
      "\u001b[0;31mTypeError\u001b[0m                                 Traceback (most recent call last)",
      "Cell \u001b[0;32mIn[19], line 8\u001b[0m\n\u001b[1;32m      1\u001b[0m test_file \u001b[38;5;241m=\u001b[39m \u001b[38;5;124m'\u001b[39m\u001b[38;5;124mroot://eospublic.cern.ch//eos/experiment/fcc/ee/generation/DelphesEvents/spring2021/IDEA/p8_ee_ZH_ecm240/events_101027117.root\u001b[39m\u001b[38;5;124m'\u001b[39m\n\u001b[1;32m      2\u001b[0m \u001b[38;5;28;01mfrom\u001b[39;00m \u001b[38;5;21;01mcoffea\u001b[39;00m\u001b[38;5;21;01m.\u001b[39;00m\u001b[38;5;21;01mnanoevents\u001b[39;00m \u001b[38;5;28;01mimport\u001b[39;00m NanoEventsFactory, FCCSchema\n\u001b[1;32m      3\u001b[0m eager_events \u001b[38;5;241m=\u001b[39m \u001b[43mNanoEventsFactory\u001b[49m\u001b[38;5;241;43m.\u001b[39;49m\u001b[43mfrom_root\u001b[49m\u001b[43m(\u001b[49m\n\u001b[1;32m      4\u001b[0m \u001b[43m    \u001b[49m\u001b[43mtest_file\u001b[49m\u001b[38;5;241;43m+\u001b[39;49m\u001b[38;5;124;43m\"\u001b[39;49m\u001b[38;5;124;43m:events\u001b[39;49m\u001b[38;5;124;43m\"\u001b[39;49m\u001b[43m,\u001b[49m\n\u001b[1;32m      5\u001b[0m \u001b[43m    \u001b[49m\u001b[43mentry_stop\u001b[49m\u001b[38;5;241;43m=\u001b[39;49m\u001b[38;5;241;43m100\u001b[39;49m\u001b[43m,\u001b[49m\n\u001b[1;32m      6\u001b[0m \u001b[43m    \u001b[49m\u001b[43mschemaclass\u001b[49m\u001b[38;5;241;43m=\u001b[39;49m\u001b[43mFCCSchema\u001b[49m\u001b[43m,\u001b[49m\n\u001b[1;32m      7\u001b[0m \u001b[43m    \u001b[49m\u001b[43mdelayed\u001b[49m\u001b[38;5;241;43m=\u001b[39;49m\u001b[38;5;28;43;01mFalse\u001b[39;49;00m\n\u001b[0;32m----> 8\u001b[0m \u001b[43m)\u001b[49m\u001b[38;5;241;43m.\u001b[39;49m\u001b[43mevents\u001b[49m\u001b[43m(\u001b[49m\u001b[43m)\u001b[49m\n",
      "File \u001b[0;32m~/coffeafcc/development/coffea/src/coffea/nanoevents/factory.py:696\u001b[0m, in \u001b[0;36mNanoEventsFactory.events\u001b[0;34m(self)\u001b[0m\n\u001b[1;32m    693\u001b[0m events \u001b[38;5;241m=\u001b[39m \u001b[38;5;28mself\u001b[39m\u001b[38;5;241m.\u001b[39m_events()\n\u001b[1;32m    694\u001b[0m \u001b[38;5;28;01mif\u001b[39;00m events \u001b[38;5;129;01mis\u001b[39;00m \u001b[38;5;28;01mNone\u001b[39;00m:\n\u001b[0;32m--> 696\u001b[0m     events \u001b[38;5;241m=\u001b[39m \u001b[43mawkward\u001b[49m\u001b[38;5;241;43m.\u001b[39;49m\u001b[43mfrom_buffers\u001b[49m\u001b[43m(\u001b[49m\n\u001b[1;32m    697\u001b[0m \u001b[43m        \u001b[49m\u001b[38;5;28;43mself\u001b[39;49m\u001b[38;5;241;43m.\u001b[39;49m\u001b[43m_schema\u001b[49m\u001b[38;5;241;43m.\u001b[39;49m\u001b[43mform\u001b[49m\u001b[43m,\u001b[49m\n\u001b[1;32m    698\u001b[0m \u001b[43m        \u001b[49m\u001b[38;5;28;43mlen\u001b[39;49m\u001b[43m(\u001b[49m\u001b[38;5;28;43mself\u001b[39;49m\u001b[43m)\u001b[49m\u001b[43m,\u001b[49m\n\u001b[1;32m    699\u001b[0m \u001b[43m        \u001b[49m\u001b[38;5;28;43mself\u001b[39;49m\u001b[38;5;241;43m.\u001b[39;49m\u001b[43m_mapping\u001b[49m\u001b[43m,\u001b[49m\n\u001b[1;32m    700\u001b[0m \u001b[43m        \u001b[49m\u001b[43mbuffer_key\u001b[49m\u001b[38;5;241;43m=\u001b[39;49m\u001b[43mpartial\u001b[49m\u001b[43m(\u001b[49m\u001b[43m_key_formatter\u001b[49m\u001b[43m,\u001b[49m\u001b[43m \u001b[49m\u001b[38;5;28;43mself\u001b[39;49m\u001b[38;5;241;43m.\u001b[39;49m\u001b[43m_partition_key\u001b[49m\u001b[43m)\u001b[49m\u001b[43m,\u001b[49m\n\u001b[1;32m    701\u001b[0m \u001b[43m        \u001b[49m\u001b[43mbehavior\u001b[49m\u001b[38;5;241;43m=\u001b[39;49m\u001b[38;5;28;43mself\u001b[39;49m\u001b[38;5;241;43m.\u001b[39;49m\u001b[43m_schema\u001b[49m\u001b[38;5;241;43m.\u001b[39;49m\u001b[43mbehavior\u001b[49m\u001b[43m(\u001b[49m\u001b[43m)\u001b[49m\u001b[43m,\u001b[49m\n\u001b[1;32m    702\u001b[0m \u001b[43m        \u001b[49m\u001b[43mattrs\u001b[49m\u001b[38;5;241;43m=\u001b[39;49m\u001b[43m{\u001b[49m\u001b[38;5;124;43m\"\u001b[39;49m\u001b[38;5;124;43m@events_factory\u001b[39;49m\u001b[38;5;124;43m\"\u001b[39;49m\u001b[43m:\u001b[49m\u001b[43m \u001b[49m\u001b[38;5;28;43mself\u001b[39;49m\u001b[43m}\u001b[49m\u001b[43m,\u001b[49m\n\u001b[1;32m    703\u001b[0m \u001b[43m    \u001b[49m\u001b[43m)\u001b[49m\n\u001b[1;32m    704\u001b[0m     \u001b[38;5;28mself\u001b[39m\u001b[38;5;241m.\u001b[39m_events \u001b[38;5;241m=\u001b[39m weakref\u001b[38;5;241m.\u001b[39mref(events)\n\u001b[1;32m    706\u001b[0m \u001b[38;5;28;01mreturn\u001b[39;00m events\n",
      "File \u001b[0;32m~/coffeafcc/development/fcc-dev/lib64/python3.12/site-packages/awkward/_dispatch.py:39\u001b[0m, in \u001b[0;36mnamed_high_level_function.<locals>.dispatch\u001b[0;34m(*args, **kwargs)\u001b[0m\n\u001b[1;32m     35\u001b[0m \u001b[38;5;129m@wraps\u001b[39m(func)\n\u001b[1;32m     36\u001b[0m \u001b[38;5;28;01mdef\u001b[39;00m \u001b[38;5;21mdispatch\u001b[39m(\u001b[38;5;241m*\u001b[39margs, \u001b[38;5;241m*\u001b[39m\u001b[38;5;241m*\u001b[39mkwargs):\n\u001b[1;32m     37\u001b[0m     \u001b[38;5;66;03m# NOTE: this decorator assumes that the operation is exposed under `ak.`\u001b[39;00m\n\u001b[1;32m     38\u001b[0m     \u001b[38;5;28;01mwith\u001b[39;00m OperationErrorContext(name, args, kwargs):\n\u001b[0;32m---> 39\u001b[0m         gen_or_result \u001b[38;5;241m=\u001b[39m \u001b[43mfunc\u001b[49m\u001b[43m(\u001b[49m\u001b[38;5;241;43m*\u001b[39;49m\u001b[43margs\u001b[49m\u001b[43m,\u001b[49m\u001b[43m \u001b[49m\u001b[38;5;241;43m*\u001b[39;49m\u001b[38;5;241;43m*\u001b[39;49m\u001b[43mkwargs\u001b[49m\u001b[43m)\u001b[49m\n\u001b[1;32m     40\u001b[0m         \u001b[38;5;28;01mif\u001b[39;00m isgenerator(gen_or_result):\n\u001b[1;32m     41\u001b[0m             array_likes \u001b[38;5;241m=\u001b[39m \u001b[38;5;28mnext\u001b[39m(gen_or_result)\n",
      "File \u001b[0;32m~/coffeafcc/development/fcc-dev/lib64/python3.12/site-packages/awkward/operations/ak_from_buffers.py:103\u001b[0m, in \u001b[0;36mfrom_buffers\u001b[0;34m(form, length, container, buffer_key, backend, byteorder, allow_noncanonical_form, highlevel, behavior, attrs)\u001b[0m\n\u001b[1;32m     25\u001b[0m \u001b[38;5;129m@high_level_function\u001b[39m()\n\u001b[1;32m     26\u001b[0m \u001b[38;5;28;01mdef\u001b[39;00m \u001b[38;5;21mfrom_buffers\u001b[39m(\n\u001b[1;32m     27\u001b[0m     form,\n\u001b[0;32m   (...)\u001b[0m\n\u001b[1;32m     37\u001b[0m     attrs\u001b[38;5;241m=\u001b[39m\u001b[38;5;28;01mNone\u001b[39;00m,\n\u001b[1;32m     38\u001b[0m ):\n\u001b[1;32m     39\u001b[0m \u001b[38;5;250m    \u001b[39m\u001b[38;5;124;03m\"\"\"\u001b[39;00m\n\u001b[1;32m     40\u001b[0m \u001b[38;5;124;03m    Args:\u001b[39;00m\n\u001b[1;32m     41\u001b[0m \u001b[38;5;124;03m        form (#ak.forms.Form or str/dict equivalent): The form of the Awkward\u001b[39;00m\n\u001b[0;32m   (...)\u001b[0m\n\u001b[1;32m    101\u001b[0m \u001b[38;5;124;03m    See #ak.to_buffers for examples.\u001b[39;00m\n\u001b[1;32m    102\u001b[0m \u001b[38;5;124;03m    \"\"\"\u001b[39;00m\n\u001b[0;32m--> 103\u001b[0m     \u001b[38;5;28;01mreturn\u001b[39;00m \u001b[43m_impl\u001b[49m\u001b[43m(\u001b[49m\n\u001b[1;32m    104\u001b[0m \u001b[43m        \u001b[49m\u001b[43mform\u001b[49m\u001b[43m,\u001b[49m\n\u001b[1;32m    105\u001b[0m \u001b[43m        \u001b[49m\u001b[43mlength\u001b[49m\u001b[43m,\u001b[49m\n\u001b[1;32m    106\u001b[0m \u001b[43m        \u001b[49m\u001b[43mcontainer\u001b[49m\u001b[43m,\u001b[49m\n\u001b[1;32m    107\u001b[0m \u001b[43m        \u001b[49m\u001b[43mbuffer_key\u001b[49m\u001b[43m,\u001b[49m\n\u001b[1;32m    108\u001b[0m \u001b[43m        \u001b[49m\u001b[43mbackend\u001b[49m\u001b[43m,\u001b[49m\n\u001b[1;32m    109\u001b[0m \u001b[43m        \u001b[49m\u001b[43mbyteorder\u001b[49m\u001b[43m,\u001b[49m\n\u001b[1;32m    110\u001b[0m \u001b[43m        \u001b[49m\u001b[43mhighlevel\u001b[49m\u001b[43m,\u001b[49m\n\u001b[1;32m    111\u001b[0m \u001b[43m        \u001b[49m\u001b[43mbehavior\u001b[49m\u001b[43m,\u001b[49m\n\u001b[1;32m    112\u001b[0m \u001b[43m        \u001b[49m\u001b[43mattrs\u001b[49m\u001b[43m,\u001b[49m\n\u001b[1;32m    113\u001b[0m \u001b[43m        \u001b[49m\u001b[43mallow_noncanonical_form\u001b[49m\u001b[43m,\u001b[49m\n\u001b[1;32m    114\u001b[0m \u001b[43m    \u001b[49m\u001b[43m)\u001b[49m\n",
      "File \u001b[0;32m~/coffeafcc/development/fcc-dev/lib64/python3.12/site-packages/awkward/operations/ak_from_buffers.py:149\u001b[0m, in \u001b[0;36m_impl\u001b[0;34m(form, length, container, buffer_key, backend, byteorder, highlevel, behavior, attrs, simplify)\u001b[0m\n\u001b[1;32m    143\u001b[0m     \u001b[38;5;28;01mraise\u001b[39;00m \u001b[38;5;167;01mTypeError\u001b[39;00m(\n\u001b[1;32m    144\u001b[0m         \u001b[38;5;124m\"\u001b[39m\u001b[38;5;124m'\u001b[39m\u001b[38;5;124mform\u001b[39m\u001b[38;5;124m'\u001b[39m\u001b[38;5;124m argument must be a Form or its Python dict/JSON string representation\u001b[39m\u001b[38;5;124m\"\u001b[39m\n\u001b[1;32m    145\u001b[0m     )\n\u001b[1;32m    147\u001b[0m getkey \u001b[38;5;241m=\u001b[39m regularize_buffer_key(buffer_key)\n\u001b[0;32m--> 149\u001b[0m out \u001b[38;5;241m=\u001b[39m \u001b[43m_reconstitute\u001b[49m\u001b[43m(\u001b[49m\u001b[43mform\u001b[49m\u001b[43m,\u001b[49m\u001b[43m \u001b[49m\u001b[43mlength\u001b[49m\u001b[43m,\u001b[49m\u001b[43m \u001b[49m\u001b[43mcontainer\u001b[49m\u001b[43m,\u001b[49m\u001b[43m \u001b[49m\u001b[43mgetkey\u001b[49m\u001b[43m,\u001b[49m\u001b[43m \u001b[49m\u001b[43mbackend\u001b[49m\u001b[43m,\u001b[49m\u001b[43m \u001b[49m\u001b[43mbyteorder\u001b[49m\u001b[43m,\u001b[49m\u001b[43m \u001b[49m\u001b[43msimplify\u001b[49m\u001b[43m)\u001b[49m\n\u001b[1;32m    151\u001b[0m \u001b[38;5;28;01mreturn\u001b[39;00m wrap_layout(out, highlevel\u001b[38;5;241m=\u001b[39mhighlevel, attrs\u001b[38;5;241m=\u001b[39mattrs, behavior\u001b[38;5;241m=\u001b[39mbehavior)\n",
      "File \u001b[0;32m~/coffeafcc/development/fcc-dev/lib64/python3.12/site-packages/awkward/operations/ak_from_buffers.py:404\u001b[0m, in \u001b[0;36m_reconstitute\u001b[0;34m(form, length, container, getkey, backend, byteorder, simplify)\u001b[0m\n\u001b[1;32m    395\u001b[0m     \u001b[38;5;28;01mreturn\u001b[39;00m ak\u001b[38;5;241m.\u001b[39mcontents\u001b[38;5;241m.\u001b[39mRegularArray(\n\u001b[1;32m    396\u001b[0m         content,\n\u001b[1;32m    397\u001b[0m         form\u001b[38;5;241m.\u001b[39msize,\n\u001b[1;32m    398\u001b[0m         length,\n\u001b[1;32m    399\u001b[0m         parameters\u001b[38;5;241m=\u001b[39mform\u001b[38;5;241m.\u001b[39m_parameters,\n\u001b[1;32m    400\u001b[0m     )\n\u001b[1;32m    402\u001b[0m \u001b[38;5;28;01melif\u001b[39;00m \u001b[38;5;28misinstance\u001b[39m(form, ak\u001b[38;5;241m.\u001b[39mforms\u001b[38;5;241m.\u001b[39mRecordForm):\n\u001b[1;32m    403\u001b[0m     contents \u001b[38;5;241m=\u001b[39m [\n\u001b[0;32m--> 404\u001b[0m         \u001b[43m_reconstitute\u001b[49m\u001b[43m(\u001b[49m\n\u001b[1;32m    405\u001b[0m \u001b[43m            \u001b[49m\u001b[43mcontent\u001b[49m\u001b[43m,\u001b[49m\u001b[43m \u001b[49m\u001b[43mlength\u001b[49m\u001b[43m,\u001b[49m\u001b[43m \u001b[49m\u001b[43mcontainer\u001b[49m\u001b[43m,\u001b[49m\u001b[43m \u001b[49m\u001b[43mgetkey\u001b[49m\u001b[43m,\u001b[49m\u001b[43m \u001b[49m\u001b[43mbackend\u001b[49m\u001b[43m,\u001b[49m\u001b[43m \u001b[49m\u001b[43mbyteorder\u001b[49m\u001b[43m,\u001b[49m\u001b[43m \u001b[49m\u001b[43msimplify\u001b[49m\n\u001b[1;32m    406\u001b[0m \u001b[43m        \u001b[49m\u001b[43m)\u001b[49m\n\u001b[1;32m    407\u001b[0m         \u001b[38;5;28;01mfor\u001b[39;00m content \u001b[38;5;129;01min\u001b[39;00m form\u001b[38;5;241m.\u001b[39mcontents\n\u001b[1;32m    408\u001b[0m     ]\n\u001b[1;32m    409\u001b[0m     \u001b[38;5;28;01mreturn\u001b[39;00m ak\u001b[38;5;241m.\u001b[39mcontents\u001b[38;5;241m.\u001b[39mRecordArray(\n\u001b[1;32m    410\u001b[0m         contents,\n\u001b[1;32m    411\u001b[0m         \u001b[38;5;28;01mNone\u001b[39;00m \u001b[38;5;28;01mif\u001b[39;00m form\u001b[38;5;241m.\u001b[39mis_tuple \u001b[38;5;28;01melse\u001b[39;00m form\u001b[38;5;241m.\u001b[39mfields,\n\u001b[1;32m    412\u001b[0m         length,\n\u001b[1;32m    413\u001b[0m         parameters\u001b[38;5;241m=\u001b[39mform\u001b[38;5;241m.\u001b[39m_parameters,\n\u001b[1;32m    414\u001b[0m     )\n\u001b[1;32m    416\u001b[0m \u001b[38;5;28;01melif\u001b[39;00m \u001b[38;5;28misinstance\u001b[39m(form, ak\u001b[38;5;241m.\u001b[39mforms\u001b[38;5;241m.\u001b[39mUnionForm):\n",
      "File \u001b[0;32m~/coffeafcc/development/fcc-dev/lib64/python3.12/site-packages/awkward/operations/ak_from_buffers.py:381\u001b[0m, in \u001b[0;36m_reconstitute\u001b[0;34m(form, length, container, getkey, backend, byteorder, simplify)\u001b[0m\n\u001b[1;32m    379\u001b[0m     \u001b[38;5;28;01melse\u001b[39;00m:\n\u001b[1;32m    380\u001b[0m         next_length \u001b[38;5;241m=\u001b[39m \u001b[38;5;241m0\u001b[39m \u001b[38;5;28;01mif\u001b[39;00m \u001b[38;5;28mlen\u001b[39m(offsets) \u001b[38;5;241m==\u001b[39m \u001b[38;5;241m1\u001b[39m \u001b[38;5;28;01melse\u001b[39;00m offsets[\u001b[38;5;241m-\u001b[39m\u001b[38;5;241m1\u001b[39m]\n\u001b[0;32m--> 381\u001b[0m     content \u001b[38;5;241m=\u001b[39m \u001b[43m_reconstitute\u001b[49m\u001b[43m(\u001b[49m\n\u001b[1;32m    382\u001b[0m \u001b[43m        \u001b[49m\u001b[43mform\u001b[49m\u001b[38;5;241;43m.\u001b[39;49m\u001b[43mcontent\u001b[49m\u001b[43m,\u001b[49m\u001b[43m \u001b[49m\u001b[43mnext_length\u001b[49m\u001b[43m,\u001b[49m\u001b[43m \u001b[49m\u001b[43mcontainer\u001b[49m\u001b[43m,\u001b[49m\u001b[43m \u001b[49m\u001b[43mgetkey\u001b[49m\u001b[43m,\u001b[49m\u001b[43m \u001b[49m\u001b[43mbackend\u001b[49m\u001b[43m,\u001b[49m\u001b[43m \u001b[49m\u001b[43mbyteorder\u001b[49m\u001b[43m,\u001b[49m\u001b[43m \u001b[49m\u001b[43msimplify\u001b[49m\n\u001b[1;32m    383\u001b[0m \u001b[43m    \u001b[49m\u001b[43m)\u001b[49m\n\u001b[1;32m    384\u001b[0m     \u001b[38;5;28;01mreturn\u001b[39;00m ak\u001b[38;5;241m.\u001b[39mcontents\u001b[38;5;241m.\u001b[39mListOffsetArray(\n\u001b[1;32m    385\u001b[0m         ak\u001b[38;5;241m.\u001b[39mindex\u001b[38;5;241m.\u001b[39mIndex(offsets),\n\u001b[1;32m    386\u001b[0m         content,\n\u001b[1;32m    387\u001b[0m         parameters\u001b[38;5;241m=\u001b[39mform\u001b[38;5;241m.\u001b[39m_parameters,\n\u001b[1;32m    388\u001b[0m     )\n\u001b[1;32m    390\u001b[0m \u001b[38;5;28;01melif\u001b[39;00m \u001b[38;5;28misinstance\u001b[39m(form, ak\u001b[38;5;241m.\u001b[39mforms\u001b[38;5;241m.\u001b[39mRegularForm):\n",
      "File \u001b[0;32m~/coffeafcc/development/fcc-dev/lib64/python3.12/site-packages/awkward/operations/ak_from_buffers.py:404\u001b[0m, in \u001b[0;36m_reconstitute\u001b[0;34m(form, length, container, getkey, backend, byteorder, simplify)\u001b[0m\n\u001b[1;32m    395\u001b[0m     \u001b[38;5;28;01mreturn\u001b[39;00m ak\u001b[38;5;241m.\u001b[39mcontents\u001b[38;5;241m.\u001b[39mRegularArray(\n\u001b[1;32m    396\u001b[0m         content,\n\u001b[1;32m    397\u001b[0m         form\u001b[38;5;241m.\u001b[39msize,\n\u001b[1;32m    398\u001b[0m         length,\n\u001b[1;32m    399\u001b[0m         parameters\u001b[38;5;241m=\u001b[39mform\u001b[38;5;241m.\u001b[39m_parameters,\n\u001b[1;32m    400\u001b[0m     )\n\u001b[1;32m    402\u001b[0m \u001b[38;5;28;01melif\u001b[39;00m \u001b[38;5;28misinstance\u001b[39m(form, ak\u001b[38;5;241m.\u001b[39mforms\u001b[38;5;241m.\u001b[39mRecordForm):\n\u001b[1;32m    403\u001b[0m     contents \u001b[38;5;241m=\u001b[39m [\n\u001b[0;32m--> 404\u001b[0m         \u001b[43m_reconstitute\u001b[49m\u001b[43m(\u001b[49m\n\u001b[1;32m    405\u001b[0m \u001b[43m            \u001b[49m\u001b[43mcontent\u001b[49m\u001b[43m,\u001b[49m\u001b[43m \u001b[49m\u001b[43mlength\u001b[49m\u001b[43m,\u001b[49m\u001b[43m \u001b[49m\u001b[43mcontainer\u001b[49m\u001b[43m,\u001b[49m\u001b[43m \u001b[49m\u001b[43mgetkey\u001b[49m\u001b[43m,\u001b[49m\u001b[43m \u001b[49m\u001b[43mbackend\u001b[49m\u001b[43m,\u001b[49m\u001b[43m \u001b[49m\u001b[43mbyteorder\u001b[49m\u001b[43m,\u001b[49m\u001b[43m \u001b[49m\u001b[43msimplify\u001b[49m\n\u001b[1;32m    406\u001b[0m \u001b[43m        \u001b[49m\u001b[43m)\u001b[49m\n\u001b[1;32m    407\u001b[0m         \u001b[38;5;28;01mfor\u001b[39;00m content \u001b[38;5;129;01min\u001b[39;00m form\u001b[38;5;241m.\u001b[39mcontents\n\u001b[1;32m    408\u001b[0m     ]\n\u001b[1;32m    409\u001b[0m     \u001b[38;5;28;01mreturn\u001b[39;00m ak\u001b[38;5;241m.\u001b[39mcontents\u001b[38;5;241m.\u001b[39mRecordArray(\n\u001b[1;32m    410\u001b[0m         contents,\n\u001b[1;32m    411\u001b[0m         \u001b[38;5;28;01mNone\u001b[39;00m \u001b[38;5;28;01mif\u001b[39;00m form\u001b[38;5;241m.\u001b[39mis_tuple \u001b[38;5;28;01melse\u001b[39;00m form\u001b[38;5;241m.\u001b[39mfields,\n\u001b[1;32m    412\u001b[0m         length,\n\u001b[1;32m    413\u001b[0m         parameters\u001b[38;5;241m=\u001b[39mform\u001b[38;5;241m.\u001b[39m_parameters,\n\u001b[1;32m    414\u001b[0m     )\n\u001b[1;32m    416\u001b[0m \u001b[38;5;28;01melif\u001b[39;00m \u001b[38;5;28misinstance\u001b[39m(form, ak\u001b[38;5;241m.\u001b[39mforms\u001b[38;5;241m.\u001b[39mUnionForm):\n",
      "File \u001b[0;32m~/coffeafcc/development/fcc-dev/lib64/python3.12/site-packages/awkward/operations/ak_from_buffers.py:404\u001b[0m, in \u001b[0;36m_reconstitute\u001b[0;34m(form, length, container, getkey, backend, byteorder, simplify)\u001b[0m\n\u001b[1;32m    395\u001b[0m     \u001b[38;5;28;01mreturn\u001b[39;00m ak\u001b[38;5;241m.\u001b[39mcontents\u001b[38;5;241m.\u001b[39mRegularArray(\n\u001b[1;32m    396\u001b[0m         content,\n\u001b[1;32m    397\u001b[0m         form\u001b[38;5;241m.\u001b[39msize,\n\u001b[1;32m    398\u001b[0m         length,\n\u001b[1;32m    399\u001b[0m         parameters\u001b[38;5;241m=\u001b[39mform\u001b[38;5;241m.\u001b[39m_parameters,\n\u001b[1;32m    400\u001b[0m     )\n\u001b[1;32m    402\u001b[0m \u001b[38;5;28;01melif\u001b[39;00m \u001b[38;5;28misinstance\u001b[39m(form, ak\u001b[38;5;241m.\u001b[39mforms\u001b[38;5;241m.\u001b[39mRecordForm):\n\u001b[1;32m    403\u001b[0m     contents \u001b[38;5;241m=\u001b[39m [\n\u001b[0;32m--> 404\u001b[0m         \u001b[43m_reconstitute\u001b[49m\u001b[43m(\u001b[49m\n\u001b[1;32m    405\u001b[0m \u001b[43m            \u001b[49m\u001b[43mcontent\u001b[49m\u001b[43m,\u001b[49m\u001b[43m \u001b[49m\u001b[43mlength\u001b[49m\u001b[43m,\u001b[49m\u001b[43m \u001b[49m\u001b[43mcontainer\u001b[49m\u001b[43m,\u001b[49m\u001b[43m \u001b[49m\u001b[43mgetkey\u001b[49m\u001b[43m,\u001b[49m\u001b[43m \u001b[49m\u001b[43mbackend\u001b[49m\u001b[43m,\u001b[49m\u001b[43m \u001b[49m\u001b[43mbyteorder\u001b[49m\u001b[43m,\u001b[49m\u001b[43m \u001b[49m\u001b[43msimplify\u001b[49m\n\u001b[1;32m    406\u001b[0m \u001b[43m        \u001b[49m\u001b[43m)\u001b[49m\n\u001b[1;32m    407\u001b[0m         \u001b[38;5;28;01mfor\u001b[39;00m content \u001b[38;5;129;01min\u001b[39;00m form\u001b[38;5;241m.\u001b[39mcontents\n\u001b[1;32m    408\u001b[0m     ]\n\u001b[1;32m    409\u001b[0m     \u001b[38;5;28;01mreturn\u001b[39;00m ak\u001b[38;5;241m.\u001b[39mcontents\u001b[38;5;241m.\u001b[39mRecordArray(\n\u001b[1;32m    410\u001b[0m         contents,\n\u001b[1;32m    411\u001b[0m         \u001b[38;5;28;01mNone\u001b[39;00m \u001b[38;5;28;01mif\u001b[39;00m form\u001b[38;5;241m.\u001b[39mis_tuple \u001b[38;5;28;01melse\u001b[39;00m form\u001b[38;5;241m.\u001b[39mfields,\n\u001b[1;32m    412\u001b[0m         length,\n\u001b[1;32m    413\u001b[0m         parameters\u001b[38;5;241m=\u001b[39mform\u001b[38;5;241m.\u001b[39m_parameters,\n\u001b[1;32m    414\u001b[0m     )\n\u001b[1;32m    416\u001b[0m \u001b[38;5;28;01melif\u001b[39;00m \u001b[38;5;28misinstance\u001b[39m(form, ak\u001b[38;5;241m.\u001b[39mforms\u001b[38;5;241m.\u001b[39mUnionForm):\n",
      "File \u001b[0;32m~/coffeafcc/development/fcc-dev/lib64/python3.12/site-packages/awkward/operations/ak_from_buffers.py:197\u001b[0m, in \u001b[0;36m_reconstitute\u001b[0;34m(form, length, container, getkey, backend, byteorder, simplify)\u001b[0m\n\u001b[1;32m    195\u001b[0m raw_array \u001b[38;5;241m=\u001b[39m container[getkey(form, \u001b[38;5;124m\"\u001b[39m\u001b[38;5;124mdata\u001b[39m\u001b[38;5;124m\"\u001b[39m)]\n\u001b[1;32m    196\u001b[0m real_length \u001b[38;5;241m=\u001b[39m length \u001b[38;5;241m*\u001b[39m math\u001b[38;5;241m.\u001b[39mprod(form\u001b[38;5;241m.\u001b[39minner_shape)\n\u001b[0;32m--> 197\u001b[0m data \u001b[38;5;241m=\u001b[39m \u001b[43m_from_buffer\u001b[49m\u001b[43m(\u001b[49m\n\u001b[1;32m    198\u001b[0m \u001b[43m    \u001b[49m\u001b[43mbackend\u001b[49m\u001b[38;5;241;43m.\u001b[39;49m\u001b[43mnplike\u001b[49m\u001b[43m,\u001b[49m\n\u001b[1;32m    199\u001b[0m \u001b[43m    \u001b[49m\u001b[43mraw_array\u001b[49m\u001b[43m,\u001b[49m\n\u001b[1;32m    200\u001b[0m \u001b[43m    \u001b[49m\u001b[43mdtype\u001b[49m\u001b[38;5;241;43m=\u001b[39;49m\u001b[43mdtype\u001b[49m\u001b[43m,\u001b[49m\n\u001b[1;32m    201\u001b[0m \u001b[43m    \u001b[49m\u001b[43mcount\u001b[49m\u001b[38;5;241;43m=\u001b[39;49m\u001b[43mreal_length\u001b[49m\u001b[43m,\u001b[49m\n\u001b[1;32m    202\u001b[0m \u001b[43m    \u001b[49m\u001b[43mbyteorder\u001b[49m\u001b[38;5;241;43m=\u001b[39;49m\u001b[43mbyteorder\u001b[49m\u001b[43m,\u001b[49m\n\u001b[1;32m    203\u001b[0m \u001b[43m\u001b[49m\u001b[43m)\u001b[49m\n\u001b[1;32m    204\u001b[0m \u001b[38;5;28;01mif\u001b[39;00m form\u001b[38;5;241m.\u001b[39minner_shape \u001b[38;5;241m!=\u001b[39m ():\n\u001b[1;32m    205\u001b[0m     data \u001b[38;5;241m=\u001b[39m backend\u001b[38;5;241m.\u001b[39mnplike\u001b[38;5;241m.\u001b[39mreshape(data, (length, \u001b[38;5;241m*\u001b[39mform\u001b[38;5;241m.\u001b[39minner_shape))\n",
      "File \u001b[0;32m~/coffeafcc/development/fcc-dev/lib64/python3.12/site-packages/awkward/operations/ak_from_buffers.py:174\u001b[0m, in \u001b[0;36m_from_buffer\u001b[0;34m(nplike, buffer, dtype, count, byteorder)\u001b[0m\n\u001b[1;32m    171\u001b[0m     array \u001b[38;5;241m=\u001b[39m nplike\u001b[38;5;241m.\u001b[39mreshape(buffer\u001b[38;5;241m.\u001b[39mview(dtype), shape\u001b[38;5;241m=\u001b[39m(\u001b[38;5;241m-\u001b[39m\u001b[38;5;241m1\u001b[39m,), copy\u001b[38;5;241m=\u001b[39m\u001b[38;5;28;01mFalse\u001b[39;00m)\n\u001b[1;32m    173\u001b[0m     \u001b[38;5;28;01mif\u001b[39;00m array\u001b[38;5;241m.\u001b[39msize \u001b[38;5;241m<\u001b[39m count:\n\u001b[0;32m--> 174\u001b[0m         \u001b[38;5;28;01mraise\u001b[39;00m \u001b[38;5;167;01mTypeError\u001b[39;00m(\n\u001b[1;32m    175\u001b[0m             \u001b[38;5;124mf\u001b[39m\u001b[38;5;124m\"\u001b[39m\u001b[38;5;124msize of array (\u001b[39m\u001b[38;5;132;01m{\u001b[39;00marray\u001b[38;5;241m.\u001b[39msize\u001b[38;5;132;01m}\u001b[39;00m\u001b[38;5;124m) is less than size of form (\u001b[39m\u001b[38;5;132;01m{\u001b[39;00mcount\u001b[38;5;132;01m}\u001b[39;00m\u001b[38;5;124m)\u001b[39m\u001b[38;5;124m\"\u001b[39m\n\u001b[1;32m    176\u001b[0m         )\n\u001b[1;32m    178\u001b[0m     \u001b[38;5;28;01mreturn\u001b[39;00m array[:count]\n\u001b[1;32m    179\u001b[0m \u001b[38;5;28;01melse\u001b[39;00m:\n",
      "\u001b[0;31mTypeError\u001b[0m: size of array (0) is less than size of form (505)",
      "\u001b[0m\nThis error occurred while calling\n\n    ak.from_buffers(\n        {'class': 'RecordArray', 'fields': dict_keys(['AllMuonidx', 'EFlowPho...\n        100\n        <coffea.nanoevents.mapping.uproot.UprootSourceMapping object at 0x7fe...\n        buffer_key = partial-instance\n        behavior = {'Systematic': <class 'coffea.nanoevents.methods.base.Syst...\n        attrs = {'@events_factory': <coffea.nanoevents.factory.NanoEventsFact...\n    )"
     ]
    }
   ],
   "source": [
    "test_file = 'root://eospublic.cern.ch//eos/experiment/fcc/ee/generation/DelphesEvents/spring2021/IDEA/p8_ee_ZH_ecm240/events_101027117.root'\n",
    "from coffea.nanoevents import NanoEventsFactory, FCCSchema\n",
    "eager_events = NanoEventsFactory.from_root(\n",
    "    test_file+\":events\",\n",
    "    entry_stop=100,\n",
    "    schemaclass=FCCSchema,\n",
    "    delayed=False\n",
    ").events()"
   ]
  },
  {
   "cell_type": "markdown",
   "id": "8b66e342-85e4-4698-9528-577b76241f7a",
   "metadata": {},
   "source": [
    "## Check the code [here](https://github.com/prayagyadav/coffea/blob/use_scikithep_vector/src/coffea/nanoevents/schemas/fcc.py#L69)"
   ]
  },
  {
   "cell_type": "code",
   "execution_count": null,
   "id": "3669c2b2-675e-487d-bdcc-3a783848dd7e",
   "metadata": {},
   "outputs": [],
   "source": [
    "bcfjkdhaskjfdfkdjfk"
   ]
  }
 ],
 "metadata": {
  "kernelspec": {
   "display_name": "fcc-dev",
   "language": "python",
   "name": "fcc-dev"
  },
  "language_info": {
   "codemirror_mode": {
    "name": "ipython",
    "version": 3
   },
   "file_extension": ".py",
   "mimetype": "text/x-python",
   "name": "python",
   "nbconvert_exporter": "python",
   "pygments_lexer": "ipython3",
   "version": "3.12.4"
  }
 },
 "nbformat": 4,
 "nbformat_minor": 5
}
