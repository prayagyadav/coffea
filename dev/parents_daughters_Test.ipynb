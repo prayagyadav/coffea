{
 "cells": [
  {
   "cell_type": "code",
   "execution_count": 1,
   "id": "d197df65-3609-471f-a455-e636b7e4bcfa",
   "metadata": {},
   "outputs": [],
   "source": [
    "import awkward"
   ]
  },
  {
   "cell_type": "code",
   "execution_count": 13,
   "id": "7de90af0-e153-4882-9856-c02385bb2971",
   "metadata": {},
   "outputs": [],
   "source": [
    "a = awkward.Array([\n",
    "    [44,33,23,22],\n",
    "    [932,24,456,78],\n",
    "    [22,345,78,90,98,24]\n",
    "])\n",
    "\n",
    "a_index = awkward.Array([\n",
    "    [[0],[0,1],[2]],\n",
    "    [[0,1],[2]],\n",
    "    []\n",
    "])\n",
    "expected_result = awkward.Array([\n",
    "    [[44],[44,33],[23]],\n",
    "    [[932,24],[456]],\n",
    "    []\n",
    "])"
   ]
  },
  {
   "cell_type": "code",
   "execution_count": 14,
   "id": "712a8b8a-34b9-4370-9f2f-08226cdde84a",
   "metadata": {},
   "outputs": [
    {
     "data": {
      "text/html": [
       "<pre>[[44, 33, 23, 22],\n",
       " [932, 24, 456, 78],\n",
       " [22, 345, 78, 90, 98, 24]]\n",
       "---------------------------\n",
       "type: 3 * var * int64</pre>"
      ],
      "text/plain": [
       "<Array [[44, 33, 23, 22], ..., [22, 345, ..., 98, 24]] type='3 * var * int64'>"
      ]
     },
     "execution_count": 14,
     "metadata": {},
     "output_type": "execute_result"
    }
   ],
   "source": [
    "a"
   ]
  },
  {
   "cell_type": "code",
   "execution_count": 15,
   "id": "e317f8aa-3e3d-4d31-b54f-e393e7b4381e",
   "metadata": {},
   "outputs": [
    {
     "data": {
      "text/html": [
       "<pre>[[[0], [0, 1], [2]],\n",
       " [[0, 1], [2]],\n",
       " []]\n",
       "---------------------------\n",
       "type: 3 * var * var * int64</pre>"
      ],
      "text/plain": [
       "<Array [[[0], [0, 1], [2]], [[...], ...], []] type='3 * var * var * int64'>"
      ]
     },
     "execution_count": 15,
     "metadata": {},
     "output_type": "execute_result"
    }
   ],
   "source": [
    "a_index"
   ]
  },
  {
   "cell_type": "code",
   "execution_count": 16,
   "id": "d1837215-490c-465d-8d12-d4978f4987f2",
   "metadata": {},
   "outputs": [
    {
     "data": {
      "text/html": [
       "<pre>[[[44], [44, 33], [23]],\n",
       " [[932, 24], [456]],\n",
       " []]\n",
       "---------------------------\n",
       "type: 3 * var * var * int64</pre>"
      ],
      "text/plain": [
       "<Array [[[44], [44, 33], [23]], [...], []] type='3 * var * var * int64'>"
      ]
     },
     "execution_count": 16,
     "metadata": {},
     "output_type": "execute_result"
    }
   ],
   "source": [
    "expected_result"
   ]
  },
  {
   "cell_type": "code",
   "execution_count": 17,
   "id": "26dc70e6-4c1a-45be-bd31-eb69f4e9aed8",
   "metadata": {},
   "outputs": [
    {
     "data": {
      "text/html": [
       "<pre>[[1, 2, 1],\n",
       " [2, 1],\n",
       " []]\n",
       "---------------------\n",
       "type: 3 * var * int64</pre>"
      ],
      "text/plain": [
       "<Array [[1, 2, 1], [2, 1], []] type='3 * var * int64'>"
      ]
     },
     "execution_count": 17,
     "metadata": {},
     "output_type": "execute_result"
    }
   ],
   "source": [
    "axis2_counts_a = awkward.num(a_index, axis=2)\n",
    "axis2_counts_a"
   ]
  },
  {
   "cell_type": "code",
   "execution_count": 18,
   "id": "34f3f8b8-b457-41bf-b8a1-50bd3dddfa7d",
   "metadata": {},
   "outputs": [
    {
     "data": {
      "text/html": [
       "<pre>[1,\n",
       " 2,\n",
       " 1,\n",
       " 2,\n",
       " 1]\n",
       "---------------\n",
       "type: 5 * int64</pre>"
      ],
      "text/plain": [
       "<Array [1, 2, 1, 2, 1] type='5 * int64'>"
      ]
     },
     "execution_count": 18,
     "metadata": {},
     "output_type": "execute_result"
    }
   ],
   "source": [
    "flat_axis2_counts_a = awkward.flatten(axis2_counts_a, axis=1)\n",
    "flat_axis2_counts_a"
   ]
  },
  {
   "cell_type": "code",
   "execution_count": 19,
   "id": "514e5431-bc32-4f93-97dd-c2f3bfe4576c",
   "metadata": {},
   "outputs": [
    {
     "data": {
      "text/html": [
       "<pre>[[0, 0, 1, 2],\n",
       " [0, 1, 2],\n",
       " []]\n",
       "---------------------\n",
       "type: 3 * var * int64</pre>"
      ],
      "text/plain": [
       "<Array [[0, 0, 1, 2], [0, 1, 2], []] type='3 * var * int64'>"
      ]
     },
     "execution_count": 19,
     "metadata": {},
     "output_type": "execute_result"
    }
   ],
   "source": [
    "flat_a_index = awkward.flatten(a_index, axis=2)\n",
    "flat_a_index"
   ]
  },
  {
   "cell_type": "code",
   "execution_count": 20,
   "id": "e2c0caf6-1de3-4153-a24e-eb009bc065d1",
   "metadata": {},
   "outputs": [
    {
     "data": {
      "text/html": [
       "<pre>[[44, 44, 33, 23],\n",
       " [932, 24, 456],\n",
       " []]\n",
       "---------------------\n",
       "type: 3 * var * int64</pre>"
      ],
      "text/plain": [
       "<Array [[44, 44, 33, 23], [932, 24, 456], []] type='3 * var * int64'>"
      ]
     },
     "execution_count": 20,
     "metadata": {},
     "output_type": "execute_result"
    }
   ],
   "source": [
    "trimmed_flat_a = a[flat_a_index]\n",
    "trimmed_flat_a"
   ]
  },
  {
   "cell_type": "code",
   "execution_count": 21,
   "id": "08445977-2b70-4cc0-8c01-9763a79723d1",
   "metadata": {},
   "outputs": [
    {
     "data": {
      "text/html": [
       "<pre>[[[44], [44, 33], [23]],\n",
       " [[932, 24], [456]],\n",
       " []]\n",
       "---------------------------\n",
       "type: 3 * var * var * int64</pre>"
      ],
      "text/plain": [
       "<Array [[[44], [44, 33], [23]], [...], []] type='3 * var * var * int64'>"
      ]
     },
     "execution_count": 21,
     "metadata": {},
     "output_type": "execute_result"
    }
   ],
   "source": [
    "trimmed_a = awkward.unflatten(trimmed_flat_a, flat_axis2_counts_a, axis=1)\n",
    "trimmed_a"
   ]
  },
  {
   "cell_type": "code",
   "execution_count": 22,
   "id": "79e7ef5d-e500-417c-a9a3-073ecb58027e",
   "metadata": {},
   "outputs": [
    {
     "data": {
      "text/plain": [
       "np.True_"
      ]
     },
     "execution_count": 22,
     "metadata": {},
     "output_type": "execute_result"
    }
   ],
   "source": [
    "awkward.all(trimmed_a == expected_result)"
   ]
  },
  {
   "cell_type": "code",
   "execution_count": 23,
   "id": "bce0aaff-2c82-41a2-8aed-3ef85345fe0b",
   "metadata": {},
   "outputs": [],
   "source": [
    "def map_index_to_array(array, index):\n",
    "    axis2_counts_array = awkward.num(index, axis=2)\n",
    "    flat_axis2_counts_array = awkward.flatten(axis2_counts_array, axis=1)\n",
    "    flat_index = awkward.flatten(index, axis=2)\n",
    "    trimmed_flat_array = array[flat_index]\n",
    "    trimmed_array = awkward.unflatten(trimmed_flat_array, flat_axis2_counts_array, axis=1)\n",
    "    return trimmed_array"
   ]
  },
  {
   "cell_type": "code",
   "execution_count": 24,
   "id": "d100b8b5-19b3-4178-9f74-cc89d23d41a3",
   "metadata": {},
   "outputs": [
    {
     "data": {
      "text/html": [
       "<pre>[[[44], [44, 33], [23]],\n",
       " [[932, 24], [456]],\n",
       " []]\n",
       "---------------------------\n",
       "type: 3 * var * var * int64</pre>"
      ],
      "text/plain": [
       "<Array [[[44], [44, 33], [23]], [...], []] type='3 * var * var * int64'>"
      ]
     },
     "execution_count": 24,
     "metadata": {},
     "output_type": "execute_result"
    }
   ],
   "source": [
    "map_index_to_array(a, a_index)"
   ]
  },
  {
   "cell_type": "code",
   "execution_count": null,
   "id": "fbbf5f0b-b6a0-4a02-b8cc-dacb124e9d22",
   "metadata": {},
   "outputs": [],
   "source": []
  }
 ],
 "metadata": {
  "kernelspec": {
   "display_name": "fcc-dev",
   "language": "python",
   "name": "fcc-dev"
  },
  "language_info": {
   "codemirror_mode": {
    "name": "ipython",
    "version": 3
   },
   "file_extension": ".py",
   "mimetype": "text/x-python",
   "name": "python",
   "nbconvert_exporter": "python",
   "pygments_lexer": "ipython3",
   "version": "3.12.4"
  }
 },
 "nbformat": 4,
 "nbformat_minor": 5
}
