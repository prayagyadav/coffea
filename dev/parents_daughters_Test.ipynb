{
 "cells": [
  {
   "cell_type": "code",
   "execution_count": 1,
   "id": "82b6b8d2-7e17-48b0-8ab2-fccc3afbd63b",
   "metadata": {
    "editable": true,
    "slideshow": {
     "slide_type": ""
    },
    "tags": []
   },
   "outputs": [
    {
     "name": "stdout",
     "output_type": "stream",
     "text": [
      "_______________________________________\n",
      "\tCurrent Configuration\n",
      "---------------------------------------\n",
      "Coffea Version:  0.1.dev3583+ge06c4b8\n",
      "Branch: \t master\n",
      "Modified by: \t Prayag Yadav\n",
      "_______________________________________\n"
     ]
    }
   ],
   "source": [
    "import coffea\n",
    "from git import Repo\n",
    "import uproot\n",
    "mod = \"Prayag Yadav\"\n",
    "local_repo = Repo(path='coffea')\n",
    "local_branch = local_repo.active_branch.name\n",
    "print(\"_______________________________________\")\n",
    "print(\"\\tCurrent Configuration\")\n",
    "print(\"---------------------------------------\")\n",
    "print(\"Coffea Version: \", coffea.__version__)\n",
    "print(\"Branch: \\t\", local_branch)\n",
    "print(\"Modified by: \\t\", mod)\n",
    "print(\"_______________________________________\")\n"
   ]
  },
  {
   "cell_type": "code",
   "execution_count": 12,
   "id": "d9719079-4241-4159-8801-4b231da29582",
   "metadata": {},
   "outputs": [],
   "source": [
    "from coffea.nanoevents import NanoEventsFactory, FCC\n",
    "test_file = '../../../coffea-fcc-analyses/data/p8_ee_ZH_ecm240/events_082532938.root'\n",
    "#test_file = './test_Spring2021.root'\n",
    "file = uproot.open(test_file)\n",
    "\n",
    "events = NanoEventsFactory.from_root(\n",
    "    test_file+\":events\",\n",
    "    # entry_stop=100000,\n",
    "    schemaclass= FCC.get_schema(version=\"latest\"),\n",
    "    delayed = True,\n",
    "    metadata=file[\"metadata\"].arrays()\n",
    ").events()\n",
    "\n",
    "file.close()"
   ]
  },
  {
   "cell_type": "code",
   "execution_count": 13,
   "id": "0a25121c-1b77-4f7d-a367-3277c3ee0857",
   "metadata": {},
   "outputs": [
    {
     "data": {
      "text/html": [
       "<pre>[[[2], [3], [4, 5], [4, 5], [8, 9], [37, 38], [], ..., [], [], [], [], [], []],\n",
       " [[11], [12], [4, 5], [4, 5], [8], [9], [10, ...], ..., [], [], [], [], [], []],\n",
       " [[11], [12], [4, 5], [4, 5], [8], [9], ..., [262, ...], [], [], [], [], []],\n",
       " [[2], [3], [4, 5], [4, 5], [8, 9], [10, ...], ..., [61, 62], [], [], [], []],\n",
       " [[6], [7], [4, 5], [4, 5], [8], [9], [10, ...], ..., [], [], [], [], [], []],\n",
       " [[11], [12], [4, 5], [4, 5], [8], [9], [2], ..., [], [], [29, 30], [], [], []],\n",
       " [[17], [18], [4, 5], [4, 5], [8], [9], [2], ..., [], [], [], [], [], []],\n",
       " [[6], [7], [4, 5], [4, 5], [8], [9], ..., [], [], [], [419, 420], [], []],\n",
       " [[11], [12], [4, 5], [4, 5], [8], [9], [2], ..., [], [], [], [], [], [], []],\n",
       " [[6], [7], [4, 5], [4, 5], [8], [9], [10, ...], ..., [], [], [], [], [], []],\n",
       " ...,\n",
       " [[6], [7], [4, 5], [4, 5], [8], [9], [10, ...], ..., [], [], [], [], [], []],\n",
       " [[6], [7], [4, 5], [4, 5], [8], [9], [2], ..., [], [142, 143], [], [], [], []],\n",
       " [[2], [3], [4, 5], [4, 5], [8, 9], [10, 11], [], ..., [], [], [], [], [], []],\n",
       " [[6], [7], [4, 5], [4, 5], [8], [9], ..., [259, ...], [], [], [261], [], []],\n",
       " [[11], [12], [4, 5], [4, 5], [8], [9], ..., [], [177, 178], [], [], [], []],\n",
       " [[11], [12], [4, 5], [4, 5], [8], [9], ..., [], [280, 281], [], [], [], []],\n",
       " [[2], [3], [4, 5], [4, 5], [8, 9], [10, ...], ..., [206, 207], [], [], [], []],\n",
       " [[6], [7], [4, 5], [4, 5], [8], [9], ..., [...], [266, 267], [], [], [], []],\n",
       " [[6], [7], [4, 5], [4, 5], [8], [9], [2], ..., [...], [], [], [], [], [], []]]\n",
       "--------------------------------------------------------------------------------\n",
       "type: 100000 * var * var * int32[parameters={&quot;__doc__&quot;: &quot;index[Particle#1_]&quot;}]</pre>"
      ],
      "text/plain": [
       "<Array [[[2], [3], [4, ...], ..., [], []], ...] type='100000 * var * var * ...'>"
      ]
     },
     "execution_count": 13,
     "metadata": {},
     "output_type": "execute_result"
    }
   ],
   "source": [
    "events.Particle.get_daughters_index.compute()"
   ]
  },
  {
   "cell_type": "code",
   "execution_count": 14,
   "id": "d374e59f-7dca-4f50-9c3b-b429212be973",
   "metadata": {},
   "outputs": [
    {
     "data": {
      "text/html": [
       "<pre>[[[{PDG: 11, charge: -1, colorFlow: {a: 0, ...}, daughters: {...}, ...}], ...],\n",
       " [[{PDG: 11, charge: -1, colorFlow: {a: 0, ...}, daughters: {...}, ...}], ...],\n",
       " [[{PDG: 11, charge: -1, colorFlow: {a: 0, ...}, daughters: {...}, ...}], ...],\n",
       " [[{PDG: 11, charge: -1, colorFlow: {a: 0, ...}, daughters: {...}, ...}], ...],\n",
       " [[{PDG: 11, charge: -1, colorFlow: {a: 0, ...}, daughters: {...}, ...}], ...],\n",
       " [[{PDG: 11, charge: -1, colorFlow: {a: 0, ...}, daughters: {...}, ...}], ...],\n",
       " [[{PDG: 11, charge: -1, colorFlow: {a: 0, ...}, daughters: {...}, ...}], ...],\n",
       " [[{PDG: 11, charge: -1, colorFlow: {a: 0, ...}, daughters: {...}, ...}], ...],\n",
       " [[{PDG: 11, charge: -1, colorFlow: {a: 0, ...}, daughters: {...}, ...}], ...],\n",
       " [[{PDG: 11, charge: -1, colorFlow: {a: 0, ...}, daughters: {...}, ...}], ...],\n",
       " ...,\n",
       " [[{PDG: 11, charge: -1, colorFlow: {a: 0, ...}, daughters: {...}, ...}], ...],\n",
       " [[{PDG: 11, charge: -1, colorFlow: {a: 0, ...}, daughters: {...}, ...}], ...],\n",
       " [[{PDG: 11, charge: -1, colorFlow: {a: 0, ...}, daughters: {...}, ...}], ...],\n",
       " [[{PDG: 11, charge: -1, colorFlow: {a: 0, ...}, daughters: {...}, ...}], ...],\n",
       " [[{PDG: 11, charge: -1, colorFlow: {a: 0, ...}, daughters: {...}, ...}], ...],\n",
       " [[{PDG: 11, charge: -1, colorFlow: {a: 0, ...}, daughters: {...}, ...}], ...],\n",
       " [[{PDG: 11, charge: -1, colorFlow: {a: 0, ...}, daughters: {...}, ...}], ...],\n",
       " [[{PDG: 11, charge: -1, colorFlow: {a: 0, ...}, daughters: {...}, ...}], ...],\n",
       " [[{PDG: 11, charge: -1, colorFlow: {a: 0, ...}, daughters: {...}, ...}], ...]]\n",
       "---------------------------------------------------------------------------------\n",
       "type: 100000 * var * var * MCTruthParticle[\n",
       "    PDG: int32[parameters={&quot;__doc__&quot;: &quot;PDG[Particle_]&quot;}],\n",
       "    charge: float32[parameters={&quot;__doc__&quot;: &quot;charge[Particle_]&quot;}],\n",
       "    colorFlow: {\n",
       "        a: int32[parameters={&quot;__doc__&quot;: &quot;a[Particle_]&quot;}],\n",
       "        b: int32[parameters={&quot;__doc__&quot;: &quot;b[Particle_]&quot;}]\n",
       "    },\n",
       "    daughters: {\n",
       "        begin: uint32[parameters={&quot;__doc__&quot;: &quot;daughters_begin[Particle_]&quot;}],\n",
       "        end: uint32[parameters={&quot;__doc__&quot;: &quot;daughters_end[Particle_]&quot;}]\n",
       "    },\n",
       "    endpoint: ThreeVector[\n",
       "        x: float64[parameters={&quot;__doc__&quot;: &quot;x[Particle_]&quot;}],\n",
       "        y: float64[parameters={&quot;__doc__&quot;: &quot;y[Particle_]&quot;}],\n",
       "        z: float64[parameters={&quot;__doc__&quot;: &quot;z[Particle_]&quot;}]\n",
       "    ],\n",
       "    generatorStatus: int32[parameters={&quot;__doc__&quot;: &quot;generatorStatus[Particle_]&quot;}],\n",
       "    mass: float64[parameters={&quot;__doc__&quot;: &quot;mass[Particle_]&quot;}],\n",
       "    momentumAtEndpoint: ThreeVector[\n",
       "        x: float32[parameters={&quot;__doc__&quot;: &quot;x[Particle_]&quot;}],\n",
       "        y: float32[parameters={&quot;__doc__&quot;: &quot;y[Particle_]&quot;}],\n",
       "        z: float32[parameters={&quot;__doc__&quot;: &quot;z[Particle_]&quot;}]\n",
       "    ],\n",
       "    parents: {\n",
       "        begin: uint32[parameters={&quot;__doc__&quot;: &quot;parents_begin[Particle_]&quot;}],\n",
       "        end: uint32[parameters={&quot;__doc__&quot;: &quot;parents_end[Particle_]&quot;}]\n",
       "    },\n",
       "    px: float32[parameters={&quot;__doc__&quot;: &quot;x[Particle_]&quot;}],\n",
       "    py: float32[parameters={&quot;__doc__&quot;: &quot;y[Particle_]&quot;}],\n",
       "    pz: float32[parameters={&quot;__doc__&quot;: &quot;z[Particle_]&quot;}],\n",
       "    simulatorStatus: int32[parameters={&quot;__doc__&quot;: &quot;simulatorStatus[Particle_]&quot;}],\n",
       "    spin: ThreeVector[\n",
       "        x: float32[parameters={&quot;__doc__&quot;: &quot;x[Particle_]&quot;}],\n",
       "        y: float32[parameters={&quot;__doc__&quot;: &quot;y[Particle_]&quot;}],\n",
       "        z: float32[parameters={&quot;__doc__&quot;: &quot;z[Particle_]&quot;}]\n",
       "    ],\n",
       "    time: float32[parameters={&quot;__doc__&quot;: &quot;time[Particle_]&quot;}],\n",
       "    vertex: ThreeVector[\n",
       "        x: float64[parameters={&quot;__doc__&quot;: &quot;x[Particle_]&quot;}],\n",
       "        y: float64[parameters={&quot;__doc__&quot;: &quot;y[Particle_]&quot;}],\n",
       "        z: float64[parameters={&quot;__doc__&quot;: &quot;z[Particle_]&quot;}]\n",
       "    ], \n",
       "parameters={&quot;collection_name&quot;: &quot;Particle&quot;}]</pre>"
      ],
      "text/plain": [
       "<MCTruthParticleArray [[[{PDG: 11, ...}], ..., []], ...] type='100000 * var...'>"
      ]
     },
     "execution_count": 14,
     "metadata": {},
     "output_type": "execute_result"
    }
   ],
   "source": [
    "events.Particle.get_daughters.compute()"
   ]
  },
  {
   "cell_type": "code",
   "execution_count": 15,
   "id": "21831037-9b61-42f2-8bab-aa800e04671a",
   "metadata": {},
   "outputs": [
    {
     "data": {
      "text/html": [
       "<pre>[[[], [], [0], [1], [2, 3], [2, 3], ..., [275], [275], [276], [276], [], []],\n",
       " [[6], [7], [2, 3], [2, 3], [11], [12], ..., [205], [213], [213], [], []],\n",
       " [[6], [7], [2, 3], [2, 3], [11], [12], ..., [259], [259], [259], [], []],\n",
       " [[0], [1], [2, 3], [2, 3], [0], [1], [4], ..., [57], [57], [58], [58], [], []],\n",
       " [[6], [7], [2, 3], [2, 3], [0], [1], ..., [286], [286], [289], [289], [], []],\n",
       " [[6], [7], [2, 3], [2, 3], [11], [12], ..., [19], [19], [27], [27], [], []],\n",
       " [[6], [7], [2, 3], [2, 3], [11], [12], ..., [277], [278], [278], [], []],\n",
       " [[6], [7], [2, 3], [2, 3], [0], [1], ..., [405], [408], [418], [418], [], []],\n",
       " [[6], [7], [2, 3], [2, 3], [11], [12], ..., [150], [151], [151], [], []],\n",
       " [[6], [7], [2, 3], [2, 3], [0], [1], ..., [233], [233], [234], [234], [], []],\n",
       " ...,\n",
       " [[6], [7], [2, 3], [2, 3], [0], [1], ..., [448], [448], [449], [449], [], []],\n",
       " [[6], [7], [2, 3], [2, 3], [0], [1], ..., [137], [137], [139], [139], [], []],\n",
       " [[0], [1], [2, 3], [2, 3], [0], [1], ..., [272], [272], [273], [273], [], []],\n",
       " [[6], [7], [2, 3], [2, 3], [0], [1], ..., [255], [256], [256], [259], [], []],\n",
       " [[6], [7], [2, 3], [2, 3], [11], [12], ..., [169], [174], [174], [], []],\n",
       " [[6], [7], [2, 3], [2, 3], [11], [12], ..., [273], [277], [277], [], []],\n",
       " [[0], [1], [2, 3], [2, 3], [0], [1], ..., [202], [202], [203], [203], [], []],\n",
       " [[6], [7], [2, 3], [2, 3], [0], [1], ..., [262], [262], [263], [263], [], []],\n",
       " [[6], [7], [2, 3], [2, 3], [0], [1], ..., [159], [177], [177], [178], [178]]]\n",
       "--------------------------------------------------------------------------------\n",
       "type: 100000 * var * var * int32[parameters={&quot;__doc__&quot;: &quot;index[Particle#0_]&quot;}]</pre>"
      ],
      "text/plain": [
       "<Array [[[], [], [0], ..., [276], [], []], ...] type='100000 * var * var * ...'>"
      ]
     },
     "execution_count": 15,
     "metadata": {},
     "output_type": "execute_result"
    }
   ],
   "source": [
    "events.Particle.get_parents_index.compute()"
   ]
  },
  {
   "cell_type": "code",
   "execution_count": 16,
   "id": "c28def76-d2ae-4bfb-a568-e9b09ef036b9",
   "metadata": {},
   "outputs": [
    {
     "data": {
      "text/html": [
       "<pre>[[[], [], [{PDG: 11, charge: -1, colorFlow: {...}, ...}], ..., [{...}], [], []],\n",
       " [[{PDG: 11, charge: -1, colorFlow: {a: 0, ...}, daughters: {...}, ...}], ...],\n",
       " [[{PDG: 11, charge: -1, colorFlow: {a: 0, ...}, daughters: {...}, ...}], ...],\n",
       " [[{PDG: 11, charge: -1, colorFlow: {a: 0, ...}, daughters: {...}, ...}], ...],\n",
       " [[{PDG: 11, charge: -1, colorFlow: {a: 0, ...}, daughters: {...}, ...}], ...],\n",
       " [[{PDG: 11, charge: -1, colorFlow: {a: 0, ...}, daughters: {...}, ...}], ...],\n",
       " [[{PDG: 11, charge: -1, colorFlow: {a: 0, ...}, daughters: {...}, ...}], ...],\n",
       " [[{PDG: 11, charge: -1, colorFlow: {a: 0, ...}, daughters: {...}, ...}], ...],\n",
       " [[{PDG: 11, charge: -1, colorFlow: {a: 0, ...}, daughters: {...}, ...}], ...],\n",
       " [[{PDG: 11, charge: -1, colorFlow: {a: 0, ...}, daughters: {...}, ...}], ...],\n",
       " ...,\n",
       " [[{PDG: 11, charge: -1, colorFlow: {a: 0, ...}, daughters: {...}, ...}], ...],\n",
       " [[{PDG: 11, charge: -1, colorFlow: {a: 0, ...}, daughters: {...}, ...}], ...],\n",
       " [[{PDG: 11, charge: -1, colorFlow: {a: 0, ...}, daughters: {...}, ...}], ...],\n",
       " [[{PDG: 11, charge: -1, colorFlow: {a: 0, ...}, daughters: {...}, ...}], ...],\n",
       " [[{PDG: 11, charge: -1, colorFlow: {a: 0, ...}, daughters: {...}, ...}], ...],\n",
       " [[{PDG: 11, charge: -1, colorFlow: {a: 0, ...}, daughters: {...}, ...}], ...],\n",
       " [[{PDG: 11, charge: -1, colorFlow: {a: 0, ...}, daughters: {...}, ...}], ...],\n",
       " [[{PDG: 11, charge: -1, colorFlow: {a: 0, ...}, daughters: {...}, ...}], ...],\n",
       " [[{PDG: 11, charge: -1, colorFlow: {a: 0, ...}, daughters: {...}, ...}], ...]]\n",
       "---------------------------------------------------------------------------------\n",
       "type: 100000 * var * var * MCTruthParticle[\n",
       "    PDG: int32[parameters={&quot;__doc__&quot;: &quot;PDG[Particle_]&quot;}],\n",
       "    charge: float32[parameters={&quot;__doc__&quot;: &quot;charge[Particle_]&quot;}],\n",
       "    colorFlow: {\n",
       "        a: int32[parameters={&quot;__doc__&quot;: &quot;a[Particle_]&quot;}],\n",
       "        b: int32[parameters={&quot;__doc__&quot;: &quot;b[Particle_]&quot;}]\n",
       "    },\n",
       "    daughters: {\n",
       "        begin: uint32[parameters={&quot;__doc__&quot;: &quot;daughters_begin[Particle_]&quot;}],\n",
       "        end: uint32[parameters={&quot;__doc__&quot;: &quot;daughters_end[Particle_]&quot;}]\n",
       "    },\n",
       "    endpoint: ThreeVector[\n",
       "        x: float64[parameters={&quot;__doc__&quot;: &quot;x[Particle_]&quot;}],\n",
       "        y: float64[parameters={&quot;__doc__&quot;: &quot;y[Particle_]&quot;}],\n",
       "        z: float64[parameters={&quot;__doc__&quot;: &quot;z[Particle_]&quot;}]\n",
       "    ],\n",
       "    generatorStatus: int32[parameters={&quot;__doc__&quot;: &quot;generatorStatus[Particle_]&quot;}],\n",
       "    mass: float64[parameters={&quot;__doc__&quot;: &quot;mass[Particle_]&quot;}],\n",
       "    momentumAtEndpoint: ThreeVector[\n",
       "        x: float32[parameters={&quot;__doc__&quot;: &quot;x[Particle_]&quot;}],\n",
       "        y: float32[parameters={&quot;__doc__&quot;: &quot;y[Particle_]&quot;}],\n",
       "        z: float32[parameters={&quot;__doc__&quot;: &quot;z[Particle_]&quot;}]\n",
       "    ],\n",
       "    parents: {\n",
       "        begin: uint32[parameters={&quot;__doc__&quot;: &quot;parents_begin[Particle_]&quot;}],\n",
       "        end: uint32[parameters={&quot;__doc__&quot;: &quot;parents_end[Particle_]&quot;}]\n",
       "    },\n",
       "    px: float32[parameters={&quot;__doc__&quot;: &quot;x[Particle_]&quot;}],\n",
       "    py: float32[parameters={&quot;__doc__&quot;: &quot;y[Particle_]&quot;}],\n",
       "    pz: float32[parameters={&quot;__doc__&quot;: &quot;z[Particle_]&quot;}],\n",
       "    simulatorStatus: int32[parameters={&quot;__doc__&quot;: &quot;simulatorStatus[Particle_]&quot;}],\n",
       "    spin: ThreeVector[\n",
       "        x: float32[parameters={&quot;__doc__&quot;: &quot;x[Particle_]&quot;}],\n",
       "        y: float32[parameters={&quot;__doc__&quot;: &quot;y[Particle_]&quot;}],\n",
       "        z: float32[parameters={&quot;__doc__&quot;: &quot;z[Particle_]&quot;}]\n",
       "    ],\n",
       "    time: float32[parameters={&quot;__doc__&quot;: &quot;time[Particle_]&quot;}],\n",
       "    vertex: ThreeVector[\n",
       "        x: float64[parameters={&quot;__doc__&quot;: &quot;x[Particle_]&quot;}],\n",
       "        y: float64[parameters={&quot;__doc__&quot;: &quot;y[Particle_]&quot;}],\n",
       "        z: float64[parameters={&quot;__doc__&quot;: &quot;z[Particle_]&quot;}]\n",
       "    ], \n",
       "parameters={&quot;collection_name&quot;: &quot;Particle&quot;}]</pre>"
      ],
      "text/plain": [
       "<MCTruthParticleArray [[[], [], [{...}], ..., [], []], ...] type='100000 * ...'>"
      ]
     },
     "execution_count": 16,
     "metadata": {},
     "output_type": "execute_result"
    }
   ],
   "source": [
    "events.Particle.get_parents.compute()"
   ]
  }
 ],
 "metadata": {
  "kernelspec": {
   "display_name": "fcc-dev",
   "language": "python",
   "name": "fcc-dev"
  },
  "language_info": {
   "codemirror_mode": {
    "name": "ipython",
    "version": 3
   },
   "file_extension": ".py",
   "mimetype": "text/x-python",
   "name": "python",
   "nbconvert_exporter": "python",
   "pygments_lexer": "ipython3",
   "version": "3.12.4"
  }
 },
 "nbformat": 4,
 "nbformat_minor": 5
}
