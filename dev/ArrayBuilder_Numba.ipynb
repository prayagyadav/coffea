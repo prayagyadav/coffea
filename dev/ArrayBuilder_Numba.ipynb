{
 "cells": [
  {
   "cell_type": "code",
   "execution_count": 1,
   "id": "e11a4f20-1c95-49ba-932e-f713a66e265a",
   "metadata": {},
   "outputs": [],
   "source": [
    "import awkward\n",
    "import numba"
   ]
  },
  {
   "cell_type": "code",
   "execution_count": 3,
   "id": "247a1dfc-7ef3-4b39-92de-f029993421a6",
   "metadata": {},
   "outputs": [
    {
     "data": {
      "text/html": [
       "<pre>-----------------\n",
       "type: 0 * unknown</pre>"
      ],
      "text/plain": [
       "<Array [] type='0 * unknown'>"
      ]
     },
     "execution_count": 3,
     "metadata": {},
     "output_type": "execute_result"
    }
   ],
   "source": [
    "awkward.ArrayBuilder().snapshot()"
   ]
  },
  {
   "cell_type": "code",
   "execution_count": 5,
   "id": "dbca51d6-ef3e-4146-93ca-cef37ec3302c",
   "metadata": {},
   "outputs": [
    {
     "data": {
      "text/plain": [
       "['List',\n",
       " 'Record',\n",
       " 'Tuple',\n",
       " '_Nested',\n",
       " '__abstractmethods__',\n",
       " '__array__',\n",
       " '__arrow_array__',\n",
       " '__bool__',\n",
       " '__class__',\n",
       " '__delattr__',\n",
       " '__dict__',\n",
       " '__dir__',\n",
       " '__doc__',\n",
       " '__eq__',\n",
       " '__format__',\n",
       " '__ge__',\n",
       " '__getattribute__',\n",
       " '__getstate__',\n",
       " '__gt__',\n",
       " '__hash__',\n",
       " '__init__',\n",
       " '__init_subclass__',\n",
       " '__le__',\n",
       " '__len__',\n",
       " '__lt__',\n",
       " '__module__',\n",
       " '__ne__',\n",
       " '__new__',\n",
       " '__reduce__',\n",
       " '__reduce_ex__',\n",
       " '__repr__',\n",
       " '__setattr__',\n",
       " '__sizeof__',\n",
       " '__slots__',\n",
       " '__str__',\n",
       " '__subclasshook__',\n",
       " '__weakref__',\n",
       " '_abc_impl',\n",
       " '_attrs',\n",
       " '_behavior',\n",
       " '_layout',\n",
       " '_repr',\n",
       " '_wrap',\n",
       " 'append',\n",
       " 'attrs',\n",
       " 'begin_list',\n",
       " 'begin_record',\n",
       " 'begin_tuple',\n",
       " 'behavior',\n",
       " 'boolean',\n",
       " 'bytestring',\n",
       " 'complex',\n",
       " 'datetime',\n",
       " 'end_list',\n",
       " 'end_record',\n",
       " 'end_tuple',\n",
       " 'extend',\n",
       " 'field',\n",
       " 'index',\n",
       " 'integer',\n",
       " 'list',\n",
       " 'null',\n",
       " 'numba_type',\n",
       " 'real',\n",
       " 'record',\n",
       " 'show',\n",
       " 'snapshot',\n",
       " 'string',\n",
       " 'timedelta',\n",
       " 'to_list',\n",
       " 'to_numpy',\n",
       " 'tolist',\n",
       " 'tuple',\n",
       " 'type',\n",
       " 'typestr']"
      ]
     },
     "execution_count": 5,
     "metadata": {},
     "output_type": "execute_result"
    }
   ],
   "source": [
    "dir(awkward.ArrayBuilder())"
   ]
  },
  {
   "cell_type": "code",
   "execution_count": 7,
   "id": "a594c988-f93a-40b9-baa7-3ad82db2db36",
   "metadata": {},
   "outputs": [
    {
     "data": {
      "text/html": [
       "<pre>[[1.1, 2, 3],\n",
       " [2],\n",
       " [],\n",
       " [4, 5]]\n",
       "-----------------------\n",
       "type: 4 * var * float64</pre>"
      ],
      "text/plain": [
       "<Array [[1.1, 2, 3], [2], [], [4, 5]] type='4 * var * float64'>"
      ]
     },
     "execution_count": 7,
     "metadata": {},
     "output_type": "execute_result"
    }
   ],
   "source": [
    "a = awkward.Array(\n",
    "    [\n",
    "        [1.1,2,3],\n",
    "        [2],\n",
    "        [],\n",
    "        [4,5]\n",
    "    ]\n",
    ")\n",
    "a"
   ]
  },
  {
   "cell_type": "code",
   "execution_count": 14,
   "id": "79ebf5e0-d07b-4d75-a42b-772ee755c6b0",
   "metadata": {},
   "outputs": [],
   "source": [
    "@numba.njit\n",
    "def explode_numba_wrap(ev, builder):\n",
    "    for e in ev:\n",
    "        builder.begin_list()\n",
    "        n = len(e)\n",
    "        for i in range(n):\n",
    "            builder.begin_list()\n",
    "            for j in e:\n",
    "                builder.real(j)\n",
    "            builder.end_list()\n",
    "        builder.end_list()\n",
    "    return builder\n",
    "                \n",
    "\n",
    "def explode(ev):\n",
    "    if awkward.backend(ev) == \"typetracer\":\n",
    "        # here we fake the output of numba wrapper function since\n",
    "        # operating on length-zero data returns the wrong layout!\n",
    "        awkward.typetracer.length_zero_if_typetracer(ev) # force touching of the necessary data\n",
    "        return awkward.Array(awkward.Array([]).layout.to_typetracer(forget_length=True))\n",
    "    return explode_numba_wrap(ev, awkward.ArrayBuilder()).snapshot()"
   ]
  },
  {
   "cell_type": "code",
   "execution_count": 15,
   "id": "b49e7290-fa38-4f2e-bed5-b5ed636d5d25",
   "metadata": {},
   "outputs": [
    {
     "data": {
      "text/html": [
       "<pre>[[[1.1, 2, 3], [1.1, 2, 3], [1.1, 2, 3]],\n",
       " [[2]],\n",
       " [],\n",
       " [[4, 5], [4, 5]]]\n",
       "-----------------------------------------\n",
       "type: 4 * var * var * float64</pre>"
      ],
      "text/plain": [
       "<Array [[[1.1, 2, 3], ..., [1.1, ..., 3]], ...] type='4 * var * var * float64'>"
      ]
     },
     "execution_count": 15,
     "metadata": {},
     "output_type": "execute_result"
    }
   ],
   "source": [
    "explode(a)"
   ]
  },
  {
   "cell_type": "code",
   "execution_count": null,
   "id": "e0bb9cc7-417c-4ec2-9d9d-bab28dc72918",
   "metadata": {},
   "outputs": [],
   "source": []
  }
 ],
 "metadata": {
  "kernelspec": {
   "display_name": "Python 3 (ipykernel)",
   "language": "python",
   "name": "python3"
  },
  "language_info": {
   "codemirror_mode": {
    "name": "ipython",
    "version": 3
   },
   "file_extension": ".py",
   "mimetype": "text/x-python",
   "name": "python",
   "nbconvert_exporter": "python",
   "pygments_lexer": "ipython3",
   "version": "3.12.4"
  }
 },
 "nbformat": 4,
 "nbformat_minor": 5
}
