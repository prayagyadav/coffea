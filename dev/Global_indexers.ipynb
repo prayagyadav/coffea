{
 "cells": [
  {
   "cell_type": "code",
   "execution_count": 1,
   "id": "99084dd3-6427-4543-936c-eb530c453e51",
   "metadata": {},
   "outputs": [
    {
     "name": "stderr",
     "output_type": "stream",
     "text": [
      "/home/prayag/coffeafcc/development/coffea/src/coffea/nanoevents/schemas/fcc.py:5: FutureWarning: In version 2025.1.0 (target date: 2024-12-31 11:59:59-06:00), this will be an error.\n",
      "To raise these warnings as errors (and get stack traces to find out where they're called), run\n",
      "    import warnings\n",
      "    warnings.filterwarnings(\"error\", module=\"coffea.*\")\n",
      "after the first `import coffea` or use `@pytest.mark.filterwarnings(\"error:::coffea.*\")` in pytest.\n",
      "Issue: coffea.nanoevents.methods.vector will be removed and replaced with scikit-hep vector. Nanoevents schemas internal to coffea will be migrated. Otherwise please consider using that package!.\n",
      "  from coffea.nanoevents.methods import vector\n"
     ]
    }
   ],
   "source": [
    "from coffea.nanoevents import NanoEventsFactory, BaseSchema, FCC\n",
    "import awkward as ak\n",
    "import dask_awkward as dak\n",
    "import numpy as np"
   ]
  },
  {
   "cell_type": "code",
   "execution_count": 2,
   "id": "b0479692-bda9-43e7-aeff-3009a0fd04a5",
   "metadata": {},
   "outputs": [
    {
     "name": "stderr",
     "output_type": "stream",
     "text": [
      "/home/prayag/coffeafcc/development/coffea/src/coffea/util.py:226: UserWarning: Skipping _intMap as it is not interpretable by Uproot\n",
      "  warnings.warn(\n",
      "/home/prayag/coffeafcc/development/coffea/src/coffea/util.py:234: UserWarning: Skipping _intMap.first as it is not interpretable by Uproot\n",
      "  warnings.warn(\n",
      "/home/prayag/coffeafcc/development/coffea/src/coffea/util.py:234: UserWarning: Skipping _intMap.second as it is not interpretable by Uproot\n",
      "  warnings.warn(\n",
      "/home/prayag/coffeafcc/development/coffea/src/coffea/util.py:226: UserWarning: Skipping _floatMap as it is not interpretable by Uproot\n",
      "  warnings.warn(\n",
      "/home/prayag/coffeafcc/development/coffea/src/coffea/util.py:234: UserWarning: Skipping _floatMap.first as it is not interpretable by Uproot\n",
      "  warnings.warn(\n",
      "/home/prayag/coffeafcc/development/coffea/src/coffea/util.py:234: UserWarning: Skipping _floatMap.second as it is not interpretable by Uproot\n",
      "  warnings.warn(\n",
      "/home/prayag/coffeafcc/development/coffea/src/coffea/util.py:226: UserWarning: Skipping _stringMap as it is not interpretable by Uproot\n",
      "  warnings.warn(\n",
      "/home/prayag/coffeafcc/development/coffea/src/coffea/util.py:234: UserWarning: Skipping _stringMap.first as it is not interpretable by Uproot\n",
      "  warnings.warn(\n",
      "/home/prayag/coffeafcc/development/coffea/src/coffea/util.py:234: UserWarning: Skipping _stringMap.second as it is not interpretable by Uproot\n",
      "  warnings.warn(\n"
     ]
    }
   ],
   "source": [
    "fcc = FCC.get_schema()\n",
    "events = NanoEventsFactory.from_root(\n",
    "    '../coffea-fcc-analyses/data/wzp6_ee_mumuH_Hbb_ecm240/events_159112833.root:events',\n",
    "    schemaclass=fcc,\n",
    "    entry_stop=100,\n",
    "    metadata={'dataset':'ZH'},\n",
    "    delayed=True,\n",
    "    uproot_options={\"filter_name\": lambda x : \"PARAMETERS\" not in x}\n",
    ").events()"
   ]
  },
  {
   "cell_type": "code",
   "execution_count": 3,
   "id": "e2244a51-a75d-4161-a67c-d203647ee2a8",
   "metadata": {},
   "outputs": [
    {
     "data": {
      "text/plain": [
       "['E',\n",
       " 'Electronidx0_indexGlobal',\n",
       " 'MCRecoAssociationsidx0_indexGlobal',\n",
       " 'Muonidx0_indexGlobal',\n",
       " 'charge',\n",
       " 'clusters',\n",
       " 'covMatrix_10_',\n",
       " 'goodnessOfPID',\n",
       " 'mass',\n",
       " 'particleIDs',\n",
       " 'particles',\n",
       " 'px',\n",
       " 'py',\n",
       " 'pz',\n",
       " 'referencePoint',\n",
       " 'tracks',\n",
       " 'type']"
      ]
     },
     "execution_count": 3,
     "metadata": {},
     "output_type": "execute_result"
    }
   ],
   "source": [
    "events.ReconstructedParticles.fields"
   ]
  },
  {
   "cell_type": "markdown",
   "id": "f9064bee-8693-48cd-844a-3df9aad6ae75",
   "metadata": {},
   "source": [
    "#### Note the extra fields `Electronidx0_indexGlobal`, `MCRecoAssociationsidx0_indexGlobal`, and `Muonidx0_indexGlobal`.\n",
    "#### They are the global indices to cross references for this collection"
   ]
  },
  {
   "cell_type": "code",
   "execution_count": 4,
   "id": "f1e32d75-9a84-470e-a56e-1238496a3135",
   "metadata": {},
   "outputs": [
    {
     "data": {
      "text/html": [
       "<pre>[[-1, -1, -1, -1, -1, -1, -1, -1, -1, ..., -1, -1, -1, -1, -1, -1, -1, -1, -1],\n",
       " [-1, -1, -1, -1, -1, -1, -1, -1, -1, ..., -1, -1, -1, -1, -1, -1, -1, -1, -1],\n",
       " [-1, -1, -1, -1, 143, -1, -1, -1, -1, ..., -1, -1, -1, -1, -1, -1, -1, -1, -1],\n",
       " [-1, -1, -1, -1, 198, -1, -1, -1, -1, ..., -1, -1, -1, -1, -1, -1, -1, -1, -1],\n",
       " [266, -1, -1, 269, -1, -1, -1, -1, -1, ..., -1, -1, -1, -1, -1, -1, -1, -1],\n",
       " [-1, -1, -1, -1, -1, -1, -1, -1, -1, ..., -1, -1, -1, -1, -1, -1, -1, -1, -1],\n",
       " [-1, -1, -1, -1, -1, -1, -1, 392, -1, ..., -1, -1, -1, -1, -1, -1, -1, -1, -1],\n",
       " [-1, -1, -1, -1, -1, -1, 447, -1, -1, ..., -1, -1, -1, -1, -1, -1, -1, -1, -1],\n",
       " [-1, -1, -1, -1, -1, -1, -1, -1, 529, ..., -1, -1, -1, -1, -1, -1, -1, -1, -1],\n",
       " [-1, -1, -1, -1, -1, -1, -1, -1, -1, ..., -1, -1, -1, -1, -1, -1, -1, -1, -1],\n",
       " ...,\n",
       " [-1, -1, -1, -1, -1, -1, -1, -1, -1, ..., -1, -1, -1, -1, -1, -1, -1, -1, -1],\n",
       " [-1, -1, -1, -1, -1, -1, -1, -1, -1, ..., -1, -1, -1, -1, -1, -1, -1, -1, -1],\n",
       " [-1, -1, -1, 5826092, -1, -1, -1, -1, -1, ..., -1, -1, -1, -1, -1, -1, -1, -1],\n",
       " [-1, -1, -1, -1, 5826145, -1, -1, -1, -1, ..., -1, -1, -1, -1, -1, -1, -1, -1],\n",
       " [-1, -1, -1, -1, -1, -1, -1, -1, -1, ..., -1, -1, -1, -1, -1, -1, -1, -1, -1],\n",
       " [-1, -1, -1, -1, -1, -1, -1, -1, -1, ..., -1, -1, -1, -1, -1, -1, -1, -1, -1],\n",
       " [-1, -1, -1, -1, -1, -1, -1, -1, -1, ..., -1, -1, -1, -1, -1, -1, -1, -1, -1],\n",
       " [-1, -1, -1, 5826380, -1, -1, -1, -1, -1, ..., -1, -1, -1, -1, -1, -1, -1, -1],\n",
       " [-1, -1, -1, -1, -1, -1, -1, -1, -1, ..., -1, -1, -1, -1, -1, -1, -1, -1, -1]]\n",
       "--------------------------------------------------------------------------------\n",
       "type: 100000 * var * int64[parameters={&quot;__doc__&quot;: &quot;index[Muon#0_]&quot;}]</pre>"
      ],
      "text/plain": [
       "<Array [[-1, -1, -1, -1, ..., -1, -1, -1], ...] type='100000 * var * int64[...'>"
      ]
     },
     "execution_count": 4,
     "metadata": {},
     "output_type": "execute_result"
    }
   ],
   "source": [
    "events.ReconstructedParticles.Muonidx0_indexGlobal.compute()"
   ]
  },
  {
   "cell_type": "markdown",
   "id": "10b60579-c1f5-4164-a87f-701bf559087f",
   "metadata": {},
   "source": [
    "#### -1 corresponds to no match (padding the array with -1 is necessary to ensure shape compatability)"
   ]
  },
  {
   "cell_type": "code",
   "execution_count": 5,
   "id": "530450d5-3b1a-4659-ab18-2efd0cb8bb56",
   "metadata": {},
   "outputs": [
    {
     "name": "stdout",
     "output_type": "stream",
     "text": [
      "Shape of ReconstructedParticles collection\n",
      "[60, 79, 55, 72, 50, 69, 56, 80, 62, ..., 106, 74, 52, 66, 37, 55, 78, 69, 68]\n",
      "\n",
      "Shape of ReconstructedParticles collection after pt > 40 cut\n",
      "[1, 1, 2, 1, 1, 1, 0, 1, 1, 2, 1, 0, 1, ..., 2, 0, 1, 0, 0, 1, 1, 1, 1, 1, 1, 1]\n"
     ]
    }
   ],
   "source": [
    "print(\"Shape of ReconstructedParticles collection\")\n",
    "print(ak.num(events.ReconstructedParticles, axis =1).compute())\n",
    "reco_cut = events.ReconstructedParticles.pt > 40.0\n",
    "reco = events.ReconstructedParticles[reco_cut]\n",
    "print(\"\\nShape of ReconstructedParticles collection after pt > 40 cut\")\n",
    "print(ak.num(reco, axis =1).compute())"
   ]
  },
  {
   "cell_type": "code",
   "execution_count": 6,
   "id": "7049239f-b60c-4f9b-9f3d-8649b3e1ed12",
   "metadata": {},
   "outputs": [
    {
     "name": "stdout",
     "output_type": "stream",
     "text": [
      "Shape of Matched Muons after pt > 40 cut\n",
      "[1, 1, 2, 1, 1, 1, 0, 1, 1, 2, 1, 0, 1, ..., 2, 0, 1, 0, 0, 1, 1, 1, 1, 1, 1, 1]\n"
     ]
    }
   ],
   "source": [
    "muons = reco.match_muons\n",
    "print(\"Shape of Matched Muons after pt > 40 cut\")\n",
    "print(ak.num(muons, axis=1).compute())"
   ]
  },
  {
   "cell_type": "code",
   "execution_count": 10,
   "id": "0b75c1ad-8d21-4541-82c2-26f142c467d0",
   "metadata": {},
   "outputs": [
    {
     "name": "stdout",
     "output_type": "stream",
     "text": [
      "Shape of the Matched Generator(MC) particle from Matched Muons after pt > 40 cut\n",
      "[1, 1, 2, 1, 1, 1, 0, 1, 1, 2, 1, 0, 1, ..., 2, 0, 1, 0, 0, 1, 1, 1, 1, 1, 1, 1]\n"
     ]
    }
   ],
   "source": [
    "print(\"Shape of the Matched Generator(MC) particle from Matched Muons after pt > 40 cut\")\n",
    "mc_muons = muons.match_gen\n",
    "print(ak.num(mc_muons, axis=1).compute())"
   ]
  },
  {
   "cell_type": "code",
   "execution_count": 11,
   "id": "a56205a3-c345-4206-9a95-f6136f4dc038",
   "metadata": {},
   "outputs": [
    {
     "data": {
      "text/html": [
       "<pre>[[13],\n",
       " [13],\n",
       " [211, 211],\n",
       " [211],\n",
       " [2212],\n",
       " [211],\n",
       " [],\n",
       " [211],\n",
       " [-211],\n",
       " [-13, -211],\n",
       " ...,\n",
       " [],\n",
       " [],\n",
       " [-2112],\n",
       " [211],\n",
       " [13],\n",
       " [22],\n",
       " [22],\n",
       " [-2212],\n",
       " [13]]\n",
       "---------------------------------------------------------------------\n",
       "type: 100000 * var * ?int32[parameters={&quot;__doc__&quot;: &quot;PDG[Particle_]&quot;}]</pre>"
      ],
      "text/plain": [
       "<Array [[13], [13], [...], ..., [-2212], [13]] type='100000 * var * ?int32[...'>"
      ]
     },
     "execution_count": 11,
     "metadata": {},
     "output_type": "execute_result"
    }
   ],
   "source": [
    "mc_muons.PDG.compute()"
   ]
  },
  {
   "cell_type": "code",
   "execution_count": 20,
   "id": "ce6e6c7f-003d-4c13-8351-63e6812b5f11",
   "metadata": {},
   "outputs": [],
   "source": [
    "from particle import Particle"
   ]
  },
  {
   "cell_type": "code",
   "execution_count": 22,
   "id": "0f259d3f-7977-403a-a5d2-526c70e15dd7",
   "metadata": {},
   "outputs": [
    {
     "data": {
      "text/latex": [
       "$\\mu^{-}$"
      ],
      "text/plain": [
       "<Particle: name=\"mu-\", pdgid=13, mass=105.6583755 ± 0.0000023 MeV>"
      ]
     },
     "execution_count": 22,
     "metadata": {},
     "output_type": "execute_result"
    }
   ],
   "source": [
    "Particle.from_pdgid(13)"
   ]
  },
  {
   "cell_type": "code",
   "execution_count": 23,
   "id": "45c1283c-a65f-49df-a372-70d997423c10",
   "metadata": {},
   "outputs": [
    {
     "data": {
      "text/latex": [
       "$\\pi^{+}$"
      ],
      "text/plain": [
       "<Particle: name=\"pi+\", pdgid=211, mass=139.57039 ± 0.00018 MeV>"
      ]
     },
     "execution_count": 23,
     "metadata": {},
     "output_type": "execute_result"
    }
   ],
   "source": [
    "Particle.from_pdgid(211)"
   ]
  },
  {
   "cell_type": "code",
   "execution_count": 29,
   "id": "0e88859e-f805-42ab-949f-912d565cbba8",
   "metadata": {},
   "outputs": [
    {
     "data": {
      "text/latex": [
       "$p$"
      ],
      "text/plain": [
       "<Particle: name=\"p\", pdgid=2212, mass=938.2720882 ± 0.0000003 MeV>"
      ]
     },
     "execution_count": 29,
     "metadata": {},
     "output_type": "execute_result"
    }
   ],
   "source": [
    "Particle.from_pdgid(2212)"
   ]
  },
  {
   "cell_type": "code",
   "execution_count": null,
   "id": "efdf7593-7219-42ad-8c59-257ce070db0f",
   "metadata": {},
   "outputs": [],
   "source": []
  }
 ],
 "metadata": {
  "kernelspec": {
   "display_name": "fcc-dev",
   "language": "python",
   "name": "fcc-dev"
  },
  "language_info": {
   "codemirror_mode": {
    "name": "ipython",
    "version": 3
   },
   "file_extension": ".py",
   "mimetype": "text/x-python",
   "name": "python",
   "nbconvert_exporter": "python",
   "pygments_lexer": "ipython3",
   "version": "3.12.6"
  }
 },
 "nbformat": 4,
 "nbformat_minor": 5
}
