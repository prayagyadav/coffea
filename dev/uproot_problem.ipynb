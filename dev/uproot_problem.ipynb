{
 "cells": [
  {
   "cell_type": "markdown",
   "id": "131e3bfa-574c-4c5e-bf38-90473355cadb",
   "metadata": {},
   "source": [
    "# Delayed = True does not work with certain edm4hep fcc samples"
   ]
  },
  {
   "cell_type": "code",
   "execution_count": 1,
   "id": "74a4f93d-21cc-4061-a771-881ea1d5315d",
   "metadata": {
    "scrolled": true
   },
   "outputs": [
    {
     "name": "stderr",
     "output_type": "stream",
     "text": [
      "/home/prayag/coffeafcc/development/coffea/src/coffea/nanoevents/schemas/edm4hep.py:6: FutureWarning: In version 2025.1.0 (target date: 2024-12-31 11:59:59-06:00), this will be an error.\n",
      "To raise these warnings as errors (and get stack traces to find out where they're called), run\n",
      "    import warnings\n",
      "    warnings.filterwarnings(\"error\", module=\"coffea.*\")\n",
      "after the first `import coffea` or use `@pytest.mark.filterwarnings(\"error:::coffea.*\")` in pytest.\n",
      "Issue: coffea.nanoevents.methods.vector will be removed and replaced with scikit-hep vector. Nanoevents schemas internal to coffea will be migrated. Otherwise please consider using that package!.\n",
      "  from coffea.nanoevents.methods import vector\n"
     ]
    },
    {
     "ename": "UnknownInterpretation",
     "evalue": "none of the rules matched\nin file ./p8_ee_ZZ_ecm240_edm4hep.root\nin object /events;1:PARAMETERS/_intMap/_intMap.first",
     "output_type": "error",
     "traceback": [
      "\u001b[0;31m---------------------------------------------------------------------------\u001b[0m",
      "\u001b[0;31mUnknownInterpretation\u001b[0m                     Traceback (most recent call last)",
      "Cell \u001b[0;32mIn[1], line 9\u001b[0m\n\u001b[1;32m      1\u001b[0m test_file \u001b[38;5;241m=\u001b[39m \u001b[38;5;124m\"\u001b[39m\u001b[38;5;124m./p8_ee_ZZ_ecm240_edm4hep.root\u001b[39m\u001b[38;5;124m\"\u001b[39m\n\u001b[1;32m      2\u001b[0m \u001b[38;5;28;01mfrom\u001b[39;00m \u001b[38;5;21;01mcoffea\u001b[39;00m\u001b[38;5;21;01m.\u001b[39;00m\u001b[38;5;21;01mnanoevents\u001b[39;00m \u001b[38;5;28;01mimport\u001b[39;00m NanoEventsFactory, BaseSchema\n\u001b[1;32m      3\u001b[0m events \u001b[38;5;241m=\u001b[39m \u001b[43mNanoEventsFactory\u001b[49m\u001b[38;5;241;43m.\u001b[39;49m\u001b[43mfrom_root\u001b[49m\u001b[43m(\u001b[49m\n\u001b[1;32m      4\u001b[0m \u001b[43m    \u001b[49m\u001b[43mtest_file\u001b[49m\u001b[38;5;241;43m+\u001b[39;49m\u001b[38;5;124;43m\"\u001b[39;49m\u001b[38;5;124;43m:events\u001b[39;49m\u001b[38;5;124;43m\"\u001b[39;49m\u001b[43m,\u001b[49m\n\u001b[1;32m      5\u001b[0m \u001b[43m    \u001b[49m\u001b[43mentry_stop\u001b[49m\u001b[38;5;241;43m=\u001b[39;49m\u001b[38;5;241;43m1000\u001b[39;49m\u001b[43m,\u001b[49m\n\u001b[1;32m      6\u001b[0m \u001b[43m    \u001b[49m\u001b[43mschemaclass\u001b[49m\u001b[38;5;241;43m=\u001b[39;49m\u001b[43mBaseSchema\u001b[49m\u001b[43m,\u001b[49m\n\u001b[1;32m      7\u001b[0m \u001b[43m    \u001b[49m\u001b[43mdelayed\u001b[49m\u001b[43m \u001b[49m\u001b[38;5;241;43m=\u001b[39;49m\u001b[43m \u001b[49m\u001b[38;5;28;43;01mTrue\u001b[39;49;00m\u001b[43m,\u001b[49m\n\u001b[1;32m      8\u001b[0m \u001b[43m    \u001b[49m\u001b[38;5;66;43;03m# uproot_options={\"filter_name\": lambda x: \"PARAMETERS\" not in x}\u001b[39;49;00m\n\u001b[0;32m----> 9\u001b[0m \u001b[43m)\u001b[49m\u001b[38;5;241;43m.\u001b[39;49m\u001b[43mevents\u001b[49m\u001b[43m(\u001b[49m\u001b[43m)\u001b[49m\n",
      "File \u001b[0;32m~/coffeafcc/development/coffea/src/coffea/nanoevents/factory.py:715\u001b[0m, in \u001b[0;36mNanoEventsFactory.events\u001b[0;34m(self)\u001b[0m\n\u001b[1;32m    702\u001b[0m \u001b[38;5;250m\u001b[39m\u001b[38;5;124;03m\"\"\"\u001b[39;00m\n\u001b[1;32m    703\u001b[0m \u001b[38;5;124;03mBuild events\u001b[39;00m\n\u001b[1;32m    704\u001b[0m \n\u001b[0;32m   (...)\u001b[0m\n\u001b[1;32m    712\u001b[0m \u001b[38;5;124;03m        array of the events.\u001b[39;00m\n\u001b[1;32m    713\u001b[0m \u001b[38;5;124;03m\"\"\"\u001b[39;00m\n\u001b[1;32m    714\u001b[0m \u001b[38;5;28;01mif\u001b[39;00m \u001b[38;5;28mself\u001b[39m\u001b[38;5;241m.\u001b[39m_is_dask:\n\u001b[0;32m--> 715\u001b[0m     events \u001b[38;5;241m=\u001b[39m \u001b[38;5;28;43mself\u001b[39;49m\u001b[38;5;241;43m.\u001b[39;49m\u001b[43m_mapping\u001b[49m\u001b[43m(\u001b[49m\u001b[43mform_mapping\u001b[49m\u001b[38;5;241;43m=\u001b[39;49m\u001b[38;5;28;43mself\u001b[39;49m\u001b[38;5;241;43m.\u001b[39;49m\u001b[43m_schema\u001b[49m\u001b[43m)\u001b[49m\n\u001b[1;32m    716\u001b[0m     report \u001b[38;5;241m=\u001b[39m \u001b[38;5;28;01mNone\u001b[39;00m\n\u001b[1;32m    717\u001b[0m     \u001b[38;5;28;01mif\u001b[39;00m \u001b[38;5;28misinstance\u001b[39m(events, \u001b[38;5;28mtuple\u001b[39m):\n",
      "File \u001b[0;32m~/coffeafcc/development/fcc-dev/lib64/python3.12/site-packages/uproot/_dask.py:296\u001b[0m, in \u001b[0;36mdask\u001b[0;34m(files, filter_name, filter_typename, filter_branch, recursive, full_paths, step_size, steps_per_file, library, ak_add_doc, custom_classes, allow_missing, open_files, form_mapping, allow_read_errors_with_report, known_base_form, decompression_executor, interpretation_executor, **options)\u001b[0m\n\u001b[1;32m    277\u001b[0m         \u001b[38;5;28;01mreturn\u001b[39;00m _get_dak_array(\n\u001b[1;32m    278\u001b[0m             files,\n\u001b[1;32m    279\u001b[0m             filter_name,\n\u001b[0;32m   (...)\u001b[0m\n\u001b[1;32m    293\u001b[0m             interpretation_executor,\n\u001b[1;32m    294\u001b[0m         )\n\u001b[1;32m    295\u001b[0m     \u001b[38;5;28;01melse\u001b[39;00m:\n\u001b[0;32m--> 296\u001b[0m         \u001b[38;5;28;01mreturn\u001b[39;00m \u001b[43m_get_dak_array_delay_open\u001b[49m\u001b[43m(\u001b[49m\n\u001b[1;32m    297\u001b[0m \u001b[43m            \u001b[49m\u001b[43mfiles\u001b[49m\u001b[43m,\u001b[49m\n\u001b[1;32m    298\u001b[0m \u001b[43m            \u001b[49m\u001b[43mfilter_name\u001b[49m\u001b[43m,\u001b[49m\n\u001b[1;32m    299\u001b[0m \u001b[43m            \u001b[49m\u001b[43mfilter_typename\u001b[49m\u001b[43m,\u001b[49m\n\u001b[1;32m    300\u001b[0m \u001b[43m            \u001b[49m\u001b[43mfilter_branch\u001b[49m\u001b[43m,\u001b[49m\n\u001b[1;32m    301\u001b[0m \u001b[43m            \u001b[49m\u001b[43mrecursive\u001b[49m\u001b[43m,\u001b[49m\n\u001b[1;32m    302\u001b[0m \u001b[43m            \u001b[49m\u001b[43mfull_paths\u001b[49m\u001b[43m,\u001b[49m\n\u001b[1;32m    303\u001b[0m \u001b[43m            \u001b[49m\u001b[43mcustom_classes\u001b[49m\u001b[43m,\u001b[49m\n\u001b[1;32m    304\u001b[0m \u001b[43m            \u001b[49m\u001b[43mallow_missing\u001b[49m\u001b[43m,\u001b[49m\n\u001b[1;32m    305\u001b[0m \u001b[43m            \u001b[49m\u001b[43mreal_options\u001b[49m\u001b[43m,\u001b[49m\n\u001b[1;32m    306\u001b[0m \u001b[43m            \u001b[49m\u001b[43minterp_options\u001b[49m\u001b[43m,\u001b[49m\n\u001b[1;32m    307\u001b[0m \u001b[43m            \u001b[49m\u001b[43mform_mapping\u001b[49m\u001b[43m,\u001b[49m\n\u001b[1;32m    308\u001b[0m \u001b[43m            \u001b[49m\u001b[43msteps_per_file\u001b[49m\u001b[43m,\u001b[49m\n\u001b[1;32m    309\u001b[0m \u001b[43m            \u001b[49m\u001b[43mallow_read_errors_with_report\u001b[49m\u001b[43m,\u001b[49m\n\u001b[1;32m    310\u001b[0m \u001b[43m            \u001b[49m\u001b[43mknown_base_form\u001b[49m\u001b[43m,\u001b[49m\n\u001b[1;32m    311\u001b[0m \u001b[43m            \u001b[49m\u001b[43mdecompression_executor\u001b[49m\u001b[43m,\u001b[49m\n\u001b[1;32m    312\u001b[0m \u001b[43m            \u001b[49m\u001b[43minterpretation_executor\u001b[49m\u001b[43m,\u001b[49m\n\u001b[1;32m    313\u001b[0m \u001b[43m        \u001b[49m\u001b[43m)\u001b[49m\n\u001b[1;32m    314\u001b[0m \u001b[38;5;28;01melse\u001b[39;00m:\n\u001b[1;32m    315\u001b[0m     \u001b[38;5;28;01mraise\u001b[39;00m \u001b[38;5;167;01mNotImplementedError\u001b[39;00m()\n",
      "File \u001b[0;32m~/coffeafcc/development/fcc-dev/lib64/python3.12/site-packages/uproot/_dask.py:1598\u001b[0m, in \u001b[0;36m_get_dak_array_delay_open\u001b[0;34m(files, filter_name, filter_typename, filter_branch, recursive, full_paths, custom_classes, allow_missing, real_options, interp_options, form_mapping, steps_per_file, allow_read_errors_with_report, known_base_form, decompression_executor, interpretation_executor)\u001b[0m\n\u001b[1;32m   1594\u001b[0m \u001b[38;5;28;01melse\u001b[39;00m:\n\u001b[1;32m   1595\u001b[0m     obj \u001b[38;5;241m=\u001b[39m uproot\u001b[38;5;241m.\u001b[39m_util\u001b[38;5;241m.\u001b[39mregularize_object_path(\n\u001b[1;32m   1596\u001b[0m         ffile_path, fobject_path, custom_classes, allow_missing, real_options\n\u001b[1;32m   1597\u001b[0m     )\n\u001b[0;32m-> 1598\u001b[0m     common_keys \u001b[38;5;241m=\u001b[39m \u001b[43mobj\u001b[49m\u001b[38;5;241;43m.\u001b[39;49m\u001b[43mkeys\u001b[49m\u001b[43m(\u001b[49m\n\u001b[1;32m   1599\u001b[0m \u001b[43m        \u001b[49m\u001b[43mrecursive\u001b[49m\u001b[38;5;241;43m=\u001b[39;49m\u001b[43mrecursive\u001b[49m\u001b[43m,\u001b[49m\n\u001b[1;32m   1600\u001b[0m \u001b[43m        \u001b[49m\u001b[43mfilter_name\u001b[49m\u001b[38;5;241;43m=\u001b[39;49m\u001b[43mfilter_name\u001b[49m\u001b[43m,\u001b[49m\n\u001b[1;32m   1601\u001b[0m \u001b[43m        \u001b[49m\u001b[43mfilter_typename\u001b[49m\u001b[38;5;241;43m=\u001b[39;49m\u001b[43mfilter_typename\u001b[49m\u001b[43m,\u001b[49m\n\u001b[1;32m   1602\u001b[0m \u001b[43m        \u001b[49m\u001b[43mfilter_branch\u001b[49m\u001b[38;5;241;43m=\u001b[39;49m\u001b[43mfilter_branch\u001b[49m\u001b[43m,\u001b[49m\n\u001b[1;32m   1603\u001b[0m \u001b[43m        \u001b[49m\u001b[43mfull_paths\u001b[49m\u001b[38;5;241;43m=\u001b[39;49m\u001b[43mfull_paths\u001b[49m\u001b[43m,\u001b[49m\n\u001b[1;32m   1604\u001b[0m \u001b[43m        \u001b[49m\u001b[43mignore_duplicates\u001b[49m\u001b[38;5;241;43m=\u001b[39;49m\u001b[38;5;28;43;01mTrue\u001b[39;49;00m\u001b[43m,\u001b[49m\n\u001b[1;32m   1605\u001b[0m \u001b[43m    \u001b[49m\u001b[43m)\u001b[49m\n\u001b[1;32m   1606\u001b[0m     base_form \u001b[38;5;241m=\u001b[39m _get_ttree_form(\n\u001b[1;32m   1607\u001b[0m         awkward, obj, common_keys, interp_options\u001b[38;5;241m.\u001b[39mget(\u001b[38;5;124m\"\u001b[39m\u001b[38;5;124mak_add_doc\u001b[39m\u001b[38;5;124m\"\u001b[39m)\n\u001b[1;32m   1608\u001b[0m     )\n\u001b[1;32m   1610\u001b[0m divisions \u001b[38;5;241m=\u001b[39m [\u001b[38;5;241m0\u001b[39m]\n",
      "File \u001b[0;32m~/coffeafcc/development/fcc-dev/lib64/python3.12/site-packages/uproot/behaviors/TBranch.py:1170\u001b[0m, in \u001b[0;36mHasBranches.keys\u001b[0;34m(self, filter_name, filter_typename, filter_branch, recursive, full_paths, ignore_duplicates)\u001b[0m\n\u001b[1;32m   1140\u001b[0m \u001b[38;5;28;01mdef\u001b[39;00m \u001b[38;5;21mkeys\u001b[39m(\n\u001b[1;32m   1141\u001b[0m     \u001b[38;5;28mself\u001b[39m,\n\u001b[1;32m   1142\u001b[0m     \u001b[38;5;241m*\u001b[39m,\n\u001b[0;32m   (...)\u001b[0m\n\u001b[1;32m   1148\u001b[0m     ignore_duplicates\u001b[38;5;241m=\u001b[39m\u001b[38;5;28;01mFalse\u001b[39;00m,\n\u001b[1;32m   1149\u001b[0m ):\n\u001b[1;32m   1150\u001b[0m \u001b[38;5;250m    \u001b[39m\u001b[38;5;124;03m\"\"\"\u001b[39;00m\n\u001b[1;32m   1151\u001b[0m \u001b[38;5;124;03m    Args:\u001b[39;00m\n\u001b[1;32m   1152\u001b[0m \u001b[38;5;124;03m        filter_name (None, glob string, regex string in ``\"/pattern/i\"`` syntax, function of str \\u2192 bool, or iterable of the above): A\u001b[39;00m\n\u001b[0;32m   (...)\u001b[0m\n\u001b[1;32m   1168\u001b[0m \u001b[38;5;124;03m    Returns the names of the subbranches as a list of strings.\u001b[39;00m\n\u001b[1;32m   1169\u001b[0m \u001b[38;5;124;03m    \"\"\"\u001b[39;00m\n\u001b[0;32m-> 1170\u001b[0m     \u001b[38;5;28;01mreturn\u001b[39;00m \u001b[38;5;28;43mlist\u001b[39;49m\u001b[43m(\u001b[49m\n\u001b[1;32m   1171\u001b[0m \u001b[43m        \u001b[49m\u001b[38;5;28;43mself\u001b[39;49m\u001b[38;5;241;43m.\u001b[39;49m\u001b[43miterkeys\u001b[49m\u001b[43m(\u001b[49m\n\u001b[1;32m   1172\u001b[0m \u001b[43m            \u001b[49m\u001b[43mfilter_name\u001b[49m\u001b[38;5;241;43m=\u001b[39;49m\u001b[43mfilter_name\u001b[49m\u001b[43m,\u001b[49m\n\u001b[1;32m   1173\u001b[0m \u001b[43m            \u001b[49m\u001b[43mfilter_typename\u001b[49m\u001b[38;5;241;43m=\u001b[39;49m\u001b[43mfilter_typename\u001b[49m\u001b[43m,\u001b[49m\n\u001b[1;32m   1174\u001b[0m \u001b[43m            \u001b[49m\u001b[43mfilter_branch\u001b[49m\u001b[38;5;241;43m=\u001b[39;49m\u001b[43mfilter_branch\u001b[49m\u001b[43m,\u001b[49m\n\u001b[1;32m   1175\u001b[0m \u001b[43m            \u001b[49m\u001b[43mrecursive\u001b[49m\u001b[38;5;241;43m=\u001b[39;49m\u001b[43mrecursive\u001b[49m\u001b[43m,\u001b[49m\n\u001b[1;32m   1176\u001b[0m \u001b[43m            \u001b[49m\u001b[43mfull_paths\u001b[49m\u001b[38;5;241;43m=\u001b[39;49m\u001b[43mfull_paths\u001b[49m\u001b[43m,\u001b[49m\n\u001b[1;32m   1177\u001b[0m \u001b[43m            \u001b[49m\u001b[43mignore_duplicates\u001b[49m\u001b[38;5;241;43m=\u001b[39;49m\u001b[43mignore_duplicates\u001b[49m\u001b[43m,\u001b[49m\n\u001b[1;32m   1178\u001b[0m \u001b[43m        \u001b[49m\u001b[43m)\u001b[49m\n\u001b[1;32m   1179\u001b[0m \u001b[43m    \u001b[49m\u001b[43m)\u001b[49m\n",
      "File \u001b[0;32m~/coffeafcc/development/fcc-dev/lib64/python3.12/site-packages/uproot/behaviors/TBranch.py:1327\u001b[0m, in \u001b[0;36mHasBranches.iterkeys\u001b[0;34m(self, filter_name, filter_typename, filter_branch, recursive, full_paths, ignore_duplicates)\u001b[0m\n\u001b[1;32m   1296\u001b[0m \u001b[38;5;28;01mdef\u001b[39;00m \u001b[38;5;21miterkeys\u001b[39m(\n\u001b[1;32m   1297\u001b[0m     \u001b[38;5;28mself\u001b[39m,\n\u001b[1;32m   1298\u001b[0m     \u001b[38;5;241m*\u001b[39m,\n\u001b[0;32m   (...)\u001b[0m\n\u001b[1;32m   1304\u001b[0m     ignore_duplicates\u001b[38;5;241m=\u001b[39m\u001b[38;5;28;01mFalse\u001b[39;00m,\n\u001b[1;32m   1305\u001b[0m ):\n\u001b[1;32m   1306\u001b[0m \u001b[38;5;250m    \u001b[39m\u001b[38;5;124;03m\"\"\"\u001b[39;00m\n\u001b[1;32m   1307\u001b[0m \u001b[38;5;124;03m    Args:\u001b[39;00m\n\u001b[1;32m   1308\u001b[0m \u001b[38;5;124;03m        filter_name (None, glob string, regex string in ``\"/pattern/i\"`` syntax, function of str \\u2192 bool, or iterable of the above): A\u001b[39;00m\n\u001b[0;32m   (...)\u001b[0m\n\u001b[1;32m   1325\u001b[0m \u001b[38;5;124;03m    Returns the names of the subbranches as an iterator over strings.\u001b[39;00m\n\u001b[1;32m   1326\u001b[0m \u001b[38;5;124;03m    \"\"\"\u001b[39;00m\n\u001b[0;32m-> 1327\u001b[0m \u001b[43m    \u001b[49m\u001b[38;5;28;43;01mfor\u001b[39;49;00m\u001b[43m \u001b[49m\u001b[43mk\u001b[49m\u001b[43m,\u001b[49m\u001b[43m \u001b[49m\u001b[43m_\u001b[49m\u001b[43m \u001b[49m\u001b[38;5;129;43;01min\u001b[39;49;00m\u001b[43m \u001b[49m\u001b[38;5;28;43mself\u001b[39;49m\u001b[38;5;241;43m.\u001b[39;49m\u001b[43miteritems\u001b[49m\u001b[43m(\u001b[49m\n\u001b[1;32m   1328\u001b[0m \u001b[43m        \u001b[49m\u001b[43mfilter_name\u001b[49m\u001b[38;5;241;43m=\u001b[39;49m\u001b[43mfilter_name\u001b[49m\u001b[43m,\u001b[49m\n\u001b[1;32m   1329\u001b[0m \u001b[43m        \u001b[49m\u001b[43mfilter_typename\u001b[49m\u001b[38;5;241;43m=\u001b[39;49m\u001b[43mfilter_typename\u001b[49m\u001b[43m,\u001b[49m\n\u001b[1;32m   1330\u001b[0m \u001b[43m        \u001b[49m\u001b[43mfilter_branch\u001b[49m\u001b[38;5;241;43m=\u001b[39;49m\u001b[43mfilter_branch\u001b[49m\u001b[43m,\u001b[49m\n\u001b[1;32m   1331\u001b[0m \u001b[43m        \u001b[49m\u001b[43mrecursive\u001b[49m\u001b[38;5;241;43m=\u001b[39;49m\u001b[43mrecursive\u001b[49m\u001b[43m,\u001b[49m\n\u001b[1;32m   1332\u001b[0m \u001b[43m        \u001b[49m\u001b[43mfull_paths\u001b[49m\u001b[38;5;241;43m=\u001b[39;49m\u001b[43mfull_paths\u001b[49m\u001b[43m,\u001b[49m\n\u001b[1;32m   1333\u001b[0m \u001b[43m        \u001b[49m\u001b[43mignore_duplicates\u001b[49m\u001b[38;5;241;43m=\u001b[39;49m\u001b[43mignore_duplicates\u001b[49m\u001b[43m,\u001b[49m\n\u001b[1;32m   1334\u001b[0m \u001b[43m    \u001b[49m\u001b[43m)\u001b[49m\u001b[43m:\u001b[49m\n\u001b[1;32m   1335\u001b[0m \u001b[43m        \u001b[49m\u001b[38;5;28;43;01myield\u001b[39;49;00m\u001b[43m \u001b[49m\u001b[43mk\u001b[49m\n",
      "File \u001b[0;32m~/coffeafcc/development/fcc-dev/lib64/python3.12/site-packages/uproot/behaviors/TBranch.py:1426\u001b[0m, in \u001b[0;36mHasBranches.iteritems\u001b[0;34m(self, filter_name, filter_typename, filter_branch, recursive, full_paths, ignore_duplicates)\u001b[0m\n\u001b[1;32m   1417\u001b[0m keys_set \u001b[38;5;241m=\u001b[39m \u001b[38;5;28mset\u001b[39m()\n\u001b[1;32m   1419\u001b[0m \u001b[38;5;28;01mfor\u001b[39;00m branch \u001b[38;5;129;01min\u001b[39;00m \u001b[38;5;28mself\u001b[39m\u001b[38;5;241m.\u001b[39mbranches:\n\u001b[1;32m   1420\u001b[0m     \u001b[38;5;28;01mif\u001b[39;00m (\n\u001b[1;32m   1421\u001b[0m         (\n\u001b[1;32m   1422\u001b[0m             filter_name \u001b[38;5;129;01mis\u001b[39;00m no_filter\n\u001b[1;32m   1423\u001b[0m             \u001b[38;5;129;01mor\u001b[39;00m _filter_name_deep(filter_name, \u001b[38;5;28mself\u001b[39m, branch)\n\u001b[1;32m   1424\u001b[0m         )\n\u001b[1;32m   1425\u001b[0m         \u001b[38;5;129;01mand\u001b[39;00m (filter_typename \u001b[38;5;129;01mis\u001b[39;00m no_filter \u001b[38;5;129;01mor\u001b[39;00m filter_typename(branch\u001b[38;5;241m.\u001b[39mtypename))\n\u001b[0;32m-> 1426\u001b[0m         \u001b[38;5;129;01mand\u001b[39;00m (filter_branch \u001b[38;5;129;01mis\u001b[39;00m no_filter \u001b[38;5;129;01mor\u001b[39;00m \u001b[43mfilter_branch\u001b[49m\u001b[43m(\u001b[49m\u001b[43mbranch\u001b[49m\u001b[43m)\u001b[49m)\n\u001b[1;32m   1427\u001b[0m     ):\n\u001b[1;32m   1428\u001b[0m         \u001b[38;5;28;01mif\u001b[39;00m ignore_duplicates \u001b[38;5;129;01mand\u001b[39;00m branch\u001b[38;5;241m.\u001b[39mname \u001b[38;5;129;01min\u001b[39;00m keys_set:\n\u001b[1;32m   1429\u001b[0m             \u001b[38;5;28;01mpass\u001b[39;00m\n",
      "File \u001b[0;32m~/coffeafcc/development/coffea/src/coffea/util.py:240\u001b[0m, in \u001b[0;36m_remove_not_interpretable\u001b[0;34m(branch, emit_warning)\u001b[0m\n\u001b[1;32m    237\u001b[0m     \u001b[38;5;28;01mreturn\u001b[39;00m \u001b[38;5;28;01mFalse\u001b[39;00m\n\u001b[1;32m    239\u001b[0m \u001b[38;5;28;01mtry\u001b[39;00m:\n\u001b[0;32m--> 240\u001b[0m     _ \u001b[38;5;241m=\u001b[39m \u001b[43mbranch\u001b[49m\u001b[38;5;241;43m.\u001b[39;49m\u001b[43minterpretation\u001b[49m\u001b[38;5;241;43m.\u001b[39;49m\u001b[43mawkward_form\u001b[49m\u001b[43m(\u001b[49m\u001b[38;5;28;43;01mNone\u001b[39;49;00m\u001b[43m)\u001b[49m\n\u001b[1;32m    241\u001b[0m \u001b[38;5;28;01mexcept\u001b[39;00m uproot\u001b[38;5;241m.\u001b[39minterpretation\u001b[38;5;241m.\u001b[39mobjects\u001b[38;5;241m.\u001b[39mCannotBeAwkward:\n\u001b[1;32m    242\u001b[0m     \u001b[38;5;28;01mif\u001b[39;00m emit_warning:\n",
      "File \u001b[0;32m~/coffeafcc/development/fcc-dev/lib64/python3.12/site-packages/uproot/interpretation/grouped.py:105\u001b[0m, in \u001b[0;36mAsGrouped.awkward_form\u001b[0;34m(self, file, context, index_format, header, tobject_header, breadcrumbs)\u001b[0m\n\u001b[1;32m    103\u001b[0m     \u001b[38;5;28;01mif\u001b[39;00m y \u001b[38;5;129;01mis\u001b[39;00m \u001b[38;5;129;01mnot\u001b[39;00m \u001b[38;5;28;01mNone\u001b[39;00m:\n\u001b[1;32m    104\u001b[0m         names\u001b[38;5;241m.\u001b[39mappend(x)\n\u001b[0;32m--> 105\u001b[0m         fields\u001b[38;5;241m.\u001b[39mappend(\u001b[43my\u001b[49m\u001b[38;5;241;43m.\u001b[39;49m\u001b[43mawkward_form\u001b[49m\u001b[43m(\u001b[49m\u001b[43mfile\u001b[49m\u001b[43m,\u001b[49m\u001b[43m \u001b[49m\u001b[43mcontext\u001b[49m\u001b[43m)\u001b[49m)\n\u001b[1;32m    106\u001b[0m \u001b[38;5;28;01mreturn\u001b[39;00m awkward\u001b[38;5;241m.\u001b[39mforms\u001b[38;5;241m.\u001b[39mRecordForm(fields, names)\n",
      "File \u001b[0;32m~/coffeafcc/development/fcc-dev/lib64/python3.12/site-packages/uproot/interpretation/grouped.py:105\u001b[0m, in \u001b[0;36mAsGrouped.awkward_form\u001b[0;34m(self, file, context, index_format, header, tobject_header, breadcrumbs)\u001b[0m\n\u001b[1;32m    103\u001b[0m     \u001b[38;5;28;01mif\u001b[39;00m y \u001b[38;5;129;01mis\u001b[39;00m \u001b[38;5;129;01mnot\u001b[39;00m \u001b[38;5;28;01mNone\u001b[39;00m:\n\u001b[1;32m    104\u001b[0m         names\u001b[38;5;241m.\u001b[39mappend(x)\n\u001b[0;32m--> 105\u001b[0m         fields\u001b[38;5;241m.\u001b[39mappend(\u001b[43my\u001b[49m\u001b[38;5;241;43m.\u001b[39;49m\u001b[43mawkward_form\u001b[49m\u001b[43m(\u001b[49m\u001b[43mfile\u001b[49m\u001b[43m,\u001b[49m\u001b[43m \u001b[49m\u001b[43mcontext\u001b[49m\u001b[43m)\u001b[49m)\n\u001b[1;32m    106\u001b[0m \u001b[38;5;28;01mreturn\u001b[39;00m awkward\u001b[38;5;241m.\u001b[39mforms\u001b[38;5;241m.\u001b[39mRecordForm(fields, names)\n",
      "File \u001b[0;32m~/coffeafcc/development/fcc-dev/lib64/python3.12/site-packages/uproot/interpretation/identify.py:1203\u001b[0m, in \u001b[0;36mUnknownInterpretation.awkward_form\u001b[0;34m(self, file, context, index_format, header, tobject_header, breadcrumbs)\u001b[0m\n\u001b[1;32m   1194\u001b[0m \u001b[38;5;28;01mdef\u001b[39;00m \u001b[38;5;21mawkward_form\u001b[39m(\n\u001b[1;32m   1195\u001b[0m     \u001b[38;5;28mself\u001b[39m,\n\u001b[1;32m   1196\u001b[0m     file,\n\u001b[0;32m   (...)\u001b[0m\n\u001b[1;32m   1201\u001b[0m     breadcrumbs\u001b[38;5;241m=\u001b[39m(),\n\u001b[1;32m   1202\u001b[0m ):\n\u001b[0;32m-> 1203\u001b[0m     \u001b[38;5;28;01mraise\u001b[39;00m \u001b[38;5;28mself\u001b[39m\n",
      "File \u001b[0;32m~/coffeafcc/development/fcc-dev/lib64/python3.12/site-packages/uproot/behaviors/TBranch.py:1945\u001b[0m, in \u001b[0;36mTBranch.interpretation\u001b[0;34m(self)\u001b[0m\n\u001b[1;32m   1943\u001b[0m \u001b[38;5;28;01mif\u001b[39;00m \u001b[38;5;28mself\u001b[39m\u001b[38;5;241m.\u001b[39m_interpretation \u001b[38;5;129;01mis\u001b[39;00m \u001b[38;5;28;01mNone\u001b[39;00m:\n\u001b[1;32m   1944\u001b[0m     \u001b[38;5;28;01mtry\u001b[39;00m:\n\u001b[0;32m-> 1945\u001b[0m         \u001b[38;5;28mself\u001b[39m\u001b[38;5;241m.\u001b[39m_interpretation \u001b[38;5;241m=\u001b[39m \u001b[43muproot\u001b[49m\u001b[38;5;241;43m.\u001b[39;49m\u001b[43minterpretation\u001b[49m\u001b[38;5;241;43m.\u001b[39;49m\u001b[43midentify\u001b[49m\u001b[38;5;241;43m.\u001b[39;49m\u001b[43minterpretation_of\u001b[49m\u001b[43m(\u001b[49m\n\u001b[1;32m   1946\u001b[0m \u001b[43m            \u001b[49m\u001b[38;5;28;43mself\u001b[39;49m\u001b[43m,\u001b[49m\u001b[43m \u001b[49m\u001b[43m{\u001b[49m\u001b[43m}\u001b[49m\n\u001b[1;32m   1947\u001b[0m \u001b[43m        \u001b[49m\u001b[43m)\u001b[49m\n\u001b[1;32m   1948\u001b[0m     \u001b[38;5;28;01mexcept\u001b[39;00m uproot\u001b[38;5;241m.\u001b[39minterpretation\u001b[38;5;241m.\u001b[39midentify\u001b[38;5;241m.\u001b[39mUnknownInterpretation \u001b[38;5;28;01mas\u001b[39;00m err:\n\u001b[1;32m   1949\u001b[0m         \u001b[38;5;28mself\u001b[39m\u001b[38;5;241m.\u001b[39m_interpretation \u001b[38;5;241m=\u001b[39m err\n",
      "File \u001b[0;32m~/coffeafcc/development/fcc-dev/lib64/python3.12/site-packages/uproot/interpretation/identify.py:507\u001b[0m, in \u001b[0;36minterpretation_of\u001b[0;34m(branch, context, simplify)\u001b[0m\n\u001b[1;32m    504\u001b[0m         \u001b[38;5;28;01melse\u001b[39;00m:\n\u001b[1;32m    505\u001b[0m             \u001b[38;5;28;01mreturn\u001b[39;00m out\n\u001b[0;32m--> 507\u001b[0m \u001b[38;5;28;01mraise\u001b[39;00m UnknownInterpretation(\n\u001b[1;32m    508\u001b[0m     \u001b[38;5;124m\"\u001b[39m\u001b[38;5;124mnone of the rules matched\u001b[39m\u001b[38;5;124m\"\u001b[39m,\n\u001b[1;32m    509\u001b[0m     branch\u001b[38;5;241m.\u001b[39mfile\u001b[38;5;241m.\u001b[39mfile_path,\n\u001b[1;32m    510\u001b[0m     branch\u001b[38;5;241m.\u001b[39mobject_path,\n\u001b[1;32m    511\u001b[0m )\n",
      "\u001b[0;31mUnknownInterpretation\u001b[0m: none of the rules matched\nin file ./p8_ee_ZZ_ecm240_edm4hep.root\nin object /events;1:PARAMETERS/_intMap/_intMap.first"
     ]
    }
   ],
   "source": [
    "test_file = \"./p8_ee_ZZ_ecm240_edm4hep.root\"\n",
    "from coffea.nanoevents import NanoEventsFactory, BaseSchema\n",
    "events = NanoEventsFactory.from_root(\n",
    "    test_file+\":events\",\n",
    "    entry_stop=1000,\n",
    "    schemaclass=BaseSchema,\n",
    "    delayed = True, # False works, indicating that the problem occurs in uproot.dask (not uproot.open)\n",
    "    # uproot_options={\"filter_name\": lambda x: \"PARAMETERS\" not in x}\n",
    ").events()"
   ]
  },
  {
   "cell_type": "markdown",
   "id": "bedf0493-be26-4e47-89ae-6ec14dbaae92",
   "metadata": {},
   "source": [
    "# uproot.dask reproduces the same error"
   ]
  },
  {
   "cell_type": "code",
   "execution_count": 1,
   "id": "38f747fb-620b-4401-91ef-df850049b836",
   "metadata": {},
   "outputs": [],
   "source": [
    "import uproot"
   ]
  },
  {
   "cell_type": "code",
   "execution_count": 6,
   "id": "acab3a4f-9068-43d4-bd47-c625d592cc0a",
   "metadata": {},
   "outputs": [],
   "source": [
    "# events = uproot.dask(\"./p8_ee_ZZ_ecm240_edm4hep.root:events\") # not possible ; throws unknown interpretation error\n",
    "metadata = uproot.dask(\"./p8_ee_ZZ_ecm240_edm4hep.root:podio_metadata\")"
   ]
  },
  {
   "cell_type": "code",
   "execution_count": 7,
   "id": "30b58ba5-b95a-4105-8d01-8136403890db",
   "metadata": {},
   "outputs": [
    {
     "data": {
      "text/plain": [
       "['events___idTable',\n",
       " 'm_collectionIDs',\n",
       " 'm_names',\n",
       " 'events___CollectionTypeInfo',\n",
       " 'events___CollectionTypeInfo._3',\n",
       " 'events___CollectionTypeInfo._2',\n",
       " 'events___CollectionTypeInfo._1',\n",
       " 'events___CollectionTypeInfo._0',\n",
       " 'PodioBuildVersion',\n",
       " 'major',\n",
       " 'minor',\n",
       " 'patch',\n",
       " 'EDMDefinitions',\n",
       " 'EDMDefinitions._1',\n",
       " 'EDMDefinitions._0']"
      ]
     },
     "execution_count": 7,
     "metadata": {},
     "output_type": "execute_result"
    }
   ],
   "source": [
    "metadata.fields"
   ]
  },
  {
   "cell_type": "code",
   "execution_count": null,
   "id": "058856a3-1e1d-412f-bda3-91007364118a",
   "metadata": {},
   "outputs": [],
   "source": []
  }
 ],
 "metadata": {
  "kernelspec": {
   "display_name": "Python 3 (ipykernel)",
   "language": "python",
   "name": "python3"
  },
  "language_info": {
   "codemirror_mode": {
    "name": "ipython",
    "version": 3
   },
   "file_extension": ".py",
   "mimetype": "text/x-python",
   "name": "python",
   "nbconvert_exporter": "python",
   "pygments_lexer": "ipython3",
   "version": "3.12.8"
  }
 },
 "nbformat": 4,
 "nbformat_minor": 5
}
