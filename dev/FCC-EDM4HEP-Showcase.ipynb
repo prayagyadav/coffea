{
 "cells": [
  {
   "cell_type": "markdown",
   "id": "e37a4f8f-0b66-4074-981a-7515acde4de4",
   "metadata": {},
   "source": [
    "# FCCSChema_edm4hep1 showcase"
   ]
  },
  {
   "cell_type": "markdown",
   "id": "561ec1f0-0858-44d3-801a-200b13fee19c",
   "metadata": {},
   "source": [
    "## Load the events "
   ]
  },
  {
   "cell_type": "code",
   "execution_count": 1,
   "id": "96a04a5a-bab7-48d7-bf8f-afcd2265b5f4",
   "metadata": {},
   "outputs": [
    {
     "name": "stderr",
     "output_type": "stream",
     "text": [
      "/home/prayag/coffeafcc/development/coffea/src/coffea/nanoevents/schemas/edm4hep.py:6: FutureWarning: In version 2025.1.0 (target date: 2024-12-31 11:59:59-06:00), this will be an error.\n",
      "To raise these warnings as errors (and get stack traces to find out where they're called), run\n",
      "    import warnings\n",
      "    warnings.filterwarnings(\"error\", module=\"coffea.*\")\n",
      "after the first `import coffea` or use `@pytest.mark.filterwarnings(\"error:::coffea.*\")` in pytest.\n",
      "Issue: coffea.nanoevents.methods.vector will be removed and replaced with scikit-hep vector. Nanoevents schemas internal to coffea will be migrated. Otherwise please consider using that package!.\n",
      "  from coffea.nanoevents.methods import vector\n",
      "/home/prayag/coffeafcc/development/coffea/src/coffea/nanoevents/schemas/edm4hep.py:443: UserWarning: No matched collection for edm4hep::Vertex found!\n",
      " skipping ...\n",
      "  warnings.warn(\n"
     ]
    }
   ],
   "source": [
    "test_file = \"../coffea-fcc-analyses/data/edm4hep1/p8_ee_WW_ecm240_edm4hep.root\"\n",
    "from coffea.nanoevents import NanoEventsFactory, FCC\n",
    "events = NanoEventsFactory.from_root(\n",
    "    test_file+\":events\",\n",
    "    entry_stop=1000,\n",
    "    schemaclass=FCC.get_schema(\"edm4hep1\"),\n",
    "    delayed = False,\n",
    "    uproot_options={\"filter_name\": lambda x: \"PARAMETERS\" not in x}\n",
    ").events()"
   ]
  },
  {
   "cell_type": "markdown",
   "id": "bb6c03b3-bb34-4242-bd0c-371209f65fd3",
   "metadata": {},
   "source": [
    "## Description"
   ]
  },
  {
   "cell_type": "markdown",
   "id": "7ca48ee5-75db-4090-8247-d880fb767dbf",
   "metadata": {},
   "source": [
    "- The FCCSchema_edm4hep1, which has the EDM4HEPSchema as the parent schema, is a schema needed to interpret the 'newstyle' edm4hep FCC samples\n",
    "- I have written overloads for specific edm4hep datatypes to add special functionality to the FCCSchema_edm4hep1"
   ]
  },
  {
   "cell_type": "markdown",
   "id": "9ae10ace-6524-4c8c-b489-9ee6113836dd",
   "metadata": {},
   "source": [
    "## OneToOneRelations and OneToManyRelations"
   ]
  },
  {
   "cell_type": "markdown",
   "id": "96d9d757-6375-41de-90d4-d86e0a514d98",
   "metadata": {},
   "source": [
    "- In addition to using `List_Relations` and `Map_Relations`, which are provided with EDM4HEPSchema, one can use the special methods defined to accomplish the same"
   ]
  },
  {
   "cell_type": "markdown",
   "id": "48e138cb-be68-4984-973c-ba62ace8af87",
   "metadata": {},
   "source": [
    "### Example: RecontructedParticle"
   ]
  },
  {
   "cell_type": "code",
   "execution_count": 2,
   "id": "6093457b-c6fd-47ae-aab3-5b5a25accea7",
   "metadata": {},
   "outputs": [
    {
     "data": {
      "text/plain": [
       "{'clusters_idx_EFlowNeutralHadron_collectionID',\n",
       " 'clusters_idx_EFlowNeutralHadron_index',\n",
       " 'clusters_idx_EFlowNeutralHadron_index_Global',\n",
       " 'clusters_idx_EFlowPhoton_collectionID',\n",
       " 'clusters_idx_EFlowPhoton_index',\n",
       " 'clusters_idx_EFlowPhoton_index_Global',\n",
       " 'particles_idx_Jet_collectionID',\n",
       " 'particles_idx_Jet_index',\n",
       " 'particles_idx_Jet_index_Global',\n",
       " 'particles_idx_ReconstructedParticles_collectionID',\n",
       " 'particles_idx_ReconstructedParticles_index',\n",
       " 'particles_idx_ReconstructedParticles_index_Global',\n",
       " 'tracks_idx_EFlowTrack_collectionID',\n",
       " 'tracks_idx_EFlowTrack_index',\n",
       " 'tracks_idx_EFlowTrack_index_Global'}"
      ]
     },
     "execution_count": 2,
     "metadata": {},
     "output_type": "execute_result"
    }
   ],
   "source": [
    "events.ReconstructedParticles.List_Relations"
   ]
  },
  {
   "cell_type": "code",
   "execution_count": 3,
   "id": "71eee4e4-1f95-408a-9b57-e574d5d838a5",
   "metadata": {
    "scrolled": true
   },
   "outputs": [
    {
     "data": {
      "text/html": [
       "<pre>[[[{Nholes: 0, chi2: 0, ndf: 0, subdetectorHitNumbers: [], ...}], ..., []],\n",
       " [[{Nholes: 0, chi2: 0, ndf: 0, subdetectorHitNumbers: [], ...}], ..., []],\n",
       " [[{Nholes: 0, chi2: 0, ndf: 0, subdetectorHitNumbers: [], ...}], ..., []],\n",
       " [[{Nholes: 0, chi2: 0, ndf: 0, subdetectorHitNumbers: [], ...}], ..., []],\n",
       " [[{Nholes: 0, chi2: 0, ndf: 0, subdetectorHitNumbers: [], ...}], ..., []],\n",
       " [[{Nholes: 0, chi2: 0, ndf: 0, subdetectorHitNumbers: [], ...}], ..., []],\n",
       " [[{Nholes: 0, chi2: 0, ndf: 0, subdetectorHitNumbers: [], ...}], ..., []],\n",
       " [[{Nholes: 0, chi2: 0, ndf: 0, subdetectorHitNumbers: [], ...}], ..., []],\n",
       " [[{Nholes: 0, chi2: 0, ndf: 0, subdetectorHitNumbers: [], ...}], ..., []],\n",
       " [[{Nholes: 0, chi2: 0, ndf: 0, subdetectorHitNumbers: [], ...}], ..., []],\n",
       " ...,\n",
       " [[{Nholes: 0, chi2: 0, ndf: 0, subdetectorHitNumbers: [], ...}], ..., []],\n",
       " [[{Nholes: 0, chi2: 0, ndf: 0, subdetectorHitNumbers: [], ...}], ..., []],\n",
       " [[{Nholes: 0, chi2: 0, ndf: 0, subdetectorHitNumbers: [], ...}], ..., []],\n",
       " [[{Nholes: 0, chi2: 0, ndf: 0, subdetectorHitNumbers: [], ...}], ..., []],\n",
       " [[{Nholes: 0, chi2: 0, ndf: 0, subdetectorHitNumbers: [], ...}], ..., []],\n",
       " [[{Nholes: 0, chi2: 0, ndf: 0, subdetectorHitNumbers: [], ...}], ..., []],\n",
       " [[{Nholes: 0, chi2: 0, ndf: 0, subdetectorHitNumbers: [], ...}], ..., []],\n",
       " [[{Nholes: 0, chi2: 0, ndf: 0, subdetectorHitNumbers: [], ...}], ..., []],\n",
       " [[{Nholes: 0, chi2: 0, ndf: 0, subdetectorHitNumbers: [], ...}], ..., []]]\n",
       "----------------------------------------------------------------------------------------------------------------------------------------------------------------------------------------------------------------------------\n",
       "type: 1000 * var * var * ?Track[\n",
       "    Nholes: int32[parameters={&quot;__doc__&quot;: &quot;number of holes on track&quot;}],\n",
       "    chi2: float32[parameters={&quot;__doc__&quot;: &quot;Chi^2 of the track fit&quot;}],\n",
       "    ndf: int32[parameters={&quot;__doc__&quot;: &quot;number of degrees of freedom of the track fit&quot;}],\n",
       "    subdetectorHitNumbers: [var * float64, parameters={&quot;__doc__&quot;: &quot;number of hits in particular subdetectors&quot;}],\n",
       "    subdetectorHoleNumbers: [var * float64, parameters={&quot;__doc__&quot;: &quot;number of holes in particular subdetectors&quot;}],\n",
       "    trackStates: struct[{\n",
       "        location: var * float64,\n",
       "        D0: var * float64,\n",
       "        phi: var * float64,\n",
       "        omega: var * float64,\n",
       "        Z0: var * float64,\n",
       "        tanLambda: var * float64,\n",
       "        time: var * float64,\n",
       "        referencePoint: var * ThreeVector[\n",
       "            x: float32[parameters={&quot;__doc__&quot;: &quot;Reference point of the track parameters, e.g. the origin at the IP, or the position  of the first/last hits or the entry point into the calorimeter&quot;}],\n",
       "            y: float32[parameters={&quot;__doc__&quot;: &quot;Reference point of the track parameters, e.g. the origin at the IP, or the position  of the first/last hits or the entry point into the calorimeter&quot;}],\n",
       "            z: float32[parameters={&quot;__doc__&quot;: &quot;Reference point of the track parameters, e.g. the origin at the IP, or the position  of the first/last hits or the entry point into the calorimeter&quot;}], \n",
       "        parameters={&quot;collection_name&quot;: &quot;referencePoint&quot;, &quot;__doc__&quot;: &quot;Reference point of the track parameters, e.g. the origin at the IP, or the position  of the first/last hits or the entry point into the calorimeter&quot;}],\n",
       "        covMatrix: var * var * float64\n",
       "    }, parameters={&quot;__doc__&quot;: &quot;track states&quot;}],\n",
       "    trackerHits_idx_TrackerHits_collectionID: [var * float64, parameters={&quot;__doc__&quot;: &quot;hits that have been used to create this track&quot;}],\n",
       "    trackerHits_idx_TrackerHits_index: [var * float64, parameters={&quot;__doc__&quot;: &quot;hits that have been used to create this track&quot;}],\n",
       "    trackerHits_idx_TrackerHits_index_Global: [var * int64, parameters={&quot;__doc__&quot;: &quot;hits that have been used to create this track&quot;}],\n",
       "    tracks_idx_EFlowTrack_collectionID: [var * float64, parameters={&quot;__doc__&quot;: &quot;tracks (segments) that have been combined to create this track&quot;}],\n",
       "    tracks_idx_EFlowTrack_index: [var * float64, parameters={&quot;__doc__&quot;: &quot;tracks (segments) that have been combined to create this track&quot;}],\n",
       "    tracks_idx_EFlowTrack_index_Global: [var * int64, parameters={&quot;__doc__&quot;: &quot;tracks (segments) that have been combined to create this track&quot;}],\n",
       "    type: int32[parameters={&quot;__doc__&quot;: &quot;flagword that defines the type of track&quot;}], \n",
       "parameters={&quot;collection_name&quot;: &quot;EFlowTrack&quot;, &quot;__doc__&quot;: &quot;Reconstructed track&quot;}]</pre>"
      ],
      "text/plain": [
       "<TrackArray [[[{Nholes: 0, ...}], ..., []], ...] type='1000 * var * var * ?...'>"
      ]
     },
     "execution_count": 3,
     "metadata": {},
     "output_type": "execute_result"
    }
   ],
   "source": [
    "events.ReconstructedParticles.get_tracks"
   ]
  },
  {
   "cell_type": "code",
   "execution_count": 4,
   "id": "767cbb92-818d-4bef-807a-d615cdc983b0",
   "metadata": {
    "scrolled": true
   },
   "outputs": [
    {
     "data": {
      "text/html": [
       "<pre>[[[], ..., [{E: 1.05, clusters_idx_EFlowNeutralHadron_collectionID: [], ...}]],\n",
       " [[], ..., [{E: 3.16, clusters_idx_EFlowNeutralHadron_collectionID: [], ...}]],\n",
       " [[], [], [], [], ..., [{E: 2.72, ...}], [{E: 2.32, ...}], [{E: 0.593, ...}]],\n",
       " [[], [], [], [], ..., [{E: 4.17, ...}], [{E: 8.45, ...}], [{E: 0.0512, ...}]],\n",
       " [[], ..., [{E: 1.33, clusters_idx_EFlowNeutralHadron_collectionID: [], ...}]],\n",
       " [[], ..., [{E: 1.21, clusters_idx_EFlowNeutralHadron_collectionID: [], ...}]],\n",
       " [[], ..., [{E: 1.14, clusters_idx_EFlowNeutralHadron_collectionID: [], ...}]],\n",
       " [[], [], [], ..., [{E: 0.101, ...}], [{E: 0.609, ...}], [{E: 0.0538, ...}]],\n",
       " [[], [], [], ..., [{E: 0.138, ...}], [{E: 0.0619, ...}], [{E: 0.253, ...}]],\n",
       " [[], ..., [{E: 7.13, clusters_idx_EFlowNeutralHadron_collectionID: [], ...}]],\n",
       " ...,\n",
       " [[], ..., [{E: 1.62, clusters_idx_EFlowNeutralHadron_collectionID: [], ...}]],\n",
       " [[], [], [], [], ..., [{E: 1.92, ...}], [{E: 0.442, ...}], [{E: 0.122, ...}]],\n",
       " [[], ..., [{E: 6.5, clusters_idx_EFlowNeutralHadron_collectionID: [], ...}]],\n",
       " [[], [], [], [], ..., [{E: 1.72, ...}], [{E: 0.0727, ...}], [{E: 0.506, ...}]],\n",
       " [[], [], [], [], ..., [{E: 0.145, ...}], [{E: 0.227, ...}], [{E: 0.194, ...}]],\n",
       " [[], [], [], [], ..., [{E: 3, ...}], [{E: 1.93, ...}], [{E: 0.00814, ...}]],\n",
       " [[], ..., [{E: 21.5, clusters_idx_EFlowNeutralHadron_collectionID: [], ...}]],\n",
       " [[], [], [], ..., [{E: 0.356, ...}], [{E: 0.0486, ...}], [{E: 0.151, ...}]],\n",
       " [[], [], [], [], ..., [{E: 3.04, ...}], [{E: 0.538, ...}], [{E: 0.488, ...}]]]\n",
       "------------------------------------------------------------------------------------------------------------------------------------------------------------------------------------------------------------------------------------------------\n",
       "type: 1000 * var * var * ?Cluster[\n",
       "    E: float32[parameters={&quot;__doc__&quot;: &quot;energy of the cluster&quot;}],\n",
       "    clusters_idx_EFlowNeutralHadron_collectionID: [var * float64, parameters={&quot;__doc__&quot;: &quot;clusters that have been combined to this cluster&quot;}],\n",
       "    clusters_idx_EFlowNeutralHadron_index: [var * float64, parameters={&quot;__doc__&quot;: &quot;clusters that have been combined to this cluster&quot;}],\n",
       "    clusters_idx_EFlowNeutralHadron_index_Global: [var * int64, parameters={&quot;__doc__&quot;: &quot;clusters that have been combined to this cluster&quot;}],\n",
       "    clusters_idx_EFlowPhoton_collectionID: [var * float64, parameters={&quot;__doc__&quot;: &quot;clusters that have been combined to this cluster&quot;}],\n",
       "    clusters_idx_EFlowPhoton_index: [var * float64, parameters={&quot;__doc__&quot;: &quot;clusters that have been combined to this cluster&quot;}],\n",
       "    clusters_idx_EFlowPhoton_index_Global: [var * int64, parameters={&quot;__doc__&quot;: &quot;clusters that have been combined to this cluster&quot;}],\n",
       "    directionError: ThreeVector[\n",
       "        x: float32[parameters={&quot;__doc__&quot;: &quot;covariance matrix of the direction&quot;}],\n",
       "        y: float32[parameters={&quot;__doc__&quot;: &quot;covariance matrix of the direction&quot;}],\n",
       "        z: float32[parameters={&quot;__doc__&quot;: &quot;covariance matrix of the direction&quot;}], \n",
       "    parameters={&quot;collection_name&quot;: &quot;directionError&quot;, &quot;__doc__&quot;: &quot;covariance matrix of the direction&quot;}],\n",
       "    energyError: float32[parameters={&quot;__doc__&quot;: &quot;error on the energy&quot;}],\n",
       "    hits_idx_CalorimeterHits_collectionID: [var * float64, parameters={&quot;__doc__&quot;: &quot;hits that have been combined to this cluster&quot;}],\n",
       "    hits_idx_CalorimeterHits_index: [var * float64, parameters={&quot;__doc__&quot;: &quot;hits that have been combined to this cluster&quot;}],\n",
       "    hits_idx_CalorimeterHits_index_Global: [var * int64, parameters={&quot;__doc__&quot;: &quot;hits that have been combined to this cluster&quot;}],\n",
       "    iTheta: float32[parameters={&quot;__doc__&quot;: &quot;intrinsic direction of cluster at position  Theta. Not to be confused with direction cluster is seen from IP&quot;}],\n",
       "    phi: float32[parameters={&quot;__doc__&quot;: &quot;intrinsic direction of cluster at position - Phi. Not to be confused with direction cluster is seen from IP&quot;}],\n",
       "    position: ThreeVector[\n",
       "        x: float32[parameters={&quot;__doc__&quot;: &quot;position of the cluster&quot;}],\n",
       "        y: float32[parameters={&quot;__doc__&quot;: &quot;position of the cluster&quot;}],\n",
       "        z: float32[parameters={&quot;__doc__&quot;: &quot;position of the cluster&quot;}], \n",
       "    parameters={&quot;collection_name&quot;: &quot;position&quot;, &quot;__doc__&quot;: &quot;position of the cluster&quot;}],\n",
       "    positionError: None[\n",
       "        &quot;values[6]&quot;: [6 * float32[parameters={&quot;__doc__&quot;: &quot;values[EFlowPhoton_]&quot;}], parameters={&quot;__doc__&quot;: &quot;covariance matrix of the position&quot;}], \n",
       "    parameters={&quot;collection_name&quot;: &quot;positionError&quot;, &quot;__doc__&quot;: &quot;covariance matrix of the position&quot;}],\n",
       "    shapeParameters: [var * float64, parameters={&quot;__doc__&quot;: &quot;shape parameters. This should be accompanied by a descriptive list of names in the shapeParameterNames collection level metadata, as a vector of strings with the same ordering&quot;}],\n",
       "    subdetectorEnergies: [var * float64, parameters={&quot;__doc__&quot;: &quot;energy observed in a particular subdetector&quot;}],\n",
       "    type: int32[parameters={&quot;__doc__&quot;: &quot;flagword that defines the type of cluster&quot;}], \n",
       "parameters={&quot;collection_name&quot;: &quot;EFlowPhoton&quot;, &quot;__doc__&quot;: &quot;Calorimeter Hit Cluster&quot;}]</pre>"
      ],
      "text/plain": [
       "<ClusterArray [[[], [], ..., [{E: 1.05, ...}]], ...] type='1000 * var * var...'>"
      ]
     },
     "execution_count": 4,
     "metadata": {},
     "output_type": "execute_result"
    }
   ],
   "source": [
    "events.ReconstructedParticles.get_cluster_photons"
   ]
  },
  {
   "cell_type": "code",
   "execution_count": 5,
   "id": "72a96235-6fc7-4300-ad8d-b0235c435122",
   "metadata": {
    "scrolled": true
   },
   "outputs": [
    {
     "data": {
      "text/html": [
       "<pre>[[[], [], [], [], [], [], [], [], [], ..., [], [], [], [], [], [], [], [], []],\n",
       " [[], [], [], [], [], [], [], [], [], ..., [], [], [], [], [], [], [], [], []],\n",
       " [[], [], [], [], [], [], [], [], [], ..., [], [], [], [], [], [], [], [], []],\n",
       " [[], [], [], [], [], [], [], [], [], ..., [], [], [], [], [], [], [], [], []],\n",
       " [[], [], [], [], [], [], [], [], [], ..., [], [], [], [], [], [], [], [], []],\n",
       " [[], [], [], [], [], [], [], [], [], ..., [], [], [], [], [], [], [], [], []],\n",
       " [[], [], [], [], [], [], [], [], [], ..., [], [], [], [], [], [], [], [], []],\n",
       " [[], [], [], [], [], [], [], [], [], ..., [], [], [], [], [], [], [], [], []],\n",
       " [[], [], [], [], [], [], [], [], [], ..., [], [], [], [], [], [], [], [], []],\n",
       " [[], [], [], [], [], [], [], [], [], ..., [], [], [], [], [], [], [], [], []],\n",
       " ...,\n",
       " [[], [], [], [], [], [], [], [], [], ..., [], [], [], [], [], [], [], [], []],\n",
       " [[], [], [], [], [], [], [], [], [], ..., [], [], [], [], [], [], [], [], []],\n",
       " [[], [], [], [], [], [], [], [], [], ..., [], [], [], [], [], [], [], [], []],\n",
       " [[], [], [], [], [], [], [], [], [], ..., [], [], [], [], [], [], [], [], []],\n",
       " [[], [], [], [], [], [], [], [], [], ..., [], [], [], [], [], [], [], [], []],\n",
       " [[], [], [], [], [], [], [], [], [], ..., [], [], [], [], [], [], [], [], []],\n",
       " [[], [], [], [], [], [], [], [], [], ..., [], [], [], [], [], [], [], [], []],\n",
       " [[], [], [], [], [], [], [], [], [], ..., [], [], [], [], [], [], [], [], []],\n",
       " [[], [], [], [], [], [], [], [], [], ..., [], [], [], [], [], [], [], [], []]]\n",
       "------------------------------------------------------------------------------------------------------------------------------------------------------------------------------------\n",
       "type: 1000 * var * var * ?ReconstructedParticle[\n",
       "    E: float32[parameters={&quot;__doc__&quot;: &quot;energy of the reconstructed particle. Four momentum state is not kept consistent internally&quot;}],\n",
       "    Link_from_ReconstructedParticles: struct[{\n",
       "        index: int32[parameters={&quot;__doc__&quot;: &quot;unknown&quot;}],\n",
       "        collectionID: uint32[parameters={&quot;__doc__&quot;: &quot;unknown&quot;}],\n",
       "        index_Global: int64[parameters={&quot;__doc__&quot;: &quot;unknown&quot;}]\n",
       "    }, parameters={&quot;__doc__&quot;: &quot;reference to the reconstructed particle&quot;}],\n",
       "    Link_to_Particle: struct[{\n",
       "        index: int32[parameters={&quot;__doc__&quot;: &quot;unknown&quot;}],\n",
       "        collectionID: uint32[parameters={&quot;__doc__&quot;: &quot;unknown&quot;}],\n",
       "        index_Global: int64[parameters={&quot;__doc__&quot;: &quot;unknown&quot;}]\n",
       "    }, parameters={&quot;__doc__&quot;: &quot;reference to the Monte-Carlo particle&quot;}],\n",
       "    PDG: int32[parameters={&quot;__doc__&quot;: &quot;PDG of the reconstructed particle.&quot;}],\n",
       "    charge: float32[parameters={&quot;__doc__&quot;: &quot;charge of the reconstructed particle&quot;}],\n",
       "    clusters_idx_EFlowNeutralHadron_collectionID: [var * float64, parameters={&quot;__doc__&quot;: &quot;clusters that have been used for this particle&quot;}],\n",
       "    clusters_idx_EFlowNeutralHadron_index: [var * float64, parameters={&quot;__doc__&quot;: &quot;clusters that have been used for this particle&quot;}],\n",
       "    clusters_idx_EFlowNeutralHadron_index_Global: [var * int64, parameters={&quot;__doc__&quot;: &quot;clusters that have been used for this particle&quot;}],\n",
       "    clusters_idx_EFlowPhoton_collectionID: [var * float64, parameters={&quot;__doc__&quot;: &quot;clusters that have been used for this particle&quot;}],\n",
       "    clusters_idx_EFlowPhoton_index: [var * float64, parameters={&quot;__doc__&quot;: &quot;clusters that have been used for this particle&quot;}],\n",
       "    clusters_idx_EFlowPhoton_index_Global: [var * int64, parameters={&quot;__doc__&quot;: &quot;clusters that have been used for this particle&quot;}],\n",
       "    covMatrix: None[\n",
       "        &quot;values[10]&quot;: [10 * float32[parameters={&quot;__doc__&quot;: &quot;values[ReconstructedParticles_]&quot;}], parameters={&quot;__doc__&quot;: &quot;covariance matrix of the reconstructed particle 4vector&quot;}], \n",
       "    parameters={&quot;collection_name&quot;: &quot;covMatrix&quot;, &quot;__doc__&quot;: &quot;covariance matrix of the reconstructed particle 4vector&quot;}],\n",
       "    goodnessOfPID: float32[parameters={&quot;__doc__&quot;: &quot;overall goodness of the PID on a scale of [0;1]&quot;}],\n",
       "    mass: float32[parameters={&quot;__doc__&quot;: &quot;mass of the reconstructed particle, set independently from four vector. Four momentum state is not kept consistent internally&quot;}],\n",
       "    particles_idx_Jet_collectionID: [var * float64, parameters={&quot;__doc__&quot;: &quot;reconstructed particles that have been combined to this particle&quot;}],\n",
       "    particles_idx_Jet_index: [var * float64, parameters={&quot;__doc__&quot;: &quot;reconstructed particles that have been combined to this particle&quot;}],\n",
       "    particles_idx_Jet_index_Global: [var * int64, parameters={&quot;__doc__&quot;: &quot;reconstructed particles that have been combined to this particle&quot;}],\n",
       "    particles_idx_ReconstructedParticles_collectionID: [var * float64, parameters={&quot;__doc__&quot;: &quot;reconstructed particles that have been combined to this particle&quot;}],\n",
       "    particles_idx_ReconstructedParticles_index: [var * float64, parameters={&quot;__doc__&quot;: &quot;reconstructed particles that have been combined to this particle&quot;}],\n",
       "    particles_idx_ReconstructedParticles_index_Global: [var * int64, parameters={&quot;__doc__&quot;: &quot;reconstructed particles that have been combined to this particle&quot;}],\n",
       "    px: float32[parameters={&quot;__doc__&quot;: &quot;particle momentum. Four momentum state is not kept consistent internally&quot;}],\n",
       "    py: float32[parameters={&quot;__doc__&quot;: &quot;particle momentum. Four momentum state is not kept consistent internally&quot;}],\n",
       "    pz: float32[parameters={&quot;__doc__&quot;: &quot;particle momentum. Four momentum state is not kept consistent internally&quot;}],\n",
       "    referencePoint: ThreeVector[\n",
       "        x: float32[parameters={&quot;__doc__&quot;: &quot;reference, i.e. where the particle has been measured&quot;}],\n",
       "        y: float32[parameters={&quot;__doc__&quot;: &quot;reference, i.e. where the particle has been measured&quot;}],\n",
       "        z: float32[parameters={&quot;__doc__&quot;: &quot;reference, i.e. where the particle has been measured&quot;}], \n",
       "    parameters={&quot;collection_name&quot;: &quot;referencePoint&quot;, &quot;__doc__&quot;: &quot;reference, i.e. where the particle has been measured&quot;}],\n",
       "    tracks_idx_EFlowTrack_collectionID: [var * float64, parameters={&quot;__doc__&quot;: &quot;tracks that have been used for this particle&quot;}],\n",
       "    tracks_idx_EFlowTrack_index: [var * float64, parameters={&quot;__doc__&quot;: &quot;tracks that have been used for this particle&quot;}],\n",
       "    tracks_idx_EFlowTrack_index_Global: [var * int64, parameters={&quot;__doc__&quot;: &quot;tracks that have been used for this particle&quot;}], \n",
       "parameters={&quot;collection_name&quot;: &quot;ReconstructedParticles&quot;, &quot;__doc__&quot;: &quot;Reconstructed Particle&quot;}]</pre>"
      ],
      "text/plain": [
       "<ReconstructedParticleArray [[[], [], [], [], ..., [], [], []], ...] type='...'>"
      ]
     },
     "execution_count": 5,
     "metadata": {},
     "output_type": "execute_result"
    }
   ],
   "source": [
    "events.ReconstructedParticles.get_reconstructedparticles"
   ]
  },
  {
   "cell_type": "markdown",
   "id": "459813f7-22ed-4e64-82c4-133cab9ee088",
   "metadata": {},
   "source": [
    "- Similarly, one has access to all the following special methods:"
   ]
  },
  {
   "cell_type": "code",
   "execution_count": null,
   "id": "0a053f9c-0202-44c7-8cf8-31c3af49c912",
   "metadata": {},
   "outputs": [],
   "source": [
    "# events.ParticleIDs.get_reconstructedparticles\n",
    "\n",
    "# events.EFlowPhoton.get_cluster_photons\n",
    "# events.EFlowPhoton.get_hits\n",
    "\n",
    "# events.EFlowTrack.get_tracks\n",
    "# events.EFlowTrack.get_trackerhits\n",
    "\n",
    "# events.Particle.get_parents\n",
    "# events.Particle.get_daughters\n"
   ]
  },
  {
   "cell_type": "markdown",
   "id": "209a053f-54fc-41d7-a763-8b0ed65d99ac",
   "metadata": {},
   "source": [
    "## Links"
   ]
  },
  {
   "cell_type": "markdown",
   "id": "57f7c3b3-80ac-4ad9-8f3d-a150ee8ebef1",
   "metadata": {},
   "source": [
    "- There is only one link in the FCC Samples, which is RecoMCParticleLink named as MCRecoAssociation\n",
    "- One can use `List_Links` method to check if links are available"
   ]
  },
  {
   "cell_type": "code",
   "execution_count": 6,
   "id": "5eb31c07-0aa3-4b88-b889-30b56299a94c",
   "metadata": {},
   "outputs": [
    {
     "data": {
      "text/plain": [
       "{'Link_from_ReconstructedParticles', 'Link_to_Particle'}"
      ]
     },
     "execution_count": 6,
     "metadata": {},
     "output_type": "execute_result"
    }
   ],
   "source": [
    "events.ReconstructedParticles.List_Links"
   ]
  },
  {
   "cell_type": "markdown",
   "id": "f8abc834-2fea-4c54-af8d-95add39e6cb0",
   "metadata": {},
   "source": [
    "- To go from ReconstructedParticles to the MC particles one can use the special method: `match_gen`"
   ]
  },
  {
   "cell_type": "code",
   "execution_count": 7,
   "id": "ab9b99c0-4caf-4ad4-85b8-dd6d336dd472",
   "metadata": {},
   "outputs": [
    {
     "data": {
      "text/html": [
       "<pre>[[MCParticle, ..., MCParticle],\n",
       " [MCParticle, ..., MCParticle],\n",
       " [MCParticle, ..., MCParticle],\n",
       " [MCParticle, ..., MCParticle],\n",
       " [MCParticle, ..., MCParticle],\n",
       " [MCParticle, ..., MCParticle],\n",
       " [MCParticle, ..., MCParticle],\n",
       " [MCParticle, ..., MCParticle],\n",
       " [MCParticle, ..., MCParticle],\n",
       " [MCParticle, ..., MCParticle],\n",
       " ...,\n",
       " [MCParticle, ..., MCParticle],\n",
       " [MCParticle, ..., MCParticle],\n",
       " [MCParticle, ..., MCParticle],\n",
       " [MCParticle, ..., MCParticle],\n",
       " [MCParticle, ..., MCParticle],\n",
       " [MCParticle, ..., MCParticle],\n",
       " [MCParticle, ..., MCParticle],\n",
       " [MCParticle, ..., MCParticle],\n",
       " [MCParticle, ..., MCParticle]]\n",
       "-----------------------------------------------------------------------------------------------------------------------------------------------------------------\n",
       "type: 1000 * var * ?MCParticle[\n",
       "    PDG: int32[parameters={&quot;__doc__&quot;: &quot;PDG code of the particle&quot;}],\n",
       "    charge: float32[parameters={&quot;__doc__&quot;: &quot;particle charge&quot;}],\n",
       "    colorFlow: TwoVector[\n",
       "        x: int32[parameters={&quot;__doc__&quot;: &quot;color flow as defined by the generator&quot;}],\n",
       "        y: int32[parameters={&quot;__doc__&quot;: &quot;color flow as defined by the generator&quot;}], \n",
       "    parameters={&quot;collection_name&quot;: &quot;colorFlow&quot;, &quot;__doc__&quot;: &quot;color flow as defined by the generator&quot;}],\n",
       "    daughters_idx_Particle_collectionID: [var * float64, parameters={&quot;__doc__&quot;: &quot;The daughters this particle&quot;}],\n",
       "    daughters_idx_Particle_index: [var * float64, parameters={&quot;__doc__&quot;: &quot;The daughters this particle&quot;}],\n",
       "    daughters_idx_Particle_index_Global: [var * int64, parameters={&quot;__doc__&quot;: &quot;The daughters this particle&quot;}],\n",
       "    endpoint: ThreeVector[\n",
       "        x: float64[parameters={&quot;__doc__&quot;: &quot;endpoint of the particle&quot;}],\n",
       "        y: float64[parameters={&quot;__doc__&quot;: &quot;endpoint of the particle&quot;}],\n",
       "        z: float64[parameters={&quot;__doc__&quot;: &quot;endpoint of the particle&quot;}], \n",
       "    parameters={&quot;collection_name&quot;: &quot;endpoint&quot;, &quot;__doc__&quot;: &quot;endpoint of the particle&quot;}],\n",
       "    generatorStatus: int32[parameters={&quot;__doc__&quot;: &quot;status of the particle as defined by the generator&quot;}],\n",
       "    mass: float64[parameters={&quot;__doc__&quot;: &quot;mass of the particle&quot;}],\n",
       "    momentumAtEndpoint: ThreeVector[\n",
       "        x: float64[parameters={&quot;__doc__&quot;: &quot;particle 3-momentum at the endpoint&quot;}],\n",
       "        y: float64[parameters={&quot;__doc__&quot;: &quot;particle 3-momentum at the endpoint&quot;}],\n",
       "        z: float64[parameters={&quot;__doc__&quot;: &quot;particle 3-momentum at the endpoint&quot;}], \n",
       "    parameters={&quot;collection_name&quot;: &quot;momentumAtEndpoint&quot;, &quot;__doc__&quot;: &quot;particle 3-momentum at the endpoint&quot;}],\n",
       "    parents_idx_Particle_collectionID: [var * float64, parameters={&quot;__doc__&quot;: &quot;The parents of this particle&quot;}],\n",
       "    parents_idx_Particle_index: [var * float64, parameters={&quot;__doc__&quot;: &quot;The parents of this particle&quot;}],\n",
       "    parents_idx_Particle_index_Global: [var * int64, parameters={&quot;__doc__&quot;: &quot;The parents of this particle&quot;}],\n",
       "    px: float64[parameters={&quot;__doc__&quot;: &quot;particle 3-momentum at the production vertex&quot;}],\n",
       "    py: float64[parameters={&quot;__doc__&quot;: &quot;particle 3-momentum at the production vertex&quot;}],\n",
       "    pz: float64[parameters={&quot;__doc__&quot;: &quot;particle 3-momentum at the production vertex&quot;}],\n",
       "    simulatorStatus: int32[parameters={&quot;__doc__&quot;: &quot;status of the particle from the simulation program - use BIT constants below&quot;}],\n",
       "    spin: ThreeVector[\n",
       "        x: float32[parameters={&quot;__doc__&quot;: &quot;spin (helicity) vector of the particle&quot;}],\n",
       "        y: float32[parameters={&quot;__doc__&quot;: &quot;spin (helicity) vector of the particle&quot;}],\n",
       "        z: float32[parameters={&quot;__doc__&quot;: &quot;spin (helicity) vector of the particle&quot;}], \n",
       "    parameters={&quot;collection_name&quot;: &quot;spin&quot;, &quot;__doc__&quot;: &quot;spin (helicity) vector of the particle&quot;}],\n",
       "    time: float32[parameters={&quot;__doc__&quot;: &quot;creation time of the particle in wrt. the event, e.g. for preassigned decays or decays in flight from the simulator&quot;}],\n",
       "    vertex: ThreeVector[\n",
       "        x: float64[parameters={&quot;__doc__&quot;: &quot;production vertex of the particle&quot;}],\n",
       "        y: float64[parameters={&quot;__doc__&quot;: &quot;production vertex of the particle&quot;}],\n",
       "        z: float64[parameters={&quot;__doc__&quot;: &quot;production vertex of the particle&quot;}], \n",
       "    parameters={&quot;collection_name&quot;: &quot;vertex&quot;, &quot;__doc__&quot;: &quot;production vertex of the particle&quot;}], \n",
       "parameters={&quot;collection_name&quot;: &quot;Particle&quot;, &quot;__doc__&quot;: &quot;The Monte Carlo particle - based on the lcio::MCParticle.&quot;}]</pre>"
      ],
      "text/plain": [
       "<MCParticleArray [[MCParticle, ..., MCParticle], ...] type='1000 * var * ?M...'>"
      ]
     },
     "execution_count": 7,
     "metadata": {},
     "output_type": "execute_result"
    }
   ],
   "source": [
    "events.ReconstructedParticles.match_gen"
   ]
  }
 ],
 "metadata": {
  "kernelspec": {
   "display_name": "Python 3 (ipykernel)",
   "language": "python",
   "name": "python3"
  },
  "language_info": {
   "codemirror_mode": {
    "name": "ipython",
    "version": 3
   },
   "file_extension": ".py",
   "mimetype": "text/x-python",
   "name": "python",
   "nbconvert_exporter": "python",
   "pygments_lexer": "ipython3",
   "version": "3.12.8"
  }
 },
 "nbformat": 4,
 "nbformat_minor": 5
}
