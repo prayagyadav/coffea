{
 "cells": [
  {
   "cell_type": "code",
   "execution_count": 1,
   "id": "9c16f947-e1d7-4e20-ae93-0b2082ec27e2",
   "metadata": {},
   "outputs": [
    {
     "name": "stdout",
     "output_type": "stream",
     "text": [
      "_______________________________________\n",
      "\tCurrent Configuration\n",
      "---------------------------------------\n",
      "Coffea Version:  0.1.dev3583+ge06c4b8\n",
      "Branch: \t master\n",
      "Modified by: \t Prayag Yadav\n",
      "_______________________________________\n"
     ]
    }
   ],
   "source": [
    "import coffea\n",
    "from git import Repo\n",
    "import awkward\n",
    "import numpy as np\n",
    "import numba\n",
    "import uproot\n",
    "import dask_awkward as dak\n",
    "from dask_awkward import dask_method\n",
    "import hist\n",
    "import mplhep as hep\n",
    "import matplotlib.pyplot as plt\n",
    "mod = \"Prayag Yadav\"\n",
    "local_repo = Repo(path='coffea')\n",
    "local_branch = local_repo.active_branch.name\n",
    "print(\"_______________________________________\")\n",
    "print(\"\\tCurrent Configuration\")\n",
    "print(\"---------------------------------------\")\n",
    "print(\"Coffea Version: \", coffea.__version__)\n",
    "print(\"Branch: \\t\", local_branch)\n",
    "print(\"Modified by: \\t\", mod)\n",
    "print(\"_______________________________________\")\n"
   ]
  },
  {
   "cell_type": "code",
   "execution_count": 16,
   "id": "7f59e9a5-3885-4d37-b9a7-a5e81baf670a",
   "metadata": {},
   "outputs": [],
   "source": [
    "from coffea.nanoevents import NanoEventsFactory, FCCSchema, FCC\n",
    "#test_file = '../../../coffea-fcc-analyses/data/p8_ee_ZH_ecm240/events_082532938.root'\n",
    "test_file = './test_Spring2021.root'\n",
    "file = uproot.open(test_file)\n",
    "\n",
    "events = NanoEventsFactory.from_root(\n",
    "    test_file+\":events\",\n",
    "    # entry_stop=100000,\n",
    "    schemaclass= FCC.get_schema(version=\"latest\"),\n",
    "    delayed = False,\n",
    "    metadata=file[\"metadata\"].arrays()\n",
    ").events()\n",
    "\n",
    "file.close()"
   ]
  },
  {
   "cell_type": "code",
   "execution_count": 17,
   "id": "df276512-6043-44b6-b125-69ed4ef87aa8",
   "metadata": {},
   "outputs": [
    {
     "data": {
      "text/html": [
       "<pre>[[[], [], [{PDG: 11, charge: -1, colorFlow: {...}, ...}], ..., [{...}], [], []],\n",
       " [[{PDG: 11, charge: -1, colorFlow: {a: 0, ...}, daughters: {...}, ...}], ...],\n",
       " [[{PDG: 11, charge: -1, colorFlow: {a: 0, ...}, daughters: {...}, ...}], ...],\n",
       " [[{PDG: 11, charge: -1, colorFlow: {a: 0, ...}, daughters: {...}, ...}], ...],\n",
       " [[{PDG: 11, charge: -1, colorFlow: {a: 0, ...}, daughters: {...}, ...}], ...],\n",
       " [[{PDG: 11, charge: -1, colorFlow: {a: 0, ...}, daughters: {...}, ...}], ...],\n",
       " [[{PDG: 11, charge: -1, colorFlow: {a: 0, ...}, daughters: {...}, ...}], ...],\n",
       " [[{PDG: 11, charge: -1, colorFlow: {a: 0, ...}, daughters: {...}, ...}], ...],\n",
       " [[{PDG: 11, charge: -1, colorFlow: {a: 0, ...}, daughters: {...}, ...}], ...],\n",
       " [[{PDG: 11, charge: -1, colorFlow: {a: 0, ...}, daughters: {...}, ...}], ...],\n",
       " ...,\n",
       " [[{PDG: 11, charge: -1, colorFlow: {a: 0, ...}, daughters: {...}, ...}], ...],\n",
       " [[{PDG: 11, charge: -1, colorFlow: {a: 0, ...}, daughters: {...}, ...}], ...],\n",
       " [[{PDG: 11, charge: -1, colorFlow: {a: 0, ...}, daughters: {...}, ...}], ...],\n",
       " [[{PDG: 11, charge: -1, colorFlow: {a: 0, ...}, daughters: {...}, ...}], ...],\n",
       " [[{PDG: 11, charge: -1, colorFlow: {a: 0, ...}, daughters: {...}, ...}], ...],\n",
       " [[{PDG: 11, charge: -1, colorFlow: {a: 0, ...}, daughters: {...}, ...}], ...],\n",
       " [[{PDG: 11, charge: -1, colorFlow: {a: 0, ...}, daughters: {...}, ...}], ...],\n",
       " [[{PDG: 11, charge: -1, colorFlow: {a: 0, ...}, daughters: {...}, ...}], ...],\n",
       " [[{PDG: 11, charge: -1, colorFlow: {a: 0, ...}, daughters: {...}, ...}], ...]]\n",
       "---------------------------------------------------------------------------------\n",
       "type: 100 * var * var * MCTruthParticle[\n",
       "    PDG: int32[parameters={&quot;__doc__&quot;: &quot;PDG[Particle_]&quot;}],\n",
       "    charge: float32[parameters={&quot;__doc__&quot;: &quot;charge[Particle_]&quot;}],\n",
       "    colorFlow: {\n",
       "        a: int32[parameters={&quot;__doc__&quot;: &quot;a[Particle_]&quot;}],\n",
       "        b: int32[parameters={&quot;__doc__&quot;: &quot;b[Particle_]&quot;}]\n",
       "    },\n",
       "    daughters: {\n",
       "        begin: uint32[parameters={&quot;__doc__&quot;: &quot;daughters_begin[Particle_]&quot;}],\n",
       "        end: uint32[parameters={&quot;__doc__&quot;: &quot;daughters_end[Particle_]&quot;}]\n",
       "    },\n",
       "    endpoint: ThreeVector[\n",
       "        x: float64[parameters={&quot;__doc__&quot;: &quot;x[Particle_]&quot;}],\n",
       "        y: float64[parameters={&quot;__doc__&quot;: &quot;y[Particle_]&quot;}],\n",
       "        z: float64[parameters={&quot;__doc__&quot;: &quot;z[Particle_]&quot;}]\n",
       "    ],\n",
       "    generatorStatus: int32[parameters={&quot;__doc__&quot;: &quot;generatorStatus[Particle_]&quot;}],\n",
       "    mass: float64[parameters={&quot;__doc__&quot;: &quot;mass[Particle_]&quot;}],\n",
       "    momentumAtEndpoint: ThreeVector[\n",
       "        x: float32[parameters={&quot;__doc__&quot;: &quot;x[Particle_]&quot;}],\n",
       "        y: float32[parameters={&quot;__doc__&quot;: &quot;y[Particle_]&quot;}],\n",
       "        z: float32[parameters={&quot;__doc__&quot;: &quot;z[Particle_]&quot;}]\n",
       "    ],\n",
       "    parents: {\n",
       "        begin: uint32[parameters={&quot;__doc__&quot;: &quot;parents_begin[Particle_]&quot;}],\n",
       "        end: uint32[parameters={&quot;__doc__&quot;: &quot;parents_end[Particle_]&quot;}]\n",
       "    },\n",
       "    px: float32[parameters={&quot;__doc__&quot;: &quot;x[Particle_]&quot;}],\n",
       "    py: float32[parameters={&quot;__doc__&quot;: &quot;y[Particle_]&quot;}],\n",
       "    pz: float32[parameters={&quot;__doc__&quot;: &quot;z[Particle_]&quot;}],\n",
       "    simulatorStatus: int32[parameters={&quot;__doc__&quot;: &quot;simulatorStatus[Particle_]&quot;}],\n",
       "    spin: ThreeVector[\n",
       "        x: float32[parameters={&quot;__doc__&quot;: &quot;x[Particle_]&quot;}],\n",
       "        y: float32[parameters={&quot;__doc__&quot;: &quot;y[Particle_]&quot;}],\n",
       "        z: float32[parameters={&quot;__doc__&quot;: &quot;z[Particle_]&quot;}]\n",
       "    ],\n",
       "    time: float32[parameters={&quot;__doc__&quot;: &quot;time[Particle_]&quot;}],\n",
       "    vertex: ThreeVector[\n",
       "        x: float64[parameters={&quot;__doc__&quot;: &quot;x[Particle_]&quot;}],\n",
       "        y: float64[parameters={&quot;__doc__&quot;: &quot;y[Particle_]&quot;}],\n",
       "        z: float64[parameters={&quot;__doc__&quot;: &quot;z[Particle_]&quot;}]\n",
       "    ], \n",
       "parameters={&quot;collection_name&quot;: &quot;Particle&quot;}]</pre>"
      ],
      "text/plain": [
       "<MCTruthParticleArray [[[], [], [{...}], ..., [], []], ...] type='100 * var...'>"
      ]
     },
     "execution_count": 17,
     "metadata": {},
     "output_type": "execute_result"
    }
   ],
   "source": [
    "events.Particle.get_parents"
   ]
  },
  {
   "cell_type": "markdown",
   "id": "eabf151f-6046-433a-87a5-c43ed19ca469",
   "metadata": {},
   "source": [
    "# Get all the daughters"
   ]
  },
  {
   "cell_type": "markdown",
   "id": "4c086e2e-b5fa-459b-8bad-c6bfa2fc5d07",
   "metadata": {},
   "source": [
    "- The implementation I have come up looks a bit shabby. I wonder if there is a better an more efficient way.\n",
    "- `get_daughters_index` generates a doubly-nested array of all the index ranges from begin to end\n",
    "- For example, if the first `Particle` of the first has daughters that `begin` with `0` and `end` with `1`, then, the range of indices is `range(0,1)` = `[0]`. the `Particeidx1` value corresponding to this is `[2]`."
   ]
  },
  {
   "cell_type": "code",
   "execution_count": 18,
   "id": "612804cb-48f0-46cf-ad8d-7a22a1830d6b",
   "metadata": {
    "scrolled": true
   },
   "outputs": [
    {
     "data": {
      "text/html": [
       "<pre>[[[2], [3], [4, 5], [4, 5], [8, 9], [37, 38], [], ..., [], [], [], [], [], []],\n",
       " [[11], [12], [4, 5], [4, 5], [8], [9], [10, ...], ..., [], [], [], [], [], []],\n",
       " [[11], [12], [4, 5], [4, 5], [8], [9], ..., [262, ...], [], [], [], [], []],\n",
       " [[2], [3], [4, 5], [4, 5], [8, 9], [10, ...], ..., [61, 62], [], [], [], []],\n",
       " [[6], [7], [4, 5], [4, 5], [8], [9], [10, ...], ..., [], [], [], [], [], []],\n",
       " [[11], [12], [4, 5], [4, 5], [8], [9], [2], ..., [], [], [29, 30], [], [], []],\n",
       " [[17], [18], [4, 5], [4, 5], [8], [9], [2], ..., [], [], [], [], [], []],\n",
       " [[6], [7], [4, 5], [4, 5], [8], [9], ..., [], [], [], [419, 420], [], []],\n",
       " [[11], [12], [4, 5], [4, 5], [8], [9], [2], ..., [], [], [], [], [], [], []],\n",
       " [[6], [7], [4, 5], [4, 5], [8], [9], [10, ...], ..., [], [], [], [], [], []],\n",
       " ...,\n",
       " [[11], [12], [4, 5], [4, 5], [8], [9], [2], ..., [], [], [], [], [], []],\n",
       " [[11], [12], [4, 5], [4, 5], [8], [9], [10, ...], ..., [], [], [], [], [], []],\n",
       " [[6], [7], [4, 5], [4, 5], [8], [9], [10, ...], ..., [], [], [], [], [], []],\n",
       " [[2], [3], [4, 5], [4, 5], [8, 9], [76, 77], [], ..., [], [], [], [], [], []],\n",
       " [[6], [7], [4, 5], [4, 5], [8], [9], [2], ..., [], [], [125, 126], [], [], []],\n",
       " [[6], [7], [4, 5], [4, 5], [8], [9], [10, ...], ..., [], [], [], [], [], []],\n",
       " [[6], [7], [4, 5], [4, 5], [8], [9], [10, ...], ..., [], [], [], [], [], []],\n",
       " [[2], [3], [4, 5], [4, 5], [8, 9], [10, 11], [], ..., [], [], [], [], [], []],\n",
       " [[6], [7], [4, 5], [4, 5], [8], [9], [10, ...], ..., [], [], [], [], [], []]]\n",
       "--------------------------------------------------------------------------------\n",
       "type: 100 * var * var * int64[parameters={&quot;__doc__&quot;: &quot;index[Particle#1_]&quot;}]</pre>"
      ],
      "text/plain": [
       "<Array [[[2], [3], [4, ...], ..., [], []], ...] type='100 * var * var * int...'>"
      ]
     },
     "execution_count": 18,
     "metadata": {},
     "output_type": "execute_result"
    }
   ],
   "source": [
    "events.Particle.get_daughters_index"
   ]
  },
  {
   "cell_type": "markdown",
   "id": "fd28688f-adcb-4af7-a1ef-a920658b8ceb",
   "metadata": {},
   "source": [
    "- Finally, to get the actual daughter MC particle, one can simply call `get_daughters`\n",
    "- For Example, if the the first element of the first event in the output of `get_daughters_index` was `[2]`, that would produce the array `[<Particle at the index 2 in the Particle collection>]`"
   ]
  },
  {
   "cell_type": "code",
   "execution_count": 19,
   "id": "0df65b2d-2db3-4e47-9a51-f080a38da8de",
   "metadata": {
    "scrolled": true
   },
   "outputs": [
    {
     "data": {
      "text/html": [
       "<pre>[[[{PDG: 11, charge: -1, colorFlow: {a: 0, ...}, daughters: {...}, ...}], ...],\n",
       " [[{PDG: 11, charge: -1, colorFlow: {a: 0, ...}, daughters: {...}, ...}], ...],\n",
       " [[{PDG: 11, charge: -1, colorFlow: {a: 0, ...}, daughters: {...}, ...}], ...],\n",
       " [[{PDG: 11, charge: -1, colorFlow: {a: 0, ...}, daughters: {...}, ...}], ...],\n",
       " [[{PDG: 11, charge: -1, colorFlow: {a: 0, ...}, daughters: {...}, ...}], ...],\n",
       " [[{PDG: 11, charge: -1, colorFlow: {a: 0, ...}, daughters: {...}, ...}], ...],\n",
       " [[{PDG: 11, charge: -1, colorFlow: {a: 0, ...}, daughters: {...}, ...}], ...],\n",
       " [[{PDG: 11, charge: -1, colorFlow: {a: 0, ...}, daughters: {...}, ...}], ...],\n",
       " [[{PDG: 11, charge: -1, colorFlow: {a: 0, ...}, daughters: {...}, ...}], ...],\n",
       " [[{PDG: 11, charge: -1, colorFlow: {a: 0, ...}, daughters: {...}, ...}], ...],\n",
       " ...,\n",
       " [[{PDG: 11, charge: -1, colorFlow: {a: 0, ...}, daughters: {...}, ...}], ...],\n",
       " [[{PDG: 11, charge: -1, colorFlow: {a: 0, ...}, daughters: {...}, ...}], ...],\n",
       " [[{PDG: 11, charge: -1, colorFlow: {a: 0, ...}, daughters: {...}, ...}], ...],\n",
       " [[{PDG: 11, charge: -1, colorFlow: {a: 0, ...}, daughters: {...}, ...}], ...],\n",
       " [[{PDG: 11, charge: -1, colorFlow: {a: 0, ...}, daughters: {...}, ...}], ...],\n",
       " [[{PDG: 11, charge: -1, colorFlow: {a: 0, ...}, daughters: {...}, ...}], ...],\n",
       " [[{PDG: 11, charge: -1, colorFlow: {a: 0, ...}, daughters: {...}, ...}], ...],\n",
       " [[{PDG: 11, charge: -1, colorFlow: {a: 0, ...}, daughters: {...}, ...}], ...],\n",
       " [[{PDG: 11, charge: -1, colorFlow: {a: 0, ...}, daughters: {...}, ...}], ...]]\n",
       "---------------------------------------------------------------------------------\n",
       "type: 100 * var * var * MCTruthParticle[\n",
       "    PDG: int32[parameters={&quot;__doc__&quot;: &quot;PDG[Particle_]&quot;}],\n",
       "    charge: float32[parameters={&quot;__doc__&quot;: &quot;charge[Particle_]&quot;}],\n",
       "    colorFlow: {\n",
       "        a: int32[parameters={&quot;__doc__&quot;: &quot;a[Particle_]&quot;}],\n",
       "        b: int32[parameters={&quot;__doc__&quot;: &quot;b[Particle_]&quot;}]\n",
       "    },\n",
       "    daughters: {\n",
       "        begin: uint32[parameters={&quot;__doc__&quot;: &quot;daughters_begin[Particle_]&quot;}],\n",
       "        end: uint32[parameters={&quot;__doc__&quot;: &quot;daughters_end[Particle_]&quot;}]\n",
       "    },\n",
       "    endpoint: ThreeVector[\n",
       "        x: float64[parameters={&quot;__doc__&quot;: &quot;x[Particle_]&quot;}],\n",
       "        y: float64[parameters={&quot;__doc__&quot;: &quot;y[Particle_]&quot;}],\n",
       "        z: float64[parameters={&quot;__doc__&quot;: &quot;z[Particle_]&quot;}]\n",
       "    ],\n",
       "    generatorStatus: int32[parameters={&quot;__doc__&quot;: &quot;generatorStatus[Particle_]&quot;}],\n",
       "    mass: float64[parameters={&quot;__doc__&quot;: &quot;mass[Particle_]&quot;}],\n",
       "    momentumAtEndpoint: ThreeVector[\n",
       "        x: float32[parameters={&quot;__doc__&quot;: &quot;x[Particle_]&quot;}],\n",
       "        y: float32[parameters={&quot;__doc__&quot;: &quot;y[Particle_]&quot;}],\n",
       "        z: float32[parameters={&quot;__doc__&quot;: &quot;z[Particle_]&quot;}]\n",
       "    ],\n",
       "    parents: {\n",
       "        begin: uint32[parameters={&quot;__doc__&quot;: &quot;parents_begin[Particle_]&quot;}],\n",
       "        end: uint32[parameters={&quot;__doc__&quot;: &quot;parents_end[Particle_]&quot;}]\n",
       "    },\n",
       "    px: float32[parameters={&quot;__doc__&quot;: &quot;x[Particle_]&quot;}],\n",
       "    py: float32[parameters={&quot;__doc__&quot;: &quot;y[Particle_]&quot;}],\n",
       "    pz: float32[parameters={&quot;__doc__&quot;: &quot;z[Particle_]&quot;}],\n",
       "    simulatorStatus: int32[parameters={&quot;__doc__&quot;: &quot;simulatorStatus[Particle_]&quot;}],\n",
       "    spin: ThreeVector[\n",
       "        x: float32[parameters={&quot;__doc__&quot;: &quot;x[Particle_]&quot;}],\n",
       "        y: float32[parameters={&quot;__doc__&quot;: &quot;y[Particle_]&quot;}],\n",
       "        z: float32[parameters={&quot;__doc__&quot;: &quot;z[Particle_]&quot;}]\n",
       "    ],\n",
       "    time: float32[parameters={&quot;__doc__&quot;: &quot;time[Particle_]&quot;}],\n",
       "    vertex: ThreeVector[\n",
       "        x: float64[parameters={&quot;__doc__&quot;: &quot;x[Particle_]&quot;}],\n",
       "        y: float64[parameters={&quot;__doc__&quot;: &quot;y[Particle_]&quot;}],\n",
       "        z: float64[parameters={&quot;__doc__&quot;: &quot;z[Particle_]&quot;}]\n",
       "    ], \n",
       "parameters={&quot;collection_name&quot;: &quot;Particle&quot;}]</pre>"
      ],
      "text/plain": [
       "<MCTruthParticleArray [[[{PDG: 11, ...}], ..., []], ...] type='100 * var * ...'>"
      ]
     },
     "execution_count": 19,
     "metadata": {},
     "output_type": "execute_result"
    }
   ],
   "source": [
    "events.Particle.get_daughters"
   ]
  },
  {
   "cell_type": "markdown",
   "id": "24622dcd-2ddc-4a5d-a3eb-ef105debbe47",
   "metadata": {},
   "source": [
    "# Get all the Parents"
   ]
  },
  {
   "cell_type": "markdown",
   "id": "095d3809-e516-49fa-aadd-4a19796c04ee",
   "metadata": {},
   "source": [
    "- Very similar to daughters, parents can be generated using very similar functions"
   ]
  },
  {
   "cell_type": "code",
   "execution_count": 20,
   "id": "ecb9908c-444d-4347-86ba-c803cefda4a5",
   "metadata": {
    "scrolled": true
   },
   "outputs": [
    {
     "data": {
      "text/html": [
       "<pre>[[[], [], [0], [1], [2, 3], [2, 3], ..., [275], [275], [276], [276], [], []],\n",
       " [[6], [7], [2, 3], [2, 3], [11], [12], ..., [205], [213], [213], [], []],\n",
       " [[6], [7], [2, 3], [2, 3], [11], [12], ..., [259], [259], [259], [], []],\n",
       " [[0], [1], [2, 3], [2, 3], [0], [1], [4], ..., [57], [57], [58], [58], [], []],\n",
       " [[6], [7], [2, 3], [2, 3], [0], [1], ..., [286], [286], [289], [289], [], []],\n",
       " [[6], [7], [2, 3], [2, 3], [11], [12], ..., [19], [19], [27], [27], [], []],\n",
       " [[6], [7], [2, 3], [2, 3], [11], [12], ..., [277], [278], [278], [], []],\n",
       " [[6], [7], [2, 3], [2, 3], [0], [1], ..., [405], [408], [418], [418], [], []],\n",
       " [[6], [7], [2, 3], [2, 3], [11], [12], ..., [150], [151], [151], [], []],\n",
       " [[6], [7], [2, 3], [2, 3], [0], [1], ..., [233], [233], [234], [234], [], []],\n",
       " ...,\n",
       " [[6], [7], [2, 3], [2, 3], [11], [12], ..., [259], [260], [260], [], []],\n",
       " [[6], [7], [2, 3], [2, 3], [11], [12], ..., [282], [283], [283], [], []],\n",
       " [[6], [7], [2, 3], [2, 3], [0], [1], ..., [261], [261], [276], [276], [], []],\n",
       " [[0], [1], [2, 3], [2, 3], [0], [1], ..., [299], [302], [302], [303], [], []],\n",
       " [[6], [7], [2, 3], [2, 3], [0], [1], ..., [114], [120], [123], [123], [], []],\n",
       " [[6], [7], [2, 3], [2, 3], [0], [1], [4], ..., [13], [14], [14], [14], [], []],\n",
       " [[6], [7], [2, 3], [2, 3], [0], [1], ..., [158], [158], [163], [163], [], []],\n",
       " [[0], [1], [2, 3], [2, 3], [0], [1], [4], ..., [86], [86], [89], [89], [], []],\n",
       " [[6], [7], [2, 3], [2, 3], [0], [1], ..., [127], [130], [130], [131], [131]]]\n",
       "--------------------------------------------------------------------------------\n",
       "type: 100 * var * var * int64[parameters={&quot;__doc__&quot;: &quot;index[Particle#0_]&quot;}]</pre>"
      ],
      "text/plain": [
       "<Array [[[], [], [0], ..., [276], [], []], ...] type='100 * var * var * int...'>"
      ]
     },
     "execution_count": 20,
     "metadata": {},
     "output_type": "execute_result"
    }
   ],
   "source": [
    "events.Particle.get_parents_index"
   ]
  },
  {
   "cell_type": "code",
   "execution_count": 21,
   "id": "99ca216e-24a3-40a1-bff8-2f5d0fe988d4",
   "metadata": {
    "scrolled": true
   },
   "outputs": [
    {
     "data": {
      "text/html": [
       "<pre>[[[], [], [{PDG: 11, charge: -1, colorFlow: {...}, ...}], ..., [{...}], [], []],\n",
       " [[{PDG: 11, charge: -1, colorFlow: {a: 0, ...}, daughters: {...}, ...}], ...],\n",
       " [[{PDG: 11, charge: -1, colorFlow: {a: 0, ...}, daughters: {...}, ...}], ...],\n",
       " [[{PDG: 11, charge: -1, colorFlow: {a: 0, ...}, daughters: {...}, ...}], ...],\n",
       " [[{PDG: 11, charge: -1, colorFlow: {a: 0, ...}, daughters: {...}, ...}], ...],\n",
       " [[{PDG: 11, charge: -1, colorFlow: {a: 0, ...}, daughters: {...}, ...}], ...],\n",
       " [[{PDG: 11, charge: -1, colorFlow: {a: 0, ...}, daughters: {...}, ...}], ...],\n",
       " [[{PDG: 11, charge: -1, colorFlow: {a: 0, ...}, daughters: {...}, ...}], ...],\n",
       " [[{PDG: 11, charge: -1, colorFlow: {a: 0, ...}, daughters: {...}, ...}], ...],\n",
       " [[{PDG: 11, charge: -1, colorFlow: {a: 0, ...}, daughters: {...}, ...}], ...],\n",
       " ...,\n",
       " [[{PDG: 11, charge: -1, colorFlow: {a: 0, ...}, daughters: {...}, ...}], ...],\n",
       " [[{PDG: 11, charge: -1, colorFlow: {a: 0, ...}, daughters: {...}, ...}], ...],\n",
       " [[{PDG: 11, charge: -1, colorFlow: {a: 0, ...}, daughters: {...}, ...}], ...],\n",
       " [[{PDG: 11, charge: -1, colorFlow: {a: 0, ...}, daughters: {...}, ...}], ...],\n",
       " [[{PDG: 11, charge: -1, colorFlow: {a: 0, ...}, daughters: {...}, ...}], ...],\n",
       " [[{PDG: 11, charge: -1, colorFlow: {a: 0, ...}, daughters: {...}, ...}], ...],\n",
       " [[{PDG: 11, charge: -1, colorFlow: {a: 0, ...}, daughters: {...}, ...}], ...],\n",
       " [[{PDG: 11, charge: -1, colorFlow: {a: 0, ...}, daughters: {...}, ...}], ...],\n",
       " [[{PDG: 11, charge: -1, colorFlow: {a: 0, ...}, daughters: {...}, ...}], ...]]\n",
       "---------------------------------------------------------------------------------\n",
       "type: 100 * var * var * MCTruthParticle[\n",
       "    PDG: int32[parameters={&quot;__doc__&quot;: &quot;PDG[Particle_]&quot;}],\n",
       "    charge: float32[parameters={&quot;__doc__&quot;: &quot;charge[Particle_]&quot;}],\n",
       "    colorFlow: {\n",
       "        a: int32[parameters={&quot;__doc__&quot;: &quot;a[Particle_]&quot;}],\n",
       "        b: int32[parameters={&quot;__doc__&quot;: &quot;b[Particle_]&quot;}]\n",
       "    },\n",
       "    daughters: {\n",
       "        begin: uint32[parameters={&quot;__doc__&quot;: &quot;daughters_begin[Particle_]&quot;}],\n",
       "        end: uint32[parameters={&quot;__doc__&quot;: &quot;daughters_end[Particle_]&quot;}]\n",
       "    },\n",
       "    endpoint: ThreeVector[\n",
       "        x: float64[parameters={&quot;__doc__&quot;: &quot;x[Particle_]&quot;}],\n",
       "        y: float64[parameters={&quot;__doc__&quot;: &quot;y[Particle_]&quot;}],\n",
       "        z: float64[parameters={&quot;__doc__&quot;: &quot;z[Particle_]&quot;}]\n",
       "    ],\n",
       "    generatorStatus: int32[parameters={&quot;__doc__&quot;: &quot;generatorStatus[Particle_]&quot;}],\n",
       "    mass: float64[parameters={&quot;__doc__&quot;: &quot;mass[Particle_]&quot;}],\n",
       "    momentumAtEndpoint: ThreeVector[\n",
       "        x: float32[parameters={&quot;__doc__&quot;: &quot;x[Particle_]&quot;}],\n",
       "        y: float32[parameters={&quot;__doc__&quot;: &quot;y[Particle_]&quot;}],\n",
       "        z: float32[parameters={&quot;__doc__&quot;: &quot;z[Particle_]&quot;}]\n",
       "    ],\n",
       "    parents: {\n",
       "        begin: uint32[parameters={&quot;__doc__&quot;: &quot;parents_begin[Particle_]&quot;}],\n",
       "        end: uint32[parameters={&quot;__doc__&quot;: &quot;parents_end[Particle_]&quot;}]\n",
       "    },\n",
       "    px: float32[parameters={&quot;__doc__&quot;: &quot;x[Particle_]&quot;}],\n",
       "    py: float32[parameters={&quot;__doc__&quot;: &quot;y[Particle_]&quot;}],\n",
       "    pz: float32[parameters={&quot;__doc__&quot;: &quot;z[Particle_]&quot;}],\n",
       "    simulatorStatus: int32[parameters={&quot;__doc__&quot;: &quot;simulatorStatus[Particle_]&quot;}],\n",
       "    spin: ThreeVector[\n",
       "        x: float32[parameters={&quot;__doc__&quot;: &quot;x[Particle_]&quot;}],\n",
       "        y: float32[parameters={&quot;__doc__&quot;: &quot;y[Particle_]&quot;}],\n",
       "        z: float32[parameters={&quot;__doc__&quot;: &quot;z[Particle_]&quot;}]\n",
       "    ],\n",
       "    time: float32[parameters={&quot;__doc__&quot;: &quot;time[Particle_]&quot;}],\n",
       "    vertex: ThreeVector[\n",
       "        x: float64[parameters={&quot;__doc__&quot;: &quot;x[Particle_]&quot;}],\n",
       "        y: float64[parameters={&quot;__doc__&quot;: &quot;y[Particle_]&quot;}],\n",
       "        z: float64[parameters={&quot;__doc__&quot;: &quot;z[Particle_]&quot;}]\n",
       "    ], \n",
       "parameters={&quot;collection_name&quot;: &quot;Particle&quot;}]</pre>"
      ],
      "text/plain": [
       "<MCTruthParticleArray [[[], [], [{...}], ..., [], []], ...] type='100 * var...'>"
      ]
     },
     "execution_count": 21,
     "metadata": {},
     "output_type": "execute_result"
    }
   ],
   "source": [
    "events.Particle.get_parents"
   ]
  },
  {
   "cell_type": "markdown",
   "id": "35665b59-8878-4152-84e7-7183078bbeb6",
   "metadata": {},
   "source": [
    "# Definition of the functions"
   ]
  },
  {
   "cell_type": "markdown",
   "id": "bcb5c360-2432-4b98-b447-e7408c9a1739",
   "metadata": {},
   "source": [
    "```python\n",
    "def map_index_to_array(array, index, axis=1):\n",
    "    '''\n",
    "    DESCRIPTION: Creates a slice of input array according to the input index.\n",
    "    INPUTS: array (Singly nested)\n",
    "            index (Singly or Doubly nested)\n",
    "            axis (By default 1, use axis = 2 if index is doubly nested )\n",
    "    EXAMPLE:\n",
    "            a = awkward.Array([\n",
    "                [44,33,23,22],\n",
    "                [932,24,456,78],\n",
    "                [22,345,78,90,98,24]\n",
    "            ])\n",
    "\n",
    "            a_index = awkward.Array([\n",
    "                [0,1,2],\n",
    "                [0,1],\n",
    "                []\n",
    "            ])\n",
    "\n",
    "            a2_index = awkward.Array([\n",
    "                [[0],[0,1],[2]],\n",
    "                [[0,1]],\n",
    "                []\n",
    "            ])\n",
    "            >> map_index_to_array(a, a_index)\n",
    "                [[44, 33, 23],\n",
    "                 [932, 24],\n",
    "                 []]\n",
    "                ---------------------\n",
    "                type: 3 * var * int64\n",
    "            >> map_index_to_array(a, a2_index, axis=2)\n",
    "                [[[44], [44, 33], [23]],\n",
    "                 [[932, 24]],\n",
    "                 []]\n",
    "                ---------------------------\n",
    "                type: 3 * var * var * int64\n",
    "\n",
    "    '''\n",
    "    if axis==1:\n",
    "        return array[index]\n",
    "    elif axis==2:\n",
    "        axis2_counts_array = awkward.num(index, axis=axis)\n",
    "        flat_axis2_counts_array = awkward.flatten(axis2_counts_array, axis=1)\n",
    "        flat_index = awkward.flatten(index, axis=axis)\n",
    "        trimmed_flat_array = array[flat_index]\n",
    "        trimmed_array = awkward.unflatten(trimmed_flat_array, flat_axis2_counts_array, axis=1)\n",
    "        return trimmed_array\n",
    "    else:\n",
    "        raise AttributeError('Only axis = 1 or axis = 2 supported at the moment.')\n",
    "\n",
    "@awkward.mixin_class(behavior)\n",
    "class MCTruthParticle(MomentumCandidate, base.NanoCollection):\n",
    "    \"\"\"Generated Monte Carlo particles.\"\"\"\n",
    "\n",
    "\n",
    "    @numba.njit\n",
    "    def index_range_numba_wrap(self, begin_end, builder):\n",
    "        for ev in begin_end:\n",
    "            builder.begin_list()\n",
    "            for j in ev:\n",
    "                builder.begin_list()\n",
    "                for k in range(j[0],j[1]):\n",
    "                    builder.integer(k)\n",
    "                builder.end_list()\n",
    "            builder.end_list()\n",
    "        return builder\n",
    "\n",
    "    def index_range(self, begin, end):\n",
    "        begin_end = awkward.concatenate((begin[:,:,numpy.newaxis],end[:,:,numpy.newaxis]),axis=2)\n",
    "        if awkward.backend(begin) == \"typetracer\" or awkward.backend(end) == \"typetracer\":\n",
    "            # here we fake the output of numba wrapper function since\n",
    "            # operating on length-zero data returns the wrong layout!\n",
    "            awkward.typetracer.length_zero_if_typetracer(begin_end) # force touching of the necessary data\n",
    "            return awkward.Array(awkward.Array([]).layout.to_typetracer(forget_length=True))\n",
    "        return self.index_range_numba_wrap(begin_end, awkward.ArrayBuilder()).snapshot()\n",
    "\n",
    "    #Daughters\n",
    "    @dask_property\n",
    "    def get_daughters_index(self):\n",
    "        ranges = self.index_range(self.daughters.begin, self.daughters.end)\n",
    "        return awkward.values_astype(map_index_to_array(self._events().Particleidx1.index, ranges, axis=2), \"int64\")\n",
    "\n",
    "    @get_daughters_index.dask\n",
    "    def get_daughters_index(self, dask_array):\n",
    "        ranges = dask_awkward.map_partitions(self.index_range, dask_array.daughters.begin, dask_array.daughters.end)\n",
    "        return awkward.values_astype(map_index_to_array(dask_array._events().Particleidx1.index, ranges, axis=2), \"int64\")\n",
    "\n",
    "    @dask_property\n",
    "    def get_daughters(self):\n",
    "        return map_index_to_array(self, self.get_daughters_index, axis=2)\n",
    "\n",
    "    @get_daughters.dask\n",
    "    def get_daughters(self, dask_array):\n",
    "        return map_index_to_array(dask_array, dask_array.get_daughters_index, axis=2)\n",
    "\n",
    "    #Parents\n",
    "    @dask_property\n",
    "    def get_parents_index(self):\n",
    "        ranges = self.index_range(self.parents.begin, self.parents.end)\n",
    "        return awkward.values_astype(map_index_to_array(self._events().Particleidx0.index, ranges, axis=2), \"int64\")\n",
    "\n",
    "    @get_parents_index.dask\n",
    "    def get_parents_index(self, dask_array):\n",
    "        ranges = dask_awkward.map_partitions(self.index_range, dask_array.parents.begin, dask_array.parents.end)\n",
    "        return awkward.values_astype(map_index_to_array(dask_array._events().Particleidx0.index, ranges, axis=2), \"int64\")\n",
    "\n",
    "    @dask_property\n",
    "    def get_parents(self):\n",
    "        return map_index_to_array(self, self.get_parents_index, axis=2)\n",
    "\n",
    "    @get_parents.dask\n",
    "    def get_parents(self, dask_array):\n",
    "        return map_index_to_array(dask_array, dask_array.get_parents_index, axis=2)\n",
    "```"
   ]
  },
  {
   "cell_type": "markdown",
   "id": "cfb944db-0cf7-4b35-971b-a92ce0bdb5f8",
   "metadata": {},
   "source": [
    "#### Function : index_range"
   ]
  },
  {
   "cell_type": "markdown",
   "id": "5e99f9fe-2c69-40eb-bd9e-c6bbd34739cb",
   "metadata": {},
   "source": [
    "- `index_range` creates the ranges of indices for each begin and end index "
   ]
  },
  {
   "cell_type": "code",
   "execution_count": 22,
   "id": "15991d5e-47e8-45d7-ba91-4ba7e8f29220",
   "metadata": {},
   "outputs": [
    {
     "data": {
      "text/html": [
       "<pre>[[0, 1, 2, 4, 6, 8, 10, 10, 10, ..., 576, 576, 576, 576, 576, 576, 576, 576],\n",
       " [0, 1, 2, 4, 6, 7, 8, 10, 11, ..., 423, 423, 423, 423, 423, 423, 423, 423],\n",
       " [0, 1, 2, 4, 6, 7, 8, 9, 11, ..., 829, 831, 833, 833, 836, 836, 836, 836, 836],\n",
       " [0, 1, 2, 4, 6, 8, 10, 10, 10, 12, ..., 94, 94, 94, 94, 96, 98, 98, 98, 98],\n",
       " [0, 1, 2, 4, 6, 7, 8, 10, 11, ..., 973, 973, 973, 973, 973, 973, 973, 973],\n",
       " [0, 1, 2, 4, 6, 7, 8, 9, 11, 12, ..., 27, 27, 27, 27, 27, 27, 27, 29, 29, 29],\n",
       " [0, 1, 2, 4, 6, 7, 8, 9, 11, ..., 596, 596, 598, 600, 600, 600, 600, 600, 600],\n",
       " [0, 1, 2, 4, 6, 7, 8, 10, ..., 1338, 1338, 1338, 1338, 1338, 1338, 1340, 1340],\n",
       " [0, 1, 2, 4, 6, 7, 8, 9, 11, ..., 322, 322, 322, 322, 322, 322, 322, 322, 322],\n",
       " [0, 1, 2, 4, 6, 7, 8, 10, 11, ..., 469, 469, 469, 469, 469, 469, 469, 469],\n",
       " ...,\n",
       " [0, 1, 2, 4, 6, 7, 8, 9, 11, ..., 697, 697, 699, 701, 701, 701, 701, 701, 701],\n",
       " [0, 1, 2, 4, 6, 7, 8, 10, 11, ..., 768, 768, 768, 768, 768, 768, 768, 768],\n",
       " [0, 1, 2, 4, 6, 7, 8, 10, 11, ..., 482, 482, 484, 484, 484, 484, 484, 484],\n",
       " [0, 1, 2, 4, 6, 8, 10, 10, 10, ..., 630, 630, 630, 630, 630, 630, 630, 630],\n",
       " [0, 1, 2, 4, 6, 7, 8, 9, 11, ..., 210, 210, 210, 211, 211, 211, 213, 213, 213],\n",
       " [0, 1, 2, 4, 6, 7, 8, 10, 11, 13, ..., 19, 22, 22, 22, 22, 22, 22, 22, 22, 22],\n",
       " [0, 1, 2, 4, 6, 7, 8, 10, 11, ..., 439, 439, 441, 441, 441, 441, 441, 441],\n",
       " [0, 1, 2, 4, 6, 8, 10, 10, 10, ..., 146, 146, 146, 146, 146, 146, 146, 146],\n",
       " [0, 1, 2, 4, 6, 7, 8, 10, 11, ..., 240, 240, 240, 240, 240, 240, 240, 240]]\n",
       "--------------------------------------------------------------------------------\n",
       "type: 100 * var * uint32[parameters={&quot;__doc__&quot;: &quot;daughters_begin[Particle_]&quot;}]</pre>"
      ],
      "text/plain": [
       "<Array [[0, 1, 2, 4, ..., 576, 576, 576], ...] type='100 * var * uint32[par...'>"
      ]
     },
     "execution_count": 22,
     "metadata": {},
     "output_type": "execute_result"
    }
   ],
   "source": [
    "events.Particle.daughters.begin"
   ]
  },
  {
   "cell_type": "code",
   "execution_count": 23,
   "id": "839ffa38-336f-40ee-8910-2e392505bf70",
   "metadata": {},
   "outputs": [
    {
     "data": {
      "text/html": [
       "<pre>[[1, 2, 4, 6, 8, 10, 10, 10, 11, ..., 576, 576, 576, 576, 576, 576, 576, 576],\n",
       " [1, 2, 4, 6, 7, 8, 10, 11, 12, ..., 423, 423, 423, 423, 423, 423, 423, 423],\n",
       " [1, 2, 4, 6, 7, 8, 9, 11, 12, ..., 833, 833, 836, 836, 836, 836, 836, 836],\n",
       " [1, 2, 4, 6, 8, 10, 10, 10, 12, 14, ..., 94, 94, 94, 96, 98, 98, 98, 98, 98],\n",
       " [1, 2, 4, 6, 7, 8, 10, 11, 13, ..., 973, 973, 973, 973, 973, 973, 973, 973],\n",
       " [1, 2, 4, 6, 7, 8, 9, 11, 12, 13, ..., 27, 27, 27, 27, 27, 27, 29, 29, 29, 29],\n",
       " [1, 2, 4, 6, 7, 8, 9, 11, 12, ..., 598, 600, 600, 600, 600, 600, 600, 600],\n",
       " [1, 2, 4, 6, 7, 8, 10, 11, ..., 1338, 1338, 1338, 1338, 1340, 1340, 1340],\n",
       " [1, 2, 4, 6, 7, 8, 9, 11, 12, ..., 322, 322, 322, 322, 322, 322, 322, 322],\n",
       " [1, 2, 4, 6, 7, 8, 10, 11, 13, ..., 469, 469, 469, 469, 469, 469, 469, 469],\n",
       " ...,\n",
       " [1, 2, 4, 6, 7, 8, 9, 11, 12, ..., 699, 701, 701, 701, 701, 701, 701, 701],\n",
       " [1, 2, 4, 6, 7, 8, 10, 11, 12, ..., 768, 768, 768, 768, 768, 768, 768, 768],\n",
       " [1, 2, 4, 6, 7, 8, 10, 11, 13, ..., 482, 484, 484, 484, 484, 484, 484, 484],\n",
       " [1, 2, 4, 6, 8, 10, 10, 10, 12, ..., 630, 630, 630, 630, 630, 630, 630, 630],\n",
       " [1, 2, 4, 6, 7, 8, 9, 11, 13, ..., 210, 211, 211, 211, 213, 213, 213, 213],\n",
       " [1, 2, 4, 6, 7, 8, 10, 11, 13, 15, ..., 22, 22, 22, 22, 22, 22, 22, 22, 22],\n",
       " [1, 2, 4, 6, 7, 8, 10, 11, 13, ..., 439, 441, 441, 441, 441, 441, 441, 441],\n",
       " [1, 2, 4, 6, 8, 10, 10, 10, 12, ..., 146, 146, 146, 146, 146, 146, 146, 146],\n",
       " [1, 2, 4, 6, 7, 8, 10, 11, 13, ..., 240, 240, 240, 240, 240, 240, 240, 240]]\n",
       "--------------------------------------------------------------------------------\n",
       "type: 100 * var * uint32[parameters={&quot;__doc__&quot;: &quot;daughters_end[Particle_]&quot;}]</pre>"
      ],
      "text/plain": [
       "<Array [[1, 2, 4, 6, ..., 576, 576, 576], ...] type='100 * var * uint32[par...'>"
      ]
     },
     "execution_count": 23,
     "metadata": {},
     "output_type": "execute_result"
    }
   ],
   "source": [
    "events.Particle.daughters.end"
   ]
  },
  {
   "cell_type": "code",
   "execution_count": 24,
   "id": "3376b345-e8ba-4bc5-90f4-9956e479a7a7",
   "metadata": {},
   "outputs": [
    {
     "data": {
      "text/html": [
       "<pre>[[[0], [1], [2, 3], [4, 5], [6, 7], [8, 9], [], ..., [], [], [], [], [], []],\n",
       " [[0], [1], [2, 3], [4, 5], [6], [7], [8, 9], ..., [], [], [], [], [], [], []],\n",
       " [[0], [1], [2, 3], [4, 5], [6], [7], ..., [833, ..., 835], [], [], [], [], []],\n",
       " [[0], [1], [2, 3], [4, 5], [6, 7], [8, 9], ..., [96, 97], [], [], [], []],\n",
       " [[0], [1], [2, 3], [4, 5], [6], [7], [8, 9], ..., [], [], [], [], [], [], []],\n",
       " [[0], [1], [2, 3], [4, 5], [6], [7], [8], ..., [], [], [27, 28], [], [], []],\n",
       " [[0], [1], [2, 3], [4, 5], [6], [7], [8], ..., [...], [], [], [], [], [], []],\n",
       " [[0], [1], [2, 3], [4, 5], [6], [7], ..., [], [], [], [1338, 1339], [], []],\n",
       " [[0], [1], [2, 3], [4, 5], [6], [7], [8], ..., [], [], [], [], [], [], []],\n",
       " [[0], [1], [2, 3], [4, 5], [6], [7], [8, 9], ..., [], [], [], [], [], [], []],\n",
       " ...,\n",
       " [[0], [1], [2, 3], [4, 5], [6], [7], [8], ..., [...], [], [], [], [], [], []],\n",
       " [[0], [1], [2, 3], [4, 5], [6], [7], [8, 9], ..., [], [], [], [], [], [], []],\n",
       " [[0], [1], [2, 3], [4, 5], [6], [7], [8, 9], ..., [], [], [], [], [], []],\n",
       " [[0], [1], [2, 3], [4, 5], [6, 7], [8, 9], [], ..., [], [], [], [], [], []],\n",
       " [[0], [1], [2, 3], [4, 5], [6], [7], [8], ..., [], [], [211, 212], [], [], []],\n",
       " [[0], [1], [2, 3], [4, 5], [6], [7], [8, 9], ..., [], [], [], [], [], [], []],\n",
       " [[0], [1], [2, 3], [4, 5], [6], [7], [8, 9], ..., [], [], [], [], [], []],\n",
       " [[0], [1], [2, 3], [4, 5], [6, 7], [8, 9], [], ..., [], [], [], [], [], []],\n",
       " [[0], [1], [2, 3], [4, 5], [6], [7], [8, 9], ..., [], [], [], [], [], [], []]]\n",
       "--------------------------------------------------------------------------------\n",
       "type: 100 * var * var * int64</pre>"
      ],
      "text/plain": [
       "<Array [[[0], [1], [2, ...], ..., [], []], ...] type='100 * var * var * int64'>"
      ]
     },
     "execution_count": 24,
     "metadata": {},
     "output_type": "execute_result"
    }
   ],
   "source": [
    "ranged = events.Particle.index_range(events.Particle.daughters.begin, events.Particle.daughters.end )\n",
    "ranged"
   ]
  },
  {
   "cell_type": "markdown",
   "id": "e9b96abf-c623-46e9-89d3-e1ffe6c85cda",
   "metadata": {},
   "source": [
    "#### Once the ranges are created, one can map them to the desired array to get the required slice of the same array"
   ]
  },
  {
   "cell_type": "markdown",
   "id": "102a1cf3-a440-4ba3-b240-b15b60e30e67",
   "metadata": {},
   "source": [
    "#### `ranged` array has ranges for the elements in `events.Particleidx1`, so we have to map it to events.Particleidx1 to get the `daughter_index`"
   ]
  },
  {
   "cell_type": "code",
   "execution_count": 25,
   "id": "9080176c-68dd-46db-bec1-22d3facafd89",
   "metadata": {},
   "outputs": [],
   "source": [
    "from coffea.nanoevents.methods.fcc import map_index_to_array"
   ]
  },
  {
   "cell_type": "code",
   "execution_count": 27,
   "id": "62d21f9d-527b-45ef-8e82-e8c02f14d792",
   "metadata": {},
   "outputs": [
    {
     "data": {
      "text/html": [
       "<pre>[[[2], [3], [4, 5], [4, 5], [8, 9], [37, 38], [], ..., [], [], [], [], [], []],\n",
       " [[11], [12], [4, 5], [4, 5], [8], [9], [10, ...], ..., [], [], [], [], [], []],\n",
       " [[11], [12], [4, 5], [4, 5], [8], [9], ..., [262, ...], [], [], [], [], []],\n",
       " [[2], [3], [4, 5], [4, 5], [8, 9], [10, ...], ..., [61, 62], [], [], [], []],\n",
       " [[6], [7], [4, 5], [4, 5], [8], [9], [10, ...], ..., [], [], [], [], [], []],\n",
       " [[11], [12], [4, 5], [4, 5], [8], [9], [2], ..., [], [], [29, 30], [], [], []],\n",
       " [[17], [18], [4, 5], [4, 5], [8], [9], [2], ..., [], [], [], [], [], []],\n",
       " [[6], [7], [4, 5], [4, 5], [8], [9], ..., [], [], [], [419, 420], [], []],\n",
       " [[11], [12], [4, 5], [4, 5], [8], [9], [2], ..., [], [], [], [], [], [], []],\n",
       " [[6], [7], [4, 5], [4, 5], [8], [9], [10, ...], ..., [], [], [], [], [], []],\n",
       " ...,\n",
       " [[11], [12], [4, 5], [4, 5], [8], [9], [2], ..., [], [], [], [], [], []],\n",
       " [[11], [12], [4, 5], [4, 5], [8], [9], [10, ...], ..., [], [], [], [], [], []],\n",
       " [[6], [7], [4, 5], [4, 5], [8], [9], [10, ...], ..., [], [], [], [], [], []],\n",
       " [[2], [3], [4, 5], [4, 5], [8, 9], [76, 77], [], ..., [], [], [], [], [], []],\n",
       " [[6], [7], [4, 5], [4, 5], [8], [9], [2], ..., [], [], [125, 126], [], [], []],\n",
       " [[6], [7], [4, 5], [4, 5], [8], [9], [10, ...], ..., [], [], [], [], [], []],\n",
       " [[6], [7], [4, 5], [4, 5], [8], [9], [10, ...], ..., [], [], [], [], [], []],\n",
       " [[2], [3], [4, 5], [4, 5], [8, 9], [10, 11], [], ..., [], [], [], [], [], []],\n",
       " [[6], [7], [4, 5], [4, 5], [8], [9], [10, ...], ..., [], [], [], [], [], []]]\n",
       "--------------------------------------------------------------------------------\n",
       "type: 100 * var * var * int32[parameters={&quot;__doc__&quot;: &quot;index[Particle#1_]&quot;}]</pre>"
      ],
      "text/plain": [
       "<Array [[[2], [3], [4, ...], ..., [], []], ...] type='100 * var * var * int...'>"
      ]
     },
     "execution_count": 27,
     "metadata": {},
     "output_type": "execute_result"
    }
   ],
   "source": [
    "daughter_index = map_index_to_array(events.Particleidx1.index, ranged, axis=2)\n",
    "daughter_index"
   ]
  },
  {
   "cell_type": "markdown",
   "id": "6f9a1158-3468-473a-b027-ed040b677fe1",
   "metadata": {},
   "source": [
    "#### This `daughter_index` can be in turn mapped to the `events.Particle` to get the actual daughter MC particles"
   ]
  },
  {
   "cell_type": "code",
   "execution_count": 28,
   "id": "6d34b53a-50c0-4610-be6f-f3a3bd2564b5",
   "metadata": {},
   "outputs": [
    {
     "data": {
      "text/html": [
       "<pre>[[[{PDG: 11, charge: -1, colorFlow: {a: 0, ...}, daughters: {...}, ...}], ...],\n",
       " [[{PDG: 11, charge: -1, colorFlow: {a: 0, ...}, daughters: {...}, ...}], ...],\n",
       " [[{PDG: 11, charge: -1, colorFlow: {a: 0, ...}, daughters: {...}, ...}], ...],\n",
       " [[{PDG: 11, charge: -1, colorFlow: {a: 0, ...}, daughters: {...}, ...}], ...],\n",
       " [[{PDG: 11, charge: -1, colorFlow: {a: 0, ...}, daughters: {...}, ...}], ...],\n",
       " [[{PDG: 11, charge: -1, colorFlow: {a: 0, ...}, daughters: {...}, ...}], ...],\n",
       " [[{PDG: 11, charge: -1, colorFlow: {a: 0, ...}, daughters: {...}, ...}], ...],\n",
       " [[{PDG: 11, charge: -1, colorFlow: {a: 0, ...}, daughters: {...}, ...}], ...],\n",
       " [[{PDG: 11, charge: -1, colorFlow: {a: 0, ...}, daughters: {...}, ...}], ...],\n",
       " [[{PDG: 11, charge: -1, colorFlow: {a: 0, ...}, daughters: {...}, ...}], ...],\n",
       " ...,\n",
       " [[{PDG: 11, charge: -1, colorFlow: {a: 0, ...}, daughters: {...}, ...}], ...],\n",
       " [[{PDG: 11, charge: -1, colorFlow: {a: 0, ...}, daughters: {...}, ...}], ...],\n",
       " [[{PDG: 11, charge: -1, colorFlow: {a: 0, ...}, daughters: {...}, ...}], ...],\n",
       " [[{PDG: 11, charge: -1, colorFlow: {a: 0, ...}, daughters: {...}, ...}], ...],\n",
       " [[{PDG: 11, charge: -1, colorFlow: {a: 0, ...}, daughters: {...}, ...}], ...],\n",
       " [[{PDG: 11, charge: -1, colorFlow: {a: 0, ...}, daughters: {...}, ...}], ...],\n",
       " [[{PDG: 11, charge: -1, colorFlow: {a: 0, ...}, daughters: {...}, ...}], ...],\n",
       " [[{PDG: 11, charge: -1, colorFlow: {a: 0, ...}, daughters: {...}, ...}], ...],\n",
       " [[{PDG: 11, charge: -1, colorFlow: {a: 0, ...}, daughters: {...}, ...}], ...]]\n",
       "---------------------------------------------------------------------------------\n",
       "type: 100 * var * var * MCTruthParticle[\n",
       "    PDG: int32[parameters={&quot;__doc__&quot;: &quot;PDG[Particle_]&quot;}],\n",
       "    charge: float32[parameters={&quot;__doc__&quot;: &quot;charge[Particle_]&quot;}],\n",
       "    colorFlow: {\n",
       "        a: int32[parameters={&quot;__doc__&quot;: &quot;a[Particle_]&quot;}],\n",
       "        b: int32[parameters={&quot;__doc__&quot;: &quot;b[Particle_]&quot;}]\n",
       "    },\n",
       "    daughters: {\n",
       "        begin: uint32[parameters={&quot;__doc__&quot;: &quot;daughters_begin[Particle_]&quot;}],\n",
       "        end: uint32[parameters={&quot;__doc__&quot;: &quot;daughters_end[Particle_]&quot;}]\n",
       "    },\n",
       "    endpoint: ThreeVector[\n",
       "        x: float64[parameters={&quot;__doc__&quot;: &quot;x[Particle_]&quot;}],\n",
       "        y: float64[parameters={&quot;__doc__&quot;: &quot;y[Particle_]&quot;}],\n",
       "        z: float64[parameters={&quot;__doc__&quot;: &quot;z[Particle_]&quot;}]\n",
       "    ],\n",
       "    generatorStatus: int32[parameters={&quot;__doc__&quot;: &quot;generatorStatus[Particle_]&quot;}],\n",
       "    mass: float64[parameters={&quot;__doc__&quot;: &quot;mass[Particle_]&quot;}],\n",
       "    momentumAtEndpoint: ThreeVector[\n",
       "        x: float32[parameters={&quot;__doc__&quot;: &quot;x[Particle_]&quot;}],\n",
       "        y: float32[parameters={&quot;__doc__&quot;: &quot;y[Particle_]&quot;}],\n",
       "        z: float32[parameters={&quot;__doc__&quot;: &quot;z[Particle_]&quot;}]\n",
       "    ],\n",
       "    parents: {\n",
       "        begin: uint32[parameters={&quot;__doc__&quot;: &quot;parents_begin[Particle_]&quot;}],\n",
       "        end: uint32[parameters={&quot;__doc__&quot;: &quot;parents_end[Particle_]&quot;}]\n",
       "    },\n",
       "    px: float32[parameters={&quot;__doc__&quot;: &quot;x[Particle_]&quot;}],\n",
       "    py: float32[parameters={&quot;__doc__&quot;: &quot;y[Particle_]&quot;}],\n",
       "    pz: float32[parameters={&quot;__doc__&quot;: &quot;z[Particle_]&quot;}],\n",
       "    simulatorStatus: int32[parameters={&quot;__doc__&quot;: &quot;simulatorStatus[Particle_]&quot;}],\n",
       "    spin: ThreeVector[\n",
       "        x: float32[parameters={&quot;__doc__&quot;: &quot;x[Particle_]&quot;}],\n",
       "        y: float32[parameters={&quot;__doc__&quot;: &quot;y[Particle_]&quot;}],\n",
       "        z: float32[parameters={&quot;__doc__&quot;: &quot;z[Particle_]&quot;}]\n",
       "    ],\n",
       "    time: float32[parameters={&quot;__doc__&quot;: &quot;time[Particle_]&quot;}],\n",
       "    vertex: ThreeVector[\n",
       "        x: float64[parameters={&quot;__doc__&quot;: &quot;x[Particle_]&quot;}],\n",
       "        y: float64[parameters={&quot;__doc__&quot;: &quot;y[Particle_]&quot;}],\n",
       "        z: float64[parameters={&quot;__doc__&quot;: &quot;z[Particle_]&quot;}]\n",
       "    ], \n",
       "parameters={&quot;collection_name&quot;: &quot;Particle&quot;}]</pre>"
      ],
      "text/plain": [
       "<MCTruthParticleArray [[[{PDG: 11, ...}], ..., []], ...] type='100 * var * ...'>"
      ]
     },
     "execution_count": 28,
     "metadata": {},
     "output_type": "execute_result"
    }
   ],
   "source": [
    "daughters = map_index_to_array(events.Particle, daughter_index, axis=2)\n",
    "daughters"
   ]
  },
  {
   "cell_type": "code",
   "execution_count": 29,
   "id": "de22fad7-99b6-4fe4-bb3f-e3980bf138cd",
   "metadata": {},
   "outputs": [
    {
     "data": {
      "text/html": [
       "<pre>[[[11], [-11], [25, 23], [25, 23], [5, -5], [4, ...], ..., [], [], [], [], []],\n",
       " [[11], [-11], [25, 23], [25, 23], [25], [23], ..., [], [], [], [], [], []],\n",
       " [[11], [-11], [25, 23], [25, 23], [25], [23], ..., [...], [], [], [], [], []],\n",
       " [[11], [-11], [25, 23], [25, 23], [24, -24], ..., [22, ...], [], [], [], []],\n",
       " [[11], [-11], [25, 23], [25, 23], [25], [23], ..., [], [], [], [], [], []],\n",
       " [[11], [-11], [25, 23], [25, 23], [25], [23], ..., [], [22, 22], [], [], []],\n",
       " [[11], [-11], [25, 23], [25, 23], [25], [23], ..., [], [], [], [], [], []],\n",
       " [[11], [-11], [25, 23], [25, 23], [25], ..., [], [], [211, -211], [], []],\n",
       " [[11], [-11], [25, 23], [25, 23], [25], [23], ..., [], [], [], [], [], []],\n",
       " [[11], [-11], [25, 23], [25, 23], [25], [23], ..., [], [], [], [], [], []],\n",
       " ...,\n",
       " [[11], [-11], [25, 23], [25, 23], [25], [23], ..., [], [], [], [], [], []],\n",
       " [[11], [-11], [25, 23], [25, 23], [25], [23], ..., [], [], [], [], [], []],\n",
       " [[11], [-11], [25, 23], [25, 23], [25], [23], ..., [], [], [], [], [], []],\n",
       " [[11], [-11], [25, 23], [25, 23], [21, 21], [5, ...], ..., [], [], [], [], []],\n",
       " [[11], [-11], [25, 23], [25, 23], [25], [23], ..., [], [22, 22], [], [], []],\n",
       " [[11], [-11], [25, 23], [25, 23], [25], [23], ..., [], [], [], [], [], []],\n",
       " [[11], [-11], [25, 23], [25, 23], [25], [23], ..., [], [], [], [], [], []],\n",
       " [[11], [-11], [25, 23], [25, 23], [23, 23], [...], ..., [], [], [], [], []],\n",
       " [[11], [-11], [25, 23], [25, 23], [25], [23], ..., [], [], [], [], [], []]]\n",
       "--------------------------------------------------------------------------------\n",
       "type: 100 * var * var * int32[parameters={&quot;__doc__&quot;: &quot;PDG[Particle_]&quot;}]</pre>"
      ],
      "text/plain": [
       "<Array [[[11], [-11], [...], ..., [], []], ...] type='100 * var * var * int...'>"
      ]
     },
     "execution_count": 29,
     "metadata": {},
     "output_type": "execute_result"
    }
   ],
   "source": [
    "daughters.PDG"
   ]
  },
  {
   "cell_type": "markdown",
   "id": "5bab292b-ea25-4cc1-b762-7f5cbde8bd02",
   "metadata": {},
   "source": [
    "#### One can perform similar operations to get parents too (use `events.Particleidx0` instead of `events.Particleidx1`)"
   ]
  },
  {
   "cell_type": "markdown",
   "id": "28128e0c-238f-4dac-a86b-fb9adef8c230",
   "metadata": {},
   "source": [
    "# Further Comments"
   ]
  },
  {
   "cell_type": "markdown",
   "id": "e45f8810-0304-4e2f-8dab-3ce41d3201e7",
   "metadata": {},
   "source": [
    "- This works really well and fast for `delayed=False` mode\n",
    "- Currently, this doesn't work for `delayed=True`, but I think that should be easily done with some efforts"
   ]
  }
 ],
 "metadata": {
  "kernelspec": {
   "display_name": "fcc-dev",
   "language": "python",
   "name": "fcc-dev"
  },
  "language_info": {
   "codemirror_mode": {
    "name": "ipython",
    "version": 3
   },
   "file_extension": ".py",
   "mimetype": "text/x-python",
   "name": "python",
   "nbconvert_exporter": "python",
   "pygments_lexer": "ipython3",
   "version": "3.12.4"
  }
 },
 "nbformat": 4,
 "nbformat_minor": 5
}
