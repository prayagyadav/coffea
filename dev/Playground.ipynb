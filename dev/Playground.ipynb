{
 "cells": [
  {
   "cell_type": "code",
   "execution_count": 1,
   "id": "9c16f947-e1d7-4e20-ae93-0b2082ec27e2",
   "metadata": {},
   "outputs": [
    {
     "name": "stdout",
     "output_type": "stream",
     "text": [
      "_______________________________________\n",
      "\tCurrent Configuration\n",
      "---------------------------------------\n",
      "Coffea Version:  0.1.dev3583+ge06c4b8\n",
      "Branch: \t master\n",
      "Modified by: \t Prayag Yadav\n",
      "_______________________________________\n"
     ]
    }
   ],
   "source": [
    "import coffea\n",
    "from git import Repo\n",
    "import uproot\n",
    "mod = \"Prayag Yadav\"\n",
    "local_repo = Repo(path='coffea')\n",
    "local_branch = local_repo.active_branch.name\n",
    "print(\"_______________________________________\")\n",
    "print(\"\\tCurrent Configuration\")\n",
    "print(\"---------------------------------------\")\n",
    "print(\"Coffea Version: \", coffea.__version__)\n",
    "print(\"Branch: \\t\", local_branch)\n",
    "print(\"Modified by: \\t\", mod)\n",
    "print(\"_______________________________________\")\n"
   ]
  },
  {
   "cell_type": "code",
   "execution_count": 2,
   "id": "7f59e9a5-3885-4d37-b9a7-a5e81baf670a",
   "metadata": {},
   "outputs": [
    {
     "name": "stderr",
     "output_type": "stream",
     "text": [
      "/home/prayag/coffeafcc/development/coffea/src/coffea/nanoevents/schemas/fcc.py:4: FutureWarning: In version 2025.1.0 (target date: 2024-12-31 11:59:59-06:00), this will be an error.\n",
      "To raise these warnings as errors (and get stack traces to find out where they're called), run\n",
      "    import warnings\n",
      "    warnings.filterwarnings(\"error\", module=\"coffea.*\")\n",
      "after the first `import coffea` or use `@pytest.mark.filterwarnings(\"error:::coffea.*\")` in pytest.\n",
      "Issue: coffea.nanoevents.methods.vector will be removed and replaced with scikit-hep vector. Nanoevents schemas internal to coffea will be migrated. Otherwise please consider using that package!.\n",
      "  from coffea.nanoevents.methods import vector\n"
     ]
    }
   ],
   "source": [
    "from coffea.nanoevents import NanoEventsFactory, FCC\n",
    "# test_file = '../../../coffea-fcc-analyses/data/p8_ee_ZH_ecm240/events_082532938.root'\n",
    "test_file = './test_Spring2021.root'\n",
    "file = uproot.open(test_file)\n",
    "\n",
    "events = NanoEventsFactory.from_root(\n",
    "    test_file+\":events\",\n",
    "    # entry_stop=100,\n",
    "    schemaclass= FCC.get_schema(version=\"latest\"),\n",
    "    delayed = False,\n",
    "    metadata=file[\"metadata\"].arrays()\n",
    ").events()\n",
    "\n",
    "file.close()"
   ]
  },
  {
   "cell_type": "code",
   "execution_count": 3,
   "id": "612804cb-48f0-46cf-ad8d-7a22a1830d6b",
   "metadata": {},
   "outputs": [
    {
     "data": {
      "text/html": [
       "<pre>[[[2], [3], [4, 5], [4, 5], [8, 9], [37, 38], [], ..., [], [], [], [], [], []],\n",
       " [[11], [12], [4, 5], [4, 5], [8], [9], [10, ...], ..., [], [], [], [], [], []],\n",
       " [[11], [12], [4, 5], [4, 5], [8], [9], ..., [262, ...], [], [], [], [], []],\n",
       " [[2], [3], [4, 5], [4, 5], [8, 9], [10, ...], ..., [61, 62], [], [], [], []],\n",
       " [[6], [7], [4, 5], [4, 5], [8], [9], [10, ...], ..., [], [], [], [], [], []],\n",
       " [[11], [12], [4, 5], [4, 5], [8], [9], [2], ..., [], [], [29, 30], [], [], []],\n",
       " [[17], [18], [4, 5], [4, 5], [8], [9], [2], ..., [], [], [], [], [], []],\n",
       " [[6], [7], [4, 5], [4, 5], [8], [9], ..., [], [], [], [419, 420], [], []],\n",
       " [[11], [12], [4, 5], [4, 5], [8], [9], [2], ..., [], [], [], [], [], [], []],\n",
       " [[6], [7], [4, 5], [4, 5], [8], [9], [10, ...], ..., [], [], [], [], [], []],\n",
       " ...,\n",
       " [[11], [12], [4, 5], [4, 5], [8], [9], [2], ..., [], [], [], [], [], []],\n",
       " [[11], [12], [4, 5], [4, 5], [8], [9], [10, ...], ..., [], [], [], [], [], []],\n",
       " [[6], [7], [4, 5], [4, 5], [8], [9], [10, ...], ..., [], [], [], [], [], []],\n",
       " [[2], [3], [4, 5], [4, 5], [8, 9], [76, 77], [], ..., [], [], [], [], [], []],\n",
       " [[6], [7], [4, 5], [4, 5], [8], [9], [2], ..., [], [], [125, 126], [], [], []],\n",
       " [[6], [7], [4, 5], [4, 5], [8], [9], [10, ...], ..., [], [], [], [], [], []],\n",
       " [[6], [7], [4, 5], [4, 5], [8], [9], [10, ...], ..., [], [], [], [], [], []],\n",
       " [[2], [3], [4, 5], [4, 5], [8, 9], [10, 11], [], ..., [], [], [], [], [], []],\n",
       " [[6], [7], [4, 5], [4, 5], [8], [9], [10, ...], ..., [], [], [], [], [], []]]\n",
       "--------------------------------------------------------------------------------\n",
       "type: 100 * var * var * int64</pre>"
      ],
      "text/plain": [
       "<Array [[[2], [3], [4, ...], ..., [], []], ...] type='100 * var * var * int64'>"
      ]
     },
     "execution_count": 3,
     "metadata": {},
     "output_type": "execute_result"
    }
   ],
   "source": [
    "events.Particle.get_daughters_index"
   ]
  },
  {
   "cell_type": "code",
   "execution_count": 4,
   "id": "0df65b2d-2db3-4e47-9a51-f080a38da8de",
   "metadata": {},
   "outputs": [
    {
     "data": {
      "text/html": [
       "<pre>[[[{PDG: 11, charge: -1, colorFlow: {a: 0, ...}, daughters: {...}, ...}], ...],\n",
       " [[{PDG: 11, charge: -1, colorFlow: {a: 0, ...}, daughters: {...}, ...}], ...],\n",
       " [[{PDG: 11, charge: -1, colorFlow: {a: 0, ...}, daughters: {...}, ...}], ...],\n",
       " [[{PDG: 11, charge: -1, colorFlow: {a: 0, ...}, daughters: {...}, ...}], ...],\n",
       " [[{PDG: 11, charge: -1, colorFlow: {a: 0, ...}, daughters: {...}, ...}], ...],\n",
       " [[{PDG: 11, charge: -1, colorFlow: {a: 0, ...}, daughters: {...}, ...}], ...],\n",
       " [[{PDG: 11, charge: -1, colorFlow: {a: 0, ...}, daughters: {...}, ...}], ...],\n",
       " [[{PDG: 11, charge: -1, colorFlow: {a: 0, ...}, daughters: {...}, ...}], ...],\n",
       " [[{PDG: 11, charge: -1, colorFlow: {a: 0, ...}, daughters: {...}, ...}], ...],\n",
       " [[{PDG: 11, charge: -1, colorFlow: {a: 0, ...}, daughters: {...}, ...}], ...],\n",
       " ...,\n",
       " [[{PDG: 11, charge: -1, colorFlow: {a: 0, ...}, daughters: {...}, ...}], ...],\n",
       " [[{PDG: 11, charge: -1, colorFlow: {a: 0, ...}, daughters: {...}, ...}], ...],\n",
       " [[{PDG: 11, charge: -1, colorFlow: {a: 0, ...}, daughters: {...}, ...}], ...],\n",
       " [[{PDG: 11, charge: -1, colorFlow: {a: 0, ...}, daughters: {...}, ...}], ...],\n",
       " [[{PDG: 11, charge: -1, colorFlow: {a: 0, ...}, daughters: {...}, ...}], ...],\n",
       " [[{PDG: 11, charge: -1, colorFlow: {a: 0, ...}, daughters: {...}, ...}], ...],\n",
       " [[{PDG: 11, charge: -1, colorFlow: {a: 0, ...}, daughters: {...}, ...}], ...],\n",
       " [[{PDG: 11, charge: -1, colorFlow: {a: 0, ...}, daughters: {...}, ...}], ...],\n",
       " [[{PDG: 11, charge: -1, colorFlow: {a: 0, ...}, daughters: {...}, ...}], ...]]\n",
       "---------------------------------------------------------------------------------\n",
       "type: 100 * var * var * MCTruthParticle[\n",
       "    PDG: int32[parameters={&quot;__doc__&quot;: &quot;PDG[Particle_]&quot;}],\n",
       "    charge: float32[parameters={&quot;__doc__&quot;: &quot;charge[Particle_]&quot;}],\n",
       "    colorFlow: {\n",
       "        a: int32[parameters={&quot;__doc__&quot;: &quot;a[Particle_]&quot;}],\n",
       "        b: int32[parameters={&quot;__doc__&quot;: &quot;b[Particle_]&quot;}]\n",
       "    },\n",
       "    daughters: {\n",
       "        begin: uint32[parameters={&quot;__doc__&quot;: &quot;daughters_begin[Particle_]&quot;}],\n",
       "        end: uint32[parameters={&quot;__doc__&quot;: &quot;daughters_end[Particle_]&quot;}]\n",
       "    },\n",
       "    endpoint: ThreeVector[\n",
       "        x: float64[parameters={&quot;__doc__&quot;: &quot;x[Particle_]&quot;}],\n",
       "        y: float64[parameters={&quot;__doc__&quot;: &quot;y[Particle_]&quot;}],\n",
       "        z: float64[parameters={&quot;__doc__&quot;: &quot;z[Particle_]&quot;}]\n",
       "    ],\n",
       "    generatorStatus: int32[parameters={&quot;__doc__&quot;: &quot;generatorStatus[Particle_]&quot;}],\n",
       "    mass: float64[parameters={&quot;__doc__&quot;: &quot;mass[Particle_]&quot;}],\n",
       "    momentumAtEndpoint: ThreeVector[\n",
       "        x: float32[parameters={&quot;__doc__&quot;: &quot;x[Particle_]&quot;}],\n",
       "        y: float32[parameters={&quot;__doc__&quot;: &quot;y[Particle_]&quot;}],\n",
       "        z: float32[parameters={&quot;__doc__&quot;: &quot;z[Particle_]&quot;}]\n",
       "    ],\n",
       "    parents: {\n",
       "        begin: uint32[parameters={&quot;__doc__&quot;: &quot;parents_begin[Particle_]&quot;}],\n",
       "        end: uint32[parameters={&quot;__doc__&quot;: &quot;parents_end[Particle_]&quot;}]\n",
       "    },\n",
       "    px: float32[parameters={&quot;__doc__&quot;: &quot;x[Particle_]&quot;}],\n",
       "    py: float32[parameters={&quot;__doc__&quot;: &quot;y[Particle_]&quot;}],\n",
       "    pz: float32[parameters={&quot;__doc__&quot;: &quot;z[Particle_]&quot;}],\n",
       "    simulatorStatus: int32[parameters={&quot;__doc__&quot;: &quot;simulatorStatus[Particle_]&quot;}],\n",
       "    spin: ThreeVector[\n",
       "        x: float32[parameters={&quot;__doc__&quot;: &quot;x[Particle_]&quot;}],\n",
       "        y: float32[parameters={&quot;__doc__&quot;: &quot;y[Particle_]&quot;}],\n",
       "        z: float32[parameters={&quot;__doc__&quot;: &quot;z[Particle_]&quot;}]\n",
       "    ],\n",
       "    time: float32[parameters={&quot;__doc__&quot;: &quot;time[Particle_]&quot;}],\n",
       "    vertex: ThreeVector[\n",
       "        x: float64[parameters={&quot;__doc__&quot;: &quot;x[Particle_]&quot;}],\n",
       "        y: float64[parameters={&quot;__doc__&quot;: &quot;y[Particle_]&quot;}],\n",
       "        z: float64[parameters={&quot;__doc__&quot;: &quot;z[Particle_]&quot;}]\n",
       "    ], \n",
       "parameters={&quot;collection_name&quot;: &quot;Particle&quot;}]</pre>"
      ],
      "text/plain": [
       "<MCTruthParticleArray [[[{PDG: 11, ...}], ..., []], ...] type='100 * var * ...'>"
      ]
     },
     "execution_count": 4,
     "metadata": {},
     "output_type": "execute_result"
    }
   ],
   "source": [
    "events.Particle.get_daughters"
   ]
  },
  {
   "cell_type": "code",
   "execution_count": 5,
   "id": "ecb9908c-444d-4347-86ba-c803cefda4a5",
   "metadata": {},
   "outputs": [
    {
     "data": {
      "text/html": [
       "<pre>[[[], [], [0], [1], [2, 3], [2, ...], ..., [265], [275], [275], [276], [276]],\n",
       " [[], [], [6], [7], [2, 3], [2, ...], ..., [204], [205], [205], [213], [213]],\n",
       " [[], [], [6], [7], [2, 3], [2, ...], ..., [257], [257], [259], [259], [259]],\n",
       " [[], [], [0], [1], [2, 3], [2, 3], ..., [50], [50], [57], [57], [58], [58]],\n",
       " [[], [], [6], [7], [2, 3], [2, ...], ..., [284], [286], [286], [289], [289]],\n",
       " [[], [], [6], [7], [2, 3], [2, 3], ..., [20], [19], [19], [19], [27], [27]],\n",
       " [[], [], [6], [7], [2, 3], [2, ...], ..., [272], [277], [277], [278], [278]],\n",
       " [[], [], [6], [7], [2, 3], [2, ...], ..., [405], [405], [408], [418], [418]],\n",
       " [[], [], [6], [7], [2, 3], [2, ...], ..., [141], [150], [150], [151], [151]],\n",
       " [[], [], [6], [7], [2, 3], [2, ...], ..., [230], [233], [233], [234], [234]],\n",
       " ...,\n",
       " [[], [], [6], [7], [2, 3], [2, ...], ..., [256], [259], [259], [260], [260]],\n",
       " [[], [], [6], [7], [2, 3], [2, ...], ..., [255], [282], [282], [283], [283]],\n",
       " [[], [], [6], [7], [2, 3], [2, ...], ..., [260], [261], [261], [276], [276]],\n",
       " [[], [], [0], [1], [2, 3], [2, ...], ..., [298], [299], [302], [302], [303]],\n",
       " [[], [], [6], [7], [2, 3], [2, ...], ..., [114], [114], [120], [123], [123]],\n",
       " [[], [], [6], [7], [2, 3], [2, 3], ..., [13], [13], [13], [14], [14], [14]],\n",
       " [[], [], [6], [7], [2, 3], [2, ...], ..., [155], [158], [158], [163], [163]],\n",
       " [[], [], [0], [1], [2, 3], [2, 3], ..., [83], [83], [86], [86], [89], [89]],\n",
       " [[], [], [6], [7], [2, 3], [2, ...], ..., [127], [130], [130], [131], [131]]]\n",
       "------------------------------------------------------------------------------\n",
       "type: 100 * var * var * int64</pre>"
      ],
      "text/plain": [
       "<Array [[[], [], [0], ..., [276], [276]], ...] type='100 * var * var * int64'>"
      ]
     },
     "execution_count": 5,
     "metadata": {},
     "output_type": "execute_result"
    }
   ],
   "source": [
    "events.Particle.get_parents_index"
   ]
  },
  {
   "cell_type": "code",
   "execution_count": 6,
   "id": "99ca216e-24a3-40a1-bff8-2f5d0fe988d4",
   "metadata": {},
   "outputs": [
    {
     "data": {
      "text/html": [
       "<pre>[[[], [], [{PDG: 11, charge: -1, colorFlow: {...}, ...}], ..., [{...}], [], []],\n",
       " [[{PDG: 11, charge: -1, colorFlow: {a: 0, ...}, daughters: {...}, ...}], ...],\n",
       " [[{PDG: 11, charge: -1, colorFlow: {a: 0, ...}, daughters: {...}, ...}], ...],\n",
       " [[{PDG: 11, charge: -1, colorFlow: {a: 0, ...}, daughters: {...}, ...}], ...],\n",
       " [[{PDG: 11, charge: -1, colorFlow: {a: 0, ...}, daughters: {...}, ...}], ...],\n",
       " [[{PDG: 11, charge: -1, colorFlow: {a: 0, ...}, daughters: {...}, ...}], ...],\n",
       " [[{PDG: 11, charge: -1, colorFlow: {a: 0, ...}, daughters: {...}, ...}], ...],\n",
       " [[{PDG: 11, charge: -1, colorFlow: {a: 0, ...}, daughters: {...}, ...}], ...],\n",
       " [[{PDG: 11, charge: -1, colorFlow: {a: 0, ...}, daughters: {...}, ...}], ...],\n",
       " [[{PDG: 11, charge: -1, colorFlow: {a: 0, ...}, daughters: {...}, ...}], ...],\n",
       " ...,\n",
       " [[{PDG: 11, charge: -1, colorFlow: {a: 0, ...}, daughters: {...}, ...}], ...],\n",
       " [[{PDG: 11, charge: -1, colorFlow: {a: 0, ...}, daughters: {...}, ...}], ...],\n",
       " [[{PDG: 11, charge: -1, colorFlow: {a: 0, ...}, daughters: {...}, ...}], ...],\n",
       " [[{PDG: 11, charge: -1, colorFlow: {a: 0, ...}, daughters: {...}, ...}], ...],\n",
       " [[{PDG: 11, charge: -1, colorFlow: {a: 0, ...}, daughters: {...}, ...}], ...],\n",
       " [[{PDG: 11, charge: -1, colorFlow: {a: 0, ...}, daughters: {...}, ...}], ...],\n",
       " [[{PDG: 11, charge: -1, colorFlow: {a: 0, ...}, daughters: {...}, ...}], ...],\n",
       " [[{PDG: 11, charge: -1, colorFlow: {a: 0, ...}, daughters: {...}, ...}], ...],\n",
       " [[{PDG: 11, charge: -1, colorFlow: {a: 0, ...}, daughters: {...}, ...}], ...]]\n",
       "---------------------------------------------------------------------------------\n",
       "type: 100 * var * var * MCTruthParticle[\n",
       "    PDG: int32[parameters={&quot;__doc__&quot;: &quot;PDG[Particle_]&quot;}],\n",
       "    charge: float32[parameters={&quot;__doc__&quot;: &quot;charge[Particle_]&quot;}],\n",
       "    colorFlow: {\n",
       "        a: int32[parameters={&quot;__doc__&quot;: &quot;a[Particle_]&quot;}],\n",
       "        b: int32[parameters={&quot;__doc__&quot;: &quot;b[Particle_]&quot;}]\n",
       "    },\n",
       "    daughters: {\n",
       "        begin: uint32[parameters={&quot;__doc__&quot;: &quot;daughters_begin[Particle_]&quot;}],\n",
       "        end: uint32[parameters={&quot;__doc__&quot;: &quot;daughters_end[Particle_]&quot;}]\n",
       "    },\n",
       "    endpoint: ThreeVector[\n",
       "        x: float64[parameters={&quot;__doc__&quot;: &quot;x[Particle_]&quot;}],\n",
       "        y: float64[parameters={&quot;__doc__&quot;: &quot;y[Particle_]&quot;}],\n",
       "        z: float64[parameters={&quot;__doc__&quot;: &quot;z[Particle_]&quot;}]\n",
       "    ],\n",
       "    generatorStatus: int32[parameters={&quot;__doc__&quot;: &quot;generatorStatus[Particle_]&quot;}],\n",
       "    mass: float64[parameters={&quot;__doc__&quot;: &quot;mass[Particle_]&quot;}],\n",
       "    momentumAtEndpoint: ThreeVector[\n",
       "        x: float32[parameters={&quot;__doc__&quot;: &quot;x[Particle_]&quot;}],\n",
       "        y: float32[parameters={&quot;__doc__&quot;: &quot;y[Particle_]&quot;}],\n",
       "        z: float32[parameters={&quot;__doc__&quot;: &quot;z[Particle_]&quot;}]\n",
       "    ],\n",
       "    parents: {\n",
       "        begin: uint32[parameters={&quot;__doc__&quot;: &quot;parents_begin[Particle_]&quot;}],\n",
       "        end: uint32[parameters={&quot;__doc__&quot;: &quot;parents_end[Particle_]&quot;}]\n",
       "    },\n",
       "    px: float32[parameters={&quot;__doc__&quot;: &quot;x[Particle_]&quot;}],\n",
       "    py: float32[parameters={&quot;__doc__&quot;: &quot;y[Particle_]&quot;}],\n",
       "    pz: float32[parameters={&quot;__doc__&quot;: &quot;z[Particle_]&quot;}],\n",
       "    simulatorStatus: int32[parameters={&quot;__doc__&quot;: &quot;simulatorStatus[Particle_]&quot;}],\n",
       "    spin: ThreeVector[\n",
       "        x: float32[parameters={&quot;__doc__&quot;: &quot;x[Particle_]&quot;}],\n",
       "        y: float32[parameters={&quot;__doc__&quot;: &quot;y[Particle_]&quot;}],\n",
       "        z: float32[parameters={&quot;__doc__&quot;: &quot;z[Particle_]&quot;}]\n",
       "    ],\n",
       "    time: float32[parameters={&quot;__doc__&quot;: &quot;time[Particle_]&quot;}],\n",
       "    vertex: ThreeVector[\n",
       "        x: float64[parameters={&quot;__doc__&quot;: &quot;x[Particle_]&quot;}],\n",
       "        y: float64[parameters={&quot;__doc__&quot;: &quot;y[Particle_]&quot;}],\n",
       "        z: float64[parameters={&quot;__doc__&quot;: &quot;z[Particle_]&quot;}]\n",
       "    ], \n",
       "parameters={&quot;collection_name&quot;: &quot;Particle&quot;}]</pre>"
      ],
      "text/plain": [
       "<MCTruthParticleArray [[[], [], [{...}], ..., [], []], ...] type='100 * var...'>"
      ]
     },
     "execution_count": 6,
     "metadata": {},
     "output_type": "execute_result"
    }
   ],
   "source": [
    "events.Particle.get_parents"
   ]
  },
  {
   "cell_type": "code",
   "execution_count": 8,
   "id": "57ba3ffa-f963-43c6-8135-36da6d6d7b5a",
   "metadata": {},
   "outputs": [
    {
     "data": {
      "text/plain": [
       "['PDG',\n",
       " 'charge',\n",
       " 'colorFlow',\n",
       " 'daughters',\n",
       " 'endpoint',\n",
       " 'generatorStatus',\n",
       " 'mass',\n",
       " 'momentumAtEndpoint',\n",
       " 'parents',\n",
       " 'px',\n",
       " 'py',\n",
       " 'pz',\n",
       " 'simulatorStatus',\n",
       " 'spin',\n",
       " 'time',\n",
       " 'vertex']"
      ]
     },
     "execution_count": 8,
     "metadata": {},
     "output_type": "execute_result"
    }
   ],
   "source": [
    "events.Particle.fields"
   ]
  },
  {
   "cell_type": "code",
   "execution_count": null,
   "id": "61ff4f16-dad2-4675-b288-7822e80df359",
   "metadata": {},
   "outputs": [],
   "source": []
  }
 ],
 "metadata": {
  "kernelspec": {
   "display_name": "fcc-dev",
   "language": "python",
   "name": "fcc-dev"
  },
  "language_info": {
   "codemirror_mode": {
    "name": "ipython",
    "version": 3
   },
   "file_extension": ".py",
   "mimetype": "text/x-python",
   "name": "python",
   "nbconvert_exporter": "python",
   "pygments_lexer": "ipython3",
   "version": "3.12.4"
  }
 },
 "nbformat": 4,
 "nbformat_minor": 5
}
