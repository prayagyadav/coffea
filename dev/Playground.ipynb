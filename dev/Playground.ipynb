{
 "cells": [
  {
   "cell_type": "code",
   "execution_count": 1,
   "id": "9c16f947-e1d7-4e20-ae93-0b2082ec27e2",
   "metadata": {},
   "outputs": [
    {
     "name": "stdout",
     "output_type": "stream",
     "text": [
      "_______________________________________\n",
      "\tCurrent Configuration\n",
      "---------------------------------------\n",
      "Coffea Version:  0.1.dev3583+ge06c4b8\n",
      "Branch: \t master\n",
      "Modified by: \t Prayag Yadav\n",
      "_______________________________________\n"
     ]
    }
   ],
   "source": [
    "import coffea\n",
    "from git import Repo\n",
    "import awkward as ak\n",
    "import dask_awkward as dak\n",
    "mod = \"Prayag Yadav\"\n",
    "local_repo = Repo(path='coffea')\n",
    "local_branch = local_repo.active_branch.name\n",
    "print(\"_______________________________________\")\n",
    "print(\"\\tCurrent Configuration\")\n",
    "print(\"---------------------------------------\")\n",
    "print(\"Coffea Version: \", coffea.__version__)\n",
    "print(\"Branch: \\t\", local_branch)\n",
    "print(\"Modified by: \\t\", mod)\n",
    "print(\"_______________________________________\")\n"
   ]
  },
  {
   "cell_type": "code",
   "execution_count": 2,
   "id": "7f59e9a5-3885-4d37-b9a7-a5e81baf670a",
   "metadata": {},
   "outputs": [
    {
     "name": "stderr",
     "output_type": "stream",
     "text": [
      "/home/prayag/coffeafcc/development/coffea/src/coffea/nanoevents/methods/fcc.py:7: FutureWarning: In version 2025.1.0 (target date: 2024-12-31 11:59:59-06:00), this will be an error.\n",
      "To raise these warnings as errors (and get stack traces to find out where they're called), run\n",
      "    import warnings\n",
      "    warnings.filterwarnings(\"error\", module=\"coffea.*\")\n",
      "after the first `import coffea` or use `@pytest.mark.filterwarnings(\"error:::coffea.*\")` in pytest.\n",
      "Issue: coffea.nanoevents.methods.vector will be removed and replaced with scikit-hep vector. Nanoevents schemas internal to coffea will be migrated. Otherwise please consider using that package!.\n",
      "  from coffea.nanoevents.methods import base, vector\n"
     ]
    }
   ],
   "source": [
    "from coffea.nanoevents import NanoEventsFactory, FCCSchema, FCC\n",
    "test_file = '../../../coffea-fcc-analyses/data/p8_ee_ZH_ecm240/events_082532938.root'\n",
    "events = NanoEventsFactory.from_root(\n",
    "    test_file+\":events\",\n",
    "    entry_stop=100,\n",
    "    schemaclass= FCC.get_schema(version=\"latest\", zip_missing=False),\n",
    "    delayed = False\n",
    ").events()"
   ]
  },
  {
   "cell_type": "code",
   "execution_count": 3,
   "id": "9de49bb8-1de2-42b2-8ccd-4099d8f2f816",
   "metadata": {},
   "outputs": [
    {
     "data": {
      "text/plain": [
       "['AllMuonidx0',\n",
       " 'EFlowNeutralHadron',\n",
       " 'EFlowNeutralHadronidx0',\n",
       " 'EFlowNeutralHadronidx1',\n",
       " 'EFlowNeutralHadronidx2',\n",
       " 'EFlowPhoton',\n",
       " 'EFlowPhotonidx0',\n",
       " 'EFlowPhotonidx1',\n",
       " 'EFlowPhotonidx2',\n",
       " 'EFlowTrack',\n",
       " 'EFlowTrackidx0',\n",
       " 'EFlowTrackidx1',\n",
       " 'Electronidx0',\n",
       " 'Jet',\n",
       " 'Jetidx0',\n",
       " 'Jetidx1',\n",
       " 'Jetidx2',\n",
       " 'Jetidx3',\n",
       " 'Jetidx4',\n",
       " 'Jetidx5',\n",
       " 'MCRecoAssociations',\n",
       " 'MCRecoAssociationsidx0',\n",
       " 'MCRecoAssociationsidx1',\n",
       " 'MissingET',\n",
       " 'MissingETidx0',\n",
       " 'MissingETidx1',\n",
       " 'MissingETidx2',\n",
       " 'MissingETidx3',\n",
       " 'MissingETidx4',\n",
       " 'MissingETidx5',\n",
       " 'Muonidx0',\n",
       " 'Particle',\n",
       " 'ParticleIDs',\n",
       " 'Particleidx0',\n",
       " 'Particleidx1',\n",
       " 'Photonidx0',\n",
       " 'ReconstructedParticles',\n",
       " 'ReconstructedParticlesidx0',\n",
       " 'ReconstructedParticlesidx1',\n",
       " 'ReconstructedParticlesidx2',\n",
       " 'ReconstructedParticlesidx3',\n",
       " 'ReconstructedParticlesidx4',\n",
       " 'ReconstructedParticlesidx5']"
      ]
     },
     "execution_count": 3,
     "metadata": {},
     "output_type": "execute_result"
    }
   ],
   "source": [
    "events.fields"
   ]
  },
  {
   "cell_type": "code",
   "execution_count": 4,
   "id": "c97fcd31-a085-4aa2-9a04-cd7c1459e59f",
   "metadata": {},
   "outputs": [
    {
     "data": {
      "text/html": [
       "<pre>[[],\n",
       " [],\n",
       " [],\n",
       " [0.0221],\n",
       " [],\n",
       " [],\n",
       " [],\n",
       " [],\n",
       " [0.00552],\n",
       " [],\n",
       " ...,\n",
       " [],\n",
       " [],\n",
       " [],\n",
       " [],\n",
       " [],\n",
       " [0.00552],\n",
       " [],\n",
       " [0.00276, 0.00781],\n",
       " []]\n",
       "-------------------------\n",
       "type: 100 * var * float32</pre>"
      ],
      "text/plain": [
       "<Array [[], [], [], ..., [], [0.00276, 0.00781], []] type='100 * var * float32'>"
      ]
     },
     "execution_count": 4,
     "metadata": {},
     "output_type": "execute_result"
    }
   ],
   "source": [
    "events.ReconstructedParticles.match_collection(events.Muonidx0).absolute_mass"
   ]
  },
  {
   "cell_type": "code",
   "execution_count": null,
   "id": "6db8e975-0c77-47b9-a1b1-fa4c0d617d89",
   "metadata": {},
   "outputs": [],
   "source": []
  }
 ],
 "metadata": {
  "kernelspec": {
   "display_name": "fcc-dev",
   "language": "python",
   "name": "fcc-dev"
  },
  "language_info": {
   "codemirror_mode": {
    "name": "ipython",
    "version": 3
   },
   "file_extension": ".py",
   "mimetype": "text/x-python",
   "name": "python",
   "nbconvert_exporter": "python",
   "pygments_lexer": "ipython3",
   "version": "3.12.4"
  }
 },
 "nbformat": 4,
 "nbformat_minor": 5
}
