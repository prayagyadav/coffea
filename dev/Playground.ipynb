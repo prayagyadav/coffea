{
 "cells": [
  {
   "cell_type": "code",
   "execution_count": null,
   "id": "0d666575-5e88-4dcf-98ed-3954fb9091ef",
   "metadata": {},
   "outputs": [],
   "source": [
    "import coffea\n",
    "import awkward as ak\n",
    "import vector\n",
    "import numpy as np\n",
    "import re\n",
    "coffea.__mod__"
   ]
  },
  {
   "cell_type": "code",
   "execution_count": null,
   "id": "88d37a84-86e3-4352-a39c-38472aa5fcaa",
   "metadata": {},
   "outputs": [],
   "source": [
    "test_file = 'root://eospublic.cern.ch//eos/experiment/fcc/ee/generation/DelphesEvents/spring2021/IDEA/p8_ee_ZH_ecm240/events_101027117.root'\n",
    "\n",
    "from coffea.nanoevents import NanoEventsFactory, FCCSchema\n",
    "events = NanoEventsFactory.from_root(\n",
    "    test_file+\":events\",\n",
    "    entry_stop=10000,\n",
    "    schemaclass=FCCSchema,\n",
    "    delayed=False\n",
    ").events()"
   ]
  },
  {
   "cell_type": "code",
   "execution_count": null,
   "id": "23f036f7-3833-42b6-afd2-bc4ba3b3d58b",
   "metadata": {},
   "outputs": [],
   "source": [
    "events.fields"
   ]
  },
  {
   "cell_type": "code",
   "execution_count": null,
   "id": "09312097-ab77-488f-9dc8-9bd5f0ab7f28",
   "metadata": {},
   "outputs": [],
   "source": [
    "for field in events.fields:\n",
    "    print(f\"{field} : \", events[field].layout.content.parameter(\"__record__\"))"
   ]
  },
  {
   "cell_type": "code",
   "execution_count": null,
   "id": "fe8bb75c-0d91-4a39-a60c-f51ca4cc4fd3",
   "metadata": {},
   "outputs": [],
   "source": [
    "events.EFlowTrack_1.fields"
   ]
  },
  {
   "cell_type": "code",
   "execution_count": null,
   "id": "f24fe0c3-5870-420f-94f3-c191f2275bb6",
   "metadata": {},
   "outputs": [],
   "source": [
    "events.EFlowTrack_1.D0.compute()"
   ]
  },
  {
   "cell_type": "code",
   "execution_count": null,
   "id": "9b76cd06-e111-4b64-8f22-a5581ab8bf19",
   "metadata": {},
   "outputs": [],
   "source": []
  }
 ],
 "metadata": {
  "kernelspec": {
   "display_name": "fcc-dev",
   "language": "python",
   "name": "fcc-dev"
  },
  "language_info": {
   "codemirror_mode": {
    "name": "ipython",
    "version": 3
   },
   "file_extension": ".py",
   "mimetype": "text/x-python",
   "name": "python",
   "nbconvert_exporter": "python",
   "pygments_lexer": "ipython3",
   "version": "3.12.4"
  }
 },
 "nbformat": 4,
 "nbformat_minor": 5
}
