{
 "cells": [
  {
   "cell_type": "code",
   "execution_count": 68,
   "id": "9c16f947-e1d7-4e20-ae93-0b2082ec27e2",
   "metadata": {},
   "outputs": [
    {
     "name": "stdout",
     "output_type": "stream",
     "text": [
      "_______________________________________\n",
      "\tCurrent Configuration\n",
      "---------------------------------------\n",
      "Coffea Version:  0.1.dev3749+gf95048d\n",
      "Branch: \t master\n",
      "Modified by: \t Prayag Yadav\n",
      "_______________________________________\n"
     ]
    }
   ],
   "source": [
    "import coffea\n",
    "from git import Repo\n",
    "import uproot\n",
    "mod = \"Prayag Yadav\"\n",
    "local_repo = Repo(path='coffea')\n",
    "local_branch = local_repo.active_branch.name\n",
    "print(\"_______________________________________\")\n",
    "print(\"\\tCurrent Configuration\")\n",
    "print(\"---------------------------------------\")\n",
    "print(\"Coffea Version: \", coffea.__version__)\n",
    "print(\"Branch: \\t\", local_branch)\n",
    "print(\"Modified by: \\t\", mod)\n",
    "print(\"_______________________________________\")\n"
   ]
  },
  {
   "cell_type": "code",
   "execution_count": 73,
   "id": "7f59e9a5-3885-4d37-b9a7-a5e81baf670a",
   "metadata": {},
   "outputs": [],
   "source": [
    "from coffea.nanoevents import NanoEventsFactory, FCC\n",
    "# test_file = '../../../coffea-fcc-analyses/data/p8_ee_ZH_ecm240/events_082532938.root'\n",
    "test_file = './test_Spring2021.root'\n",
    "file = uproot.open(test_file)\n",
    "\n",
    "events = NanoEventsFactory.from_root(\n",
    "    test_file+\":events\",\n",
    "# entry_stop=100,\n",
    "    schemaclass= FCC.get_schema(version=\"latest\"),\n",
    "    delayed = True,\n",
    "    metadata=file[\"metadata\"].arrays()\n",
    ").events()\n"
   ]
  },
  {
   "cell_type": "code",
   "execution_count": 79,
   "id": "e7eb53ae-35b6-4433-98ce-30bfd4619c9b",
   "metadata": {},
   "outputs": [
    {
     "data": {
      "text/plain": [
       "['metadata;1',\n",
       " 'col_metadata;1',\n",
       " 'run_metadata;2',\n",
       " 'run_metadata;1',\n",
       " 'events;1']"
      ]
     },
     "execution_count": 79,
     "metadata": {},
     "output_type": "execute_result"
    }
   ],
   "source": [
    "file.keys()"
   ]
  },
  {
   "cell_type": "code",
   "execution_count": 107,
   "id": "13e173bf-6d1f-4595-94d3-42ae00e74d7a",
   "metadata": {},
   "outputs": [
    {
     "name": "stdout",
     "output_type": "stream",
     "text": [
      "name                 | typename                 | interpretation                \n",
      "---------------------+--------------------------+-------------------------------\n",
      "runMD                | map<int,podio::GenericPa | AsGroup(<TBranchElement 'runMD\n",
      "runMD.first          | int32_t[]                | AsJagged(AsDtype('>i4'))\n",
      "runMD.second._intMap | std::map<std::string,... | AsObjects(AsArray(True, Fal...\n",
      "runMD.second._flo... | std::map<std::string,... | AsObjects(AsArray(True, Fal...\n",
      "runMD.second._str... | std::map<std::string,... | AsObjects(AsArray(True, Fal...\n"
     ]
    }
   ],
   "source": [
    "file[\"run_metadata\"][\"runMD\"].show()"
   ]
  },
  {
   "cell_type": "code",
   "execution_count": 109,
   "id": "e9aab7d1-ecbc-40f8-b0e2-b2847bb6d65d",
   "metadata": {},
   "outputs": [
    {
     "data": {
      "text/plain": [
       "'std::map<std::string, std::vector<std::string>>[]'"
      ]
     },
     "execution_count": 109,
     "metadata": {},
     "output_type": "execute_result"
    }
   ],
   "source": [
    "file[\"run_metadata\"][\"runMD.second._stringMap\"].typename"
   ]
  },
  {
   "cell_type": "code",
   "execution_count": 111,
   "id": "87e67d3b-a261-45a9-bdd8-c5679bce9101",
   "metadata": {},
   "outputs": [
    {
     "name": "stdout",
     "output_type": "stream",
     "text": [
      "name                 | typename                 | interpretation                \n",
      "---------------------+--------------------------+-------------------------------\n",
      "CollectionIDs        | podio::CollectionIDTable | AsGroup(<TBranchElement 'Co...\n",
      "CollectionIDs/m_c... | std::vector<int32_t>     | AsJagged(AsDtype('>i4'), he...\n",
      "CollectionIDs/m_n... | std::vector<std::string> | AsObjects(AsVector(True, As...\n"
     ]
    }
   ],
   "source": [
    "file[\"metadata\"].show()"
   ]
  },
  {
   "cell_type": "code",
   "execution_count": 115,
   "id": "32781adf-04e0-4e6b-81d8-d4ba322a1bab",
   "metadata": {},
   "outputs": [
    {
     "name": "stdout",
     "output_type": "stream",
     "text": [
      "name                 | typename                 | interpretation                \n",
      "---------------------+--------------------------+-------------------------------\n",
      "m_collectionIDs      | std::vector<int32_t>     | AsJagged(AsDtype('>i4'), heade\n"
     ]
    }
   ],
   "source": [
    "file[\"metadata\"][\"CollectionIDs/m_collectionIDs\"].show()"
   ]
  },
  {
   "cell_type": "code",
   "execution_count": 118,
   "id": "f2aa05c2-dd87-4f59-8d17-a083607fd232",
   "metadata": {},
   "outputs": [
    {
     "data": {
      "text/html": [
       "<pre>[[1, 2, 3, 4, 5, 6, 7, 8, 9, 10, 11, 12, 13]]\n",
       "---------------------------------------------\n",
       "type: 1 * var * int32</pre>"
      ],
      "text/plain": [
       "<Array [[1, 2, 3, 4, 5, 6, ..., 8, 9, 10, 11, 12, 13]] type='1 * var * int32'>"
      ]
     },
     "execution_count": 118,
     "metadata": {},
     "output_type": "execute_result"
    }
   ],
   "source": [
    "file[\"metadata\"][\"CollectionIDs/m_collectionIDs\"].array()"
   ]
  },
  {
   "cell_type": "code",
   "execution_count": 89,
   "id": "a5548d09-ec07-4c69-b3df-05c3c21e916e",
   "metadata": {},
   "outputs": [
    {
     "data": {
      "text/plain": [
       "['colMD',\n",
       " 'colMD/colMD.first',\n",
       " 'colMD/colMD.second._intMap',\n",
       " 'colMD/colMD.second._floatMap',\n",
       " 'colMD/colMD.second._stringMap']"
      ]
     },
     "execution_count": 89,
     "metadata": {},
     "output_type": "execute_result"
    }
   ],
   "source": [
    "file[\"col_metadata\"].keys()"
   ]
  },
  {
   "cell_type": "code",
   "execution_count": 119,
   "id": "e69c8544-4cd9-48ef-9f4b-08cbc2687941",
   "metadata": {},
   "outputs": [
    {
     "data": {
      "text/html": [
       "<pre>[[]]\n",
       "---------------------\n",
       "type: 1 * var * int32</pre>"
      ],
      "text/plain": [
       "<Array [[]] type='1 * var * int32'>"
      ]
     },
     "execution_count": 119,
     "metadata": {},
     "output_type": "execute_result"
    }
   ],
   "source": [
    "file[\"col_metadata\"][\"colMD.first\"].array()"
   ]
  },
  {
   "cell_type": "code",
   "execution_count": 121,
   "id": "5b605373-a197-4295-8efe-ca25277efdc3",
   "metadata": {
    "scrolled": true
   },
   "outputs": [
    {
     "name": "stdout",
     "output_type": "stream",
     "text": [
      "name                 | typename                 | interpretation                \n",
      "---------------------+--------------------------+-------------------------------\n",
      "colMD                | map<int,podio::Generi... | AsGroup(<TBranchElement 'co...\n",
      "colMD/colMD.first    | int32_t[]                | AsJagged(AsDtype('>i4'))\n",
      "colMD/colMD.secon... | std::map<std::string,... | AsObjects(AsArray(True, Fal...\n",
      "colMD/colMD.secon... | std::map<std::string,... | AsObjects(AsArray(True, Fal...\n",
      "colMD/colMD.secon... | std::map<std::string,... | AsObjects(AsArray(True, Fal...\n"
     ]
    }
   ],
   "source": [
    "file[\"col_metadata\"].show()"
   ]
  },
  {
   "cell_type": "code",
   "execution_count": 123,
   "id": "64f52531-596a-404b-9d40-6e327459eacf",
   "metadata": {},
   "outputs": [
    {
     "ename": "NotImplementedError",
     "evalue": "memberwise serialization of AsArray\nin file ./test_Spring2021.root",
     "output_type": "error",
     "traceback": [
      "\u001b[0;31m---------------------------------------------------------------------------\u001b[0m",
      "\u001b[0;31mNotImplementedError\u001b[0m                       Traceback (most recent call last)",
      "Cell \u001b[0;32mIn[123], line 1\u001b[0m\n\u001b[0;32m----> 1\u001b[0m \u001b[43mfile\u001b[49m\u001b[43m[\u001b[49m\u001b[38;5;124;43m\"\u001b[39;49m\u001b[38;5;124;43mcol_metadata\u001b[39;49m\u001b[38;5;124;43m\"\u001b[39;49m\u001b[43m]\u001b[49m\u001b[43m[\u001b[49m\u001b[38;5;124;43m\"\u001b[39;49m\u001b[38;5;124;43mcolMD.second._intMap\u001b[39;49m\u001b[38;5;124;43m\"\u001b[39;49m\u001b[43m]\u001b[49m\u001b[38;5;241;43m.\u001b[39;49m\u001b[43marray\u001b[49m\u001b[43m(\u001b[49m\u001b[43m)\u001b[49m\n",
      "File \u001b[0;32m~/coffeafcc/development/fcc-dev/lib64/python3.12/site-packages/uproot/behaviors/TBranch.py:1825\u001b[0m, in \u001b[0;36mTBranch.array\u001b[0;34m(self, interpretation, entry_start, entry_stop, decompression_executor, interpretation_executor, array_cache, library, ak_add_doc)\u001b[0m\n\u001b[1;32m   1822\u001b[0m                 ranges_or_baskets\u001b[38;5;241m.\u001b[39mappend((branch, basket_num, range_or_basket))\n\u001b[1;32m   1824\u001b[0m interp_options \u001b[38;5;241m=\u001b[39m {\u001b[38;5;124m\"\u001b[39m\u001b[38;5;124mak_add_doc\u001b[39m\u001b[38;5;124m\"\u001b[39m: ak_add_doc}\n\u001b[0;32m-> 1825\u001b[0m \u001b[43m_ranges_or_baskets_to_arrays\u001b[49m\u001b[43m(\u001b[49m\n\u001b[1;32m   1826\u001b[0m \u001b[43m    \u001b[49m\u001b[38;5;28;43mself\u001b[39;49m\u001b[43m,\u001b[49m\n\u001b[1;32m   1827\u001b[0m \u001b[43m    \u001b[49m\u001b[43mranges_or_baskets\u001b[49m\u001b[43m,\u001b[49m\n\u001b[1;32m   1828\u001b[0m \u001b[43m    \u001b[49m\u001b[43mbranchid_interpretation\u001b[49m\u001b[43m,\u001b[49m\n\u001b[1;32m   1829\u001b[0m \u001b[43m    \u001b[49m\u001b[43mentry_start\u001b[49m\u001b[43m,\u001b[49m\n\u001b[1;32m   1830\u001b[0m \u001b[43m    \u001b[49m\u001b[43mentry_stop\u001b[49m\u001b[43m,\u001b[49m\n\u001b[1;32m   1831\u001b[0m \u001b[43m    \u001b[49m\u001b[43mdecompression_executor\u001b[49m\u001b[43m,\u001b[49m\n\u001b[1;32m   1832\u001b[0m \u001b[43m    \u001b[49m\u001b[43minterpretation_executor\u001b[49m\u001b[43m,\u001b[49m\n\u001b[1;32m   1833\u001b[0m \u001b[43m    \u001b[49m\u001b[43mlibrary\u001b[49m\u001b[43m,\u001b[49m\n\u001b[1;32m   1834\u001b[0m \u001b[43m    \u001b[49m\u001b[43marrays\u001b[49m\u001b[43m,\u001b[49m\n\u001b[1;32m   1835\u001b[0m \u001b[43m    \u001b[49m\u001b[38;5;28;43;01mFalse\u001b[39;49;00m\u001b[43m,\u001b[49m\n\u001b[1;32m   1836\u001b[0m \u001b[43m    \u001b[49m\u001b[43minterp_options\u001b[49m\u001b[43m,\u001b[49m\n\u001b[1;32m   1837\u001b[0m \u001b[43m\u001b[49m\u001b[43m)\u001b[49m\n\u001b[1;32m   1839\u001b[0m _fix_asgrouped(\n\u001b[1;32m   1840\u001b[0m     arrays,\n\u001b[1;32m   1841\u001b[0m     expression_context,\n\u001b[0;32m   (...)\u001b[0m\n\u001b[1;32m   1845\u001b[0m     ak_add_doc,\n\u001b[1;32m   1846\u001b[0m )\n\u001b[1;32m   1848\u001b[0m \u001b[38;5;28;01mif\u001b[39;00m array_cache \u001b[38;5;129;01mis\u001b[39;00m \u001b[38;5;129;01mnot\u001b[39;00m \u001b[38;5;28;01mNone\u001b[39;00m:\n",
      "File \u001b[0;32m~/coffeafcc/development/fcc-dev/lib64/python3.12/site-packages/uproot/behaviors/TBranch.py:3111\u001b[0m, in \u001b[0;36m_ranges_or_baskets_to_arrays\u001b[0;34m(hasbranches, ranges_or_baskets, branchid_interpretation, entry_start, entry_stop, decompression_executor, interpretation_executor, library, arrays, update_ranges_or_baskets, interp_options)\u001b[0m\n\u001b[1;32m   3108\u001b[0m     \u001b[38;5;28;01mpass\u001b[39;00m\n\u001b[1;32m   3110\u001b[0m \u001b[38;5;28;01melif\u001b[39;00m \u001b[38;5;28misinstance\u001b[39m(obj, \u001b[38;5;28mtuple\u001b[39m) \u001b[38;5;129;01mand\u001b[39;00m \u001b[38;5;28mlen\u001b[39m(obj) \u001b[38;5;241m==\u001b[39m \u001b[38;5;241m3\u001b[39m:\n\u001b[0;32m-> 3111\u001b[0m     \u001b[43muproot\u001b[49m\u001b[38;5;241;43m.\u001b[39;49m\u001b[43msource\u001b[49m\u001b[38;5;241;43m.\u001b[39;49m\u001b[43mfutures\u001b[49m\u001b[38;5;241;43m.\u001b[39;49m\u001b[43mdelayed_raise\u001b[49m\u001b[43m(\u001b[49m\u001b[38;5;241;43m*\u001b[39;49m\u001b[43mobj\u001b[49m\u001b[43m)\u001b[49m\n\u001b[1;32m   3113\u001b[0m \u001b[38;5;28;01melse\u001b[39;00m:\n\u001b[1;32m   3114\u001b[0m     \u001b[38;5;28;01mraise\u001b[39;00m \u001b[38;5;167;01mAssertionError\u001b[39;00m(obj)\n",
      "File \u001b[0;32m~/coffeafcc/development/fcc-dev/lib64/python3.12/site-packages/uproot/source/futures.py:38\u001b[0m, in \u001b[0;36mdelayed_raise\u001b[0;34m(exception_class, exception_value, traceback)\u001b[0m\n\u001b[1;32m     34\u001b[0m \u001b[38;5;28;01mdef\u001b[39;00m \u001b[38;5;21mdelayed_raise\u001b[39m(exception_class, exception_value, traceback):\n\u001b[1;32m     35\u001b[0m \u001b[38;5;250m    \u001b[39m\u001b[38;5;124;03m\"\"\"\u001b[39;00m\n\u001b[1;32m     36\u001b[0m \u001b[38;5;124;03m    Raise an exception from a background thread on the main thread.\u001b[39;00m\n\u001b[1;32m     37\u001b[0m \u001b[38;5;124;03m    \"\"\"\u001b[39;00m\n\u001b[0;32m---> 38\u001b[0m     \u001b[38;5;28;01mraise\u001b[39;00m exception_value\u001b[38;5;241m.\u001b[39mwith_traceback(traceback)\n",
      "File \u001b[0;32m~/coffeafcc/development/fcc-dev/lib64/python3.12/site-packages/uproot/behaviors/TBranch.py:3060\u001b[0m, in \u001b[0;36m_ranges_or_baskets_to_arrays.<locals>.basket_to_array\u001b[0;34m(basket)\u001b[0m\n\u001b[1;32m   3057\u001b[0m         context \u001b[38;5;241m=\u001b[39m \u001b[38;5;28mdict\u001b[39m(branch\u001b[38;5;241m.\u001b[39mcontext)\n\u001b[1;32m   3058\u001b[0m         context[\u001b[38;5;124m\"\u001b[39m\u001b[38;5;124mforth\u001b[39m\u001b[38;5;124m\"\u001b[39m] \u001b[38;5;241m=\u001b[39m forth_context[branch\u001b[38;5;241m.\u001b[39mcache_key]\n\u001b[0;32m-> 3060\u001b[0m         basket_arrays[basket\u001b[38;5;241m.\u001b[39mbasket_num] \u001b[38;5;241m=\u001b[39m \u001b[43minterpretation\u001b[49m\u001b[38;5;241;43m.\u001b[39;49m\u001b[43mbasket_array\u001b[49m\u001b[43m(\u001b[49m\n\u001b[1;32m   3061\u001b[0m \u001b[43m            \u001b[49m\u001b[43mbasket\u001b[49m\u001b[38;5;241;43m.\u001b[39;49m\u001b[43mdata\u001b[49m\u001b[43m,\u001b[49m\n\u001b[1;32m   3062\u001b[0m \u001b[43m            \u001b[49m\u001b[43mbasket\u001b[49m\u001b[38;5;241;43m.\u001b[39;49m\u001b[43mbyte_offsets\u001b[49m\u001b[43m,\u001b[49m\n\u001b[1;32m   3063\u001b[0m \u001b[43m            \u001b[49m\u001b[43mbasket\u001b[49m\u001b[43m,\u001b[49m\n\u001b[1;32m   3064\u001b[0m \u001b[43m            \u001b[49m\u001b[43mbranch\u001b[49m\u001b[43m,\u001b[49m\n\u001b[1;32m   3065\u001b[0m \u001b[43m            \u001b[49m\u001b[43mcontext\u001b[49m\u001b[43m,\u001b[49m\n\u001b[1;32m   3066\u001b[0m \u001b[43m            \u001b[49m\u001b[43mbasket\u001b[49m\u001b[38;5;241;43m.\u001b[39;49m\u001b[43mmember\u001b[49m\u001b[43m(\u001b[49m\u001b[38;5;124;43m\"\u001b[39;49m\u001b[38;5;124;43mfKeylen\u001b[39;49m\u001b[38;5;124;43m\"\u001b[39;49m\u001b[43m)\u001b[49m\u001b[43m,\u001b[49m\n\u001b[1;32m   3067\u001b[0m \u001b[43m            \u001b[49m\u001b[43mlibrary\u001b[49m\u001b[43m,\u001b[49m\n\u001b[1;32m   3068\u001b[0m \u001b[43m            \u001b[49m\u001b[43minterp_options\u001b[49m\u001b[43m,\u001b[49m\n\u001b[1;32m   3069\u001b[0m \u001b[43m        \u001b[49m\u001b[43m)\u001b[49m\n\u001b[1;32m   3070\u001b[0m         \u001b[38;5;28;01mif\u001b[39;00m basket\u001b[38;5;241m.\u001b[39mnum_entries \u001b[38;5;241m!=\u001b[39m \u001b[38;5;28mlen\u001b[39m(basket_arrays[basket\u001b[38;5;241m.\u001b[39mbasket_num]):\n\u001b[1;32m   3071\u001b[0m             \u001b[38;5;28;01mraise\u001b[39;00m \u001b[38;5;167;01mValueError\u001b[39;00m(\n\u001b[1;32m   3072\u001b[0m                 \u001b[38;5;124mf\u001b[39m\u001b[38;5;124m\"\"\"\u001b[39m\u001b[38;5;124mbasket \u001b[39m\u001b[38;5;132;01m{\u001b[39;00mbasket\u001b[38;5;241m.\u001b[39mbasket_num\u001b[38;5;132;01m}\u001b[39;00m\u001b[38;5;124m in tree/branch \u001b[39m\u001b[38;5;132;01m{\u001b[39;00mbranch\u001b[38;5;241m.\u001b[39mobject_path\u001b[38;5;132;01m}\u001b[39;00m\u001b[38;5;124m has the wrong number of entries \u001b[39m\u001b[38;5;124m\"\"\"\u001b[39m\n\u001b[1;32m   3073\u001b[0m                 \u001b[38;5;124mf\u001b[39m\u001b[38;5;124m\"\"\"\u001b[39m\u001b[38;5;124m(expected \u001b[39m\u001b[38;5;132;01m{\u001b[39;00mbasket\u001b[38;5;241m.\u001b[39mnum_entries\u001b[38;5;132;01m}\u001b[39;00m\u001b[38;5;124m, obtained \u001b[39m\u001b[38;5;132;01m{\u001b[39;00m\u001b[38;5;28mlen\u001b[39m(basket_arrays[basket\u001b[38;5;241m.\u001b[39mbasket_num])\u001b[38;5;132;01m}\u001b[39;00m\u001b[38;5;124m) when interpreted as \u001b[39m\u001b[38;5;132;01m{\u001b[39;00minterpretation\u001b[38;5;132;01m}\u001b[39;00m\n\u001b[1;32m   3074\u001b[0m \u001b[38;5;124min file \u001b[39m\u001b[38;5;132;01m{\u001b[39;00mbranch\u001b[38;5;241m.\u001b[39mfile\u001b[38;5;241m.\u001b[39mfile_path\u001b[38;5;132;01m}\u001b[39;00m\u001b[38;5;124m\"\"\"\u001b[39m\n\u001b[1;32m   3075\u001b[0m             )\n",
      "File \u001b[0;32m~/coffeafcc/development/fcc-dev/lib64/python3.12/site-packages/uproot/interpretation/objects.py:162\u001b[0m, in \u001b[0;36mAsObjects.basket_array\u001b[0;34m(self, data, byte_offsets, basket, branch, context, cursor_offset, library, options)\u001b[0m\n\u001b[1;32m    151\u001b[0m \u001b[38;5;28;01massert\u001b[39;00m basket\u001b[38;5;241m.\u001b[39mbyte_offsets \u001b[38;5;129;01mis\u001b[39;00m \u001b[38;5;129;01mnot\u001b[39;00m \u001b[38;5;28;01mNone\u001b[39;00m\n\u001b[1;32m    153\u001b[0m \u001b[38;5;28;01mif\u001b[39;00m \u001b[38;5;28mself\u001b[39m\u001b[38;5;241m.\u001b[39m_forth \u001b[38;5;129;01mand\u001b[39;00m (\n\u001b[1;32m    154\u001b[0m     \u001b[38;5;28misinstance\u001b[39m(\n\u001b[1;32m    155\u001b[0m         library,\n\u001b[0;32m   (...)\u001b[0m\n\u001b[1;32m    160\u001b[0m     )\n\u001b[1;32m    161\u001b[0m ):\n\u001b[0;32m--> 162\u001b[0m     output \u001b[38;5;241m=\u001b[39m \u001b[38;5;28;43mself\u001b[39;49m\u001b[38;5;241;43m.\u001b[39;49m\u001b[43mbasket_array_forth\u001b[49m\u001b[43m(\u001b[49m\n\u001b[1;32m    163\u001b[0m \u001b[43m        \u001b[49m\u001b[43mdata\u001b[49m\u001b[43m,\u001b[49m\n\u001b[1;32m    164\u001b[0m \u001b[43m        \u001b[49m\u001b[43mbyte_offsets\u001b[49m\u001b[43m,\u001b[49m\n\u001b[1;32m    165\u001b[0m \u001b[43m        \u001b[49m\u001b[43mbasket\u001b[49m\u001b[43m,\u001b[49m\n\u001b[1;32m    166\u001b[0m \u001b[43m        \u001b[49m\u001b[43mbranch\u001b[49m\u001b[43m,\u001b[49m\n\u001b[1;32m    167\u001b[0m \u001b[43m        \u001b[49m\u001b[43mcontext\u001b[49m\u001b[43m,\u001b[49m\n\u001b[1;32m    168\u001b[0m \u001b[43m        \u001b[49m\u001b[43mcursor_offset\u001b[49m\u001b[43m,\u001b[49m\n\u001b[1;32m    169\u001b[0m \u001b[43m        \u001b[49m\u001b[43mlibrary\u001b[49m\u001b[43m,\u001b[49m\n\u001b[1;32m    170\u001b[0m \u001b[43m        \u001b[49m\u001b[43moptions\u001b[49m\u001b[43m,\u001b[49m\n\u001b[1;32m    171\u001b[0m \u001b[43m    \u001b[49m\u001b[43m)\u001b[49m\n\u001b[1;32m    173\u001b[0m \u001b[38;5;28;01melse\u001b[39;00m:\n\u001b[1;32m    174\u001b[0m     output \u001b[38;5;241m=\u001b[39m ObjectArray(\n\u001b[1;32m    175\u001b[0m         \u001b[38;5;28mself\u001b[39m\u001b[38;5;241m.\u001b[39m_model, branch, context, byte_offsets, data, cursor_offset\n\u001b[1;32m    176\u001b[0m     )\u001b[38;5;241m.\u001b[39mto_numpy()\n",
      "File \u001b[0;32m~/coffeafcc/development/fcc-dev/lib64/python3.12/site-packages/uproot/interpretation/objects.py:248\u001b[0m, in \u001b[0;36mAsObjects.basket_array_forth\u001b[0;34m(self, data, byte_offsets, basket, branch, context, cursor_offset, library, options)\u001b[0m\n\u001b[1;32m    246\u001b[0m \u001b[38;5;66;03m# this thread tries to do it!\u001b[39;00m\n\u001b[1;32m    247\u001b[0m \u001b[38;5;28;01mtry\u001b[39;00m:\n\u001b[0;32m--> 248\u001b[0m     output \u001b[38;5;241m=\u001b[39m \u001b[38;5;28;43mself\u001b[39;49m\u001b[38;5;241;43m.\u001b[39;49m\u001b[43m_discover_forth\u001b[49m\u001b[43m(\u001b[49m\n\u001b[1;32m    249\u001b[0m \u001b[43m        \u001b[49m\u001b[43mdata\u001b[49m\u001b[43m,\u001b[49m\u001b[43m \u001b[49m\u001b[43mbyte_offsets\u001b[49m\u001b[43m,\u001b[49m\u001b[43m \u001b[49m\u001b[43mbranch\u001b[49m\u001b[43m,\u001b[49m\u001b[43m \u001b[49m\u001b[43mcontext\u001b[49m\u001b[43m,\u001b[49m\u001b[43m \u001b[49m\u001b[43mcursor_offset\u001b[49m\n\u001b[1;32m    250\u001b[0m \u001b[43m    \u001b[49m\u001b[43m)\u001b[49m\n\u001b[1;32m    251\u001b[0m \u001b[38;5;28;01mexcept\u001b[39;00m CannotBeForth:\n\u001b[1;32m    252\u001b[0m     \u001b[38;5;28mself\u001b[39m\u001b[38;5;241m.\u001b[39m_forth \u001b[38;5;241m=\u001b[39m \u001b[38;5;28;01mFalse\u001b[39;00m\n",
      "File \u001b[0;32m~/coffeafcc/development/fcc-dev/lib64/python3.12/site-packages/uproot/interpretation/objects.py:408\u001b[0m, in \u001b[0;36mAsObjects._discover_forth\u001b[0;34m(self, data, byte_offsets, branch, context, cursor_offset)\u001b[0m\n\u001b[1;32m    403\u001b[0m cursor \u001b[38;5;241m=\u001b[39m uproot\u001b[38;5;241m.\u001b[39msource\u001b[38;5;241m.\u001b[39mcursor\u001b[38;5;241m.\u001b[39mCursor(\n\u001b[1;32m    404\u001b[0m     \u001b[38;5;241m0\u001b[39m, origin\u001b[38;5;241m=\u001b[39m\u001b[38;5;241m-\u001b[39m(byte_offsets[i] \u001b[38;5;241m+\u001b[39m cursor_offset)\n\u001b[1;32m    405\u001b[0m )\n\u001b[1;32m    407\u001b[0m context[\u001b[38;5;124m\"\u001b[39m\u001b[38;5;124mforth\u001b[39m\u001b[38;5;124m\"\u001b[39m]\u001b[38;5;241m.\u001b[39mgen\u001b[38;5;241m.\u001b[39mreset_active_node()\n\u001b[0;32m--> 408\u001b[0m output[i] \u001b[38;5;241m=\u001b[39m \u001b[38;5;28;43mself\u001b[39;49m\u001b[38;5;241;43m.\u001b[39;49m\u001b[43m_model\u001b[49m\u001b[38;5;241;43m.\u001b[39;49m\u001b[43mread\u001b[49m\u001b[43m(\u001b[49m\n\u001b[1;32m    409\u001b[0m \u001b[43m    \u001b[49m\u001b[43mchunk\u001b[49m\u001b[43m,\u001b[49m\u001b[43m \u001b[49m\u001b[43mcursor\u001b[49m\u001b[43m,\u001b[49m\u001b[43m \u001b[49m\u001b[43mcontext\u001b[49m\u001b[43m,\u001b[49m\u001b[43m \u001b[49m\u001b[43mbranch\u001b[49m\u001b[38;5;241;43m.\u001b[39;49m\u001b[43mfile\u001b[49m\u001b[43m,\u001b[49m\u001b[43m \u001b[49m\u001b[43mbranch\u001b[49m\u001b[38;5;241;43m.\u001b[39;49m\u001b[43mfile\u001b[49m\u001b[38;5;241;43m.\u001b[39;49m\u001b[43mdetached\u001b[49m\u001b[43m,\u001b[49m\u001b[43m \u001b[49m\u001b[43mbranch\u001b[49m\n\u001b[1;32m    410\u001b[0m \u001b[43m\u001b[49m\u001b[43m)\u001b[49m\n\u001b[1;32m    412\u001b[0m derived_form \u001b[38;5;241m=\u001b[39m context[\u001b[38;5;124m\"\u001b[39m\u001b[38;5;124mforth\u001b[39m\u001b[38;5;124m\"\u001b[39m]\u001b[38;5;241m.\u001b[39mgen\u001b[38;5;241m.\u001b[39mmodel\u001b[38;5;241m.\u001b[39mderive_form()\n\u001b[1;32m    413\u001b[0m \u001b[38;5;28;01mif\u001b[39;00m \u001b[38;5;129;01mnot\u001b[39;00m \u001b[38;5;28mself\u001b[39m\u001b[38;5;241m.\u001b[39m_any_NULL(derived_form):\n",
      "File \u001b[0;32m~/coffeafcc/development/fcc-dev/lib64/python3.12/site-packages/uproot/containers.py:727\u001b[0m, in \u001b[0;36mAsArray.read\u001b[0;34m(self, chunk, cursor, context, file, selffile, parent, header)\u001b[0m\n\u001b[1;32m    721\u001b[0m             (\n\u001b[1;32m    722\u001b[0m                 num_bytes,\n\u001b[1;32m    723\u001b[0m                 instance_version,\n\u001b[1;32m    724\u001b[0m                 is_memberwise,\n\u001b[1;32m    725\u001b[0m             ) \u001b[38;5;241m=\u001b[39m uproot\u001b[38;5;241m.\u001b[39mdeserialization\u001b[38;5;241m.\u001b[39mnumbytes_version(chunk, cursor, context)\n\u001b[1;32m    726\u001b[0m             \u001b[38;5;28;01mif\u001b[39;00m is_memberwise:\n\u001b[0;32m--> 727\u001b[0m                 \u001b[38;5;28;01mraise\u001b[39;00m \u001b[38;5;167;01mNotImplementedError\u001b[39;00m(\n\u001b[1;32m    728\u001b[0m                     \u001b[38;5;124mf\u001b[39m\u001b[38;5;124m\"\"\"\u001b[39m\u001b[38;5;124mmemberwise serialization of \u001b[39m\u001b[38;5;132;01m{\u001b[39;00m\u001b[38;5;28mtype\u001b[39m(\u001b[38;5;28mself\u001b[39m)\u001b[38;5;241m.\u001b[39m\u001b[38;5;18m__name__\u001b[39m\u001b[38;5;132;01m}\u001b[39;00m\n\u001b[1;32m    729\u001b[0m \u001b[38;5;124min file \u001b[39m\u001b[38;5;132;01m{\u001b[39;00mselffile\u001b[38;5;241m.\u001b[39mfile_path\u001b[38;5;132;01m}\u001b[39;00m\u001b[38;5;124m\"\"\"\u001b[39m\n\u001b[1;32m    730\u001b[0m                 )\n\u001b[1;32m    732\u001b[0m             \u001b[38;5;28;01mif\u001b[39;00m forth_obj \u001b[38;5;129;01mis\u001b[39;00m \u001b[38;5;129;01mnot\u001b[39;00m \u001b[38;5;28;01mNone\u001b[39;00m:\n\u001b[1;32m    733\u001b[0m                 temp_jump \u001b[38;5;241m=\u001b[39m cursor\u001b[38;5;241m.\u001b[39m_index \u001b[38;5;241m-\u001b[39m start_cursor\u001b[38;5;241m.\u001b[39m_index\n",
      "\u001b[0;31mNotImplementedError\u001b[0m: memberwise serialization of AsArray\nin file ./test_Spring2021.root"
     ]
    }
   ],
   "source": [
    "file[\"col_metadata\"][\"colMD.second._intMap\"].array()"
   ]
  },
  {
   "cell_type": "code",
   "execution_count": 96,
   "id": "7e500d51-1279-4c63-b55d-91ec287b409d",
   "metadata": {},
   "outputs": [
    {
     "name": "stdout",
     "output_type": "stream",
     "text": [
      "name                 | typename                 | interpretation                \n",
      "---------------------+--------------------------+-------------------------------\n",
      "colMD.second._floatM | std::map<std::string, st | AsObjects(AsArray(True, False,\n"
     ]
    }
   ],
   "source": [
    "file[\"col_metadata\"][\"colMD.second._floatMap\"].show()"
   ]
  },
  {
   "cell_type": "code",
   "execution_count": 97,
   "id": "9d94c50e-9b4a-4440-9a19-3711c962512f",
   "metadata": {},
   "outputs": [
    {
     "data": {
      "text/plain": [
       "'std::map<std::string, std::vector<float>>[]'"
      ]
     },
     "execution_count": 97,
     "metadata": {},
     "output_type": "execute_result"
    }
   ],
   "source": [
    "file[\"col_metadata\"][\"colMD.second._floatMap\"].typename"
   ]
  },
  {
   "cell_type": "code",
   "execution_count": 98,
   "id": "076576bf-b16a-44a0-b0f7-524643213c53",
   "metadata": {},
   "outputs": [
    {
     "name": "stdout",
     "output_type": "stream",
     "text": [
      "name                 | typename                 | interpretation                \n",
      "---------------------+--------------------------+-------------------------------\n",
      "colMD.second._string | std::map<std::string, st | AsObjects(AsArray(True, False,\n"
     ]
    }
   ],
   "source": [
    "file[\"col_metadata\"][\"colMD.second._stringMap\"].show()"
   ]
  },
  {
   "cell_type": "code",
   "execution_count": 99,
   "id": "2db90992-3c6b-4177-8e9b-77d0b64866e1",
   "metadata": {},
   "outputs": [
    {
     "data": {
      "text/plain": [
       "'std::map<std::string, std::vector<std::string>>[]'"
      ]
     },
     "execution_count": 99,
     "metadata": {},
     "output_type": "execute_result"
    }
   ],
   "source": [
    "file[\"col_metadata\"][\"colMD.second._stringMap\"].typename"
   ]
  },
  {
   "cell_type": "code",
   "execution_count": 70,
   "id": "290633cc-5756-4508-9a5f-e9188a1cd530",
   "metadata": {},
   "outputs": [
    {
     "data": {
      "text/plain": [
       "['AllMuonidx0',\n",
       " 'EFlowNeutralHadron',\n",
       " 'EFlowNeutralHadron_0',\n",
       " 'EFlowNeutralHadron_1',\n",
       " 'EFlowNeutralHadron_2',\n",
       " 'EFlowNeutralHadronidx0',\n",
       " 'EFlowNeutralHadronidx1',\n",
       " 'EFlowNeutralHadronidx2',\n",
       " 'EFlowPhoton',\n",
       " 'EFlowPhoton_0',\n",
       " 'EFlowPhoton_1',\n",
       " 'EFlowPhoton_2',\n",
       " 'EFlowPhotonidx0',\n",
       " 'EFlowPhotonidx1',\n",
       " 'EFlowPhotonidx2',\n",
       " 'EFlowTrack',\n",
       " 'EFlowTrack_0',\n",
       " 'EFlowTrack_1',\n",
       " 'EFlowTrackidx0',\n",
       " 'EFlowTrackidx1',\n",
       " 'Electronidx0',\n",
       " 'Jet',\n",
       " 'Jetidx0',\n",
       " 'Jetidx1',\n",
       " 'Jetidx2',\n",
       " 'Jetidx3',\n",
       " 'Jetidx4',\n",
       " 'Jetidx5',\n",
       " 'MCRecoAssociations',\n",
       " 'MissingET',\n",
       " 'MissingETidx0',\n",
       " 'MissingETidx1',\n",
       " 'MissingETidx2',\n",
       " 'MissingETidx3',\n",
       " 'MissingETidx4',\n",
       " 'MissingETidx5',\n",
       " 'Muonidx0',\n",
       " 'Particle',\n",
       " 'ParticleIDs',\n",
       " 'ParticleIDs_0',\n",
       " 'Particleidx0',\n",
       " 'Particleidx1',\n",
       " 'Photonidx0',\n",
       " 'ReconstructedParticles',\n",
       " 'ReconstructedParticlesidx0',\n",
       " 'ReconstructedParticlesidx1',\n",
       " 'ReconstructedParticlesidx2',\n",
       " 'ReconstructedParticlesidx3',\n",
       " 'ReconstructedParticlesidx4',\n",
       " 'ReconstructedParticlesidx5']"
      ]
     },
     "execution_count": 70,
     "metadata": {},
     "output_type": "execute_result"
    }
   ],
   "source": [
    "events.fields"
   ]
  },
  {
   "cell_type": "code",
   "execution_count": 72,
   "id": "06728997-c669-4de1-9b17-64e6d23488a8",
   "metadata": {},
   "outputs": [
    {
     "data": {
      "text/plain": [
       "['chi2',\n",
       " 'dEdx',\n",
       " 'dEdxError',\n",
       " 'ndf',\n",
       " 'radiusOfInnermostHit',\n",
       " 'subDetectorHitNumbers',\n",
       " 'trackStates',\n",
       " 'trackerHits',\n",
       " 'tracks',\n",
       " 'type']"
      ]
     },
     "execution_count": 72,
     "metadata": {},
     "output_type": "execute_result"
    }
   ],
   "source": [
    "events.EFlowTrack.fields"
   ]
  },
  {
   "cell_type": "code",
   "execution_count": null,
   "id": "e4ebb43e-a811-4a0f-b61a-56a4719e2a0b",
   "metadata": {},
   "outputs": [],
   "source": []
  }
 ],
 "metadata": {
  "kernelspec": {
   "display_name": "fcc-dev",
   "language": "python",
   "name": "fcc-dev"
  },
  "language_info": {
   "codemirror_mode": {
    "name": "ipython",
    "version": 3
   },
   "file_extension": ".py",
   "mimetype": "text/x-python",
   "name": "python",
   "nbconvert_exporter": "python",
   "pygments_lexer": "ipython3",
   "version": "3.12.4"
  }
 },
 "nbformat": 4,
 "nbformat_minor": 5
}
