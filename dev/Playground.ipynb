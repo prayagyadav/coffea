{
 "cells": [
  {
   "cell_type": "markdown",
   "id": "e495e4ae-9f65-4525-8705-71275580422c",
   "metadata": {},
   "source": [
    "# FCCSchema Showcase"
   ]
  },
  {
   "cell_type": "code",
   "execution_count": 1,
   "id": "0d666575-5e88-4dcf-98ed-3954fb9091ef",
   "metadata": {},
   "outputs": [
    {
     "name": "stdout",
     "output_type": "stream",
     "text": [
      "Coffea Development : 0.1.dev3583+ge06c4b8\n",
      "Modified by : Prayag Yadav\n"
     ]
    }
   ],
   "source": [
    "import coffea\n",
    "print(f\"Coffea Development : {coffea.__version__}\\nModified by : {coffea.__mod__}\")"
   ]
  },
  {
   "cell_type": "markdown",
   "id": "480c9d3b-ef43-4dcc-993d-0cf8d8cb0dcd",
   "metadata": {},
   "source": [
    "## Some comments"
   ]
  },
  {
   "cell_type": "markdown",
   "id": "1682bb0f-ce04-4886-916c-4053ff045f63",
   "metadata": {},
   "source": [
    "- This is a first attempt to build a useful Schema for FCC Event samples\n",
    "- I have considered the Spring 2021 samples to build the schema\n",
    "- The EDM4HEP schema by @jbrewster7 and @lgray was incompatible to the FCC events in many aspects:\n",
    "    - Even though FCC Events are built on edm4hep classes, the names of the branches are different.\n",
    "    - The FCC Events have indexed branches like Electron#0, that are not accomodated in the EDM4HEP schema\n",
    "    - The EDM4HEP Schema defines some special classes like Track, Cluster, RecoParticle and MCTruthParticle. I don't understand the purpose of all them but Reco Particle and MCTruthParticle.\n",
    "- RecoParticle and MCTruthParticle are mixin classes defined in the coffea/nanoevents/methods/fcc.py\n",
    "- RecoParticle and MCTruthParticle inherit from LorentzVector, so the branches having those record names, can utilize LorentzVector functions"
   ]
  },
  {
   "cell_type": "markdown",
   "id": "777148b3-d31b-4ce7-b97d-e4ce57ffb4ef",
   "metadata": {},
   "source": [
    "## Load the data"
   ]
  },
  {
   "cell_type": "code",
   "execution_count": 7,
   "id": "88d37a84-86e3-4352-a39c-38472aa5fcaa",
   "metadata": {},
   "outputs": [],
   "source": [
    "test_file = 'root://eospublic.cern.ch//eos/experiment/fcc/ee/generation/DelphesEvents/spring2021/IDEA/p8_ee_ZH_ecm240/events_101027117.root'\n",
    "from coffea.nanoevents import NanoEventsFactory, FCCSchema\n",
    "events = NanoEventsFactory.from_root(\n",
    "    test_file+\":events\",\n",
    "    entry_stop=10000,\n",
    "    schemaclass=FCCSchema,\n",
    "    delayed=True #Delayed=False doesn't work, more info in later sections\n",
    ").events()"
   ]
  },
  {
   "cell_type": "markdown",
   "id": "a5760a1c-d8fd-42a1-9cb2-c2fec6a40296",
   "metadata": {},
   "source": [
    "The numbers of fields in events has reduced as a result of all the collecting."
   ]
  },
  {
   "cell_type": "code",
   "execution_count": 12,
   "id": "23f036f7-3833-42b6-afd2-bc4ba3b3d58b",
   "metadata": {},
   "outputs": [
    {
     "data": {
      "text/plain": [
       "['Particleidx',\n",
       " 'MissingETidx',\n",
       " 'AllMuonidx',\n",
       " 'EFlowTrackidx',\n",
       " 'Muonidx',\n",
       " 'ReconstructedParticlesidx',\n",
       " 'EFlowPhotonidx',\n",
       " 'MCRecoAssociationsidx',\n",
       " 'Photonidx',\n",
       " 'EFlowNeutralHadronidx',\n",
       " 'Jetidx',\n",
       " 'Electronidx',\n",
       " 'MissingET',\n",
       " 'ParticleIDs',\n",
       " 'EFlowPhoton',\n",
       " 'ReconstructedParticles',\n",
       " 'Jet',\n",
       " 'EFlowTrack',\n",
       " 'MCRecoAssociations',\n",
       " 'Particle',\n",
       " 'EFlowNeutralHadron',\n",
       " 'EFlowTrack_1']"
      ]
     },
     "execution_count": 12,
     "metadata": {},
     "output_type": "execute_result"
    }
   ],
   "source": [
    "events.fields"
   ]
  },
  {
   "cell_type": "markdown",
   "id": "82a8ca2e-f383-48cb-8f36-bdcf90b85bc8",
   "metadata": {},
   "source": [
    "## Indexed fields\n",
    "- All the index fields like Jet#0, Jet#1 etc have renamed to Jetidx0, Jetidx1 etc and zipped together into the Jetidx branch"
   ]
  },
  {
   "cell_type": "code",
   "execution_count": 13,
   "id": "aede33fa-c81f-4850-9466-ea8d629bb304",
   "metadata": {},
   "outputs": [
    {
     "data": {
      "text/plain": [
       "['Jetidx4', 'Jetidx2', 'Jetidx3', 'Jetidx5', 'Jetidx1', 'Jetidx0']"
      ]
     },
     "execution_count": 13,
     "metadata": {},
     "output_type": "execute_result"
    }
   ],
   "source": [
    "events.Jetidx.fields"
   ]
  },
  {
   "cell_type": "code",
   "execution_count": 14,
   "id": "fc952d6f-ec10-455c-a25e-67266b829bda",
   "metadata": {},
   "outputs": [
    {
     "data": {
      "text/plain": [
       "['index', 'collectionID']"
      ]
     },
     "execution_count": 14,
     "metadata": {},
     "output_type": "execute_result"
    }
   ],
   "source": [
    "events.Jetidx.Jetidx0.fields"
   ]
  },
  {
   "cell_type": "code",
   "execution_count": 16,
   "id": "c099440f-3f66-4544-9d78-390b4e37f2fd",
   "metadata": {},
   "outputs": [
    {
     "data": {
      "text/html": [
       "<pre>[[],\n",
       " [],\n",
       " [],\n",
       " [0],\n",
       " [],\n",
       " [],\n",
       " [],\n",
       " [],\n",
       " [2],\n",
       " [],\n",
       " ...,\n",
       " [],\n",
       " [],\n",
       " [],\n",
       " [],\n",
       " [23],\n",
       " [],\n",
       " [],\n",
       " [],\n",
       " []]\n",
       "--------------------------------------------------------------------\n",
       "type: 100000 * var * int32[parameters={&quot;__doc__&quot;: &quot;index[Muon#0_]&quot;}]</pre>"
      ],
      "text/plain": [
       "<Array [[], [], [], [0], ..., [], [], [], []] type='100000 * var * int32[pa...'>"
      ]
     },
     "execution_count": 16,
     "metadata": {},
     "output_type": "execute_result"
    }
   ],
   "source": [
    "events.Muonidx.Muonidx0.index.compute()"
   ]
  },
  {
   "cell_type": "markdown",
   "id": "7f0a167c-185d-4361-9a35-41440251638a",
   "metadata": {},
   "source": [
    "## Mixin class support\n",
    "- A dictionary in the coffea/nanoevents/schemas/fcc.py defines the mixin mapping, i.e., it defines the behavior of each branch\n",
    "- By default, the branches behave like a simple NanoCollection object"
   ]
  },
  {
   "cell_type": "code",
   "execution_count": 18,
   "id": "09312097-ab77-488f-9dc8-9bd5f0ab7f28",
   "metadata": {},
   "outputs": [
    {
     "name": "stdout",
     "output_type": "stream",
     "text": [
      "Particleidx :  NanoCollection\n",
      "MissingETidx :  NanoCollection\n",
      "AllMuonidx :  NanoCollection\n",
      "EFlowTrackidx :  NanoCollection\n",
      "Muonidx :  NanoCollection\n",
      "ReconstructedParticlesidx :  NanoCollection\n",
      "EFlowPhotonidx :  NanoCollection\n",
      "MCRecoAssociationsidx :  NanoCollection\n",
      "Photonidx :  NanoCollection\n",
      "EFlowNeutralHadronidx :  NanoCollection\n",
      "Jetidx :  NanoCollection\n",
      "Electronidx :  NanoCollection\n",
      "MissingET :  RecoParticle\n",
      "ParticleIDs :  NanoCollection\n",
      "EFlowPhoton :  NanoCollection\n",
      "ReconstructedParticles :  RecoParticle\n",
      "Jet :  RecoParticle\n",
      "EFlowTrack :  Cluster\n",
      "MCRecoAssociations :  NanoCollection\n",
      "Particle :  MCTruthParticle\n",
      "EFlowNeutralHadron :  NanoCollection\n",
      "EFlowTrack_1 :  NanoCollection\n"
     ]
    }
   ],
   "source": [
    "# Get the class of all the collected branches\n",
    "for field in events.fields:\n",
    "    print(f\"{field} : \", events[field].layout.content.parameter(\"__record__\"))"
   ]
  },
  {
   "cell_type": "markdown",
   "id": "a4b794c0-b84c-4772-b0e0-92deb0ce9b7c",
   "metadata": {},
   "source": [
    "As an example, ReconstructedParticles branch behaves like a 'RecoParticle' class object and hence has a LorentzVector behaviour"
   ]
  },
  {
   "cell_type": "code",
   "execution_count": 26,
   "id": "d7ab5747-3a80-4423-91ea-cb8c481a9ed3",
   "metadata": {},
   "outputs": [
    {
     "data": {
      "text/plain": [
       "'RecoParticle'"
      ]
     },
     "execution_count": 26,
     "metadata": {},
     "output_type": "execute_result"
    }
   ],
   "source": [
    "events.ReconstructedParticles.layout.content.parameter(\"__record__\")"
   ]
  },
  {
   "cell_type": "code",
   "execution_count": 19,
   "id": "4a5170a3-f95f-4792-9624-0ed23f00f882",
   "metadata": {},
   "outputs": [
    {
     "data": {
      "text/plain": [
       "['type',\n",
       " 'E',\n",
       " 'x',\n",
       " 'y',\n",
       " 'z',\n",
       " 'referencePoint.x',\n",
       " 'referencePoint.y',\n",
       " 'referencePoint.z',\n",
       " 'charge',\n",
       " 'mass',\n",
       " 'goodnessOfPID',\n",
       " 'covMatrix[10]',\n",
       " 'clusters_begin',\n",
       " 'clusters_end',\n",
       " 'tracks_begin',\n",
       " 'tracks_end',\n",
       " 'particles_begin',\n",
       " 'particles_end',\n",
       " 'particleIDs_begin',\n",
       " 'particleIDs_end']"
      ]
     },
     "execution_count": 19,
     "metadata": {},
     "output_type": "execute_result"
    }
   ],
   "source": [
    "events.ReconstructedParticles.fields"
   ]
  },
  {
   "cell_type": "code",
   "execution_count": 22,
   "id": "a6c0ae23-ef2e-4423-891b-12c1862d7838",
   "metadata": {},
   "outputs": [
    {
     "data": {
      "text/html": [
       "<pre>[[0.369, 0.415, 2.44, 0.949, 1.02, 1.88, ..., 3.02, 4.22, 4.83, 1.01, 0.933],\n",
       " [0.164, 0.262, 0.616, 0.318, 7.99, 0.581, ..., 1.15, 1.22, 0.338, 0.09, 0.487],\n",
       " [0.397, 0.412, 2.42, 0.584, 0.626, ..., 0.124, 0.128, 0.238, 0.307, 0.0872],\n",
       " [61.1, 2.54, 1.22, 2.17, 2.99, 3.21, ..., 1.98, 1.47, 0.435, 5.17, 1.35, 1.95],\n",
       " [0.671, 0.319, 0.321, 0.239, 0.243, ..., 0.465, 0.315, 0.702, 0.268, 0.221],\n",
       " [12, 13.7, 10.4],\n",
       " [0.512, 1.16, 13.3, 2.57, 0.733, 1.8, ..., 3.97, 0.462, 2.22, 0.42, 1.61],\n",
       " [0.48, 0.351, 0.274, 0.201, 0.453, ..., 0.134, 0.275, 0.229, 0.445, 0.143],\n",
       " [0.867, 7.29, 16, 27, 18.8, 1.25, ..., 0.505, 1.71, 0.994, 3.64, 2.95, 3.77],\n",
       " [0.437, 0.155, 1.26, 1.43, 3.86, 1.04, ..., 0.68, 0.628, 0.758, 1.73, 0.989],\n",
       " ...,\n",
       " [0.418, 0.615, 0.374, 0.571, 0.463, ..., 0.667, 1.52, 0.341, 0.481, 0.517],\n",
       " [5.71, 0.952, 3.05, 2.91, 1.16, 2.58, ..., 6.87, 1.11, 0.906, 0.92, 0.595],\n",
       " [0.854, 0.197, 0.222, 1.87, 1.47, ..., 0.515, 0.545, 1.83, 0.161, 0.258],\n",
       " [0.336, 0.509, 0.357, 0.644, 0.507, ..., 0.921, 0.817, 0.423, 7.5, 0.585],\n",
       " [0.384, 0.214, 0.356, 0.245, 0.297, ..., 1.52, 0.781, 0.408, 0.466, 0.453],\n",
       " [0.528, 0.34, 1.43, 0.546, 2.56, 7.92, ..., 3.07, 0.404, 1.13, 0.741, 0.385],\n",
       " [1.06, 0.541, 0.822, 5.93, 7.21, 1.55, ..., 3.83, 0.397, 1.32, 1.49, 0.0936],\n",
       " [0.413, 0.298, 0.291, 5.3, 0.392, ..., 0.712, 0.106, 0.144, 0.0966, 0.259],\n",
       " [0.137, 4.56, 0.328, 4.65, 7.72, 0.468, ..., 2.71, 4.38, 0.515, 6.14, 0.148]]\n",
       "--------------------------------------------------------------------------------\n",
       "type: 100000 * var * float32</pre>"
      ],
      "text/plain": [
       "<Array [[0.369, 0.415, ..., 1.01, 0.933], ...] type='100000 * var * float32'>"
      ]
     },
     "execution_count": 22,
     "metadata": {},
     "output_type": "execute_result"
    }
   ],
   "source": [
    "events.ReconstructedParticles.pt.compute() #unavailable field, but possible to get, by the virtue of RecoParticle inheriting from the LorentzVector class"
   ]
  },
  {
   "cell_type": "markdown",
   "id": "41f50fd4-a778-4e62-b9ef-8715d4751918",
   "metadata": {},
   "source": [
    "Extra Methods for the RecoParticle could be defined easily. \n",
    "Similar to RecoParticle, the Particle branch is a MCTruthParticle class"
   ]
  },
  {
   "cell_type": "code",
   "execution_count": 27,
   "id": "bddb7fd0-3b8c-45e9-87a8-0c729903e511",
   "metadata": {},
   "outputs": [
    {
     "data": {
      "text/plain": [
       "'MCTruthParticle'"
      ]
     },
     "execution_count": 27,
     "metadata": {},
     "output_type": "execute_result"
    }
   ],
   "source": [
    "events.Particle.layout.content.parameter(\"__record__\")"
   ]
  },
  {
   "cell_type": "code",
   "execution_count": 23,
   "id": "f564f3f7-7077-4faa-9417-efeddac682a0",
   "metadata": {},
   "outputs": [
    {
     "data": {
      "text/plain": [
       "['PDG',\n",
       " 'generatorStatus',\n",
       " 'simulatorStatus',\n",
       " 'charge',\n",
       " 'time',\n",
       " 'mass',\n",
       " 'vertex.x',\n",
       " 'vertex.y',\n",
       " 'vertex.z',\n",
       " 'endpoint.x',\n",
       " 'endpoint.y',\n",
       " 'endpoint.z',\n",
       " 'x',\n",
       " 'y',\n",
       " 'z',\n",
       " 'momentumAtEndpoint.x',\n",
       " 'momentumAtEndpoint.y',\n",
       " 'momentumAtEndpoint.z',\n",
       " 'spin.x',\n",
       " 'spin.y',\n",
       " 'spin.z',\n",
       " 'colorFlow.a',\n",
       " 'colorFlow.b',\n",
       " 'parents_begin',\n",
       " 'parents_end',\n",
       " 'daughters_begin',\n",
       " 'daughters_end']"
      ]
     },
     "execution_count": 23,
     "metadata": {},
     "output_type": "execute_result"
    }
   ],
   "source": [
    "events.Particle.fields"
   ]
  },
  {
   "cell_type": "code",
   "execution_count": 25,
   "id": "bc9c1a0f-35a2-4982-a485-83da680523fc",
   "metadata": {},
   "outputs": [
    {
     "data": {
      "text/html": [
       "<pre>[[0, 0, 0, 0, 51.6, 51.6, 0, ..., 0.297, 4.08, 0.294, 0.617, 0.616, 1.42],\n",
       " [0, 0, 0, 0, 30, 30, 4.98e-18, ..., 0.256, 0.335, 0.119, 0.582, 1.41, 1.58],\n",
       " [0, 0, 0, 0, 27.4, 27.4, 4.31e-14, ..., 2.16, 0.911, 0.425, 1.47, 0.108, 0.59],\n",
       " [0, 0, 0, 0, 45.9, 45.9, 0, 0, ..., 0.308, 6.07, 3.39, 4.65, 1.42, 2.07, 1.32],\n",
       " [0, 0, 0, 0, 46.9, 46.9, 2.4e-17, ..., 1.01, 3.22, 2.12, 1.1, 0.303, 13, 5.21],\n",
       " [0, 0, 0, 0, 46.7, 46.7, 3.66e-14, ..., 12, 9.1, 17, 10.6, 13.7, 10.4, 0.202],\n",
       " [0, 0, 0, 0, 33, 33, 4.26e-14, ..., 9.15, 6.22, 3.03, 0.426, 1.42, 1.41, 7.75],\n",
       " [0, 0, 0, 0, 50.7, 50.7, 1.45e-19, ..., 0.313, 3.77, 2.6, 5.41, 4.38, 1.03],\n",
       " [0, 0, 0, 0, 21.1, 21.1, ..., 0.12, 2.57, 0.272, 0.0927, 1.63, 0.608],\n",
       " [0, 0, 0, 0, 51.3, 51.3, 2.8e-20, ..., 2, 14.1, 14.7, 8.44, 1.1, 4.9, 0.666],\n",
       " ...,\n",
       " [0, 0, 0, 0, 35.1, 35.1, 3.53e-19, ..., 3.44, 1.6, 2.79, 0.49, 0.815, 0.932],\n",
       " [0, 0, 0, 0, 36.4, 36.4, 1.57e-14, ..., 0.953, 23.9, 1.3, 0.619, 4.62, 19.3],\n",
       " [0, 0, 0, 0, 30.4, 30.4, 0, ..., 2.4, 1.34, 0.261, 0.104, 0.653, 0.00599],\n",
       " [0, 0, 0, 0, 37.8, 37.8, 2.3e-14, ..., 8.88, 2.22, 4.55, 8.24, 0.657, 8.24],\n",
       " [0, 0, 0, 0, 38.6, 38.6, ..., 0.385, 0.443, 0.263, 1.35, 0.00834, 0.437],\n",
       " [0, 0, 0, 0, 46.8, 46.8, 2e-17, ..., 6.08, 2.41, 0.0382, 0.202, 0.201, 2.21],\n",
       " [0, 0, 0, 0, 19.9, 19.9, 0, 0, ..., 0.305, 2.66, 4.2, 1.35, 1.31, 4.03, 0.175],\n",
       " [0, 0, 0, 0, 31.3, 31.3, ..., 0.0726, 0.948, 0.0232, 0.0599, 0.269, 0.687],\n",
       " [0, 0, 0, 0, 32.4, 32.4, 3.04e-14, ..., 2.75, 4.53, 0.473, 1.66, 0.378, 0.137]]\n",
       "--------------------------------------------------------------------------------\n",
       "type: 100000 * var * float32</pre>"
      ],
      "text/plain": [
       "<Array [[0, 0, 0, ..., 0.617, 0.616, 1.42], ...] type='100000 * var * float32'>"
      ]
     },
     "execution_count": 25,
     "metadata": {},
     "output_type": "execute_result"
    }
   ],
   "source": [
    "events.Particle.pt.compute()"
   ]
  },
  {
   "cell_type": "markdown",
   "id": "78d31201-8d6b-4700-a329-8ea59e8312d6",
   "metadata": {},
   "source": [
    "## Things to work on\n",
    "- Create special classmethods to associate the index branches to their corresponding associated collections\n",
    "  For example Muons = events.ReconstructedParticle.somefunction(events.Muonidx.Muonix0)\n",
    "- Work on Associating Generated particles with their children and parent particles\n",
    "- Work on Associating MC and Reco particles\n",
    "- Understand the edm4hep structure that edm4schema schema tries to model(Although i could not find consistent info on this, i might some help on this)\n",
    "- Fix some bugs(see below)"
   ]
  },
  {
   "cell_type": "markdown",
   "id": "0db15d3e-9e33-4baa-9e63-8ccf27f049a2",
   "metadata": {},
   "source": [
    "## Some bugs and Issues"
   ]
  },
  {
   "cell_type": "markdown",
   "id": "a0e7011e-49b5-4d8b-8c49-3adae9503816",
   "metadata": {},
   "source": [
    "- No dask-free functionality"
   ]
  },
  {
   "cell_type": "code",
   "execution_count": 29,
   "id": "41271943-179f-4b47-a5d7-a529721dec27",
   "metadata": {
    "scrolled": true
   },
   "outputs": [
    {
     "ename": "TypeError",
     "evalue": "size of array (331938) is less than size of form (606222)",
     "output_type": "error",
     "traceback": [
      "\u001b[0;31m---------------------------------------------------------------------------\u001b[0m",
      "\u001b[0;31mTypeError\u001b[0m                                 Traceback (most recent call last)",
      "Cell \u001b[0;32mIn[29], line 9\u001b[0m\n\u001b[1;32m      2\u001b[0m test_file \u001b[38;5;241m=\u001b[39m \u001b[38;5;124m'\u001b[39m\u001b[38;5;124m../../../coffea-fcc-analyses/data/p8_ee_ZH_ecm240/events_082532938a.root\u001b[39m\u001b[38;5;124m'\u001b[39m\n\u001b[1;32m      3\u001b[0m \u001b[38;5;28;01mfrom\u001b[39;00m \u001b[38;5;21;01mcoffea\u001b[39;00m\u001b[38;5;21;01m.\u001b[39;00m\u001b[38;5;21;01mnanoevents\u001b[39;00m \u001b[38;5;28;01mimport\u001b[39;00m NanoEventsFactory, FCCSchema\n\u001b[1;32m      4\u001b[0m events \u001b[38;5;241m=\u001b[39m \u001b[43mNanoEventsFactory\u001b[49m\u001b[38;5;241;43m.\u001b[39;49m\u001b[43mfrom_root\u001b[49m\u001b[43m(\u001b[49m\n\u001b[1;32m      5\u001b[0m \u001b[43m    \u001b[49m\u001b[43mtest_file\u001b[49m\u001b[38;5;241;43m+\u001b[39;49m\u001b[38;5;124;43m\"\u001b[39;49m\u001b[38;5;124;43m:events\u001b[39;49m\u001b[38;5;124;43m\"\u001b[39;49m\u001b[43m,\u001b[49m\n\u001b[1;32m      6\u001b[0m \u001b[43m    \u001b[49m\u001b[43mentry_stop\u001b[49m\u001b[38;5;241;43m=\u001b[39;49m\u001b[38;5;241;43m10000\u001b[39;49m\u001b[43m,\u001b[49m\n\u001b[1;32m      7\u001b[0m \u001b[43m    \u001b[49m\u001b[43mschemaclass\u001b[49m\u001b[38;5;241;43m=\u001b[39;49m\u001b[43mFCCSchema\u001b[49m\u001b[43m,\u001b[49m\n\u001b[1;32m      8\u001b[0m \u001b[43m    \u001b[49m\u001b[43mdelayed\u001b[49m\u001b[38;5;241;43m=\u001b[39;49m\u001b[38;5;28;43;01mFalse\u001b[39;49;00m\u001b[43m \u001b[49m\u001b[38;5;66;43;03m#Delayed=False doesn't work, and i cant understand why\u001b[39;49;00m\n\u001b[0;32m----> 9\u001b[0m \u001b[43m)\u001b[49m\u001b[38;5;241;43m.\u001b[39;49m\u001b[43mevents\u001b[49m\u001b[43m(\u001b[49m\u001b[43m)\u001b[49m\n",
      "File \u001b[0;32m~/coffeafcc/development/coffea/src/coffea/nanoevents/factory.py:695\u001b[0m, in \u001b[0;36mNanoEventsFactory.events\u001b[0;34m(self)\u001b[0m\n\u001b[1;32m    693\u001b[0m events \u001b[38;5;241m=\u001b[39m \u001b[38;5;28mself\u001b[39m\u001b[38;5;241m.\u001b[39m_events()\n\u001b[1;32m    694\u001b[0m \u001b[38;5;28;01mif\u001b[39;00m events \u001b[38;5;129;01mis\u001b[39;00m \u001b[38;5;28;01mNone\u001b[39;00m:\n\u001b[0;32m--> 695\u001b[0m     events \u001b[38;5;241m=\u001b[39m \u001b[43mawkward\u001b[49m\u001b[38;5;241;43m.\u001b[39;49m\u001b[43mfrom_buffers\u001b[49m\u001b[43m(\u001b[49m\n\u001b[1;32m    696\u001b[0m \u001b[43m        \u001b[49m\u001b[38;5;28;43mself\u001b[39;49m\u001b[38;5;241;43m.\u001b[39;49m\u001b[43m_schema\u001b[49m\u001b[38;5;241;43m.\u001b[39;49m\u001b[43mform\u001b[49m\u001b[43m,\u001b[49m\n\u001b[1;32m    697\u001b[0m \u001b[43m        \u001b[49m\u001b[38;5;28;43mlen\u001b[39;49m\u001b[43m(\u001b[49m\u001b[38;5;28;43mself\u001b[39;49m\u001b[43m)\u001b[49m\u001b[43m,\u001b[49m\n\u001b[1;32m    698\u001b[0m \u001b[43m        \u001b[49m\u001b[38;5;28;43mself\u001b[39;49m\u001b[38;5;241;43m.\u001b[39;49m\u001b[43m_mapping\u001b[49m\u001b[43m,\u001b[49m\n\u001b[1;32m    699\u001b[0m \u001b[43m        \u001b[49m\u001b[43mbuffer_key\u001b[49m\u001b[38;5;241;43m=\u001b[39;49m\u001b[43mpartial\u001b[49m\u001b[43m(\u001b[49m\u001b[43m_key_formatter\u001b[49m\u001b[43m,\u001b[49m\u001b[43m \u001b[49m\u001b[38;5;28;43mself\u001b[39;49m\u001b[38;5;241;43m.\u001b[39;49m\u001b[43m_partition_key\u001b[49m\u001b[43m)\u001b[49m\u001b[43m,\u001b[49m\n\u001b[1;32m    700\u001b[0m \u001b[43m        \u001b[49m\u001b[43mbehavior\u001b[49m\u001b[38;5;241;43m=\u001b[39;49m\u001b[38;5;28;43mself\u001b[39;49m\u001b[38;5;241;43m.\u001b[39;49m\u001b[43m_schema\u001b[49m\u001b[38;5;241;43m.\u001b[39;49m\u001b[43mbehavior\u001b[49m\u001b[43m(\u001b[49m\u001b[43m)\u001b[49m\u001b[43m,\u001b[49m\n\u001b[1;32m    701\u001b[0m \u001b[43m        \u001b[49m\u001b[43mattrs\u001b[49m\u001b[38;5;241;43m=\u001b[39;49m\u001b[43m{\u001b[49m\u001b[38;5;124;43m\"\u001b[39;49m\u001b[38;5;124;43m@events_factory\u001b[39;49m\u001b[38;5;124;43m\"\u001b[39;49m\u001b[43m:\u001b[49m\u001b[43m \u001b[49m\u001b[38;5;28;43mself\u001b[39;49m\u001b[43m}\u001b[49m\u001b[43m,\u001b[49m\n\u001b[1;32m    702\u001b[0m \u001b[43m    \u001b[49m\u001b[43m)\u001b[49m\n\u001b[1;32m    703\u001b[0m     \u001b[38;5;28mself\u001b[39m\u001b[38;5;241m.\u001b[39m_events \u001b[38;5;241m=\u001b[39m weakref\u001b[38;5;241m.\u001b[39mref(events)\n\u001b[1;32m    705\u001b[0m \u001b[38;5;28;01mreturn\u001b[39;00m events\n",
      "File \u001b[0;32m~/coffeafcc/development/fcc-dev/lib64/python3.12/site-packages/awkward/_dispatch.py:39\u001b[0m, in \u001b[0;36mnamed_high_level_function.<locals>.dispatch\u001b[0;34m(*args, **kwargs)\u001b[0m\n\u001b[1;32m     35\u001b[0m \u001b[38;5;129m@wraps\u001b[39m(func)\n\u001b[1;32m     36\u001b[0m \u001b[38;5;28;01mdef\u001b[39;00m \u001b[38;5;21mdispatch\u001b[39m(\u001b[38;5;241m*\u001b[39margs, \u001b[38;5;241m*\u001b[39m\u001b[38;5;241m*\u001b[39mkwargs):\n\u001b[1;32m     37\u001b[0m     \u001b[38;5;66;03m# NOTE: this decorator assumes that the operation is exposed under `ak.`\u001b[39;00m\n\u001b[1;32m     38\u001b[0m     \u001b[38;5;28;01mwith\u001b[39;00m OperationErrorContext(name, args, kwargs):\n\u001b[0;32m---> 39\u001b[0m         gen_or_result \u001b[38;5;241m=\u001b[39m \u001b[43mfunc\u001b[49m\u001b[43m(\u001b[49m\u001b[38;5;241;43m*\u001b[39;49m\u001b[43margs\u001b[49m\u001b[43m,\u001b[49m\u001b[43m \u001b[49m\u001b[38;5;241;43m*\u001b[39;49m\u001b[38;5;241;43m*\u001b[39;49m\u001b[43mkwargs\u001b[49m\u001b[43m)\u001b[49m\n\u001b[1;32m     40\u001b[0m         \u001b[38;5;28;01mif\u001b[39;00m isgenerator(gen_or_result):\n\u001b[1;32m     41\u001b[0m             array_likes \u001b[38;5;241m=\u001b[39m \u001b[38;5;28mnext\u001b[39m(gen_or_result)\n",
      "File \u001b[0;32m~/coffeafcc/development/fcc-dev/lib64/python3.12/site-packages/awkward/operations/ak_from_buffers.py:103\u001b[0m, in \u001b[0;36mfrom_buffers\u001b[0;34m(form, length, container, buffer_key, backend, byteorder, allow_noncanonical_form, highlevel, behavior, attrs)\u001b[0m\n\u001b[1;32m     25\u001b[0m \u001b[38;5;129m@high_level_function\u001b[39m()\n\u001b[1;32m     26\u001b[0m \u001b[38;5;28;01mdef\u001b[39;00m \u001b[38;5;21mfrom_buffers\u001b[39m(\n\u001b[1;32m     27\u001b[0m     form,\n\u001b[0;32m   (...)\u001b[0m\n\u001b[1;32m     37\u001b[0m     attrs\u001b[38;5;241m=\u001b[39m\u001b[38;5;28;01mNone\u001b[39;00m,\n\u001b[1;32m     38\u001b[0m ):\n\u001b[1;32m     39\u001b[0m \u001b[38;5;250m    \u001b[39m\u001b[38;5;124;03m\"\"\"\u001b[39;00m\n\u001b[1;32m     40\u001b[0m \u001b[38;5;124;03m    Args:\u001b[39;00m\n\u001b[1;32m     41\u001b[0m \u001b[38;5;124;03m        form (#ak.forms.Form or str/dict equivalent): The form of the Awkward\u001b[39;00m\n\u001b[0;32m   (...)\u001b[0m\n\u001b[1;32m    101\u001b[0m \u001b[38;5;124;03m    See #ak.to_buffers for examples.\u001b[39;00m\n\u001b[1;32m    102\u001b[0m \u001b[38;5;124;03m    \"\"\"\u001b[39;00m\n\u001b[0;32m--> 103\u001b[0m     \u001b[38;5;28;01mreturn\u001b[39;00m \u001b[43m_impl\u001b[49m\u001b[43m(\u001b[49m\n\u001b[1;32m    104\u001b[0m \u001b[43m        \u001b[49m\u001b[43mform\u001b[49m\u001b[43m,\u001b[49m\n\u001b[1;32m    105\u001b[0m \u001b[43m        \u001b[49m\u001b[43mlength\u001b[49m\u001b[43m,\u001b[49m\n\u001b[1;32m    106\u001b[0m \u001b[43m        \u001b[49m\u001b[43mcontainer\u001b[49m\u001b[43m,\u001b[49m\n\u001b[1;32m    107\u001b[0m \u001b[43m        \u001b[49m\u001b[43mbuffer_key\u001b[49m\u001b[43m,\u001b[49m\n\u001b[1;32m    108\u001b[0m \u001b[43m        \u001b[49m\u001b[43mbackend\u001b[49m\u001b[43m,\u001b[49m\n\u001b[1;32m    109\u001b[0m \u001b[43m        \u001b[49m\u001b[43mbyteorder\u001b[49m\u001b[43m,\u001b[49m\n\u001b[1;32m    110\u001b[0m \u001b[43m        \u001b[49m\u001b[43mhighlevel\u001b[49m\u001b[43m,\u001b[49m\n\u001b[1;32m    111\u001b[0m \u001b[43m        \u001b[49m\u001b[43mbehavior\u001b[49m\u001b[43m,\u001b[49m\n\u001b[1;32m    112\u001b[0m \u001b[43m        \u001b[49m\u001b[43mattrs\u001b[49m\u001b[43m,\u001b[49m\n\u001b[1;32m    113\u001b[0m \u001b[43m        \u001b[49m\u001b[43mallow_noncanonical_form\u001b[49m\u001b[43m,\u001b[49m\n\u001b[1;32m    114\u001b[0m \u001b[43m    \u001b[49m\u001b[43m)\u001b[49m\n",
      "File \u001b[0;32m~/coffeafcc/development/fcc-dev/lib64/python3.12/site-packages/awkward/operations/ak_from_buffers.py:149\u001b[0m, in \u001b[0;36m_impl\u001b[0;34m(form, length, container, buffer_key, backend, byteorder, highlevel, behavior, attrs, simplify)\u001b[0m\n\u001b[1;32m    143\u001b[0m     \u001b[38;5;28;01mraise\u001b[39;00m \u001b[38;5;167;01mTypeError\u001b[39;00m(\n\u001b[1;32m    144\u001b[0m         \u001b[38;5;124m\"\u001b[39m\u001b[38;5;124m'\u001b[39m\u001b[38;5;124mform\u001b[39m\u001b[38;5;124m'\u001b[39m\u001b[38;5;124m argument must be a Form or its Python dict/JSON string representation\u001b[39m\u001b[38;5;124m\"\u001b[39m\n\u001b[1;32m    145\u001b[0m     )\n\u001b[1;32m    147\u001b[0m getkey \u001b[38;5;241m=\u001b[39m regularize_buffer_key(buffer_key)\n\u001b[0;32m--> 149\u001b[0m out \u001b[38;5;241m=\u001b[39m \u001b[43m_reconstitute\u001b[49m\u001b[43m(\u001b[49m\u001b[43mform\u001b[49m\u001b[43m,\u001b[49m\u001b[43m \u001b[49m\u001b[43mlength\u001b[49m\u001b[43m,\u001b[49m\u001b[43m \u001b[49m\u001b[43mcontainer\u001b[49m\u001b[43m,\u001b[49m\u001b[43m \u001b[49m\u001b[43mgetkey\u001b[49m\u001b[43m,\u001b[49m\u001b[43m \u001b[49m\u001b[43mbackend\u001b[49m\u001b[43m,\u001b[49m\u001b[43m \u001b[49m\u001b[43mbyteorder\u001b[49m\u001b[43m,\u001b[49m\u001b[43m \u001b[49m\u001b[43msimplify\u001b[49m\u001b[43m)\u001b[49m\n\u001b[1;32m    151\u001b[0m \u001b[38;5;28;01mreturn\u001b[39;00m wrap_layout(out, highlevel\u001b[38;5;241m=\u001b[39mhighlevel, attrs\u001b[38;5;241m=\u001b[39mattrs, behavior\u001b[38;5;241m=\u001b[39mbehavior)\n",
      "File \u001b[0;32m~/coffeafcc/development/fcc-dev/lib64/python3.12/site-packages/awkward/operations/ak_from_buffers.py:404\u001b[0m, in \u001b[0;36m_reconstitute\u001b[0;34m(form, length, container, getkey, backend, byteorder, simplify)\u001b[0m\n\u001b[1;32m    395\u001b[0m     \u001b[38;5;28;01mreturn\u001b[39;00m ak\u001b[38;5;241m.\u001b[39mcontents\u001b[38;5;241m.\u001b[39mRegularArray(\n\u001b[1;32m    396\u001b[0m         content,\n\u001b[1;32m    397\u001b[0m         form\u001b[38;5;241m.\u001b[39msize,\n\u001b[1;32m    398\u001b[0m         length,\n\u001b[1;32m    399\u001b[0m         parameters\u001b[38;5;241m=\u001b[39mform\u001b[38;5;241m.\u001b[39m_parameters,\n\u001b[1;32m    400\u001b[0m     )\n\u001b[1;32m    402\u001b[0m \u001b[38;5;28;01melif\u001b[39;00m \u001b[38;5;28misinstance\u001b[39m(form, ak\u001b[38;5;241m.\u001b[39mforms\u001b[38;5;241m.\u001b[39mRecordForm):\n\u001b[1;32m    403\u001b[0m     contents \u001b[38;5;241m=\u001b[39m [\n\u001b[0;32m--> 404\u001b[0m         \u001b[43m_reconstitute\u001b[49m\u001b[43m(\u001b[49m\n\u001b[1;32m    405\u001b[0m \u001b[43m            \u001b[49m\u001b[43mcontent\u001b[49m\u001b[43m,\u001b[49m\u001b[43m \u001b[49m\u001b[43mlength\u001b[49m\u001b[43m,\u001b[49m\u001b[43m \u001b[49m\u001b[43mcontainer\u001b[49m\u001b[43m,\u001b[49m\u001b[43m \u001b[49m\u001b[43mgetkey\u001b[49m\u001b[43m,\u001b[49m\u001b[43m \u001b[49m\u001b[43mbackend\u001b[49m\u001b[43m,\u001b[49m\u001b[43m \u001b[49m\u001b[43mbyteorder\u001b[49m\u001b[43m,\u001b[49m\u001b[43m \u001b[49m\u001b[43msimplify\u001b[49m\n\u001b[1;32m    406\u001b[0m \u001b[43m        \u001b[49m\u001b[43m)\u001b[49m\n\u001b[1;32m    407\u001b[0m         \u001b[38;5;28;01mfor\u001b[39;00m content \u001b[38;5;129;01min\u001b[39;00m form\u001b[38;5;241m.\u001b[39mcontents\n\u001b[1;32m    408\u001b[0m     ]\n\u001b[1;32m    409\u001b[0m     \u001b[38;5;28;01mreturn\u001b[39;00m ak\u001b[38;5;241m.\u001b[39mcontents\u001b[38;5;241m.\u001b[39mRecordArray(\n\u001b[1;32m    410\u001b[0m         contents,\n\u001b[1;32m    411\u001b[0m         \u001b[38;5;28;01mNone\u001b[39;00m \u001b[38;5;28;01mif\u001b[39;00m form\u001b[38;5;241m.\u001b[39mis_tuple \u001b[38;5;28;01melse\u001b[39;00m form\u001b[38;5;241m.\u001b[39mfields,\n\u001b[1;32m    412\u001b[0m         length,\n\u001b[1;32m    413\u001b[0m         parameters\u001b[38;5;241m=\u001b[39mform\u001b[38;5;241m.\u001b[39m_parameters,\n\u001b[1;32m    414\u001b[0m     )\n\u001b[1;32m    416\u001b[0m \u001b[38;5;28;01melif\u001b[39;00m \u001b[38;5;28misinstance\u001b[39m(form, ak\u001b[38;5;241m.\u001b[39mforms\u001b[38;5;241m.\u001b[39mUnionForm):\n",
      "File \u001b[0;32m~/coffeafcc/development/fcc-dev/lib64/python3.12/site-packages/awkward/operations/ak_from_buffers.py:381\u001b[0m, in \u001b[0;36m_reconstitute\u001b[0;34m(form, length, container, getkey, backend, byteorder, simplify)\u001b[0m\n\u001b[1;32m    379\u001b[0m     \u001b[38;5;28;01melse\u001b[39;00m:\n\u001b[1;32m    380\u001b[0m         next_length \u001b[38;5;241m=\u001b[39m \u001b[38;5;241m0\u001b[39m \u001b[38;5;28;01mif\u001b[39;00m \u001b[38;5;28mlen\u001b[39m(offsets) \u001b[38;5;241m==\u001b[39m \u001b[38;5;241m1\u001b[39m \u001b[38;5;28;01melse\u001b[39;00m offsets[\u001b[38;5;241m-\u001b[39m\u001b[38;5;241m1\u001b[39m]\n\u001b[0;32m--> 381\u001b[0m     content \u001b[38;5;241m=\u001b[39m \u001b[43m_reconstitute\u001b[49m\u001b[43m(\u001b[49m\n\u001b[1;32m    382\u001b[0m \u001b[43m        \u001b[49m\u001b[43mform\u001b[49m\u001b[38;5;241;43m.\u001b[39;49m\u001b[43mcontent\u001b[49m\u001b[43m,\u001b[49m\u001b[43m \u001b[49m\u001b[43mnext_length\u001b[49m\u001b[43m,\u001b[49m\u001b[43m \u001b[49m\u001b[43mcontainer\u001b[49m\u001b[43m,\u001b[49m\u001b[43m \u001b[49m\u001b[43mgetkey\u001b[49m\u001b[43m,\u001b[49m\u001b[43m \u001b[49m\u001b[43mbackend\u001b[49m\u001b[43m,\u001b[49m\u001b[43m \u001b[49m\u001b[43mbyteorder\u001b[49m\u001b[43m,\u001b[49m\u001b[43m \u001b[49m\u001b[43msimplify\u001b[49m\n\u001b[1;32m    383\u001b[0m \u001b[43m    \u001b[49m\u001b[43m)\u001b[49m\n\u001b[1;32m    384\u001b[0m     \u001b[38;5;28;01mreturn\u001b[39;00m ak\u001b[38;5;241m.\u001b[39mcontents\u001b[38;5;241m.\u001b[39mListOffsetArray(\n\u001b[1;32m    385\u001b[0m         ak\u001b[38;5;241m.\u001b[39mindex\u001b[38;5;241m.\u001b[39mIndex(offsets),\n\u001b[1;32m    386\u001b[0m         content,\n\u001b[1;32m    387\u001b[0m         parameters\u001b[38;5;241m=\u001b[39mform\u001b[38;5;241m.\u001b[39m_parameters,\n\u001b[1;32m    388\u001b[0m     )\n\u001b[1;32m    390\u001b[0m \u001b[38;5;28;01melif\u001b[39;00m \u001b[38;5;28misinstance\u001b[39m(form, ak\u001b[38;5;241m.\u001b[39mforms\u001b[38;5;241m.\u001b[39mRegularForm):\n",
      "File \u001b[0;32m~/coffeafcc/development/fcc-dev/lib64/python3.12/site-packages/awkward/operations/ak_from_buffers.py:404\u001b[0m, in \u001b[0;36m_reconstitute\u001b[0;34m(form, length, container, getkey, backend, byteorder, simplify)\u001b[0m\n\u001b[1;32m    395\u001b[0m     \u001b[38;5;28;01mreturn\u001b[39;00m ak\u001b[38;5;241m.\u001b[39mcontents\u001b[38;5;241m.\u001b[39mRegularArray(\n\u001b[1;32m    396\u001b[0m         content,\n\u001b[1;32m    397\u001b[0m         form\u001b[38;5;241m.\u001b[39msize,\n\u001b[1;32m    398\u001b[0m         length,\n\u001b[1;32m    399\u001b[0m         parameters\u001b[38;5;241m=\u001b[39mform\u001b[38;5;241m.\u001b[39m_parameters,\n\u001b[1;32m    400\u001b[0m     )\n\u001b[1;32m    402\u001b[0m \u001b[38;5;28;01melif\u001b[39;00m \u001b[38;5;28misinstance\u001b[39m(form, ak\u001b[38;5;241m.\u001b[39mforms\u001b[38;5;241m.\u001b[39mRecordForm):\n\u001b[1;32m    403\u001b[0m     contents \u001b[38;5;241m=\u001b[39m [\n\u001b[0;32m--> 404\u001b[0m         \u001b[43m_reconstitute\u001b[49m\u001b[43m(\u001b[49m\n\u001b[1;32m    405\u001b[0m \u001b[43m            \u001b[49m\u001b[43mcontent\u001b[49m\u001b[43m,\u001b[49m\u001b[43m \u001b[49m\u001b[43mlength\u001b[49m\u001b[43m,\u001b[49m\u001b[43m \u001b[49m\u001b[43mcontainer\u001b[49m\u001b[43m,\u001b[49m\u001b[43m \u001b[49m\u001b[43mgetkey\u001b[49m\u001b[43m,\u001b[49m\u001b[43m \u001b[49m\u001b[43mbackend\u001b[49m\u001b[43m,\u001b[49m\u001b[43m \u001b[49m\u001b[43mbyteorder\u001b[49m\u001b[43m,\u001b[49m\u001b[43m \u001b[49m\u001b[43msimplify\u001b[49m\n\u001b[1;32m    406\u001b[0m \u001b[43m        \u001b[49m\u001b[43m)\u001b[49m\n\u001b[1;32m    407\u001b[0m         \u001b[38;5;28;01mfor\u001b[39;00m content \u001b[38;5;129;01min\u001b[39;00m form\u001b[38;5;241m.\u001b[39mcontents\n\u001b[1;32m    408\u001b[0m     ]\n\u001b[1;32m    409\u001b[0m     \u001b[38;5;28;01mreturn\u001b[39;00m ak\u001b[38;5;241m.\u001b[39mcontents\u001b[38;5;241m.\u001b[39mRecordArray(\n\u001b[1;32m    410\u001b[0m         contents,\n\u001b[1;32m    411\u001b[0m         \u001b[38;5;28;01mNone\u001b[39;00m \u001b[38;5;28;01mif\u001b[39;00m form\u001b[38;5;241m.\u001b[39mis_tuple \u001b[38;5;28;01melse\u001b[39;00m form\u001b[38;5;241m.\u001b[39mfields,\n\u001b[1;32m    412\u001b[0m         length,\n\u001b[1;32m    413\u001b[0m         parameters\u001b[38;5;241m=\u001b[39mform\u001b[38;5;241m.\u001b[39m_parameters,\n\u001b[1;32m    414\u001b[0m     )\n\u001b[1;32m    416\u001b[0m \u001b[38;5;28;01melif\u001b[39;00m \u001b[38;5;28misinstance\u001b[39m(form, ak\u001b[38;5;241m.\u001b[39mforms\u001b[38;5;241m.\u001b[39mUnionForm):\n",
      "File \u001b[0;32m~/coffeafcc/development/fcc-dev/lib64/python3.12/site-packages/awkward/operations/ak_from_buffers.py:404\u001b[0m, in \u001b[0;36m_reconstitute\u001b[0;34m(form, length, container, getkey, backend, byteorder, simplify)\u001b[0m\n\u001b[1;32m    395\u001b[0m     \u001b[38;5;28;01mreturn\u001b[39;00m ak\u001b[38;5;241m.\u001b[39mcontents\u001b[38;5;241m.\u001b[39mRegularArray(\n\u001b[1;32m    396\u001b[0m         content,\n\u001b[1;32m    397\u001b[0m         form\u001b[38;5;241m.\u001b[39msize,\n\u001b[1;32m    398\u001b[0m         length,\n\u001b[1;32m    399\u001b[0m         parameters\u001b[38;5;241m=\u001b[39mform\u001b[38;5;241m.\u001b[39m_parameters,\n\u001b[1;32m    400\u001b[0m     )\n\u001b[1;32m    402\u001b[0m \u001b[38;5;28;01melif\u001b[39;00m \u001b[38;5;28misinstance\u001b[39m(form, ak\u001b[38;5;241m.\u001b[39mforms\u001b[38;5;241m.\u001b[39mRecordForm):\n\u001b[1;32m    403\u001b[0m     contents \u001b[38;5;241m=\u001b[39m [\n\u001b[0;32m--> 404\u001b[0m         \u001b[43m_reconstitute\u001b[49m\u001b[43m(\u001b[49m\n\u001b[1;32m    405\u001b[0m \u001b[43m            \u001b[49m\u001b[43mcontent\u001b[49m\u001b[43m,\u001b[49m\u001b[43m \u001b[49m\u001b[43mlength\u001b[49m\u001b[43m,\u001b[49m\u001b[43m \u001b[49m\u001b[43mcontainer\u001b[49m\u001b[43m,\u001b[49m\u001b[43m \u001b[49m\u001b[43mgetkey\u001b[49m\u001b[43m,\u001b[49m\u001b[43m \u001b[49m\u001b[43mbackend\u001b[49m\u001b[43m,\u001b[49m\u001b[43m \u001b[49m\u001b[43mbyteorder\u001b[49m\u001b[43m,\u001b[49m\u001b[43m \u001b[49m\u001b[43msimplify\u001b[49m\n\u001b[1;32m    406\u001b[0m \u001b[43m        \u001b[49m\u001b[43m)\u001b[49m\n\u001b[1;32m    407\u001b[0m         \u001b[38;5;28;01mfor\u001b[39;00m content \u001b[38;5;129;01min\u001b[39;00m form\u001b[38;5;241m.\u001b[39mcontents\n\u001b[1;32m    408\u001b[0m     ]\n\u001b[1;32m    409\u001b[0m     \u001b[38;5;28;01mreturn\u001b[39;00m ak\u001b[38;5;241m.\u001b[39mcontents\u001b[38;5;241m.\u001b[39mRecordArray(\n\u001b[1;32m    410\u001b[0m         contents,\n\u001b[1;32m    411\u001b[0m         \u001b[38;5;28;01mNone\u001b[39;00m \u001b[38;5;28;01mif\u001b[39;00m form\u001b[38;5;241m.\u001b[39mis_tuple \u001b[38;5;28;01melse\u001b[39;00m form\u001b[38;5;241m.\u001b[39mfields,\n\u001b[1;32m    412\u001b[0m         length,\n\u001b[1;32m    413\u001b[0m         parameters\u001b[38;5;241m=\u001b[39mform\u001b[38;5;241m.\u001b[39m_parameters,\n\u001b[1;32m    414\u001b[0m     )\n\u001b[1;32m    416\u001b[0m \u001b[38;5;28;01melif\u001b[39;00m \u001b[38;5;28misinstance\u001b[39m(form, ak\u001b[38;5;241m.\u001b[39mforms\u001b[38;5;241m.\u001b[39mUnionForm):\n",
      "File \u001b[0;32m~/coffeafcc/development/fcc-dev/lib64/python3.12/site-packages/awkward/operations/ak_from_buffers.py:197\u001b[0m, in \u001b[0;36m_reconstitute\u001b[0;34m(form, length, container, getkey, backend, byteorder, simplify)\u001b[0m\n\u001b[1;32m    195\u001b[0m raw_array \u001b[38;5;241m=\u001b[39m container[getkey(form, \u001b[38;5;124m\"\u001b[39m\u001b[38;5;124mdata\u001b[39m\u001b[38;5;124m\"\u001b[39m)]\n\u001b[1;32m    196\u001b[0m real_length \u001b[38;5;241m=\u001b[39m length \u001b[38;5;241m*\u001b[39m math\u001b[38;5;241m.\u001b[39mprod(form\u001b[38;5;241m.\u001b[39minner_shape)\n\u001b[0;32m--> 197\u001b[0m data \u001b[38;5;241m=\u001b[39m \u001b[43m_from_buffer\u001b[49m\u001b[43m(\u001b[49m\n\u001b[1;32m    198\u001b[0m \u001b[43m    \u001b[49m\u001b[43mbackend\u001b[49m\u001b[38;5;241;43m.\u001b[39;49m\u001b[43mnplike\u001b[49m\u001b[43m,\u001b[49m\n\u001b[1;32m    199\u001b[0m \u001b[43m    \u001b[49m\u001b[43mraw_array\u001b[49m\u001b[43m,\u001b[49m\n\u001b[1;32m    200\u001b[0m \u001b[43m    \u001b[49m\u001b[43mdtype\u001b[49m\u001b[38;5;241;43m=\u001b[39;49m\u001b[43mdtype\u001b[49m\u001b[43m,\u001b[49m\n\u001b[1;32m    201\u001b[0m \u001b[43m    \u001b[49m\u001b[43mcount\u001b[49m\u001b[38;5;241;43m=\u001b[39;49m\u001b[43mreal_length\u001b[49m\u001b[43m,\u001b[49m\n\u001b[1;32m    202\u001b[0m \u001b[43m    \u001b[49m\u001b[43mbyteorder\u001b[49m\u001b[38;5;241;43m=\u001b[39;49m\u001b[43mbyteorder\u001b[49m\u001b[43m,\u001b[49m\n\u001b[1;32m    203\u001b[0m \u001b[43m\u001b[49m\u001b[43m)\u001b[49m\n\u001b[1;32m    204\u001b[0m \u001b[38;5;28;01mif\u001b[39;00m form\u001b[38;5;241m.\u001b[39minner_shape \u001b[38;5;241m!=\u001b[39m ():\n\u001b[1;32m    205\u001b[0m     data \u001b[38;5;241m=\u001b[39m backend\u001b[38;5;241m.\u001b[39mnplike\u001b[38;5;241m.\u001b[39mreshape(data, (length, \u001b[38;5;241m*\u001b[39mform\u001b[38;5;241m.\u001b[39minner_shape))\n",
      "File \u001b[0;32m~/coffeafcc/development/fcc-dev/lib64/python3.12/site-packages/awkward/operations/ak_from_buffers.py:174\u001b[0m, in \u001b[0;36m_from_buffer\u001b[0;34m(nplike, buffer, dtype, count, byteorder)\u001b[0m\n\u001b[1;32m    171\u001b[0m     array \u001b[38;5;241m=\u001b[39m nplike\u001b[38;5;241m.\u001b[39mreshape(buffer\u001b[38;5;241m.\u001b[39mview(dtype), shape\u001b[38;5;241m=\u001b[39m(\u001b[38;5;241m-\u001b[39m\u001b[38;5;241m1\u001b[39m,), copy\u001b[38;5;241m=\u001b[39m\u001b[38;5;28;01mFalse\u001b[39;00m)\n\u001b[1;32m    173\u001b[0m     \u001b[38;5;28;01mif\u001b[39;00m array\u001b[38;5;241m.\u001b[39msize \u001b[38;5;241m<\u001b[39m count:\n\u001b[0;32m--> 174\u001b[0m         \u001b[38;5;28;01mraise\u001b[39;00m \u001b[38;5;167;01mTypeError\u001b[39;00m(\n\u001b[1;32m    175\u001b[0m             \u001b[38;5;124mf\u001b[39m\u001b[38;5;124m\"\u001b[39m\u001b[38;5;124msize of array (\u001b[39m\u001b[38;5;132;01m{\u001b[39;00marray\u001b[38;5;241m.\u001b[39msize\u001b[38;5;132;01m}\u001b[39;00m\u001b[38;5;124m) is less than size of form (\u001b[39m\u001b[38;5;132;01m{\u001b[39;00mcount\u001b[38;5;132;01m}\u001b[39;00m\u001b[38;5;124m)\u001b[39m\u001b[38;5;124m\"\u001b[39m\n\u001b[1;32m    176\u001b[0m         )\n\u001b[1;32m    178\u001b[0m     \u001b[38;5;28;01mreturn\u001b[39;00m array[:count]\n\u001b[1;32m    179\u001b[0m \u001b[38;5;28;01melse\u001b[39;00m:\n",
      "\u001b[0;31mTypeError\u001b[0m: size of array (331938) is less than size of form (606222)",
      "\u001b[0m\nThis error occurred while calling\n\n    ak.from_buffers(\n        {'class': 'RecordArray', 'fields': dict_keys(['Particleidx', 'Missing...\n        10000\n        UprootSourceMapping-instance\n        buffer_key = partial-instance\n        behavior = {'Systematic': <class 'coffea.nanoevents.methods.base.Syst...\n        attrs = {'@events_factory': <coffea.nanoevents.factory.NanoEventsFact...\n    )"
     ]
    }
   ],
   "source": [
    "test_file = 'root://eospublic.cern.ch//eos/experiment/fcc/ee/generation/DelphesEvents/spring2021/IDEA/p8_ee_ZH_ecm240/events_101027117.root'\n",
    "from coffea.nanoevents import NanoEventsFactory, FCCSchema\n",
    "events = NanoEventsFactory.from_root(\n",
    "    test_file+\":events\",\n",
    "    entry_stop=10000,\n",
    "    schemaclass=FCCSchema,\n",
    "    delayed=False #Delayed=False doesn't work, and i cant understand why\n",
    ").events()"
   ]
  },
  {
   "cell_type": "markdown",
   "id": "fd86b533-de58-4a75-b01a-a9068f5e1659",
   "metadata": {},
   "source": [
    "- The vector class defined in coffea is going to be depricated soon and need to be replaced with scikit vector"
   ]
  },
  {
   "cell_type": "markdown",
   "id": "e5e9b2b6-fe50-4c1e-b9db-7a5f6533ba98",
   "metadata": {},
   "source": [
    "- np.sum and np.mult overload artifact"
   ]
  },
  {
   "cell_type": "code",
   "execution_count": 35,
   "id": "eda34c51-b996-4b34-af84-75cbb32d5262",
   "metadata": {
    "scrolled": true
   },
   "outputs": [
    {
     "ename": "AttributeError",
     "evalue": "no field named 't'",
     "output_type": "error",
     "traceback": [
      "\u001b[0;31m---------------------------------------------------------------------------\u001b[0m",
      "\u001b[0;31mAttributeError\u001b[0m                            Traceback (most recent call last)",
      "Cell \u001b[0;32mIn[35], line 6\u001b[0m\n\u001b[1;32m      3\u001b[0m r1 \u001b[38;5;241m=\u001b[39m goodevents[:,\u001b[38;5;241m0\u001b[39m]\u001b[38;5;241m.\u001b[39mcompute() \u001b[38;5;66;03m# first reco particle in each event\u001b[39;00m\n\u001b[1;32m      4\u001b[0m r2 \u001b[38;5;241m=\u001b[39m goodevents[:,\u001b[38;5;241m1\u001b[39m]\u001b[38;5;241m.\u001b[39mcompute() \u001b[38;5;66;03m# second reco particle in each event\u001b[39;00m\n\u001b[0;32m----> 6\u001b[0m \u001b[43mr1\u001b[49m\u001b[38;5;241;43m+\u001b[39;49m\u001b[43mr2\u001b[49m\n",
      "File \u001b[0;32m~/coffeafcc/development/fcc-dev/lib64/python3.12/site-packages/awkward/_operators.py:53\u001b[0m, in \u001b[0;36m_binary_method.<locals>.func\u001b[0;34m(self, other)\u001b[0m\n\u001b[1;32m     51\u001b[0m \u001b[38;5;28;01mif\u001b[39;00m _disables_array_ufunc(other):\n\u001b[1;32m     52\u001b[0m     \u001b[38;5;28;01mreturn\u001b[39;00m \u001b[38;5;28mNotImplemented\u001b[39m\n\u001b[0;32m---> 53\u001b[0m \u001b[38;5;28;01mreturn\u001b[39;00m \u001b[43mufunc\u001b[49m\u001b[43m(\u001b[49m\u001b[38;5;28;43mself\u001b[39;49m\u001b[43m,\u001b[49m\u001b[43m \u001b[49m\u001b[43mother\u001b[49m\u001b[43m)\u001b[49m\n",
      "File \u001b[0;32m~/coffeafcc/development/fcc-dev/lib64/python3.12/site-packages/awkward/highlevel.py:1511\u001b[0m, in \u001b[0;36mArray.__array_ufunc__\u001b[0;34m(self, ufunc, method, *inputs, **kwargs)\u001b[0m\n\u001b[1;32m   1509\u001b[0m name \u001b[38;5;241m=\u001b[39m \u001b[38;5;124mf\u001b[39m\u001b[38;5;124m\"\u001b[39m\u001b[38;5;132;01m{\u001b[39;00m\u001b[38;5;28mtype\u001b[39m(ufunc)\u001b[38;5;241m.\u001b[39m\u001b[38;5;18m__module__\u001b[39m\u001b[38;5;132;01m}\u001b[39;00m\u001b[38;5;124m.\u001b[39m\u001b[38;5;132;01m{\u001b[39;00mufunc\u001b[38;5;241m.\u001b[39m\u001b[38;5;18m__name__\u001b[39m\u001b[38;5;132;01m}\u001b[39;00m\u001b[38;5;124m.\u001b[39m\u001b[38;5;132;01m{\u001b[39;00mmethod\u001b[38;5;132;01m!s}\u001b[39;00m\u001b[38;5;124m\"\u001b[39m\n\u001b[1;32m   1510\u001b[0m \u001b[38;5;28;01mwith\u001b[39;00m ak\u001b[38;5;241m.\u001b[39m_errors\u001b[38;5;241m.\u001b[39mOperationErrorContext(name, inputs, kwargs):\n\u001b[0;32m-> 1511\u001b[0m     \u001b[38;5;28;01mreturn\u001b[39;00m \u001b[43mak\u001b[49m\u001b[38;5;241;43m.\u001b[39;49m\u001b[43m_connect\u001b[49m\u001b[38;5;241;43m.\u001b[39;49m\u001b[43mnumpy\u001b[49m\u001b[38;5;241;43m.\u001b[39;49m\u001b[43marray_ufunc\u001b[49m\u001b[43m(\u001b[49m\u001b[43mufunc\u001b[49m\u001b[43m,\u001b[49m\u001b[43m \u001b[49m\u001b[43mmethod\u001b[49m\u001b[43m,\u001b[49m\u001b[43m \u001b[49m\u001b[43minputs\u001b[49m\u001b[43m,\u001b[49m\u001b[43m \u001b[49m\u001b[43mkwargs\u001b[49m\u001b[43m)\u001b[49m\n",
      "File \u001b[0;32m~/coffeafcc/development/fcc-dev/lib64/python3.12/site-packages/awkward/_connect/numpy.py:466\u001b[0m, in \u001b[0;36marray_ufunc\u001b[0;34m(ufunc, method, inputs, kwargs)\u001b[0m\n\u001b[1;32m    458\u001b[0m         \u001b[38;5;28;01mraise\u001b[39;00m \u001b[38;5;167;01mTypeError\u001b[39;00m(\n\u001b[1;32m    459\u001b[0m             \u001b[38;5;124m\"\u001b[39m\u001b[38;5;124mno \u001b[39m\u001b[38;5;132;01m{}\u001b[39;00m\u001b[38;5;124m.\u001b[39m\u001b[38;5;132;01m{}\u001b[39;00m\u001b[38;5;124m overloads for custom types: \u001b[39m\u001b[38;5;132;01m{}\u001b[39;00m\u001b[38;5;124m\"\u001b[39m\u001b[38;5;241m.\u001b[39mformat(\n\u001b[1;32m    460\u001b[0m                 \u001b[38;5;28mtype\u001b[39m(ufunc)\u001b[38;5;241m.\u001b[39m\u001b[38;5;18m__module__\u001b[39m, ufunc\u001b[38;5;241m.\u001b[39m\u001b[38;5;18m__name__\u001b[39m, \u001b[38;5;124m\"\u001b[39m\u001b[38;5;124m, \u001b[39m\u001b[38;5;124m\"\u001b[39m\u001b[38;5;241m.\u001b[39mjoin(error_message)\n\u001b[1;32m    461\u001b[0m             )\n\u001b[1;32m    462\u001b[0m         )\n\u001b[1;32m    464\u001b[0m     \u001b[38;5;28;01mreturn\u001b[39;00m \u001b[38;5;28;01mNone\u001b[39;00m\n\u001b[0;32m--> 466\u001b[0m out \u001b[38;5;241m=\u001b[39m \u001b[43mak\u001b[49m\u001b[38;5;241;43m.\u001b[39;49m\u001b[43m_broadcasting\u001b[49m\u001b[38;5;241;43m.\u001b[39;49m\u001b[43mbroadcast_and_apply\u001b[49m\u001b[43m(\u001b[49m\n\u001b[1;32m    467\u001b[0m \u001b[43m    \u001b[49m\u001b[43minputs\u001b[49m\u001b[43m,\u001b[49m\u001b[43m \u001b[49m\u001b[43maction\u001b[49m\u001b[43m,\u001b[49m\u001b[43m \u001b[49m\u001b[43mallow_records\u001b[49m\u001b[38;5;241;43m=\u001b[39;49m\u001b[38;5;28;43;01mFalse\u001b[39;49;00m\u001b[43m,\u001b[49m\u001b[43m \u001b[49m\u001b[43mfunction_name\u001b[49m\u001b[38;5;241;43m=\u001b[39;49m\u001b[43mufunc\u001b[49m\u001b[38;5;241;43m.\u001b[39;49m\u001b[38;5;18;43m__name__\u001b[39;49m\n\u001b[1;32m    468\u001b[0m \u001b[43m\u001b[49m\u001b[43m)\u001b[49m\n\u001b[1;32m    470\u001b[0m \u001b[38;5;28;01mif\u001b[39;00m \u001b[38;5;28mlen\u001b[39m(out) \u001b[38;5;241m==\u001b[39m \u001b[38;5;241m1\u001b[39m:\n\u001b[1;32m    471\u001b[0m     \u001b[38;5;28;01mreturn\u001b[39;00m wrap_layout(out[\u001b[38;5;241m0\u001b[39m], behavior\u001b[38;5;241m=\u001b[39mbehavior, attrs\u001b[38;5;241m=\u001b[39mattrs)\n",
      "File \u001b[0;32m~/coffeafcc/development/fcc-dev/lib64/python3.12/site-packages/awkward/_broadcasting.py:968\u001b[0m, in \u001b[0;36mbroadcast_and_apply\u001b[0;34m(inputs, action, depth_context, lateral_context, allow_records, left_broadcast, right_broadcast, numpy_to_regular, regular_to_jagged, function_name, broadcast_parameters_rule)\u001b[0m\n\u001b[1;32m    966\u001b[0m backend \u001b[38;5;241m=\u001b[39m backend_of(\u001b[38;5;241m*\u001b[39minputs, coerce_to_common\u001b[38;5;241m=\u001b[39m\u001b[38;5;28;01mFalse\u001b[39;00m)\n\u001b[1;32m    967\u001b[0m isscalar \u001b[38;5;241m=\u001b[39m []\n\u001b[0;32m--> 968\u001b[0m out \u001b[38;5;241m=\u001b[39m \u001b[43mapply_step\u001b[49m\u001b[43m(\u001b[49m\n\u001b[1;32m    969\u001b[0m \u001b[43m    \u001b[49m\u001b[43mbackend\u001b[49m\u001b[43m,\u001b[49m\n\u001b[1;32m    970\u001b[0m \u001b[43m    \u001b[49m\u001b[43mbroadcast_pack\u001b[49m\u001b[43m(\u001b[49m\u001b[43minputs\u001b[49m\u001b[43m,\u001b[49m\u001b[43m \u001b[49m\u001b[43misscalar\u001b[49m\u001b[43m)\u001b[49m\u001b[43m,\u001b[49m\n\u001b[1;32m    971\u001b[0m \u001b[43m    \u001b[49m\u001b[43maction\u001b[49m\u001b[43m,\u001b[49m\n\u001b[1;32m    972\u001b[0m \u001b[43m    \u001b[49m\u001b[38;5;241;43m0\u001b[39;49m\u001b[43m,\u001b[49m\n\u001b[1;32m    973\u001b[0m \u001b[43m    \u001b[49m\u001b[43mdepth_context\u001b[49m\u001b[43m,\u001b[49m\n\u001b[1;32m    974\u001b[0m \u001b[43m    \u001b[49m\u001b[43mlateral_context\u001b[49m\u001b[43m,\u001b[49m\n\u001b[1;32m    975\u001b[0m \u001b[43m    \u001b[49m\u001b[43m{\u001b[49m\n\u001b[1;32m    976\u001b[0m \u001b[43m        \u001b[49m\u001b[38;5;124;43m\"\u001b[39;49m\u001b[38;5;124;43mallow_records\u001b[39;49m\u001b[38;5;124;43m\"\u001b[39;49m\u001b[43m:\u001b[49m\u001b[43m \u001b[49m\u001b[43mallow_records\u001b[49m\u001b[43m,\u001b[49m\n\u001b[1;32m    977\u001b[0m \u001b[43m        \u001b[49m\u001b[38;5;124;43m\"\u001b[39;49m\u001b[38;5;124;43mleft_broadcast\u001b[39;49m\u001b[38;5;124;43m\"\u001b[39;49m\u001b[43m:\u001b[49m\u001b[43m \u001b[49m\u001b[43mleft_broadcast\u001b[49m\u001b[43m,\u001b[49m\n\u001b[1;32m    978\u001b[0m \u001b[43m        \u001b[49m\u001b[38;5;124;43m\"\u001b[39;49m\u001b[38;5;124;43mright_broadcast\u001b[39;49m\u001b[38;5;124;43m\"\u001b[39;49m\u001b[43m:\u001b[49m\u001b[43m \u001b[49m\u001b[43mright_broadcast\u001b[49m\u001b[43m,\u001b[49m\n\u001b[1;32m    979\u001b[0m \u001b[43m        \u001b[49m\u001b[38;5;124;43m\"\u001b[39;49m\u001b[38;5;124;43mnumpy_to_regular\u001b[39;49m\u001b[38;5;124;43m\"\u001b[39;49m\u001b[43m:\u001b[49m\u001b[43m \u001b[49m\u001b[43mnumpy_to_regular\u001b[49m\u001b[43m,\u001b[49m\n\u001b[1;32m    980\u001b[0m \u001b[43m        \u001b[49m\u001b[38;5;124;43m\"\u001b[39;49m\u001b[38;5;124;43mregular_to_jagged\u001b[39;49m\u001b[38;5;124;43m\"\u001b[39;49m\u001b[43m:\u001b[49m\u001b[43m \u001b[49m\u001b[43mregular_to_jagged\u001b[49m\u001b[43m,\u001b[49m\n\u001b[1;32m    981\u001b[0m \u001b[43m        \u001b[49m\u001b[38;5;124;43m\"\u001b[39;49m\u001b[38;5;124;43mfunction_name\u001b[39;49m\u001b[38;5;124;43m\"\u001b[39;49m\u001b[43m:\u001b[49m\u001b[43m \u001b[49m\u001b[43mfunction_name\u001b[49m\u001b[43m,\u001b[49m\n\u001b[1;32m    982\u001b[0m \u001b[43m        \u001b[49m\u001b[38;5;124;43m\"\u001b[39;49m\u001b[38;5;124;43mbroadcast_parameters_rule\u001b[39;49m\u001b[38;5;124;43m\"\u001b[39;49m\u001b[43m:\u001b[49m\u001b[43m \u001b[49m\u001b[43mbroadcast_parameters_rule\u001b[49m\u001b[43m,\u001b[49m\n\u001b[1;32m    983\u001b[0m \u001b[43m    \u001b[49m\u001b[43m}\u001b[49m\u001b[43m,\u001b[49m\n\u001b[1;32m    984\u001b[0m \u001b[43m\u001b[49m\u001b[43m)\u001b[49m\n\u001b[1;32m    985\u001b[0m \u001b[38;5;28;01massert\u001b[39;00m \u001b[38;5;28misinstance\u001b[39m(out, \u001b[38;5;28mtuple\u001b[39m)\n\u001b[1;32m    986\u001b[0m \u001b[38;5;28;01mreturn\u001b[39;00m \u001b[38;5;28mtuple\u001b[39m(broadcast_unpack(x, isscalar) \u001b[38;5;28;01mfor\u001b[39;00m x \u001b[38;5;129;01min\u001b[39;00m out)\n",
      "File \u001b[0;32m~/coffeafcc/development/fcc-dev/lib64/python3.12/site-packages/awkward/_broadcasting.py:946\u001b[0m, in \u001b[0;36mapply_step\u001b[0;34m(backend, inputs, action, depth, depth_context, lateral_context, options)\u001b[0m\n\u001b[1;32m    944\u001b[0m     \u001b[38;5;28;01mreturn\u001b[39;00m result\n\u001b[1;32m    945\u001b[0m \u001b[38;5;28;01melif\u001b[39;00m result \u001b[38;5;129;01mis\u001b[39;00m \u001b[38;5;28;01mNone\u001b[39;00m:\n\u001b[0;32m--> 946\u001b[0m     \u001b[38;5;28;01mreturn\u001b[39;00m \u001b[43mcontinuation\u001b[49m\u001b[43m(\u001b[49m\u001b[43m)\u001b[49m\n\u001b[1;32m    947\u001b[0m \u001b[38;5;28;01melse\u001b[39;00m:\n\u001b[1;32m    948\u001b[0m     \u001b[38;5;28;01mraise\u001b[39;00m \u001b[38;5;167;01mAssertionError\u001b[39;00m(result)\n",
      "File \u001b[0;32m~/coffeafcc/development/fcc-dev/lib64/python3.12/site-packages/awkward/_broadcasting.py:915\u001b[0m, in \u001b[0;36mapply_step.<locals>.continuation\u001b[0;34m()\u001b[0m\n\u001b[1;32m    913\u001b[0m \u001b[38;5;66;03m# Any non-string list-types?\u001b[39;00m\n\u001b[1;32m    914\u001b[0m \u001b[38;5;28;01melif\u001b[39;00m \u001b[38;5;28many\u001b[39m(x\u001b[38;5;241m.\u001b[39mis_list \u001b[38;5;129;01mand\u001b[39;00m \u001b[38;5;129;01mnot\u001b[39;00m is_string_like(x) \u001b[38;5;28;01mfor\u001b[39;00m x \u001b[38;5;129;01min\u001b[39;00m contents):\n\u001b[0;32m--> 915\u001b[0m     \u001b[38;5;28;01mreturn\u001b[39;00m \u001b[43mbroadcast_any_list\u001b[49m\u001b[43m(\u001b[49m\u001b[43m)\u001b[49m\n\u001b[1;32m    917\u001b[0m \u001b[38;5;66;03m# Any RecordArrays?\u001b[39;00m\n\u001b[1;32m    918\u001b[0m \u001b[38;5;28;01melif\u001b[39;00m \u001b[38;5;28many\u001b[39m(x\u001b[38;5;241m.\u001b[39mis_record \u001b[38;5;28;01mfor\u001b[39;00m x \u001b[38;5;129;01min\u001b[39;00m contents):\n",
      "File \u001b[0;32m~/coffeafcc/development/fcc-dev/lib64/python3.12/site-packages/awkward/_broadcasting.py:622\u001b[0m, in \u001b[0;36mapply_step.<locals>.broadcast_any_list\u001b[0;34m()\u001b[0m\n\u001b[1;32m    619\u001b[0m         nextinputs\u001b[38;5;241m.\u001b[39mappend(x)\n\u001b[1;32m    620\u001b[0m         nextparameters\u001b[38;5;241m.\u001b[39mappend(NO_PARAMETERS)\n\u001b[0;32m--> 622\u001b[0m outcontent \u001b[38;5;241m=\u001b[39m \u001b[43mapply_step\u001b[49m\u001b[43m(\u001b[49m\n\u001b[1;32m    623\u001b[0m \u001b[43m    \u001b[49m\u001b[43mbackend\u001b[49m\u001b[43m,\u001b[49m\n\u001b[1;32m    624\u001b[0m \u001b[43m    \u001b[49m\u001b[43mnextinputs\u001b[49m\u001b[43m,\u001b[49m\n\u001b[1;32m    625\u001b[0m \u001b[43m    \u001b[49m\u001b[43maction\u001b[49m\u001b[43m,\u001b[49m\n\u001b[1;32m    626\u001b[0m \u001b[43m    \u001b[49m\u001b[43mdepth\u001b[49m\u001b[43m \u001b[49m\u001b[38;5;241;43m+\u001b[39;49m\u001b[43m \u001b[49m\u001b[38;5;241;43m1\u001b[39;49m\u001b[43m,\u001b[49m\n\u001b[1;32m    627\u001b[0m \u001b[43m    \u001b[49m\u001b[43mcopy\u001b[49m\u001b[38;5;241;43m.\u001b[39;49m\u001b[43mcopy\u001b[49m\u001b[43m(\u001b[49m\u001b[43mdepth_context\u001b[49m\u001b[43m)\u001b[49m\u001b[43m,\u001b[49m\n\u001b[1;32m    628\u001b[0m \u001b[43m    \u001b[49m\u001b[43mlateral_context\u001b[49m\u001b[43m,\u001b[49m\n\u001b[1;32m    629\u001b[0m \u001b[43m    \u001b[49m\u001b[43moptions\u001b[49m\u001b[43m,\u001b[49m\n\u001b[1;32m    630\u001b[0m \u001b[43m\u001b[49m\u001b[43m)\u001b[49m\n\u001b[1;32m    631\u001b[0m \u001b[38;5;28;01massert\u001b[39;00m \u001b[38;5;28misinstance\u001b[39m(outcontent, \u001b[38;5;28mtuple\u001b[39m)\n\u001b[1;32m    632\u001b[0m parameters \u001b[38;5;241m=\u001b[39m parameters_factory(nextparameters, \u001b[38;5;28mlen\u001b[39m(outcontent))\n",
      "File \u001b[0;32m~/coffeafcc/development/fcc-dev/lib64/python3.12/site-packages/awkward/_broadcasting.py:946\u001b[0m, in \u001b[0;36mapply_step\u001b[0;34m(backend, inputs, action, depth, depth_context, lateral_context, options)\u001b[0m\n\u001b[1;32m    944\u001b[0m     \u001b[38;5;28;01mreturn\u001b[39;00m result\n\u001b[1;32m    945\u001b[0m \u001b[38;5;28;01melif\u001b[39;00m result \u001b[38;5;129;01mis\u001b[39;00m \u001b[38;5;28;01mNone\u001b[39;00m:\n\u001b[0;32m--> 946\u001b[0m     \u001b[38;5;28;01mreturn\u001b[39;00m \u001b[43mcontinuation\u001b[49m\u001b[43m(\u001b[49m\u001b[43m)\u001b[49m\n\u001b[1;32m    947\u001b[0m \u001b[38;5;28;01melse\u001b[39;00m:\n\u001b[1;32m    948\u001b[0m     \u001b[38;5;28;01mraise\u001b[39;00m \u001b[38;5;167;01mAssertionError\u001b[39;00m(result)\n",
      "File \u001b[0;32m~/coffeafcc/development/fcc-dev/lib64/python3.12/site-packages/awkward/_broadcasting.py:903\u001b[0m, in \u001b[0;36mapply_step.<locals>.continuation\u001b[0;34m()\u001b[0m\n\u001b[1;32m    901\u001b[0m \u001b[38;5;66;03m# Any IndexedArrays?\u001b[39;00m\n\u001b[1;32m    902\u001b[0m \u001b[38;5;28;01melif\u001b[39;00m \u001b[38;5;28many\u001b[39m((x\u001b[38;5;241m.\u001b[39mis_indexed \u001b[38;5;129;01mand\u001b[39;00m \u001b[38;5;129;01mnot\u001b[39;00m x\u001b[38;5;241m.\u001b[39mis_option) \u001b[38;5;28;01mfor\u001b[39;00m x \u001b[38;5;129;01min\u001b[39;00m contents):\n\u001b[0;32m--> 903\u001b[0m     \u001b[38;5;28;01mreturn\u001b[39;00m \u001b[43mbroadcast_any_indexed\u001b[49m\u001b[43m(\u001b[49m\u001b[43m)\u001b[49m\n\u001b[1;32m    905\u001b[0m \u001b[38;5;66;03m# Any UnionArrays?\u001b[39;00m\n\u001b[1;32m    906\u001b[0m \u001b[38;5;28;01melif\u001b[39;00m \u001b[38;5;28many\u001b[39m(x\u001b[38;5;241m.\u001b[39mis_union \u001b[38;5;28;01mfor\u001b[39;00m x \u001b[38;5;129;01min\u001b[39;00m contents):\n",
      "File \u001b[0;32m~/coffeafcc/development/fcc-dev/lib64/python3.12/site-packages/awkward/_broadcasting.py:853\u001b[0m, in \u001b[0;36mapply_step.<locals>.broadcast_any_indexed\u001b[0;34m()\u001b[0m\n\u001b[1;32m    845\u001b[0m \u001b[38;5;28;01mdef\u001b[39;00m \u001b[38;5;21mbroadcast_any_indexed\u001b[39m():\n\u001b[1;32m    846\u001b[0m     \u001b[38;5;66;03m# The `apply` function may exit at the level of a `RecordArray`. We can avoid projection\u001b[39;00m\n\u001b[1;32m    847\u001b[0m     \u001b[38;5;66;03m# of the record array in such cases, in favour of a deferred carry. This can be done by\u001b[39;00m\n\u001b[1;32m    848\u001b[0m     \u001b[38;5;66;03m# \"pushing\" the `IndexedArray` _into_ the record (i.e., wrapping each `content`).\u001b[39;00m\n\u001b[1;32m    849\u001b[0m     nextinputs \u001b[38;5;241m=\u001b[39m [\n\u001b[1;32m    850\u001b[0m         x\u001b[38;5;241m.\u001b[39m_push_inside_record_or_project() \u001b[38;5;28;01mif\u001b[39;00m \u001b[38;5;28misinstance\u001b[39m(x, IndexedArray) \u001b[38;5;28;01melse\u001b[39;00m x\n\u001b[1;32m    851\u001b[0m         \u001b[38;5;28;01mfor\u001b[39;00m x \u001b[38;5;129;01min\u001b[39;00m inputs\n\u001b[1;32m    852\u001b[0m     ]\n\u001b[0;32m--> 853\u001b[0m     \u001b[38;5;28;01mreturn\u001b[39;00m \u001b[43mapply_step\u001b[49m\u001b[43m(\u001b[49m\n\u001b[1;32m    854\u001b[0m \u001b[43m        \u001b[49m\u001b[43mbackend\u001b[49m\u001b[43m,\u001b[49m\n\u001b[1;32m    855\u001b[0m \u001b[43m        \u001b[49m\u001b[43mnextinputs\u001b[49m\u001b[43m,\u001b[49m\n\u001b[1;32m    856\u001b[0m \u001b[43m        \u001b[49m\u001b[43maction\u001b[49m\u001b[43m,\u001b[49m\n\u001b[1;32m    857\u001b[0m \u001b[43m        \u001b[49m\u001b[43mdepth\u001b[49m\u001b[43m,\u001b[49m\n\u001b[1;32m    858\u001b[0m \u001b[43m        \u001b[49m\u001b[43mcopy\u001b[49m\u001b[38;5;241;43m.\u001b[39;49m\u001b[43mcopy\u001b[49m\u001b[43m(\u001b[49m\u001b[43mdepth_context\u001b[49m\u001b[43m)\u001b[49m\u001b[43m,\u001b[49m\n\u001b[1;32m    859\u001b[0m \u001b[43m        \u001b[49m\u001b[43mlateral_context\u001b[49m\u001b[43m,\u001b[49m\n\u001b[1;32m    860\u001b[0m \u001b[43m        \u001b[49m\u001b[43moptions\u001b[49m\u001b[43m,\u001b[49m\n\u001b[1;32m    861\u001b[0m \u001b[43m    \u001b[49m\u001b[43m)\u001b[49m\n",
      "File \u001b[0;32m~/coffeafcc/development/fcc-dev/lib64/python3.12/site-packages/awkward/_broadcasting.py:928\u001b[0m, in \u001b[0;36mapply_step\u001b[0;34m(backend, inputs, action, depth, depth_context, lateral_context, options)\u001b[0m\n\u001b[1;32m    921\u001b[0m     \u001b[38;5;28;01melse\u001b[39;00m:\n\u001b[1;32m    922\u001b[0m         \u001b[38;5;28;01mraise\u001b[39;00m \u001b[38;5;167;01mValueError\u001b[39;00m(\n\u001b[1;32m    923\u001b[0m             \u001b[38;5;124m\"\u001b[39m\u001b[38;5;124mcannot broadcast: \u001b[39m\u001b[38;5;132;01m{}\u001b[39;00m\u001b[38;5;132;01m{}\u001b[39;00m\u001b[38;5;124m\"\u001b[39m\u001b[38;5;241m.\u001b[39mformat(\n\u001b[1;32m    924\u001b[0m                 \u001b[38;5;124m\"\u001b[39m\u001b[38;5;124m, \u001b[39m\u001b[38;5;124m\"\u001b[39m\u001b[38;5;241m.\u001b[39mjoin(\u001b[38;5;28mrepr\u001b[39m(\u001b[38;5;28mtype\u001b[39m(x)) \u001b[38;5;28;01mfor\u001b[39;00m x \u001b[38;5;129;01min\u001b[39;00m inputs), in_function(options)\n\u001b[1;32m    925\u001b[0m             )\n\u001b[1;32m    926\u001b[0m         )\n\u001b[0;32m--> 928\u001b[0m result \u001b[38;5;241m=\u001b[39m \u001b[43maction\u001b[49m\u001b[43m(\u001b[49m\n\u001b[1;32m    929\u001b[0m \u001b[43m    \u001b[49m\u001b[43minputs\u001b[49m\u001b[43m,\u001b[49m\n\u001b[1;32m    930\u001b[0m \u001b[43m    \u001b[49m\u001b[43mdepth\u001b[49m\u001b[38;5;241;43m=\u001b[39;49m\u001b[43mdepth\u001b[49m\u001b[43m,\u001b[49m\n\u001b[1;32m    931\u001b[0m \u001b[43m    \u001b[49m\u001b[43mdepth_context\u001b[49m\u001b[38;5;241;43m=\u001b[39;49m\u001b[43mdepth_context\u001b[49m\u001b[43m,\u001b[49m\n\u001b[1;32m    932\u001b[0m \u001b[43m    \u001b[49m\u001b[43mlateral_context\u001b[49m\u001b[38;5;241;43m=\u001b[39;49m\u001b[43mlateral_context\u001b[49m\u001b[43m,\u001b[49m\n\u001b[1;32m    933\u001b[0m \u001b[43m    \u001b[49m\u001b[43mcontinuation\u001b[49m\u001b[38;5;241;43m=\u001b[39;49m\u001b[43mcontinuation\u001b[49m\u001b[43m,\u001b[49m\n\u001b[1;32m    934\u001b[0m \u001b[43m    \u001b[49m\u001b[43mbackend\u001b[49m\u001b[38;5;241;43m=\u001b[39;49m\u001b[43mbackend\u001b[49m\u001b[43m,\u001b[49m\n\u001b[1;32m    935\u001b[0m \u001b[43m    \u001b[49m\u001b[43moptions\u001b[49m\u001b[38;5;241;43m=\u001b[39;49m\u001b[43moptions\u001b[49m\u001b[43m,\u001b[49m\n\u001b[1;32m    936\u001b[0m \u001b[43m\u001b[49m\u001b[43m)\u001b[49m\n\u001b[1;32m    938\u001b[0m \u001b[38;5;28;01mif\u001b[39;00m \u001b[38;5;28misinstance\u001b[39m(result, \u001b[38;5;28mtuple\u001b[39m) \u001b[38;5;129;01mand\u001b[39;00m \u001b[38;5;28mall\u001b[39m(\u001b[38;5;28misinstance\u001b[39m(x, Content) \u001b[38;5;28;01mfor\u001b[39;00m x \u001b[38;5;129;01min\u001b[39;00m result):\n\u001b[1;32m    939\u001b[0m     \u001b[38;5;28;01mif\u001b[39;00m \u001b[38;5;28many\u001b[39m(content\u001b[38;5;241m.\u001b[39mbackend \u001b[38;5;129;01mis\u001b[39;00m \u001b[38;5;129;01mnot\u001b[39;00m backend \u001b[38;5;28;01mfor\u001b[39;00m content \u001b[38;5;129;01min\u001b[39;00m result):\n",
      "File \u001b[0;32m~/coffeafcc/development/fcc-dev/lib64/python3.12/site-packages/awkward/_connect/numpy.py:378\u001b[0m, in \u001b[0;36marray_ufunc.<locals>.action\u001b[0;34m(inputs, **ignore)\u001b[0m\n\u001b[1;32m    376\u001b[0m     custom \u001b[38;5;241m=\u001b[39m find_ufunc(behavior, signature)\n\u001b[1;32m    377\u001b[0m     \u001b[38;5;28;01mif\u001b[39;00m custom \u001b[38;5;129;01mis\u001b[39;00m \u001b[38;5;129;01mnot\u001b[39;00m \u001b[38;5;28;01mNone\u001b[39;00m:\n\u001b[0;32m--> 378\u001b[0m         \u001b[38;5;28;01mreturn\u001b[39;00m \u001b[43m_array_ufunc_adjust\u001b[49m\u001b[43m(\u001b[49m\u001b[43mcustom\u001b[49m\u001b[43m,\u001b[49m\u001b[43m \u001b[49m\u001b[43minputs\u001b[49m\u001b[43m,\u001b[49m\u001b[43m \u001b[49m\u001b[43mkwargs\u001b[49m\u001b[43m,\u001b[49m\u001b[43m \u001b[49m\u001b[43mbehavior\u001b[49m\u001b[43m)\u001b[49m\n\u001b[1;32m    380\u001b[0m \u001b[38;5;66;03m# Do we have any categoricals?\u001b[39;00m\n\u001b[1;32m    381\u001b[0m \u001b[38;5;28;01mif\u001b[39;00m \u001b[38;5;28many\u001b[39m(\n\u001b[1;32m    382\u001b[0m     x\u001b[38;5;241m.\u001b[39mis_indexed \u001b[38;5;129;01mand\u001b[39;00m x\u001b[38;5;241m.\u001b[39mparameter(\u001b[38;5;124m\"\u001b[39m\u001b[38;5;124m__array__\u001b[39m\u001b[38;5;124m\"\u001b[39m) \u001b[38;5;241m==\u001b[39m \u001b[38;5;124m\"\u001b[39m\u001b[38;5;124mcategorical\u001b[39m\u001b[38;5;124m\"\u001b[39m \u001b[38;5;28;01mfor\u001b[39;00m x \u001b[38;5;129;01min\u001b[39;00m contents\n\u001b[1;32m    383\u001b[0m ):\n",
      "File \u001b[0;32m~/coffeafcc/development/fcc-dev/lib64/python3.12/site-packages/awkward/_connect/numpy.py:183\u001b[0m, in \u001b[0;36m_array_ufunc_adjust\u001b[0;34m(custom, inputs, kwargs, behavior)\u001b[0m\n\u001b[1;32m    174\u001b[0m \u001b[38;5;28;01mdef\u001b[39;00m \u001b[38;5;21m_array_ufunc_adjust\u001b[39m(\n\u001b[1;32m    175\u001b[0m     custom, inputs, kwargs: \u001b[38;5;28mdict\u001b[39m[\u001b[38;5;28mstr\u001b[39m, Any], behavior: Mapping \u001b[38;5;241m|\u001b[39m \u001b[38;5;28;01mNone\u001b[39;00m\n\u001b[1;32m    176\u001b[0m ):\n\u001b[1;32m    177\u001b[0m     args \u001b[38;5;241m=\u001b[39m [\n\u001b[1;32m    178\u001b[0m         wrap_layout(x, behavior)\n\u001b[1;32m    179\u001b[0m         \u001b[38;5;28;01mif\u001b[39;00m \u001b[38;5;28misinstance\u001b[39m(x, (ak\u001b[38;5;241m.\u001b[39mcontents\u001b[38;5;241m.\u001b[39mContent, ak\u001b[38;5;241m.\u001b[39mrecord\u001b[38;5;241m.\u001b[39mRecord))\n\u001b[1;32m    180\u001b[0m         \u001b[38;5;28;01melse\u001b[39;00m x\n\u001b[1;32m    181\u001b[0m         \u001b[38;5;28;01mfor\u001b[39;00m x \u001b[38;5;129;01min\u001b[39;00m inputs\n\u001b[1;32m    182\u001b[0m     ]\n\u001b[0;32m--> 183\u001b[0m     out \u001b[38;5;241m=\u001b[39m \u001b[43mcustom\u001b[49m\u001b[43m(\u001b[49m\u001b[38;5;241;43m*\u001b[39;49m\u001b[43margs\u001b[49m\u001b[43m,\u001b[49m\u001b[43m \u001b[49m\u001b[38;5;241;43m*\u001b[39;49m\u001b[38;5;241;43m*\u001b[39;49m\u001b[43mkwargs\u001b[49m\u001b[43m)\u001b[49m\n\u001b[1;32m    184\u001b[0m     \u001b[38;5;28;01mif\u001b[39;00m \u001b[38;5;129;01mnot\u001b[39;00m \u001b[38;5;28misinstance\u001b[39m(out, \u001b[38;5;28mtuple\u001b[39m):\n\u001b[1;32m    185\u001b[0m         out \u001b[38;5;241m=\u001b[39m (out,)\n",
      "File \u001b[0;32m~/coffeafcc/development/coffea/src/coffea/nanoevents/methods/vector.py:614\u001b[0m, in \u001b[0;36mLorentzVector.add\u001b[0;34m(self, other)\u001b[0m\n\u001b[1;32m    606\u001b[0m \u001b[38;5;129m@awkward\u001b[39m\u001b[38;5;241m.\u001b[39mmixin_class_method(numpy\u001b[38;5;241m.\u001b[39madd, {\u001b[38;5;124m\"\u001b[39m\u001b[38;5;124mLorentzVector\u001b[39m\u001b[38;5;124m\"\u001b[39m})\n\u001b[1;32m    607\u001b[0m \u001b[38;5;28;01mdef\u001b[39;00m \u001b[38;5;21madd\u001b[39m(\u001b[38;5;28mself\u001b[39m, other):\n\u001b[1;32m    608\u001b[0m \u001b[38;5;250m    \u001b[39m\u001b[38;5;124;03m\"\"\"Add two vectors together elementwise using `x`, `y`, `z`, and `t` components\"\"\"\u001b[39;00m\n\u001b[1;32m    609\u001b[0m     \u001b[38;5;28;01mreturn\u001b[39;00m awkward\u001b[38;5;241m.\u001b[39mzip(\n\u001b[1;32m    610\u001b[0m         {\n\u001b[1;32m    611\u001b[0m             \u001b[38;5;124m\"\u001b[39m\u001b[38;5;124mx\u001b[39m\u001b[38;5;124m\"\u001b[39m: \u001b[38;5;28mself\u001b[39m\u001b[38;5;241m.\u001b[39mx \u001b[38;5;241m+\u001b[39m other\u001b[38;5;241m.\u001b[39mx,\n\u001b[1;32m    612\u001b[0m             \u001b[38;5;124m\"\u001b[39m\u001b[38;5;124my\u001b[39m\u001b[38;5;124m\"\u001b[39m: \u001b[38;5;28mself\u001b[39m\u001b[38;5;241m.\u001b[39my \u001b[38;5;241m+\u001b[39m other\u001b[38;5;241m.\u001b[39my,\n\u001b[1;32m    613\u001b[0m             \u001b[38;5;124m\"\u001b[39m\u001b[38;5;124mz\u001b[39m\u001b[38;5;124m\"\u001b[39m: \u001b[38;5;28mself\u001b[39m\u001b[38;5;241m.\u001b[39mz \u001b[38;5;241m+\u001b[39m other\u001b[38;5;241m.\u001b[39mz,\n\u001b[0;32m--> 614\u001b[0m             \u001b[38;5;124m\"\u001b[39m\u001b[38;5;124mt\u001b[39m\u001b[38;5;124m\"\u001b[39m: \u001b[38;5;28;43mself\u001b[39;49m\u001b[38;5;241;43m.\u001b[39;49m\u001b[43mt\u001b[49m \u001b[38;5;241m+\u001b[39m other\u001b[38;5;241m.\u001b[39mt,\n\u001b[1;32m    615\u001b[0m         },\n\u001b[1;32m    616\u001b[0m         with_name\u001b[38;5;241m=\u001b[39m\u001b[38;5;124m\"\u001b[39m\u001b[38;5;124mLorentzVector\u001b[39m\u001b[38;5;124m\"\u001b[39m,\n\u001b[1;32m    617\u001b[0m         behavior\u001b[38;5;241m=\u001b[39m\u001b[38;5;28mself\u001b[39m\u001b[38;5;241m.\u001b[39mbehavior,\n\u001b[1;32m    618\u001b[0m     )\n",
      "File \u001b[0;32m~/coffeafcc/development/fcc-dev/lib64/python3.12/site-packages/awkward/highlevel.py:1240\u001b[0m, in \u001b[0;36mArray.__getattr__\u001b[0;34m(self, where)\u001b[0m\n\u001b[1;32m   1235\u001b[0m         \u001b[38;5;28;01mraise\u001b[39;00m \u001b[38;5;167;01mAttributeError\u001b[39;00m(\n\u001b[1;32m   1236\u001b[0m             \u001b[38;5;124mf\u001b[39m\u001b[38;5;124m\"\u001b[39m\u001b[38;5;124mwhile trying to get field \u001b[39m\u001b[38;5;132;01m{\u001b[39;00mwhere\u001b[38;5;132;01m!r}\u001b[39;00m\u001b[38;5;124m, an exception \u001b[39m\u001b[38;5;124m\"\u001b[39m\n\u001b[1;32m   1237\u001b[0m             \u001b[38;5;124mf\u001b[39m\u001b[38;5;124m\"\u001b[39m\u001b[38;5;124moccurred:\u001b[39m\u001b[38;5;130;01m\\n\u001b[39;00m\u001b[38;5;132;01m{\u001b[39;00m\u001b[38;5;28mtype\u001b[39m(err)\u001b[38;5;132;01m}\u001b[39;00m\u001b[38;5;124m: \u001b[39m\u001b[38;5;132;01m{\u001b[39;00merr\u001b[38;5;132;01m!s}\u001b[39;00m\u001b[38;5;124m\"\u001b[39m\n\u001b[1;32m   1238\u001b[0m         ) \u001b[38;5;28;01mfrom\u001b[39;00m \u001b[38;5;21;01merr\u001b[39;00m\n\u001b[1;32m   1239\u001b[0m \u001b[38;5;28;01melse\u001b[39;00m:\n\u001b[0;32m-> 1240\u001b[0m     \u001b[38;5;28;01mraise\u001b[39;00m \u001b[38;5;167;01mAttributeError\u001b[39;00m(\u001b[38;5;124mf\u001b[39m\u001b[38;5;124m\"\u001b[39m\u001b[38;5;124mno field named \u001b[39m\u001b[38;5;132;01m{\u001b[39;00mwhere\u001b[38;5;132;01m!r}\u001b[39;00m\u001b[38;5;124m\"\u001b[39m)\n",
      "\u001b[0;31mAttributeError\u001b[0m: no field named 't'",
      "\u001b[0m\nThis error occurred while calling\n\n    numpy.add.__call__(\n        <RecoParticleArray [{type: 0, E: 0.786, ...}, ...] type='99958 * Re...'>\n        <RecoParticleArray [{type: 0, E: 0.67, ...}, ...] type='99958 * Rec...'>\n    )"
     ]
    }
   ],
   "source": [
    "import dask_awkward as dak\n",
    "goodevents = events.ReconstructedParticles[dak.num(events.ReconstructedParticles) >= 2 ] # at least two reco particles\n",
    "r1 = goodevents[:,0].compute() # first reco particle in each event\n",
    "r2 = goodevents[:,1].compute() # second reco particle in each event\n",
    "\n",
    "r1+r2"
   ]
  }
 ],
 "metadata": {
  "kernelspec": {
   "display_name": "fcc-dev",
   "language": "python",
   "name": "fcc-dev"
  },
  "language_info": {
   "codemirror_mode": {
    "name": "ipython",
    "version": 3
   },
   "file_extension": ".py",
   "mimetype": "text/x-python",
   "name": "python",
   "nbconvert_exporter": "python",
   "pygments_lexer": "ipython3",
   "version": "3.12.4"
  }
 },
 "nbformat": 4,
 "nbformat_minor": 5
}
