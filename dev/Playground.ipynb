{
 "cells": [
  {
   "cell_type": "code",
   "execution_count": 12,
   "id": "9c16f947-e1d7-4e20-ae93-0b2082ec27e2",
   "metadata": {},
   "outputs": [
    {
     "name": "stdout",
     "output_type": "stream",
     "text": [
      "_______________________________________\n",
      "\tCurrent Configuration\n",
      "---------------------------------------\n",
      "Coffea Version:  0.1.dev3583+ge06c4b8\n",
      "Branch: \t master\n",
      "Modified by: \t Prayag Yadav\n",
      "_______________________________________\n"
     ]
    }
   ],
   "source": [
    "import coffea\n",
    "from git import Repo\n",
    "import awkward as ak\n",
    "import uproot\n",
    "import dask_awkward as dak\n",
    "mod = \"Prayag Yadav\"\n",
    "local_repo = Repo(path='coffea')\n",
    "local_branch = local_repo.active_branch.name\n",
    "print(\"_______________________________________\")\n",
    "print(\"\\tCurrent Configuration\")\n",
    "print(\"---------------------------------------\")\n",
    "print(\"Coffea Version: \", coffea.__version__)\n",
    "print(\"Branch: \\t\", local_branch)\n",
    "print(\"Modified by: \\t\", mod)\n",
    "print(\"_______________________________________\")\n"
   ]
  },
  {
   "cell_type": "code",
   "execution_count": 68,
   "id": "7f59e9a5-3885-4d37-b9a7-a5e81baf670a",
   "metadata": {},
   "outputs": [],
   "source": [
    "from coffea.nanoevents import NanoEventsFactory, FCCSchema, FCC\n",
    "test_file = '../../../coffea-fcc-analyses/data/p8_ee_ZH_ecm240/events_082532938.root'\n",
    "file = uproot.open(test_file)\n",
    "\n",
    "events = NanoEventsFactory.from_root(\n",
    "    test_file+\":events\",\n",
    "    entry_stop=100,\n",
    "    schemaclass= FCC.get_schema(version=\"latest\"),\n",
    "    delayed = False,\n",
    "    metadata=file[\"metadata\"].arrays()\n",
    ").events()\n",
    "\n",
    "file.close()"
   ]
  },
  {
   "cell_type": "code",
   "execution_count": 69,
   "id": "0e1dd84d-1f88-46ef-a363-f4e0fa602ba6",
   "metadata": {},
   "outputs": [
    {
     "data": {
      "text/html": [
       "<pre>[[&#x27;Electron&#x27;, &#x27;Muon&#x27;, &#x27;AllMuon&#x27;, ..., &#x27;ParticleIDs&#x27;, &#x27;Jet&#x27;, &#x27;EFlowTrack&#x27;]]\n",
       "--------------------------------------------------------------------------\n",
       "type: 1 * var * string</pre>"
      ],
      "text/plain": [
       "<Array [['Electron', 'Muon', ..., 'Jet', 'EFlowTrack']] type='1 * var * string'>"
      ]
     },
     "execution_count": 69,
     "metadata": {},
     "output_type": "execute_result"
    }
   ],
   "source": [
    "events.metadata.m_names"
   ]
  },
  {
   "cell_type": "code",
   "execution_count": 3,
   "id": "61f533cf-4dd1-44c8-8275-ad2a3fa2dad7",
   "metadata": {
    "scrolled": true
   },
   "outputs": [
    {
     "data": {
      "text/plain": [
       "['AllMuonidx0',\n",
       " 'EFlowNeutralHadron',\n",
       " 'EFlowNeutralHadron_0',\n",
       " 'EFlowNeutralHadron_1',\n",
       " 'EFlowNeutralHadron_2',\n",
       " 'EFlowNeutralHadronidx0',\n",
       " 'EFlowNeutralHadronidx1',\n",
       " 'EFlowNeutralHadronidx2',\n",
       " 'EFlowPhoton',\n",
       " 'EFlowPhoton_0',\n",
       " 'EFlowPhoton_1',\n",
       " 'EFlowPhoton_2',\n",
       " 'EFlowPhotonidx0',\n",
       " 'EFlowPhotonidx1',\n",
       " 'EFlowPhotonidx2',\n",
       " 'EFlowTrack',\n",
       " 'EFlowTrack_0',\n",
       " 'EFlowTrack_1',\n",
       " 'EFlowTrackidx0',\n",
       " 'EFlowTrackidx1',\n",
       " 'Electronidx0',\n",
       " 'Jet',\n",
       " 'Jetidx0',\n",
       " 'Jetidx1',\n",
       " 'Jetidx2',\n",
       " 'Jetidx3',\n",
       " 'Jetidx4',\n",
       " 'Jetidx5',\n",
       " 'MCRecoAssociations',\n",
       " 'MCRecoAssociationsidx0',\n",
       " 'MCRecoAssociationsidx1',\n",
       " 'MissingET',\n",
       " 'MissingETidx0',\n",
       " 'MissingETidx1',\n",
       " 'MissingETidx2',\n",
       " 'MissingETidx3',\n",
       " 'MissingETidx4',\n",
       " 'MissingETidx5',\n",
       " 'Muonidx0',\n",
       " 'Particle',\n",
       " 'ParticleIDs',\n",
       " 'ParticleIDs_0',\n",
       " 'Particleidx0',\n",
       " 'Particleidx1',\n",
       " 'Photonidx0',\n",
       " 'ReconstructedParticles',\n",
       " 'ReconstructedParticlesidx0',\n",
       " 'ReconstructedParticlesidx1',\n",
       " 'ReconstructedParticlesidx2',\n",
       " 'ReconstructedParticlesidx3',\n",
       " 'ReconstructedParticlesidx4',\n",
       " 'ReconstructedParticlesidx5']"
      ]
     },
     "execution_count": 3,
     "metadata": {},
     "output_type": "execute_result"
    }
   ],
   "source": [
    "events.fields"
   ]
  },
  {
   "cell_type": "code",
   "execution_count": 4,
   "id": "c5d9295c-8da4-481e-ba48-c512b187577d",
   "metadata": {},
   "outputs": [
    {
     "data": {
      "text/plain": [
       "<bound method Array.show of <NanoEventsArray [FCC Events, FCC Events, ..., FCC Events] type='100 * event'>>"
      ]
     },
     "execution_count": 4,
     "metadata": {},
     "output_type": "execute_result"
    }
   ],
   "source": [
    "events.show"
   ]
  },
  {
   "cell_type": "code",
   "execution_count": 14,
   "id": "59e02f40-0997-4d44-9179-8e52d9e71175",
   "metadata": {},
   "outputs": [],
   "source": [
    "file = uproot.open(test_file)"
   ]
  },
  {
   "cell_type": "code",
   "execution_count": 16,
   "id": "ad196a2c-7a03-450c-bdef-4d864b83e443",
   "metadata": {},
   "outputs": [
    {
     "data": {
      "text/plain": [
       "{'events;33': 'TTree',\n",
       " 'events;32': 'TTree',\n",
       " 'metadata;1': 'TTree',\n",
       " 'run_metadata;1': 'TTree',\n",
       " 'evt_metadata;1': 'TTree',\n",
       " 'col_metadata;1': 'TTree'}"
      ]
     },
     "execution_count": 16,
     "metadata": {},
     "output_type": "execute_result"
    }
   ],
   "source": [
    "file.classnames()"
   ]
  },
  {
   "cell_type": "code",
   "execution_count": 19,
   "id": "f1cd7f4b-eb2f-485d-ab69-5eb5e0850706",
   "metadata": {},
   "outputs": [
    {
     "name": "stdout",
     "output_type": "stream",
     "text": [
      "name                 | typename                 | interpretation                \n",
      "---------------------+--------------------------+-------------------------------\n",
      "CollectionIDs        | podio::CollectionIDTable | AsGroup(<TBranchElement 'Co...\n",
      "CollectionIDs/m_c... | std::vector<int32_t>     | AsJagged(AsDtype('>i4'), he...\n",
      "CollectionIDs/m_n... | std::vector<std::string> | AsObjects(AsVector(True, As...\n"
     ]
    }
   ],
   "source": [
    "metadata = file[\"metadata\"]\n",
    "metadata.show()"
   ]
  },
  {
   "cell_type": "code",
   "execution_count": 25,
   "id": "ee1001e7-0e50-46e4-836f-0dc94e69dcb0",
   "metadata": {},
   "outputs": [
    {
     "name": "stdout",
     "output_type": "stream",
     "text": [
      "name                 | typename                 | interpretation                \n",
      "---------------------+--------------------------+-------------------------------\n",
      "CollectionIDs        | podio::CollectionIDTable | AsGroup(<TBranchElement 'Colle\n",
      "m_collectionIDs      | std::vector<int32_t>     | AsJagged(AsDtype('>i4'), he...\n",
      "m_names              | std::vector<std::string> | AsObjects(AsVector(True, As...\n"
     ]
    }
   ],
   "source": [
    "metadata['CollectionIDs'].show()"
   ]
  },
  {
   "cell_type": "code",
   "execution_count": 32,
   "id": "222f9852-7ede-4ea5-b376-35394bc7d64a",
   "metadata": {},
   "outputs": [
    {
     "data": {
      "text/html": [
       "<pre>[{m_collectionIDs: [1, 2, 3, ..., 11, 12, 13], m_names: [...]}]\n",
       "---------------------------------------------------------------\n",
       "type: 1 * {\n",
       "    m_collectionIDs: var * int32,\n",
       "    m_names: var * string\n",
       "}</pre>"
      ],
      "text/plain": [
       "<Array [{m_collectionIDs: [...], ...}] type='1 * {m_collectionIDs: var * in...'>"
      ]
     },
     "execution_count": 32,
     "metadata": {},
     "output_type": "execute_result"
    }
   ],
   "source": [
    "m = metadata.arrays()\n",
    "m"
   ]
  },
  {
   "cell_type": "code",
   "execution_count": 37,
   "id": "a5533aab-a8a0-4a18-8f17-5b96252efacf",
   "metadata": {},
   "outputs": [
    {
     "name": "stdout",
     "output_type": "stream",
     "text": [
      "[[1, 2, 3, 4, 5, 6, 7, 8, 9, 10, 11, 12, 13]]\n"
     ]
    }
   ],
   "source": [
    "print(m.m_collectionIDs)"
   ]
  },
  {
   "cell_type": "code",
   "execution_count": 40,
   "id": "760e28a1-0e69-4c84-9f65-8ae451bac7e8",
   "metadata": {},
   "outputs": [
    {
     "name": "stdout",
     "output_type": "stream",
     "text": [
      "name                 | typename                 | interpretation                \n",
      "---------------------+--------------------------+-------------------------------\n",
      "colMD                | map<int,podio::Generi... | AsGroup(<TBranchElement 'co...\n",
      "colMD/colMD.first    | int32_t[]                | AsJagged(AsDtype('>i4'))\n",
      "colMD/colMD.secon... | std::map<std::string,... | AsObjects(AsArray(True, Fal...\n",
      "colMD/colMD.secon... | std::map<std::string,... | AsObjects(AsArray(True, Fal...\n",
      "colMD/colMD.secon... | std::map<std::string,... | AsObjects(AsArray(True, Fal...\n"
     ]
    }
   ],
   "source": [
    "file[\"col_metadata\"].show()"
   ]
  },
  {
   "cell_type": "code",
   "execution_count": null,
   "id": "e6b8373e-63ed-4a56-88c4-5aac538c4bb7",
   "metadata": {},
   "outputs": [],
   "source": []
  }
 ],
 "metadata": {
  "kernelspec": {
   "display_name": "fcc-dev",
   "language": "python",
   "name": "fcc-dev"
  },
  "language_info": {
   "codemirror_mode": {
    "name": "ipython",
    "version": 3
   },
   "file_extension": ".py",
   "mimetype": "text/x-python",
   "name": "python",
   "nbconvert_exporter": "python",
   "pygments_lexer": "ipython3",
   "version": "3.12.4"
  }
 },
 "nbformat": 4,
 "nbformat_minor": 5
}
