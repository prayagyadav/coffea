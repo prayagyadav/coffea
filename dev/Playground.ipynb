{
 "cells": [
  {
   "cell_type": "code",
   "execution_count": 1,
   "id": "9c16f947-e1d7-4e20-ae93-0b2082ec27e2",
   "metadata": {},
   "outputs": [
    {
     "name": "stderr",
     "output_type": "stream",
     "text": [
      "/home/prayag/coffeafcc/development/coffea/src/coffea/nanoevents/methods/fcc.py:6: FutureWarning: In version 2024.7.0 (target date: 2024-06-30 11:59:59-05:00), this will be an error.\n",
      "To raise these warnings as errors (and get stack traces to find out where they're called), run\n",
      "    import warnings\n",
      "    warnings.filterwarnings(\"error\", module=\"coffea.*\")\n",
      "after the first `import coffea` or use `@pytest.mark.filterwarnings(\"error:::coffea.*\")` in pytest.\n",
      "Issue: coffea.nanoevents.methods.vector will be removed and replaced with scikit-hep vector. Nanoevents schemas internal to coffea will be migrated. Otherwise please consider using that package!.\n",
      "  from coffea.nanoevents.methods import base, vector\n"
     ]
    },
    {
     "name": "stdout",
     "output_type": "stream",
     "text": [
      "_______________________________________\n",
      "\tCurrent Configuration\n",
      "---------------------------------------\n",
      "Coffea Version:  0.1.dev3583+ge06c4b8\n",
      "Branch: \t use_scikithep_vector\n",
      "Modified by: \t Prayag Yadav\n",
      "_______________________________________\n"
     ]
    }
   ],
   "source": [
    "import coffea\n",
    "from git import Repo\n",
    "import awkward as ak\n",
    "import dask_awkward as dak\n",
    "import vector\n",
    "mod = \"Prayag Yadav\"\n",
    "local_repo = Repo(path='coffea')\n",
    "local_branch = local_repo.active_branch.name\n",
    "test_file = '../../../coffea-fcc-analyses/data/p8_ee_ZH_ecm240/events_082532938.root'\n",
    "from coffea.nanoevents import NanoEventsFactory, FCCSchema, FCC\n",
    "print(\"_______________________________________\")\n",
    "print(\"\\tCurrent Configuration\")\n",
    "print(\"---------------------------------------\")\n",
    "print(\"Coffea Version: \", coffea.__version__)\n",
    "print(\"Branch: \\t\", local_branch)\n",
    "print(\"Modified by: \\t\", mod)\n",
    "print(\"_______________________________________\")\n"
   ]
  },
  {
   "cell_type": "code",
   "execution_count": 2,
   "id": "7f59e9a5-3885-4d37-b9a7-a5e81baf670a",
   "metadata": {},
   "outputs": [
    {
     "name": "stdout",
     "output_type": "stream",
     "text": [
      "Jet\n",
      "ParticleIDs\n",
      "ReconstructedParticles\n",
      "EFlowNeutralHadron\n",
      "MissingET\n",
      "Particle\n",
      "MCRecoAssociations\n",
      "EFlowPhoton\n",
      "EFlowTrack\n"
     ]
    }
   ],
   "source": [
    "events = NanoEventsFactory.from_root(\n",
    "    test_file+\":events\",\n",
    "    entry_stop=100,\n",
    "    schemaclass= FCC.get_schema(zip_missing=False),\n",
    "    delayed = False\n",
    ").events()"
   ]
  },
  {
   "cell_type": "code",
   "execution_count": 3,
   "id": "9de49bb8-1de2-42b2-8ccd-4099d8f2f816",
   "metadata": {},
   "outputs": [
    {
     "data": {
      "text/plain": [
       "['AllMuonidx0_collectionID',\n",
       " 'AllMuonidx0_index',\n",
       " 'EFlowNeutralHadron',\n",
       " 'EFlowNeutralHadronidx0_collectionID',\n",
       " 'EFlowNeutralHadronidx0_index',\n",
       " 'EFlowNeutralHadronidx1_collectionID',\n",
       " 'EFlowNeutralHadronidx1_index',\n",
       " 'EFlowNeutralHadronidx2_collectionID',\n",
       " 'EFlowNeutralHadronidx2_index',\n",
       " 'EFlowPhoton',\n",
       " 'EFlowPhotonidx0_collectionID',\n",
       " 'EFlowPhotonidx0_index',\n",
       " 'EFlowPhotonidx1_collectionID',\n",
       " 'EFlowPhotonidx1_index',\n",
       " 'EFlowPhotonidx2_collectionID',\n",
       " 'EFlowPhotonidx2_index',\n",
       " 'EFlowTrack',\n",
       " 'EFlowTrackidx0_collectionID',\n",
       " 'EFlowTrackidx0_index',\n",
       " 'EFlowTrackidx1_collectionID',\n",
       " 'EFlowTrackidx1_index',\n",
       " 'Electronidx0_collectionID',\n",
       " 'Electronidx0_index',\n",
       " 'Jet',\n",
       " 'Jetidx0_collectionID',\n",
       " 'Jetidx0_index',\n",
       " 'Jetidx1_collectionID',\n",
       " 'Jetidx1_index',\n",
       " 'Jetidx2_collectionID',\n",
       " 'Jetidx2_index',\n",
       " 'Jetidx3_collectionID',\n",
       " 'Jetidx3_index',\n",
       " 'Jetidx4_collectionID',\n",
       " 'Jetidx4_index',\n",
       " 'Jetidx5_collectionID',\n",
       " 'Jetidx5_index',\n",
       " 'MCRecoAssociations',\n",
       " 'MCRecoAssociationsidx0_collectionID',\n",
       " 'MCRecoAssociationsidx0_index',\n",
       " 'MCRecoAssociationsidx1_collectionID',\n",
       " 'MCRecoAssociationsidx1_index',\n",
       " 'MissingET',\n",
       " 'MissingETidx0_collectionID',\n",
       " 'MissingETidx0_index',\n",
       " 'MissingETidx1_collectionID',\n",
       " 'MissingETidx1_index',\n",
       " 'MissingETidx2_collectionID',\n",
       " 'MissingETidx2_index',\n",
       " 'MissingETidx3_collectionID',\n",
       " 'MissingETidx3_index',\n",
       " 'MissingETidx4_collectionID',\n",
       " 'MissingETidx4_index',\n",
       " 'MissingETidx5_collectionID',\n",
       " 'MissingETidx5_index',\n",
       " 'Muonidx0_collectionID',\n",
       " 'Muonidx0_index',\n",
       " 'Particle',\n",
       " 'ParticleIDs',\n",
       " 'Particleidx0_collectionID',\n",
       " 'Particleidx0_index',\n",
       " 'Particleidx1_collectionID',\n",
       " 'Particleidx1_index',\n",
       " 'Photonidx0_collectionID',\n",
       " 'Photonidx0_index',\n",
       " 'ReconstructedParticles',\n",
       " 'ReconstructedParticlesidx0_collectionID',\n",
       " 'ReconstructedParticlesidx0_index',\n",
       " 'ReconstructedParticlesidx1_collectionID',\n",
       " 'ReconstructedParticlesidx1_index',\n",
       " 'ReconstructedParticlesidx2_collectionID',\n",
       " 'ReconstructedParticlesidx2_index',\n",
       " 'ReconstructedParticlesidx3_collectionID',\n",
       " 'ReconstructedParticlesidx3_index',\n",
       " 'ReconstructedParticlesidx4_collectionID',\n",
       " 'ReconstructedParticlesidx4_index',\n",
       " 'ReconstructedParticlesidx5_collectionID',\n",
       " 'ReconstructedParticlesidx5_index']"
      ]
     },
     "execution_count": 3,
     "metadata": {},
     "output_type": "execute_result"
    }
   ],
   "source": [
    "events.fields"
   ]
  },
  {
   "cell_type": "code",
   "execution_count": 4,
   "id": "21fc85f7-2bd8-472b-ad5b-372f09a71b45",
   "metadata": {},
   "outputs": [
    {
     "data": {
      "text/html": [
       "<pre>[[],\n",
       " [],\n",
       " [],\n",
       " [],\n",
       " [],\n",
       " [],\n",
       " [],\n",
       " [],\n",
       " [],\n",
       " [],\n",
       " ...,\n",
       " [],\n",
       " [],\n",
       " [],\n",
       " [],\n",
       " [],\n",
       " [],\n",
       " [],\n",
       " [],\n",
       " []]\n",
       "-----------------------------------------------------------------------------------\n",
       "type: 100 * var * int32[parameters={&quot;__doc__&quot;: &quot;index[ReconstructedParticles#2_]&quot;}]</pre>"
      ],
      "text/plain": [
       "<Array [[], [], [], [], ..., [], [], [], []] type='100 * var * int32[parame...'>"
      ]
     },
     "execution_count": 4,
     "metadata": {},
     "output_type": "execute_result"
    }
   ],
   "source": [
    "events.ReconstructedParticlesidx2_index"
   ]
  },
  {
   "cell_type": "code",
   "execution_count": 5,
   "id": "2236529e-26c8-4681-b5d7-e7d7782994fa",
   "metadata": {},
   "outputs": [],
   "source": [
    "Muons = events.ReconstructedParticles.match_collection(events.Muonidx0_index)"
   ]
  },
  {
   "cell_type": "code",
   "execution_count": 16,
   "id": "3798d1b3-bed7-447c-8197-c3076ad9630e",
   "metadata": {},
   "outputs": [
    {
     "data": {
      "text/html": [
       "<pre>[-1.71,\n",
       " -2.58]\n",
       "-----------------\n",
       "type: 2 * float32</pre>"
      ],
      "text/plain": [
       "<Array [-1.71, -2.58] type='2 * float32'>"
      ]
     },
     "execution_count": 16,
     "metadata": {},
     "output_type": "execute_result"
    }
   ],
   "source": [
    "Muons[-2].phi"
   ]
  },
  {
   "cell_type": "code",
   "execution_count": null,
   "id": "c97fcd31-a085-4aa2-9a04-cd7c1459e59f",
   "metadata": {},
   "outputs": [],
   "source": []
  }
 ],
 "metadata": {
  "kernelspec": {
   "display_name": "fcc-dev",
   "language": "python",
   "name": "fcc-dev"
  },
  "language_info": {
   "codemirror_mode": {
    "name": "ipython",
    "version": 3
   },
   "file_extension": ".py",
   "mimetype": "text/x-python",
   "name": "python",
   "nbconvert_exporter": "python",
   "pygments_lexer": "ipython3",
   "version": "3.12.4"
  }
 },
 "nbformat": 4,
 "nbformat_minor": 5
}
