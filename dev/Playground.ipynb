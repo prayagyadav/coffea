{
 "cells": [
  {
   "cell_type": "code",
   "execution_count": 1,
   "id": "9c16f947-e1d7-4e20-ae93-0b2082ec27e2",
   "metadata": {},
   "outputs": [
    {
     "name": "stderr",
     "output_type": "stream",
     "text": [
      "/home/prayag/coffeafcc/development/coffea/src/coffea/nanoevents/methods/fcc.py:6: FutureWarning: In version 2025.1.0 (target date: 2024-12-31 11:59:59-06:00), this will be an error.\n",
      "To raise these warnings as errors (and get stack traces to find out where they're called), run\n",
      "    import warnings\n",
      "    warnings.filterwarnings(\"error\", module=\"coffea.*\")\n",
      "after the first `import coffea` or use `@pytest.mark.filterwarnings(\"error:::coffea.*\")` in pytest.\n",
      "Issue: coffea.nanoevents.methods.vector will be removed and replaced with scikit-hep vector. Nanoevents schemas internal to coffea will be migrated. Otherwise please consider using that package!.\n",
      "  from coffea.nanoevents.methods import base, vector\n"
     ]
    },
    {
     "ename": "TypeError",
     "evalue": "Cannot create a consistent method resolution\norder (MRO) for bases VectorAwkward, MomentumProtocolSpatial",
     "output_type": "error",
     "traceback": [
      "\u001b[0;31m---------------------------------------------------------------------------\u001b[0m",
      "\u001b[0;31mTypeError\u001b[0m                                 Traceback (most recent call last)",
      "Cell \u001b[0;32mIn[1], line 10\u001b[0m\n\u001b[1;32m      8\u001b[0m local_branch \u001b[38;5;241m=\u001b[39m local_repo\u001b[38;5;241m.\u001b[39mactive_branch\u001b[38;5;241m.\u001b[39mname\n\u001b[1;32m      9\u001b[0m test_file \u001b[38;5;241m=\u001b[39m \u001b[38;5;124m'\u001b[39m\u001b[38;5;124m../../../coffea-fcc-analyses/data/p8_ee_ZH_ecm240/events_082532938.root\u001b[39m\u001b[38;5;124m'\u001b[39m\n\u001b[0;32m---> 10\u001b[0m \u001b[38;5;28;01mfrom\u001b[39;00m \u001b[38;5;21;01mcoffea\u001b[39;00m\u001b[38;5;21;01m.\u001b[39;00m\u001b[38;5;21;01mnanoevents\u001b[39;00m \u001b[38;5;28;01mimport\u001b[39;00m NanoEventsFactory, FCCSchema, FCC\n\u001b[1;32m     11\u001b[0m \u001b[38;5;28mprint\u001b[39m(\u001b[38;5;124m\"\u001b[39m\u001b[38;5;124m_______________________________________\u001b[39m\u001b[38;5;124m\"\u001b[39m)\n\u001b[1;32m     12\u001b[0m \u001b[38;5;28mprint\u001b[39m(\u001b[38;5;124m\"\u001b[39m\u001b[38;5;130;01m\\t\u001b[39;00m\u001b[38;5;124mCurrent Configuration\u001b[39m\u001b[38;5;124m\"\u001b[39m)\n",
      "File \u001b[0;32m~/coffeafcc/development/coffea/src/coffea/nanoevents/__init__.py:5\u001b[0m\n\u001b[1;32m      1\u001b[0m \u001b[38;5;124;03m\"\"\"NanoEvents and helpers\u001b[39;00m\n\u001b[1;32m      2\u001b[0m \n\u001b[1;32m      3\u001b[0m \u001b[38;5;124;03m\"\"\"\u001b[39;00m\n\u001b[0;32m----> 5\u001b[0m \u001b[38;5;28;01mfrom\u001b[39;00m \u001b[38;5;21;01mcoffea\u001b[39;00m\u001b[38;5;21;01m.\u001b[39;00m\u001b[38;5;21;01mnanoevents\u001b[39;00m\u001b[38;5;21;01m.\u001b[39;00m\u001b[38;5;21;01mfactory\u001b[39;00m \u001b[38;5;28;01mimport\u001b[39;00m NanoEventsFactory\n\u001b[1;32m      6\u001b[0m \u001b[38;5;28;01mfrom\u001b[39;00m \u001b[38;5;21;01mcoffea\u001b[39;00m\u001b[38;5;21;01m.\u001b[39;00m\u001b[38;5;21;01mnanoevents\u001b[39;00m\u001b[38;5;21;01m.\u001b[39;00m\u001b[38;5;21;01mschemas\u001b[39;00m \u001b[38;5;28;01mimport\u001b[39;00m (\n\u001b[1;32m      7\u001b[0m     BaseSchema,\n\u001b[1;32m      8\u001b[0m     DelphesSchema,\n\u001b[0;32m   (...)\u001b[0m\n\u001b[1;32m     15\u001b[0m     TreeMakerSchema,\n\u001b[1;32m     16\u001b[0m )\n\u001b[1;32m     18\u001b[0m __all__ \u001b[38;5;241m=\u001b[39m [\n\u001b[1;32m     19\u001b[0m     \u001b[38;5;124m\"\u001b[39m\u001b[38;5;124mNanoEventsFactory\u001b[39m\u001b[38;5;124m\"\u001b[39m,\n\u001b[1;32m     20\u001b[0m     \u001b[38;5;124m\"\u001b[39m\u001b[38;5;124mBaseSchema\u001b[39m\u001b[38;5;124m\"\u001b[39m,\n\u001b[0;32m   (...)\u001b[0m\n\u001b[1;32m     28\u001b[0m     \u001b[38;5;124m\"\u001b[39m\u001b[38;5;124mFCCSchema\u001b[39m\u001b[38;5;124m\"\u001b[39m\n\u001b[1;32m     29\u001b[0m ]\n",
      "File \u001b[0;32m~/coffeafcc/development/coffea/src/coffea/nanoevents/factory.py:23\u001b[0m\n\u001b[1;32m     12\u001b[0m \u001b[38;5;28;01mimport\u001b[39;00m \u001b[38;5;21;01muproot\u001b[39;00m\n\u001b[1;32m     14\u001b[0m \u001b[38;5;28;01mfrom\u001b[39;00m \u001b[38;5;21;01mcoffea\u001b[39;00m\u001b[38;5;21;01m.\u001b[39;00m\u001b[38;5;21;01mnanoevents\u001b[39;00m\u001b[38;5;21;01m.\u001b[39;00m\u001b[38;5;21;01mmapping\u001b[39;00m \u001b[38;5;28;01mimport\u001b[39;00m (\n\u001b[1;32m     15\u001b[0m     CachedMapping,\n\u001b[1;32m     16\u001b[0m     ParquetSourceMapping,\n\u001b[0;32m   (...)\u001b[0m\n\u001b[1;32m     21\u001b[0m     UprootSourceMapping,\n\u001b[1;32m     22\u001b[0m )\n\u001b[0;32m---> 23\u001b[0m \u001b[38;5;28;01mfrom\u001b[39;00m \u001b[38;5;21;01mcoffea\u001b[39;00m\u001b[38;5;21;01m.\u001b[39;00m\u001b[38;5;21;01mnanoevents\u001b[39;00m\u001b[38;5;21;01m.\u001b[39;00m\u001b[38;5;21;01mschemas\u001b[39;00m \u001b[38;5;28;01mimport\u001b[39;00m BaseSchema, NanoAODSchema\n\u001b[1;32m     24\u001b[0m \u001b[38;5;28;01mfrom\u001b[39;00m \u001b[38;5;21;01mcoffea\u001b[39;00m\u001b[38;5;21;01m.\u001b[39;00m\u001b[38;5;21;01mnanoevents\u001b[39;00m\u001b[38;5;21;01m.\u001b[39;00m\u001b[38;5;21;01mutil\u001b[39;00m \u001b[38;5;28;01mimport\u001b[39;00m key_to_tuple, quote, tuple_to_key, unquote\n\u001b[1;32m     25\u001b[0m \u001b[38;5;28;01mfrom\u001b[39;00m \u001b[38;5;21;01mcoffea\u001b[39;00m\u001b[38;5;21;01m.\u001b[39;00m\u001b[38;5;21;01mutil\u001b[39;00m \u001b[38;5;28;01mimport\u001b[39;00m _remove_not_interpretable\n",
      "File \u001b[0;32m~/coffeafcc/development/coffea/src/coffea/nanoevents/schemas/__init__.py:8\u001b[0m\n\u001b[1;32m      6\u001b[0m \u001b[38;5;28;01mfrom\u001b[39;00m \u001b[38;5;21;01m.\u001b[39;00m\u001b[38;5;21;01mtreemaker\u001b[39;00m \u001b[38;5;28;01mimport\u001b[39;00m TreeMakerSchema\n\u001b[1;32m      7\u001b[0m \u001b[38;5;28;01mfrom\u001b[39;00m \u001b[38;5;21;01m.\u001b[39;00m\u001b[38;5;21;01medm4hep\u001b[39;00m \u001b[38;5;28;01mimport\u001b[39;00m EDM4HEPSchema\n\u001b[0;32m----> 8\u001b[0m \u001b[38;5;28;01mfrom\u001b[39;00m \u001b[38;5;21;01m.\u001b[39;00m\u001b[38;5;21;01mfcc\u001b[39;00m \u001b[38;5;28;01mimport\u001b[39;00m FCCSchema\n\u001b[1;32m     10\u001b[0m __all__ \u001b[38;5;241m=\u001b[39m [\n\u001b[1;32m     11\u001b[0m     \u001b[38;5;124m\"\u001b[39m\u001b[38;5;124mBaseSchema\u001b[39m\u001b[38;5;124m\"\u001b[39m,\n\u001b[1;32m     12\u001b[0m     \u001b[38;5;124m\"\u001b[39m\u001b[38;5;124mNanoAODSchema\u001b[39m\u001b[38;5;124m\"\u001b[39m,\n\u001b[0;32m   (...)\u001b[0m\n\u001b[1;32m     19\u001b[0m     \u001b[38;5;124m\"\u001b[39m\u001b[38;5;124mFCCSchema\u001b[39m\u001b[38;5;124m\"\u001b[39m\n\u001b[1;32m     20\u001b[0m ]\n",
      "File \u001b[0;32m~/coffeafcc/development/coffea/src/coffea/nanoevents/schemas/fcc.py:8\u001b[0m\n\u001b[1;32m      5\u001b[0m \u001b[38;5;28;01mfrom\u001b[39;00m \u001b[38;5;21;01mdask_awkward\u001b[39;00m\u001b[38;5;21;01m.\u001b[39;00m\u001b[38;5;21;01mlib\u001b[39;00m\u001b[38;5;21;01m.\u001b[39;00m\u001b[38;5;21;01mcore\u001b[39;00m \u001b[38;5;28;01mimport\u001b[39;00m dask_method, dask_property\n\u001b[1;32m      7\u001b[0m \u001b[38;5;28;01mfrom\u001b[39;00m \u001b[38;5;21;01mcoffea\u001b[39;00m\u001b[38;5;21;01m.\u001b[39;00m\u001b[38;5;21;01mnanoevents\u001b[39;00m \u001b[38;5;28;01mimport\u001b[39;00m transforms\n\u001b[0;32m----> 8\u001b[0m \u001b[38;5;28;01mfrom\u001b[39;00m \u001b[38;5;21;01mcoffea\u001b[39;00m\u001b[38;5;21;01m.\u001b[39;00m\u001b[38;5;21;01mnanoevents\u001b[39;00m\u001b[38;5;21;01m.\u001b[39;00m\u001b[38;5;21;01mmethods\u001b[39;00m\u001b[38;5;21;01m.\u001b[39;00m\u001b[38;5;21;01mfcc\u001b[39;00m \u001b[38;5;28;01mimport\u001b[39;00m RecoParticle\n\u001b[1;32m      9\u001b[0m \u001b[38;5;28;01mfrom\u001b[39;00m \u001b[38;5;21;01mcoffea\u001b[39;00m\u001b[38;5;21;01m.\u001b[39;00m\u001b[38;5;21;01mnanoevents\u001b[39;00m\u001b[38;5;21;01m.\u001b[39;00m\u001b[38;5;21;01mschemas\u001b[39;00m\u001b[38;5;21;01m.\u001b[39;00m\u001b[38;5;21;01mbase\u001b[39;00m \u001b[38;5;28;01mimport\u001b[39;00m BaseSchema, nest_jagged_forms, zip_forms\n\u001b[1;32m     10\u001b[0m \u001b[38;5;28;01mfrom\u001b[39;00m \u001b[38;5;21;01mcoffea\u001b[39;00m\u001b[38;5;21;01m.\u001b[39;00m\u001b[38;5;21;01mnanoevents\u001b[39;00m\u001b[38;5;21;01m.\u001b[39;00m\u001b[38;5;21;01mutil\u001b[39;00m \u001b[38;5;28;01mimport\u001b[39;00m concat\n",
      "File \u001b[0;32m~/coffeafcc/development/coffea/src/coffea/nanoevents/methods/fcc.py:6\u001b[0m\n\u001b[1;32m      3\u001b[0m \u001b[38;5;28;01mfrom\u001b[39;00m \u001b[38;5;21;01mdask_awkward\u001b[39;00m \u001b[38;5;28;01mimport\u001b[39;00m dask_property\n\u001b[1;32m      4\u001b[0m \u001b[38;5;28;01mimport\u001b[39;00m \u001b[38;5;21;01mnumpy\u001b[39;00m\n\u001b[0;32m----> 6\u001b[0m \u001b[38;5;28;01mfrom\u001b[39;00m \u001b[38;5;21;01mcoffea\u001b[39;00m\u001b[38;5;21;01m.\u001b[39;00m\u001b[38;5;21;01mnanoevents\u001b[39;00m\u001b[38;5;21;01m.\u001b[39;00m\u001b[38;5;21;01mmethods\u001b[39;00m \u001b[38;5;28;01mimport\u001b[39;00m base, vector\n\u001b[1;32m      8\u001b[0m \u001b[38;5;66;03m# PION_MASS = 0.13957018  # GeV\u001b[39;00m\n\u001b[1;32m     10\u001b[0m behavior \u001b[38;5;241m=\u001b[39m {}\n",
      "File \u001b[0;32m~/coffeafcc/development/coffea/src/coffea/nanoevents/methods/vector.py:1011\u001b[0m\n\u001b[1;32m   1007\u001b[0m PtEtaPhiELorentzVectorArray\u001b[38;5;241m.\u001b[39mProjectionClass4D \u001b[38;5;241m=\u001b[39m LorentzVectorArray  \u001b[38;5;66;03m# noqa: F821\u001b[39;00m\n\u001b[1;32m   1008\u001b[0m PtEtaPhiELorentzVectorArray\u001b[38;5;241m.\u001b[39mMomentumClass \u001b[38;5;241m=\u001b[39m LorentzVectorArray  \u001b[38;5;66;03m# noqa: F821\u001b[39;00m\n\u001b[1;32m   1010\u001b[0m \u001b[38;5;129;43m@awkward\u001b[39;49m\u001b[38;5;241;43m.\u001b[39;49m\u001b[43mmixin_class\u001b[49m\u001b[43m(\u001b[49m\u001b[43mbehavior\u001b[49m\u001b[43m)\u001b[49m\n\u001b[0;32m-> 1011\u001b[0m \u001b[38;5;28;43;01mclass\u001b[39;49;00m\u001b[43m \u001b[49m\u001b[38;5;21;43;01mPtThetaPhiELorentzVector\u001b[39;49;00m\u001b[43m(\u001b[49m\u001b[43mLorentzVector\u001b[49m\u001b[43m,\u001b[49m\u001b[43m \u001b[49m\u001b[43mSphericalThreeVector\u001b[49m\u001b[43m)\u001b[49m\u001b[43m:\u001b[49m\n\u001b[1;32m   1012\u001b[0m \u001b[38;5;250;43m    \u001b[39;49m\u001b[38;5;124;43;03m\"\"\"A Lorentz vector using theta and energy\u001b[39;49;00m\n\u001b[1;32m   1013\u001b[0m \n\u001b[1;32m   1014\u001b[0m \u001b[38;5;124;43;03m    This mixin class requires the parent class to provide items `pt`, `theta`, `phi`, and `energy`.\u001b[39;49;00m\n\u001b[1;32m   1015\u001b[0m \u001b[38;5;124;43;03m    Some additional properties are overridden for performance\u001b[39;49;00m\n\u001b[1;32m   1016\u001b[0m \u001b[38;5;124;43;03m    \"\"\"\u001b[39;49;00m\n\u001b[1;32m   1018\u001b[0m \u001b[43m    \u001b[49m\u001b[38;5;129;43m@property\u001b[39;49m\n\u001b[1;32m   1019\u001b[0m \u001b[43m    \u001b[49m\u001b[38;5;28;43;01mdef\u001b[39;49;00m\u001b[43m \u001b[49m\u001b[38;5;21;43mE\u001b[39;49m\u001b[43m(\u001b[49m\u001b[38;5;28;43mself\u001b[39;49m\u001b[43m)\u001b[49m\u001b[43m:\u001b[49m\n",
      "\u001b[0;31mTypeError\u001b[0m: Cannot create a consistent method resolution\norder (MRO) for bases VectorAwkward, MomentumProtocolSpatial"
     ]
    }
   ],
   "source": [
    "import coffea\n",
    "from git import Repo\n",
    "import awkward as ak\n",
    "import dask_awkward as dak\n",
    "import vector\n",
    "mod = \"Prayag Yadav\"\n",
    "local_repo = Repo(path='coffea')\n",
    "local_branch = local_repo.active_branch.name\n",
    "test_file = '../../../coffea-fcc-analyses/data/p8_ee_ZH_ecm240/events_082532938.root'\n",
    "from coffea.nanoevents import NanoEventsFactory, FCCSchema, FCC\n",
    "print(\"_______________________________________\")\n",
    "print(\"\\tCurrent Configuration\")\n",
    "print(\"---------------------------------------\")\n",
    "print(\"Coffea Version: \", coffea.__version__)\n",
    "print(\"Branch: \\t\", local_branch)\n",
    "print(\"Modified by: \\t\", mod)\n",
    "print(\"_______________________________________\")\n"
   ]
  },
  {
   "cell_type": "code",
   "execution_count": 2,
   "id": "7f59e9a5-3885-4d37-b9a7-a5e81baf670a",
   "metadata": {},
   "outputs": [
    {
     "name": "stdout",
     "output_type": "stream",
     "text": [
      "Jet\n",
      "ParticleIDs\n",
      "ReconstructedParticles\n",
      "EFlowNeutralHadron\n",
      "MissingET\n",
      "Particle\n",
      "MCRecoAssociations\n",
      "EFlowPhoton\n",
      "EFlowTrack\n"
     ]
    }
   ],
   "source": [
    "events = NanoEventsFactory.from_root(\n",
    "    test_file+\":events\",\n",
    "    entry_stop=100,\n",
    "    schemaclass= FCC.get_schema(zip_missing=False),\n",
    "    delayed = False\n",
    ").events()"
   ]
  },
  {
   "cell_type": "code",
   "execution_count": 3,
   "id": "9de49bb8-1de2-42b2-8ccd-4099d8f2f816",
   "metadata": {},
   "outputs": [
    {
     "data": {
      "text/plain": [
       "['AllMuonidx0_collectionID',\n",
       " 'AllMuonidx0_index',\n",
       " 'EFlowNeutralHadron',\n",
       " 'EFlowNeutralHadronidx0_collectionID',\n",
       " 'EFlowNeutralHadronidx0_index',\n",
       " 'EFlowNeutralHadronidx1_collectionID',\n",
       " 'EFlowNeutralHadronidx1_index',\n",
       " 'EFlowNeutralHadronidx2_collectionID',\n",
       " 'EFlowNeutralHadronidx2_index',\n",
       " 'EFlowPhoton',\n",
       " 'EFlowPhotonidx0_collectionID',\n",
       " 'EFlowPhotonidx0_index',\n",
       " 'EFlowPhotonidx1_collectionID',\n",
       " 'EFlowPhotonidx1_index',\n",
       " 'EFlowPhotonidx2_collectionID',\n",
       " 'EFlowPhotonidx2_index',\n",
       " 'EFlowTrack',\n",
       " 'EFlowTrackidx0_collectionID',\n",
       " 'EFlowTrackidx0_index',\n",
       " 'EFlowTrackidx1_collectionID',\n",
       " 'EFlowTrackidx1_index',\n",
       " 'Electronidx0_collectionID',\n",
       " 'Electronidx0_index',\n",
       " 'Jet',\n",
       " 'Jetidx0_collectionID',\n",
       " 'Jetidx0_index',\n",
       " 'Jetidx1_collectionID',\n",
       " 'Jetidx1_index',\n",
       " 'Jetidx2_collectionID',\n",
       " 'Jetidx2_index',\n",
       " 'Jetidx3_collectionID',\n",
       " 'Jetidx3_index',\n",
       " 'Jetidx4_collectionID',\n",
       " 'Jetidx4_index',\n",
       " 'Jetidx5_collectionID',\n",
       " 'Jetidx5_index',\n",
       " 'MCRecoAssociations',\n",
       " 'MCRecoAssociationsidx0_collectionID',\n",
       " 'MCRecoAssociationsidx0_index',\n",
       " 'MCRecoAssociationsidx1_collectionID',\n",
       " 'MCRecoAssociationsidx1_index',\n",
       " 'MissingET',\n",
       " 'MissingETidx0_collectionID',\n",
       " 'MissingETidx0_index',\n",
       " 'MissingETidx1_collectionID',\n",
       " 'MissingETidx1_index',\n",
       " 'MissingETidx2_collectionID',\n",
       " 'MissingETidx2_index',\n",
       " 'MissingETidx3_collectionID',\n",
       " 'MissingETidx3_index',\n",
       " 'MissingETidx4_collectionID',\n",
       " 'MissingETidx4_index',\n",
       " 'MissingETidx5_collectionID',\n",
       " 'MissingETidx5_index',\n",
       " 'Muonidx0_collectionID',\n",
       " 'Muonidx0_index',\n",
       " 'Particle',\n",
       " 'ParticleIDs',\n",
       " 'Particleidx0_collectionID',\n",
       " 'Particleidx0_index',\n",
       " 'Particleidx1_collectionID',\n",
       " 'Particleidx1_index',\n",
       " 'Photonidx0_collectionID',\n",
       " 'Photonidx0_index',\n",
       " 'ReconstructedParticles',\n",
       " 'ReconstructedParticlesidx0_collectionID',\n",
       " 'ReconstructedParticlesidx0_index',\n",
       " 'ReconstructedParticlesidx1_collectionID',\n",
       " 'ReconstructedParticlesidx1_index',\n",
       " 'ReconstructedParticlesidx2_collectionID',\n",
       " 'ReconstructedParticlesidx2_index',\n",
       " 'ReconstructedParticlesidx3_collectionID',\n",
       " 'ReconstructedParticlesidx3_index',\n",
       " 'ReconstructedParticlesidx4_collectionID',\n",
       " 'ReconstructedParticlesidx4_index',\n",
       " 'ReconstructedParticlesidx5_collectionID',\n",
       " 'ReconstructedParticlesidx5_index']"
      ]
     },
     "execution_count": 3,
     "metadata": {},
     "output_type": "execute_result"
    }
   ],
   "source": [
    "events.fields"
   ]
  },
  {
   "cell_type": "code",
   "execution_count": 4,
   "id": "21fc85f7-2bd8-472b-ad5b-372f09a71b45",
   "metadata": {},
   "outputs": [
    {
     "data": {
      "text/html": [
       "<pre>[[],\n",
       " [],\n",
       " [],\n",
       " [],\n",
       " [],\n",
       " [],\n",
       " [],\n",
       " [],\n",
       " [],\n",
       " [],\n",
       " ...,\n",
       " [],\n",
       " [],\n",
       " [],\n",
       " [],\n",
       " [],\n",
       " [],\n",
       " [],\n",
       " [],\n",
       " []]\n",
       "-----------------------------------------------------------------------------------\n",
       "type: 100 * var * int32[parameters={&quot;__doc__&quot;: &quot;index[ReconstructedParticles#2_]&quot;}]</pre>"
      ],
      "text/plain": [
       "<Array [[], [], [], [], ..., [], [], [], []] type='100 * var * int32[parame...'>"
      ]
     },
     "execution_count": 4,
     "metadata": {},
     "output_type": "execute_result"
    }
   ],
   "source": [
    "events.ReconstructedParticlesidx2_index"
   ]
  },
  {
   "cell_type": "code",
   "execution_count": 5,
   "id": "2236529e-26c8-4681-b5d7-e7d7782994fa",
   "metadata": {},
   "outputs": [],
   "source": [
    "Muons = events.ReconstructedParticles.match_collection(events.Muonidx0_index)"
   ]
  },
  {
   "cell_type": "code",
   "execution_count": 16,
   "id": "3798d1b3-bed7-447c-8197-c3076ad9630e",
   "metadata": {},
   "outputs": [
    {
     "data": {
      "text/html": [
       "<pre>[-1.71,\n",
       " -2.58]\n",
       "-----------------\n",
       "type: 2 * float32</pre>"
      ],
      "text/plain": [
       "<Array [-1.71, -2.58] type='2 * float32'>"
      ]
     },
     "execution_count": 16,
     "metadata": {},
     "output_type": "execute_result"
    }
   ],
   "source": [
    "Muons[-2].phi"
   ]
  },
  {
   "cell_type": "code",
   "execution_count": null,
   "id": "c97fcd31-a085-4aa2-9a04-cd7c1459e59f",
   "metadata": {},
   "outputs": [],
   "source": []
  }
 ],
 "metadata": {
  "kernelspec": {
   "display_name": "fcc-dev",
   "language": "python",
   "name": "fcc-dev"
  },
  "language_info": {
   "codemirror_mode": {
    "name": "ipython",
    "version": 3
   },
   "file_extension": ".py",
   "mimetype": "text/x-python",
   "name": "python",
   "nbconvert_exporter": "python",
   "pygments_lexer": "ipython3",
   "version": "3.12.4"
  }
 },
 "nbformat": 4,
 "nbformat_minor": 5
}
