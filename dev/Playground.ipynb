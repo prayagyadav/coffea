{
 "cells": [
  {
   "cell_type": "code",
   "execution_count": 1,
   "id": "0d666575-5e88-4dcf-98ed-3954fb9091ef",
   "metadata": {},
   "outputs": [
    {
     "data": {
      "text/plain": [
       "'Prayag Yadav'"
      ]
     },
     "execution_count": 1,
     "metadata": {},
     "output_type": "execute_result"
    }
   ],
   "source": [
    "import coffea\n",
    "import awkward as ak\n",
    "import vector\n",
    "import numpy as np\n",
    "import re\n",
    "coffea.__mod__"
   ]
  },
  {
   "cell_type": "code",
   "execution_count": 2,
   "id": "876a4d4c-9336-4c54-b364-986dbe41905d",
   "metadata": {},
   "outputs": [
    {
     "data": {
      "text/plain": [
       "40"
      ]
     },
     "execution_count": 2,
     "metadata": {},
     "output_type": "execute_result"
    }
   ],
   "source": [
    "import gc\n",
    "gc.collect()"
   ]
  },
  {
   "cell_type": "code",
   "execution_count": 9,
   "id": "88d37a84-86e3-4352-a39c-38472aa5fcaa",
   "metadata": {},
   "outputs": [
    {
     "ename": "TypeError",
     "evalue": "size of array (0) is less than size of form (10000)",
     "output_type": "error",
     "traceback": [
      "\u001b[0;31m---------------------------------------------------------------------------\u001b[0m",
      "\u001b[0;31mTypeError\u001b[0m                                 Traceback (most recent call last)",
      "Cell \u001b[0;32mIn[9], line 8\u001b[0m\n\u001b[1;32m      1\u001b[0m test_file \u001b[38;5;241m=\u001b[39m \u001b[38;5;124m\"\u001b[39m\u001b[38;5;124m../coffea-fcc-analyses/data/p8_ee_ZH_ecm240/events_082532938.root\u001b[39m\u001b[38;5;124m\"\u001b[39m\n\u001b[1;32m      2\u001b[0m \u001b[38;5;28;01mfrom\u001b[39;00m \u001b[38;5;21;01mcoffea\u001b[39;00m\u001b[38;5;21;01m.\u001b[39;00m\u001b[38;5;21;01mnanoevents\u001b[39;00m \u001b[38;5;28;01mimport\u001b[39;00m NanoEventsFactory, FCCSchema\n\u001b[1;32m      3\u001b[0m events \u001b[38;5;241m=\u001b[39m \u001b[43mNanoEventsFactory\u001b[49m\u001b[38;5;241;43m.\u001b[39;49m\u001b[43mfrom_root\u001b[49m\u001b[43m(\u001b[49m\n\u001b[1;32m      4\u001b[0m \u001b[43m    \u001b[49m\u001b[43mtest_file\u001b[49m\u001b[38;5;241;43m+\u001b[39;49m\u001b[38;5;124;43m\"\u001b[39;49m\u001b[38;5;124;43m:events\u001b[39;49m\u001b[38;5;124;43m\"\u001b[39;49m\u001b[43m,\u001b[49m\n\u001b[1;32m      5\u001b[0m \u001b[43m    \u001b[49m\u001b[43mentry_stop\u001b[49m\u001b[38;5;241;43m=\u001b[39;49m\u001b[38;5;241;43m10000\u001b[39;49m\u001b[43m,\u001b[49m\n\u001b[1;32m      6\u001b[0m \u001b[43m    \u001b[49m\u001b[43mschemaclass\u001b[49m\u001b[38;5;241;43m=\u001b[39;49m\u001b[43mFCCSchema\u001b[49m\u001b[43m,\u001b[49m\n\u001b[1;32m      7\u001b[0m \u001b[43m    \u001b[49m\u001b[43mdelayed\u001b[49m\u001b[38;5;241;43m=\u001b[39;49m\u001b[38;5;28;43;01mFalse\u001b[39;49;00m\n\u001b[0;32m----> 8\u001b[0m \u001b[43m)\u001b[49m\u001b[38;5;241;43m.\u001b[39;49m\u001b[43mevents\u001b[49m\u001b[43m(\u001b[49m\u001b[43m)\u001b[49m\n",
      "File \u001b[0;32m~/coffeafcc/development/coffea/src/coffea/nanoevents/factory.py:695\u001b[0m, in \u001b[0;36mNanoEventsFactory.events\u001b[0;34m(self)\u001b[0m\n\u001b[1;32m    693\u001b[0m events \u001b[38;5;241m=\u001b[39m \u001b[38;5;28mself\u001b[39m\u001b[38;5;241m.\u001b[39m_events()\n\u001b[1;32m    694\u001b[0m \u001b[38;5;28;01mif\u001b[39;00m events \u001b[38;5;129;01mis\u001b[39;00m \u001b[38;5;28;01mNone\u001b[39;00m:\n\u001b[0;32m--> 695\u001b[0m     events \u001b[38;5;241m=\u001b[39m \u001b[43mawkward\u001b[49m\u001b[38;5;241;43m.\u001b[39;49m\u001b[43mfrom_buffers\u001b[49m\u001b[43m(\u001b[49m\n\u001b[1;32m    696\u001b[0m \u001b[43m        \u001b[49m\u001b[38;5;28;43mself\u001b[39;49m\u001b[38;5;241;43m.\u001b[39;49m\u001b[43m_schema\u001b[49m\u001b[38;5;241;43m.\u001b[39;49m\u001b[43mform\u001b[49m\u001b[43m,\u001b[49m\n\u001b[1;32m    697\u001b[0m \u001b[43m        \u001b[49m\u001b[38;5;28;43mlen\u001b[39;49m\u001b[43m(\u001b[49m\u001b[38;5;28;43mself\u001b[39;49m\u001b[43m)\u001b[49m\u001b[43m,\u001b[49m\n\u001b[1;32m    698\u001b[0m \u001b[43m        \u001b[49m\u001b[38;5;28;43mself\u001b[39;49m\u001b[38;5;241;43m.\u001b[39;49m\u001b[43m_mapping\u001b[49m\u001b[43m,\u001b[49m\n\u001b[1;32m    699\u001b[0m \u001b[43m        \u001b[49m\u001b[43mbuffer_key\u001b[49m\u001b[38;5;241;43m=\u001b[39;49m\u001b[43mpartial\u001b[49m\u001b[43m(\u001b[49m\u001b[43m_key_formatter\u001b[49m\u001b[43m,\u001b[49m\u001b[43m \u001b[49m\u001b[38;5;28;43mself\u001b[39;49m\u001b[38;5;241;43m.\u001b[39;49m\u001b[43m_partition_key\u001b[49m\u001b[43m)\u001b[49m\u001b[43m,\u001b[49m\n\u001b[1;32m    700\u001b[0m \u001b[43m        \u001b[49m\u001b[43mbehavior\u001b[49m\u001b[38;5;241;43m=\u001b[39;49m\u001b[38;5;28;43mself\u001b[39;49m\u001b[38;5;241;43m.\u001b[39;49m\u001b[43m_schema\u001b[49m\u001b[38;5;241;43m.\u001b[39;49m\u001b[43mbehavior\u001b[49m\u001b[43m(\u001b[49m\u001b[43m)\u001b[49m\u001b[43m,\u001b[49m\n\u001b[1;32m    701\u001b[0m \u001b[43m        \u001b[49m\u001b[43mattrs\u001b[49m\u001b[38;5;241;43m=\u001b[39;49m\u001b[43m{\u001b[49m\u001b[38;5;124;43m\"\u001b[39;49m\u001b[38;5;124;43m@events_factory\u001b[39;49m\u001b[38;5;124;43m\"\u001b[39;49m\u001b[43m:\u001b[49m\u001b[43m \u001b[49m\u001b[38;5;28;43mself\u001b[39;49m\u001b[43m}\u001b[49m\u001b[43m,\u001b[49m\n\u001b[1;32m    702\u001b[0m \u001b[43m    \u001b[49m\u001b[43m)\u001b[49m\n\u001b[1;32m    703\u001b[0m     \u001b[38;5;28mself\u001b[39m\u001b[38;5;241m.\u001b[39m_events \u001b[38;5;241m=\u001b[39m weakref\u001b[38;5;241m.\u001b[39mref(events)\n\u001b[1;32m    705\u001b[0m \u001b[38;5;28;01mreturn\u001b[39;00m events\n",
      "File \u001b[0;32m~/coffeafcc/development/fcc-dev/lib64/python3.12/site-packages/awkward/_dispatch.py:39\u001b[0m, in \u001b[0;36mnamed_high_level_function.<locals>.dispatch\u001b[0;34m(*args, **kwargs)\u001b[0m\n\u001b[1;32m     35\u001b[0m \u001b[38;5;129m@wraps\u001b[39m(func)\n\u001b[1;32m     36\u001b[0m \u001b[38;5;28;01mdef\u001b[39;00m \u001b[38;5;21mdispatch\u001b[39m(\u001b[38;5;241m*\u001b[39margs, \u001b[38;5;241m*\u001b[39m\u001b[38;5;241m*\u001b[39mkwargs):\n\u001b[1;32m     37\u001b[0m     \u001b[38;5;66;03m# NOTE: this decorator assumes that the operation is exposed under `ak.`\u001b[39;00m\n\u001b[1;32m     38\u001b[0m     \u001b[38;5;28;01mwith\u001b[39;00m OperationErrorContext(name, args, kwargs):\n\u001b[0;32m---> 39\u001b[0m         gen_or_result \u001b[38;5;241m=\u001b[39m \u001b[43mfunc\u001b[49m\u001b[43m(\u001b[49m\u001b[38;5;241;43m*\u001b[39;49m\u001b[43margs\u001b[49m\u001b[43m,\u001b[49m\u001b[43m \u001b[49m\u001b[38;5;241;43m*\u001b[39;49m\u001b[38;5;241;43m*\u001b[39;49m\u001b[43mkwargs\u001b[49m\u001b[43m)\u001b[49m\n\u001b[1;32m     40\u001b[0m         \u001b[38;5;28;01mif\u001b[39;00m isgenerator(gen_or_result):\n\u001b[1;32m     41\u001b[0m             array_likes \u001b[38;5;241m=\u001b[39m \u001b[38;5;28mnext\u001b[39m(gen_or_result)\n",
      "File \u001b[0;32m~/coffeafcc/development/fcc-dev/lib64/python3.12/site-packages/awkward/operations/ak_from_buffers.py:103\u001b[0m, in \u001b[0;36mfrom_buffers\u001b[0;34m(form, length, container, buffer_key, backend, byteorder, allow_noncanonical_form, highlevel, behavior, attrs)\u001b[0m\n\u001b[1;32m     25\u001b[0m \u001b[38;5;129m@high_level_function\u001b[39m()\n\u001b[1;32m     26\u001b[0m \u001b[38;5;28;01mdef\u001b[39;00m \u001b[38;5;21mfrom_buffers\u001b[39m(\n\u001b[1;32m     27\u001b[0m     form,\n\u001b[0;32m   (...)\u001b[0m\n\u001b[1;32m     37\u001b[0m     attrs\u001b[38;5;241m=\u001b[39m\u001b[38;5;28;01mNone\u001b[39;00m,\n\u001b[1;32m     38\u001b[0m ):\n\u001b[1;32m     39\u001b[0m \u001b[38;5;250m    \u001b[39m\u001b[38;5;124;03m\"\"\"\u001b[39;00m\n\u001b[1;32m     40\u001b[0m \u001b[38;5;124;03m    Args:\u001b[39;00m\n\u001b[1;32m     41\u001b[0m \u001b[38;5;124;03m        form (#ak.forms.Form or str/dict equivalent): The form of the Awkward\u001b[39;00m\n\u001b[0;32m   (...)\u001b[0m\n\u001b[1;32m    101\u001b[0m \u001b[38;5;124;03m    See #ak.to_buffers for examples.\u001b[39;00m\n\u001b[1;32m    102\u001b[0m \u001b[38;5;124;03m    \"\"\"\u001b[39;00m\n\u001b[0;32m--> 103\u001b[0m     \u001b[38;5;28;01mreturn\u001b[39;00m \u001b[43m_impl\u001b[49m\u001b[43m(\u001b[49m\n\u001b[1;32m    104\u001b[0m \u001b[43m        \u001b[49m\u001b[43mform\u001b[49m\u001b[43m,\u001b[49m\n\u001b[1;32m    105\u001b[0m \u001b[43m        \u001b[49m\u001b[43mlength\u001b[49m\u001b[43m,\u001b[49m\n\u001b[1;32m    106\u001b[0m \u001b[43m        \u001b[49m\u001b[43mcontainer\u001b[49m\u001b[43m,\u001b[49m\n\u001b[1;32m    107\u001b[0m \u001b[43m        \u001b[49m\u001b[43mbuffer_key\u001b[49m\u001b[43m,\u001b[49m\n\u001b[1;32m    108\u001b[0m \u001b[43m        \u001b[49m\u001b[43mbackend\u001b[49m\u001b[43m,\u001b[49m\n\u001b[1;32m    109\u001b[0m \u001b[43m        \u001b[49m\u001b[43mbyteorder\u001b[49m\u001b[43m,\u001b[49m\n\u001b[1;32m    110\u001b[0m \u001b[43m        \u001b[49m\u001b[43mhighlevel\u001b[49m\u001b[43m,\u001b[49m\n\u001b[1;32m    111\u001b[0m \u001b[43m        \u001b[49m\u001b[43mbehavior\u001b[49m\u001b[43m,\u001b[49m\n\u001b[1;32m    112\u001b[0m \u001b[43m        \u001b[49m\u001b[43mattrs\u001b[49m\u001b[43m,\u001b[49m\n\u001b[1;32m    113\u001b[0m \u001b[43m        \u001b[49m\u001b[43mallow_noncanonical_form\u001b[49m\u001b[43m,\u001b[49m\n\u001b[1;32m    114\u001b[0m \u001b[43m    \u001b[49m\u001b[43m)\u001b[49m\n",
      "File \u001b[0;32m~/coffeafcc/development/fcc-dev/lib64/python3.12/site-packages/awkward/operations/ak_from_buffers.py:149\u001b[0m, in \u001b[0;36m_impl\u001b[0;34m(form, length, container, buffer_key, backend, byteorder, highlevel, behavior, attrs, simplify)\u001b[0m\n\u001b[1;32m    143\u001b[0m     \u001b[38;5;28;01mraise\u001b[39;00m \u001b[38;5;167;01mTypeError\u001b[39;00m(\n\u001b[1;32m    144\u001b[0m         \u001b[38;5;124m\"\u001b[39m\u001b[38;5;124m'\u001b[39m\u001b[38;5;124mform\u001b[39m\u001b[38;5;124m'\u001b[39m\u001b[38;5;124m argument must be a Form or its Python dict/JSON string representation\u001b[39m\u001b[38;5;124m\"\u001b[39m\n\u001b[1;32m    145\u001b[0m     )\n\u001b[1;32m    147\u001b[0m getkey \u001b[38;5;241m=\u001b[39m regularize_buffer_key(buffer_key)\n\u001b[0;32m--> 149\u001b[0m out \u001b[38;5;241m=\u001b[39m \u001b[43m_reconstitute\u001b[49m\u001b[43m(\u001b[49m\u001b[43mform\u001b[49m\u001b[43m,\u001b[49m\u001b[43m \u001b[49m\u001b[43mlength\u001b[49m\u001b[43m,\u001b[49m\u001b[43m \u001b[49m\u001b[43mcontainer\u001b[49m\u001b[43m,\u001b[49m\u001b[43m \u001b[49m\u001b[43mgetkey\u001b[49m\u001b[43m,\u001b[49m\u001b[43m \u001b[49m\u001b[43mbackend\u001b[49m\u001b[43m,\u001b[49m\u001b[43m \u001b[49m\u001b[43mbyteorder\u001b[49m\u001b[43m,\u001b[49m\u001b[43m \u001b[49m\u001b[43msimplify\u001b[49m\u001b[43m)\u001b[49m\n\u001b[1;32m    151\u001b[0m \u001b[38;5;28;01mreturn\u001b[39;00m wrap_layout(out, highlevel\u001b[38;5;241m=\u001b[39mhighlevel, attrs\u001b[38;5;241m=\u001b[39mattrs, behavior\u001b[38;5;241m=\u001b[39mbehavior)\n",
      "File \u001b[0;32m~/coffeafcc/development/fcc-dev/lib64/python3.12/site-packages/awkward/operations/ak_from_buffers.py:404\u001b[0m, in \u001b[0;36m_reconstitute\u001b[0;34m(form, length, container, getkey, backend, byteorder, simplify)\u001b[0m\n\u001b[1;32m    395\u001b[0m     \u001b[38;5;28;01mreturn\u001b[39;00m ak\u001b[38;5;241m.\u001b[39mcontents\u001b[38;5;241m.\u001b[39mRegularArray(\n\u001b[1;32m    396\u001b[0m         content,\n\u001b[1;32m    397\u001b[0m         form\u001b[38;5;241m.\u001b[39msize,\n\u001b[1;32m    398\u001b[0m         length,\n\u001b[1;32m    399\u001b[0m         parameters\u001b[38;5;241m=\u001b[39mform\u001b[38;5;241m.\u001b[39m_parameters,\n\u001b[1;32m    400\u001b[0m     )\n\u001b[1;32m    402\u001b[0m \u001b[38;5;28;01melif\u001b[39;00m \u001b[38;5;28misinstance\u001b[39m(form, ak\u001b[38;5;241m.\u001b[39mforms\u001b[38;5;241m.\u001b[39mRecordForm):\n\u001b[1;32m    403\u001b[0m     contents \u001b[38;5;241m=\u001b[39m [\n\u001b[0;32m--> 404\u001b[0m         \u001b[43m_reconstitute\u001b[49m\u001b[43m(\u001b[49m\n\u001b[1;32m    405\u001b[0m \u001b[43m            \u001b[49m\u001b[43mcontent\u001b[49m\u001b[43m,\u001b[49m\u001b[43m \u001b[49m\u001b[43mlength\u001b[49m\u001b[43m,\u001b[49m\u001b[43m \u001b[49m\u001b[43mcontainer\u001b[49m\u001b[43m,\u001b[49m\u001b[43m \u001b[49m\u001b[43mgetkey\u001b[49m\u001b[43m,\u001b[49m\u001b[43m \u001b[49m\u001b[43mbackend\u001b[49m\u001b[43m,\u001b[49m\u001b[43m \u001b[49m\u001b[43mbyteorder\u001b[49m\u001b[43m,\u001b[49m\u001b[43m \u001b[49m\u001b[43msimplify\u001b[49m\n\u001b[1;32m    406\u001b[0m \u001b[43m        \u001b[49m\u001b[43m)\u001b[49m\n\u001b[1;32m    407\u001b[0m         \u001b[38;5;28;01mfor\u001b[39;00m content \u001b[38;5;129;01min\u001b[39;00m form\u001b[38;5;241m.\u001b[39mcontents\n\u001b[1;32m    408\u001b[0m     ]\n\u001b[1;32m    409\u001b[0m     \u001b[38;5;28;01mreturn\u001b[39;00m ak\u001b[38;5;241m.\u001b[39mcontents\u001b[38;5;241m.\u001b[39mRecordArray(\n\u001b[1;32m    410\u001b[0m         contents,\n\u001b[1;32m    411\u001b[0m         \u001b[38;5;28;01mNone\u001b[39;00m \u001b[38;5;28;01mif\u001b[39;00m form\u001b[38;5;241m.\u001b[39mis_tuple \u001b[38;5;28;01melse\u001b[39;00m form\u001b[38;5;241m.\u001b[39mfields,\n\u001b[1;32m    412\u001b[0m         length,\n\u001b[1;32m    413\u001b[0m         parameters\u001b[38;5;241m=\u001b[39mform\u001b[38;5;241m.\u001b[39m_parameters,\n\u001b[1;32m    414\u001b[0m     )\n\u001b[1;32m    416\u001b[0m \u001b[38;5;28;01melif\u001b[39;00m \u001b[38;5;28misinstance\u001b[39m(form, ak\u001b[38;5;241m.\u001b[39mforms\u001b[38;5;241m.\u001b[39mUnionForm):\n",
      "File \u001b[0;32m~/coffeafcc/development/fcc-dev/lib64/python3.12/site-packages/awkward/operations/ak_from_buffers.py:381\u001b[0m, in \u001b[0;36m_reconstitute\u001b[0;34m(form, length, container, getkey, backend, byteorder, simplify)\u001b[0m\n\u001b[1;32m    379\u001b[0m     \u001b[38;5;28;01melse\u001b[39;00m:\n\u001b[1;32m    380\u001b[0m         next_length \u001b[38;5;241m=\u001b[39m \u001b[38;5;241m0\u001b[39m \u001b[38;5;28;01mif\u001b[39;00m \u001b[38;5;28mlen\u001b[39m(offsets) \u001b[38;5;241m==\u001b[39m \u001b[38;5;241m1\u001b[39m \u001b[38;5;28;01melse\u001b[39;00m offsets[\u001b[38;5;241m-\u001b[39m\u001b[38;5;241m1\u001b[39m]\n\u001b[0;32m--> 381\u001b[0m     content \u001b[38;5;241m=\u001b[39m \u001b[43m_reconstitute\u001b[49m\u001b[43m(\u001b[49m\n\u001b[1;32m    382\u001b[0m \u001b[43m        \u001b[49m\u001b[43mform\u001b[49m\u001b[38;5;241;43m.\u001b[39;49m\u001b[43mcontent\u001b[49m\u001b[43m,\u001b[49m\u001b[43m \u001b[49m\u001b[43mnext_length\u001b[49m\u001b[43m,\u001b[49m\u001b[43m \u001b[49m\u001b[43mcontainer\u001b[49m\u001b[43m,\u001b[49m\u001b[43m \u001b[49m\u001b[43mgetkey\u001b[49m\u001b[43m,\u001b[49m\u001b[43m \u001b[49m\u001b[43mbackend\u001b[49m\u001b[43m,\u001b[49m\u001b[43m \u001b[49m\u001b[43mbyteorder\u001b[49m\u001b[43m,\u001b[49m\u001b[43m \u001b[49m\u001b[43msimplify\u001b[49m\n\u001b[1;32m    383\u001b[0m \u001b[43m    \u001b[49m\u001b[43m)\u001b[49m\n\u001b[1;32m    384\u001b[0m     \u001b[38;5;28;01mreturn\u001b[39;00m ak\u001b[38;5;241m.\u001b[39mcontents\u001b[38;5;241m.\u001b[39mListOffsetArray(\n\u001b[1;32m    385\u001b[0m         ak\u001b[38;5;241m.\u001b[39mindex\u001b[38;5;241m.\u001b[39mIndex(offsets),\n\u001b[1;32m    386\u001b[0m         content,\n\u001b[1;32m    387\u001b[0m         parameters\u001b[38;5;241m=\u001b[39mform\u001b[38;5;241m.\u001b[39m_parameters,\n\u001b[1;32m    388\u001b[0m     )\n\u001b[1;32m    390\u001b[0m \u001b[38;5;28;01melif\u001b[39;00m \u001b[38;5;28misinstance\u001b[39m(form, ak\u001b[38;5;241m.\u001b[39mforms\u001b[38;5;241m.\u001b[39mRegularForm):\n",
      "File \u001b[0;32m~/coffeafcc/development/fcc-dev/lib64/python3.12/site-packages/awkward/operations/ak_from_buffers.py:404\u001b[0m, in \u001b[0;36m_reconstitute\u001b[0;34m(form, length, container, getkey, backend, byteorder, simplify)\u001b[0m\n\u001b[1;32m    395\u001b[0m     \u001b[38;5;28;01mreturn\u001b[39;00m ak\u001b[38;5;241m.\u001b[39mcontents\u001b[38;5;241m.\u001b[39mRegularArray(\n\u001b[1;32m    396\u001b[0m         content,\n\u001b[1;32m    397\u001b[0m         form\u001b[38;5;241m.\u001b[39msize,\n\u001b[1;32m    398\u001b[0m         length,\n\u001b[1;32m    399\u001b[0m         parameters\u001b[38;5;241m=\u001b[39mform\u001b[38;5;241m.\u001b[39m_parameters,\n\u001b[1;32m    400\u001b[0m     )\n\u001b[1;32m    402\u001b[0m \u001b[38;5;28;01melif\u001b[39;00m \u001b[38;5;28misinstance\u001b[39m(form, ak\u001b[38;5;241m.\u001b[39mforms\u001b[38;5;241m.\u001b[39mRecordForm):\n\u001b[1;32m    403\u001b[0m     contents \u001b[38;5;241m=\u001b[39m [\n\u001b[0;32m--> 404\u001b[0m         \u001b[43m_reconstitute\u001b[49m\u001b[43m(\u001b[49m\n\u001b[1;32m    405\u001b[0m \u001b[43m            \u001b[49m\u001b[43mcontent\u001b[49m\u001b[43m,\u001b[49m\u001b[43m \u001b[49m\u001b[43mlength\u001b[49m\u001b[43m,\u001b[49m\u001b[43m \u001b[49m\u001b[43mcontainer\u001b[49m\u001b[43m,\u001b[49m\u001b[43m \u001b[49m\u001b[43mgetkey\u001b[49m\u001b[43m,\u001b[49m\u001b[43m \u001b[49m\u001b[43mbackend\u001b[49m\u001b[43m,\u001b[49m\u001b[43m \u001b[49m\u001b[43mbyteorder\u001b[49m\u001b[43m,\u001b[49m\u001b[43m \u001b[49m\u001b[43msimplify\u001b[49m\n\u001b[1;32m    406\u001b[0m \u001b[43m        \u001b[49m\u001b[43m)\u001b[49m\n\u001b[1;32m    407\u001b[0m         \u001b[38;5;28;01mfor\u001b[39;00m content \u001b[38;5;129;01min\u001b[39;00m form\u001b[38;5;241m.\u001b[39mcontents\n\u001b[1;32m    408\u001b[0m     ]\n\u001b[1;32m    409\u001b[0m     \u001b[38;5;28;01mreturn\u001b[39;00m ak\u001b[38;5;241m.\u001b[39mcontents\u001b[38;5;241m.\u001b[39mRecordArray(\n\u001b[1;32m    410\u001b[0m         contents,\n\u001b[1;32m    411\u001b[0m         \u001b[38;5;28;01mNone\u001b[39;00m \u001b[38;5;28;01mif\u001b[39;00m form\u001b[38;5;241m.\u001b[39mis_tuple \u001b[38;5;28;01melse\u001b[39;00m form\u001b[38;5;241m.\u001b[39mfields,\n\u001b[1;32m    412\u001b[0m         length,\n\u001b[1;32m    413\u001b[0m         parameters\u001b[38;5;241m=\u001b[39mform\u001b[38;5;241m.\u001b[39m_parameters,\n\u001b[1;32m    414\u001b[0m     )\n\u001b[1;32m    416\u001b[0m \u001b[38;5;28;01melif\u001b[39;00m \u001b[38;5;28misinstance\u001b[39m(form, ak\u001b[38;5;241m.\u001b[39mforms\u001b[38;5;241m.\u001b[39mUnionForm):\n",
      "File \u001b[0;32m~/coffeafcc/development/fcc-dev/lib64/python3.12/site-packages/awkward/operations/ak_from_buffers.py:404\u001b[0m, in \u001b[0;36m_reconstitute\u001b[0;34m(form, length, container, getkey, backend, byteorder, simplify)\u001b[0m\n\u001b[1;32m    395\u001b[0m     \u001b[38;5;28;01mreturn\u001b[39;00m ak\u001b[38;5;241m.\u001b[39mcontents\u001b[38;5;241m.\u001b[39mRegularArray(\n\u001b[1;32m    396\u001b[0m         content,\n\u001b[1;32m    397\u001b[0m         form\u001b[38;5;241m.\u001b[39msize,\n\u001b[1;32m    398\u001b[0m         length,\n\u001b[1;32m    399\u001b[0m         parameters\u001b[38;5;241m=\u001b[39mform\u001b[38;5;241m.\u001b[39m_parameters,\n\u001b[1;32m    400\u001b[0m     )\n\u001b[1;32m    402\u001b[0m \u001b[38;5;28;01melif\u001b[39;00m \u001b[38;5;28misinstance\u001b[39m(form, ak\u001b[38;5;241m.\u001b[39mforms\u001b[38;5;241m.\u001b[39mRecordForm):\n\u001b[1;32m    403\u001b[0m     contents \u001b[38;5;241m=\u001b[39m [\n\u001b[0;32m--> 404\u001b[0m         \u001b[43m_reconstitute\u001b[49m\u001b[43m(\u001b[49m\n\u001b[1;32m    405\u001b[0m \u001b[43m            \u001b[49m\u001b[43mcontent\u001b[49m\u001b[43m,\u001b[49m\u001b[43m \u001b[49m\u001b[43mlength\u001b[49m\u001b[43m,\u001b[49m\u001b[43m \u001b[49m\u001b[43mcontainer\u001b[49m\u001b[43m,\u001b[49m\u001b[43m \u001b[49m\u001b[43mgetkey\u001b[49m\u001b[43m,\u001b[49m\u001b[43m \u001b[49m\u001b[43mbackend\u001b[49m\u001b[43m,\u001b[49m\u001b[43m \u001b[49m\u001b[43mbyteorder\u001b[49m\u001b[43m,\u001b[49m\u001b[43m \u001b[49m\u001b[43msimplify\u001b[49m\n\u001b[1;32m    406\u001b[0m \u001b[43m        \u001b[49m\u001b[43m)\u001b[49m\n\u001b[1;32m    407\u001b[0m         \u001b[38;5;28;01mfor\u001b[39;00m content \u001b[38;5;129;01min\u001b[39;00m form\u001b[38;5;241m.\u001b[39mcontents\n\u001b[1;32m    408\u001b[0m     ]\n\u001b[1;32m    409\u001b[0m     \u001b[38;5;28;01mreturn\u001b[39;00m ak\u001b[38;5;241m.\u001b[39mcontents\u001b[38;5;241m.\u001b[39mRecordArray(\n\u001b[1;32m    410\u001b[0m         contents,\n\u001b[1;32m    411\u001b[0m         \u001b[38;5;28;01mNone\u001b[39;00m \u001b[38;5;28;01mif\u001b[39;00m form\u001b[38;5;241m.\u001b[39mis_tuple \u001b[38;5;28;01melse\u001b[39;00m form\u001b[38;5;241m.\u001b[39mfields,\n\u001b[1;32m    412\u001b[0m         length,\n\u001b[1;32m    413\u001b[0m         parameters\u001b[38;5;241m=\u001b[39mform\u001b[38;5;241m.\u001b[39m_parameters,\n\u001b[1;32m    414\u001b[0m     )\n\u001b[1;32m    416\u001b[0m \u001b[38;5;28;01melif\u001b[39;00m \u001b[38;5;28misinstance\u001b[39m(form, ak\u001b[38;5;241m.\u001b[39mforms\u001b[38;5;241m.\u001b[39mUnionForm):\n",
      "File \u001b[0;32m~/coffeafcc/development/fcc-dev/lib64/python3.12/site-packages/awkward/operations/ak_from_buffers.py:197\u001b[0m, in \u001b[0;36m_reconstitute\u001b[0;34m(form, length, container, getkey, backend, byteorder, simplify)\u001b[0m\n\u001b[1;32m    195\u001b[0m raw_array \u001b[38;5;241m=\u001b[39m container[getkey(form, \u001b[38;5;124m\"\u001b[39m\u001b[38;5;124mdata\u001b[39m\u001b[38;5;124m\"\u001b[39m)]\n\u001b[1;32m    196\u001b[0m real_length \u001b[38;5;241m=\u001b[39m length \u001b[38;5;241m*\u001b[39m math\u001b[38;5;241m.\u001b[39mprod(form\u001b[38;5;241m.\u001b[39minner_shape)\n\u001b[0;32m--> 197\u001b[0m data \u001b[38;5;241m=\u001b[39m \u001b[43m_from_buffer\u001b[49m\u001b[43m(\u001b[49m\n\u001b[1;32m    198\u001b[0m \u001b[43m    \u001b[49m\u001b[43mbackend\u001b[49m\u001b[38;5;241;43m.\u001b[39;49m\u001b[43mnplike\u001b[49m\u001b[43m,\u001b[49m\n\u001b[1;32m    199\u001b[0m \u001b[43m    \u001b[49m\u001b[43mraw_array\u001b[49m\u001b[43m,\u001b[49m\n\u001b[1;32m    200\u001b[0m \u001b[43m    \u001b[49m\u001b[43mdtype\u001b[49m\u001b[38;5;241;43m=\u001b[39;49m\u001b[43mdtype\u001b[49m\u001b[43m,\u001b[49m\n\u001b[1;32m    201\u001b[0m \u001b[43m    \u001b[49m\u001b[43mcount\u001b[49m\u001b[38;5;241;43m=\u001b[39;49m\u001b[43mreal_length\u001b[49m\u001b[43m,\u001b[49m\n\u001b[1;32m    202\u001b[0m \u001b[43m    \u001b[49m\u001b[43mbyteorder\u001b[49m\u001b[38;5;241;43m=\u001b[39;49m\u001b[43mbyteorder\u001b[49m\u001b[43m,\u001b[49m\n\u001b[1;32m    203\u001b[0m \u001b[43m\u001b[49m\u001b[43m)\u001b[49m\n\u001b[1;32m    204\u001b[0m \u001b[38;5;28;01mif\u001b[39;00m form\u001b[38;5;241m.\u001b[39minner_shape \u001b[38;5;241m!=\u001b[39m ():\n\u001b[1;32m    205\u001b[0m     data \u001b[38;5;241m=\u001b[39m backend\u001b[38;5;241m.\u001b[39mnplike\u001b[38;5;241m.\u001b[39mreshape(data, (length, \u001b[38;5;241m*\u001b[39mform\u001b[38;5;241m.\u001b[39minner_shape))\n",
      "File \u001b[0;32m~/coffeafcc/development/fcc-dev/lib64/python3.12/site-packages/awkward/operations/ak_from_buffers.py:174\u001b[0m, in \u001b[0;36m_from_buffer\u001b[0;34m(nplike, buffer, dtype, count, byteorder)\u001b[0m\n\u001b[1;32m    171\u001b[0m     array \u001b[38;5;241m=\u001b[39m nplike\u001b[38;5;241m.\u001b[39mreshape(buffer\u001b[38;5;241m.\u001b[39mview(dtype), shape\u001b[38;5;241m=\u001b[39m(\u001b[38;5;241m-\u001b[39m\u001b[38;5;241m1\u001b[39m,), copy\u001b[38;5;241m=\u001b[39m\u001b[38;5;28;01mFalse\u001b[39;00m)\n\u001b[1;32m    173\u001b[0m     \u001b[38;5;28;01mif\u001b[39;00m array\u001b[38;5;241m.\u001b[39msize \u001b[38;5;241m<\u001b[39m count:\n\u001b[0;32m--> 174\u001b[0m         \u001b[38;5;28;01mraise\u001b[39;00m \u001b[38;5;167;01mTypeError\u001b[39;00m(\n\u001b[1;32m    175\u001b[0m             \u001b[38;5;124mf\u001b[39m\u001b[38;5;124m\"\u001b[39m\u001b[38;5;124msize of array (\u001b[39m\u001b[38;5;132;01m{\u001b[39;00marray\u001b[38;5;241m.\u001b[39msize\u001b[38;5;132;01m}\u001b[39;00m\u001b[38;5;124m) is less than size of form (\u001b[39m\u001b[38;5;132;01m{\u001b[39;00mcount\u001b[38;5;132;01m}\u001b[39;00m\u001b[38;5;124m)\u001b[39m\u001b[38;5;124m\"\u001b[39m\n\u001b[1;32m    176\u001b[0m         )\n\u001b[1;32m    178\u001b[0m     \u001b[38;5;28;01mreturn\u001b[39;00m array[:count]\n\u001b[1;32m    179\u001b[0m \u001b[38;5;28;01melse\u001b[39;00m:\n",
      "\u001b[0;31mTypeError\u001b[0m: size of array (0) is less than size of form (10000)",
      "\u001b[0m\nThis error occurred while calling\n\n    ak.from_buffers(\n        {'class': 'RecordArray', 'fields': dict_keys(['EFlowTrackidx', 'Missi...\n        10000\n        UprootSourceMapping-instance\n        buffer_key = partial-instance\n        behavior = {'Systematic': <class 'coffea.nanoevents.methods.base.Syst...\n        attrs = {'@events_factory': <coffea.nanoevents.factory.NanoEventsFact...\n    )"
     ]
    }
   ],
   "source": [
    "test_file = \"../coffea-fcc-analyses/data/p8_ee_ZH_ecm240/events_082532938.root\"\n",
    "from coffea.nanoevents import NanoEventsFactory, FCCSchema\n",
    "events = NanoEventsFactory.from_root(\n",
    "    test_file+\":events\",\n",
    "    entry_stop=10000,\n",
    "    schemaclass=FCCSchema,\n",
    "    delayed=False\n",
    ").events()"
   ]
  },
  {
   "cell_type": "code",
   "execution_count": 5,
   "id": "23f036f7-3833-42b6-afd2-bc4ba3b3d58b",
   "metadata": {},
   "outputs": [
    {
     "data": {
      "text/plain": [
       "['EFlowTrackidx',\n",
       " 'MissingETidx',\n",
       " 'Jetidx',\n",
       " 'ReconstructedParticlesidx',\n",
       " 'EFlowPhotonidx',\n",
       " 'MCRecoAssociationsidx',\n",
       " 'Electronidx',\n",
       " 'Particleidx',\n",
       " 'Photonidx',\n",
       " 'EFlowNeutralHadronidx',\n",
       " 'AllMuonidx',\n",
       " 'Muonidx',\n",
       " 'EFlowPhoton',\n",
       " 'EFlowNeutralHadron',\n",
       " 'ParticleIDs',\n",
       " 'Jet',\n",
       " 'ReconstructedParticles',\n",
       " 'Particle',\n",
       " 'EFlowTrack',\n",
       " 'MissingET',\n",
       " 'MCRecoAssociations',\n",
       " 'EFlowTrack_1']"
      ]
     },
     "execution_count": 5,
     "metadata": {},
     "output_type": "execute_result"
    }
   ],
   "source": [
    "events.fields"
   ]
  },
  {
   "cell_type": "code",
   "execution_count": 6,
   "id": "09312097-ab77-488f-9dc8-9bd5f0ab7f28",
   "metadata": {},
   "outputs": [
    {
     "name": "stdout",
     "output_type": "stream",
     "text": [
      "EFlowTrackidx :  NanoCollection\n",
      "MissingETidx :  NanoCollection\n",
      "Jetidx :  NanoCollection\n",
      "ReconstructedParticlesidx :  NanoCollection\n",
      "EFlowPhotonidx :  NanoCollection\n",
      "MCRecoAssociationsidx :  NanoCollection\n",
      "Electronidx :  NanoCollection\n",
      "Particleidx :  NanoCollection\n",
      "Photonidx :  NanoCollection\n",
      "EFlowNeutralHadronidx :  NanoCollection\n",
      "AllMuonidx :  NanoCollection\n",
      "Muonidx :  NanoCollection\n",
      "EFlowPhoton :  NanoCollection\n",
      "EFlowNeutralHadron :  NanoCollection\n",
      "ParticleIDs :  NanoCollection\n",
      "Jet :  RecoParticle\n",
      "ReconstructedParticles :  RecoParticle\n",
      "Particle :  MCTruthParticle\n",
      "EFlowTrack :  Cluster\n",
      "MissingET :  RecoParticle\n",
      "MCRecoAssociations :  NanoCollection\n",
      "EFlowTrack_1 :  NanoCollection\n"
     ]
    }
   ],
   "source": [
    "for field in events.fields:\n",
    "    print(f\"{field} : \", events[field].layout.content.parameter(\"__record__\"))"
   ]
  },
  {
   "cell_type": "code",
   "execution_count": 7,
   "id": "fe8bb75c-0d91-4a39-a60c-f51ca4cc4fd3",
   "metadata": {},
   "outputs": [
    {
     "data": {
      "text/plain": [
       "['location',\n",
       " 'D0',\n",
       " 'phi',\n",
       " 'omega',\n",
       " 'Z0',\n",
       " 'tanLambda',\n",
       " 'referencePoint.x',\n",
       " 'referencePoint.y',\n",
       " 'referencePoint.z',\n",
       " 'covMatrix[15]']"
      ]
     },
     "execution_count": 7,
     "metadata": {},
     "output_type": "execute_result"
    }
   ],
   "source": [
    "events.EFlowTrack_1.fields"
   ]
  },
  {
   "cell_type": "code",
   "execution_count": 8,
   "id": "f24fe0c3-5870-420f-94f3-c191f2275bb6",
   "metadata": {},
   "outputs": [
    {
     "data": {
      "text/html": [
       "<pre>[[0.955, 1.37, 0.00413, 0.0277, -0.0262, ..., -0.0395, -0.0231, 12.8, -0.0303],\n",
       " [0.00151, 0.0355, -0.0391, -0.0123, ..., 0.0305, -0.0217, 0.115, -0.0852],\n",
       " [-0.0182, 0.184, 0.00345, 0.12, 0.0034, ..., 27.1, 0.00819, 0.0745, -0.0114],\n",
       " [0.00146, 0.000185, 0.0289, -0.0071, -0.0153, -0.00561, -0.00118, 0.0145],\n",
       " [0.0027, 0.0222, 0.0122, -0.00542, ..., -0.024, 0.00319, 0.0463, -0.0326],\n",
       " [0.0543, 0.0206],\n",
       " [-0.00883, -0.0391, -0.00358, -0.00158, ..., -0.0743, -0.0147, -0.0166],\n",
       " [-0.00933, 0.0875, -0.0186, -0.12, -0.0228, ..., 0.468, -0.215, 2.66, -0.0788],\n",
       " [-0.0538, -0.0118, 0.0171, -0.0188, ..., -0.0412, -0.0193, 0.0127, 0.0769],\n",
       " [0.00978, 0.534, -0.000843, -0.0115, ..., 2.53, -0.00378, -0.00465, 0.0254],\n",
       " ...,\n",
       " [-0.0172, 0.00385, -0.0322, -0.00592, ..., 0.0116, 0.0641, -0.0364, 0.0151],\n",
       " [0.0107, -0.107, 0.00938, 0.0676, 0.264, ..., 0.0145, 0.00808, 0.032, 0.017],\n",
       " [-0.0622, 0.12, -0.0475, 0.109, 0.0381, ..., 9.24, -5.09, 0.0165, -0.0402],\n",
       " [-8.29, -0.0319, 0.00436, 0.0424, ..., -0.00927, -0.00292, -0.217, -0.0368],\n",
       " [-5.63, -0.0647, -0.00249, 0.122, 0.0695, ..., -0.034, -0.524, 1.69, 0.0182],\n",
       " [0.0204, -0.0396, 0.0202, 0.0292, ..., -7.37, 0.0333, -0.0527, -0.0167],\n",
       " [-4.13, -0.0052, 0.0116, 0.0447, ..., -0.00974, 0.00949, 0.0135, 0.024],\n",
       " [-1.96, 3.07, -0.0414, 0.156, -2.39, ..., -0.119, -0.0968, -0.244, 0.00637],\n",
       " [-2.8, 0.0347, 0.007, -0.0264, 0.00308, ..., 0.988, 0.0694, -0.0285, -0.0431]]\n",
       "--------------------------------------------------------------------------------\n",
       "type: 100000 * var * float32[parameters={&quot;__doc__&quot;: &quot;D0[EFlowTrack_1_]&quot;}]</pre>"
      ],
      "text/plain": [
       "<Array [[0.955, 1.37, ..., 12.8, -0.0303], ...] type='100000 * var * float3...'>"
      ]
     },
     "execution_count": 8,
     "metadata": {},
     "output_type": "execute_result"
    }
   ],
   "source": [
    "events.EFlowTrack_1.D0.compute()"
   ]
  },
  {
   "cell_type": "code",
   "execution_count": null,
   "id": "9b76cd06-e111-4b64-8f22-a5581ab8bf19",
   "metadata": {},
   "outputs": [],
   "source": []
  }
 ],
 "metadata": {
  "kernelspec": {
   "display_name": "fcc-dev",
   "language": "python",
   "name": "fcc-dev"
  },
  "language_info": {
   "codemirror_mode": {
    "name": "ipython",
    "version": 3
   },
   "file_extension": ".py",
   "mimetype": "text/x-python",
   "name": "python",
   "nbconvert_exporter": "python",
   "pygments_lexer": "ipython3",
   "version": "3.12.4"
  }
 },
 "nbformat": 4,
 "nbformat_minor": 5
}
