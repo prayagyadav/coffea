{
 "cells": [
  {
   "cell_type": "markdown",
   "id": "b12e2ce1-f3f7-41d1-ad42-d2cda6cdc8b9",
   "metadata": {},
   "source": [
    "## Updates\n",
    "- EDM4HEP Schema works with the newstyle FCC samples\n",
    "- Need some work to ascertain that the relations work (OneToMany Relations have problem)"
   ]
  },
  {
   "cell_type": "code",
   "execution_count": 1,
   "id": "cc501edd-2d82-46e0-9ec5-3fbdbf95e97f",
   "metadata": {},
   "outputs": [],
   "source": [
    "import awkward as ak"
   ]
  },
  {
   "cell_type": "code",
   "execution_count": 2,
   "id": "6ca44c68-fd7b-4db7-b37b-6b2493a377d0",
   "metadata": {},
   "outputs": [
    {
     "name": "stderr",
     "output_type": "stream",
     "text": [
      "/home/prayag/coffeafcc/development/coffea/src/coffea/nanoevents/schemas/edm4hep.py:7: FutureWarning: In version 2025.1.0 (target date: 2024-12-31 11:59:59-06:00), this will be an error.\n",
      "To raise these warnings as errors (and get stack traces to find out where they're called), run\n",
      "    import warnings\n",
      "    warnings.filterwarnings(\"error\", module=\"coffea.*\")\n",
      "after the first `import coffea` or use `@pytest.mark.filterwarnings(\"error:::coffea.*\")` in pytest.\n",
      "Issue: coffea.nanoevents.methods.vector will be removed and replaced with scikit-hep vector. Nanoevents schemas internal to coffea will be migrated. Otherwise please consider using that package!.\n",
      "  from coffea.nanoevents.methods import vector\n",
      "/home/prayag/coffeafcc/development/coffea/src/coffea/nanoevents/schemas/edm4hep.py:373: UserWarning: No matched collection for edm4hep::Vertex found!\n",
      " skipping ...\n",
      "  warnings.warn(f'No matched collection for {target_datatype} found!\\n skipping ...')\n"
     ]
    }
   ],
   "source": [
    "test_file = \"../coffea-fcc-analyses/data/edm4hep1/p8_ee_WW_ecm240_edm4hep.root\"\n",
    "from coffea.nanoevents import NanoEventsFactory, FCC\n",
    "events = NanoEventsFactory.from_root(\n",
    "    test_file+\":events\",\n",
    "    entry_stop=100,\n",
    "    schemaclass=FCC.get_schema(\"edm4hep1\"),\n",
    "    delayed = True,\n",
    "    uproot_options={\"filter_name\": lambda x: \"PARAMETERS\" not in x}\n",
    ").events()"
   ]
  },
  {
   "cell_type": "code",
   "execution_count": 3,
   "id": "1980535a-2dcc-4cb0-9421-5a8e043dcc58",
   "metadata": {},
   "outputs": [
    {
     "data": {
      "text/plain": [
       "['CalorimeterHits',\n",
       " 'EFlowNeutralHadron',\n",
       " 'EFlowPhoton',\n",
       " 'EFlowTrack',\n",
       " 'EFlowTrack_L',\n",
       " 'EFlowTrack_dNdx',\n",
       " 'Electron_IsolationVar',\n",
       " 'Electron_objIdx',\n",
       " 'EventHeader',\n",
       " 'GPDoubleKeys',\n",
       " 'GPDoubleValues',\n",
       " 'GPFloatKeys',\n",
       " 'GPFloatValues',\n",
       " 'GPIntKeys',\n",
       " 'GPIntValues',\n",
       " 'GPStringKeys',\n",
       " 'GPStringValues',\n",
       " 'Jet',\n",
       " 'MCRecoAssociations',\n",
       " 'Muon_IsolationVar',\n",
       " 'Muon_objIdx',\n",
       " 'Particle',\n",
       " 'ParticleIDs',\n",
       " 'Photon_IsolationVar',\n",
       " 'Photon_objIdx',\n",
       " 'ReconstructedParticles',\n",
       " 'TrackerHits',\n",
       " 'magFieldBz']"
      ]
     },
     "execution_count": 3,
     "metadata": {},
     "output_type": "execute_result"
    }
   ],
   "source": [
    "events.fields"
   ]
  },
  {
   "cell_type": "markdown",
   "id": "36c5f8ef-1f80-46b9-908e-1ee1f0cde281",
   "metadata": {},
   "source": [
    "### List Relations\n",
    "- All collections inherit from the `edm4hep_collection` class\n",
    "- `edm4hep_collection` class inherits from `base.NanoCollection` class\n",
    "- Added the function `List_Relations` to list all the available relations(`OneToOne` or `OneToMany`)"
   ]
  },
  {
   "cell_type": "code",
   "execution_count": 4,
   "id": "b8fd3e84-c5cc-4961-b4f7-a70bb20df1b7",
   "metadata": {},
   "outputs": [
    {
     "data": {
      "text/plain": [
       "{'clusters_idx_EFlowNeutralHadron',\n",
       " 'clusters_idx_EFlowPhoton',\n",
       " 'particles_idx_Jet',\n",
       " 'particles_idx_ReconstructedParticles',\n",
       " 'tracks_idx_EFlowTrack'}"
      ]
     },
     "execution_count": 4,
     "metadata": {},
     "output_type": "execute_result"
    }
   ],
   "source": [
    "events.ReconstructedParticles.List_Relations"
   ]
  },
  {
   "cell_type": "code",
   "execution_count": 5,
   "id": "1987a048-752e-413d-82ca-b6627ac3d9bb",
   "metadata": {},
   "outputs": [
    {
     "data": {
      "text/plain": [
       "{'daughters_idx_Particle', 'parents_idx_Particle'}"
      ]
     },
     "execution_count": 5,
     "metadata": {},
     "output_type": "execute_result"
    }
   ],
   "source": [
    "events.Particle.List_Relations"
   ]
  },
  {
   "cell_type": "code",
   "execution_count": 6,
   "id": "a9859d36-ad2b-48b7-8871-e54da7f5ffe4",
   "metadata": {},
   "outputs": [
    {
     "data": {
      "text/plain": [
       "['index', 'collectionID', 'index_Global']"
      ]
     },
     "execution_count": 6,
     "metadata": {},
     "output_type": "execute_result"
    }
   ],
   "source": [
    "events.Particle.daughters_idx_Particle.fields"
   ]
  },
  {
   "cell_type": "code",
   "execution_count": 7,
   "id": "866a70d2-583b-4b78-b2f6-94b2104cfb95",
   "metadata": {},
   "outputs": [],
   "source": [
    "# Note: Seems like the global indices `index_Global` are computed with incorrect values\n",
    "# Working to fix that."
   ]
  },
  {
   "cell_type": "markdown",
   "id": "a98c1ac7-fdfe-4750-89cf-7ea80b5f6cc8",
   "metadata": {},
   "source": [
    "### Map Relations\n",
    "- The purpose to create another collection class `edm4hep_collection` is to add a function to map relations, once, so that I dont need to add that over and over again for each datatype class"
   ]
  },
  {
   "cell_type": "markdown",
   "id": "02453d57-8d46-4d3a-86eb-11465522b346",
   "metadata": {},
   "source": [
    "#### Lets relate the ParticleID datatype with the ReconstructedParticle datatype"
   ]
  },
  {
   "cell_type": "markdown",
   "id": "340ea9bf-49b0-4168-9414-bf1737ef925d",
   "metadata": {},
   "source": [
    "- From the edm4hep scheme, we see that, there is a OneToOne relation from `ParticleID` to `ReconstructedParticle`\n",
    "- In the FCC root files\n",
    "- `ParticleID` is named as `ParticleIDs`\n",
    "- `ReconstructedParticle` is named as `ReconstructedParticles`"
   ]
  },
  {
   "cell_type": "code",
   "execution_count": 8,
   "id": "11b55f96-ec9b-4853-9cfb-4abc43ef3e81",
   "metadata": {},
   "outputs": [
    {
     "data": {
      "text/plain": [
       "{'particle_idx_Jet', 'particle_idx_ReconstructedParticles'}"
      ]
     },
     "execution_count": 8,
     "metadata": {},
     "output_type": "execute_result"
    }
   ],
   "source": [
    "events.ParticleIDs.List_Relations"
   ]
  },
  {
   "cell_type": "code",
   "execution_count": 9,
   "id": "4c56d05c-a18b-4e0c-af3d-61e9a8fdbe66",
   "metadata": {},
   "outputs": [
    {
     "data": {
      "text/html": [
       "<pre>[[ReconstructedParticle, ..., ReconstructedParticle],\n",
       " [ReconstructedParticle, ...],\n",
       " [ReconstructedParticle, ...],\n",
       " [ReconstructedParticle, ..., ReconstructedParticle],\n",
       " [ReconstructedParticle, ...],\n",
       " [ReconstructedParticle, ReconstructedParticle, ..., ReconstructedParticle],\n",
       " [ReconstructedParticle, ReconstructedParticle, ..., ReconstructedParticle],\n",
       " [ReconstructedParticle, ReconstructedParticle, ..., ReconstructedParticle],\n",
       " [ReconstructedParticle, ReconstructedParticle, ..., ReconstructedParticle],\n",
       " [ReconstructedParticle, ReconstructedParticle, ..., ReconstructedParticle],\n",
       " ...,\n",
       " [ReconstructedParticle, ReconstructedParticle, ..., ReconstructedParticle],\n",
       " [ReconstructedParticle, ..., ReconstructedParticle],\n",
       " [ReconstructedParticle, ...],\n",
       " [ReconstructedParticle, ...],\n",
       " [ReconstructedParticle, ReconstructedParticle, ..., ReconstructedParticle],\n",
       " [ReconstructedParticle, ReconstructedParticle, ..., ReconstructedParticle],\n",
       " [ReconstructedParticle, ReconstructedParticle, ..., ReconstructedParticle],\n",
       " [ReconstructedParticle, ReconstructedParticle, ..., ReconstructedParticle],\n",
       " [ReconstructedParticle, ...]]\n",
       "------------------------------------------------------------------------------------------------------------------------------------------------------------\n",
       "type: 1000 * var * ?ReconstructedParticle[\n",
       "    E: float32[parameters={&quot;__doc__&quot;: &quot;energy[ReconstructedParticles_]&quot;}],\n",
       "    PDG: int32[parameters={&quot;__doc__&quot;: &quot;PDG[ReconstructedParticles_]&quot;}],\n",
       "    charge: float32[parameters={&quot;__doc__&quot;: &quot;charge[ReconstructedParticles_]&quot;}],\n",
       "    clusters_idx_EFlowNeutralHadron: {\n",
       "        index: var * int32[parameters={&quot;__doc__&quot;: &quot;index[_ReconstructedParticles_clusters_]&quot;}],\n",
       "        collectionID: var * uint32[parameters={&quot;__doc__&quot;: &quot;collectionID[_ReconstructedParticles_clusters_]&quot;}],\n",
       "        index_Global: var * int32[parameters={&quot;__doc__&quot;: &quot;index[_ReconstructedParticles_clusters_]&quot;}]\n",
       "    },\n",
       "    clusters_idx_EFlowPhoton: {\n",
       "        index: var * int32[parameters={&quot;__doc__&quot;: &quot;index[_ReconstructedParticles_clusters_]&quot;}],\n",
       "        collectionID: var * uint32[parameters={&quot;__doc__&quot;: &quot;collectionID[_ReconstructedParticles_clusters_]&quot;}],\n",
       "        index_Global: var * int32[parameters={&quot;__doc__&quot;: &quot;index[_ReconstructedParticles_clusters_]&quot;}]\n",
       "    },\n",
       "    covMatrix: None[\n",
       "        &quot;values[10]&quot;: [10 * float32[parameters={&quot;__doc__&quot;: &quot;values[ReconstructedParticles_]&quot;}], parameters={&quot;__doc__&quot;: &quot;values[ReconstructedParticles_]&quot;}], \n",
       "    parameters={&quot;collection_name&quot;: &quot;covMatrix&quot;, &quot;__doc__&quot;: &quot;covariance matrix of the reconstructed particle 4vector&quot;}],\n",
       "    goodnessOfPID: float32[parameters={&quot;__doc__&quot;: &quot;goodnessOfPID[ReconstructedParticles_]&quot;}],\n",
       "    mass: float32[parameters={&quot;__doc__&quot;: &quot;mass[ReconstructedParticles_]&quot;}],\n",
       "    particles_idx_Jet: {\n",
       "        index: var * int32[parameters={&quot;__doc__&quot;: &quot;index[_ReconstructedParticles_particles_]&quot;}],\n",
       "        collectionID: var * uint32[parameters={&quot;__doc__&quot;: &quot;collectionID[_ReconstructedParticles_particles_]&quot;}],\n",
       "        index_Global: var * int32[parameters={&quot;__doc__&quot;: &quot;index[_ReconstructedParticles_particles_]&quot;}]\n",
       "    },\n",
       "    particles_idx_ReconstructedParticles: {\n",
       "        index: var * int32[parameters={&quot;__doc__&quot;: &quot;index[_ReconstructedParticles_particles_]&quot;}],\n",
       "        collectionID: var * uint32[parameters={&quot;__doc__&quot;: &quot;collectionID[_ReconstructedParticles_particles_]&quot;}],\n",
       "        index_Global: var * int32[parameters={&quot;__doc__&quot;: &quot;index[_ReconstructedParticles_particles_]&quot;}]\n",
       "    },\n",
       "    px: float32[parameters={&quot;__doc__&quot;: &quot;x[ReconstructedParticles_]&quot;}],\n",
       "    py: float32[parameters={&quot;__doc__&quot;: &quot;y[ReconstructedParticles_]&quot;}],\n",
       "    pz: float32[parameters={&quot;__doc__&quot;: &quot;z[ReconstructedParticles_]&quot;}],\n",
       "    referencePoint: ThreeVector[\n",
       "        x: float32[parameters={&quot;__doc__&quot;: &quot;x[ReconstructedParticles_]&quot;}],\n",
       "        y: float32[parameters={&quot;__doc__&quot;: &quot;y[ReconstructedParticles_]&quot;}],\n",
       "        z: float32[parameters={&quot;__doc__&quot;: &quot;z[ReconstructedParticles_]&quot;}], \n",
       "    parameters={&quot;collection_name&quot;: &quot;referencePoint&quot;, &quot;__doc__&quot;: &quot;reference, i.e. where the particle has been measured&quot;}],\n",
       "    tracks_idx_EFlowTrack: {\n",
       "        index: var * int32[parameters={&quot;__doc__&quot;: &quot;index[_ReconstructedParticles_tracks_]&quot;}],\n",
       "        collectionID: var * uint32[parameters={&quot;__doc__&quot;: &quot;collectionID[_ReconstructedParticles_tracks_]&quot;}],\n",
       "        index_Global: var * int32[parameters={&quot;__doc__&quot;: &quot;index[_ReconstructedParticles_tracks_]&quot;}]\n",
       "    }, \n",
       "parameters={&quot;collection_name&quot;: &quot;ReconstructedParticles&quot;, &quot;__doc__&quot;: &quot;Reconstructed Particle&quot;}]</pre>"
      ],
      "text/plain": [
       "<ReconstructedParticleArray [[ReconstructedParticle, ...], ...] type='1000 ...'>"
      ]
     },
     "execution_count": 9,
     "metadata": {},
     "output_type": "execute_result"
    }
   ],
   "source": [
    "events.ParticleIDs.Map_Relation('particle', 'ReconstructedParticles').compute()\n",
    "# Here str 'particle' and 'ReconstructedParticle' are separated only by '_idx_'\n",
    "# and these two strings are the arguments to Map_Relation\n",
    "# 'particle' being the generic_name of the relation (as defined in edm4hep.yaml)\n",
    "# and 'ReconstructedParticles' being the name of the target collection"
   ]
  },
  {
   "cell_type": "code",
   "execution_count": null,
   "id": "1feea0f7-f5f7-4f56-8306-ece8086248f4",
   "metadata": {},
   "outputs": [],
   "source": [
    "# please note that there is some problem with using Map_Relations to OneToMany Relations,\n",
    "# Looks like, the relationship branch for OneToMany Relations have incorrect global indices\n",
    "# Working to fix that"
   ]
  },
  {
   "cell_type": "code",
   "execution_count": null,
   "id": "083055a2-dfa2-4932-937d-5fb3ba26c96f",
   "metadata": {},
   "outputs": [],
   "source": []
  }
 ],
 "metadata": {
  "kernelspec": {
   "display_name": "Python 3 (ipykernel)",
   "language": "python",
   "name": "python3"
  },
  "language_info": {
   "codemirror_mode": {
    "name": "ipython",
    "version": 3
   },
   "file_extension": ".py",
   "mimetype": "text/x-python",
   "name": "python",
   "nbconvert_exporter": "python",
   "pygments_lexer": "ipython3",
   "version": "3.12.7"
  }
 },
 "nbformat": 4,
 "nbformat_minor": 5
}
