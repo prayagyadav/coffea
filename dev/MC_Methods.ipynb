{
 "cells": [
  {
   "cell_type": "code",
   "execution_count": 1,
   "id": "76db08b7-1223-42ed-b802-fa58a935a816",
   "metadata": {},
   "outputs": [
    {
     "name": "stdout",
     "output_type": "stream",
     "text": [
      "_______________________________________\n",
      "\tCurrent Configuration\n",
      "---------------------------------------\n",
      "Coffea Version:  0.1.dev3583+ge06c4b8\n",
      "Branch: \t master\n",
      "Modified by: \t Prayag Yadav\n",
      "_______________________________________\n"
     ]
    }
   ],
   "source": [
    "import coffea\n",
    "from git import Repo\n",
    "import awkward as ak\n",
    "import numpy as np\n",
    "import numba\n",
    "import uproot\n",
    "import dask_awkward as dak\n",
    "mod = \"Prayag Yadav\"\n",
    "local_repo = Repo(path='coffea')\n",
    "local_branch = local_repo.active_branch.name\n",
    "print(\"_______________________________________\")\n",
    "print(\"\\tCurrent Configuration\")\n",
    "print(\"---------------------------------------\")\n",
    "print(\"Coffea Version: \", coffea.__version__)\n",
    "print(\"Branch: \\t\", local_branch)\n",
    "print(\"Modified by: \\t\", mod)\n",
    "print(\"_______________________________________\")"
   ]
  },
  {
   "cell_type": "code",
   "execution_count": 2,
   "id": "a84a6c50-29e6-4ed4-a866-5be0f368d79b",
   "metadata": {
    "scrolled": true
   },
   "outputs": [
    {
     "name": "stderr",
     "output_type": "stream",
     "text": [
      "/home/prayag/coffeafcc/development/coffea/src/coffea/nanoevents/schemas/fcc.py:4: FutureWarning: In version 2025.1.0 (target date: 2024-12-31 11:59:59-06:00), this will be an error.\n",
      "To raise these warnings as errors (and get stack traces to find out where they're called), run\n",
      "    import warnings\n",
      "    warnings.filterwarnings(\"error\", module=\"coffea.*\")\n",
      "after the first `import coffea` or use `@pytest.mark.filterwarnings(\"error:::coffea.*\")` in pytest.\n",
      "Issue: coffea.nanoevents.methods.vector will be removed and replaced with scikit-hep vector. Nanoevents schemas internal to coffea will be migrated. Otherwise please consider using that package!.\n",
      "  from coffea.nanoevents.methods import vector\n"
     ]
    }
   ],
   "source": [
    "from coffea.nanoevents import NanoEventsFactory, FCCSchema, FCC\n",
    "test_file = 'root://eospublic.cern.ch//eos/experiment/fcc/ee/generation/DelphesEvents/spring2021/IDEA/p8_ee_ZH_ecm240/events_101027117.root'\n",
    "#test_file = '../../../coffea-fcc-analyses/data/p8_ee_ZH_ecm240/events_082532938.root'\n",
    "file = uproot.open(test_file)\n",
    "\n",
    "events = NanoEventsFactory.from_root(\n",
    "    test_file+\":events\",\n",
    "    entry_stop=100,\n",
    "    schemaclass= FCC.get_schema(version=\"latest\"),\n",
    "    delayed = False,\n",
    "    metadata=file[\"metadata\"].arrays()\n",
    ").events()\n",
    "\n",
    "file.close()"
   ]
  },
  {
   "cell_type": "markdown",
   "id": "671b6368-f880-44f3-90ef-aa0349c0bfb8",
   "metadata": {},
   "source": [
    "# 1. MCRecoAssociations"
   ]
  },
  {
   "cell_type": "markdown",
   "id": "0d688487-8309-44a2-aa6e-8a4ac70ef629",
   "metadata": {},
   "source": [
    "- The relationship betweeen the ReconstructedParticles and their generated MC counterparts are saved in MCRecoAssociations collection.\n",
    "- Using BaseSchema one finds that there are 5 braches associated with MCRecoAssociations:\n",
    "    - `MCRecoAssociations/MCRecoAssociations.weight`\n",
    "    - `MCRecoAssociations#0/MCRecoAssociations#0.index`\n",
    "    - `MCRecoAssociations#0/MCRecoAssociations#0.collectionID`\n",
    "    - `MCRecoAssociations#1/MCRecoAssociations#1.index`\n",
    "    - `MCRecoAssociations#1/MCRecoAssociations#1.collectionID`\n",
    "- `MCRecoAssociations#1` have indices corresponding to `ReconstructedParticles` collection (same collectionIDs)\n",
    "- `MCRecoAssociations#0` have indices corresponding to `Particle` collection which is the MC collection (same collectionIDs)"
   ]
  },
  {
   "cell_type": "markdown",
   "id": "da8f925d-f6d7-4a18-a118-15dd388ec099",
   "metadata": {},
   "source": [
    "- I have zipped these branches to produce the `MCRecoAssociations` collection with the following structure:"
   ]
  },
  {
   "cell_type": "code",
   "execution_count": 3,
   "id": "47c0dc87-c696-4f4f-9851-45db9b9098b1",
   "metadata": {},
   "outputs": [],
   "source": [
    "def tree(Record_Array):\n",
    "    '''\n",
    "    To list down all the fields and subfields of a ListOffsetArray with RecordArray members\n",
    "    '''\n",
    "    f,l,d = ak.to_buffers(Record_Array)\n",
    "    f = f.to_dict()\n",
    "    if f[\"class\"] == \"ListOffsetArray\":\n",
    "        c = f[\"content\"]\n",
    "    elif f[\"class\"] == \"RecordArray\":\n",
    "        c = f[\"contents\"]\n",
    "    else :\n",
    "        raise TypeError(\"Incompatible class type of the input array.\")\n",
    "    if c[\"class\"] == \"RecordArray\":\n",
    "        fields = c[\"fields\"]\n",
    "        for num, field in enumerate(fields):\n",
    "            print(\"*\", field)\n",
    "            s = c[\"contents\"][num]\n",
    "            if s[\"class\"] == \"RecordArray\":\n",
    "                sub_fields = s[\"fields\"]\n",
    "                for sub_field in sub_fields:\n",
    "                    print(\"\\t-\",sub_field)\n",
    "                print()\n",
    "        print(\"\\n\")"
   ]
  },
  {
   "cell_type": "code",
   "execution_count": 4,
   "id": "1e660f5b-bb47-46d7-8288-e42b7622e390",
   "metadata": {},
   "outputs": [
    {
     "name": "stdout",
     "output_type": "stream",
     "text": [
      "* mc\n",
      "\t- collectionID\n",
      "\t- index\n",
      "\n",
      "* reco\n",
      "\t- collectionID\n",
      "\t- index\n",
      "\n",
      "* weight\n",
      "\n",
      "\n"
     ]
    }
   ],
   "source": [
    "tree(events.MCRecoAssociations)"
   ]
  },
  {
   "cell_type": "code",
   "execution_count": 5,
   "id": "2aba1b49-1009-4f9e-8e2a-f8a590236a88",
   "metadata": {},
   "outputs": [
    {
     "data": {
      "text/html": [
       "<pre>[[0, 0, 0, 0, 0, 0, 0, 0, 0, 0, 0, 0, ..., 0, 0, 0, 0, 0, 0, 0, 0, 0, 0, 0, 0],\n",
       " [0, 0, 0, 0, 0, 0, 0, 0, 0, 0, 0, 0, ..., 0, 0, 0, 0, 0, 0, 0, 0, 0, 0, 0, 0],\n",
       " [0, 0, 0, 0, 0, 0, 0, 0, 0, 0, 0, 0, ..., 0, 0, 0, 0, 0, 0, 0, 0, 0, 0, 0, 0],\n",
       " [0, 0, 0, 0, 0, 0, 0, 0, 0, 0, 0, 0, 0, 0, 0, 0, 0, 0, 0],\n",
       " [0, 0, 0, 0, 0, 0, 0, 0, 0, 0, 0, 0, ..., 0, 0, 0, 0, 0, 0, 0, 0, 0, 0, 0, 0],\n",
       " [0, 0, 0],\n",
       " [0, 0, 0, 0, 0, 0, 0, 0, 0, 0, 0, 0, ..., 0, 0, 0, 0, 0, 0, 0, 0, 0, 0, 0, 0],\n",
       " [0, 0, 0, 0, 0, 0, 0, 0, 0, 0, 0, 0, ..., 0, 0, 0, 0, 0, 0, 0, 0, 0, 0, 0, 0],\n",
       " [0, 0, 0, 0, 0, 0, 0, 0, 0, 0, 0, 0, ..., 0, 0, 0, 0, 0, 0, 0, 0, 0, 0, 0, 0],\n",
       " [0, 0, 0, 0, 0, 0, 0, 0, 0, 0, 0, 0, ..., 0, 0, 0, 0, 0, 0, 0, 0, 0, 0, 0, 0],\n",
       " ...,\n",
       " [0, 0, 0, 0, 0, 0, 0, 0, 0, 0, 0, 0, ..., 0, 0, 0, 0, 0, 0, 0, 0, 0, 0, 0, 0],\n",
       " [0, 0, 0, 0, 0, 0, 0, 0, 0, 0, 0, 0, ..., 0, 0, 0, 0, 0, 0, 0, 0, 0, 0, 0, 0],\n",
       " [0, 0, 0, 0, 0, 0, 0, 0, 0, 0, 0, 0, ..., 0, 0, 0, 0, 0, 0, 0, 0, 0, 0, 0, 0],\n",
       " [0, 0, 0, 0, 0, 0, 0, 0, 0, 0, 0, 0, ..., 0, 0, 0, 0, 0, 0, 0, 0, 0, 0, 0, 0],\n",
       " [0, 0, 0, 0, 0, 0, 0, 0, 0, 0, 0, 0, ..., 0, 0, 0, 0, 0, 0, 0, 0, 0, 0, 0, 0],\n",
       " [0, 0, 0, 0],\n",
       " [0, 0, 0, 0, 0, 0, 0, 0, 0, 0, 0, 0, ..., 0, 0, 0, 0, 0, 0, 0, 0, 0, 0, 0, 0],\n",
       " [0, 0, 0, 0, 0, 0, 0, 0, 0, 0, 0, 0, ..., 0, 0, 0, 0, 0, 0, 0, 0, 0, 0, 0, 0],\n",
       " [0, 0, 0, 0, 0, 0, 0, 0, 0, 0, 0, 0, ..., 0, 0, 0, 0, 0, 0, 0, 0, 0, 0, 0, 0]]\n",
       "--------------------------------------------------------------------------------\n",
       "type: 100 * var * float32[parameters={&quot;__doc__&quot;: &quot;weight[MCRecoAssociations_]&quot;}]</pre>"
      ],
      "text/plain": [
       "<Array [[0, 0, 0, 0, 0, ..., 0, 0, 0, 0], ...] type='100 * var * float32[pa...'>"
      ]
     },
     "execution_count": 5,
     "metadata": {},
     "output_type": "execute_result"
    }
   ],
   "source": [
    "events.MCRecoAssociations.weight"
   ]
  },
  {
   "cell_type": "code",
   "execution_count": 6,
   "id": "6bbec1cc-45ae-46b3-b13b-0ac7425e2966",
   "metadata": {},
   "outputs": [
    {
     "data": {
      "text/plain": [
       "['collectionID', 'index']"
      ]
     },
     "execution_count": 6,
     "metadata": {},
     "output_type": "execute_result"
    }
   ],
   "source": [
    "events.MCRecoAssociations.mc.fields"
   ]
  },
  {
   "cell_type": "code",
   "execution_count": 7,
   "id": "fc55ef42-4667-4331-b59d-13a6d9b6404f",
   "metadata": {},
   "outputs": [
    {
     "data": {
      "text/plain": [
       "['collectionID', 'index']"
      ]
     },
     "execution_count": 7,
     "metadata": {},
     "output_type": "execute_result"
    }
   ],
   "source": [
    "events.MCRecoAssociations.reco.fields"
   ]
  },
  {
   "cell_type": "code",
   "execution_count": 8,
   "id": "1b30670f-187a-484e-9dfe-2df942b1031f",
   "metadata": {},
   "outputs": [
    {
     "data": {
      "text/html": [
       "<pre>[[174, 178, 138, 235, 94, 274, 273, ..., 279, 278, 256, 282, 277, 267, 168],\n",
       " [189, 136, 103, 170, 151, 169, 135, ..., 176, 198, 199, 142, 91, 207, 194],\n",
       " [181, 258, 251, 264, 145, 144, 191, ..., 173, 175, 246, 131, 245, 225, 254],\n",
       " [29, 46, 42, 44, 45, 49, 12, 41, 46, ..., 51, 55, 44, 61, 62, 54, 59, 60, 13],\n",
       " [104, 135, 133, 167, 174, 107, 179, ..., 291, 295, 279, 271, 153, 214, 10],\n",
       " [24, 28, 29],\n",
       " [139, 158, 150, 92, 156, 143, 209, ..., 270, 271, 114, 237, 268, 269, 224],\n",
       " [225, 345, 224, 348, 255, 342, 343, ..., 308, 373, 413, 387, 374, 335, 411],\n",
       " [121, 123, 25, 122, 125, 104, 112, 84, ..., 164, 173, 133, 160, 100, 161, 101],\n",
       " [165, 147, 154, 163, 153, 161, 168, ..., 185, 241, 237, 221, 218, 198, 197],\n",
       " ...,\n",
       " [141, 218, 163, 143, 148, 98, 97, 91, ..., 210, 252, 206, 209, 179, 182, 155],\n",
       " [125, 116, 201, 236, 272, 239, 200, ..., 290, 288, 291, 181, 233, 180, 15],\n",
       " [198, 138, 194, 151, 192, 237, 78, ..., 226, 227, 219, 186, 187, 128, 161],\n",
       " [159, 123, 191, 210, 178, 165, 296, ..., 316, 284, 281, 282, 260, 259, 213],\n",
       " [88, 57, 61, 84, 107, 99, 95, 98, ..., 69, 80, 89, 116, 124, 115, 111, 126],\n",
       " [22, 20, 19, 18],\n",
       " [119, 82, 102, 97, 117, 116, 154, 157, ..., 94, 129, 148, 146, 145, 99, 90],\n",
       " [52, 17, 81, 66, 77, 19, 62, 76, 88, ..., 72, 100, 101, 88, 98, 92, 48, 80],\n",
       " [82, 87, 129, 57, 110, 134, 111, 88, ..., 136, 96, 139, 137, 76, 140, 141]]\n",
       "--------------------------------------------------------------------------------\n",
       "type: 100 * var * int32[parameters={&quot;__doc__&quot;: &quot;index[MCRecoAssociations#1_]&quot;}]</pre>"
      ],
      "text/plain": [
       "<Array [[174, 178, 138, ..., 267, 168], ...] type='100 * var * int32[parame...'>"
      ]
     },
     "execution_count": 8,
     "metadata": {},
     "output_type": "execute_result"
    }
   ],
   "source": [
    "events.MCRecoAssociations.mc.index"
   ]
  },
  {
   "cell_type": "code",
   "execution_count": 9,
   "id": "ed295486-c82a-4cca-84de-c81e197b27c1",
   "metadata": {},
   "outputs": [
    {
     "data": {
      "text/html": [
       "<pre>[[5, 5, 5, 5, 5, 5, 5, 5, 5, 5, 5, 5, ..., 5, 5, 5, 5, 5, 5, 5, 5, 5, 5, 5, 5],\n",
       " [5, 5, 5, 5, 5, 5, 5, 5, 5, 5, 5, 5, ..., 5, 5, 5, 5, 5, 5, 5, 5, 5, 5, 5, 5],\n",
       " [5, 5, 5, 5, 5, 5, 5, 5, 5, 5, 5, 5, ..., 5, 5, 5, 5, 5, 5, 5, 5, 5, 5, 5, 5],\n",
       " [5, 5, 5, 5, 5, 5, 5, 5, 5, 5, 5, 5, 5, 5, 5, 5, 5, 5, 5],\n",
       " [5, 5, 5, 5, 5, 5, 5, 5, 5, 5, 5, 5, ..., 5, 5, 5, 5, 5, 5, 5, 5, 5, 5, 5, 5],\n",
       " [5, 5, 5],\n",
       " [5, 5, 5, 5, 5, 5, 5, 5, 5, 5, 5, 5, ..., 5, 5, 5, 5, 5, 5, 5, 5, 5, 5, 5, 5],\n",
       " [5, 5, 5, 5, 5, 5, 5, 5, 5, 5, 5, 5, ..., 5, 5, 5, 5, 5, 5, 5, 5, 5, 5, 5, 5],\n",
       " [5, 5, 5, 5, 5, 5, 5, 5, 5, 5, 5, 5, ..., 5, 5, 5, 5, 5, 5, 5, 5, 5, 5, 5, 5],\n",
       " [5, 5, 5, 5, 5, 5, 5, 5, 5, 5, 5, 5, ..., 5, 5, 5, 5, 5, 5, 5, 5, 5, 5, 5, 5],\n",
       " ...,\n",
       " [5, 5, 5, 5, 5, 5, 5, 5, 5, 5, 5, 5, ..., 5, 5, 5, 5, 5, 5, 5, 5, 5, 5, 5, 5],\n",
       " [5, 5, 5, 5, 5, 5, 5, 5, 5, 5, 5, 5, ..., 5, 5, 5, 5, 5, 5, 5, 5, 5, 5, 5, 5],\n",
       " [5, 5, 5, 5, 5, 5, 5, 5, 5, 5, 5, 5, ..., 5, 5, 5, 5, 5, 5, 5, 5, 5, 5, 5, 5],\n",
       " [5, 5, 5, 5, 5, 5, 5, 5, 5, 5, 5, 5, ..., 5, 5, 5, 5, 5, 5, 5, 5, 5, 5, 5, 5],\n",
       " [5, 5, 5, 5, 5, 5, 5, 5, 5, 5, 5, 5, ..., 5, 5, 5, 5, 5, 5, 5, 5, 5, 5, 5, 5],\n",
       " [5, 5, 5, 5],\n",
       " [5, 5, 5, 5, 5, 5, 5, 5, 5, 5, 5, 5, ..., 5, 5, 5, 5, 5, 5, 5, 5, 5, 5, 5, 5],\n",
       " [5, 5, 5, 5, 5, 5, 5, 5, 5, 5, 5, 5, ..., 5, 5, 5, 5, 5, 5, 5, 5, 5, 5, 5, 5],\n",
       " [5, 5, 5, 5, 5, 5, 5, 5, 5, 5, 5, 5, ..., 5, 5, 5, 5, 5, 5, 5, 5, 5, 5, 5, 5]]\n",
       "--------------------------------------------------------------------------------------\n",
       "type: 100 * var * int32[parameters={&quot;__doc__&quot;: &quot;collectionID[MCRecoAssociations#1_]&quot;}]</pre>"
      ],
      "text/plain": [
       "<Array [[5, 5, 5, 5, 5, ..., 5, 5, 5, 5], ...] type='100 * var * int32[para...'>"
      ]
     },
     "execution_count": 9,
     "metadata": {},
     "output_type": "execute_result"
    }
   ],
   "source": [
    "events.MCRecoAssociations.mc.collectionID"
   ]
  },
  {
   "cell_type": "markdown",
   "id": "113170b4-4acd-4480-8aff-284d90805f37",
   "metadata": {},
   "source": [
    "- I have defined a new mixin class for the `MCRecoAssociations` collection, called `ParticleLink`, to facilitate the definition of some useful properties\n",
    "\n",
    "---\n",
    "```python\n",
    "@awkward.mixin_class(behavior)\n",
    "class ParticleLink(base.NanoCollection):\n",
    "    \"\"\"MCRecoParticleAssociation objects.\"\"\"\n",
    "\n",
    "    @property\n",
    "    def reco_mc_index(self):\n",
    "        \"\"\"\n",
    "        Returns an array of indices mapping to generator particles for each reconstructed particle\n",
    "        \"\"\"\n",
    "        arr_reco = self.reco.index[:,:,numpy.newaxis]\n",
    "        arr_mc = self.mc.index[:,:,numpy.newaxis]\n",
    "\n",
    "        joined_indices = awkward.concatenate((arr_reco,arr_mc), axis=2)\n",
    "\n",
    "        return joined_indices\n",
    "\n",
    "    @dask_property\n",
    "    def reco_mc(self):\n",
    "        \"\"\"\n",
    "        Returns an array of Records mapping to generator particle record for each reconstructed particle record\n",
    "        \"\"\"\n",
    "        reco_index = self.reco.index\n",
    "        mc_index = self.mc.index\n",
    "        r = self._events().ReconstructedParticles[reco_index][:,:,numpy.newaxis]\n",
    "        m = self._events().Particle[mc_index][:,:,numpy.newaxis]\n",
    "\n",
    "        return awkward.concatenate((r,m), axis=2)\n",
    "\n",
    "    @reco_mc.dask\n",
    "    def reco_mc(self, dask_array):\n",
    "        \"\"\"\n",
    "        Returns an array of Records mapping to generator particle record for each reconstructed particle record\n",
    "        \"\"\"\n",
    "        reco_index = dask_array.reco.index\n",
    "        mc_index = dask_array.mc.index\n",
    "        r = dask_array._events().ReconstructedParticles[reco_index][:,:,numpy.newaxis]\n",
    "        m = dask_array._events().Particle[mc_index][:,:,numpy.newaxis]\n",
    "\n",
    "        return awkward.concatenate((r,m), axis=2)\n",
    "\n",
    "```\n",
    "---"
   ]
  },
  {
   "cell_type": "markdown",
   "id": "4c644b0c-82c2-48fd-b782-cd4c279c8ac0",
   "metadata": {},
   "source": [
    "## Lets see these functions in action"
   ]
  },
  {
   "cell_type": "markdown",
   "id": "13019195-5518-43ec-989e-9e70ee426124",
   "metadata": {},
   "source": [
    "- `reco_mc_index` creates the MC index for each Reco index"
   ]
  },
  {
   "cell_type": "code",
   "execution_count": 10,
   "id": "ab01a534-228e-49fe-8c5b-0bf7bfa4c887",
   "metadata": {},
   "outputs": [
    {
     "data": {
      "text/html": [
       "<pre>[[[0, 174], [1, 178], [2, 138], [3, ...], ..., [78, 277], [79, 267], [80, 168]],\n",
       " [[0, 189], [1, 136], [2, 103], [3, ...], ..., [56, 91], [57, 207], [58, 194]],\n",
       " [[0, 181], [1, 258], [2, 251], [3, ...], ..., [76, 245], [77, 225], [78, 254]],\n",
       " [[0, 29], [1, 46], [2, 42], [3, 44], ..., [...], [16, 59], [17, 60], [18, 13]],\n",
       " [[0, 104], [1, 135], [2, 133], [3, ...], ..., [89, 153], [90, 214], [91, 10]],\n",
       " [[0, 24], [1, 28], [2, 29]],\n",
       " [[0, 139], [1, 158], [2, 150], [3, ...], ..., [67, 268], [68, 269], [69, 224]],\n",
       " [[0, 225], [1, 345], [2, 224], [...], ..., [106, 374], [107, 335], [108, 411]],\n",
       " [[0, 121], [1, 123], [2, 25], [3, ...], ..., [40, 100], [41, 161], [42, 101]],\n",
       " [[0, 165], [1, 147], [2, 154], [3, ...], ..., [66, 218], [67, 198], [68, 197]],\n",
       " ...,\n",
       " [[0, 141], [1, 218], [2, 163], [3, ...], ..., [81, 179], [82, 182], [83, 155]],\n",
       " [[0, 125], [1, 116], [2, 201], [3, ...], ..., [84, 233], [85, 180], [86, 15]],\n",
       " [[0, 198], [1, 138], [2, 194], [3, ...], ..., [81, 187], [82, 128], [83, 161]],\n",
       " [[0, 159], [1, 123], [2, 191], [3, ...], ..., [94, 260], [95, 259], [96, 213]],\n",
       " [[0, 88], [1, 57], [2, 61], [3, ...], ..., [40, 115], [41, 111], [42, 126]],\n",
       " [[0, 22], [1, 20], [2, 19], [3, 18]],\n",
       " [[0, 119], [1, 82], [2, 102], [3, ...], ..., [58, 145], [59, 99], [60, 90]],\n",
       " [[0, 52], [1, 17], [2, 81], [3, 66], ..., [...], [27, 92], [28, 48], [29, 80]],\n",
       " [[0, 82], [1, 87], [2, 129], [3, ...], ..., [52, 76], [53, 140], [54, 141]]]\n",
       "--------------------------------------------------------------------------------\n",
       "type: 100 * var * 2 * int32</pre>"
      ],
      "text/plain": [
       "<Array [[[0, 174], [1, ...], ..., [80, 168]], ...] type='100 * var * 2 * int32'>"
      ]
     },
     "execution_count": 10,
     "metadata": {},
     "output_type": "execute_result"
    }
   ],
   "source": [
    "events.MCRecoAssociations.reco_mc_index"
   ]
  },
  {
   "cell_type": "code",
   "execution_count": 11,
   "id": "aa182181-0ce7-4c19-87ae-96020ddeed55",
   "metadata": {},
   "outputs": [
    {
     "data": {
      "text/html": [
       "<pre>[0,\n",
       " 174]\n",
       "---------------\n",
       "type: 2 * int32</pre>"
      ],
      "text/plain": [
       "<Array [0, 174] type='2 * int32'>"
      ]
     },
     "execution_count": 11,
     "metadata": {},
     "output_type": "execute_result"
    }
   ],
   "source": [
    "# The first index association in the first event\n",
    "# 0th ReconstructedParticle in first event corresponds to the 88th MC Particle in the Particle collection\n",
    "events.MCRecoAssociations.reco_mc_index[0,0,:]"
   ]
  },
  {
   "cell_type": "markdown",
   "id": "cbb2e04f-a834-43a4-ab07-411cc114f48d",
   "metadata": {},
   "source": [
    "- To get the actual data instead of indices from `reco_mc_index`, we simply use `reco_mc`"
   ]
  },
  {
   "cell_type": "code",
   "execution_count": 12,
   "id": "a8c56222-1406-4e98-a83e-cc93d098dac6",
   "metadata": {},
   "outputs": [
    {
     "name": "stdout",
     "output_type": "stream",
     "text": [
      "[[[RecoParticle, MCTruthParticle], ..., [RecoParticle, ...]], ...]\n"
     ]
    }
   ],
   "source": [
    "print(events.MCRecoAssociations.reco_mc)"
   ]
  },
  {
   "cell_type": "code",
   "execution_count": 13,
   "id": "bb755108-fd70-4b69-ba53-10f360b84bbe",
   "metadata": {},
   "outputs": [
    {
     "data": {
      "text/html": [
       "<pre>[{E: 0.786, charge: 1, clusters: {begin: 0, ...}, covMatrix_10_: [...], ...},\n",
       " {PDG: 211, charge: 1, colorFlow: {a: 0, b: 0}, daughters: {...}, ...}]\n",
       "------------------------------------------------------------------------------------------------------------------------------------------------------------------\n",
       "type: 2 * union[\n",
       "    RecoParticle[\n",
       "        E: float32[parameters={&quot;__doc__&quot;: &quot;energy[ReconstructedParticles_]&quot;}],\n",
       "        charge: float32[parameters={&quot;__doc__&quot;: &quot;charge[ReconstructedParticles_]&quot;}],\n",
       "        clusters: {\n",
       "            begin: uint32[parameters={&quot;__doc__&quot;: &quot;clusters_begin[ReconstructedParticles_]&quot;}],\n",
       "            end: uint32[parameters={&quot;__doc__&quot;: &quot;clusters_end[ReconstructedParticles_]&quot;}]\n",
       "        },\n",
       "        covMatrix_10_: [10 * float32[parameters={&quot;__doc__&quot;: &quot;covMatrix[ReconstructedParticles_]&quot;}], parameters={&quot;__doc__&quot;: &quot;covMatrix[ReconstructedParticles_]&quot;}],\n",
       "        goodnessOfPID: float32[parameters={&quot;__doc__&quot;: &quot;goodnessOfPID[ReconstructedParticles_]&quot;}],\n",
       "        mass: float32[parameters={&quot;__doc__&quot;: &quot;mass[ReconstructedParticles_]&quot;}],\n",
       "        particleIDs: {\n",
       "            begin: uint32[parameters={&quot;__doc__&quot;: &quot;particleIDs_begin[ReconstructedParticles_]&quot;}],\n",
       "            end: uint32[parameters={&quot;__doc__&quot;: &quot;particleIDs_end[ReconstructedParticles_]&quot;}]\n",
       "        },\n",
       "        particles: {\n",
       "            begin: uint32[parameters={&quot;__doc__&quot;: &quot;particles_begin[ReconstructedParticles_]&quot;}],\n",
       "            end: uint32[parameters={&quot;__doc__&quot;: &quot;particles_end[ReconstructedParticles_]&quot;}]\n",
       "        },\n",
       "        px: float32[parameters={&quot;__doc__&quot;: &quot;x[ReconstructedParticles_]&quot;}],\n",
       "        py: float32[parameters={&quot;__doc__&quot;: &quot;y[ReconstructedParticles_]&quot;}],\n",
       "        pz: float32[parameters={&quot;__doc__&quot;: &quot;z[ReconstructedParticles_]&quot;}],\n",
       "        referencePoint: ThreeVector[\n",
       "            x: float32[parameters={&quot;__doc__&quot;: &quot;x[ReconstructedParticles_]&quot;}],\n",
       "            y: float32[parameters={&quot;__doc__&quot;: &quot;y[ReconstructedParticles_]&quot;}],\n",
       "            z: float32[parameters={&quot;__doc__&quot;: &quot;z[ReconstructedParticles_]&quot;}]\n",
       "        ],\n",
       "        tracks: {\n",
       "            begin: uint32[parameters={&quot;__doc__&quot;: &quot;tracks_begin[ReconstructedParticles_]&quot;}],\n",
       "            end: uint32[parameters={&quot;__doc__&quot;: &quot;tracks_end[ReconstructedParticles_]&quot;}]\n",
       "        },\n",
       "        type: int32[parameters={&quot;__doc__&quot;: &quot;type[ReconstructedParticles_]&quot;}], \n",
       "    parameters={&quot;collection_name&quot;: &quot;ReconstructedParticles&quot;}],\n",
       "    MCTruthParticle[\n",
       "        PDG: int32[parameters={&quot;__doc__&quot;: &quot;PDG[Particle_]&quot;}],\n",
       "        charge: float32[parameters={&quot;__doc__&quot;: &quot;charge[Particle_]&quot;}],\n",
       "        colorFlow: {\n",
       "            a: int32[parameters={&quot;__doc__&quot;: &quot;a[Particle_]&quot;}],\n",
       "            b: int32[parameters={&quot;__doc__&quot;: &quot;b[Particle_]&quot;}]\n",
       "        },\n",
       "        daughters: {\n",
       "            begin: uint32[parameters={&quot;__doc__&quot;: &quot;daughters_begin[Particle_]&quot;}],\n",
       "            end: uint32[parameters={&quot;__doc__&quot;: &quot;daughters_end[Particle_]&quot;}]\n",
       "        },\n",
       "        endpoint: ThreeVector[\n",
       "            x: float64[parameters={&quot;__doc__&quot;: &quot;x[Particle_]&quot;}],\n",
       "            y: float64[parameters={&quot;__doc__&quot;: &quot;y[Particle_]&quot;}],\n",
       "            z: float64[parameters={&quot;__doc__&quot;: &quot;z[Particle_]&quot;}]\n",
       "        ],\n",
       "        generatorStatus: int32[parameters={&quot;__doc__&quot;: &quot;generatorStatus[Particle_]&quot;}],\n",
       "        mass: float64[parameters={&quot;__doc__&quot;: &quot;mass[Particle_]&quot;}],\n",
       "        momentumAtEndpoint: ThreeVector[\n",
       "            x: float32[parameters={&quot;__doc__&quot;: &quot;x[Particle_]&quot;}],\n",
       "            y: float32[parameters={&quot;__doc__&quot;: &quot;y[Particle_]&quot;}],\n",
       "            z: float32[parameters={&quot;__doc__&quot;: &quot;z[Particle_]&quot;}]\n",
       "        ],\n",
       "        parents: {\n",
       "            begin: uint32[parameters={&quot;__doc__&quot;: &quot;parents_begin[Particle_]&quot;}],\n",
       "            end: uint32[parameters={&quot;__doc__&quot;: &quot;parents_end[Particle_]&quot;}]\n",
       "        },\n",
       "        px: float32[parameters={&quot;__doc__&quot;: &quot;x[Particle_]&quot;}],\n",
       "        py: float32[parameters={&quot;__doc__&quot;: &quot;y[Particle_]&quot;}],\n",
       "        pz: float32[parameters={&quot;__doc__&quot;: &quot;z[Particle_]&quot;}],\n",
       "        simulatorStatus: int32[parameters={&quot;__doc__&quot;: &quot;simulatorStatus[Particle_]&quot;}],\n",
       "        spin: ThreeVector[\n",
       "            x: float32[parameters={&quot;__doc__&quot;: &quot;x[Particle_]&quot;}],\n",
       "            y: float32[parameters={&quot;__doc__&quot;: &quot;y[Particle_]&quot;}],\n",
       "            z: float32[parameters={&quot;__doc__&quot;: &quot;z[Particle_]&quot;}]\n",
       "        ],\n",
       "        time: float32[parameters={&quot;__doc__&quot;: &quot;time[Particle_]&quot;}],\n",
       "        vertex: ThreeVector[\n",
       "            x: float64[parameters={&quot;__doc__&quot;: &quot;x[Particle_]&quot;}],\n",
       "            y: float64[parameters={&quot;__doc__&quot;: &quot;y[Particle_]&quot;}],\n",
       "            z: float64[parameters={&quot;__doc__&quot;: &quot;z[Particle_]&quot;}]\n",
       "        ], \n",
       "    parameters={&quot;collection_name&quot;: &quot;Particle&quot;}]\n",
       "]</pre>"
      ],
      "text/plain": [
       "<Array [RecoParticle, MCTruthParticle] type='2 * union[RecoParticle[E: floa...'>"
      ]
     },
     "execution_count": 13,
     "metadata": {},
     "output_type": "execute_result"
    }
   ],
   "source": [
    "# The first association in the first event\n",
    "# 0th ReconstructedParticle in first event corresponds to the 88th MC Particle in the Particle collection\n",
    "events.MCRecoAssociations.reco_mc[0,0,:]"
   ]
  },
  {
   "cell_type": "code",
   "execution_count": 14,
   "id": "e39bb575-5e4b-4c95-a4f2-00373a7c768c",
   "metadata": {},
   "outputs": [],
   "source": [
    "reco = events.MCRecoAssociations.reco_mc[0,0,0]\n",
    "mc = events.MCRecoAssociations.reco_mc[0,0,1]"
   ]
  },
  {
   "cell_type": "code",
   "execution_count": 15,
   "id": "8f71e98f-6085-4a07-ba0e-385acf669842",
   "metadata": {},
   "outputs": [
    {
     "data": {
      "text/plain": [
       "np.float32(1.0)"
      ]
     },
     "execution_count": 15,
     "metadata": {},
     "output_type": "execute_result"
    }
   ],
   "source": [
    "reco.charge"
   ]
  },
  {
   "cell_type": "code",
   "execution_count": 16,
   "id": "133f1097-adaa-4a7b-88e2-2b7f7303a6fb",
   "metadata": {},
   "outputs": [
    {
     "data": {
      "text/plain": [
       "np.int32(211)"
      ]
     },
     "execution_count": 16,
     "metadata": {},
     "output_type": "execute_result"
    }
   ],
   "source": [
    "mc.PDG"
   ]
  },
  {
   "cell_type": "markdown",
   "id": "245e25fc-be9e-40b6-a4cd-3fa13676dc6a",
   "metadata": {},
   "source": [
    "- -211 pdg id might be $\\pi^-$"
   ]
  },
  {
   "cell_type": "code",
   "execution_count": 17,
   "id": "94746f62-7ff0-4c74-af24-9f8707ab048b",
   "metadata": {},
   "outputs": [
    {
     "data": {
      "text/plain": [
       "np.float32(0.13957039)"
      ]
     },
     "execution_count": 17,
     "metadata": {},
     "output_type": "execute_result"
    }
   ],
   "source": [
    "reco[\"mass\"]"
   ]
  },
  {
   "cell_type": "code",
   "execution_count": 18,
   "id": "1e8ebe96-2e82-4cad-a521-853c2cf0247d",
   "metadata": {},
   "outputs": [
    {
     "data": {
      "text/plain": [
       "np.float64(0.13956999778747559)"
      ]
     },
     "execution_count": 18,
     "metadata": {},
     "output_type": "execute_result"
    }
   ],
   "source": [
    "mc[\"mass\"]"
   ]
  },
  {
   "cell_type": "markdown",
   "id": "195fa261-160c-4dc9-8ca3-4294d53815e7",
   "metadata": {},
   "source": [
    "## Modifications to RecoParticle Class"
   ]
  },
  {
   "cell_type": "markdown",
   "id": "60d239bc-4a6b-4b17-9692-bca56ef0850b",
   "metadata": {},
   "source": [
    "- To facilitate easy access, one can also get the MC collection corresponding to a ReconstructedParticle"
   ]
  },
  {
   "cell_type": "code",
   "execution_count": 19,
   "id": "168a288f-5b84-4922-94a1-b03230d68ea1",
   "metadata": {},
   "outputs": [
    {
     "data": {
      "text/html": [
       "<pre>[[MCTruthParticle, ...],\n",
       " [MCTruthParticle, ...],\n",
       " [MCTruthParticle, ...],\n",
       " [MCTruthParticle, ...],\n",
       " [MCTruthParticle, ...],\n",
       " [MCTruthParticle, ...],\n",
       " [MCTruthParticle, ...],\n",
       " [MCTruthParticle, ...],\n",
       " [MCTruthParticle, ...],\n",
       " [MCTruthParticle, ...],\n",
       " ...,\n",
       " [MCTruthParticle, ...],\n",
       " [MCTruthParticle, ...],\n",
       " [MCTruthParticle, ...],\n",
       " [MCTruthParticle, ...],\n",
       " [MCTruthParticle, ...],\n",
       " [MCTruthParticle, ...],\n",
       " [MCTruthParticle, ...],\n",
       " [MCTruthParticle, ...],\n",
       " [MCTruthParticle, ...]]\n",
       "---------------------------------------------------------------------------------\n",
       "type: 100 * var * MCTruthParticle[\n",
       "    PDG: int32[parameters={&quot;__doc__&quot;: &quot;PDG[Particle_]&quot;}],\n",
       "    charge: float32[parameters={&quot;__doc__&quot;: &quot;charge[Particle_]&quot;}],\n",
       "    colorFlow: {\n",
       "        a: int32[parameters={&quot;__doc__&quot;: &quot;a[Particle_]&quot;}],\n",
       "        b: int32[parameters={&quot;__doc__&quot;: &quot;b[Particle_]&quot;}]\n",
       "    },\n",
       "    daughters: {\n",
       "        begin: uint32[parameters={&quot;__doc__&quot;: &quot;daughters_begin[Particle_]&quot;}],\n",
       "        end: uint32[parameters={&quot;__doc__&quot;: &quot;daughters_end[Particle_]&quot;}]\n",
       "    },\n",
       "    endpoint: ThreeVector[\n",
       "        x: float64[parameters={&quot;__doc__&quot;: &quot;x[Particle_]&quot;}],\n",
       "        y: float64[parameters={&quot;__doc__&quot;: &quot;y[Particle_]&quot;}],\n",
       "        z: float64[parameters={&quot;__doc__&quot;: &quot;z[Particle_]&quot;}]\n",
       "    ],\n",
       "    generatorStatus: int32[parameters={&quot;__doc__&quot;: &quot;generatorStatus[Particle_]&quot;}],\n",
       "    mass: float64[parameters={&quot;__doc__&quot;: &quot;mass[Particle_]&quot;}],\n",
       "    momentumAtEndpoint: ThreeVector[\n",
       "        x: float32[parameters={&quot;__doc__&quot;: &quot;x[Particle_]&quot;}],\n",
       "        y: float32[parameters={&quot;__doc__&quot;: &quot;y[Particle_]&quot;}],\n",
       "        z: float32[parameters={&quot;__doc__&quot;: &quot;z[Particle_]&quot;}]\n",
       "    ],\n",
       "    parents: {\n",
       "        begin: uint32[parameters={&quot;__doc__&quot;: &quot;parents_begin[Particle_]&quot;}],\n",
       "        end: uint32[parameters={&quot;__doc__&quot;: &quot;parents_end[Particle_]&quot;}]\n",
       "    },\n",
       "    px: float32[parameters={&quot;__doc__&quot;: &quot;x[Particle_]&quot;}],\n",
       "    py: float32[parameters={&quot;__doc__&quot;: &quot;y[Particle_]&quot;}],\n",
       "    pz: float32[parameters={&quot;__doc__&quot;: &quot;z[Particle_]&quot;}],\n",
       "    simulatorStatus: int32[parameters={&quot;__doc__&quot;: &quot;simulatorStatus[Particle_]&quot;}],\n",
       "    spin: ThreeVector[\n",
       "        x: float32[parameters={&quot;__doc__&quot;: &quot;x[Particle_]&quot;}],\n",
       "        y: float32[parameters={&quot;__doc__&quot;: &quot;y[Particle_]&quot;}],\n",
       "        z: float32[parameters={&quot;__doc__&quot;: &quot;z[Particle_]&quot;}]\n",
       "    ],\n",
       "    time: float32[parameters={&quot;__doc__&quot;: &quot;time[Particle_]&quot;}],\n",
       "    vertex: ThreeVector[\n",
       "        x: float64[parameters={&quot;__doc__&quot;: &quot;x[Particle_]&quot;}],\n",
       "        y: float64[parameters={&quot;__doc__&quot;: &quot;y[Particle_]&quot;}],\n",
       "        z: float64[parameters={&quot;__doc__&quot;: &quot;z[Particle_]&quot;}]\n",
       "    ], \n",
       "parameters={&quot;collection_name&quot;: &quot;Particle&quot;}]</pre>"
      ],
      "text/plain": [
       "<MCTruthParticleArray [[MCTruthParticle, ..., MCTruthParticle], ...] type='...'>"
      ]
     },
     "execution_count": 19,
     "metadata": {},
     "output_type": "execute_result"
    }
   ],
   "source": [
    "events.ReconstructedParticles.matched_gen"
   ]
  },
  {
   "cell_type": "markdown",
   "id": "9331032c-82dc-4f07-a5f8-5f728ede4d57",
   "metadata": {},
   "source": [
    "# 2. A more difficult problem : get daughter/parent particles"
   ]
  },
  {
   "cell_type": "markdown",
   "id": "532181c6-c5a6-4682-a9fe-18958f64d2ca",
   "metadata": {},
   "source": [
    "- Each of the MC particles in the `Particle` collection has varrying number of daughters\n",
    "- `Particles.daughters.begin`and `Particles.daughters.end` define the range of indices in the branch `Particleidx1` that corresponds to the daughter particles of the specific particle.\n",
    "- Similarly, `Particles.parents.begin`and `Particles.parents.end` define the range of indices in the branch `Particleidx0` that corresponds to the parent particles of the specific particle."
   ]
  },
  {
   "cell_type": "code",
   "execution_count": 20,
   "id": "49e53492-574e-4eb7-8691-ee5ee0b51f12",
   "metadata": {},
   "outputs": [
    {
     "data": {
      "text/plain": [
       "['begin', 'end']"
      ]
     },
     "execution_count": 20,
     "metadata": {},
     "output_type": "execute_result"
    }
   ],
   "source": [
    "events.Particle.daughters.fields"
   ]
  },
  {
   "cell_type": "code",
   "execution_count": 21,
   "id": "61f5e375-e388-49eb-8064-c1771347866e",
   "metadata": {},
   "outputs": [
    {
     "data": {
      "text/html": [
       "<pre>[[0, 1, 2, 4, 6, 8, 10, 10, 10, ..., 576, 576, 576, 576, 576, 576, 576, 576],\n",
       " [0, 1, 2, 4, 6, 7, 8, 10, 11, ..., 423, 423, 423, 423, 423, 423, 423, 423],\n",
       " [0, 1, 2, 4, 6, 7, 8, 9, 11, ..., 829, 831, 833, 833, 836, 836, 836, 836, 836],\n",
       " [0, 1, 2, 4, 6, 8, 10, 10, 10, 12, ..., 94, 94, 94, 94, 96, 98, 98, 98, 98],\n",
       " [0, 1, 2, 4, 6, 7, 8, 10, 11, ..., 973, 973, 973, 973, 973, 973, 973, 973],\n",
       " [0, 1, 2, 4, 6, 7, 8, 9, 11, 12, ..., 27, 27, 27, 27, 27, 27, 27, 29, 29, 29],\n",
       " [0, 1, 2, 4, 6, 7, 8, 9, 11, ..., 596, 596, 598, 600, 600, 600, 600, 600, 600],\n",
       " [0, 1, 2, 4, 6, 7, 8, 10, ..., 1338, 1338, 1338, 1338, 1338, 1338, 1340, 1340],\n",
       " [0, 1, 2, 4, 6, 7, 8, 9, 11, ..., 322, 322, 322, 322, 322, 322, 322, 322, 322],\n",
       " [0, 1, 2, 4, 6, 7, 8, 10, 11, ..., 469, 469, 469, 469, 469, 469, 469, 469],\n",
       " ...,\n",
       " [0, 1, 2, 4, 6, 7, 8, 9, 11, ..., 697, 697, 699, 701, 701, 701, 701, 701, 701],\n",
       " [0, 1, 2, 4, 6, 7, 8, 10, 11, ..., 768, 768, 768, 768, 768, 768, 768, 768],\n",
       " [0, 1, 2, 4, 6, 7, 8, 10, 11, ..., 482, 482, 484, 484, 484, 484, 484, 484],\n",
       " [0, 1, 2, 4, 6, 8, 10, 10, 10, ..., 630, 630, 630, 630, 630, 630, 630, 630],\n",
       " [0, 1, 2, 4, 6, 7, 8, 9, 11, ..., 210, 210, 210, 211, 211, 211, 213, 213, 213],\n",
       " [0, 1, 2, 4, 6, 7, 8, 10, 11, 13, ..., 19, 22, 22, 22, 22, 22, 22, 22, 22, 22],\n",
       " [0, 1, 2, 4, 6, 7, 8, 10, 11, ..., 439, 439, 441, 441, 441, 441, 441, 441],\n",
       " [0, 1, 2, 4, 6, 8, 10, 10, 10, ..., 146, 146, 146, 146, 146, 146, 146, 146],\n",
       " [0, 1, 2, 4, 6, 7, 8, 10, 11, ..., 240, 240, 240, 240, 240, 240, 240, 240]]\n",
       "--------------------------------------------------------------------------------\n",
       "type: 100 * var * uint32[parameters={&quot;__doc__&quot;: &quot;daughters_begin[Particle_]&quot;}]</pre>"
      ],
      "text/plain": [
       "<Array [[0, 1, 2, 4, ..., 576, 576, 576], ...] type='100 * var * uint32[par...'>"
      ]
     },
     "execution_count": 21,
     "metadata": {},
     "output_type": "execute_result"
    }
   ],
   "source": [
    "events.Particle.daughters.begin"
   ]
  },
  {
   "cell_type": "code",
   "execution_count": 22,
   "id": "ef464ca6-dd50-4be6-8145-13c9521ff3cc",
   "metadata": {},
   "outputs": [
    {
     "data": {
      "text/html": [
       "<pre>[[1, 2, 4, 6, 8, 10, 10, 10, 11, ..., 576, 576, 576, 576, 576, 576, 576, 576],\n",
       " [1, 2, 4, 6, 7, 8, 10, 11, 12, ..., 423, 423, 423, 423, 423, 423, 423, 423],\n",
       " [1, 2, 4, 6, 7, 8, 9, 11, 12, ..., 833, 833, 836, 836, 836, 836, 836, 836],\n",
       " [1, 2, 4, 6, 8, 10, 10, 10, 12, 14, ..., 94, 94, 94, 96, 98, 98, 98, 98, 98],\n",
       " [1, 2, 4, 6, 7, 8, 10, 11, 13, ..., 973, 973, 973, 973, 973, 973, 973, 973],\n",
       " [1, 2, 4, 6, 7, 8, 9, 11, 12, 13, ..., 27, 27, 27, 27, 27, 27, 29, 29, 29, 29],\n",
       " [1, 2, 4, 6, 7, 8, 9, 11, 12, ..., 598, 600, 600, 600, 600, 600, 600, 600],\n",
       " [1, 2, 4, 6, 7, 8, 10, 11, ..., 1338, 1338, 1338, 1338, 1340, 1340, 1340],\n",
       " [1, 2, 4, 6, 7, 8, 9, 11, 12, ..., 322, 322, 322, 322, 322, 322, 322, 322],\n",
       " [1, 2, 4, 6, 7, 8, 10, 11, 13, ..., 469, 469, 469, 469, 469, 469, 469, 469],\n",
       " ...,\n",
       " [1, 2, 4, 6, 7, 8, 9, 11, 12, ..., 699, 701, 701, 701, 701, 701, 701, 701],\n",
       " [1, 2, 4, 6, 7, 8, 10, 11, 12, ..., 768, 768, 768, 768, 768, 768, 768, 768],\n",
       " [1, 2, 4, 6, 7, 8, 10, 11, 13, ..., 482, 484, 484, 484, 484, 484, 484, 484],\n",
       " [1, 2, 4, 6, 8, 10, 10, 10, 12, ..., 630, 630, 630, 630, 630, 630, 630, 630],\n",
       " [1, 2, 4, 6, 7, 8, 9, 11, 13, ..., 210, 211, 211, 211, 213, 213, 213, 213],\n",
       " [1, 2, 4, 6, 7, 8, 10, 11, 13, 15, ..., 22, 22, 22, 22, 22, 22, 22, 22, 22],\n",
       " [1, 2, 4, 6, 7, 8, 10, 11, 13, ..., 439, 441, 441, 441, 441, 441, 441, 441],\n",
       " [1, 2, 4, 6, 8, 10, 10, 10, 12, ..., 146, 146, 146, 146, 146, 146, 146, 146],\n",
       " [1, 2, 4, 6, 7, 8, 10, 11, 13, ..., 240, 240, 240, 240, 240, 240, 240, 240]]\n",
       "--------------------------------------------------------------------------------\n",
       "type: 100 * var * uint32[parameters={&quot;__doc__&quot;: &quot;daughters_end[Particle_]&quot;}]</pre>"
      ],
      "text/plain": [
       "<Array [[1, 2, 4, 6, ..., 576, 576, 576], ...] type='100 * var * uint32[par...'>"
      ]
     },
     "execution_count": 22,
     "metadata": {},
     "output_type": "execute_result"
    }
   ],
   "source": [
    "events.Particle.daughters.end"
   ]
  },
  {
   "cell_type": "code",
   "execution_count": 23,
   "id": "f5ee2841-89e6-4c2e-86d0-b3d9505efe9e",
   "metadata": {},
   "outputs": [
    {
     "data": {
      "text/html": [
       "<pre>[[1, 1, 2, 2, 2, 2, 0, 0, 1, 2, 1, 2, ..., 2, 2, 0, 0, 0, 0, 0, 0, 0, 0, 0, 0],\n",
       " [1, 1, 2, 2, 1, 1, 2, 1, 1, 1, 1, 1, ..., 0, 2, 0, 0, 0, 0, 0, 0, 0, 0, 0, 0],\n",
       " [1, 1, 2, 2, 1, 1, 1, 2, 1, 1, 1, 2, ..., 0, 0, 0, 2, 2, 0, 3, 0, 0, 0, 0, 0],\n",
       " [1, 1, 2, 2, 2, 2, 0, 0, 2, 2, 1, 2, ..., 0, 0, 0, 0, 0, 0, 2, 2, 0, 0, 0, 0],\n",
       " [1, 1, 2, 2, 1, 1, 2, 1, 2, 2, 0, 0, ..., 0, 0, 2, 0, 0, 0, 0, 0, 0, 0, 0, 0],\n",
       " [1, 1, 2, 2, 1, 1, 1, 2, 1, 1, 1, 2, ..., 3, 3, 0, 0, 0, 0, 0, 0, 2, 0, 0, 0],\n",
       " [1, 1, 2, 2, 1, 1, 1, 2, 1, 1, 1, 2, ..., 0, 0, 0, 0, 2, 2, 0, 0, 0, 0, 0, 0],\n",
       " [1, 1, 2, 2, 1, 1, 2, 1, 2, 2, 0, 0, ..., 0, 0, 0, 0, 0, 0, 0, 0, 0, 2, 0, 0],\n",
       " [1, 1, 2, 2, 1, 1, 1, 2, 1, 1, 1, 2, ..., 0, 0, 0, 0, 0, 0, 0, 0, 0, 0, 0, 0],\n",
       " [1, 1, 2, 2, 1, 1, 2, 1, 2, 2, 0, 0, ..., 0, 0, 0, 0, 0, 0, 0, 0, 0, 0, 0, 0],\n",
       " ...,\n",
       " [1, 1, 2, 2, 1, 1, 1, 2, 1, 1, 1, 2, ..., 0, 2, 0, 0, 2, 2, 0, 0, 0, 0, 0, 0],\n",
       " [1, 1, 2, 2, 1, 1, 2, 1, 1, 1, 1, 2, ..., 0, 0, 0, 0, 0, 0, 0, 0, 0, 0, 0, 0],\n",
       " [1, 1, 2, 2, 1, 1, 2, 1, 2, 2, 0, 0, ..., 0, 0, 0, 0, 0, 2, 0, 0, 0, 0, 0, 0],\n",
       " [1, 1, 2, 2, 2, 2, 0, 0, 2, 1, 1, 1, ..., 0, 0, 0, 0, 0, 0, 0, 0, 0, 0, 0, 0],\n",
       " [1, 1, 2, 2, 1, 1, 1, 2, 2, 2, 0, 0, ..., 0, 0, 0, 0, 0, 1, 0, 0, 2, 0, 0, 0],\n",
       " [1, 1, 2, 2, 1, 1, 2, 1, 2, 2, 0, 0, 0, 4, 3, 0, 0, 0, 0, 0, 0, 0, 0, 0],\n",
       " [1, 1, 2, 2, 1, 1, 2, 1, 2, 2, 0, 0, ..., 2, 0, 0, 0, 0, 2, 0, 0, 0, 0, 0, 0],\n",
       " [1, 1, 2, 2, 2, 2, 0, 0, 2, 2, 0, 0, ..., 0, 0, 0, 0, 0, 0, 0, 0, 0, 0, 0, 0],\n",
       " [1, 1, 2, 2, 1, 1, 2, 1, 2, 2, 0, 0, ..., 0, 0, 0, 0, 0, 0, 0, 0, 0, 0, 0, 0]]\n",
       "-------------------------------------------------------------------------------\n",
       "type: 100 * var * uint32</pre>"
      ],
      "text/plain": [
       "<Array [[1, 1, 2, 2, 2, 2, ..., 0, 0, 0, 0, 0], ...] type='100 * var * uint32'>"
      ]
     },
     "execution_count": 23,
     "metadata": {},
     "output_type": "execute_result"
    }
   ],
   "source": [
    "n_daughters = events.Particle.daughters.end - events.Particle.daughters.begin\n",
    "n_daughters"
   ]
  },
  {
   "cell_type": "markdown",
   "id": "ad20149a-a83f-4eaf-80d5-8c99ae5d4532",
   "metadata": {},
   "source": [
    "- As an example, lets find the daughter particles of the first MC particle in the first event"
   ]
  },
  {
   "cell_type": "code",
   "execution_count": 24,
   "id": "7de71d87-c287-478b-81ce-450aba6e7c16",
   "metadata": {},
   "outputs": [
    {
     "data": {
      "text/html": [
       "<pre>[2]\n",
       "-------------------------------------------------------------\n",
       "type: 1 * int32[parameters={&quot;__doc__&quot;: &quot;index[Particle#1_]&quot;}]</pre>"
      ],
      "text/plain": [
       "<Array [2] type='1 * int32[parameters={\"__doc__\": \"index[Particle#1_]\"}]'>"
      ]
     },
     "execution_count": 24,
     "metadata": {},
     "output_type": "execute_result"
    }
   ],
   "source": [
    "indices = list(range(events.Particle.daughters.begin[0,0],events.Particle.daughters.end[0,0]))\n",
    "daughter_indices = events.Particleidx1.index[0][indices]\n",
    "daughter_indices"
   ]
  },
  {
   "cell_type": "markdown",
   "id": "d9bdd667-4c03-447c-a281-c1a7d57e13f4",
   "metadata": {},
   "source": [
    "- [2] is one membered and means that the First MC Particle in the first event has only one daughter and that daughter is present in the 2nd index of the `Particle` collection\n",
    "- To get the actual daughter MC particle:"
   ]
  },
  {
   "cell_type": "code",
   "execution_count": 25,
   "id": "69dc8444-d739-417f-90de-79c7c0a45789",
   "metadata": {},
   "outputs": [
    {
     "data": {
      "text/html": [
       "<pre>[{PDG: 11, charge: -1, colorFlow: {a: 0, b: 0}, daughters: {...}, ...}]\n",
       "---------------------------------------------------------------------------------\n",
       "type: 1 * MCTruthParticle[\n",
       "    PDG: int32[parameters={&quot;__doc__&quot;: &quot;PDG[Particle_]&quot;}],\n",
       "    charge: float32[parameters={&quot;__doc__&quot;: &quot;charge[Particle_]&quot;}],\n",
       "    colorFlow: {\n",
       "        a: int32[parameters={&quot;__doc__&quot;: &quot;a[Particle_]&quot;}],\n",
       "        b: int32[parameters={&quot;__doc__&quot;: &quot;b[Particle_]&quot;}]\n",
       "    },\n",
       "    daughters: {\n",
       "        begin: uint32[parameters={&quot;__doc__&quot;: &quot;daughters_begin[Particle_]&quot;}],\n",
       "        end: uint32[parameters={&quot;__doc__&quot;: &quot;daughters_end[Particle_]&quot;}]\n",
       "    },\n",
       "    endpoint: ThreeVector[\n",
       "        x: float64[parameters={&quot;__doc__&quot;: &quot;x[Particle_]&quot;}],\n",
       "        y: float64[parameters={&quot;__doc__&quot;: &quot;y[Particle_]&quot;}],\n",
       "        z: float64[parameters={&quot;__doc__&quot;: &quot;z[Particle_]&quot;}]\n",
       "    ],\n",
       "    generatorStatus: int32[parameters={&quot;__doc__&quot;: &quot;generatorStatus[Particle_]&quot;}],\n",
       "    mass: float64[parameters={&quot;__doc__&quot;: &quot;mass[Particle_]&quot;}],\n",
       "    momentumAtEndpoint: ThreeVector[\n",
       "        x: float32[parameters={&quot;__doc__&quot;: &quot;x[Particle_]&quot;}],\n",
       "        y: float32[parameters={&quot;__doc__&quot;: &quot;y[Particle_]&quot;}],\n",
       "        z: float32[parameters={&quot;__doc__&quot;: &quot;z[Particle_]&quot;}]\n",
       "    ],\n",
       "    parents: {\n",
       "        begin: uint32[parameters={&quot;__doc__&quot;: &quot;parents_begin[Particle_]&quot;}],\n",
       "        end: uint32[parameters={&quot;__doc__&quot;: &quot;parents_end[Particle_]&quot;}]\n",
       "    },\n",
       "    px: float32[parameters={&quot;__doc__&quot;: &quot;x[Particle_]&quot;}],\n",
       "    py: float32[parameters={&quot;__doc__&quot;: &quot;y[Particle_]&quot;}],\n",
       "    pz: float32[parameters={&quot;__doc__&quot;: &quot;z[Particle_]&quot;}],\n",
       "    simulatorStatus: int32[parameters={&quot;__doc__&quot;: &quot;simulatorStatus[Particle_]&quot;}],\n",
       "    spin: ThreeVector[\n",
       "        x: float32[parameters={&quot;__doc__&quot;: &quot;x[Particle_]&quot;}],\n",
       "        y: float32[parameters={&quot;__doc__&quot;: &quot;y[Particle_]&quot;}],\n",
       "        z: float32[parameters={&quot;__doc__&quot;: &quot;z[Particle_]&quot;}]\n",
       "    ],\n",
       "    time: float32[parameters={&quot;__doc__&quot;: &quot;time[Particle_]&quot;}],\n",
       "    vertex: ThreeVector[\n",
       "        x: float64[parameters={&quot;__doc__&quot;: &quot;x[Particle_]&quot;}],\n",
       "        y: float64[parameters={&quot;__doc__&quot;: &quot;y[Particle_]&quot;}],\n",
       "        z: float64[parameters={&quot;__doc__&quot;: &quot;z[Particle_]&quot;}]\n",
       "    ], \n",
       "parameters={&quot;collection_name&quot;: &quot;Particle&quot;}]</pre>"
      ],
      "text/plain": [
       "<MCTruthParticleArray [{PDG: 11, charge: -1, ...}] type='1 * MCTruthParticl...'>"
      ]
     },
     "execution_count": 25,
     "metadata": {},
     "output_type": "execute_result"
    }
   ],
   "source": [
    "events.Particle[0][daughter_indices]"
   ]
  },
  {
   "cell_type": "markdown",
   "id": "4728585f-f24c-4a54-a112-43a0462dc643",
   "metadata": {},
   "source": [
    "- We have to do this whole process for each particle in each event for all the events!\n",
    "- I could not use numba just-in-time compilation because its too complex to build and the numba function may not work in delayed mode"
   ]
  },
  {
   "cell_type": "markdown",
   "id": "c90e639b-93c1-415f-9716-0d4a568a9728",
   "metadata": {},
   "source": [
    "- What I aim to get is an array which is doubly nested, that contains all the daughters corresponding to all the particles\n",
    "- It might look something like this:\n",
    "---\n",
    "```\n",
    "[ [ [daughter_0, daughter_1, ..., daughter_n], [daughter_0, daughter_1, ..., daughter_m], ... [] ],\n",
    "  [ [daughter_0, daughter_1, ..., daughter_o], [daughter_0, daughter_1, ..., daughter_p], ... [] ],\n",
    "  [ [daughter_0, daughter_1, ..., daughter_q], [daughter_0, daughter_1, ..., daughter_r], ... [] ],\n",
    "  .\n",
    "  .\n",
    "  . \n",
    "  [ ]\n",
    "]\n",
    "type: 100 * var * var * MCTruthParticle[...]\n",
    "```\n",
    "---"
   ]
  },
  {
   "cell_type": "markdown",
   "id": "923c114e-6e1f-4a7a-a589-2c79af127c1d",
   "metadata": {},
   "source": [
    "- So far, I could not come up with a way to achieve this result with a reasonable time complexity.\n",
    "- I would like to hear suggestions on how to do this. "
   ]
  }
 ],
 "metadata": {
  "kernelspec": {
   "display_name": "fcc-dev",
   "language": "python",
   "name": "fcc-dev"
  },
  "language_info": {
   "codemirror_mode": {
    "name": "ipython",
    "version": 3
   },
   "file_extension": ".py",
   "mimetype": "text/x-python",
   "name": "python",
   "nbconvert_exporter": "python",
   "pygments_lexer": "ipython3",
   "version": "3.12.4"
  }
 },
 "nbformat": 4,
 "nbformat_minor": 5
}
