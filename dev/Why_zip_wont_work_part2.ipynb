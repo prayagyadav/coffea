{
 "cells": [
  {
   "cell_type": "code",
   "execution_count": 56,
   "id": "221a77ba-fa27-42ae-98f8-23ac1e81f31a",
   "metadata": {},
   "outputs": [
    {
     "name": "stdout",
     "output_type": "stream",
     "text": [
      "_______________________________________\n",
      "\tCurrent Configuration\n",
      "---------------------------------------\n",
      "Coffea Version:  0.1.dev3583+ge06c4b8\n",
      "Branch: \t master\n",
      "Modified by: \t Prayag Yadav\n",
      "_______________________________________\n"
     ]
    }
   ],
   "source": [
    "import coffea\n",
    "from git import Repo\n",
    "import awkward as ak\n",
    "import dask_awkward as dak\n",
    "mod = \"Prayag Yadav\"\n",
    "local_repo = Repo(path='coffea')\n",
    "local_branch = local_repo.active_branch.name\n",
    "print(\"_______________________________________\")\n",
    "print(\"\\tCurrent Configuration\")\n",
    "print(\"---------------------------------------\")\n",
    "print(\"Coffea Version: \", coffea.__version__)\n",
    "print(\"Branch: \\t\", local_branch)\n",
    "print(\"Modified by: \\t\", mod)\n",
    "print(\"_______________________________________\")"
   ]
  },
  {
   "cell_type": "markdown",
   "id": "e764463a-fcf2-4220-943f-5f6a121eb573",
   "metadata": {},
   "source": [
    "## The real problem: Branches with mismatching offsets can't be zipped together"
   ]
  },
  {
   "cell_type": "code",
   "execution_count": 57,
   "id": "ee327771-cbcb-46c1-b15f-e93277e3e071",
   "metadata": {},
   "outputs": [],
   "source": [
    "from coffea.nanoevents import NanoEventsFactory, BaseSchema\n",
    "test_file = 'root://eospublic.cern.ch//eos/experiment/fcc/ee/generation/DelphesEvents/spring2021/IDEA/p8_ee_ZH_ecm240/events_101027117.root'\n",
    "events = NanoEventsFactory.from_root(\n",
    "    test_file+\":events\",\n",
    "    entry_stop=100,\n",
    "    schemaclass = BaseSchema,\n",
    "    delayed = True\n",
    ").events()"
   ]
  },
  {
   "cell_type": "code",
   "execution_count": 58,
   "id": "b2c12e76-7e72-44d5-9fda-1cf54fb1678e",
   "metadata": {
    "scrolled": true
   },
   "outputs": [
    {
     "data": {
      "text/plain": [
       "['Electron',\n",
       " 'Electron#0',\n",
       " 'Electron#0/Electron#0.index',\n",
       " 'Electron#0/Electron#0.collectionID',\n",
       " 'Muon',\n",
       " 'Muon#0',\n",
       " 'Muon#0/Muon#0.index',\n",
       " 'Muon#0/Muon#0.collectionID',\n",
       " 'AllMuon',\n",
       " 'AllMuon#0',\n",
       " 'AllMuon#0/AllMuon#0.index',\n",
       " 'AllMuon#0/AllMuon#0.collectionID',\n",
       " 'EFlowNeutralHadron',\n",
       " 'EFlowNeutralHadron/EFlowNeutralHadron.type',\n",
       " 'EFlowNeutralHadron/EFlowNeutralHadron.energy',\n",
       " 'EFlowNeutralHadron/EFlowNeutralHadron.energyError',\n",
       " 'EFlowNeutralHadron/EFlowNeutralHadron.position.x',\n",
       " 'EFlowNeutralHadron/EFlowNeutralHadron.position.y',\n",
       " 'EFlowNeutralHadron/EFlowNeutralHadron.position.z',\n",
       " 'EFlowNeutralHadron/EFlowNeutralHadron.positionError[6]',\n",
       " 'EFlowNeutralHadron/EFlowNeutralHadron.iTheta',\n",
       " 'EFlowNeutralHadron/EFlowNeutralHadron.phi',\n",
       " 'EFlowNeutralHadron/EFlowNeutralHadron.directionError.x',\n",
       " 'EFlowNeutralHadron/EFlowNeutralHadron.directionError.y',\n",
       " 'EFlowNeutralHadron/EFlowNeutralHadron.directionError.z',\n",
       " 'EFlowNeutralHadron/EFlowNeutralHadron.shapeParameters_begin',\n",
       " 'EFlowNeutralHadron/EFlowNeutralHadron.shapeParameters_end',\n",
       " 'EFlowNeutralHadron/EFlowNeutralHadron.hitContributions_begin',\n",
       " 'EFlowNeutralHadron/EFlowNeutralHadron.hitContributions_end',\n",
       " 'EFlowNeutralHadron/EFlowNeutralHadron.subdetectorEnergies_begin',\n",
       " 'EFlowNeutralHadron/EFlowNeutralHadron.subdetectorEnergies_end',\n",
       " 'EFlowNeutralHadron/EFlowNeutralHadron.clusters_begin',\n",
       " 'EFlowNeutralHadron/EFlowNeutralHadron.clusters_end',\n",
       " 'EFlowNeutralHadron/EFlowNeutralHadron.hits_begin',\n",
       " 'EFlowNeutralHadron/EFlowNeutralHadron.hits_end',\n",
       " 'EFlowNeutralHadron/EFlowNeutralHadron.particleIDs_begin',\n",
       " 'EFlowNeutralHadron/EFlowNeutralHadron.particleIDs_end',\n",
       " 'EFlowNeutralHadron#0',\n",
       " 'EFlowNeutralHadron#0/EFlowNeutralHadron#0.index',\n",
       " 'EFlowNeutralHadron#0/EFlowNeutralHadron#0.collectionID',\n",
       " 'EFlowNeutralHadron#1',\n",
       " 'EFlowNeutralHadron#1/EFlowNeutralHadron#1.index',\n",
       " 'EFlowNeutralHadron#1/EFlowNeutralHadron#1.collectionID',\n",
       " 'EFlowNeutralHadron#2',\n",
       " 'EFlowNeutralHadron#2/EFlowNeutralHadron#2.index',\n",
       " 'EFlowNeutralHadron#2/EFlowNeutralHadron#2.collectionID',\n",
       " 'EFlowNeutralHadron_0',\n",
       " 'EFlowNeutralHadron_1',\n",
       " 'EFlowNeutralHadron_2',\n",
       " 'Particle',\n",
       " 'Particle/Particle.PDG',\n",
       " 'Particle/Particle.generatorStatus',\n",
       " 'Particle/Particle.simulatorStatus',\n",
       " 'Particle/Particle.charge',\n",
       " 'Particle/Particle.time',\n",
       " 'Particle/Particle.mass',\n",
       " 'Particle/Particle.vertex.x',\n",
       " 'Particle/Particle.vertex.y',\n",
       " 'Particle/Particle.vertex.z',\n",
       " 'Particle/Particle.endpoint.x',\n",
       " 'Particle/Particle.endpoint.y',\n",
       " 'Particle/Particle.endpoint.z',\n",
       " 'Particle/Particle.momentum.x',\n",
       " 'Particle/Particle.momentum.y',\n",
       " 'Particle/Particle.momentum.z',\n",
       " 'Particle/Particle.momentumAtEndpoint.x',\n",
       " 'Particle/Particle.momentumAtEndpoint.y',\n",
       " 'Particle/Particle.momentumAtEndpoint.z',\n",
       " 'Particle/Particle.spin.x',\n",
       " 'Particle/Particle.spin.y',\n",
       " 'Particle/Particle.spin.z',\n",
       " 'Particle/Particle.colorFlow.a',\n",
       " 'Particle/Particle.colorFlow.b',\n",
       " 'Particle/Particle.parents_begin',\n",
       " 'Particle/Particle.parents_end',\n",
       " 'Particle/Particle.daughters_begin',\n",
       " 'Particle/Particle.daughters_end',\n",
       " 'Particle#0',\n",
       " 'Particle#0/Particle#0.index',\n",
       " 'Particle#0/Particle#0.collectionID',\n",
       " 'Particle#1',\n",
       " 'Particle#1/Particle#1.index',\n",
       " 'Particle#1/Particle#1.collectionID',\n",
       " 'Photon',\n",
       " 'Photon#0',\n",
       " 'Photon#0/Photon#0.index',\n",
       " 'Photon#0/Photon#0.collectionID',\n",
       " 'ReconstructedParticles',\n",
       " 'ReconstructedParticles/ReconstructedParticles.type',\n",
       " 'ReconstructedParticles/ReconstructedParticles.energy',\n",
       " 'ReconstructedParticles/ReconstructedParticles.momentum.x',\n",
       " 'ReconstructedParticles/ReconstructedParticles.momentum.y',\n",
       " 'ReconstructedParticles/ReconstructedParticles.momentum.z',\n",
       " 'ReconstructedParticles/ReconstructedParticles.referencePoint.x',\n",
       " 'ReconstructedParticles/ReconstructedParticles.referencePoint.y',\n",
       " 'ReconstructedParticles/ReconstructedParticles.referencePoint.z',\n",
       " 'ReconstructedParticles/ReconstructedParticles.charge',\n",
       " 'ReconstructedParticles/ReconstructedParticles.mass',\n",
       " 'ReconstructedParticles/ReconstructedParticles.goodnessOfPID',\n",
       " 'ReconstructedParticles/ReconstructedParticles.covMatrix[10]',\n",
       " 'ReconstructedParticles/ReconstructedParticles.clusters_begin',\n",
       " 'ReconstructedParticles/ReconstructedParticles.clusters_end',\n",
       " 'ReconstructedParticles/ReconstructedParticles.tracks_begin',\n",
       " 'ReconstructedParticles/ReconstructedParticles.tracks_end',\n",
       " 'ReconstructedParticles/ReconstructedParticles.particles_begin',\n",
       " 'ReconstructedParticles/ReconstructedParticles.particles_end',\n",
       " 'ReconstructedParticles/ReconstructedParticles.particleIDs_begin',\n",
       " 'ReconstructedParticles/ReconstructedParticles.particleIDs_end',\n",
       " 'ReconstructedParticles#0',\n",
       " 'ReconstructedParticles#0/ReconstructedParticles#0.index',\n",
       " 'ReconstructedParticles#0/ReconstructedParticles#0.collectionID',\n",
       " 'ReconstructedParticles#1',\n",
       " 'ReconstructedParticles#1/ReconstructedParticles#1.index',\n",
       " 'ReconstructedParticles#1/ReconstructedParticles#1.collectionID',\n",
       " 'ReconstructedParticles#2',\n",
       " 'ReconstructedParticles#2/ReconstructedParticles#2.index',\n",
       " 'ReconstructedParticles#2/ReconstructedParticles#2.collectionID',\n",
       " 'ReconstructedParticles#3',\n",
       " 'ReconstructedParticles#3/ReconstructedParticles#3.index',\n",
       " 'ReconstructedParticles#3/ReconstructedParticles#3.collectionID',\n",
       " 'ReconstructedParticles#4',\n",
       " 'ReconstructedParticles#4/ReconstructedParticles#4.index',\n",
       " 'ReconstructedParticles#4/ReconstructedParticles#4.collectionID',\n",
       " 'ReconstructedParticles#5',\n",
       " 'ReconstructedParticles#5/ReconstructedParticles#5.index',\n",
       " 'ReconstructedParticles#5/ReconstructedParticles#5.collectionID',\n",
       " 'EFlowPhoton',\n",
       " 'EFlowPhoton/EFlowPhoton.type',\n",
       " 'EFlowPhoton/EFlowPhoton.energy',\n",
       " 'EFlowPhoton/EFlowPhoton.energyError',\n",
       " 'EFlowPhoton/EFlowPhoton.position.x',\n",
       " 'EFlowPhoton/EFlowPhoton.position.y',\n",
       " 'EFlowPhoton/EFlowPhoton.position.z',\n",
       " 'EFlowPhoton/EFlowPhoton.positionError[6]',\n",
       " 'EFlowPhoton/EFlowPhoton.iTheta',\n",
       " 'EFlowPhoton/EFlowPhoton.phi',\n",
       " 'EFlowPhoton/EFlowPhoton.directionError.x',\n",
       " 'EFlowPhoton/EFlowPhoton.directionError.y',\n",
       " 'EFlowPhoton/EFlowPhoton.directionError.z',\n",
       " 'EFlowPhoton/EFlowPhoton.shapeParameters_begin',\n",
       " 'EFlowPhoton/EFlowPhoton.shapeParameters_end',\n",
       " 'EFlowPhoton/EFlowPhoton.hitContributions_begin',\n",
       " 'EFlowPhoton/EFlowPhoton.hitContributions_end',\n",
       " 'EFlowPhoton/EFlowPhoton.subdetectorEnergies_begin',\n",
       " 'EFlowPhoton/EFlowPhoton.subdetectorEnergies_end',\n",
       " 'EFlowPhoton/EFlowPhoton.clusters_begin',\n",
       " 'EFlowPhoton/EFlowPhoton.clusters_end',\n",
       " 'EFlowPhoton/EFlowPhoton.hits_begin',\n",
       " 'EFlowPhoton/EFlowPhoton.hits_end',\n",
       " 'EFlowPhoton/EFlowPhoton.particleIDs_begin',\n",
       " 'EFlowPhoton/EFlowPhoton.particleIDs_end',\n",
       " 'EFlowPhoton#0',\n",
       " 'EFlowPhoton#0/EFlowPhoton#0.index',\n",
       " 'EFlowPhoton#0/EFlowPhoton#0.collectionID',\n",
       " 'EFlowPhoton#1',\n",
       " 'EFlowPhoton#1/EFlowPhoton#1.index',\n",
       " 'EFlowPhoton#1/EFlowPhoton#1.collectionID',\n",
       " 'EFlowPhoton#2',\n",
       " 'EFlowPhoton#2/EFlowPhoton#2.index',\n",
       " 'EFlowPhoton#2/EFlowPhoton#2.collectionID',\n",
       " 'EFlowPhoton_0',\n",
       " 'EFlowPhoton_1',\n",
       " 'EFlowPhoton_2',\n",
       " 'MCRecoAssociations',\n",
       " 'MCRecoAssociations/MCRecoAssociations.weight',\n",
       " 'MCRecoAssociations#0',\n",
       " 'MCRecoAssociations#0/MCRecoAssociations#0.index',\n",
       " 'MCRecoAssociations#0/MCRecoAssociations#0.collectionID',\n",
       " 'MCRecoAssociations#1',\n",
       " 'MCRecoAssociations#1/MCRecoAssociations#1.index',\n",
       " 'MCRecoAssociations#1/MCRecoAssociations#1.collectionID',\n",
       " 'MissingET',\n",
       " 'MissingET/MissingET.type',\n",
       " 'MissingET/MissingET.energy',\n",
       " 'MissingET/MissingET.momentum.x',\n",
       " 'MissingET/MissingET.momentum.y',\n",
       " 'MissingET/MissingET.momentum.z',\n",
       " 'MissingET/MissingET.referencePoint.x',\n",
       " 'MissingET/MissingET.referencePoint.y',\n",
       " 'MissingET/MissingET.referencePoint.z',\n",
       " 'MissingET/MissingET.charge',\n",
       " 'MissingET/MissingET.mass',\n",
       " 'MissingET/MissingET.goodnessOfPID',\n",
       " 'MissingET/MissingET.covMatrix[10]',\n",
       " 'MissingET/MissingET.clusters_begin',\n",
       " 'MissingET/MissingET.clusters_end',\n",
       " 'MissingET/MissingET.tracks_begin',\n",
       " 'MissingET/MissingET.tracks_end',\n",
       " 'MissingET/MissingET.particles_begin',\n",
       " 'MissingET/MissingET.particles_end',\n",
       " 'MissingET/MissingET.particleIDs_begin',\n",
       " 'MissingET/MissingET.particleIDs_end',\n",
       " 'MissingET#0',\n",
       " 'MissingET#0/MissingET#0.index',\n",
       " 'MissingET#0/MissingET#0.collectionID',\n",
       " 'MissingET#1',\n",
       " 'MissingET#1/MissingET#1.index',\n",
       " 'MissingET#1/MissingET#1.collectionID',\n",
       " 'MissingET#2',\n",
       " 'MissingET#2/MissingET#2.index',\n",
       " 'MissingET#2/MissingET#2.collectionID',\n",
       " 'MissingET#3',\n",
       " 'MissingET#3/MissingET#3.index',\n",
       " 'MissingET#3/MissingET#3.collectionID',\n",
       " 'MissingET#4',\n",
       " 'MissingET#4/MissingET#4.index',\n",
       " 'MissingET#4/MissingET#4.collectionID',\n",
       " 'MissingET#5',\n",
       " 'MissingET#5/MissingET#5.index',\n",
       " 'MissingET#5/MissingET#5.collectionID',\n",
       " 'ParticleIDs',\n",
       " 'ParticleIDs/ParticleIDs.type',\n",
       " 'ParticleIDs/ParticleIDs.PDG',\n",
       " 'ParticleIDs/ParticleIDs.algorithmType',\n",
       " 'ParticleIDs/ParticleIDs.likelihood',\n",
       " 'ParticleIDs/ParticleIDs.parameters_begin',\n",
       " 'ParticleIDs/ParticleIDs.parameters_end',\n",
       " 'ParticleIDs_0',\n",
       " 'Jet',\n",
       " 'Jet/Jet.type',\n",
       " 'Jet/Jet.energy',\n",
       " 'Jet/Jet.momentum.x',\n",
       " 'Jet/Jet.momentum.y',\n",
       " 'Jet/Jet.momentum.z',\n",
       " 'Jet/Jet.referencePoint.x',\n",
       " 'Jet/Jet.referencePoint.y',\n",
       " 'Jet/Jet.referencePoint.z',\n",
       " 'Jet/Jet.charge',\n",
       " 'Jet/Jet.mass',\n",
       " 'Jet/Jet.goodnessOfPID',\n",
       " 'Jet/Jet.covMatrix[10]',\n",
       " 'Jet/Jet.clusters_begin',\n",
       " 'Jet/Jet.clusters_end',\n",
       " 'Jet/Jet.tracks_begin',\n",
       " 'Jet/Jet.tracks_end',\n",
       " 'Jet/Jet.particles_begin',\n",
       " 'Jet/Jet.particles_end',\n",
       " 'Jet/Jet.particleIDs_begin',\n",
       " 'Jet/Jet.particleIDs_end',\n",
       " 'Jet#0',\n",
       " 'Jet#0/Jet#0.index',\n",
       " 'Jet#0/Jet#0.collectionID',\n",
       " 'Jet#1',\n",
       " 'Jet#1/Jet#1.index',\n",
       " 'Jet#1/Jet#1.collectionID',\n",
       " 'Jet#2',\n",
       " 'Jet#2/Jet#2.index',\n",
       " 'Jet#2/Jet#2.collectionID',\n",
       " 'Jet#3',\n",
       " 'Jet#3/Jet#3.index',\n",
       " 'Jet#3/Jet#3.collectionID',\n",
       " 'Jet#4',\n",
       " 'Jet#4/Jet#4.index',\n",
       " 'Jet#4/Jet#4.collectionID',\n",
       " 'Jet#5',\n",
       " 'Jet#5/Jet#5.index',\n",
       " 'Jet#5/Jet#5.collectionID',\n",
       " 'EFlowTrack',\n",
       " 'EFlowTrack/EFlowTrack.type',\n",
       " 'EFlowTrack/EFlowTrack.chi2',\n",
       " 'EFlowTrack/EFlowTrack.ndf',\n",
       " 'EFlowTrack/EFlowTrack.dEdx',\n",
       " 'EFlowTrack/EFlowTrack.dEdxError',\n",
       " 'EFlowTrack/EFlowTrack.radiusOfInnermostHit',\n",
       " 'EFlowTrack/EFlowTrack.subDetectorHitNumbers_begin',\n",
       " 'EFlowTrack/EFlowTrack.subDetectorHitNumbers_end',\n",
       " 'EFlowTrack/EFlowTrack.trackStates_begin',\n",
       " 'EFlowTrack/EFlowTrack.trackStates_end',\n",
       " 'EFlowTrack/EFlowTrack.trackerHits_begin',\n",
       " 'EFlowTrack/EFlowTrack.trackerHits_end',\n",
       " 'EFlowTrack/EFlowTrack.tracks_begin',\n",
       " 'EFlowTrack/EFlowTrack.tracks_end',\n",
       " 'EFlowTrack#0',\n",
       " 'EFlowTrack#0/EFlowTrack#0.index',\n",
       " 'EFlowTrack#0/EFlowTrack#0.collectionID',\n",
       " 'EFlowTrack#1',\n",
       " 'EFlowTrack#1/EFlowTrack#1.index',\n",
       " 'EFlowTrack#1/EFlowTrack#1.collectionID',\n",
       " 'EFlowTrack_0',\n",
       " 'EFlowTrack_1',\n",
       " 'EFlowTrack_1/EFlowTrack_1.location',\n",
       " 'EFlowTrack_1/EFlowTrack_1.D0',\n",
       " 'EFlowTrack_1/EFlowTrack_1.phi',\n",
       " 'EFlowTrack_1/EFlowTrack_1.omega',\n",
       " 'EFlowTrack_1/EFlowTrack_1.Z0',\n",
       " 'EFlowTrack_1/EFlowTrack_1.tanLambda',\n",
       " 'EFlowTrack_1/EFlowTrack_1.referencePoint.x',\n",
       " 'EFlowTrack_1/EFlowTrack_1.referencePoint.y',\n",
       " 'EFlowTrack_1/EFlowTrack_1.referencePoint.z',\n",
       " 'EFlowTrack_1/EFlowTrack_1.covMatrix[15]']"
      ]
     },
     "execution_count": 58,
     "metadata": {},
     "output_type": "execute_result"
    }
   ],
   "source": [
    "events.fields"
   ]
  },
  {
   "cell_type": "markdown",
   "id": "93eafd5c-f74c-4491-ae5d-ef1cb28eb3a4",
   "metadata": {},
   "source": [
    "### Some of the indexed branches are empty with [0,0,0,0,0...] as the offset and some have different offsets"
   ]
  },
  {
   "cell_type": "markdown",
   "id": "a113869b-97db-4fd2-9149-397e2978bcbd",
   "metadata": {},
   "source": [
    "#### Branches"
   ]
  },
  {
   "cell_type": "code",
   "execution_count": 59,
   "id": "8da5ab03-2595-4969-aef7-71b5e192b547",
   "metadata": {},
   "outputs": [
    {
     "name": "stdout",
     "output_type": "stream",
     "text": [
      "r0 is  [[0, 1, 2, 3, 4, 5, 6, 7, 8, 9, ..., 14, 15, 16, 17, 18, 19, 20, 21, 22], ...]\n"
     ]
    }
   ],
   "source": [
    "r0 = events['ReconstructedParticles#0/ReconstructedParticles#0.index'].compute()\n",
    "r1 = events['ReconstructedParticles#1/ReconstructedParticles#1.index'].compute()\n",
    "r2 = events['ReconstructedParticles#2/ReconstructedParticles#2.index'].compute()\n",
    "r3 = events['ReconstructedParticles#3/ReconstructedParticles#3.index'].compute()\n",
    "r4 = events['ReconstructedParticles#4/ReconstructedParticles#4.index'].compute()\n",
    "r5 = events['ReconstructedParticles#5/ReconstructedParticles#5.index'].compute()\n",
    "print('r0 is ', r0)"
   ]
  },
  {
   "cell_type": "markdown",
   "id": "d710266a-212f-487c-9aa7-b75cbd860d15",
   "metadata": {},
   "source": [
    "#### Offsets of the branches"
   ]
  },
  {
   "cell_type": "code",
   "execution_count": 60,
   "id": "383bc70c-1928-44d8-88ba-fc5a37236c0a",
   "metadata": {},
   "outputs": [
    {
     "name": "stdout",
     "output_type": "stream",
     "text": [
      "r0 offset: [      0      23      51 ... 2739402 2739425 2739462]\n",
      "r1 offset: [      0      37      85 ... 3318360 3318378 3318424]\n",
      "r2 offset: [0 0 0 ... 0 0 0]\n",
      "r3 offset: [      0      37      85 ... 3318360 3318378 3318424]\n",
      "r4 offset: [      0      60     136 ... 6057762 6057803 6057886]\n",
      "r5 offset: [      0      60     136 ... 6057762 6057803 6057886]\n"
     ]
    }
   ],
   "source": [
    "i = 0\n",
    "for r in [r0,r1,r2,r3,r4,r5]:\n",
    "    classform, length, data = ak.to_buffers(r)\n",
    "    print(f\"r{i} offset: {data['node0-offsets']}\")\n",
    "    i += 1"
   ]
  },
  {
   "cell_type": "markdown",
   "id": "ef4f9d67-7b3d-4b9b-b9c3-156aad39835b",
   "metadata": {},
   "source": [
    "#### Here (r1 and r3) and (r4 and r5) have same offsets, therefore they can be zipped together: "
   ]
  },
  {
   "cell_type": "code",
   "execution_count": 61,
   "id": "a6faae96-1d49-47ac-8b5b-b7f83f2cf56a",
   "metadata": {
    "scrolled": true
   },
   "outputs": [
    {
     "data": {
      "text/html": [
       "<pre>[[{r0: 0, r2: 0}, {r0: 1, r2: 1}, {...}, ..., {r0: 35, ...}, {r0: 36, r2: 36}],\n",
       " [{r0: 0, r2: 0}, {r0: 1, r2: 1}, {...}, ..., {r0: 46, ...}, {r0: 47, r2: 47}],\n",
       " [{r0: 0, r2: 0}, {r0: 1, r2: 1}, {...}, ..., {r0: 35, ...}, {r0: 36, r2: 36}],\n",
       " [{r0: 0, r2: 0}, {r0: 1, r2: 1}, {...}, ..., {r0: 44, ...}, {r0: 45, r2: 45}],\n",
       " [{r0: 0, r2: 0}, {r0: 1, r2: 1}, {...}, ..., {r0: 21, ...}, {r0: 22, r2: 22}],\n",
       " [{r0: 0, r2: 0}, {r0: 1, r2: 1}, {...}, ..., {r0: 32, ...}, {r0: 33, r2: 33}],\n",
       " [{r0: 0, r2: 0}, {r0: 1, r2: 1}, {...}, ..., {r0: 28, ...}, {r0: 29, r2: 29}],\n",
       " [{r0: 0, r2: 0}, {r0: 1, r2: 1}, {...}, ..., {r0: 53, ...}, {r0: 54, r2: 54}],\n",
       " [{r0: 0, r2: 0}, {r0: 1, r2: 1}, {...}, ..., {r0: 25, ...}, {r0: 26, r2: 26}],\n",
       " [{r0: 0, r2: 0}, {r0: 1, r2: 1}, {...}, ..., {r0: 27, ...}, {r0: 28, r2: 28}],\n",
       " ...,\n",
       " [{r0: 0, r2: 0}, {r0: 1, r2: 1}, {...}, ..., {r0: 35, ...}, {r0: 36, r2: 36}],\n",
       " [{r0: 0, r2: 0}, {r0: 1, r2: 1}, {...}, ..., {r0: 40, ...}, {r0: 41, r2: 41}],\n",
       " [{r0: 0, r2: 0}, {r0: 1, r2: 1}, {...}, ..., {r0: 53, ...}, {r0: 54, r2: 54}],\n",
       " [{r0: 0, r2: 0}, {r0: 1, r2: 1}, {...}, ..., {r0: 39, ...}, {r0: 40, r2: 40}],\n",
       " [{r0: 0, r2: 0}, {r0: 1, r2: 1}, {...}, ..., {r0: 47, ...}, {r0: 48, r2: 48}],\n",
       " [{r0: 0, r2: 0}, {r0: 1, r2: 1}, {...}, ..., {r0: 34, ...}, {r0: 35, r2: 35}],\n",
       " [{r0: 0, r2: 0}, {r0: 1, r2: 1}, {...}, ..., {r0: 13, ...}, {r0: 14, r2: 14}],\n",
       " [{r0: 0, r2: 0}, {r0: 1, r2: 1}, {...}, ..., {r0: 16, ...}, {r0: 17, r2: 17}],\n",
       " [{r0: 0, r2: 0}, {r0: 1, r2: 1}, {...}, ..., {r0: 44, ...}, {r0: 45, r2: 45}]]\n",
       "-------------------------------------------------------------------------------\n",
       "type: 100000 * var * test[\n",
       "    r0: int32[parameters={&quot;__doc__&quot;: &quot;index[ReconstructedParticles#1_]&quot;}],\n",
       "    r2: int32[parameters={&quot;__doc__&quot;: &quot;index[ReconstructedParticles#3_]&quot;}]\n",
       "]</pre>"
      ],
      "text/plain": [
       "<Array [[{r0: 0, r2: 0}, ..., {...}], ...] type='100000 * var * test[r0: in...'>"
      ]
     },
     "execution_count": 61,
     "metadata": {},
     "output_type": "execute_result"
    }
   ],
   "source": [
    "ak.zip(\n",
    "    {'r0':r1,'r2':r3},\n",
    "    with_name='test'\n",
    ")"
   ]
  },
  {
   "cell_type": "code",
   "execution_count": 62,
   "id": "dc7b68a9-b51a-4ef3-ae37-bcc9f6e83a4c",
   "metadata": {
    "scrolled": true
   },
   "outputs": [
    {
     "data": {
      "text/html": [
       "<pre>[[{r4: -2, r5: -2}, {r4: -2, r5: -2}, ..., {r4: -2, ...}, {r4: -2, r5: -2}],\n",
       " [{r4: -2, r5: -2}, {r4: -2, r5: -2}, ..., {r4: -2, ...}, {r4: -2, r5: -2}],\n",
       " [{r4: -2, r5: -2}, {r4: -2, r5: -2}, ..., {r4: -2, ...}, {r4: -2, r5: -2}],\n",
       " [{r4: -2, r5: -2}, {r4: -2, r5: -2}, ..., {r4: -2, ...}, {r4: -2, r5: -2}],\n",
       " [{r4: -2, r5: -2}, {r4: -2, r5: -2}, ..., {r4: -2, ...}, {r4: -2, r5: -2}],\n",
       " [{r4: -2, r5: -2}, {r4: -2, r5: -2}, ..., {r4: -2, ...}, {r4: -2, r5: -2}],\n",
       " [{r4: -2, r5: -2}, {r4: -2, r5: -2}, ..., {r4: -2, ...}, {r4: -2, r5: -2}],\n",
       " [{r4: -2, r5: -2}, {r4: -2, r5: -2}, ..., {r4: -2, ...}, {r4: -2, r5: -2}],\n",
       " [{r4: -2, r5: -2}, {r4: -2, r5: -2}, ..., {r4: -2, ...}, {r4: -2, r5: -2}],\n",
       " [{r4: -2, r5: -2}, {r4: -2, r5: -2}, ..., {r4: -2, ...}, {r4: -2, r5: -2}],\n",
       " ...,\n",
       " [{r4: -2, r5: -2}, {r4: -2, r5: -2}, ..., {r4: -2, ...}, {r4: -2, r5: -2}],\n",
       " [{r4: -2, r5: -2}, {r4: -2, r5: -2}, ..., {r4: -2, ...}, {r4: -2, r5: -2}],\n",
       " [{r4: -2, r5: -2}, {r4: -2, r5: -2}, ..., {r4: -2, ...}, {r4: -2, r5: -2}],\n",
       " [{r4: -2, r5: -2}, {r4: -2, r5: -2}, ..., {r4: -2, ...}, {r4: -2, r5: -2}],\n",
       " [{r4: -2, r5: -2}, {r4: -2, r5: -2}, ..., {r4: -2, ...}, {r4: -2, r5: -2}],\n",
       " [{r4: -2, r5: -2}, {r4: -2, r5: -2}, ..., {r4: -2, ...}, {r4: -2, r5: -2}],\n",
       " [{r4: -2, r5: -2}, {r4: -2, r5: -2}, ..., {r4: -2, ...}, {r4: -2, r5: -2}],\n",
       " [{r4: -2, r5: -2}, {r4: -2, r5: -2}, ..., {r4: -2, ...}, {r4: -2, r5: -2}],\n",
       " [{r4: -2, r5: -2}, {r4: -2, r5: -2}, ..., {r4: -2, ...}, {r4: -2, r5: -2}]]\n",
       "----------------------------------------------------------------------------\n",
       "type: 100000 * var * test[\n",
       "    r4: int32[parameters={&quot;__doc__&quot;: &quot;index[ReconstructedParticles#4_]&quot;}],\n",
       "    r5: int32[parameters={&quot;__doc__&quot;: &quot;index[ReconstructedParticles#5_]&quot;}]\n",
       "]</pre>"
      ],
      "text/plain": [
       "<Array [[{r4: -2, r5: -2}, ..., {...}], ...] type='100000 * var * test[r4: ...'>"
      ]
     },
     "execution_count": 62,
     "metadata": {},
     "output_type": "execute_result"
    }
   ],
   "source": [
    "ak.zip(\n",
    "    {'r4':r4,'r5':r5},\n",
    "    with_name='test'\n",
    ")"
   ]
  },
  {
   "cell_type": "markdown",
   "id": "15988e92-506e-49fb-b929-49e321abe1bd",
   "metadata": {},
   "source": [
    "#### r0 and r2 have different offsets and cant be zipped with any other branch"
   ]
  },
  {
   "cell_type": "code",
   "execution_count": 63,
   "id": "4e89c2de-6d93-45ac-892c-ee710a108088",
   "metadata": {
    "scrolled": true
   },
   "outputs": [
    {
     "ename": "ValueError",
     "evalue": "cannot broadcast nested list",
     "output_type": "error",
     "traceback": [
      "\u001b[0;31m---------------------------------------------------------------------------\u001b[0m",
      "\u001b[0;31mValueError\u001b[0m                                Traceback (most recent call last)",
      "Cell \u001b[0;32mIn[63], line 1\u001b[0m\n\u001b[0;32m----> 1\u001b[0m \u001b[43mak\u001b[49m\u001b[38;5;241;43m.\u001b[39;49m\u001b[43mzip\u001b[49m\u001b[43m(\u001b[49m\n\u001b[1;32m      2\u001b[0m \u001b[43m    \u001b[49m\u001b[43m{\u001b[49m\u001b[38;5;124;43m'\u001b[39;49m\u001b[38;5;124;43mr0\u001b[39;49m\u001b[38;5;124;43m'\u001b[39;49m\u001b[43m:\u001b[49m\u001b[43mr0\u001b[49m\u001b[43m,\u001b[49m\u001b[38;5;124;43m'\u001b[39;49m\u001b[38;5;124;43mr1\u001b[39;49m\u001b[38;5;124;43m'\u001b[39;49m\u001b[43m:\u001b[49m\u001b[43mr1\u001b[49m\u001b[43m}\u001b[49m\u001b[43m,\u001b[49m\n\u001b[1;32m      3\u001b[0m \u001b[43m    \u001b[49m\u001b[43mwith_name\u001b[49m\u001b[38;5;241;43m=\u001b[39;49m\u001b[38;5;124;43m'\u001b[39;49m\u001b[38;5;124;43mtest\u001b[39;49m\u001b[38;5;124;43m'\u001b[39;49m\n\u001b[1;32m      4\u001b[0m \u001b[43m)\u001b[49m\n",
      "File \u001b[0;32m~/coffeafcc/development/fcc-dev/lib64/python3.12/site-packages/awkward/_dispatch.py:64\u001b[0m, in \u001b[0;36mnamed_high_level_function.<locals>.dispatch\u001b[0;34m(*args, **kwargs)\u001b[0m\n\u001b[1;32m     62\u001b[0m \u001b[38;5;66;03m# Failed to find a custom overload, so resume the original function\u001b[39;00m\n\u001b[1;32m     63\u001b[0m \u001b[38;5;28;01mtry\u001b[39;00m:\n\u001b[0;32m---> 64\u001b[0m     \u001b[38;5;28;43mnext\u001b[39;49m\u001b[43m(\u001b[49m\u001b[43mgen_or_result\u001b[49m\u001b[43m)\u001b[49m\n\u001b[1;32m     65\u001b[0m \u001b[38;5;28;01mexcept\u001b[39;00m \u001b[38;5;167;01mStopIteration\u001b[39;00m \u001b[38;5;28;01mas\u001b[39;00m err:\n\u001b[1;32m     66\u001b[0m     \u001b[38;5;28;01mreturn\u001b[39;00m err\u001b[38;5;241m.\u001b[39mvalue\n",
      "File \u001b[0;32m~/coffeafcc/development/fcc-dev/lib64/python3.12/site-packages/awkward/operations/ak_zip.py:151\u001b[0m, in \u001b[0;36mzip\u001b[0;34m(arrays, depth_limit, parameters, with_name, right_broadcast, optiontype_outside_record, highlevel, behavior, attrs)\u001b[0m\n\u001b[1;32m    148\u001b[0m     \u001b[38;5;28;01myield\u001b[39;00m arrays\n\u001b[1;32m    150\u001b[0m \u001b[38;5;66;03m# Implementation\u001b[39;00m\n\u001b[0;32m--> 151\u001b[0m \u001b[38;5;28;01mreturn\u001b[39;00m \u001b[43m_impl\u001b[49m\u001b[43m(\u001b[49m\n\u001b[1;32m    152\u001b[0m \u001b[43m    \u001b[49m\u001b[43marrays\u001b[49m\u001b[43m,\u001b[49m\n\u001b[1;32m    153\u001b[0m \u001b[43m    \u001b[49m\u001b[43mdepth_limit\u001b[49m\u001b[43m,\u001b[49m\n\u001b[1;32m    154\u001b[0m \u001b[43m    \u001b[49m\u001b[43mparameters\u001b[49m\u001b[43m,\u001b[49m\n\u001b[1;32m    155\u001b[0m \u001b[43m    \u001b[49m\u001b[43mwith_name\u001b[49m\u001b[43m,\u001b[49m\n\u001b[1;32m    156\u001b[0m \u001b[43m    \u001b[49m\u001b[43mright_broadcast\u001b[49m\u001b[43m,\u001b[49m\n\u001b[1;32m    157\u001b[0m \u001b[43m    \u001b[49m\u001b[43moptiontype_outside_record\u001b[49m\u001b[43m,\u001b[49m\n\u001b[1;32m    158\u001b[0m \u001b[43m    \u001b[49m\u001b[43mhighlevel\u001b[49m\u001b[43m,\u001b[49m\n\u001b[1;32m    159\u001b[0m \u001b[43m    \u001b[49m\u001b[43mbehavior\u001b[49m\u001b[43m,\u001b[49m\n\u001b[1;32m    160\u001b[0m \u001b[43m    \u001b[49m\u001b[43mattrs\u001b[49m\u001b[43m,\u001b[49m\n\u001b[1;32m    161\u001b[0m \u001b[43m\u001b[49m\u001b[43m)\u001b[49m\n",
      "File \u001b[0;32m~/coffeafcc/development/fcc-dev/lib64/python3.12/site-packages/awkward/operations/ak_zip.py:241\u001b[0m, in \u001b[0;36m_impl\u001b[0;34m(arrays, depth_limit, parameters, with_name, right_broadcast, optiontype_outside_record, highlevel, behavior, attrs)\u001b[0m\n\u001b[1;32m    238\u001b[0m     \u001b[38;5;28;01melse\u001b[39;00m:\n\u001b[1;32m    239\u001b[0m         \u001b[38;5;28;01mreturn\u001b[39;00m \u001b[38;5;28;01mNone\u001b[39;00m\n\u001b[0;32m--> 241\u001b[0m out \u001b[38;5;241m=\u001b[39m \u001b[43mak\u001b[49m\u001b[38;5;241;43m.\u001b[39;49m\u001b[43m_broadcasting\u001b[49m\u001b[38;5;241;43m.\u001b[39;49m\u001b[43mbroadcast_and_apply\u001b[49m\u001b[43m(\u001b[49m\n\u001b[1;32m    242\u001b[0m \u001b[43m    \u001b[49m\u001b[43mlayouts\u001b[49m\u001b[43m,\u001b[49m\u001b[43m \u001b[49m\u001b[43maction\u001b[49m\u001b[43m,\u001b[49m\u001b[43m \u001b[49m\u001b[43mright_broadcast\u001b[49m\u001b[38;5;241;43m=\u001b[39;49m\u001b[43mright_broadcast\u001b[49m\n\u001b[1;32m    243\u001b[0m \u001b[43m\u001b[49m\u001b[43m)\u001b[49m\n\u001b[1;32m    244\u001b[0m \u001b[38;5;28;01massert\u001b[39;00m \u001b[38;5;28misinstance\u001b[39m(out, \u001b[38;5;28mtuple\u001b[39m) \u001b[38;5;129;01mand\u001b[39;00m \u001b[38;5;28mlen\u001b[39m(out) \u001b[38;5;241m==\u001b[39m \u001b[38;5;241m1\u001b[39m\n\u001b[1;32m    245\u001b[0m out \u001b[38;5;241m=\u001b[39m out[\u001b[38;5;241m0\u001b[39m]\n",
      "File \u001b[0;32m~/coffeafcc/development/fcc-dev/lib64/python3.12/site-packages/awkward/_broadcasting.py:968\u001b[0m, in \u001b[0;36mbroadcast_and_apply\u001b[0;34m(inputs, action, depth_context, lateral_context, allow_records, left_broadcast, right_broadcast, numpy_to_regular, regular_to_jagged, function_name, broadcast_parameters_rule)\u001b[0m\n\u001b[1;32m    966\u001b[0m backend \u001b[38;5;241m=\u001b[39m backend_of(\u001b[38;5;241m*\u001b[39minputs, coerce_to_common\u001b[38;5;241m=\u001b[39m\u001b[38;5;28;01mFalse\u001b[39;00m)\n\u001b[1;32m    967\u001b[0m isscalar \u001b[38;5;241m=\u001b[39m []\n\u001b[0;32m--> 968\u001b[0m out \u001b[38;5;241m=\u001b[39m \u001b[43mapply_step\u001b[49m\u001b[43m(\u001b[49m\n\u001b[1;32m    969\u001b[0m \u001b[43m    \u001b[49m\u001b[43mbackend\u001b[49m\u001b[43m,\u001b[49m\n\u001b[1;32m    970\u001b[0m \u001b[43m    \u001b[49m\u001b[43mbroadcast_pack\u001b[49m\u001b[43m(\u001b[49m\u001b[43minputs\u001b[49m\u001b[43m,\u001b[49m\u001b[43m \u001b[49m\u001b[43misscalar\u001b[49m\u001b[43m)\u001b[49m\u001b[43m,\u001b[49m\n\u001b[1;32m    971\u001b[0m \u001b[43m    \u001b[49m\u001b[43maction\u001b[49m\u001b[43m,\u001b[49m\n\u001b[1;32m    972\u001b[0m \u001b[43m    \u001b[49m\u001b[38;5;241;43m0\u001b[39;49m\u001b[43m,\u001b[49m\n\u001b[1;32m    973\u001b[0m \u001b[43m    \u001b[49m\u001b[43mdepth_context\u001b[49m\u001b[43m,\u001b[49m\n\u001b[1;32m    974\u001b[0m \u001b[43m    \u001b[49m\u001b[43mlateral_context\u001b[49m\u001b[43m,\u001b[49m\n\u001b[1;32m    975\u001b[0m \u001b[43m    \u001b[49m\u001b[43m{\u001b[49m\n\u001b[1;32m    976\u001b[0m \u001b[43m        \u001b[49m\u001b[38;5;124;43m\"\u001b[39;49m\u001b[38;5;124;43mallow_records\u001b[39;49m\u001b[38;5;124;43m\"\u001b[39;49m\u001b[43m:\u001b[49m\u001b[43m \u001b[49m\u001b[43mallow_records\u001b[49m\u001b[43m,\u001b[49m\n\u001b[1;32m    977\u001b[0m \u001b[43m        \u001b[49m\u001b[38;5;124;43m\"\u001b[39;49m\u001b[38;5;124;43mleft_broadcast\u001b[39;49m\u001b[38;5;124;43m\"\u001b[39;49m\u001b[43m:\u001b[49m\u001b[43m \u001b[49m\u001b[43mleft_broadcast\u001b[49m\u001b[43m,\u001b[49m\n\u001b[1;32m    978\u001b[0m \u001b[43m        \u001b[49m\u001b[38;5;124;43m\"\u001b[39;49m\u001b[38;5;124;43mright_broadcast\u001b[39;49m\u001b[38;5;124;43m\"\u001b[39;49m\u001b[43m:\u001b[49m\u001b[43m \u001b[49m\u001b[43mright_broadcast\u001b[49m\u001b[43m,\u001b[49m\n\u001b[1;32m    979\u001b[0m \u001b[43m        \u001b[49m\u001b[38;5;124;43m\"\u001b[39;49m\u001b[38;5;124;43mnumpy_to_regular\u001b[39;49m\u001b[38;5;124;43m\"\u001b[39;49m\u001b[43m:\u001b[49m\u001b[43m \u001b[49m\u001b[43mnumpy_to_regular\u001b[49m\u001b[43m,\u001b[49m\n\u001b[1;32m    980\u001b[0m \u001b[43m        \u001b[49m\u001b[38;5;124;43m\"\u001b[39;49m\u001b[38;5;124;43mregular_to_jagged\u001b[39;49m\u001b[38;5;124;43m\"\u001b[39;49m\u001b[43m:\u001b[49m\u001b[43m \u001b[49m\u001b[43mregular_to_jagged\u001b[49m\u001b[43m,\u001b[49m\n\u001b[1;32m    981\u001b[0m \u001b[43m        \u001b[49m\u001b[38;5;124;43m\"\u001b[39;49m\u001b[38;5;124;43mfunction_name\u001b[39;49m\u001b[38;5;124;43m\"\u001b[39;49m\u001b[43m:\u001b[49m\u001b[43m \u001b[49m\u001b[43mfunction_name\u001b[49m\u001b[43m,\u001b[49m\n\u001b[1;32m    982\u001b[0m \u001b[43m        \u001b[49m\u001b[38;5;124;43m\"\u001b[39;49m\u001b[38;5;124;43mbroadcast_parameters_rule\u001b[39;49m\u001b[38;5;124;43m\"\u001b[39;49m\u001b[43m:\u001b[49m\u001b[43m \u001b[49m\u001b[43mbroadcast_parameters_rule\u001b[49m\u001b[43m,\u001b[49m\n\u001b[1;32m    983\u001b[0m \u001b[43m    \u001b[49m\u001b[43m}\u001b[49m\u001b[43m,\u001b[49m\n\u001b[1;32m    984\u001b[0m \u001b[43m\u001b[49m\u001b[43m)\u001b[49m\n\u001b[1;32m    985\u001b[0m \u001b[38;5;28;01massert\u001b[39;00m \u001b[38;5;28misinstance\u001b[39m(out, \u001b[38;5;28mtuple\u001b[39m)\n\u001b[1;32m    986\u001b[0m \u001b[38;5;28;01mreturn\u001b[39;00m \u001b[38;5;28mtuple\u001b[39m(broadcast_unpack(x, isscalar) \u001b[38;5;28;01mfor\u001b[39;00m x \u001b[38;5;129;01min\u001b[39;00m out)\n",
      "File \u001b[0;32m~/coffeafcc/development/fcc-dev/lib64/python3.12/site-packages/awkward/_broadcasting.py:946\u001b[0m, in \u001b[0;36mapply_step\u001b[0;34m(backend, inputs, action, depth, depth_context, lateral_context, options)\u001b[0m\n\u001b[1;32m    944\u001b[0m     \u001b[38;5;28;01mreturn\u001b[39;00m result\n\u001b[1;32m    945\u001b[0m \u001b[38;5;28;01melif\u001b[39;00m result \u001b[38;5;129;01mis\u001b[39;00m \u001b[38;5;28;01mNone\u001b[39;00m:\n\u001b[0;32m--> 946\u001b[0m     \u001b[38;5;28;01mreturn\u001b[39;00m \u001b[43mcontinuation\u001b[49m\u001b[43m(\u001b[49m\u001b[43m)\u001b[49m\n\u001b[1;32m    947\u001b[0m \u001b[38;5;28;01melse\u001b[39;00m:\n\u001b[1;32m    948\u001b[0m     \u001b[38;5;28;01mraise\u001b[39;00m \u001b[38;5;167;01mAssertionError\u001b[39;00m(result)\n",
      "File \u001b[0;32m~/coffeafcc/development/fcc-dev/lib64/python3.12/site-packages/awkward/_broadcasting.py:915\u001b[0m, in \u001b[0;36mapply_step.<locals>.continuation\u001b[0;34m()\u001b[0m\n\u001b[1;32m    913\u001b[0m \u001b[38;5;66;03m# Any non-string list-types?\u001b[39;00m\n\u001b[1;32m    914\u001b[0m \u001b[38;5;28;01melif\u001b[39;00m \u001b[38;5;28many\u001b[39m(x\u001b[38;5;241m.\u001b[39mis_list \u001b[38;5;129;01mand\u001b[39;00m \u001b[38;5;129;01mnot\u001b[39;00m is_string_like(x) \u001b[38;5;28;01mfor\u001b[39;00m x \u001b[38;5;129;01min\u001b[39;00m contents):\n\u001b[0;32m--> 915\u001b[0m     \u001b[38;5;28;01mreturn\u001b[39;00m \u001b[43mbroadcast_any_list\u001b[49m\u001b[43m(\u001b[49m\u001b[43m)\u001b[49m\n\u001b[1;32m    917\u001b[0m \u001b[38;5;66;03m# Any RecordArrays?\u001b[39;00m\n\u001b[1;32m    918\u001b[0m \u001b[38;5;28;01melif\u001b[39;00m \u001b[38;5;28many\u001b[39m(x\u001b[38;5;241m.\u001b[39mis_record \u001b[38;5;28;01mfor\u001b[39;00m x \u001b[38;5;129;01min\u001b[39;00m contents):\n",
      "File \u001b[0;32m~/coffeafcc/development/fcc-dev/lib64/python3.12/site-packages/awkward/_broadcasting.py:622\u001b[0m, in \u001b[0;36mapply_step.<locals>.broadcast_any_list\u001b[0;34m()\u001b[0m\n\u001b[1;32m    619\u001b[0m         nextinputs\u001b[38;5;241m.\u001b[39mappend(x)\n\u001b[1;32m    620\u001b[0m         nextparameters\u001b[38;5;241m.\u001b[39mappend(NO_PARAMETERS)\n\u001b[0;32m--> 622\u001b[0m outcontent \u001b[38;5;241m=\u001b[39m \u001b[43mapply_step\u001b[49m\u001b[43m(\u001b[49m\n\u001b[1;32m    623\u001b[0m \u001b[43m    \u001b[49m\u001b[43mbackend\u001b[49m\u001b[43m,\u001b[49m\n\u001b[1;32m    624\u001b[0m \u001b[43m    \u001b[49m\u001b[43mnextinputs\u001b[49m\u001b[43m,\u001b[49m\n\u001b[1;32m    625\u001b[0m \u001b[43m    \u001b[49m\u001b[43maction\u001b[49m\u001b[43m,\u001b[49m\n\u001b[1;32m    626\u001b[0m \u001b[43m    \u001b[49m\u001b[43mdepth\u001b[49m\u001b[43m \u001b[49m\u001b[38;5;241;43m+\u001b[39;49m\u001b[43m \u001b[49m\u001b[38;5;241;43m1\u001b[39;49m\u001b[43m,\u001b[49m\n\u001b[1;32m    627\u001b[0m \u001b[43m    \u001b[49m\u001b[43mcopy\u001b[49m\u001b[38;5;241;43m.\u001b[39;49m\u001b[43mcopy\u001b[49m\u001b[43m(\u001b[49m\u001b[43mdepth_context\u001b[49m\u001b[43m)\u001b[49m\u001b[43m,\u001b[49m\n\u001b[1;32m    628\u001b[0m \u001b[43m    \u001b[49m\u001b[43mlateral_context\u001b[49m\u001b[43m,\u001b[49m\n\u001b[1;32m    629\u001b[0m \u001b[43m    \u001b[49m\u001b[43moptions\u001b[49m\u001b[43m,\u001b[49m\n\u001b[1;32m    630\u001b[0m \u001b[43m\u001b[49m\u001b[43m)\u001b[49m\n\u001b[1;32m    631\u001b[0m \u001b[38;5;28;01massert\u001b[39;00m \u001b[38;5;28misinstance\u001b[39m(outcontent, \u001b[38;5;28mtuple\u001b[39m)\n\u001b[1;32m    632\u001b[0m parameters \u001b[38;5;241m=\u001b[39m parameters_factory(nextparameters, \u001b[38;5;28mlen\u001b[39m(outcontent))\n",
      "File \u001b[0;32m~/coffeafcc/development/fcc-dev/lib64/python3.12/site-packages/awkward/_broadcasting.py:946\u001b[0m, in \u001b[0;36mapply_step\u001b[0;34m(backend, inputs, action, depth, depth_context, lateral_context, options)\u001b[0m\n\u001b[1;32m    944\u001b[0m     \u001b[38;5;28;01mreturn\u001b[39;00m result\n\u001b[1;32m    945\u001b[0m \u001b[38;5;28;01melif\u001b[39;00m result \u001b[38;5;129;01mis\u001b[39;00m \u001b[38;5;28;01mNone\u001b[39;00m:\n\u001b[0;32m--> 946\u001b[0m     \u001b[38;5;28;01mreturn\u001b[39;00m \u001b[43mcontinuation\u001b[49m\u001b[43m(\u001b[49m\u001b[43m)\u001b[49m\n\u001b[1;32m    947\u001b[0m \u001b[38;5;28;01melse\u001b[39;00m:\n\u001b[1;32m    948\u001b[0m     \u001b[38;5;28;01mraise\u001b[39;00m \u001b[38;5;167;01mAssertionError\u001b[39;00m(result)\n",
      "File \u001b[0;32m~/coffeafcc/development/fcc-dev/lib64/python3.12/site-packages/awkward/_broadcasting.py:915\u001b[0m, in \u001b[0;36mapply_step.<locals>.continuation\u001b[0;34m()\u001b[0m\n\u001b[1;32m    913\u001b[0m \u001b[38;5;66;03m# Any non-string list-types?\u001b[39;00m\n\u001b[1;32m    914\u001b[0m \u001b[38;5;28;01melif\u001b[39;00m \u001b[38;5;28many\u001b[39m(x\u001b[38;5;241m.\u001b[39mis_list \u001b[38;5;129;01mand\u001b[39;00m \u001b[38;5;129;01mnot\u001b[39;00m is_string_like(x) \u001b[38;5;28;01mfor\u001b[39;00m x \u001b[38;5;129;01min\u001b[39;00m contents):\n\u001b[0;32m--> 915\u001b[0m     \u001b[38;5;28;01mreturn\u001b[39;00m \u001b[43mbroadcast_any_list\u001b[49m\u001b[43m(\u001b[49m\u001b[43m)\u001b[49m\n\u001b[1;32m    917\u001b[0m \u001b[38;5;66;03m# Any RecordArrays?\u001b[39;00m\n\u001b[1;32m    918\u001b[0m \u001b[38;5;28;01melif\u001b[39;00m \u001b[38;5;28many\u001b[39m(x\u001b[38;5;241m.\u001b[39mis_record \u001b[38;5;28;01mfor\u001b[39;00m x \u001b[38;5;129;01min\u001b[39;00m contents):\n",
      "File \u001b[0;32m~/coffeafcc/development/fcc-dev/lib64/python3.12/site-packages/awkward/_broadcasting.py:671\u001b[0m, in \u001b[0;36mapply_step.<locals>.broadcast_any_list\u001b[0;34m()\u001b[0m\n\u001b[1;32m    669\u001b[0m \u001b[38;5;28;01mfor\u001b[39;00m x, x_is_string \u001b[38;5;129;01min\u001b[39;00m \u001b[38;5;28mzip\u001b[39m(inputs, input_is_string):\n\u001b[1;32m    670\u001b[0m     \u001b[38;5;28;01mif\u001b[39;00m \u001b[38;5;28misinstance\u001b[39m(x, listtypes) \u001b[38;5;129;01mand\u001b[39;00m \u001b[38;5;129;01mnot\u001b[39;00m x_is_string:\n\u001b[0;32m--> 671\u001b[0m         next_content \u001b[38;5;241m=\u001b[39m \u001b[43mbroadcast_to_offsets_avoiding_carry\u001b[49m\u001b[43m(\u001b[49m\u001b[43mx\u001b[49m\u001b[43m,\u001b[49m\u001b[43m \u001b[49m\u001b[43moffsets\u001b[49m\u001b[43m)\u001b[49m\n\u001b[1;32m    672\u001b[0m         nextinputs\u001b[38;5;241m.\u001b[39mappend(next_content)\n\u001b[1;32m    673\u001b[0m         nextparameters\u001b[38;5;241m.\u001b[39mappend(x\u001b[38;5;241m.\u001b[39m_parameters)\n",
      "File \u001b[0;32m~/coffeafcc/development/fcc-dev/lib64/python3.12/site-packages/awkward/_broadcasting.py:371\u001b[0m, in \u001b[0;36mbroadcast_to_offsets_avoiding_carry\u001b[0;34m(list_content, offsets)\u001b[0m\n\u001b[1;32m    369\u001b[0m         \u001b[38;5;28;01mreturn\u001b[39;00m list_content\u001b[38;5;241m.\u001b[39mcontent[:next_length]\n\u001b[1;32m    370\u001b[0m     \u001b[38;5;28;01melse\u001b[39;00m:\n\u001b[0;32m--> 371\u001b[0m         \u001b[38;5;28;01mreturn\u001b[39;00m \u001b[43mlist_content\u001b[49m\u001b[38;5;241;43m.\u001b[39;49m\u001b[43m_broadcast_tooffsets64\u001b[49m\u001b[43m(\u001b[49m\u001b[43moffsets\u001b[49m\u001b[43m)\u001b[49m\u001b[38;5;241m.\u001b[39mcontent\n\u001b[1;32m    372\u001b[0m \u001b[38;5;28;01melif\u001b[39;00m \u001b[38;5;28misinstance\u001b[39m(list_content, ListArray):\n\u001b[1;32m    373\u001b[0m     \u001b[38;5;66;03m# Is this list contiguous?\u001b[39;00m\n\u001b[1;32m    374\u001b[0m     \u001b[38;5;28;01mif\u001b[39;00m index_nplike\u001b[38;5;241m.\u001b[39marray_equal(\n\u001b[1;32m    375\u001b[0m         list_content\u001b[38;5;241m.\u001b[39mstarts\u001b[38;5;241m.\u001b[39mdata[\u001b[38;5;241m1\u001b[39m:], list_content\u001b[38;5;241m.\u001b[39mstops\u001b[38;5;241m.\u001b[39mdata[:\u001b[38;5;241m-\u001b[39m\u001b[38;5;241m1\u001b[39m]\n\u001b[1;32m    376\u001b[0m     ):\n\u001b[1;32m    377\u001b[0m         \u001b[38;5;66;03m# Does this list match the offsets?\u001b[39;00m\n",
      "File \u001b[0;32m~/coffeafcc/development/fcc-dev/lib64/python3.12/site-packages/awkward/contents/listoffsetarray.py:411\u001b[0m, in \u001b[0;36mListOffsetArray._broadcast_tooffsets64\u001b[0;34m(self, offsets)\u001b[0m\n\u001b[1;32m    406\u001b[0m     next_content \u001b[38;5;241m=\u001b[39m \u001b[38;5;28mself\u001b[39m\u001b[38;5;241m.\u001b[39m_content[this_start:]\n\u001b[1;32m    408\u001b[0m \u001b[38;5;28;01mif\u001b[39;00m index_nplike\u001b[38;5;241m.\u001b[39mknown_data \u001b[38;5;129;01mand\u001b[39;00m \u001b[38;5;129;01mnot\u001b[39;00m index_nplike\u001b[38;5;241m.\u001b[39marray_equal(\n\u001b[1;32m    409\u001b[0m     this_zero_offsets, offsets\u001b[38;5;241m.\u001b[39mdata\n\u001b[1;32m    410\u001b[0m ):\n\u001b[0;32m--> 411\u001b[0m     \u001b[38;5;28;01mraise\u001b[39;00m \u001b[38;5;167;01mValueError\u001b[39;00m(\u001b[38;5;124m\"\u001b[39m\u001b[38;5;124mcannot broadcast nested list\u001b[39m\u001b[38;5;124m\"\u001b[39m)\n\u001b[1;32m    413\u001b[0m \u001b[38;5;28;01mreturn\u001b[39;00m ListOffsetArray(\n\u001b[1;32m    414\u001b[0m     offsets, next_content[: offsets[\u001b[38;5;241m-\u001b[39m\u001b[38;5;241m1\u001b[39m]], parameters\u001b[38;5;241m=\u001b[39m\u001b[38;5;28mself\u001b[39m\u001b[38;5;241m.\u001b[39m_parameters\n\u001b[1;32m    415\u001b[0m )\n",
      "\u001b[0;31mValueError\u001b[0m: cannot broadcast nested list",
      "\u001b[0m\nThis error occurred while calling\n\n    ak.zip(\n        {'r0': <Array [[0, 1, 2, 3, ..., 19, 20, 21, 22], ...] type='100000 *...\n        with_name = 'test'\n    )"
     ]
    }
   ],
   "source": [
    "ak.zip(\n",
    "    {'r0':r0,'r1':r1},\n",
    "    with_name='test'\n",
    ")"
   ]
  },
  {
   "cell_type": "markdown",
   "id": "acaeb6e3-8e77-451b-ab63-49bc808668ac",
   "metadata": {},
   "source": [
    "#### Similarly, r0,r1,r2,r3,r4,r5 (all ReconstuctedParticle#n branches) cant be zipped together"
   ]
  },
  {
   "cell_type": "code",
   "execution_count": 64,
   "id": "e45ddb18-ab6c-43ed-9c02-d549d9c96f8d",
   "metadata": {
    "scrolled": true
   },
   "outputs": [
    {
     "ename": "ValueError",
     "evalue": "cannot broadcast nested list",
     "output_type": "error",
     "traceback": [
      "\u001b[0;31m---------------------------------------------------------------------------\u001b[0m",
      "\u001b[0;31mValueError\u001b[0m                                Traceback (most recent call last)",
      "Cell \u001b[0;32mIn[64], line 1\u001b[0m\n\u001b[0;32m----> 1\u001b[0m \u001b[43mak\u001b[49m\u001b[38;5;241;43m.\u001b[39;49m\u001b[43mzip\u001b[49m\u001b[43m(\u001b[49m\n\u001b[1;32m      2\u001b[0m \u001b[43m    \u001b[49m\u001b[43m{\u001b[49m\u001b[38;5;124;43m'\u001b[39;49m\u001b[38;5;124;43mr0\u001b[39;49m\u001b[38;5;124;43m'\u001b[39;49m\u001b[43m:\u001b[49m\u001b[43mr0\u001b[49m\u001b[43m,\u001b[49m\u001b[43m \u001b[49m\u001b[38;5;124;43m'\u001b[39;49m\u001b[38;5;124;43mr1\u001b[39;49m\u001b[38;5;124;43m'\u001b[39;49m\u001b[43m:\u001b[49m\u001b[43mr1\u001b[49m\u001b[43m,\u001b[49m\u001b[43m \u001b[49m\u001b[38;5;124;43m'\u001b[39;49m\u001b[38;5;124;43mr2\u001b[39;49m\u001b[38;5;124;43m'\u001b[39;49m\u001b[43m:\u001b[49m\u001b[43mr2\u001b[49m\u001b[43m,\u001b[49m\u001b[43m \u001b[49m\u001b[38;5;124;43m'\u001b[39;49m\u001b[38;5;124;43mr3\u001b[39;49m\u001b[38;5;124;43m'\u001b[39;49m\u001b[43m:\u001b[49m\u001b[43mr3\u001b[49m\u001b[43m,\u001b[49m\u001b[43m \u001b[49m\u001b[38;5;124;43m'\u001b[39;49m\u001b[38;5;124;43mr4\u001b[39;49m\u001b[38;5;124;43m'\u001b[39;49m\u001b[43m:\u001b[49m\u001b[43mr4\u001b[49m\u001b[43m,\u001b[49m\u001b[43m \u001b[49m\u001b[38;5;124;43m'\u001b[39;49m\u001b[38;5;124;43mr5\u001b[39;49m\u001b[38;5;124;43m'\u001b[39;49m\u001b[43m:\u001b[49m\u001b[43mr5\u001b[49m\u001b[43m}\u001b[49m\u001b[43m,\u001b[49m\n\u001b[1;32m      3\u001b[0m \u001b[43m    \u001b[49m\u001b[43mwith_name\u001b[49m\u001b[38;5;241;43m=\u001b[39;49m\u001b[38;5;124;43m'\u001b[39;49m\u001b[38;5;124;43mtest\u001b[39;49m\u001b[38;5;124;43m'\u001b[39;49m\n\u001b[1;32m      4\u001b[0m \u001b[43m)\u001b[49m\n",
      "File \u001b[0;32m~/coffeafcc/development/fcc-dev/lib64/python3.12/site-packages/awkward/_dispatch.py:64\u001b[0m, in \u001b[0;36mnamed_high_level_function.<locals>.dispatch\u001b[0;34m(*args, **kwargs)\u001b[0m\n\u001b[1;32m     62\u001b[0m \u001b[38;5;66;03m# Failed to find a custom overload, so resume the original function\u001b[39;00m\n\u001b[1;32m     63\u001b[0m \u001b[38;5;28;01mtry\u001b[39;00m:\n\u001b[0;32m---> 64\u001b[0m     \u001b[38;5;28;43mnext\u001b[39;49m\u001b[43m(\u001b[49m\u001b[43mgen_or_result\u001b[49m\u001b[43m)\u001b[49m\n\u001b[1;32m     65\u001b[0m \u001b[38;5;28;01mexcept\u001b[39;00m \u001b[38;5;167;01mStopIteration\u001b[39;00m \u001b[38;5;28;01mas\u001b[39;00m err:\n\u001b[1;32m     66\u001b[0m     \u001b[38;5;28;01mreturn\u001b[39;00m err\u001b[38;5;241m.\u001b[39mvalue\n",
      "File \u001b[0;32m~/coffeafcc/development/fcc-dev/lib64/python3.12/site-packages/awkward/operations/ak_zip.py:151\u001b[0m, in \u001b[0;36mzip\u001b[0;34m(arrays, depth_limit, parameters, with_name, right_broadcast, optiontype_outside_record, highlevel, behavior, attrs)\u001b[0m\n\u001b[1;32m    148\u001b[0m     \u001b[38;5;28;01myield\u001b[39;00m arrays\n\u001b[1;32m    150\u001b[0m \u001b[38;5;66;03m# Implementation\u001b[39;00m\n\u001b[0;32m--> 151\u001b[0m \u001b[38;5;28;01mreturn\u001b[39;00m \u001b[43m_impl\u001b[49m\u001b[43m(\u001b[49m\n\u001b[1;32m    152\u001b[0m \u001b[43m    \u001b[49m\u001b[43marrays\u001b[49m\u001b[43m,\u001b[49m\n\u001b[1;32m    153\u001b[0m \u001b[43m    \u001b[49m\u001b[43mdepth_limit\u001b[49m\u001b[43m,\u001b[49m\n\u001b[1;32m    154\u001b[0m \u001b[43m    \u001b[49m\u001b[43mparameters\u001b[49m\u001b[43m,\u001b[49m\n\u001b[1;32m    155\u001b[0m \u001b[43m    \u001b[49m\u001b[43mwith_name\u001b[49m\u001b[43m,\u001b[49m\n\u001b[1;32m    156\u001b[0m \u001b[43m    \u001b[49m\u001b[43mright_broadcast\u001b[49m\u001b[43m,\u001b[49m\n\u001b[1;32m    157\u001b[0m \u001b[43m    \u001b[49m\u001b[43moptiontype_outside_record\u001b[49m\u001b[43m,\u001b[49m\n\u001b[1;32m    158\u001b[0m \u001b[43m    \u001b[49m\u001b[43mhighlevel\u001b[49m\u001b[43m,\u001b[49m\n\u001b[1;32m    159\u001b[0m \u001b[43m    \u001b[49m\u001b[43mbehavior\u001b[49m\u001b[43m,\u001b[49m\n\u001b[1;32m    160\u001b[0m \u001b[43m    \u001b[49m\u001b[43mattrs\u001b[49m\u001b[43m,\u001b[49m\n\u001b[1;32m    161\u001b[0m \u001b[43m\u001b[49m\u001b[43m)\u001b[49m\n",
      "File \u001b[0;32m~/coffeafcc/development/fcc-dev/lib64/python3.12/site-packages/awkward/operations/ak_zip.py:241\u001b[0m, in \u001b[0;36m_impl\u001b[0;34m(arrays, depth_limit, parameters, with_name, right_broadcast, optiontype_outside_record, highlevel, behavior, attrs)\u001b[0m\n\u001b[1;32m    238\u001b[0m     \u001b[38;5;28;01melse\u001b[39;00m:\n\u001b[1;32m    239\u001b[0m         \u001b[38;5;28;01mreturn\u001b[39;00m \u001b[38;5;28;01mNone\u001b[39;00m\n\u001b[0;32m--> 241\u001b[0m out \u001b[38;5;241m=\u001b[39m \u001b[43mak\u001b[49m\u001b[38;5;241;43m.\u001b[39;49m\u001b[43m_broadcasting\u001b[49m\u001b[38;5;241;43m.\u001b[39;49m\u001b[43mbroadcast_and_apply\u001b[49m\u001b[43m(\u001b[49m\n\u001b[1;32m    242\u001b[0m \u001b[43m    \u001b[49m\u001b[43mlayouts\u001b[49m\u001b[43m,\u001b[49m\u001b[43m \u001b[49m\u001b[43maction\u001b[49m\u001b[43m,\u001b[49m\u001b[43m \u001b[49m\u001b[43mright_broadcast\u001b[49m\u001b[38;5;241;43m=\u001b[39;49m\u001b[43mright_broadcast\u001b[49m\n\u001b[1;32m    243\u001b[0m \u001b[43m\u001b[49m\u001b[43m)\u001b[49m\n\u001b[1;32m    244\u001b[0m \u001b[38;5;28;01massert\u001b[39;00m \u001b[38;5;28misinstance\u001b[39m(out, \u001b[38;5;28mtuple\u001b[39m) \u001b[38;5;129;01mand\u001b[39;00m \u001b[38;5;28mlen\u001b[39m(out) \u001b[38;5;241m==\u001b[39m \u001b[38;5;241m1\u001b[39m\n\u001b[1;32m    245\u001b[0m out \u001b[38;5;241m=\u001b[39m out[\u001b[38;5;241m0\u001b[39m]\n",
      "File \u001b[0;32m~/coffeafcc/development/fcc-dev/lib64/python3.12/site-packages/awkward/_broadcasting.py:968\u001b[0m, in \u001b[0;36mbroadcast_and_apply\u001b[0;34m(inputs, action, depth_context, lateral_context, allow_records, left_broadcast, right_broadcast, numpy_to_regular, regular_to_jagged, function_name, broadcast_parameters_rule)\u001b[0m\n\u001b[1;32m    966\u001b[0m backend \u001b[38;5;241m=\u001b[39m backend_of(\u001b[38;5;241m*\u001b[39minputs, coerce_to_common\u001b[38;5;241m=\u001b[39m\u001b[38;5;28;01mFalse\u001b[39;00m)\n\u001b[1;32m    967\u001b[0m isscalar \u001b[38;5;241m=\u001b[39m []\n\u001b[0;32m--> 968\u001b[0m out \u001b[38;5;241m=\u001b[39m \u001b[43mapply_step\u001b[49m\u001b[43m(\u001b[49m\n\u001b[1;32m    969\u001b[0m \u001b[43m    \u001b[49m\u001b[43mbackend\u001b[49m\u001b[43m,\u001b[49m\n\u001b[1;32m    970\u001b[0m \u001b[43m    \u001b[49m\u001b[43mbroadcast_pack\u001b[49m\u001b[43m(\u001b[49m\u001b[43minputs\u001b[49m\u001b[43m,\u001b[49m\u001b[43m \u001b[49m\u001b[43misscalar\u001b[49m\u001b[43m)\u001b[49m\u001b[43m,\u001b[49m\n\u001b[1;32m    971\u001b[0m \u001b[43m    \u001b[49m\u001b[43maction\u001b[49m\u001b[43m,\u001b[49m\n\u001b[1;32m    972\u001b[0m \u001b[43m    \u001b[49m\u001b[38;5;241;43m0\u001b[39;49m\u001b[43m,\u001b[49m\n\u001b[1;32m    973\u001b[0m \u001b[43m    \u001b[49m\u001b[43mdepth_context\u001b[49m\u001b[43m,\u001b[49m\n\u001b[1;32m    974\u001b[0m \u001b[43m    \u001b[49m\u001b[43mlateral_context\u001b[49m\u001b[43m,\u001b[49m\n\u001b[1;32m    975\u001b[0m \u001b[43m    \u001b[49m\u001b[43m{\u001b[49m\n\u001b[1;32m    976\u001b[0m \u001b[43m        \u001b[49m\u001b[38;5;124;43m\"\u001b[39;49m\u001b[38;5;124;43mallow_records\u001b[39;49m\u001b[38;5;124;43m\"\u001b[39;49m\u001b[43m:\u001b[49m\u001b[43m \u001b[49m\u001b[43mallow_records\u001b[49m\u001b[43m,\u001b[49m\n\u001b[1;32m    977\u001b[0m \u001b[43m        \u001b[49m\u001b[38;5;124;43m\"\u001b[39;49m\u001b[38;5;124;43mleft_broadcast\u001b[39;49m\u001b[38;5;124;43m\"\u001b[39;49m\u001b[43m:\u001b[49m\u001b[43m \u001b[49m\u001b[43mleft_broadcast\u001b[49m\u001b[43m,\u001b[49m\n\u001b[1;32m    978\u001b[0m \u001b[43m        \u001b[49m\u001b[38;5;124;43m\"\u001b[39;49m\u001b[38;5;124;43mright_broadcast\u001b[39;49m\u001b[38;5;124;43m\"\u001b[39;49m\u001b[43m:\u001b[49m\u001b[43m \u001b[49m\u001b[43mright_broadcast\u001b[49m\u001b[43m,\u001b[49m\n\u001b[1;32m    979\u001b[0m \u001b[43m        \u001b[49m\u001b[38;5;124;43m\"\u001b[39;49m\u001b[38;5;124;43mnumpy_to_regular\u001b[39;49m\u001b[38;5;124;43m\"\u001b[39;49m\u001b[43m:\u001b[49m\u001b[43m \u001b[49m\u001b[43mnumpy_to_regular\u001b[49m\u001b[43m,\u001b[49m\n\u001b[1;32m    980\u001b[0m \u001b[43m        \u001b[49m\u001b[38;5;124;43m\"\u001b[39;49m\u001b[38;5;124;43mregular_to_jagged\u001b[39;49m\u001b[38;5;124;43m\"\u001b[39;49m\u001b[43m:\u001b[49m\u001b[43m \u001b[49m\u001b[43mregular_to_jagged\u001b[49m\u001b[43m,\u001b[49m\n\u001b[1;32m    981\u001b[0m \u001b[43m        \u001b[49m\u001b[38;5;124;43m\"\u001b[39;49m\u001b[38;5;124;43mfunction_name\u001b[39;49m\u001b[38;5;124;43m\"\u001b[39;49m\u001b[43m:\u001b[49m\u001b[43m \u001b[49m\u001b[43mfunction_name\u001b[49m\u001b[43m,\u001b[49m\n\u001b[1;32m    982\u001b[0m \u001b[43m        \u001b[49m\u001b[38;5;124;43m\"\u001b[39;49m\u001b[38;5;124;43mbroadcast_parameters_rule\u001b[39;49m\u001b[38;5;124;43m\"\u001b[39;49m\u001b[43m:\u001b[49m\u001b[43m \u001b[49m\u001b[43mbroadcast_parameters_rule\u001b[49m\u001b[43m,\u001b[49m\n\u001b[1;32m    983\u001b[0m \u001b[43m    \u001b[49m\u001b[43m}\u001b[49m\u001b[43m,\u001b[49m\n\u001b[1;32m    984\u001b[0m \u001b[43m\u001b[49m\u001b[43m)\u001b[49m\n\u001b[1;32m    985\u001b[0m \u001b[38;5;28;01massert\u001b[39;00m \u001b[38;5;28misinstance\u001b[39m(out, \u001b[38;5;28mtuple\u001b[39m)\n\u001b[1;32m    986\u001b[0m \u001b[38;5;28;01mreturn\u001b[39;00m \u001b[38;5;28mtuple\u001b[39m(broadcast_unpack(x, isscalar) \u001b[38;5;28;01mfor\u001b[39;00m x \u001b[38;5;129;01min\u001b[39;00m out)\n",
      "File \u001b[0;32m~/coffeafcc/development/fcc-dev/lib64/python3.12/site-packages/awkward/_broadcasting.py:946\u001b[0m, in \u001b[0;36mapply_step\u001b[0;34m(backend, inputs, action, depth, depth_context, lateral_context, options)\u001b[0m\n\u001b[1;32m    944\u001b[0m     \u001b[38;5;28;01mreturn\u001b[39;00m result\n\u001b[1;32m    945\u001b[0m \u001b[38;5;28;01melif\u001b[39;00m result \u001b[38;5;129;01mis\u001b[39;00m \u001b[38;5;28;01mNone\u001b[39;00m:\n\u001b[0;32m--> 946\u001b[0m     \u001b[38;5;28;01mreturn\u001b[39;00m \u001b[43mcontinuation\u001b[49m\u001b[43m(\u001b[49m\u001b[43m)\u001b[49m\n\u001b[1;32m    947\u001b[0m \u001b[38;5;28;01melse\u001b[39;00m:\n\u001b[1;32m    948\u001b[0m     \u001b[38;5;28;01mraise\u001b[39;00m \u001b[38;5;167;01mAssertionError\u001b[39;00m(result)\n",
      "File \u001b[0;32m~/coffeafcc/development/fcc-dev/lib64/python3.12/site-packages/awkward/_broadcasting.py:915\u001b[0m, in \u001b[0;36mapply_step.<locals>.continuation\u001b[0;34m()\u001b[0m\n\u001b[1;32m    913\u001b[0m \u001b[38;5;66;03m# Any non-string list-types?\u001b[39;00m\n\u001b[1;32m    914\u001b[0m \u001b[38;5;28;01melif\u001b[39;00m \u001b[38;5;28many\u001b[39m(x\u001b[38;5;241m.\u001b[39mis_list \u001b[38;5;129;01mand\u001b[39;00m \u001b[38;5;129;01mnot\u001b[39;00m is_string_like(x) \u001b[38;5;28;01mfor\u001b[39;00m x \u001b[38;5;129;01min\u001b[39;00m contents):\n\u001b[0;32m--> 915\u001b[0m     \u001b[38;5;28;01mreturn\u001b[39;00m \u001b[43mbroadcast_any_list\u001b[49m\u001b[43m(\u001b[49m\u001b[43m)\u001b[49m\n\u001b[1;32m    917\u001b[0m \u001b[38;5;66;03m# Any RecordArrays?\u001b[39;00m\n\u001b[1;32m    918\u001b[0m \u001b[38;5;28;01melif\u001b[39;00m \u001b[38;5;28many\u001b[39m(x\u001b[38;5;241m.\u001b[39mis_record \u001b[38;5;28;01mfor\u001b[39;00m x \u001b[38;5;129;01min\u001b[39;00m contents):\n",
      "File \u001b[0;32m~/coffeafcc/development/fcc-dev/lib64/python3.12/site-packages/awkward/_broadcasting.py:622\u001b[0m, in \u001b[0;36mapply_step.<locals>.broadcast_any_list\u001b[0;34m()\u001b[0m\n\u001b[1;32m    619\u001b[0m         nextinputs\u001b[38;5;241m.\u001b[39mappend(x)\n\u001b[1;32m    620\u001b[0m         nextparameters\u001b[38;5;241m.\u001b[39mappend(NO_PARAMETERS)\n\u001b[0;32m--> 622\u001b[0m outcontent \u001b[38;5;241m=\u001b[39m \u001b[43mapply_step\u001b[49m\u001b[43m(\u001b[49m\n\u001b[1;32m    623\u001b[0m \u001b[43m    \u001b[49m\u001b[43mbackend\u001b[49m\u001b[43m,\u001b[49m\n\u001b[1;32m    624\u001b[0m \u001b[43m    \u001b[49m\u001b[43mnextinputs\u001b[49m\u001b[43m,\u001b[49m\n\u001b[1;32m    625\u001b[0m \u001b[43m    \u001b[49m\u001b[43maction\u001b[49m\u001b[43m,\u001b[49m\n\u001b[1;32m    626\u001b[0m \u001b[43m    \u001b[49m\u001b[43mdepth\u001b[49m\u001b[43m \u001b[49m\u001b[38;5;241;43m+\u001b[39;49m\u001b[43m \u001b[49m\u001b[38;5;241;43m1\u001b[39;49m\u001b[43m,\u001b[49m\n\u001b[1;32m    627\u001b[0m \u001b[43m    \u001b[49m\u001b[43mcopy\u001b[49m\u001b[38;5;241;43m.\u001b[39;49m\u001b[43mcopy\u001b[49m\u001b[43m(\u001b[49m\u001b[43mdepth_context\u001b[49m\u001b[43m)\u001b[49m\u001b[43m,\u001b[49m\n\u001b[1;32m    628\u001b[0m \u001b[43m    \u001b[49m\u001b[43mlateral_context\u001b[49m\u001b[43m,\u001b[49m\n\u001b[1;32m    629\u001b[0m \u001b[43m    \u001b[49m\u001b[43moptions\u001b[49m\u001b[43m,\u001b[49m\n\u001b[1;32m    630\u001b[0m \u001b[43m\u001b[49m\u001b[43m)\u001b[49m\n\u001b[1;32m    631\u001b[0m \u001b[38;5;28;01massert\u001b[39;00m \u001b[38;5;28misinstance\u001b[39m(outcontent, \u001b[38;5;28mtuple\u001b[39m)\n\u001b[1;32m    632\u001b[0m parameters \u001b[38;5;241m=\u001b[39m parameters_factory(nextparameters, \u001b[38;5;28mlen\u001b[39m(outcontent))\n",
      "File \u001b[0;32m~/coffeafcc/development/fcc-dev/lib64/python3.12/site-packages/awkward/_broadcasting.py:946\u001b[0m, in \u001b[0;36mapply_step\u001b[0;34m(backend, inputs, action, depth, depth_context, lateral_context, options)\u001b[0m\n\u001b[1;32m    944\u001b[0m     \u001b[38;5;28;01mreturn\u001b[39;00m result\n\u001b[1;32m    945\u001b[0m \u001b[38;5;28;01melif\u001b[39;00m result \u001b[38;5;129;01mis\u001b[39;00m \u001b[38;5;28;01mNone\u001b[39;00m:\n\u001b[0;32m--> 946\u001b[0m     \u001b[38;5;28;01mreturn\u001b[39;00m \u001b[43mcontinuation\u001b[49m\u001b[43m(\u001b[49m\u001b[43m)\u001b[49m\n\u001b[1;32m    947\u001b[0m \u001b[38;5;28;01melse\u001b[39;00m:\n\u001b[1;32m    948\u001b[0m     \u001b[38;5;28;01mraise\u001b[39;00m \u001b[38;5;167;01mAssertionError\u001b[39;00m(result)\n",
      "File \u001b[0;32m~/coffeafcc/development/fcc-dev/lib64/python3.12/site-packages/awkward/_broadcasting.py:915\u001b[0m, in \u001b[0;36mapply_step.<locals>.continuation\u001b[0;34m()\u001b[0m\n\u001b[1;32m    913\u001b[0m \u001b[38;5;66;03m# Any non-string list-types?\u001b[39;00m\n\u001b[1;32m    914\u001b[0m \u001b[38;5;28;01melif\u001b[39;00m \u001b[38;5;28many\u001b[39m(x\u001b[38;5;241m.\u001b[39mis_list \u001b[38;5;129;01mand\u001b[39;00m \u001b[38;5;129;01mnot\u001b[39;00m is_string_like(x) \u001b[38;5;28;01mfor\u001b[39;00m x \u001b[38;5;129;01min\u001b[39;00m contents):\n\u001b[0;32m--> 915\u001b[0m     \u001b[38;5;28;01mreturn\u001b[39;00m \u001b[43mbroadcast_any_list\u001b[49m\u001b[43m(\u001b[49m\u001b[43m)\u001b[49m\n\u001b[1;32m    917\u001b[0m \u001b[38;5;66;03m# Any RecordArrays?\u001b[39;00m\n\u001b[1;32m    918\u001b[0m \u001b[38;5;28;01melif\u001b[39;00m \u001b[38;5;28many\u001b[39m(x\u001b[38;5;241m.\u001b[39mis_record \u001b[38;5;28;01mfor\u001b[39;00m x \u001b[38;5;129;01min\u001b[39;00m contents):\n",
      "File \u001b[0;32m~/coffeafcc/development/fcc-dev/lib64/python3.12/site-packages/awkward/_broadcasting.py:671\u001b[0m, in \u001b[0;36mapply_step.<locals>.broadcast_any_list\u001b[0;34m()\u001b[0m\n\u001b[1;32m    669\u001b[0m \u001b[38;5;28;01mfor\u001b[39;00m x, x_is_string \u001b[38;5;129;01min\u001b[39;00m \u001b[38;5;28mzip\u001b[39m(inputs, input_is_string):\n\u001b[1;32m    670\u001b[0m     \u001b[38;5;28;01mif\u001b[39;00m \u001b[38;5;28misinstance\u001b[39m(x, listtypes) \u001b[38;5;129;01mand\u001b[39;00m \u001b[38;5;129;01mnot\u001b[39;00m x_is_string:\n\u001b[0;32m--> 671\u001b[0m         next_content \u001b[38;5;241m=\u001b[39m \u001b[43mbroadcast_to_offsets_avoiding_carry\u001b[49m\u001b[43m(\u001b[49m\u001b[43mx\u001b[49m\u001b[43m,\u001b[49m\u001b[43m \u001b[49m\u001b[43moffsets\u001b[49m\u001b[43m)\u001b[49m\n\u001b[1;32m    672\u001b[0m         nextinputs\u001b[38;5;241m.\u001b[39mappend(next_content)\n\u001b[1;32m    673\u001b[0m         nextparameters\u001b[38;5;241m.\u001b[39mappend(x\u001b[38;5;241m.\u001b[39m_parameters)\n",
      "File \u001b[0;32m~/coffeafcc/development/fcc-dev/lib64/python3.12/site-packages/awkward/_broadcasting.py:371\u001b[0m, in \u001b[0;36mbroadcast_to_offsets_avoiding_carry\u001b[0;34m(list_content, offsets)\u001b[0m\n\u001b[1;32m    369\u001b[0m         \u001b[38;5;28;01mreturn\u001b[39;00m list_content\u001b[38;5;241m.\u001b[39mcontent[:next_length]\n\u001b[1;32m    370\u001b[0m     \u001b[38;5;28;01melse\u001b[39;00m:\n\u001b[0;32m--> 371\u001b[0m         \u001b[38;5;28;01mreturn\u001b[39;00m \u001b[43mlist_content\u001b[49m\u001b[38;5;241;43m.\u001b[39;49m\u001b[43m_broadcast_tooffsets64\u001b[49m\u001b[43m(\u001b[49m\u001b[43moffsets\u001b[49m\u001b[43m)\u001b[49m\u001b[38;5;241m.\u001b[39mcontent\n\u001b[1;32m    372\u001b[0m \u001b[38;5;28;01melif\u001b[39;00m \u001b[38;5;28misinstance\u001b[39m(list_content, ListArray):\n\u001b[1;32m    373\u001b[0m     \u001b[38;5;66;03m# Is this list contiguous?\u001b[39;00m\n\u001b[1;32m    374\u001b[0m     \u001b[38;5;28;01mif\u001b[39;00m index_nplike\u001b[38;5;241m.\u001b[39marray_equal(\n\u001b[1;32m    375\u001b[0m         list_content\u001b[38;5;241m.\u001b[39mstarts\u001b[38;5;241m.\u001b[39mdata[\u001b[38;5;241m1\u001b[39m:], list_content\u001b[38;5;241m.\u001b[39mstops\u001b[38;5;241m.\u001b[39mdata[:\u001b[38;5;241m-\u001b[39m\u001b[38;5;241m1\u001b[39m]\n\u001b[1;32m    376\u001b[0m     ):\n\u001b[1;32m    377\u001b[0m         \u001b[38;5;66;03m# Does this list match the offsets?\u001b[39;00m\n",
      "File \u001b[0;32m~/coffeafcc/development/fcc-dev/lib64/python3.12/site-packages/awkward/contents/listoffsetarray.py:411\u001b[0m, in \u001b[0;36mListOffsetArray._broadcast_tooffsets64\u001b[0;34m(self, offsets)\u001b[0m\n\u001b[1;32m    406\u001b[0m     next_content \u001b[38;5;241m=\u001b[39m \u001b[38;5;28mself\u001b[39m\u001b[38;5;241m.\u001b[39m_content[this_start:]\n\u001b[1;32m    408\u001b[0m \u001b[38;5;28;01mif\u001b[39;00m index_nplike\u001b[38;5;241m.\u001b[39mknown_data \u001b[38;5;129;01mand\u001b[39;00m \u001b[38;5;129;01mnot\u001b[39;00m index_nplike\u001b[38;5;241m.\u001b[39marray_equal(\n\u001b[1;32m    409\u001b[0m     this_zero_offsets, offsets\u001b[38;5;241m.\u001b[39mdata\n\u001b[1;32m    410\u001b[0m ):\n\u001b[0;32m--> 411\u001b[0m     \u001b[38;5;28;01mraise\u001b[39;00m \u001b[38;5;167;01mValueError\u001b[39;00m(\u001b[38;5;124m\"\u001b[39m\u001b[38;5;124mcannot broadcast nested list\u001b[39m\u001b[38;5;124m\"\u001b[39m)\n\u001b[1;32m    413\u001b[0m \u001b[38;5;28;01mreturn\u001b[39;00m ListOffsetArray(\n\u001b[1;32m    414\u001b[0m     offsets, next_content[: offsets[\u001b[38;5;241m-\u001b[39m\u001b[38;5;241m1\u001b[39m]], parameters\u001b[38;5;241m=\u001b[39m\u001b[38;5;28mself\u001b[39m\u001b[38;5;241m.\u001b[39m_parameters\n\u001b[1;32m    415\u001b[0m )\n",
      "\u001b[0;31mValueError\u001b[0m: cannot broadcast nested list",
      "\u001b[0m\nThis error occurred while calling\n\n    ak.zip(\n        {'r0': <Array [[0, 1, 2, 3, ..., 19, 20, 21, 22], ...] type='100000 *...\n        with_name = 'test'\n    )"
     ]
    }
   ],
   "source": [
    "ak.zip(\n",
    "    {'r0':r0, 'r1':r1, 'r2':r2, 'r3':r3, 'r4':r4, 'r5':r5},\n",
    "    with_name='test'\n",
    ")"
   ]
  },
  {
   "cell_type": "markdown",
   "id": "35d9db7c-c72f-4281-9689-25b156ebb786",
   "metadata": {},
   "source": [
    "## Solution: A Suitable schema that doesnt zip indexed branches"
   ]
  },
  {
   "cell_type": "markdown",
   "id": "02bf2489-8e19-4924-b8de-66dbdd873c64",
   "metadata": {},
   "source": [
    "#### Added a wrapper class FCC to choose variants of the fccschema"
   ]
  },
  {
   "cell_type": "code",
   "execution_count": 65,
   "id": "689212c9-9dd7-4246-8759-b876982b2fe6",
   "metadata": {},
   "outputs": [],
   "source": [
    "from coffea.nanoevents import NanoEventsFactory, FCC"
   ]
  },
  {
   "cell_type": "code",
   "execution_count": 66,
   "id": "87a0db77-31d7-4d6f-8008-18f4dd3bec37",
   "metadata": {},
   "outputs": [
    {
     "data": {
      "text/plain": [
       "coffea.nanoevents.schemas.fcc.FCCSchema"
      ]
     },
     "execution_count": 66,
     "metadata": {},
     "output_type": "execute_result"
    }
   ],
   "source": [
    "# By default returns the latest version of the schema that does not zip the indexed branches\n",
    "# Works in both delayed (delayed=True) and in eager mode (delayed=False)\n",
    "FCC.get_schema() #same as FCC.get_schema(version = \"latest\", zip_missing=True)"
   ]
  },
  {
   "cell_type": "code",
   "execution_count": 68,
   "id": "3bfc216f-bafc-4cef-b22d-212d854a33fd",
   "metadata": {},
   "outputs": [
    {
     "data": {
      "text/plain": [
       "coffea.nanoevents.schemas.fcc.FCCSchema_zip_missing"
      ]
     },
     "execution_count": 68,
     "metadata": {},
     "output_type": "execute_result"
    }
   ],
   "source": [
    "# Returns the latest version of the schema that zips the indexed branches\n",
    "# Works only in delayed (delayed=True)\n",
    "# Empty branches get corrupted\n",
    "FCC.get_schema(version = \"latest\", zip_missing=True)"
   ]
  },
  {
   "cell_type": "code",
   "execution_count": 69,
   "id": "25f7077e-3605-48c8-8e66-072b7bdf8ed8",
   "metadata": {},
   "outputs": [],
   "source": [
    "test_file = 'root://eospublic.cern.ch//eos/experiment/fcc/ee/generation/DelphesEvents/spring2021/IDEA/p8_ee_ZH_ecm240/events_101027117.root'\n",
    "events = NanoEventsFactory.from_root(\n",
    "    test_file+\":events\",\n",
    "    entry_stop=100,\n",
    "    schemaclass= FCC.get_schema(),\n",
    "    delayed = False\n",
    ").events()"
   ]
  },
  {
   "cell_type": "code",
   "execution_count": 70,
   "id": "a1d1436f-e52b-4aa5-9f8e-9dfc766504e8",
   "metadata": {},
   "outputs": [
    {
     "data": {
      "text/html": [
       "<pre>[{AllMuonidx0: [], EFlowNeutralHadron: [], EFlowNeutralHadronidx0: [], ...},\n",
       " {AllMuonidx0: [{collectionID: 7, ...}], EFlowNeutralHadron: [], ...},\n",
       " {AllMuonidx0: [], EFlowNeutralHadron: [], EFlowNeutralHadronidx0: [], ...},\n",
       " {AllMuonidx0: [], EFlowNeutralHadron: [], EFlowNeutralHadronidx0: [], ...},\n",
       " {AllMuonidx0: [], EFlowNeutralHadron: [], EFlowNeutralHadronidx0: [], ...},\n",
       " {AllMuonidx0: [{collectionID: 7, ...}], EFlowNeutralHadron: [], ...},\n",
       " {AllMuonidx0: [], EFlowNeutralHadron: [], EFlowNeutralHadronidx0: [], ...},\n",
       " {AllMuonidx0: [], EFlowNeutralHadron: [], EFlowNeutralHadronidx0: [], ...},\n",
       " {AllMuonidx0: [], EFlowNeutralHadron: [], EFlowNeutralHadronidx0: [], ...},\n",
       " {AllMuonidx0: [], EFlowNeutralHadron: [], EFlowNeutralHadronidx0: [], ...},\n",
       " ...,\n",
       " {AllMuonidx0: [{collectionID: 7, ...}], EFlowNeutralHadron: [], ...},\n",
       " {AllMuonidx0: [], EFlowNeutralHadron: [], EFlowNeutralHadronidx0: [], ...},\n",
       " {AllMuonidx0: [{...}, {...}], EFlowNeutralHadron: [], ...},\n",
       " {AllMuonidx0: [{collectionID: 7, ...}], EFlowNeutralHadron: [], ...},\n",
       " {AllMuonidx0: [], EFlowNeutralHadron: [], EFlowNeutralHadronidx0: [], ...},\n",
       " {AllMuonidx0: [], EFlowNeutralHadron: [], EFlowNeutralHadronidx0: [], ...},\n",
       " {AllMuonidx0: [], EFlowNeutralHadron: [], EFlowNeutralHadronidx0: [], ...},\n",
       " {AllMuonidx0: [], EFlowNeutralHadron: [], EFlowNeutralHadronidx0: [], ...},\n",
       " {AllMuonidx0: [], EFlowNeutralHadron: [], EFlowNeutralHadronidx0: [], ...}]\n",
       "----------------------------------------------------------------------------\n",
       "type: 100 * event</pre>"
      ],
      "text/plain": [
       "<NanoEventsArray [FCC Events, FCC Events, ..., FCC Events] type='100 * event'>"
      ]
     },
     "execution_count": 70,
     "metadata": {},
     "output_type": "execute_result"
    }
   ],
   "source": [
    "events"
   ]
  },
  {
   "cell_type": "code",
   "execution_count": 71,
   "id": "2834c2a4-e5db-4697-bb18-66383944aaf3",
   "metadata": {},
   "outputs": [
    {
     "data": {
      "text/plain": [
       "['AllMuonidx0',\n",
       " 'EFlowNeutralHadron',\n",
       " 'EFlowNeutralHadronidx0',\n",
       " 'EFlowNeutralHadronidx1',\n",
       " 'EFlowNeutralHadronidx2',\n",
       " 'EFlowPhoton',\n",
       " 'EFlowPhotonidx0',\n",
       " 'EFlowPhotonidx1',\n",
       " 'EFlowPhotonidx2',\n",
       " 'EFlowTrack',\n",
       " 'EFlowTrackidx0',\n",
       " 'EFlowTrackidx1',\n",
       " 'Electronidx0',\n",
       " 'Jet',\n",
       " 'Jetidx0',\n",
       " 'Jetidx1',\n",
       " 'Jetidx2',\n",
       " 'Jetidx3',\n",
       " 'Jetidx4',\n",
       " 'Jetidx5',\n",
       " 'MCRecoAssociations',\n",
       " 'MCRecoAssociationsidx0',\n",
       " 'MCRecoAssociationsidx1',\n",
       " 'MissingET',\n",
       " 'MissingETidx0',\n",
       " 'MissingETidx1',\n",
       " 'MissingETidx2',\n",
       " 'MissingETidx3',\n",
       " 'MissingETidx4',\n",
       " 'MissingETidx5',\n",
       " 'Muonidx0',\n",
       " 'Particle',\n",
       " 'ParticleIDs',\n",
       " 'Particleidx0',\n",
       " 'Particleidx1',\n",
       " 'Photonidx0',\n",
       " 'ReconstructedParticles',\n",
       " 'ReconstructedParticlesidx0',\n",
       " 'ReconstructedParticlesidx1',\n",
       " 'ReconstructedParticlesidx2',\n",
       " 'ReconstructedParticlesidx3',\n",
       " 'ReconstructedParticlesidx4',\n",
       " 'ReconstructedParticlesidx5']"
      ]
     },
     "execution_count": 71,
     "metadata": {},
     "output_type": "execute_result"
    }
   ],
   "source": [
    "events.fields"
   ]
  },
  {
   "cell_type": "code",
   "execution_count": 72,
   "id": "51cce83e-a3ef-4a9b-8a65-07686b63e07a",
   "metadata": {},
   "outputs": [
    {
     "data": {
      "text/plain": [
       "['E',\n",
       " 'charge',\n",
       " 'clusters_begin',\n",
       " 'clusters_end',\n",
       " 'covMatrix[10]',\n",
       " 'goodnessOfPID',\n",
       " 'mass',\n",
       " 'particleIDs_begin',\n",
       " 'particleIDs_end',\n",
       " 'particles_begin',\n",
       " 'particles_end',\n",
       " 'px',\n",
       " 'py',\n",
       " 'pz',\n",
       " 'referencePoint.x',\n",
       " 'referencePoint.y',\n",
       " 'referencePoint.z',\n",
       " 'tracks_begin',\n",
       " 'tracks_end',\n",
       " 'type']"
      ]
     },
     "execution_count": 72,
     "metadata": {},
     "output_type": "execute_result"
    }
   ],
   "source": [
    "events.ReconstructedParticles.fields"
   ]
  },
  {
   "cell_type": "code",
   "execution_count": 73,
   "id": "563449b1-782b-4aaa-a145-c0a514905e3b",
   "metadata": {},
   "outputs": [
    {
     "data": {
      "text/html": [
       "<pre>[[{collectionID: 8, index: 0}, {...}, ..., {...}, {collectionID: 8, index: 22}],\n",
       " [{collectionID: 8, index: 0}, {...}, ..., {...}, {collectionID: 8, index: 27}],\n",
       " [{collectionID: 8, index: 0}, {...}, ..., {...}, {collectionID: 8, index: 37}],\n",
       " [{collectionID: 8, index: 0}, {...}, ..., {...}, {collectionID: 8, index: 28}],\n",
       " [{collectionID: 8, index: 0}, {...}, ..., {...}, {collectionID: 8, index: 21}],\n",
       " [{collectionID: 8, index: 0}, {...}, ..., {...}, {collectionID: 8, index: 26}],\n",
       " [{collectionID: 8, index: 0}, {...}, ..., {...}, {collectionID: 8, index: 31}],\n",
       " [{collectionID: 8, index: 0}, {...}, ..., {...}, {collectionID: 8, index: 37}],\n",
       " [{collectionID: 8, index: 0}, {...}, ..., {...}, {collectionID: 8, index: 16}],\n",
       " [{collectionID: 8, index: 0}, {...}, ..., {...}, {collectionID: 8, index: 29}],\n",
       " ...,\n",
       " [{collectionID: 8, index: 0}, {...}, ..., {...}, {collectionID: 8, index: 19}],\n",
       " [{collectionID: 8, index: 0}, {...}, ..., {...}, {collectionID: 8, index: 20}],\n",
       " [{collectionID: 8, index: 0}, {...}, ..., {...}, {collectionID: 8, index: 17}],\n",
       " [{collectionID: 8, index: 0}, {...}, ..., {...}, {collectionID: 8, index: 33}],\n",
       " [{collectionID: 8, index: 0}, {...}, ..., {...}, {collectionID: 8, index: 41}],\n",
       " [{collectionID: 8, index: 0}, {...}, ..., {...}, {collectionID: 8, index: 21}],\n",
       " [{collectionID: 8, index: 0}, {...}, ..., {...}, {collectionID: 8, index: 40}],\n",
       " [{collectionID: 8, index: 0}, {...}, ..., {...}, {collectionID: 8, index: 41}],\n",
       " [{collectionID: 8, index: 0}, {...}, ..., {...}, {collectionID: 8, index: 5}]]\n",
       "-------------------------------------------------------------------------------------------\n",
       "type: 100 * var * NanoCollection[\n",
       "    collectionID: int32[parameters={&quot;__doc__&quot;: &quot;collectionID[ReconstructedParticles#0_]&quot;}],\n",
       "    index: int32[parameters={&quot;__doc__&quot;: &quot;index[ReconstructedParticles#0_]&quot;}]\n",
       "]</pre>"
      ],
      "text/plain": [
       "<NanoCollectionArray [[{collectionID: 8, ...}, ...], ...] type='100 * var *...'>"
      ]
     },
     "execution_count": 73,
     "metadata": {},
     "output_type": "execute_result"
    }
   ],
   "source": [
    "events.ReconstructedParticlesidx0"
   ]
  },
  {
   "cell_type": "code",
   "execution_count": 74,
   "id": "1f170713-6c44-49ae-bb6f-79791d0af64a",
   "metadata": {},
   "outputs": [
    {
     "data": {
      "text/html": [
       "<pre>[[],\n",
       " [],\n",
       " [],\n",
       " [],\n",
       " [],\n",
       " [],\n",
       " [],\n",
       " [],\n",
       " [],\n",
       " [],\n",
       " ...,\n",
       " [],\n",
       " [],\n",
       " [],\n",
       " [],\n",
       " [],\n",
       " [],\n",
       " [],\n",
       " [],\n",
       " []]\n",
       "-------------------------------------------------------------------------------------------\n",
       "type: 100 * var * NanoCollection[\n",
       "    collectionID: int32[parameters={&quot;__doc__&quot;: &quot;collectionID[ReconstructedParticles#2_]&quot;}],\n",
       "    index: int32[parameters={&quot;__doc__&quot;: &quot;index[ReconstructedParticles#2_]&quot;}]\n",
       "]</pre>"
      ],
      "text/plain": [
       "<NanoCollectionArray [[], [], [], [], ..., [], [], [], []] type='100 * var ...'>"
      ]
     },
     "execution_count": 74,
     "metadata": {},
     "output_type": "execute_result"
    }
   ],
   "source": [
    "events.ReconstructedParticlesidx2"
   ]
  },
  {
   "cell_type": "code",
   "execution_count": 75,
   "id": "81da582e-95c8-483d-9703-0c2f65e81136",
   "metadata": {},
   "outputs": [
    {
     "data": {
      "text/plain": [
       "['collectionID', 'index']"
      ]
     },
     "execution_count": 75,
     "metadata": {},
     "output_type": "execute_result"
    }
   ],
   "source": [
    "events.ReconstructedParticlesidx1.fields"
   ]
  },
  {
   "cell_type": "code",
   "execution_count": 76,
   "id": "d64abd3b-0439-4798-b6b2-583d6049bcf9",
   "metadata": {},
   "outputs": [
    {
     "data": {
      "text/html": [
       "<pre>[[0, 1, 2, 3, 4, 5, 6, 7, 8, 9, ..., 27, 28, 29, 30, 31, 32, 33, 34, 35, 36],\n",
       " [0, 1, 2, 3, 4, 5, 6, 7, 8, 9, ..., 38, 39, 40, 41, 42, 43, 44, 45, 46, 47],\n",
       " [0, 1, 2, 3, 4, 5, 6, 7, 8, 9, ..., 27, 28, 29, 30, 31, 32, 33, 34, 35, 36],\n",
       " [0, 1, 2, 3, 4, 5, 6, 7, 8, 9, ..., 36, 37, 38, 39, 40, 41, 42, 43, 44, 45],\n",
       " [0, 1, 2, 3, 4, 5, 6, 7, 8, 9, ..., 13, 14, 15, 16, 17, 18, 19, 20, 21, 22],\n",
       " [0, 1, 2, 3, 4, 5, 6, 7, 8, 9, ..., 24, 25, 26, 27, 28, 29, 30, 31, 32, 33],\n",
       " [0, 1, 2, 3, 4, 5, 6, 7, 8, 9, ..., 20, 21, 22, 23, 24, 25, 26, 27, 28, 29],\n",
       " [0, 1, 2, 3, 4, 5, 6, 7, 8, 9, ..., 45, 46, 47, 48, 49, 50, 51, 52, 53, 54],\n",
       " [0, 1, 2, 3, 4, 5, 6, 7, 8, 9, ..., 17, 18, 19, 20, 21, 22, 23, 24, 25, 26],\n",
       " [0, 1, 2, 3, 4, 5, 6, 7, 8, 9, ..., 19, 20, 21, 22, 23, 24, 25, 26, 27, 28],\n",
       " ...,\n",
       " [0, 1, 2, 3, 4, 5, 6, 7, 8, 9, ..., 23, 24, 25, 26, 27, 28, 29, 30, 31, 32],\n",
       " [0, 1, 2, 3, 4, 5, 6, 7, 8, 9, ..., 15, 16, 17, 18, 19, 20, 21, 22, 23, 24],\n",
       " [0, 1, 2, 3, 4, 5, 6, 7, 8, 9, ..., 26, 27, 28, 29, 30, 31, 32, 33, 34, 35],\n",
       " [0, 1, 2, 3, 4, 5, 6, 7, 8, 9, ..., 25, 26, 27, 28, 29, 30, 31, 32, 33, 34],\n",
       " [0, 1, 2, 3, 4, 5, 6, 7, 8, 9, ..., 43, 44, 45, 46, 47, 48, 49, 50, 51, 52],\n",
       " [0, 1, 2, 3, 4, 5, 6, 7, 8, 9, ..., 13, 14, 15, 16, 17, 18, 19, 20, 21, 22],\n",
       " [0, 1, 2, 3, 4, 5, 6, 7, 8, 9, ..., 37, 38, 39, 40, 41, 42, 43, 44, 45, 46],\n",
       " [0, 1, 2, 3, 4, 5, 6, 7, 8, 9, ..., 38, 39, 40, 41, 42, 43, 44, 45, 46, 47],\n",
       " [0, 1, 2, 3, 4, 5, 6, 7, 8, 9, 10, 11, 12, 13, 14, 15, 16, 17, 18]]\n",
       "-----------------------------------------------------------------------------------\n",
       "type: 100 * var * int32[parameters={&quot;__doc__&quot;: &quot;index[ReconstructedParticles#1_]&quot;}]</pre>"
      ],
      "text/plain": [
       "<Array [[0, 1, 2, 3, ..., 33, 34, 35, 36], ...] type='100 * var * int32[par...'>"
      ]
     },
     "execution_count": 76,
     "metadata": {},
     "output_type": "execute_result"
    }
   ],
   "source": [
    "events.ReconstructedParticlesidx1.index"
   ]
  },
  {
   "cell_type": "code",
   "execution_count": 77,
   "id": "235896a0-5100-4d6d-b59c-7fc34e310aa5",
   "metadata": {},
   "outputs": [
    {
     "data": {
      "text/html": [
       "<pre>[[],\n",
       " [],\n",
       " [],\n",
       " [],\n",
       " [],\n",
       " [],\n",
       " [],\n",
       " [],\n",
       " [],\n",
       " [],\n",
       " ...,\n",
       " [],\n",
       " [],\n",
       " [RecoParticle, RecoParticle],\n",
       " [],\n",
       " [],\n",
       " [],\n",
       " [],\n",
       " [],\n",
       " []]\n",
       "----------------------------------------------------------------------------------------------------------------------------------------------------------------\n",
       "type: 100 * var * RecoParticle[\n",
       "    E: float32[parameters={&quot;__doc__&quot;: &quot;energy[ReconstructedParticles_]&quot;}],\n",
       "    charge: float32[parameters={&quot;__doc__&quot;: &quot;charge[ReconstructedParticles_]&quot;}],\n",
       "    clusters_begin: uint32[parameters={&quot;__doc__&quot;: &quot;clusters_begin[ReconstructedParticles_]&quot;}],\n",
       "    clusters_end: uint32[parameters={&quot;__doc__&quot;: &quot;clusters_end[ReconstructedParticles_]&quot;}],\n",
       "    &quot;covMatrix[10]&quot;: [10 * float32[parameters={&quot;__doc__&quot;: &quot;covMatrix[ReconstructedParticles_]&quot;}], parameters={&quot;__doc__&quot;: &quot;covMatrix[ReconstructedParticles_]&quot;}],\n",
       "    goodnessOfPID: float32[parameters={&quot;__doc__&quot;: &quot;goodnessOfPID[ReconstructedParticles_]&quot;}],\n",
       "    mass: float32[parameters={&quot;__doc__&quot;: &quot;mass[ReconstructedParticles_]&quot;}],\n",
       "    particleIDs_begin: uint32[parameters={&quot;__doc__&quot;: &quot;particleIDs_begin[ReconstructedParticles_]&quot;}],\n",
       "    particleIDs_end: uint32[parameters={&quot;__doc__&quot;: &quot;particleIDs_end[ReconstructedParticles_]&quot;}],\n",
       "    particles_begin: uint32[parameters={&quot;__doc__&quot;: &quot;particles_begin[ReconstructedParticles_]&quot;}],\n",
       "    particles_end: uint32[parameters={&quot;__doc__&quot;: &quot;particles_end[ReconstructedParticles_]&quot;}],\n",
       "    px: float32[parameters={&quot;__doc__&quot;: &quot;x[ReconstructedParticles_]&quot;}],\n",
       "    py: float32[parameters={&quot;__doc__&quot;: &quot;y[ReconstructedParticles_]&quot;}],\n",
       "    pz: float32[parameters={&quot;__doc__&quot;: &quot;z[ReconstructedParticles_]&quot;}],\n",
       "    &quot;referencePoint.x&quot;: float32[parameters={&quot;__doc__&quot;: &quot;x[ReconstructedParticles_]&quot;}],\n",
       "    &quot;referencePoint.y&quot;: float32[parameters={&quot;__doc__&quot;: &quot;y[ReconstructedParticles_]&quot;}],\n",
       "    &quot;referencePoint.z&quot;: float32[parameters={&quot;__doc__&quot;: &quot;z[ReconstructedParticles_]&quot;}],\n",
       "    tracks_begin: uint32[parameters={&quot;__doc__&quot;: &quot;tracks_begin[ReconstructedParticles_]&quot;}],\n",
       "    tracks_end: uint32[parameters={&quot;__doc__&quot;: &quot;tracks_end[ReconstructedParticles_]&quot;}],\n",
       "    type: int32[parameters={&quot;__doc__&quot;: &quot;type[ReconstructedParticles_]&quot;}], \n",
       "parameters={&quot;collection_name&quot;: &quot;ReconstructedParticles&quot;}]</pre>"
      ],
      "text/plain": [
       "<RecoParticleArray [[], [], [], [], ..., [], [], [], []] type='100 * var * ...'>"
      ]
     },
     "execution_count": 77,
     "metadata": {},
     "output_type": "execute_result"
    }
   ],
   "source": [
    "Muons = events.ReconstructedParticles.match_collection(events.Muonidx0)\n",
    "Muons"
   ]
  },
  {
   "cell_type": "code",
   "execution_count": 78,
   "id": "cc9208d7-cb57-4398-a577-57fb6bc9faf6",
   "metadata": {},
   "outputs": [
    {
     "data": {
      "text/html": [
       "<pre>[[],\n",
       " [],\n",
       " [],\n",
       " [],\n",
       " [],\n",
       " [],\n",
       " [],\n",
       " [],\n",
       " [],\n",
       " [],\n",
       " ...,\n",
       " [],\n",
       " [],\n",
       " [0.0191, 0.011],\n",
       " [],\n",
       " [],\n",
       " [],\n",
       " [],\n",
       " [],\n",
       " []]\n",
       "-------------------------\n",
       "type: 100 * var * float32</pre>"
      ],
      "text/plain": [
       "<Array [[], [], [], [], [], ..., [], [], [], [], []] type='100 * var * float32'>"
      ]
     },
     "execution_count": 78,
     "metadata": {},
     "output_type": "execute_result"
    }
   ],
   "source": [
    "Muons.absolute_mass"
   ]
  },
  {
   "cell_type": "markdown",
   "id": "53e9511f-72b0-411f-b49d-222993879068",
   "metadata": {},
   "source": [
    "## Check the code [here](https://github.com/prayagyadav/coffea/blob/master/src/coffea/nanoevents/schemas/fcc.py)"
   ]
  }
 ],
 "metadata": {
  "kernelspec": {
   "display_name": "fcc-dev",
   "language": "python",
   "name": "fcc-dev"
  },
  "language_info": {
   "codemirror_mode": {
    "name": "ipython",
    "version": 3
   },
   "file_extension": ".py",
   "mimetype": "text/x-python",
   "name": "python",
   "nbconvert_exporter": "python",
   "pygments_lexer": "ipython3",
   "version": "3.12.4"
  }
 },
 "nbformat": 4,
 "nbformat_minor": 5
}
