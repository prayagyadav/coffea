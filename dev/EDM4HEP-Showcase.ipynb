{
 "cells": [
  {
   "cell_type": "markdown",
   "id": "04c9ff46-77c5-424e-a514-5de45929b842",
   "metadata": {},
   "source": [
    "# Newstyle EDM4HEPSchema showcase"
   ]
  },
  {
   "cell_type": "markdown",
   "id": "5402ba79-4564-43ae-a19f-d55d54be7537",
   "metadata": {
    "jp-MarkdownHeadingCollapsed": true
   },
   "source": [
    "## Load the events"
   ]
  },
  {
   "cell_type": "code",
   "execution_count": 37,
   "id": "23a2852a-7d9d-44d1-bee9-66df18661561",
   "metadata": {},
   "outputs": [],
   "source": [
    "import awkward"
   ]
  },
  {
   "cell_type": "code",
   "execution_count": 1,
   "id": "6ca44c68-fd7b-4db7-b37b-6b2493a377d0",
   "metadata": {},
   "outputs": [
    {
     "name": "stderr",
     "output_type": "stream",
     "text": [
      "/home/prayag/coffeafcc/development/coffea/src/coffea/nanoevents/schemas/edm4hep.py:9: FutureWarning: In version 2025.1.0 (target date: 2024-12-31 11:59:59-06:00), this will be an error.\n",
      "To raise these warnings as errors (and get stack traces to find out where they're called), run\n",
      "    import warnings\n",
      "    warnings.filterwarnings(\"error\", module=\"coffea.*\")\n",
      "after the first `import coffea` or use `@pytest.mark.filterwarnings(\"error:::coffea.*\")` in pytest.\n",
      "Issue: coffea.nanoevents.methods.vector will be removed and replaced with scikit-hep vector. Nanoevents schemas internal to coffea will be migrated. Otherwise please consider using that package!.\n",
      "  from coffea.nanoevents.methods import vector\n",
      "/home/prayag/coffeafcc/development/coffea/src/coffea/nanoevents/schemas/edm4hep.py:431: UserWarning: No matched collection for edm4hep::Vertex found!\n",
      " skipping ...\n",
      "  warnings.warn(\n"
     ]
    }
   ],
   "source": [
    "fcc_edm4hep_test_file = \"../coffea-fcc-analyses/data/edm4hep1/p8_ee_WW_ecm240_edm4hep.root\"\n",
    "edm4hep_test_file = \"coffea/tests/samples/edm4hep.root\"\n",
    "\n",
    "from coffea.nanoevents import NanoEventsFactory, BaseSchema, EDM4HEPSchema, FCC\n",
    "\n",
    "# EDM4HEP root file with BaseSchema\n",
    "edm4hep_base_events = NanoEventsFactory.from_root(\n",
    "    edm4hep_test_file+\":events\",\n",
    "    entry_stop=100,\n",
    "    schemaclass=BaseSchema,\n",
    "    delayed = False,\n",
    "    uproot_options={\"filter_name\": lambda x: \"PARAMETERS\" not in x}\n",
    ").events()\n",
    "\n",
    "# EDM4HEP root file with EDM4HEPSchema\n",
    "edm4hep_events = NanoEventsFactory.from_root(\n",
    "    edm4hep_test_file+\":events\",\n",
    "    entry_stop=100,\n",
    "    schemaclass=EDM4HEPSchema,\n",
    "    delayed = False,\n",
    "    uproot_options={\"filter_name\": lambda x: \"PARAMETERS\" not in x}\n",
    ").events()\n",
    "\n",
    "# FCC EDM4HEP1 root file with BaseSchema\n",
    "fcc_base_events = NanoEventsFactory.from_root(\n",
    "    fcc_edm4hep_test_file+\":events\",\n",
    "    entry_stop=100,\n",
    "    schemaclass=BaseSchema,\n",
    "    delayed = False,\n",
    "    uproot_options={\"filter_name\": lambda x: \"PARAMETERS\" not in x}\n",
    ").events()\n",
    "\n",
    "# FCC EDM4HEP1 root file with newstyle edm4hep FCCSchema\n",
    "fcc_events = NanoEventsFactory.from_root(\n",
    "    fcc_edm4hep_test_file+\":events\",\n",
    "    entry_stop=100,\n",
    "    schemaclass=FCC.get_schema(\"latest\"),\n",
    "    delayed = False,\n",
    "    uproot_options={\"filter_name\": lambda x: \"PARAMETERS\" not in x}\n",
    ").events()"
   ]
  },
  {
   "cell_type": "code",
   "execution_count": 2,
   "id": "1980535a-2dcc-4cb0-9421-5a8e043dcc58",
   "metadata": {
    "scrolled": true
   },
   "outputs": [
    {
     "data": {
      "text/plain": [
       "['CaloHitContributionCollection/CaloHitContributionCollection.PDG',\n",
       " 'CaloHitContributionCollection/CaloHitContributionCollection.energy',\n",
       " 'CaloHitContributionCollection/CaloHitContributionCollection.time',\n",
       " 'CaloHitContributionCollection/CaloHitContributionCollection.stepPosition.x',\n",
       " 'CaloHitContributionCollection/CaloHitContributionCollection.stepPosition.y',\n",
       " 'CaloHitContributionCollection/CaloHitContributionCollection.stepPosition.z',\n",
       " '_CaloHitContributionCollection_particle/_CaloHitContributionCollection_particle.index',\n",
       " '_CaloHitContributionCollection_particle/_CaloHitContributionCollection_particle.collectionID',\n",
       " 'CaloHitMCParticleLinkCollection/CaloHitMCParticleLinkCollection.weight',\n",
       " '_CaloHitMCParticleLinkCollection_from/_CaloHitMCParticleLinkCollection_from.index',\n",
       " '_CaloHitMCParticleLinkCollection_from/_CaloHitMCParticleLinkCollection_from.collectionID',\n",
       " '_CaloHitMCParticleLinkCollection_to/_CaloHitMCParticleLinkCollection_to.index',\n",
       " '_CaloHitMCParticleLinkCollection_to/_CaloHitMCParticleLinkCollection_to.collectionID',\n",
       " 'CaloHitSimCaloHitLinkCollection/CaloHitSimCaloHitLinkCollection.weight',\n",
       " '_CaloHitSimCaloHitLinkCollection_from/_CaloHitSimCaloHitLinkCollection_from.index',\n",
       " '_CaloHitSimCaloHitLinkCollection_from/_CaloHitSimCaloHitLinkCollection_from.collectionID',\n",
       " '_CaloHitSimCaloHitLinkCollection_to/_CaloHitSimCaloHitLinkCollection_to.index',\n",
       " '_CaloHitSimCaloHitLinkCollection_to/_CaloHitSimCaloHitLinkCollection_to.collectionID',\n",
       " 'CalorimeterHitCollection/CalorimeterHitCollection.cellID',\n",
       " 'CalorimeterHitCollection/CalorimeterHitCollection.energy',\n",
       " 'CalorimeterHitCollection/CalorimeterHitCollection.energyError',\n",
       " 'CalorimeterHitCollection/CalorimeterHitCollection.time',\n",
       " 'CalorimeterHitCollection/CalorimeterHitCollection.position.x',\n",
       " 'CalorimeterHitCollection/CalorimeterHitCollection.position.y',\n",
       " 'CalorimeterHitCollection/CalorimeterHitCollection.position.z',\n",
       " 'CalorimeterHitCollection/CalorimeterHitCollection.type',\n",
       " 'ClusterCollection/ClusterCollection.type',\n",
       " 'ClusterCollection/ClusterCollection.energy',\n",
       " 'ClusterCollection/ClusterCollection.energyError',\n",
       " 'ClusterCollection/ClusterCollection.position.x',\n",
       " 'ClusterCollection/ClusterCollection.position.y',\n",
       " 'ClusterCollection/ClusterCollection.position.z',\n",
       " 'ClusterCollection/ClusterCollection.positionError.values[6]',\n",
       " 'ClusterCollection/ClusterCollection.iTheta',\n",
       " 'ClusterCollection/ClusterCollection.phi',\n",
       " 'ClusterCollection/ClusterCollection.directionError.x',\n",
       " 'ClusterCollection/ClusterCollection.directionError.y',\n",
       " 'ClusterCollection/ClusterCollection.directionError.z',\n",
       " 'ClusterCollection/ClusterCollection.shapeParameters_begin',\n",
       " 'ClusterCollection/ClusterCollection.shapeParameters_end',\n",
       " 'ClusterCollection/ClusterCollection.subdetectorEnergies_begin',\n",
       " 'ClusterCollection/ClusterCollection.subdetectorEnergies_end',\n",
       " 'ClusterCollection/ClusterCollection.clusters_begin',\n",
       " 'ClusterCollection/ClusterCollection.clusters_end',\n",
       " 'ClusterCollection/ClusterCollection.hits_begin',\n",
       " 'ClusterCollection/ClusterCollection.hits_end',\n",
       " '_ClusterCollection_clusters/_ClusterCollection_clusters.index',\n",
       " '_ClusterCollection_clusters/_ClusterCollection_clusters.collectionID',\n",
       " '_ClusterCollection_hits/_ClusterCollection_hits.index',\n",
       " '_ClusterCollection_hits/_ClusterCollection_hits.collectionID',\n",
       " '_ClusterCollection_shapeParameters',\n",
       " '_ClusterCollection_subdetectorEnergies',\n",
       " 'ClusterMCParticleLinkCollection/ClusterMCParticleLinkCollection.weight',\n",
       " '_ClusterMCParticleLinkCollection_from/_ClusterMCParticleLinkCollection_from.index',\n",
       " '_ClusterMCParticleLinkCollection_from/_ClusterMCParticleLinkCollection_from.collectionID',\n",
       " '_ClusterMCParticleLinkCollection_to/_ClusterMCParticleLinkCollection_to.index',\n",
       " '_ClusterMCParticleLinkCollection_to/_ClusterMCParticleLinkCollection_to.collectionID',\n",
       " 'EventHeader/EventHeader.eventNumber',\n",
       " 'EventHeader/EventHeader.runNumber',\n",
       " 'EventHeader/EventHeader.timeStamp',\n",
       " 'EventHeader/EventHeader.weight',\n",
       " 'EventHeader/EventHeader.weights_begin',\n",
       " 'EventHeader/EventHeader.weights_end',\n",
       " '_EventHeader_weights',\n",
       " 'GeneratorEventParametersCollection/GeneratorEventParametersCollection.eventScale',\n",
       " 'GeneratorEventParametersCollection/GeneratorEventParametersCollection.alphaQED',\n",
       " 'GeneratorEventParametersCollection/GeneratorEventParametersCollection.alphaQCD',\n",
       " 'GeneratorEventParametersCollection/GeneratorEventParametersCollection.signalProcessId',\n",
       " 'GeneratorEventParametersCollection/GeneratorEventParametersCollection.sqrts',\n",
       " 'GeneratorEventParametersCollection/GeneratorEventParametersCollection.crossSections_begin',\n",
       " 'GeneratorEventParametersCollection/GeneratorEventParametersCollection.crossSections_end',\n",
       " 'GeneratorEventParametersCollection/GeneratorEventParametersCollection.crossSectionErrors_begin',\n",
       " 'GeneratorEventParametersCollection/GeneratorEventParametersCollection.crossSectionErrors_end',\n",
       " 'GeneratorEventParametersCollection/GeneratorEventParametersCollection.signalVertex_begin',\n",
       " 'GeneratorEventParametersCollection/GeneratorEventParametersCollection.signalVertex_end',\n",
       " '_GeneratorEventParametersCollection_signalVertex/_GeneratorEventParametersCollection_signalVertex.index',\n",
       " '_GeneratorEventParametersCollection_signalVertex/_GeneratorEventParametersCollection_signalVertex.collectionID',\n",
       " '_GeneratorEventParametersCollection_crossSections',\n",
       " '_GeneratorEventParametersCollection_crossSectionErrors',\n",
       " 'GeneratorPdfInfoCollection/GeneratorPdfInfoCollection.partonId[2]',\n",
       " 'GeneratorPdfInfoCollection/GeneratorPdfInfoCollection.lhapdfId[2]',\n",
       " 'GeneratorPdfInfoCollection/GeneratorPdfInfoCollection.x[2]',\n",
       " 'GeneratorPdfInfoCollection/GeneratorPdfInfoCollection.xf[2]',\n",
       " 'GeneratorPdfInfoCollection/GeneratorPdfInfoCollection.scale',\n",
       " 'MCParticleCollection/MCParticleCollection.PDG',\n",
       " 'MCParticleCollection/MCParticleCollection.generatorStatus',\n",
       " 'MCParticleCollection/MCParticleCollection.simulatorStatus',\n",
       " 'MCParticleCollection/MCParticleCollection.charge',\n",
       " 'MCParticleCollection/MCParticleCollection.time',\n",
       " 'MCParticleCollection/MCParticleCollection.mass',\n",
       " 'MCParticleCollection/MCParticleCollection.vertex.x',\n",
       " 'MCParticleCollection/MCParticleCollection.vertex.y',\n",
       " 'MCParticleCollection/MCParticleCollection.vertex.z',\n",
       " 'MCParticleCollection/MCParticleCollection.endpoint.x',\n",
       " 'MCParticleCollection/MCParticleCollection.endpoint.y',\n",
       " 'MCParticleCollection/MCParticleCollection.endpoint.z',\n",
       " 'MCParticleCollection/MCParticleCollection.momentum.x',\n",
       " 'MCParticleCollection/MCParticleCollection.momentum.y',\n",
       " 'MCParticleCollection/MCParticleCollection.momentum.z',\n",
       " 'MCParticleCollection/MCParticleCollection.momentumAtEndpoint.x',\n",
       " 'MCParticleCollection/MCParticleCollection.momentumAtEndpoint.y',\n",
       " 'MCParticleCollection/MCParticleCollection.momentumAtEndpoint.z',\n",
       " 'MCParticleCollection/MCParticleCollection.spin.x',\n",
       " 'MCParticleCollection/MCParticleCollection.spin.y',\n",
       " 'MCParticleCollection/MCParticleCollection.spin.z',\n",
       " 'MCParticleCollection/MCParticleCollection.colorFlow.a',\n",
       " 'MCParticleCollection/MCParticleCollection.colorFlow.b',\n",
       " 'MCParticleCollection/MCParticleCollection.parents_begin',\n",
       " 'MCParticleCollection/MCParticleCollection.parents_end',\n",
       " 'MCParticleCollection/MCParticleCollection.daughters_begin',\n",
       " 'MCParticleCollection/MCParticleCollection.daughters_end',\n",
       " '_MCParticleCollection_parents/_MCParticleCollection_parents.index',\n",
       " '_MCParticleCollection_parents/_MCParticleCollection_parents.collectionID',\n",
       " '_MCParticleCollection_daughters/_MCParticleCollection_daughters.index',\n",
       " '_MCParticleCollection_daughters/_MCParticleCollection_daughters.collectionID',\n",
       " 'ParticleIDCollection/ParticleIDCollection.type',\n",
       " 'ParticleIDCollection/ParticleIDCollection.PDG',\n",
       " 'ParticleIDCollection/ParticleIDCollection.algorithmType',\n",
       " 'ParticleIDCollection/ParticleIDCollection.likelihood',\n",
       " 'ParticleIDCollection/ParticleIDCollection.parameters_begin',\n",
       " 'ParticleIDCollection/ParticleIDCollection.parameters_end',\n",
       " '_ParticleIDCollection_particle/_ParticleIDCollection_particle.index',\n",
       " '_ParticleIDCollection_particle/_ParticleIDCollection_particle.collectionID',\n",
       " '_ParticleIDCollection_parameters',\n",
       " 'RawCalorimeterHitCollection/RawCalorimeterHitCollection.cellID',\n",
       " 'RawCalorimeterHitCollection/RawCalorimeterHitCollection.amplitude',\n",
       " 'RawCalorimeterHitCollection/RawCalorimeterHitCollection.timeStamp',\n",
       " 'RawTimeSeriesCollection/RawTimeSeriesCollection.cellID',\n",
       " 'RawTimeSeriesCollection/RawTimeSeriesCollection.quality',\n",
       " 'RawTimeSeriesCollection/RawTimeSeriesCollection.time',\n",
       " 'RawTimeSeriesCollection/RawTimeSeriesCollection.charge',\n",
       " 'RawTimeSeriesCollection/RawTimeSeriesCollection.interval',\n",
       " 'RawTimeSeriesCollection/RawTimeSeriesCollection.adcCounts_begin',\n",
       " 'RawTimeSeriesCollection/RawTimeSeriesCollection.adcCounts_end',\n",
       " '_RawTimeSeriesCollection_adcCounts',\n",
       " 'RecDqdxCollection/RecDqdxCollection.dQdx.type',\n",
       " 'RecDqdxCollection/RecDqdxCollection.dQdx.value',\n",
       " 'RecDqdxCollection/RecDqdxCollection.dQdx.error',\n",
       " '_RecDqdxCollection_track/_RecDqdxCollection_track.index',\n",
       " '_RecDqdxCollection_track/_RecDqdxCollection_track.collectionID',\n",
       " 'RecoMCParticleLinkCollection/RecoMCParticleLinkCollection.weight',\n",
       " '_RecoMCParticleLinkCollection_from/_RecoMCParticleLinkCollection_from.index',\n",
       " '_RecoMCParticleLinkCollection_from/_RecoMCParticleLinkCollection_from.collectionID',\n",
       " '_RecoMCParticleLinkCollection_to/_RecoMCParticleLinkCollection_to.index',\n",
       " '_RecoMCParticleLinkCollection_to/_RecoMCParticleLinkCollection_to.collectionID',\n",
       " 'ReconstructedParticleCollection/ReconstructedParticleCollection.PDG',\n",
       " 'ReconstructedParticleCollection/ReconstructedParticleCollection.energy',\n",
       " 'ReconstructedParticleCollection/ReconstructedParticleCollection.momentum.x',\n",
       " 'ReconstructedParticleCollection/ReconstructedParticleCollection.momentum.y',\n",
       " 'ReconstructedParticleCollection/ReconstructedParticleCollection.momentum.z',\n",
       " 'ReconstructedParticleCollection/ReconstructedParticleCollection.referencePoint.x',\n",
       " 'ReconstructedParticleCollection/ReconstructedParticleCollection.referencePoint.y',\n",
       " 'ReconstructedParticleCollection/ReconstructedParticleCollection.referencePoint.z',\n",
       " 'ReconstructedParticleCollection/ReconstructedParticleCollection.charge',\n",
       " 'ReconstructedParticleCollection/ReconstructedParticleCollection.mass',\n",
       " 'ReconstructedParticleCollection/ReconstructedParticleCollection.goodnessOfPID',\n",
       " 'ReconstructedParticleCollection/ReconstructedParticleCollection.covMatrix.values[10]',\n",
       " 'ReconstructedParticleCollection/ReconstructedParticleCollection.clusters_begin',\n",
       " 'ReconstructedParticleCollection/ReconstructedParticleCollection.clusters_end',\n",
       " 'ReconstructedParticleCollection/ReconstructedParticleCollection.tracks_begin',\n",
       " 'ReconstructedParticleCollection/ReconstructedParticleCollection.tracks_end',\n",
       " 'ReconstructedParticleCollection/ReconstructedParticleCollection.particles_begin',\n",
       " 'ReconstructedParticleCollection/ReconstructedParticleCollection.particles_end',\n",
       " '_ReconstructedParticleCollection_clusters/_ReconstructedParticleCollection_clusters.index',\n",
       " '_ReconstructedParticleCollection_clusters/_ReconstructedParticleCollection_clusters.collectionID',\n",
       " '_ReconstructedParticleCollection_tracks/_ReconstructedParticleCollection_tracks.index',\n",
       " '_ReconstructedParticleCollection_tracks/_ReconstructedParticleCollection_tracks.collectionID',\n",
       " '_ReconstructedParticleCollection_particles/_ReconstructedParticleCollection_particles.index',\n",
       " '_ReconstructedParticleCollection_particles/_ReconstructedParticleCollection_particles.collectionID',\n",
       " '_ReconstructedParticleCollection_decayVertex/_ReconstructedParticleCollection_decayVertex.index',\n",
       " '_ReconstructedParticleCollection_decayVertex/_ReconstructedParticleCollection_decayVertex.collectionID',\n",
       " 'SimCalorimeterHitCollection/SimCalorimeterHitCollection.cellID',\n",
       " 'SimCalorimeterHitCollection/SimCalorimeterHitCollection.energy',\n",
       " 'SimCalorimeterHitCollection/SimCalorimeterHitCollection.position.x',\n",
       " 'SimCalorimeterHitCollection/SimCalorimeterHitCollection.position.y',\n",
       " 'SimCalorimeterHitCollection/SimCalorimeterHitCollection.position.z',\n",
       " 'SimCalorimeterHitCollection/SimCalorimeterHitCollection.contributions_begin',\n",
       " 'SimCalorimeterHitCollection/SimCalorimeterHitCollection.contributions_end',\n",
       " '_SimCalorimeterHitCollection_contributions/_SimCalorimeterHitCollection_contributions.index',\n",
       " '_SimCalorimeterHitCollection_contributions/_SimCalorimeterHitCollection_contributions.collectionID',\n",
       " 'SimTrackerHitCollection/SimTrackerHitCollection.cellID',\n",
       " 'SimTrackerHitCollection/SimTrackerHitCollection.eDep',\n",
       " 'SimTrackerHitCollection/SimTrackerHitCollection.time',\n",
       " 'SimTrackerHitCollection/SimTrackerHitCollection.pathLength',\n",
       " 'SimTrackerHitCollection/SimTrackerHitCollection.quality',\n",
       " 'SimTrackerHitCollection/SimTrackerHitCollection.position.x',\n",
       " 'SimTrackerHitCollection/SimTrackerHitCollection.position.y',\n",
       " 'SimTrackerHitCollection/SimTrackerHitCollection.position.z',\n",
       " 'SimTrackerHitCollection/SimTrackerHitCollection.momentum.x',\n",
       " 'SimTrackerHitCollection/SimTrackerHitCollection.momentum.y',\n",
       " 'SimTrackerHitCollection/SimTrackerHitCollection.momentum.z',\n",
       " '_SimTrackerHitCollection_particle/_SimTrackerHitCollection_particle.index',\n",
       " '_SimTrackerHitCollection_particle/_SimTrackerHitCollection_particle.collectionID',\n",
       " 'TimeSeriesCollection/TimeSeriesCollection.cellID',\n",
       " 'TimeSeriesCollection/TimeSeriesCollection.time',\n",
       " 'TimeSeriesCollection/TimeSeriesCollection.interval',\n",
       " 'TimeSeriesCollection/TimeSeriesCollection.amplitude_begin',\n",
       " 'TimeSeriesCollection/TimeSeriesCollection.amplitude_end',\n",
       " '_TimeSeriesCollection_amplitude',\n",
       " 'TrackCollection/TrackCollection.type',\n",
       " 'TrackCollection/TrackCollection.chi2',\n",
       " 'TrackCollection/TrackCollection.ndf',\n",
       " 'TrackCollection/TrackCollection.Nholes',\n",
       " 'TrackCollection/TrackCollection.subdetectorHitNumbers_begin',\n",
       " 'TrackCollection/TrackCollection.subdetectorHitNumbers_end',\n",
       " 'TrackCollection/TrackCollection.subdetectorHoleNumbers_begin',\n",
       " 'TrackCollection/TrackCollection.subdetectorHoleNumbers_end',\n",
       " 'TrackCollection/TrackCollection.trackStates_begin',\n",
       " 'TrackCollection/TrackCollection.trackStates_end',\n",
       " 'TrackCollection/TrackCollection.trackerHits_begin',\n",
       " 'TrackCollection/TrackCollection.trackerHits_end',\n",
       " 'TrackCollection/TrackCollection.tracks_begin',\n",
       " 'TrackCollection/TrackCollection.tracks_end',\n",
       " '_TrackCollection_trackerHits/_TrackCollection_trackerHits.index',\n",
       " '_TrackCollection_trackerHits/_TrackCollection_trackerHits.collectionID',\n",
       " '_TrackCollection_tracks/_TrackCollection_tracks.index',\n",
       " '_TrackCollection_tracks/_TrackCollection_tracks.collectionID',\n",
       " '_TrackCollection_subdetectorHitNumbers',\n",
       " '_TrackCollection_subdetectorHoleNumbers',\n",
       " '_TrackCollection_trackStates/_TrackCollection_trackStates.location',\n",
       " '_TrackCollection_trackStates/_TrackCollection_trackStates.D0',\n",
       " '_TrackCollection_trackStates/_TrackCollection_trackStates.phi',\n",
       " '_TrackCollection_trackStates/_TrackCollection_trackStates.omega',\n",
       " '_TrackCollection_trackStates/_TrackCollection_trackStates.Z0',\n",
       " '_TrackCollection_trackStates/_TrackCollection_trackStates.tanLambda',\n",
       " '_TrackCollection_trackStates/_TrackCollection_trackStates.time',\n",
       " '_TrackCollection_trackStates/_TrackCollection_trackStates.referencePoint.x',\n",
       " '_TrackCollection_trackStates/_TrackCollection_trackStates.referencePoint.y',\n",
       " '_TrackCollection_trackStates/_TrackCollection_trackStates.referencePoint.z',\n",
       " '_TrackCollection_trackStates/_TrackCollection_trackStates.covMatrix.values[21]',\n",
       " 'TrackerHit3DCollection/TrackerHit3DCollection.cellID',\n",
       " 'TrackerHit3DCollection/TrackerHit3DCollection.type',\n",
       " 'TrackerHit3DCollection/TrackerHit3DCollection.quality',\n",
       " 'TrackerHit3DCollection/TrackerHit3DCollection.time',\n",
       " 'TrackerHit3DCollection/TrackerHit3DCollection.eDep',\n",
       " 'TrackerHit3DCollection/TrackerHit3DCollection.eDepError',\n",
       " 'TrackerHit3DCollection/TrackerHit3DCollection.position.x',\n",
       " 'TrackerHit3DCollection/TrackerHit3DCollection.position.y',\n",
       " 'TrackerHit3DCollection/TrackerHit3DCollection.position.z',\n",
       " 'TrackerHit3DCollection/TrackerHit3DCollection.covMatrix.values[6]',\n",
       " 'TrackerHitPlaneCollection/TrackerHitPlaneCollection.cellID',\n",
       " 'TrackerHitPlaneCollection/TrackerHitPlaneCollection.type',\n",
       " 'TrackerHitPlaneCollection/TrackerHitPlaneCollection.quality',\n",
       " 'TrackerHitPlaneCollection/TrackerHitPlaneCollection.time',\n",
       " 'TrackerHitPlaneCollection/TrackerHitPlaneCollection.eDep',\n",
       " 'TrackerHitPlaneCollection/TrackerHitPlaneCollection.eDepError',\n",
       " 'TrackerHitPlaneCollection/TrackerHitPlaneCollection.u.a',\n",
       " 'TrackerHitPlaneCollection/TrackerHitPlaneCollection.u.b',\n",
       " 'TrackerHitPlaneCollection/TrackerHitPlaneCollection.v.a',\n",
       " 'TrackerHitPlaneCollection/TrackerHitPlaneCollection.v.b',\n",
       " 'TrackerHitPlaneCollection/TrackerHitPlaneCollection.du',\n",
       " 'TrackerHitPlaneCollection/TrackerHitPlaneCollection.dv',\n",
       " 'TrackerHitPlaneCollection/TrackerHitPlaneCollection.position.x',\n",
       " 'TrackerHitPlaneCollection/TrackerHitPlaneCollection.position.y',\n",
       " 'TrackerHitPlaneCollection/TrackerHitPlaneCollection.position.z',\n",
       " 'TrackerHitPlaneCollection/TrackerHitPlaneCollection.covMatrix.values[6]',\n",
       " 'TrackerHitSimTrackerHitLinkCollection/TrackerHitSimTrackerHitLinkCollection.weight',\n",
       " '_TrackerHitSimTrackerHitLinkCollection_from/_TrackerHitSimTrackerHitLinkCollection_from.index',\n",
       " '_TrackerHitSimTrackerHitLinkCollection_from/_TrackerHitSimTrackerHitLinkCollection_from.collectionID',\n",
       " '_TrackerHitSimTrackerHitLinkCollection_to/_TrackerHitSimTrackerHitLinkCollection_to.index',\n",
       " '_TrackerHitSimTrackerHitLinkCollection_to/_TrackerHitSimTrackerHitLinkCollection_to.collectionID',\n",
       " 'TrackMCParticleLinkCollection/TrackMCParticleLinkCollection.weight',\n",
       " '_TrackMCParticleLinkCollection_from/_TrackMCParticleLinkCollection_from.index',\n",
       " '_TrackMCParticleLinkCollection_from/_TrackMCParticleLinkCollection_from.collectionID',\n",
       " '_TrackMCParticleLinkCollection_to/_TrackMCParticleLinkCollection_to.index',\n",
       " '_TrackMCParticleLinkCollection_to/_TrackMCParticleLinkCollection_to.collectionID',\n",
       " 'VertexCollection/VertexCollection.type',\n",
       " 'VertexCollection/VertexCollection.chi2',\n",
       " 'VertexCollection/VertexCollection.ndf',\n",
       " 'VertexCollection/VertexCollection.position.x',\n",
       " 'VertexCollection/VertexCollection.position.y',\n",
       " 'VertexCollection/VertexCollection.position.z',\n",
       " 'VertexCollection/VertexCollection.covMatrix.values[6]',\n",
       " 'VertexCollection/VertexCollection.algorithmType',\n",
       " 'VertexCollection/VertexCollection.parameters_begin',\n",
       " 'VertexCollection/VertexCollection.parameters_end',\n",
       " 'VertexCollection/VertexCollection.particles_begin',\n",
       " 'VertexCollection/VertexCollection.particles_end',\n",
       " '_VertexCollection_particles/_VertexCollection_particles.index',\n",
       " '_VertexCollection_particles/_VertexCollection_particles.collectionID',\n",
       " '_VertexCollection_parameters',\n",
       " 'VertexRecoParticleLinkCollection/VertexRecoParticleLinkCollection.weight',\n",
       " '_VertexRecoParticleLinkCollection_to/_VertexRecoParticleLinkCollection_to.index',\n",
       " '_VertexRecoParticleLinkCollection_to/_VertexRecoParticleLinkCollection_to.collectionID',\n",
       " '_VertexRecoParticleLinkCollection_from/_VertexRecoParticleLinkCollection_from.index',\n",
       " '_VertexRecoParticleLinkCollection_from/_VertexRecoParticleLinkCollection_from.collectionID',\n",
       " 'GPIntKeys',\n",
       " 'GPIntValues',\n",
       " 'GPFloatKeys',\n",
       " 'GPFloatValues',\n",
       " 'GPDoubleKeys',\n",
       " 'GPDoubleValues',\n",
       " 'GPStringKeys',\n",
       " 'GPStringValues']"
      ]
     },
     "execution_count": 2,
     "metadata": {},
     "output_type": "execute_result"
    }
   ],
   "source": [
    "edm4hep_base_events.fields\n",
    "# edm4hep_events.fields\n",
    "# fcc_base_events.fields\n",
    "# fcc_events.fields"
   ]
  },
  {
   "cell_type": "code",
   "execution_count": 3,
   "id": "822ce2de-479a-4939-bebb-814bbee1eb7e",
   "metadata": {
    "scrolled": true
   },
   "outputs": [
    {
     "data": {
      "text/plain": [
       "['CaloHitContributionCollection',\n",
       " 'CaloHitMCParticleLinkCollection',\n",
       " 'CaloHitSimCaloHitLinkCollection',\n",
       " 'CalorimeterHitCollection',\n",
       " 'ClusterCollection',\n",
       " 'ClusterMCParticleLinkCollection',\n",
       " 'EventHeader',\n",
       " 'GPDoubleKeys',\n",
       " 'GPDoubleValues',\n",
       " 'GPFloatKeys',\n",
       " 'GPFloatValues',\n",
       " 'GPIntKeys',\n",
       " 'GPIntValues',\n",
       " 'GPStringKeys',\n",
       " 'GPStringValues',\n",
       " 'GeneratorEventParametersCollection',\n",
       " 'GeneratorPdfInfoCollection',\n",
       " 'MCParticleCollection',\n",
       " 'ParticleIDCollection',\n",
       " 'RawCalorimeterHitCollection',\n",
       " 'RawTimeSeriesCollection',\n",
       " 'RecDqdxCollection',\n",
       " 'RecoMCParticleLinkCollection',\n",
       " 'ReconstructedParticleCollection',\n",
       " 'SimCalorimeterHitCollection',\n",
       " 'SimTrackerHitCollection',\n",
       " 'TimeSeriesCollection',\n",
       " 'TrackCollection',\n",
       " 'TrackMCParticleLinkCollection',\n",
       " 'TrackerHit3DCollection',\n",
       " 'TrackerHitPlaneCollection',\n",
       " 'TrackerHitSimTrackerHitLinkCollection',\n",
       " 'VertexCollection',\n",
       " 'VertexRecoParticleLinkCollection']"
      ]
     },
     "execution_count": 3,
     "metadata": {},
     "output_type": "execute_result"
    }
   ],
   "source": [
    "# edm4hep_base_events.fields\n",
    "edm4hep_events.fields\n",
    "# fcc_base_events.fields\n",
    "# fcc_events.fields"
   ]
  },
  {
   "cell_type": "code",
   "execution_count": 4,
   "id": "e20f3edf-55d8-4bb4-af84-4266c077e6ec",
   "metadata": {
    "scrolled": true
   },
   "outputs": [
    {
     "data": {
      "text/plain": [
       "['CalorimeterHits/CalorimeterHits.cellID',\n",
       " 'CalorimeterHits/CalorimeterHits.energy',\n",
       " 'CalorimeterHits/CalorimeterHits.energyError',\n",
       " 'CalorimeterHits/CalorimeterHits.time',\n",
       " 'CalorimeterHits/CalorimeterHits.position.x',\n",
       " 'CalorimeterHits/CalorimeterHits.position.y',\n",
       " 'CalorimeterHits/CalorimeterHits.position.z',\n",
       " 'CalorimeterHits/CalorimeterHits.type',\n",
       " 'EFlowNeutralHadron/EFlowNeutralHadron.type',\n",
       " 'EFlowNeutralHadron/EFlowNeutralHadron.energy',\n",
       " 'EFlowNeutralHadron/EFlowNeutralHadron.energyError',\n",
       " 'EFlowNeutralHadron/EFlowNeutralHadron.position.x',\n",
       " 'EFlowNeutralHadron/EFlowNeutralHadron.position.y',\n",
       " 'EFlowNeutralHadron/EFlowNeutralHadron.position.z',\n",
       " 'EFlowNeutralHadron/EFlowNeutralHadron.positionError.values[6]',\n",
       " 'EFlowNeutralHadron/EFlowNeutralHadron.iTheta',\n",
       " 'EFlowNeutralHadron/EFlowNeutralHadron.phi',\n",
       " 'EFlowNeutralHadron/EFlowNeutralHadron.directionError.x',\n",
       " 'EFlowNeutralHadron/EFlowNeutralHadron.directionError.y',\n",
       " 'EFlowNeutralHadron/EFlowNeutralHadron.directionError.z',\n",
       " 'EFlowNeutralHadron/EFlowNeutralHadron.shapeParameters_begin',\n",
       " 'EFlowNeutralHadron/EFlowNeutralHadron.shapeParameters_end',\n",
       " 'EFlowNeutralHadron/EFlowNeutralHadron.subdetectorEnergies_begin',\n",
       " 'EFlowNeutralHadron/EFlowNeutralHadron.subdetectorEnergies_end',\n",
       " 'EFlowNeutralHadron/EFlowNeutralHadron.clusters_begin',\n",
       " 'EFlowNeutralHadron/EFlowNeutralHadron.clusters_end',\n",
       " 'EFlowNeutralHadron/EFlowNeutralHadron.hits_begin',\n",
       " 'EFlowNeutralHadron/EFlowNeutralHadron.hits_end',\n",
       " '_EFlowNeutralHadron_clusters/_EFlowNeutralHadron_clusters.index',\n",
       " '_EFlowNeutralHadron_clusters/_EFlowNeutralHadron_clusters.collectionID',\n",
       " '_EFlowNeutralHadron_hits/_EFlowNeutralHadron_hits.index',\n",
       " '_EFlowNeutralHadron_hits/_EFlowNeutralHadron_hits.collectionID',\n",
       " '_EFlowNeutralHadron_shapeParameters',\n",
       " '_EFlowNeutralHadron_subdetectorEnergies',\n",
       " 'EFlowPhoton/EFlowPhoton.type',\n",
       " 'EFlowPhoton/EFlowPhoton.energy',\n",
       " 'EFlowPhoton/EFlowPhoton.energyError',\n",
       " 'EFlowPhoton/EFlowPhoton.position.x',\n",
       " 'EFlowPhoton/EFlowPhoton.position.y',\n",
       " 'EFlowPhoton/EFlowPhoton.position.z',\n",
       " 'EFlowPhoton/EFlowPhoton.positionError.values[6]',\n",
       " 'EFlowPhoton/EFlowPhoton.iTheta',\n",
       " 'EFlowPhoton/EFlowPhoton.phi',\n",
       " 'EFlowPhoton/EFlowPhoton.directionError.x',\n",
       " 'EFlowPhoton/EFlowPhoton.directionError.y',\n",
       " 'EFlowPhoton/EFlowPhoton.directionError.z',\n",
       " 'EFlowPhoton/EFlowPhoton.shapeParameters_begin',\n",
       " 'EFlowPhoton/EFlowPhoton.shapeParameters_end',\n",
       " 'EFlowPhoton/EFlowPhoton.subdetectorEnergies_begin',\n",
       " 'EFlowPhoton/EFlowPhoton.subdetectorEnergies_end',\n",
       " 'EFlowPhoton/EFlowPhoton.clusters_begin',\n",
       " 'EFlowPhoton/EFlowPhoton.clusters_end',\n",
       " 'EFlowPhoton/EFlowPhoton.hits_begin',\n",
       " 'EFlowPhoton/EFlowPhoton.hits_end',\n",
       " '_EFlowPhoton_clusters/_EFlowPhoton_clusters.index',\n",
       " '_EFlowPhoton_clusters/_EFlowPhoton_clusters.collectionID',\n",
       " '_EFlowPhoton_hits/_EFlowPhoton_hits.index',\n",
       " '_EFlowPhoton_hits/_EFlowPhoton_hits.collectionID',\n",
       " '_EFlowPhoton_shapeParameters',\n",
       " '_EFlowPhoton_subdetectorEnergies',\n",
       " 'EFlowTrack/EFlowTrack.type',\n",
       " 'EFlowTrack/EFlowTrack.chi2',\n",
       " 'EFlowTrack/EFlowTrack.ndf',\n",
       " 'EFlowTrack/EFlowTrack.Nholes',\n",
       " 'EFlowTrack/EFlowTrack.subdetectorHitNumbers_begin',\n",
       " 'EFlowTrack/EFlowTrack.subdetectorHitNumbers_end',\n",
       " 'EFlowTrack/EFlowTrack.subdetectorHoleNumbers_begin',\n",
       " 'EFlowTrack/EFlowTrack.subdetectorHoleNumbers_end',\n",
       " 'EFlowTrack/EFlowTrack.trackStates_begin',\n",
       " 'EFlowTrack/EFlowTrack.trackStates_end',\n",
       " 'EFlowTrack/EFlowTrack.trackerHits_begin',\n",
       " 'EFlowTrack/EFlowTrack.trackerHits_end',\n",
       " 'EFlowTrack/EFlowTrack.tracks_begin',\n",
       " 'EFlowTrack/EFlowTrack.tracks_end',\n",
       " '_EFlowTrack_trackerHits/_EFlowTrack_trackerHits.index',\n",
       " '_EFlowTrack_trackerHits/_EFlowTrack_trackerHits.collectionID',\n",
       " '_EFlowTrack_tracks/_EFlowTrack_tracks.index',\n",
       " '_EFlowTrack_tracks/_EFlowTrack_tracks.collectionID',\n",
       " '_EFlowTrack_subdetectorHitNumbers',\n",
       " '_EFlowTrack_subdetectorHoleNumbers',\n",
       " '_EFlowTrack_trackStates/_EFlowTrack_trackStates.location',\n",
       " '_EFlowTrack_trackStates/_EFlowTrack_trackStates.D0',\n",
       " '_EFlowTrack_trackStates/_EFlowTrack_trackStates.phi',\n",
       " '_EFlowTrack_trackStates/_EFlowTrack_trackStates.omega',\n",
       " '_EFlowTrack_trackStates/_EFlowTrack_trackStates.Z0',\n",
       " '_EFlowTrack_trackStates/_EFlowTrack_trackStates.tanLambda',\n",
       " '_EFlowTrack_trackStates/_EFlowTrack_trackStates.time',\n",
       " '_EFlowTrack_trackStates/_EFlowTrack_trackStates.referencePoint.x',\n",
       " '_EFlowTrack_trackStates/_EFlowTrack_trackStates.referencePoint.y',\n",
       " '_EFlowTrack_trackStates/_EFlowTrack_trackStates.referencePoint.z',\n",
       " '_EFlowTrack_trackStates/_EFlowTrack_trackStates.covMatrix.values[21]',\n",
       " 'EFlowTrack_dNdx/EFlowTrack_dNdx.dQdx.type',\n",
       " 'EFlowTrack_dNdx/EFlowTrack_dNdx.dQdx.value',\n",
       " 'EFlowTrack_dNdx/EFlowTrack_dNdx.dQdx.error',\n",
       " '_EFlowTrack_dNdx_track/_EFlowTrack_dNdx_track.index',\n",
       " '_EFlowTrack_dNdx_track/_EFlowTrack_dNdx_track.collectionID',\n",
       " 'EFlowTrack_L',\n",
       " 'Electron_objIdx/Electron_objIdx.index',\n",
       " 'Electron_objIdx/Electron_objIdx.collectionID',\n",
       " 'Electron_IsolationVar',\n",
       " 'EventHeader/EventHeader.eventNumber',\n",
       " 'EventHeader/EventHeader.runNumber',\n",
       " 'EventHeader/EventHeader.timeStamp',\n",
       " 'EventHeader/EventHeader.weight',\n",
       " 'EventHeader/EventHeader.weights_begin',\n",
       " 'EventHeader/EventHeader.weights_end',\n",
       " '_EventHeader_weights',\n",
       " 'Jet/Jet.PDG',\n",
       " 'Jet/Jet.energy',\n",
       " 'Jet/Jet.momentum.x',\n",
       " 'Jet/Jet.momentum.y',\n",
       " 'Jet/Jet.momentum.z',\n",
       " 'Jet/Jet.referencePoint.x',\n",
       " 'Jet/Jet.referencePoint.y',\n",
       " 'Jet/Jet.referencePoint.z',\n",
       " 'Jet/Jet.charge',\n",
       " 'Jet/Jet.mass',\n",
       " 'Jet/Jet.goodnessOfPID',\n",
       " 'Jet/Jet.covMatrix.values[10]',\n",
       " 'Jet/Jet.clusters_begin',\n",
       " 'Jet/Jet.clusters_end',\n",
       " 'Jet/Jet.tracks_begin',\n",
       " 'Jet/Jet.tracks_end',\n",
       " 'Jet/Jet.particles_begin',\n",
       " 'Jet/Jet.particles_end',\n",
       " '_Jet_clusters/_Jet_clusters.index',\n",
       " '_Jet_clusters/_Jet_clusters.collectionID',\n",
       " '_Jet_tracks/_Jet_tracks.index',\n",
       " '_Jet_tracks/_Jet_tracks.collectionID',\n",
       " '_Jet_particles/_Jet_particles.index',\n",
       " '_Jet_particles/_Jet_particles.collectionID',\n",
       " '_Jet_decayVertex/_Jet_decayVertex.index',\n",
       " '_Jet_decayVertex/_Jet_decayVertex.collectionID',\n",
       " 'magFieldBz',\n",
       " 'MCRecoAssociations/MCRecoAssociations.weight',\n",
       " '_MCRecoAssociations_from/_MCRecoAssociations_from.index',\n",
       " '_MCRecoAssociations_from/_MCRecoAssociations_from.collectionID',\n",
       " '_MCRecoAssociations_to/_MCRecoAssociations_to.index',\n",
       " '_MCRecoAssociations_to/_MCRecoAssociations_to.collectionID',\n",
       " 'Muon_objIdx/Muon_objIdx.index',\n",
       " 'Muon_objIdx/Muon_objIdx.collectionID',\n",
       " 'Muon_IsolationVar',\n",
       " 'Particle/Particle.PDG',\n",
       " 'Particle/Particle.generatorStatus',\n",
       " 'Particle/Particle.simulatorStatus',\n",
       " 'Particle/Particle.charge',\n",
       " 'Particle/Particle.time',\n",
       " 'Particle/Particle.mass',\n",
       " 'Particle/Particle.vertex.x',\n",
       " 'Particle/Particle.vertex.y',\n",
       " 'Particle/Particle.vertex.z',\n",
       " 'Particle/Particle.endpoint.x',\n",
       " 'Particle/Particle.endpoint.y',\n",
       " 'Particle/Particle.endpoint.z',\n",
       " 'Particle/Particle.momentum.x',\n",
       " 'Particle/Particle.momentum.y',\n",
       " 'Particle/Particle.momentum.z',\n",
       " 'Particle/Particle.momentumAtEndpoint.x',\n",
       " 'Particle/Particle.momentumAtEndpoint.y',\n",
       " 'Particle/Particle.momentumAtEndpoint.z',\n",
       " 'Particle/Particle.spin.x',\n",
       " 'Particle/Particle.spin.y',\n",
       " 'Particle/Particle.spin.z',\n",
       " 'Particle/Particle.colorFlow.a',\n",
       " 'Particle/Particle.colorFlow.b',\n",
       " 'Particle/Particle.parents_begin',\n",
       " 'Particle/Particle.parents_end',\n",
       " 'Particle/Particle.daughters_begin',\n",
       " 'Particle/Particle.daughters_end',\n",
       " '_Particle_parents/_Particle_parents.index',\n",
       " '_Particle_parents/_Particle_parents.collectionID',\n",
       " '_Particle_daughters/_Particle_daughters.index',\n",
       " '_Particle_daughters/_Particle_daughters.collectionID',\n",
       " 'ParticleIDs/ParticleIDs.type',\n",
       " 'ParticleIDs/ParticleIDs.PDG',\n",
       " 'ParticleIDs/ParticleIDs.algorithmType',\n",
       " 'ParticleIDs/ParticleIDs.likelihood',\n",
       " 'ParticleIDs/ParticleIDs.parameters_begin',\n",
       " 'ParticleIDs/ParticleIDs.parameters_end',\n",
       " '_ParticleIDs_particle/_ParticleIDs_particle.index',\n",
       " '_ParticleIDs_particle/_ParticleIDs_particle.collectionID',\n",
       " '_ParticleIDs_parameters',\n",
       " 'Photon_objIdx/Photon_objIdx.index',\n",
       " 'Photon_objIdx/Photon_objIdx.collectionID',\n",
       " 'Photon_IsolationVar',\n",
       " 'ReconstructedParticles/ReconstructedParticles.PDG',\n",
       " 'ReconstructedParticles/ReconstructedParticles.energy',\n",
       " 'ReconstructedParticles/ReconstructedParticles.momentum.x',\n",
       " 'ReconstructedParticles/ReconstructedParticles.momentum.y',\n",
       " 'ReconstructedParticles/ReconstructedParticles.momentum.z',\n",
       " 'ReconstructedParticles/ReconstructedParticles.referencePoint.x',\n",
       " 'ReconstructedParticles/ReconstructedParticles.referencePoint.y',\n",
       " 'ReconstructedParticles/ReconstructedParticles.referencePoint.z',\n",
       " 'ReconstructedParticles/ReconstructedParticles.charge',\n",
       " 'ReconstructedParticles/ReconstructedParticles.mass',\n",
       " 'ReconstructedParticles/ReconstructedParticles.goodnessOfPID',\n",
       " 'ReconstructedParticles/ReconstructedParticles.covMatrix.values[10]',\n",
       " 'ReconstructedParticles/ReconstructedParticles.clusters_begin',\n",
       " 'ReconstructedParticles/ReconstructedParticles.clusters_end',\n",
       " 'ReconstructedParticles/ReconstructedParticles.tracks_begin',\n",
       " 'ReconstructedParticles/ReconstructedParticles.tracks_end',\n",
       " 'ReconstructedParticles/ReconstructedParticles.particles_begin',\n",
       " 'ReconstructedParticles/ReconstructedParticles.particles_end',\n",
       " '_ReconstructedParticles_clusters/_ReconstructedParticles_clusters.index',\n",
       " '_ReconstructedParticles_clusters/_ReconstructedParticles_clusters.collectionID',\n",
       " '_ReconstructedParticles_tracks/_ReconstructedParticles_tracks.index',\n",
       " '_ReconstructedParticles_tracks/_ReconstructedParticles_tracks.collectionID',\n",
       " '_ReconstructedParticles_particles/_ReconstructedParticles_particles.index',\n",
       " '_ReconstructedParticles_particles/_ReconstructedParticles_particles.collectionID',\n",
       " '_ReconstructedParticles_decayVertex/_ReconstructedParticles_decayVertex.index',\n",
       " '_ReconstructedParticles_decayVertex/_ReconstructedParticles_decayVertex.collectionID',\n",
       " 'TrackerHits/TrackerHits.cellID',\n",
       " 'TrackerHits/TrackerHits.type',\n",
       " 'TrackerHits/TrackerHits.quality',\n",
       " 'TrackerHits/TrackerHits.time',\n",
       " 'TrackerHits/TrackerHits.eDep',\n",
       " 'TrackerHits/TrackerHits.eDepError',\n",
       " 'TrackerHits/TrackerHits.position.x',\n",
       " 'TrackerHits/TrackerHits.position.y',\n",
       " 'TrackerHits/TrackerHits.position.z',\n",
       " 'TrackerHits/TrackerHits.covMatrix.values[6]',\n",
       " 'GPIntKeys',\n",
       " 'GPIntValues',\n",
       " 'GPFloatKeys',\n",
       " 'GPFloatValues',\n",
       " 'GPDoubleKeys',\n",
       " 'GPDoubleValues',\n",
       " 'GPStringKeys',\n",
       " 'GPStringValues']"
      ]
     },
     "execution_count": 4,
     "metadata": {},
     "output_type": "execute_result"
    }
   ],
   "source": [
    "# edm4hep_base_events.fields\n",
    "# edm4hep_events.fields\n",
    "fcc_base_events.fields\n",
    "# fcc_events.fields"
   ]
  },
  {
   "cell_type": "code",
   "execution_count": 5,
   "id": "f6e4bc1a-c2fe-4199-8f61-dc294a03611a",
   "metadata": {
    "scrolled": true
   },
   "outputs": [
    {
     "data": {
      "text/plain": [
       "['CalorimeterHits',\n",
       " 'EFlowNeutralHadron',\n",
       " 'EFlowPhoton',\n",
       " 'EFlowTrack',\n",
       " 'EFlowTrack_L',\n",
       " 'EFlowTrack_dNdx',\n",
       " 'Electron_IsolationVar',\n",
       " 'Electron_objIdx',\n",
       " 'EventHeader',\n",
       " 'GPDoubleKeys',\n",
       " 'GPDoubleValues',\n",
       " 'GPFloatKeys',\n",
       " 'GPFloatValues',\n",
       " 'GPIntKeys',\n",
       " 'GPIntValues',\n",
       " 'GPStringKeys',\n",
       " 'GPStringValues',\n",
       " 'Jet',\n",
       " 'MCRecoAssociations',\n",
       " 'Muon_IsolationVar',\n",
       " 'Muon_objIdx',\n",
       " 'Particle',\n",
       " 'ParticleIDs',\n",
       " 'Photon_IsolationVar',\n",
       " 'Photon_objIdx',\n",
       " 'ReconstructedParticles',\n",
       " 'TrackerHits',\n",
       " 'magFieldBz']"
      ]
     },
     "execution_count": 5,
     "metadata": {},
     "output_type": "execute_result"
    }
   ],
   "source": [
    "# edm4hep_base_events.fields\n",
    "# edm4hep_events.fields\n",
    "# fcc_base_events.fields\n",
    "fcc_events.fields"
   ]
  },
  {
   "cell_type": "markdown",
   "id": "3858b928-bbdf-4823-a999-0ad882c7be88",
   "metadata": {
    "jp-MarkdownHeadingCollapsed": true
   },
   "source": [
    "## EDM4HEP has four types of Mappings that required attention:"
   ]
  },
  {
   "cell_type": "markdown",
   "id": "033cd716-0a42-4e36-abe6-0e97731f4ec5",
   "metadata": {},
   "source": [
    "\n",
    "- Vector Members\n",
    "- OneToOneRelations\n",
    "- OneToManyRelations\n",
    "- Links\n",
    "<img title=\"edm4hep\" alt=\"edm4hep\" src=\"https://kjvbrt.org/fcc/presentations/2024/edm4hep-in-fccana/img/edm4hep_diagram.png\">"
   ]
  },
  {
   "cell_type": "markdown",
   "id": "641275ed-3b77-42cf-8e1e-eb1e40ab428e",
   "metadata": {
    "jp-MarkdownHeadingCollapsed": true
   },
   "source": [
    "## Vector Members"
   ]
  },
  {
   "cell_type": "markdown",
   "id": "1d535e9d-dc37-48c1-92a7-e009a2acecbc",
   "metadata": {},
   "source": [
    "- The description of a datatype in the edm4hep.yaml can have one or more vector members\n",
    "- Each Vector Member is stored in the root file with three related branches:\n",
    "    - A begin branch that stores the start index of the vector\n",
    "    - An end branch that stores the end index of the vector\n",
    "    - The branch that stores the actual elements of all the elements\n",
    "  \n",
    "### For example:\n",
    "The `ParticleID` datatype is defined as follows in the edm4hep.yaml:\n",
    "```yaml\n",
    "  edm4hep::ParticleID:\n",
    "    Description:  \"ParticleID\"\n",
    "    Author: \"EDM4hep authors\"\n",
    "    Members:\n",
    "      - int32_t   type           // userdefined type\n",
    "      - int32_t   PDG            // PDG code of this id - ( 999999 ) if unknown\n",
    "      - int32_t   algorithmType  // type of the algorithm/module that created this hypothesis\n",
    "      - float likelihood     // likelihood of this hypothesis - in a user defined normalization\n",
    "    VectorMembers:\n",
    "      - float parameters     // parameters associated with this hypothesis\n",
    "    OneToOneRelations:\n",
    "      - edm4hep::ReconstructedParticle particle // the particle from which this PID has been computed\n",
    "```\n",
    "Which shows the definition of one vector member called 'parameters'\n",
    "\n",
    "### And this is saved in the root files as three branches:"
   ]
  },
  {
   "cell_type": "code",
   "execution_count": 6,
   "id": "0c40c337-aa8b-432c-ba6f-d04895d82800",
   "metadata": {},
   "outputs": [
    {
     "data": {
      "text/html": [
       "<pre>[[0],\n",
       " [0],\n",
       " [0]]\n",
       "-----------------------------------------------------------------------------------------\n",
       "type: 3 * var * uint32[parameters={&quot;__doc__&quot;: &quot;parameters_begin[ParticleIDCollection_]&quot;}]</pre>"
      ],
      "text/plain": [
       "<Array [[0], [0], [0]] type='3 * var * uint32[parameters={\"__doc__\": \"param...'>"
      ]
     },
     "execution_count": 6,
     "metadata": {},
     "output_type": "execute_result"
    }
   ],
   "source": [
    "parameters_begin = edm4hep_base_events['ParticleIDCollection/ParticleIDCollection.parameters_begin']\n",
    "parameters_begin"
   ]
  },
  {
   "cell_type": "code",
   "execution_count": 7,
   "id": "e279ac1a-a887-4569-a4ad-ebf696d44a80",
   "metadata": {},
   "outputs": [
    {
     "data": {
      "text/html": [
       "<pre>[[5],\n",
       " [5],\n",
       " [5]]\n",
       "---------------------------------------------------------------------------------------\n",
       "type: 3 * var * uint32[parameters={&quot;__doc__&quot;: &quot;parameters_end[ParticleIDCollection_]&quot;}]</pre>"
      ],
      "text/plain": [
       "<Array [[5], [5], [5]] type='3 * var * uint32[parameters={\"__doc__\": \"param...'>"
      ]
     },
     "execution_count": 7,
     "metadata": {},
     "output_type": "execute_result"
    }
   ],
   "source": [
    "parameters_end = edm4hep_base_events['ParticleIDCollection/ParticleIDCollection.parameters_end']\n",
    "parameters_end"
   ]
  },
  {
   "cell_type": "code",
   "execution_count": 8,
   "id": "8571cd4f-5651-45e2-8715-4ebce8bad7ee",
   "metadata": {},
   "outputs": [
    {
     "data": {
      "text/html": [
       "<pre>[[46, 47, 48, 49, 50],\n",
       " [46, 47, 48, 49, 50],\n",
       " [46, 47, 48, 49, 50]]\n",
       "-----------------------------------------------------------------------------------\n",
       "type: 3 * var * float32[parameters={&quot;__doc__&quot;: &quot;_ParticleIDCollection_parameters&quot;}]</pre>"
      ],
      "text/plain": [
       "<Array [[46, 47, 48, 49, 50], ..., [46, ...]] type='3 * var * float32[param...'>"
      ]
     },
     "execution_count": 8,
     "metadata": {},
     "output_type": "execute_result"
    }
   ],
   "source": [
    "parameters_elements = edm4hep_base_events['_ParticleIDCollection_parameters']\n",
    "parameters_elements"
   ]
  },
  {
   "cell_type": "markdown",
   "id": "f5ebedac-447b-4448-a246-cc3b2fb70e9f",
   "metadata": {},
   "source": [
    "### Transforms defined for EDM4HEPSchema, convert begin and end branches to ranges of indices and map the elements branch to the indices, effective rebuilding the vectors by combining the three branches "
   ]
  },
  {
   "cell_type": "code",
   "execution_count": 9,
   "id": "11a8d429-b7b1-4027-b9ea-d7aa3868ed96",
   "metadata": {},
   "outputs": [
    {
     "data": {
      "text/html": [
       "<pre>[[[46, 47, 48, 49, 50]],\n",
       " [[46, 47, 48, 49, 50]],\n",
       " [[46, 47, 48, 49, 50]]]\n",
       "-----------------------------------------------------------------------------------------------------\n",
       "type: 3 * var * [var * float64, parameters={&quot;__doc__&quot;: &quot;parameters associated with this hypothesis&quot;}]</pre>"
      ],
      "text/plain": [
       "<Array [[[46, 47, 48, 49, 50]], ..., [[...]]] type='3 * var * [var * float6...'>"
      ]
     },
     "execution_count": 9,
     "metadata": {},
     "output_type": "execute_result"
    }
   ],
   "source": [
    "parameters = edm4hep_events.ParticleIDCollection.parameters\n",
    "parameters"
   ]
  },
  {
   "cell_type": "code",
   "execution_count": 10,
   "id": "74eb6e3d-6d43-4bdd-91af-2a7000e75aff",
   "metadata": {},
   "outputs": [
    {
     "data": {
      "text/html": [
       "<pre>[[[], [], [], [], [], [], [], [], [], [0, 0], [0, 0], [0, 0]],\n",
       " [[], [], [], [], [], [], [], [], [], [], [], [], [0, 1], [0, 0], [0, 1]],\n",
       " [[], [], [], [], [], [], [], [], ..., [], [], [], [], [], [], [0, 0], [0, 0]],\n",
       " [[], [], [], [], [], [], [], [], ..., [], [], [], [], [0, 0], [0, 0], [0, 0]],\n",
       " [[], [], [], [], [], [], [], [], ..., [], [], [], [], [], [], [0, 0], [0, 0]],\n",
       " [[], [], [], [], [], [], [], [], ..., [], [], [], [], [], [], [0, 0], [0, 0]],\n",
       " [[], [], [], [], [], [], [], [], ..., [], [], [], [], [0, 0], [0, 0], [2, 0]],\n",
       " [[], [], [], [], [], [], [], [], ..., [], [], [], [], [], [], [2, 0], [0, 0]],\n",
       " [[], [], [], [], [], [], [], [], ..., [], [], [], [], [], [], [0, 0], [0, 0]],\n",
       " [[], [], [], [], [], [], [], ..., [], [], [], [0, 0], [2, 0], [0, 0], [0, 0]],\n",
       " ...,\n",
       " [[], [], [], [], [], [], [], [], ..., [], [], [], [], [0, 0], [0, 0], [2, 0]],\n",
       " [[], [], [], [], [], [], [], [], ..., [], [], [], [], [], [], [0, 0], [0, 0]],\n",
       " [[], [], [0, 0]],\n",
       " [[], [], [], [], [], [], [], [], ..., [], [], [], [], [], [], [0, 1], [0, 0]],\n",
       " [[], [], [], [], [], [], [], [], ..., [], [], [], [], [0, 0], [0, 0], [0, 0]],\n",
       " [[], [], [], [], [], [], [], [], ..., [], [], [], [], [0, 0], [0, 0], [0, 0]],\n",
       " [[], [], [], [], [], [], [], [], ..., [], [], [], [], [0, 0], [0, 0], [0, 0]],\n",
       " [[], [], [], [], [], [], [], [], ..., [], [], [], [], [0, 0], [0, 0], [2, 0]],\n",
       " [[], [], [], [], [], [], [], ..., [], [], [], [0, 0], [0, 0], [0, 0], [0, 0]]]\n",
       "-------------------------------------------------------------------------------------------------------\n",
       "type: 100 * var * [var * float64, parameters={&quot;__doc__&quot;: &quot;parameters associated with this hypothesis&quot;}]</pre>"
      ],
      "text/plain": [
       "<Array [[[], [], ..., [0, ...], [0, 0]], ...] type='100 * var * [var * floa...'>"
      ]
     },
     "execution_count": 10,
     "metadata": {},
     "output_type": "execute_result"
    }
   ],
   "source": [
    "# And in the case of fcc samples\n",
    "fcc_parameters = fcc_events.ParticleIDs.parameters\n",
    "fcc_parameters"
   ]
  },
  {
   "cell_type": "markdown",
   "id": "e0a87591-c12f-4a4b-afbe-e543c33adc88",
   "metadata": {
    "jp-MarkdownHeadingCollapsed": true
   },
   "source": [
    "## OneToOneRelations"
   ]
  },
  {
   "cell_type": "markdown",
   "id": "196f07f8-270f-430c-9562-867c6f75bee3",
   "metadata": {},
   "source": [
    "- OneToOneRelations, denoted by a single black arrow connecting two datatypes in the edm4hep graph, is a direct one to one mapping between the two datatypes\n",
    "\n",
    "### For example:\n",
    "The `ReconstructedParticle` datatype is defined with a OneToOneRelation with the Vertex collection:\n",
    "```yaml\n",
    "  edm4hep::ReconstructedParticle:\n",
    "    Description: \"Reconstructed Particle\"\n",
    "    Author: \"EDM4hep authors\"\n",
    "    Members:\n",
    "      - int32_t                PDG            // PDG of the reconstructed particle.\n",
    "      - float                  energy [GeV]    // energy of the reconstructed particle. Four momentum state is not kept consistent internally\n",
    "      - edm4hep::Vector3f      momentum [GeV]  //  particle momentum. Four momentum state is not kept consistent internally\n",
    "      - edm4hep::Vector3f      referencePoint [mm] // reference, i.e. where the particle has been measured\n",
    "      - float                  charge         // charge of the reconstructed particle\n",
    "      - float                  mass  [GeV]    //  mass of the reconstructed particle, set independently from four vector. Four momentum state is not kept consistent internally\n",
    "      - float                  goodnessOfPID  // overall goodness of the PID on a scale of [0;1]\n",
    "      - edm4hep::CovMatrix4f   covMatrix      // covariance matrix of the reconstructed particle 4vector\n",
    "    OneToOneRelations:\n",
    "      - edm4hep::Vertex          decayVertex    // decay vertex for the particle (if it is a composite particle)\n",
    "    OneToManyRelations:\n",
    "      - edm4hep::Cluster               clusters     // clusters that have been used for this particle\n",
    "      - edm4hep::Track                 tracks       // tracks that have been used for this particle\n",
    "      - edm4hep::ReconstructedParticle particles    // reconstructed particles that have been combined to this particle\n",
    "    ExtraCode:\n",
    "      includes: \"#include <edm4hep/Constants.h>\"\n",
    "      declaration: \"\n",
    "      bool isCompound() const { return particles_size() > 0 ;}\\n\n",
    "      [[deprecated(\\\"use setPDG instead\\\")]]\\n\n",
    "      int32_t getType() const { return getPDG(); }\\n\n",
    "      /// Get the four momentum covariance matrix value for the two passed dimensions\\n\n",
    "      float getCovMatrix(edm4hep::FourMomCoords dimI, edm4hep::FourMomCoords dimJ) const { return getCovMatrix().getValue(dimI, dimJ); }\\n\n",
    "      \"\n",
    "    MutableExtraCode:\n",
    "      includes: \"#include <edm4hep/Constants.h>\"\n",
    "      declaration: \"\n",
    "      //vertex where the particle decays. This method actually returns the start vertex from the first daughter particle found.\\n\n",
    "      //TODO: edm4hep::Vertex  getEndVertex() { return  edm4hep::Vertex(  (getParticles(0).isAvailable() ? getParticles(0).getStartVertex() :  edm4hep::Vertex(0,0) ) ) ; }\\n\n",
    "      [[deprecated(\\\"use setPDG instead\\\")]]\\n\n",
    "      void setType(int32_t pdg) { setPDG(pdg); }\\n\n",
    "      /// Set the four momentum covariance matrix value for the two passed dimensions\\n\n",
    "      void setCovMatrix(float value, edm4hep::FourMomCoords dimI, edm4hep::FourMomCoords dimJ) { getCovMatrix().setValue(value, dimI, dimJ); }\\n\n",
    "```\n",
    "\n",
    "And this is stored as `index` and `collectionID` branches in the root files."
   ]
  },
  {
   "cell_type": "code",
   "execution_count": 11,
   "id": "43340c7f-03cf-43f5-bfcd-19d5f894d47e",
   "metadata": {},
   "outputs": [
    {
     "data": {
      "text/html": [
       "<pre>[[0],\n",
       " [0],\n",
       " [0]]\n",
       "-----------------------------------------------------------------------------------------------------\n",
       "type: 3 * var * int32[parameters={&quot;__doc__&quot;: &quot;index[_ReconstructedParticleCollection_decayVertex_]&quot;}]</pre>"
      ],
      "text/plain": [
       "<Array [[0], [0], [0]] type='3 * var * int32[parameters={\"__doc__\": \"index[...'>"
      ]
     },
     "execution_count": 11,
     "metadata": {},
     "output_type": "execute_result"
    }
   ],
   "source": [
    "vertex_index = edm4hep_base_events[\n",
    "'_ReconstructedParticleCollection_decayVertex/_ReconstructedParticleCollection_decayVertex.index'\n",
    "]\n",
    "vertex_index"
   ]
  },
  {
   "cell_type": "code",
   "execution_count": 12,
   "id": "bee4400f-fb43-4890-8f77-79e98ec921d4",
   "metadata": {},
   "outputs": [
    {
     "data": {
      "text/html": [
       "<pre>[[0],\n",
       " [0],\n",
       " [0]]\n",
       "-----------------------------------------------------------------------------------------------------\n",
       "type: 3 * var * int32[parameters={&quot;__doc__&quot;: &quot;index[_ReconstructedParticleCollection_decayVertex_]&quot;}]</pre>"
      ],
      "text/plain": [
       "<Array [[0], [0], [0]] type='3 * var * int32[parameters={\"__doc__\": \"index[...'>"
      ]
     },
     "execution_count": 12,
     "metadata": {},
     "output_type": "execute_result"
    }
   ],
   "source": [
    "vertex_collectionID = edm4hep_base_events[\n",
    "'_ReconstructedParticleCollection_decayVertex/_ReconstructedParticleCollection_decayVertex.collectionID'\n",
    "]\n",
    "vertex_index"
   ]
  },
  {
   "cell_type": "markdown",
   "id": "dbeb486e-44c5-405b-b338-ad80d6577de4",
   "metadata": {},
   "source": [
    "### EDM4HEPSchema saves OneToOneRelations into the parent collection along with the global index counter part of index.\n",
    "### EDM4HEPSchema also provides methods:\n",
    "- `List_Relations` to list all the sub-branches associated with a OneToOneRelation or a OneToManyRelation\n",
    "- `Map_Relation` to actually map the relation"
   ]
  },
  {
   "cell_type": "code",
   "execution_count": 13,
   "id": "0ab4ad69-2534-4213-810a-5e5bf4d9aa3f",
   "metadata": {},
   "outputs": [
    {
     "data": {
      "text/plain": [
       "{'clusters_idx_ClusterCollection_collectionID',\n",
       " 'clusters_idx_ClusterCollection_index',\n",
       " 'clusters_idx_ClusterCollection_index_Global',\n",
       " 'decayVertex_idx_VertexCollection_collectionID',\n",
       " 'decayVertex_idx_VertexCollection_index',\n",
       " 'decayVertex_idx_VertexCollection_index_Global',\n",
       " 'particles_idx_ReconstructedParticleCollection_collectionID',\n",
       " 'particles_idx_ReconstructedParticleCollection_index',\n",
       " 'particles_idx_ReconstructedParticleCollection_index_Global',\n",
       " 'tracks_idx_TrackCollection_collectionID',\n",
       " 'tracks_idx_TrackCollection_index',\n",
       " 'tracks_idx_TrackCollection_index_Global'}"
      ]
     },
     "execution_count": 13,
     "metadata": {},
     "output_type": "execute_result"
    }
   ],
   "source": [
    "edm4hep_events.ReconstructedParticleCollection.List_Relations"
   ]
  },
  {
   "cell_type": "code",
   "execution_count": 14,
   "id": "578dee7b-81a6-4301-bbd7-f6afea05e5d6",
   "metadata": {},
   "outputs": [
    {
     "data": {
      "text/html": [
       "<pre>[[{algorithmType: 48, chi2: 43, covMatrix: {...}, ndf: 44, ...}],\n",
       " [{algorithmType: 48, chi2: 43, covMatrix: {...}, ndf: 44, ...}],\n",
       " [{algorithmType: 48, chi2: 43, covMatrix: {...}, ndf: 44, ...}]]\n",
       "----------------------------------------------------------------------------------------------------------------------------------------------------------------------------------------------------------------\n",
       "type: 3 * var * ?Vertex[\n",
       "    algorithmType: int32[parameters={&quot;__doc__&quot;: &quot;type code for the algorithm that has been used to create the vertex&quot;}],\n",
       "    chi2: float32[parameters={&quot;__doc__&quot;: &quot;chi-squared of the vertex fit&quot;}],\n",
       "    covMatrix: None[\n",
       "        &quot;values[6]&quot;: [6 * float32[parameters={&quot;__doc__&quot;: &quot;values[VertexCollection_]&quot;}], parameters={&quot;__doc__&quot;: &quot;covariance matrix of the position&quot;}], \n",
       "    parameters={&quot;collection_name&quot;: &quot;covMatrix&quot;, &quot;__doc__&quot;: &quot;covariance matrix of the position&quot;}],\n",
       "    ndf: int32[parameters={&quot;__doc__&quot;: &quot;number of degrees of freedom of the vertex fit&quot;}],\n",
       "    parameters: [var * float64, parameters={&quot;__doc__&quot;: &quot;additional parameters related to this vertex&quot;}],\n",
       "    particles_idx_ReconstructedParticleCollection_collectionID: [var * float64, parameters={&quot;__doc__&quot;: &quot;particles that have been used to form this vertex, aka the decay particles emerging from this vertex&quot;}],\n",
       "    particles_idx_ReconstructedParticleCollection_index: [var * float64, parameters={&quot;__doc__&quot;: &quot;particles that have been used to form this vertex, aka the decay particles emerging from this vertex&quot;}],\n",
       "    particles_idx_ReconstructedParticleCollection_index_Global: [var * int64, parameters={&quot;__doc__&quot;: &quot;particles that have been used to form this vertex, aka the decay particles emerging from this vertex&quot;}],\n",
       "    position: ThreeVector[\n",
       "        x: float32[parameters={&quot;__doc__&quot;: &quot;[mm] position of the vertex&quot;}],\n",
       "        y: float32[parameters={&quot;__doc__&quot;: &quot;[mm] position of the vertex&quot;}],\n",
       "        z: float32[parameters={&quot;__doc__&quot;: &quot;[mm] position of the vertex&quot;}], \n",
       "    parameters={&quot;collection_name&quot;: &quot;position&quot;, &quot;__doc__&quot;: &quot;[mm] position of the vertex&quot;}],\n",
       "    type: uint32[parameters={&quot;__doc__&quot;: &quot;Flagword that defines the type of the vertex, see reserved bits for more information&quot;}], \n",
       "parameters={&quot;collection_name&quot;: &quot;VertexCollection&quot;, &quot;__doc__&quot;: &quot;Vertex&quot;}]</pre>"
      ],
      "text/plain": [
       "<VertexArray [[{algorithmType: 48, ...}], ...] type='3 * var * ?Vertex[algo...'>"
      ]
     },
     "execution_count": 14,
     "metadata": {},
     "output_type": "execute_result"
    }
   ],
   "source": [
    "edm4hep_events.ReconstructedParticleCollection.Map_Relation(generic_name='decayVertex', target_name='VertexCollection')"
   ]
  },
  {
   "cell_type": "markdown",
   "id": "850f3aa9-8ceb-4443-bc3b-9eb2ad51059f",
   "metadata": {
    "jp-MarkdownHeadingCollapsed": true
   },
   "source": [
    "## OneToManyRelations"
   ]
  },
  {
   "cell_type": "markdown",
   "id": "1f21ed18-527f-4eb4-9718-da387281818f",
   "metadata": {},
   "source": [
    "- OneToManyRelations, denoted by a multiple black arrows connecting two datatypes in the edm4hep graph, is a one to many mapping between the two datatypes.\n",
    "- Each parent datatype may point to multiple elements in the target datatype. Consequently, OneToManyRelations can be expressed by providing vector indices to the daughter datatype.\n",
    "- Each OneToManyRelation is stored in the root files with four branches:\n",
    "    - begin branch (similar to VectorMembers), that stores the start index to the actual target indices\n",
    "    - end branch (similar to VectorMembers), that stores the end index to the actual target indices\n",
    "    - index branch that stores the actual target indices\n",
    "    - collectionID branch that stores collectionID of the target datatype\n",
    "\n",
    "### For example:\n",
    "- As seen in the previous example, the `ReconstructedParticle` datatype also features OneToManyRelations to `Cluster`, `Track` and to itself\n",
    "- Lets look at the track relation\n",
    "\n",
    "The track OneToManyRelation is stored with these branches:"
   ]
  },
  {
   "cell_type": "code",
   "execution_count": 15,
   "id": "af6a29de-546c-4402-9972-63c51dd02a34",
   "metadata": {},
   "outputs": [
    {
     "data": {
      "text/html": [
       "<pre>[[0],\n",
       " [0],\n",
       " [0]]\n",
       "------------------------------------------------------------------------------------------------\n",
       "type: 3 * var * uint32[parameters={&quot;__doc__&quot;: &quot;tracks_begin[ReconstructedParticleCollection_]&quot;}]</pre>"
      ],
      "text/plain": [
       "<Array [[0], [0], [0]] type='3 * var * uint32[parameters={\"__doc__\": \"track...'>"
      ]
     },
     "execution_count": 15,
     "metadata": {},
     "output_type": "execute_result"
    }
   ],
   "source": [
    "tracks_begin = edm4hep_base_events['ReconstructedParticleCollection/ReconstructedParticleCollection.tracks_begin']\n",
    "tracks_begin"
   ]
  },
  {
   "cell_type": "code",
   "execution_count": 16,
   "id": "1c23d1fb-5b86-477b-a0aa-bb1aab8a6b6d",
   "metadata": {},
   "outputs": [
    {
     "data": {
      "text/html": [
       "<pre>[[1],\n",
       " [1],\n",
       " [1]]\n",
       "----------------------------------------------------------------------------------------------\n",
       "type: 3 * var * uint32[parameters={&quot;__doc__&quot;: &quot;tracks_end[ReconstructedParticleCollection_]&quot;}]</pre>"
      ],
      "text/plain": [
       "<Array [[1], [1], [1]] type='3 * var * uint32[parameters={\"__doc__\": \"track...'>"
      ]
     },
     "execution_count": 16,
     "metadata": {},
     "output_type": "execute_result"
    }
   ],
   "source": [
    "tracks_end = edm4hep_base_events['ReconstructedParticleCollection/ReconstructedParticleCollection.tracks_end']\n",
    "tracks_end"
   ]
  },
  {
   "cell_type": "code",
   "execution_count": 17,
   "id": "e890968c-c3f6-4f76-ba2a-9462bf3e74d2",
   "metadata": {},
   "outputs": [
    {
     "data": {
      "text/html": [
       "<pre>[[0],\n",
       " [0],\n",
       " [0]]\n",
       "------------------------------------------------------------------------------------------------\n",
       "type: 3 * var * int32[parameters={&quot;__doc__&quot;: &quot;index[_ReconstructedParticleCollection_tracks_]&quot;}]</pre>"
      ],
      "text/plain": [
       "<Array [[0], [0], [0]] type='3 * var * int32[parameters={\"__doc__\": \"index[...'>"
      ]
     },
     "execution_count": 17,
     "metadata": {},
     "output_type": "execute_result"
    }
   ],
   "source": [
    "track_indices = edm4hep_base_events['_ReconstructedParticleCollection_tracks/_ReconstructedParticleCollection_tracks.index']\n",
    "track_indices"
   ]
  },
  {
   "cell_type": "code",
   "execution_count": 18,
   "id": "5f774b4e-88e4-42ba-8a6c-d251875476a0",
   "metadata": {},
   "outputs": [
    {
     "data": {
      "text/html": [
       "<pre>[[3879596180],\n",
       " [3879596180],\n",
       " [3879596180]]\n",
       "--------------------------------------------------------------------------------------------------------\n",
       "type: 3 * var * uint32[parameters={&quot;__doc__&quot;: &quot;collectionID[_ReconstructedParticleCollection_tracks_]&quot;}]</pre>"
      ],
      "text/plain": [
       "<Array [[3879596180], ..., [3879596180]] type='3 * var * uint32[parameters=...'>"
      ]
     },
     "execution_count": 18,
     "metadata": {},
     "output_type": "execute_result"
    }
   ],
   "source": [
    "track_collectionID = edm4hep_base_events[\n",
    "'_ReconstructedParticleCollection_tracks/_ReconstructedParticleCollection_tracks.collectionID'\n",
    "]\n",
    "track_collectionID"
   ]
  },
  {
   "cell_type": "markdown",
   "id": "dd3551fc-5e44-45ed-8342-b9c618e1c56a",
   "metadata": {},
   "source": [
    "#### EDM4HEPSchema has methods to create vectors of indices by combining the begin, end and indices"
   ]
  },
  {
   "cell_type": "code",
   "execution_count": 19,
   "id": "9541a5b5-cc3a-4940-ba43-51e04b02f00f",
   "metadata": {},
   "outputs": [
    {
     "data": {
      "text/plain": [
       "{'clusters_idx_ClusterCollection_collectionID',\n",
       " 'clusters_idx_ClusterCollection_index',\n",
       " 'clusters_idx_ClusterCollection_index_Global',\n",
       " 'decayVertex_idx_VertexCollection_collectionID',\n",
       " 'decayVertex_idx_VertexCollection_index',\n",
       " 'decayVertex_idx_VertexCollection_index_Global',\n",
       " 'particles_idx_ReconstructedParticleCollection_collectionID',\n",
       " 'particles_idx_ReconstructedParticleCollection_index',\n",
       " 'particles_idx_ReconstructedParticleCollection_index_Global',\n",
       " 'tracks_idx_TrackCollection_collectionID',\n",
       " 'tracks_idx_TrackCollection_index',\n",
       " 'tracks_idx_TrackCollection_index_Global'}"
      ]
     },
     "execution_count": 19,
     "metadata": {},
     "output_type": "execute_result"
    }
   ],
   "source": [
    "edm4hep_events.ReconstructedParticleCollection.List_Relations"
   ]
  },
  {
   "cell_type": "code",
   "execution_count": 20,
   "id": "292bd7a8-b5a5-492d-a98e-a5e508d03ccd",
   "metadata": {},
   "outputs": [
    {
     "data": {
      "text/html": [
       "<pre>[[[0]],\n",
       " [[0]],\n",
       " [[0]]]\n",
       "-------------------------------------------------------------------------------------------------------\n",
       "type: 3 * var * [var * float64, parameters={&quot;__doc__&quot;: &quot;tracks that have been used for this particle&quot;}]</pre>"
      ],
      "text/plain": [
       "<Array [[[0]], [[0]], [[0]]] type='3 * var * [var * float64, parameters={\"_...'>"
      ]
     },
     "execution_count": 20,
     "metadata": {},
     "output_type": "execute_result"
    }
   ],
   "source": [
    "edm4hep_events.ReconstructedParticleCollection.tracks_idx_TrackCollection_index"
   ]
  },
  {
   "cell_type": "markdown",
   "id": "58235326-aa2e-44b6-953d-c0f3da17dc17",
   "metadata": {},
   "source": [
    "To map the relation, one can once again use the `Map_Relation` method:"
   ]
  },
  {
   "cell_type": "code",
   "execution_count": 21,
   "id": "74bb87d8-9aba-47f2-b41f-28ff6c37d22f",
   "metadata": {},
   "outputs": [
    {
     "data": {
      "text/html": [
       "<pre>[[[{Nholes: 105, chi2: 43, ndf: 44, subdetectorHitNumbers: [...], ...}]],\n",
       " [[{Nholes: 105, chi2: 43, ndf: 44, subdetectorHitNumbers: [...], ...}]],\n",
       " [[{Nholes: 105, chi2: 43, ndf: 44, subdetectorHitNumbers: [...], ...}]]]\n",
       "----------------------------------------------------------------------------------------------------------------------------------------------------------------------------------------------------------------------------\n",
       "type: 3 * var * var * ?Track[\n",
       "    Nholes: int32[parameters={&quot;__doc__&quot;: &quot;number of holes on track&quot;}],\n",
       "    chi2: float32[parameters={&quot;__doc__&quot;: &quot;Chi^2 of the track fit&quot;}],\n",
       "    ndf: int32[parameters={&quot;__doc__&quot;: &quot;number of degrees of freedom of the track fit&quot;}],\n",
       "    subdetectorHitNumbers: [var * float64, parameters={&quot;__doc__&quot;: &quot;number of hits in particular subdetectors&quot;}],\n",
       "    subdetectorHoleNumbers: [var * float64, parameters={&quot;__doc__&quot;: &quot;number of holes in particular subdetectors&quot;}],\n",
       "    trackStates: struct[{\n",
       "        location: var * float64,\n",
       "        D0: var * float64,\n",
       "        phi: var * float64,\n",
       "        omega: var * float64,\n",
       "        Z0: var * float64,\n",
       "        tanLambda: var * float64,\n",
       "        time: var * float64,\n",
       "        referencePoint: var * ThreeVector[\n",
       "            x: float32[parameters={&quot;__doc__&quot;: &quot;Reference point of the track parameters, e.g. the origin at the IP, or the position  of the first/last hits or the entry point into the calorimeter&quot;}],\n",
       "            y: float32[parameters={&quot;__doc__&quot;: &quot;Reference point of the track parameters, e.g. the origin at the IP, or the position  of the first/last hits or the entry point into the calorimeter&quot;}],\n",
       "            z: float32[parameters={&quot;__doc__&quot;: &quot;Reference point of the track parameters, e.g. the origin at the IP, or the position  of the first/last hits or the entry point into the calorimeter&quot;}], \n",
       "        parameters={&quot;collection_name&quot;: &quot;referencePoint&quot;, &quot;__doc__&quot;: &quot;Reference point of the track parameters, e.g. the origin at the IP, or the position  of the first/last hits or the entry point into the calorimeter&quot;}],\n",
       "        covMatrix: var * var * float64\n",
       "    }, parameters={&quot;__doc__&quot;: &quot;track states&quot;}],\n",
       "    trackerHits_idx_TrackerHit3DCollection_collectionID: [var * float64, parameters={&quot;__doc__&quot;: &quot;hits that have been used to create this track&quot;}],\n",
       "    trackerHits_idx_TrackerHit3DCollection_index: [var * float64, parameters={&quot;__doc__&quot;: &quot;hits that have been used to create this track&quot;}],\n",
       "    trackerHits_idx_TrackerHit3DCollection_index_Global: [var * int64, parameters={&quot;__doc__&quot;: &quot;hits that have been used to create this track&quot;}],\n",
       "    trackerHits_idx_TrackerHitPlaneCollection_collectionID: [var * float64, parameters={&quot;__doc__&quot;: &quot;hits that have been used to create this track&quot;}],\n",
       "    trackerHits_idx_TrackerHitPlaneCollection_index: [var * float64, parameters={&quot;__doc__&quot;: &quot;hits that have been used to create this track&quot;}],\n",
       "    trackerHits_idx_TrackerHitPlaneCollection_index_Global: [var * int64, parameters={&quot;__doc__&quot;: &quot;hits that have been used to create this track&quot;}],\n",
       "    tracks_idx_TrackCollection_collectionID: [var * float64, parameters={&quot;__doc__&quot;: &quot;tracks (segments) that have been combined to create this track&quot;}],\n",
       "    tracks_idx_TrackCollection_index: [var * float64, parameters={&quot;__doc__&quot;: &quot;tracks (segments) that have been combined to create this track&quot;}],\n",
       "    tracks_idx_TrackCollection_index_Global: [var * int64, parameters={&quot;__doc__&quot;: &quot;tracks (segments) that have been combined to create this track&quot;}],\n",
       "    type: int32[parameters={&quot;__doc__&quot;: &quot;flagword that defines the type of track&quot;}], \n",
       "parameters={&quot;collection_name&quot;: &quot;TrackCollection&quot;, &quot;__doc__&quot;: &quot;Reconstructed track&quot;}]</pre>"
      ],
      "text/plain": [
       "<TrackArray [[[{Nholes: 105, chi2: 43, ...}]], ...] type='3 * var * var * ?...'>"
      ]
     },
     "execution_count": 21,
     "metadata": {},
     "output_type": "execute_result"
    }
   ],
   "source": [
    "edm4hep_events.ReconstructedParticleCollection.Map_Relation('tracks','TrackCollection')"
   ]
  },
  {
   "cell_type": "markdown",
   "id": "e3b7313b-7269-494a-a3c5-cfe32973bcdb",
   "metadata": {
    "jp-MarkdownHeadingCollapsed": true
   },
   "source": [
    "## Links"
   ]
  },
  {
   "cell_type": "markdown",
   "id": "56d7a1ff-5d86-4973-bfb6-6b7623f11638",
   "metadata": {},
   "source": [
    "- Links, represented by violet arrays in the edm4hep graph, are special OneToOneRelations that relate a subset of indices between two datatypes (unlike usual OneToOneRelations where each element of the parent datatype has a counterpart in the target datatype\n",
    "\n",
    "#### For example:\n",
    "The `RecoMCParticleLink` is defined in the edm4hep.yaml as:\n",
    "```yaml\n",
    "edm4hep::RecoMCParticleLink:\n",
    "    Description: \"Link between a ReconstructedParticle and the corresponding MCParticle\"\n",
    "    Author: \"EDM4hep authors\"\n",
    "    Members:\n",
    "      - float weight                        // weight of this link\n",
    "    OneToOneRelations:\n",
    "     - edm4hep::ReconstructedParticle  from  // reference to the reconstructed particle\n",
    "     - edm4hep::MCParticle to              // reference to the Monte-Carlo particle\n",
    "    ExtraCode:\n",
    "      declaration: \"\n",
    "      [[deprecated(\\\"use getFrom instead\\\")]] edm4hep::ReconstructedParticle getRec() const;\\n\n",
    "      [[deprecated(\\\"use getTo instead\\\")]] edm4hep::MCParticle getSim() const;\\n\"\n",
    "      implementation: \"\n",
    "      edm4hep::ReconstructedParticle {name}::getRec() const { return getFrom(); }\\n\n",
    "      edm4hep::MCParticle {name}::getSim() const { return getTo(); }\\n\"\n",
    "    MutableExtraCode:\n",
    "      declaration: \"\n",
    "      [[deprecated(\\\"use setFrom instead\\\")]]\\n\n",
    "      void setRec(const edm4hep::ReconstructedParticle& rec);\\n\n",
    "      [[deprecated(\\\"use setTo instead\\\")]]\\n\n",
    "      void setSim(const edm4hep::MCParticle& sim);\\n\n",
    "      \"\n",
    "      implementation: \"\n",
    "      void {name}::setSim(const edm4hep::MCParticle& sim) { setTo(sim); }\\n\n",
    "      void {name}::setRec(const edm4hep::ReconstructedParticle& rec) { setFrom(rec); }\\n\n",
    "      \"\n",
    "```\n",
    "Note that this format has changed in [#373](https://github.com/key4hep/EDM4hep/pull/373) in EDM4HEP\n"
   ]
  },
  {
   "cell_type": "markdown",
   "id": "5a22fd48-e8d3-4359-bda5-e4a6c10d8463",
   "metadata": {},
   "source": [
    "A Link is stored with 5 branches, and the 5 branches for `RecoMCParticleLink` are :"
   ]
  },
  {
   "cell_type": "code",
   "execution_count": 22,
   "id": "fc430e26-19b4-4bac-9c9c-587ded323666",
   "metadata": {},
   "outputs": [
    {
     "data": {
      "text/html": [
       "<pre>[[42],\n",
       " [42],\n",
       " [42]]\n",
       "----------------------------------------------------------------------------------------\n",
       "type: 3 * var * float32[parameters={&quot;__doc__&quot;: &quot;weight[RecoMCParticleLinkCollection_]&quot;}]</pre>"
      ],
      "text/plain": [
       "<Array [[42], [42], [42]] type='3 * var * float32[parameters={\"__doc__\": \"w...'>"
      ]
     },
     "execution_count": 22,
     "metadata": {},
     "output_type": "execute_result"
    }
   ],
   "source": [
    "link_weight = edm4hep_base_events['RecoMCParticleLinkCollection/RecoMCParticleLinkCollection.weight']\n",
    "link_weight"
   ]
  },
  {
   "cell_type": "code",
   "execution_count": 23,
   "id": "d77f5246-8fa6-4adb-84b2-e533c498ea2d",
   "metadata": {},
   "outputs": [
    {
     "data": {
      "text/html": [
       "<pre>[[0],\n",
       " [0],\n",
       " [0]]\n",
       "-------------------------------------------------------------------------------------------\n",
       "type: 3 * var * int32[parameters={&quot;__doc__&quot;: &quot;index[_RecoMCParticleLinkCollection_from_]&quot;}]</pre>"
      ],
      "text/plain": [
       "<Array [[0], [0], [0]] type='3 * var * int32[parameters={\"__doc__\": \"index[...'>"
      ]
     },
     "execution_count": 23,
     "metadata": {},
     "output_type": "execute_result"
    }
   ],
   "source": [
    "link_from_reco_index = edm4hep_base_events['_RecoMCParticleLinkCollection_from/_RecoMCParticleLinkCollection_from.index']\n",
    "link_from_reco_index"
   ]
  },
  {
   "cell_type": "code",
   "execution_count": 24,
   "id": "e6fdeb1f-d201-48bc-bbdc-1e1d0c648a31",
   "metadata": {},
   "outputs": [
    {
     "data": {
      "text/html": [
       "<pre>[[3078232928],\n",
       " [3078232928],\n",
       " [3078232928]]\n",
       "---------------------------------------------------------------------------------------------------\n",
       "type: 3 * var * uint32[parameters={&quot;__doc__&quot;: &quot;collectionID[_RecoMCParticleLinkCollection_from_]&quot;}]</pre>"
      ],
      "text/plain": [
       "<Array [[3078232928], ..., [3078232928]] type='3 * var * uint32[parameters=...'>"
      ]
     },
     "execution_count": 24,
     "metadata": {},
     "output_type": "execute_result"
    }
   ],
   "source": [
    "link_from_reco_collectionID = edm4hep_base_events['_RecoMCParticleLinkCollection_from/_RecoMCParticleLinkCollection_from.collectionID']\n",
    "link_from_reco_collectionID"
   ]
  },
  {
   "cell_type": "code",
   "execution_count": 25,
   "id": "cae0a0bc-18e4-44c3-89ef-53505536ab10",
   "metadata": {},
   "outputs": [
    {
     "data": {
      "text/html": [
       "<pre>[[0],\n",
       " [0],\n",
       " [0]]\n",
       "-----------------------------------------------------------------------------------------\n",
       "type: 3 * var * int32[parameters={&quot;__doc__&quot;: &quot;index[_RecoMCParticleLinkCollection_to_]&quot;}]</pre>"
      ],
      "text/plain": [
       "<Array [[0], [0], [0]] type='3 * var * int32[parameters={\"__doc__\": \"index[...'>"
      ]
     },
     "execution_count": 25,
     "metadata": {},
     "output_type": "execute_result"
    }
   ],
   "source": [
    "link_to_MC_index = edm4hep_base_events['_RecoMCParticleLinkCollection_to/_RecoMCParticleLinkCollection_to.index']\n",
    "link_to_MC_index"
   ]
  },
  {
   "cell_type": "code",
   "execution_count": 26,
   "id": "6094b42f-03ea-41de-8d0e-6032d7b83a61",
   "metadata": {},
   "outputs": [
    {
     "data": {
      "text/html": [
       "<pre>[[4183352422],\n",
       " [4183352422],\n",
       " [4183352422]]\n",
       "-------------------------------------------------------------------------------------------------\n",
       "type: 3 * var * uint32[parameters={&quot;__doc__&quot;: &quot;collectionID[_RecoMCParticleLinkCollection_to_]&quot;}]</pre>"
      ],
      "text/plain": [
       "<Array [[4183352422], ..., [4183352422]] type='3 * var * uint32[parameters=...'>"
      ]
     },
     "execution_count": 26,
     "metadata": {},
     "output_type": "execute_result"
    }
   ],
   "source": [
    "link_to_MC_collectionID = edm4hep_base_events['_RecoMCParticleLinkCollection_to/_RecoMCParticleLinkCollection_to.collectionID']\n",
    "link_to_MC_collectionID"
   ]
  },
  {
   "cell_type": "markdown",
   "id": "731c64fd-76a9-4812-9bd4-285b6ebccac6",
   "metadata": {},
   "source": [
    "#### All of these 4 branches (along with global indices) are zipped into a single collection in EDM4HEPSchema"
   ]
  },
  {
   "cell_type": "code",
   "execution_count": 27,
   "id": "496a56a6-3382-409f-b86b-1028026df0ac",
   "metadata": {},
   "outputs": [
    {
     "data": {
      "text/html": [
       "<pre>[[{Link_from_ReconstructedParticleCollection: {...}, ...}],\n",
       " [{Link_from_ReconstructedParticleCollection: {...}, ...}],\n",
       " [{Link_from_ReconstructedParticleCollection: {...}, ...}]]\n",
       "---------------------------------------------------------------------------------------------------------------------------------------------------\n",
       "type: 3 * var * RecoMCParticleLink[\n",
       "    Link_from_ReconstructedParticleCollection: {\n",
       "        index: int32[parameters={&quot;__doc__&quot;: &quot;unknown&quot;}],\n",
       "        collectionID: uint32[parameters={&quot;__doc__&quot;: &quot;unknown&quot;}],\n",
       "        index_Global: int64[parameters={&quot;__doc__&quot;: &quot;unknown&quot;}]\n",
       "    },\n",
       "    Link_to_MCParticleCollection: {\n",
       "        index: int32[parameters={&quot;__doc__&quot;: &quot;unknown&quot;}],\n",
       "        collectionID: uint32[parameters={&quot;__doc__&quot;: &quot;unknown&quot;}],\n",
       "        index_Global: int64[parameters={&quot;__doc__&quot;: &quot;unknown&quot;}]\n",
       "    },\n",
       "    weight: float32[parameters={&quot;__doc__&quot;: &quot;weight of this link&quot;}], \n",
       "parameters={&quot;collection_name&quot;: &quot;RecoMCParticleLinkCollection&quot;, &quot;__doc__&quot;: &quot;Link between a ReconstructedParticle and the corresponding MCParticle&quot;}]</pre>"
      ],
      "text/plain": [
       "<RecoMCParticleLinkArray [[{...}], [{...}], [{...}]] type='3 * var * RecoMC...'>"
      ]
     },
     "execution_count": 27,
     "metadata": {},
     "output_type": "execute_result"
    }
   ],
   "source": [
    "edm4hep_events.RecoMCParticleLinkCollection"
   ]
  },
  {
   "cell_type": "markdown",
   "id": "aa4b7502-4f56-40a6-bbcb-cdc8bbe83994",
   "metadata": {},
   "source": [
    "One can get the MC Particle corresponding to a reconstructed particle with:"
   ]
  },
  {
   "cell_type": "markdown",
   "id": "de3fe1d2-871b-4f30-a4ff-5edf9758e898",
   "metadata": {},
   "source": [
    "#### Start with combining ReconstructedParticle collection and the Link_from_ReconstructedParticleCollection"
   ]
  },
  {
   "cell_type": "code",
   "execution_count": 39,
   "id": "9c2680d5-c37c-45fc-8ce3-9c5a6b7534d1",
   "metadata": {},
   "outputs": [],
   "source": [
    "R = edm4hep_events.ReconstructedParticleCollection\n",
    "R['Link_from_ReconstructedParticleCollection']  = edm4hep_events.RecoMCParticleLinkCollection.Link_from_ReconstructedParticleCollection"
   ]
  },
  {
   "cell_type": "code",
   "execution_count": 40,
   "id": "e38509d6-3520-4b2c-819d-02e602d069f4",
   "metadata": {},
   "outputs": [
    {
     "data": {
      "text/plain": [
       "['E',\n",
       " 'PDG',\n",
       " 'charge',\n",
       " 'clusters_idx_ClusterCollection_collectionID',\n",
       " 'clusters_idx_ClusterCollection_index',\n",
       " 'clusters_idx_ClusterCollection_index_Global',\n",
       " 'covMatrix',\n",
       " 'decayVertex_idx_VertexCollection_collectionID',\n",
       " 'decayVertex_idx_VertexCollection_index',\n",
       " 'decayVertex_idx_VertexCollection_index_Global',\n",
       " 'goodnessOfPID',\n",
       " 'mass',\n",
       " 'particles_idx_ReconstructedParticleCollection_collectionID',\n",
       " 'particles_idx_ReconstructedParticleCollection_index',\n",
       " 'particles_idx_ReconstructedParticleCollection_index_Global',\n",
       " 'px',\n",
       " 'py',\n",
       " 'pz',\n",
       " 'referencePoint',\n",
       " 'tracks_idx_TrackCollection_collectionID',\n",
       " 'tracks_idx_TrackCollection_index',\n",
       " 'tracks_idx_TrackCollection_index_Global',\n",
       " 'Link_from_ReconstructedParticleCollection']"
      ]
     },
     "execution_count": 40,
     "metadata": {},
     "output_type": "execute_result"
    }
   ],
   "source": [
    "R.fields"
   ]
  },
  {
   "cell_type": "markdown",
   "id": "4a5c9b8d-c77e-4fd3-87d4-021efc600951",
   "metadata": {},
   "source": [
    "#### Now apply the cuts and selections that one wants to apply"
   ]
  },
  {
   "cell_type": "code",
   "execution_count": 42,
   "id": "b80465b8-0574-4d73-a896-432936720c2b",
   "metadata": {},
   "outputs": [
    {
     "data": {
      "text/html": [
       "<pre>[[{E: 43, PDG: 42, charge: 50, ...}],\n",
       " [{E: 43, PDG: 42, charge: 50, ...}],\n",
       " [{E: 43, PDG: 42, charge: 50, ...}]]\n",
       "---------------------------------------------------------------------------------------------------------------------------------------------------------------------------------------------\n",
       "type: 3 * var * ReconstructedParticle[\n",
       "    E: float32[parameters={&quot;__doc__&quot;: &quot;energy of the reconstructed particle. Four momentum state is not kept consistent internally&quot;}],\n",
       "    PDG: int32[parameters={&quot;__doc__&quot;: &quot;PDG of the reconstructed particle.&quot;}],\n",
       "    charge: float32[parameters={&quot;__doc__&quot;: &quot;charge of the reconstructed particle&quot;}],\n",
       "    clusters_idx_ClusterCollection_collectionID: [var * float64, parameters={&quot;__doc__&quot;: &quot;clusters that have been used for this particle&quot;}],\n",
       "    clusters_idx_ClusterCollection_index: [var * float64, parameters={&quot;__doc__&quot;: &quot;clusters that have been used for this particle&quot;}],\n",
       "    clusters_idx_ClusterCollection_index_Global: [var * int64, parameters={&quot;__doc__&quot;: &quot;clusters that have been used for this particle&quot;}],\n",
       "    covMatrix: None[\n",
       "        &quot;values[10]&quot;: [10 * float32[parameters={&quot;__doc__&quot;: &quot;values[ReconstructedParticleCollection_]&quot;}], parameters={&quot;__doc__&quot;: &quot;covariance matrix of the reconstructed particle 4vector&quot;}], \n",
       "    parameters={&quot;collection_name&quot;: &quot;covMatrix&quot;, &quot;__doc__&quot;: &quot;covariance matrix of the reconstructed particle 4vector&quot;}],\n",
       "    decayVertex_idx_VertexCollection_collectionID: uint32[parameters={&quot;__doc__&quot;: &quot;decay vertex for the particle (if it is a composite particle)&quot;}],\n",
       "    decayVertex_idx_VertexCollection_index: int32[parameters={&quot;__doc__&quot;: &quot;decay vertex for the particle (if it is a composite particle)&quot;}],\n",
       "    decayVertex_idx_VertexCollection_index_Global: int64[parameters={&quot;__doc__&quot;: &quot;decay vertex for the particle (if it is a composite particle)&quot;}],\n",
       "    goodnessOfPID: float32[parameters={&quot;__doc__&quot;: &quot;overall goodness of the PID on a scale of [0;1]&quot;}],\n",
       "    mass: float32[parameters={&quot;__doc__&quot;: &quot;mass of the reconstructed particle, set independently from four vector. Four momentum state is not kept consistent internally&quot;}],\n",
       "    particles_idx_ReconstructedParticleCollection_collectionID: [var * float64, parameters={&quot;__doc__&quot;: &quot;reconstructed particles that have been combined to this particle&quot;}],\n",
       "    particles_idx_ReconstructedParticleCollection_index: [var * float64, parameters={&quot;__doc__&quot;: &quot;reconstructed particles that have been combined to this particle&quot;}],\n",
       "    particles_idx_ReconstructedParticleCollection_index_Global: [var * int64, parameters={&quot;__doc__&quot;: &quot;reconstructed particles that have been combined to this particle&quot;}],\n",
       "    px: float32[parameters={&quot;__doc__&quot;: &quot;particle momentum. Four momentum state is not kept consistent internally&quot;}],\n",
       "    py: float32[parameters={&quot;__doc__&quot;: &quot;particle momentum. Four momentum state is not kept consistent internally&quot;}],\n",
       "    pz: float32[parameters={&quot;__doc__&quot;: &quot;particle momentum. Four momentum state is not kept consistent internally&quot;}],\n",
       "    referencePoint: ThreeVector[\n",
       "        x: float32[parameters={&quot;__doc__&quot;: &quot;reference, i.e. where the particle has been measured&quot;}],\n",
       "        y: float32[parameters={&quot;__doc__&quot;: &quot;reference, i.e. where the particle has been measured&quot;}],\n",
       "        z: float32[parameters={&quot;__doc__&quot;: &quot;reference, i.e. where the particle has been measured&quot;}], \n",
       "    parameters={&quot;collection_name&quot;: &quot;referencePoint&quot;, &quot;__doc__&quot;: &quot;reference, i.e. where the particle has been measured&quot;}],\n",
       "    tracks_idx_TrackCollection_collectionID: [var * float64, parameters={&quot;__doc__&quot;: &quot;tracks that have been used for this particle&quot;}],\n",
       "    tracks_idx_TrackCollection_index: [var * float64, parameters={&quot;__doc__&quot;: &quot;tracks that have been used for this particle&quot;}],\n",
       "    tracks_idx_TrackCollection_index_Global: [var * int64, parameters={&quot;__doc__&quot;: &quot;tracks that have been used for this particle&quot;}],\n",
       "    Link_from_ReconstructedParticleCollection: {\n",
       "        index: int32[parameters={&quot;__doc__&quot;: &quot;unknown&quot;}],\n",
       "        collectionID: uint32[parameters={&quot;__doc__&quot;: &quot;unknown&quot;}],\n",
       "        index_Global: int64[parameters={&quot;__doc__&quot;: &quot;unknown&quot;}]\n",
       "    }, \n",
       "parameters={&quot;collection_name&quot;: &quot;ReconstructedParticleCollection&quot;, &quot;__doc__&quot;: &quot;Reconstructed Particle&quot;}]</pre>"
      ],
      "text/plain": [
       "<ReconstructedParticleArray [[{E: 43, PDG: 42, ...}], ..., [{...}]] type='3...'>"
      ]
     },
     "execution_count": 42,
     "metadata": {},
     "output_type": "execute_result"
    }
   ],
   "source": [
    "R = R[R.energy >  10 ] # reconstructed particles with energy > 10 GeV\n",
    "R"
   ]
  },
  {
   "cell_type": "markdown",
   "id": "7ffc9796-8afc-4c60-b975-577ba1c3d100",
   "metadata": {},
   "source": [
    "### Now get the MCParticle indices corresponding to the resulting reconstructed particles"
   ]
  },
  {
   "cell_type": "code",
   "execution_count": 47,
   "id": "73f3bf13-3be8-4876-84f4-4ce28baea515",
   "metadata": {},
   "outputs": [
    {
     "data": {
      "text/html": [
       "<pre>[[0],\n",
       " [3],\n",
       " [6]]\n",
       "--------------------------------------------------------\n",
       "type: 3 * var * int64[parameters={&quot;__doc__&quot;: &quot;unknown&quot;}]</pre>"
      ],
      "text/plain": [
       "<Array [[0], [3], [6]] type='3 * var * int64[parameters={\"__doc__\": \"unknow...'>"
      ]
     },
     "execution_count": 47,
     "metadata": {},
     "output_type": "execute_result"
    }
   ],
   "source": [
    "mask = R.Link_from_ReconstructedParticleCollection.index == edm4hep_events.RecoMCParticleLinkCollection.Link_from_ReconstructedParticleCollection.index\n",
    "Link = edm4hep_events.RecoMCParticleLinkCollection[mask]\n",
    "MC_index_global = Link.Link_to_MCParticleCollection.index_Global\n",
    "MC_index_global"
   ]
  },
  {
   "cell_type": "markdown",
   "id": "0e65fa69-8e05-45ae-a551-0ebd4be3f3fb",
   "metadata": {},
   "source": [
    "### Finally, apply the global indices to MCParticleCollection to get the final MCParticles"
   ]
  },
  {
   "cell_type": "code",
   "execution_count": 50,
   "id": "7ab1da79-84cb-4627-bef3-1defc63436f3",
   "metadata": {},
   "outputs": [
    {
     "data": {
      "text/html": [
       "<pre>[[{PDG: 42, charge: 45, colorFlow: {x: 63, ...}, ...}],\n",
       " [{PDG: 42, charge: 45, colorFlow: {x: 63, ...}, ...}],\n",
       " [{PDG: 42, charge: 45, colorFlow: {x: 63, ...}, ...}]]\n",
       "-----------------------------------------------------------------------------------------------------------------------------------------------------------------\n",
       "type: 3 * var * ?MCParticle[\n",
       "    PDG: int32[parameters={&quot;__doc__&quot;: &quot;PDG code of the particle&quot;}],\n",
       "    charge: float32[parameters={&quot;__doc__&quot;: &quot;particle charge&quot;}],\n",
       "    colorFlow: TwoVector[\n",
       "        x: int32[parameters={&quot;__doc__&quot;: &quot;color flow as defined by the generator&quot;}],\n",
       "        y: int32[parameters={&quot;__doc__&quot;: &quot;color flow as defined by the generator&quot;}], \n",
       "    parameters={&quot;collection_name&quot;: &quot;colorFlow&quot;, &quot;__doc__&quot;: &quot;color flow as defined by the generator&quot;}],\n",
       "    daughters_idx_MCParticleCollection_collectionID: [var * float64, parameters={&quot;__doc__&quot;: &quot;The daughters this particle&quot;}],\n",
       "    daughters_idx_MCParticleCollection_index: [var * float64, parameters={&quot;__doc__&quot;: &quot;The daughters this particle&quot;}],\n",
       "    daughters_idx_MCParticleCollection_index_Global: [var * int64, parameters={&quot;__doc__&quot;: &quot;The daughters this particle&quot;}],\n",
       "    endpoint: ThreeVector[\n",
       "        x: float64[parameters={&quot;__doc__&quot;: &quot;endpoint of the particle&quot;}],\n",
       "        y: float64[parameters={&quot;__doc__&quot;: &quot;endpoint of the particle&quot;}],\n",
       "        z: float64[parameters={&quot;__doc__&quot;: &quot;endpoint of the particle&quot;}], \n",
       "    parameters={&quot;collection_name&quot;: &quot;endpoint&quot;, &quot;__doc__&quot;: &quot;endpoint of the particle&quot;}],\n",
       "    generatorStatus: int32[parameters={&quot;__doc__&quot;: &quot;status of the particle as defined by the generator&quot;}],\n",
       "    mass: float64[parameters={&quot;__doc__&quot;: &quot;mass of the particle&quot;}],\n",
       "    momentumAtEndpoint: ThreeVector[\n",
       "        x: float64[parameters={&quot;__doc__&quot;: &quot;particle 3-momentum at the endpoint&quot;}],\n",
       "        y: float64[parameters={&quot;__doc__&quot;: &quot;particle 3-momentum at the endpoint&quot;}],\n",
       "        z: float64[parameters={&quot;__doc__&quot;: &quot;particle 3-momentum at the endpoint&quot;}], \n",
       "    parameters={&quot;collection_name&quot;: &quot;momentumAtEndpoint&quot;, &quot;__doc__&quot;: &quot;particle 3-momentum at the endpoint&quot;}],\n",
       "    parents_idx_MCParticleCollection_collectionID: [var * float64, parameters={&quot;__doc__&quot;: &quot;The parents of this particle&quot;}],\n",
       "    parents_idx_MCParticleCollection_index: [var * float64, parameters={&quot;__doc__&quot;: &quot;The parents of this particle&quot;}],\n",
       "    parents_idx_MCParticleCollection_index_Global: [var * int64, parameters={&quot;__doc__&quot;: &quot;The parents of this particle&quot;}],\n",
       "    px: float64[parameters={&quot;__doc__&quot;: &quot;particle 3-momentum at the production vertex&quot;}],\n",
       "    py: float64[parameters={&quot;__doc__&quot;: &quot;particle 3-momentum at the production vertex&quot;}],\n",
       "    pz: float64[parameters={&quot;__doc__&quot;: &quot;particle 3-momentum at the production vertex&quot;}],\n",
       "    simulatorStatus: int32[parameters={&quot;__doc__&quot;: &quot;status of the particle from the simulation program - use BIT constants below&quot;}],\n",
       "    spin: ThreeVector[\n",
       "        x: float32[parameters={&quot;__doc__&quot;: &quot;spin (helicity) vector of the particle&quot;}],\n",
       "        y: float32[parameters={&quot;__doc__&quot;: &quot;spin (helicity) vector of the particle&quot;}],\n",
       "        z: float32[parameters={&quot;__doc__&quot;: &quot;spin (helicity) vector of the particle&quot;}], \n",
       "    parameters={&quot;collection_name&quot;: &quot;spin&quot;, &quot;__doc__&quot;: &quot;spin (helicity) vector of the particle&quot;}],\n",
       "    time: float32[parameters={&quot;__doc__&quot;: &quot;creation time of the particle in wrt. the event, e.g. for preassigned decays or decays in flight from the simulator&quot;}],\n",
       "    vertex: ThreeVector[\n",
       "        x: float64[parameters={&quot;__doc__&quot;: &quot;production vertex of the particle&quot;}],\n",
       "        y: float64[parameters={&quot;__doc__&quot;: &quot;production vertex of the particle&quot;}],\n",
       "        z: float64[parameters={&quot;__doc__&quot;: &quot;production vertex of the particle&quot;}], \n",
       "    parameters={&quot;collection_name&quot;: &quot;vertex&quot;, &quot;__doc__&quot;: &quot;production vertex of the particle&quot;}], \n",
       "parameters={&quot;collection_name&quot;: &quot;MCParticleCollection&quot;, &quot;__doc__&quot;: &quot;The Monte Carlo particle - based on the lcio::MCParticle.&quot;}]</pre>"
      ],
      "text/plain": [
       "<MCParticleArray [[{PDG: 42, charge: 45, ...}], ...] type='3 * var * ?MCPar...'>"
      ]
     },
     "execution_count": 50,
     "metadata": {},
     "output_type": "execute_result"
    }
   ],
   "source": [
    "matched_mc = edm4hep_events.MCParticleCollection._apply_global_index(MC_index_global)\n",
    "matched_mc"
   ]
  },
  {
   "cell_type": "markdown",
   "id": "8e8add7c-3b9f-4706-a328-b14dd2b9535b",
   "metadata": {},
   "source": [
    "### Note: Due to various issues like unknown collectionID of collections, mismatching shapes of link branches, I think I cannot add simplified methods like 'Map_Link' to facilitate mapping the links easily. But I do think that this could improved in Schemas that derive from EDM4Schema (For example FCCSchema newstyle)"
   ]
  },
  {
   "cell_type": "code",
   "execution_count": null,
   "id": "00e02500-46cc-4409-a082-8ac8a56cc8f2",
   "metadata": {},
   "outputs": [],
   "source": []
  }
 ],
 "metadata": {
  "kernelspec": {
   "display_name": "Python 3 (ipykernel)",
   "language": "python",
   "name": "python3"
  },
  "language_info": {
   "codemirror_mode": {
    "name": "ipython",
    "version": 3
   },
   "file_extension": ".py",
   "mimetype": "text/x-python",
   "name": "python",
   "nbconvert_exporter": "python",
   "pygments_lexer": "ipython3",
   "version": "3.12.8"
  }
 },
 "nbformat": 4,
 "nbformat_minor": 5
}
