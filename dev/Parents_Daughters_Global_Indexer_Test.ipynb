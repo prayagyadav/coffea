{
 "cells": [
  {
   "cell_type": "code",
   "execution_count": 1,
   "id": "99084dd3-6427-4543-936c-eb530c453e51",
   "metadata": {},
   "outputs": [
    {
     "name": "stderr",
     "output_type": "stream",
     "text": [
      "/home/prayag/coffeafcc/development/coffea/src/coffea/nanoevents/schemas/fcc.py:5: FutureWarning: In version 2025.1.0 (target date: 2024-12-31 11:59:59-06:00), this will be an error.\n",
      "To raise these warnings as errors (and get stack traces to find out where they're called), run\n",
      "    import warnings\n",
      "    warnings.filterwarnings(\"error\", module=\"coffea.*\")\n",
      "after the first `import coffea` or use `@pytest.mark.filterwarnings(\"error:::coffea.*\")` in pytest.\n",
      "Issue: coffea.nanoevents.methods.vector will be removed and replaced with scikit-hep vector. Nanoevents schemas internal to coffea will be migrated. Otherwise please consider using that package!.\n",
      "  from coffea.nanoevents.methods import vector\n"
     ]
    }
   ],
   "source": [
    "from coffea.nanoevents import NanoEventsFactory, BaseSchema, FCC\n",
    "import awkward\n",
    "import dask_awkward\n",
    "import numpy"
   ]
  },
  {
   "cell_type": "code",
   "execution_count": 2,
   "id": "b0479692-bda9-43e7-aeff-3009a0fd04a5",
   "metadata": {},
   "outputs": [
    {
     "name": "stderr",
     "output_type": "stream",
     "text": [
      "/home/prayag/coffeafcc/development/coffea/src/coffea/util.py:226: UserWarning: Skipping _intMap as it is not interpretable by Uproot\n",
      "  warnings.warn(\n",
      "/home/prayag/coffeafcc/development/coffea/src/coffea/util.py:234: UserWarning: Skipping _intMap.first as it is not interpretable by Uproot\n",
      "  warnings.warn(\n",
      "/home/prayag/coffeafcc/development/coffea/src/coffea/util.py:234: UserWarning: Skipping _intMap.second as it is not interpretable by Uproot\n",
      "  warnings.warn(\n",
      "/home/prayag/coffeafcc/development/coffea/src/coffea/util.py:226: UserWarning: Skipping _floatMap as it is not interpretable by Uproot\n",
      "  warnings.warn(\n",
      "/home/prayag/coffeafcc/development/coffea/src/coffea/util.py:234: UserWarning: Skipping _floatMap.first as it is not interpretable by Uproot\n",
      "  warnings.warn(\n",
      "/home/prayag/coffeafcc/development/coffea/src/coffea/util.py:234: UserWarning: Skipping _floatMap.second as it is not interpretable by Uproot\n",
      "  warnings.warn(\n",
      "/home/prayag/coffeafcc/development/coffea/src/coffea/util.py:226: UserWarning: Skipping _stringMap as it is not interpretable by Uproot\n",
      "  warnings.warn(\n",
      "/home/prayag/coffeafcc/development/coffea/src/coffea/util.py:234: UserWarning: Skipping _stringMap.first as it is not interpretable by Uproot\n",
      "  warnings.warn(\n",
      "/home/prayag/coffeafcc/development/coffea/src/coffea/util.py:234: UserWarning: Skipping _stringMap.second as it is not interpretable by Uproot\n",
      "  warnings.warn(\n"
     ]
    }
   ],
   "source": [
    "# fcc = FCC.get_schema()\n",
    "# events = NanoEventsFactory.from_root(\n",
    "#     '../coffea-fcc-analyses/data/wzp6_ee_mumuH_Hbb_ecm240/events_159112833.root:events',\n",
    "#     schemaclass=fcc,\n",
    "#     entry_start=100,\n",
    "#     entry_stop=200,\n",
    "#     metadata={'dataset':'ZH'},\n",
    "#     delayed=False,\n",
    "#     uproot_options={\"filter_name\": lambda x : \"PARAMETERS\" not in x}\n",
    "# ).events()\n",
    "fcc = FCC.get_schema()\n",
    "events = NanoEventsFactory.from_root(\n",
    "    '../coffea-fcc-analyses/data/wzp6_ee_mumuH_Hbb_ecm240/events_159112833.root:events',\n",
    "    schemaclass=fcc,\n",
    "    metadata={'dataset':'ZH'},\n",
    "    delayed=True,\n",
    "    uproot_options={\"filter_name\": lambda x : \"PARAMETERS\" not in x}\n",
    ").events()"
   ]
  },
  {
   "cell_type": "markdown",
   "id": "0af7547e-002b-4460-a0b6-be9b4826c61c",
   "metadata": {},
   "source": [
    "## Test Daughters"
   ]
  },
  {
   "cell_type": "code",
   "execution_count": 3,
   "id": "71b9fb41-2e5a-4225-9259-6f52fceac51c",
   "metadata": {},
   "outputs": [
    {
     "data": {
      "text/plain": [
       "['Particleidx1_rangesG', 'begin', 'begin_end_counts', 'end']"
      ]
     },
     "execution_count": 3,
     "metadata": {},
     "output_type": "execute_result"
    }
   ],
   "source": [
    "events.Particle.daughters.fields"
   ]
  },
  {
   "cell_type": "code",
   "execution_count": 4,
   "id": "f9df17b4-e1d4-45e8-9b37-a815a478c36f",
   "metadata": {},
   "outputs": [
    {
     "name": "stdout",
     "output_type": "stream",
     "text": [
      "\n",
      "Shape of Particle collection before any cut:\n",
      " [124, 152, 109, 145, 106, 147, 110, 170, ..., 110, 134, 84, 120, 160, 135, 133]\n",
      "\n",
      "Shape of Particle collection after pt cut:\n",
      " [5, 8, 15, 10, 11, 9, 7, 8, 12, 11, 7, ..., 16, 16, 7, 7, 8, 7, 9, 9, 10, 8, 16]\n",
      "\n",
      "Shape of Daughter collection (at axis=1) after pt cut:\n",
      " [5, 8, 15, 10, 11, 9, 7, 8, 12, 11, 7, ..., 16, 16, 7, 7, 8, 7, 9, 9, 10, 8, 16]\n",
      "\n",
      "Shape of Particle collection after pt cut and event cut (n = 2):\n",
      " [5, 3, 4, 6, 6, 4, 3, 5, 5, 6, 4, 6, 6, ..., 6, 4, 3, 6, 6, 6, 5, 5, 6, 4, 6, 6]\n",
      "\n",
      "Shape of daughter collection (at axis=1) after pt cut and event cut(n < 7):\n",
      " [5, 3, 4, 6, 6, 4, 3, 5, 5, 6, 4, 6, 6, ..., 6, 4, 3, 6, 6, 6, 5, 5, 6, 4, 6, 6]\n",
      "\n",
      "PDG of resulting daughters:\n",
      "\n"
     ]
    },
    {
     "data": {
      "text/html": [
       "<pre>[[[13], ..., [513, -1114, 115, 1114, 223, ..., -313, 313, -311, 321, -10523]],\n",
       " [[5, -5], ..., [-523, 223, 215, -213, 215, ..., 2112, 223, -2114, 223, 521]],\n",
       " [[-13], ..., [-511, 113, -213, 111, 225, 213, ..., 211, -213, 213, 313, 531]],\n",
       " [[-13], ..., [-515, 10111, 1114, 331, -2112, ..., 2214, 223, -2112, 223, 223]],\n",
       " [[-13], ..., [-533, 3214, 223, -2212, 10211, ..., 213, 313, -321, 213, 10513]],\n",
       " [[13], [-13], [], []],\n",
       " [[5, -5], ..., [5122, -2212, 10323, -323, 221, ..., 113, 321, -321, 523]],\n",
       " [[-13, 22], ..., [20513, -311, 313, -10313, ..., 10213, -213, 213, -521]],\n",
       " [[-13, 22], [5, 21, 21, 21], [21, 21, -5], [], [92]],\n",
       " [[13], [-13], ..., [-10521, 111, 223, 2212, -3122, 10333, -313, 10111, 511]],\n",
       " ...,\n",
       " [[5, -5], [21, 21, 21, 5], ..., [-5122, 2112, ..., -511], [-12, 11, 413]],\n",
       " [[-13], ..., [523, 113, 113, -211, 213, -211, ..., 113, 221, 215, -213, -513]],\n",
       " [[13, 22], [-13, 22], [5, 21, 21, 21], [21, -5], [], []],\n",
       " [[13], [...], ..., [-523, 211, -211, 211, -213, 213, -213, 10213, 115, 511]],\n",
       " [[-13], ..., [-511, -213, 223, 323, 3312, ..., 333, 335, -311, 113, 515]],\n",
       " [[13, 22], ..., [-523, 225, 223, 211, 113, ..., -3112, -213, 10113, 523]],\n",
       " [[13], [-13, 22], [], []],\n",
       " [[13], ..., [10533, 10323, -10323, 321, 113, ..., -213, 221, -313, -533]],\n",
       " [[-13, 22], [5, -5], ..., [-521, 213, -211, ..., 223, 111, 513], [421, -213]]]\n",
       "--------------------------------------------------------------------------------\n",
       "type: 11693 * var * var * ?int32[parameters={&quot;__doc__&quot;: &quot;PDG[Particle_]&quot;}]</pre>"
      ],
      "text/plain": [
       "<Array [[[13], ..., [513, ..., -10523]], ...] type='11693 * var * var * ?in...'>"
      ]
     },
     "execution_count": 4,
     "metadata": {},
     "output_type": "execute_result"
    }
   ],
   "source": [
    "print(\"\\nShape of Particle collection before any cut:\\n\", awkward.num(events.Particle, axis=1).compute())\n",
    "\n",
    "cut_within_events = events.Particle.pt > 30\n",
    "p1 = events.Particle[cut_within_events]\n",
    "print(\"\\nShape of Particle collection after pt cut:\\n\", awkward.num(p1, axis=1).compute())\n",
    "\n",
    "d1 = p1.get_daughters\n",
    "print(\"\\nShape of Daughter collection (at axis=1) after pt cut:\\n\", awkward.num(d1, axis=1).compute())\n",
    "\n",
    "ev_cut = awkward.num(p1, axis=1) < 7\n",
    "p2 = p1[ev_cut]\n",
    "print(\"\\nShape of Particle collection after pt cut and event cut (n = 2):\\n\", awkward.num(p2, axis=1).compute())\n",
    "\n",
    "d2 = p2.get_daughters\n",
    "print(\"\\nShape of daughter collection (at axis=1) after pt cut and event cut(n < 7):\\n\", awkward.num(d2, axis=1).compute())\n",
    "\n",
    "print(\"\\nPDG of resulting daughters:\\n\")\n",
    "d2.PDG.compute()"
   ]
  },
  {
   "cell_type": "markdown",
   "id": "1c370620-1419-4614-9215-a1b8b6b87ff2",
   "metadata": {},
   "source": [
    "## Test Parents"
   ]
  },
  {
   "cell_type": "code",
   "execution_count": 5,
   "id": "5eb8d6a4-49e8-4b8e-9738-2e09c15e3b04",
   "metadata": {},
   "outputs": [
    {
     "data": {
      "text/plain": [
       "['Particleidx0_rangesG', 'begin', 'begin_end_counts', 'end']"
      ]
     },
     "execution_count": 5,
     "metadata": {},
     "output_type": "execute_result"
    }
   ],
   "source": [
    "events.Particle.parents.fields"
   ]
  },
  {
   "cell_type": "code",
   "execution_count": 6,
   "id": "7872a93b-e712-482b-96d4-61a17f47f201",
   "metadata": {},
   "outputs": [
    {
     "name": "stdout",
     "output_type": "stream",
     "text": [
      "\n",
      "Shape of Particle collection before any cut:\n",
      " [124, 152, 109, 145, 106, 147, 110, 170, ..., 110, 134, 84, 120, 160, 135, 133]\n",
      "\n",
      "Shape of Particle collection after pt cut:\n",
      " [5, 8, 15, 10, 11, 9, 7, 8, 12, 11, 7, ..., 16, 16, 7, 7, 8, 7, 9, 9, 10, 8, 16]\n",
      "\n",
      "Shape of Parent collection (at axis=1) after pt cut:\n",
      " [5, 8, 15, 10, 11, 9, 7, 8, 12, 11, 7, ..., 16, 16, 7, 7, 8, 7, 9, 9, 10, 8, 16]\n",
      "\n",
      "Shape of Particle collection after pt cut and event cut (n = 2):\n",
      " [5, 3, 4, 6, 6, 4, 3, 5, 5, 6, 4, 6, 6, ..., 6, 4, 3, 6, 6, 6, 5, 5, 6, 4, 6, 6]\n",
      "\n",
      "Shape of Parent collection (at axis=1) after pt cut and event cut(n < 7):\n",
      " [5, 3, 4, 6, 6, 4, 3, 5, 5, 6, 4, 6, 6, ..., 6, 4, 3, 6, 6, 6, 5, 5, 6, 4, 6, 6]\n",
      "\n",
      "PDG of resulting parents:\n",
      "\n"
     ]
    },
    {
     "data": {
      "text/html": [
       "<pre>[[[11, -11], [11, -11], [25], [13], [-5, 21, 21, 21, 21, 21, 21, 21, 5]],\n",
       " [[11, -11], [25], [5, 21, 21, 21, 21, 21, -5]],\n",
       " [[11, -11], [11, -11], [-13], [5, 21, 21, 21, 21, 21, -5]],\n",
       " [[11, -11], [11, -11], [25], [25], [-13], [5, 21, 21, 21, 21, 21, -1]],\n",
       " [[11, -11], [11, -11], [25], ..., [-13], [5, 21, 21, 21, 21, 21, 21, -5]],\n",
       " [[11, -11], [11, -11], [13], [-13]],\n",
       " [[11, -11], [25], [5, 21, 21, 21, 21, 21, 21, 21, -5]],\n",
       " [[11, -11], [11, -11], ..., [-5, 21, 21, 21, 21, 21, 21, 21, 21, 21, 5]],\n",
       " [[11, -11], [25], [25], [-13], [5]],\n",
       " [[11, -11], [11, -11], [11, -11], [13], [-13], [5, 21, 21, 21, -5]],\n",
       " ...,\n",
       " [[11, -11], [25], [25], [5], [-5, 21, 21, 21, 21, 5], [92]],\n",
       " [[11, -11], [11, -11], [25], [25], [-13], [-5, 21, 21, 21, 21, 21, 5]],\n",
       " [[11, -11], [11, -11], [25], [25], [13], [-13]],\n",
       " [[11, -11], [11, -11], [25], [13], [5, 21, 21, -5]],\n",
       " [[11, -11], [11, -11], [25], [-13], [5, 21, 21, 21, 21, 21, -5]],\n",
       " [[11, -11], [11, -11], [...], ..., [-13], [5, 21, 21, 21, 21, 21, 21, 21, -5]],\n",
       " [[11, -11], [11, -11], [13], [-13]],\n",
       " [[11, -11], [11, -11], [11, -11], [13], [-13], [-5, 21, 21, 21, 21, 5]],\n",
       " [[11, -11], [11, -11], [25], [5], [5, 21, -5], [92]]]\n",
       "--------------------------------------------------------------------------------\n",
       "type: 11693 * var * var * ?int32[parameters={&quot;__doc__&quot;: &quot;PDG[Particle_]&quot;}]</pre>"
      ],
      "text/plain": [
       "<Array [[[11, -11], ..., [-5, ..., 5]], ...] type='11693 * var * var * ?int...'>"
      ]
     },
     "execution_count": 6,
     "metadata": {},
     "output_type": "execute_result"
    }
   ],
   "source": [
    "print(\"\\nShape of Particle collection before any cut:\\n\", awkward.num(events.Particle, axis=1).compute())\n",
    "\n",
    "cut_within_events = events.Particle.pt > 30\n",
    "p1 = events.Particle[cut_within_events]\n",
    "print(\"\\nShape of Particle collection after pt cut:\\n\", awkward.num(p1, axis=1).compute())\n",
    "\n",
    "pa1 = p1.get_parents\n",
    "print(\"\\nShape of Parent collection (at axis=1) after pt cut:\\n\", awkward.num(pa1, axis=1).compute())\n",
    "\n",
    "ev_cut = awkward.num(p1, axis=1) < 7\n",
    "p2 = p1[ev_cut]\n",
    "print(\"\\nShape of Particle collection after pt cut and event cut (n = 2):\\n\", awkward.num(p2, axis=1).compute())\n",
    "\n",
    "pa2 = p2.get_parents\n",
    "print(\"\\nShape of Parent collection (at axis=1) after pt cut and event cut(n < 7):\\n\", awkward.num(pa2, axis=1).compute())\n",
    "\n",
    "print(\"\\nPDG of resulting parents:\\n\")\n",
    "pa2.PDG.compute()"
   ]
  },
  {
   "cell_type": "code",
   "execution_count": null,
   "id": "330a73f0-913f-4fb2-8a76-567e78bebb28",
   "metadata": {},
   "outputs": [],
   "source": []
  }
 ],
 "metadata": {
  "kernelspec": {
   "display_name": "fcc-dev",
   "language": "python",
   "name": "fcc-dev"
  },
  "language_info": {
   "codemirror_mode": {
    "name": "ipython",
    "version": 3
   },
   "file_extension": ".py",
   "mimetype": "text/x-python",
   "name": "python",
   "nbconvert_exporter": "python",
   "pygments_lexer": "ipython3",
   "version": "3.12.6"
  }
 },
 "nbformat": 4,
 "nbformat_minor": 5
}
