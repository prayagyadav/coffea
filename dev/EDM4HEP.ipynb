{
 "cells": [
  {
   "cell_type": "code",
   "execution_count": 1,
   "id": "cc501edd-2d82-46e0-9ec5-3fbdbf95e97f",
   "metadata": {},
   "outputs": [],
   "source": [
    "import re\n",
    "import awkward as ak"
   ]
  },
  {
   "cell_type": "code",
   "execution_count": 2,
   "id": "6ca44c68-fd7b-4db7-b37b-6b2493a377d0",
   "metadata": {},
   "outputs": [
    {
     "name": "stderr",
     "output_type": "stream",
     "text": [
      "/home/prayag/coffeafcc/development/coffea/src/coffea/nanoevents/schemas/edm4hep.py:6: FutureWarning: In version 2025.1.0 (target date: 2024-12-31 11:59:59-06:00), this will be an error.\n",
      "To raise these warnings as errors (and get stack traces to find out where they're called), run\n",
      "    import warnings\n",
      "    warnings.filterwarnings(\"error\", module=\"coffea.*\")\n",
      "after the first `import coffea` or use `@pytest.mark.filterwarnings(\"error:::coffea.*\")` in pytest.\n",
      "Issue: coffea.nanoevents.methods.vector will be removed and replaced with scikit-hep vector. Nanoevents schemas internal to coffea will be migrated. Otherwise please consider using that package!.\n",
      "  from coffea.nanoevents.methods import vector\n"
     ]
    }
   ],
   "source": [
    "# test_file = \"../coffea-fcc-analyses/data/edm4hep1/p8_ee_WW_ecm240_edm4hep.root\"\n",
    "test_file = \"coffea/tests/samples/edm4hep.root\"\n",
    "from coffea.nanoevents import NanoEventsFactory, EDM4HEPSchema\n",
    "events = NanoEventsFactory.from_root(\n",
    "    test_file+\":events\",\n",
    "    entry_stop=100,\n",
    "    schemaclass=EDM4HEPSchema,\n",
    "    delayed = False,\n",
    "    uproot_options={\"filter_name\": lambda x: \"PARAMETERS\" not in x}\n",
    ").events()"
   ]
  },
  {
   "cell_type": "code",
   "execution_count": 3,
   "id": "1980535a-2dcc-4cb0-9421-5a8e043dcc58",
   "metadata": {},
   "outputs": [
    {
     "data": {
      "text/plain": [
       "['CaloHitContributionCollection',\n",
       " 'CaloHitMCParticleLinkCollection',\n",
       " 'CaloHitSimCaloHitLinkCollection',\n",
       " 'CalorimeterHitCollection',\n",
       " 'ClusterCollection',\n",
       " 'ClusterMCParticleLinkCollection',\n",
       " 'EventHeader',\n",
       " 'GPDoubleKeys',\n",
       " 'GPDoubleValues',\n",
       " 'GPFloatKeys',\n",
       " 'GPFloatValues',\n",
       " 'GPIntKeys',\n",
       " 'GPIntValues',\n",
       " 'GPStringKeys',\n",
       " 'GPStringValues',\n",
       " 'GeneratorEventParametersCollection',\n",
       " 'GeneratorPdfInfoCollection',\n",
       " 'MCParticleCollection',\n",
       " 'ParticleIDCollection',\n",
       " 'RawCalorimeterHitCollection',\n",
       " 'RawTimeSeriesCollection',\n",
       " 'RecDqdxCollection',\n",
       " 'RecoMCParticleLinkCollection',\n",
       " 'ReconstructedParticleCollection',\n",
       " 'SimCalorimeterHitCollection',\n",
       " 'SimTrackerHitCollection',\n",
       " 'TimeSeriesCollection',\n",
       " 'TrackCollection',\n",
       " 'TrackMCParticleLinkCollection',\n",
       " 'TrackerHit3DCollection',\n",
       " 'TrackerHitPlaneCollection',\n",
       " 'TrackerHitSimTrackerHitLinkCollection',\n",
       " 'VertexCollection',\n",
       " 'VertexRecoParticleLinkCollection']"
      ]
     },
     "execution_count": 3,
     "metadata": {},
     "output_type": "execute_result"
    }
   ],
   "source": [
    "events.fields"
   ]
  },
  {
   "cell_type": "code",
   "execution_count": 4,
   "id": "c1d5c04d-d598-4920-881d-8f27638f6fe2",
   "metadata": {},
   "outputs": [
    {
     "data": {
      "text/plain": [
       "['eventNumber', 'runNumber', 'timeStamp', 'weight', 'weights']"
      ]
     },
     "execution_count": 4,
     "metadata": {},
     "output_type": "execute_result"
    }
   ],
   "source": [
    "events.EventHeader.fields"
   ]
  },
  {
   "cell_type": "code",
   "execution_count": 5,
   "id": "b4da2330-3e1c-4187-9dbe-ca3ef294643c",
   "metadata": {},
   "outputs": [
    {
     "data": {
      "text/html": [
       "<pre>[[[45, 46, 47, 48, 49]],\n",
       " [[45, 46, 47, 48, 49]],\n",
       " [[45, 46, 47, 48, 49]]]\n",
       "-----------------------------------------------------------------------------\n",
       "type: 3 * var * var * float64[parameters={&quot;__doc__&quot;: &quot;_EventHeader_weights&quot;}]</pre>"
      ],
      "text/plain": [
       "<Array [[[45, 46, 47, 48, 49]], ..., [[...]]] type='3 * var * var * float64...'>"
      ]
     },
     "execution_count": 5,
     "metadata": {},
     "output_type": "execute_result"
    }
   ],
   "source": [
    "events.EventHeader.weights"
   ]
  },
  {
   "cell_type": "code",
   "execution_count": 6,
   "id": "d49aef8b-7dce-4b48-a73e-11f0e6dae7be",
   "metadata": {},
   "outputs": [
    {
     "data": {
      "text/plain": [
       "['E',\n",
       " 'PDG',\n",
       " 'charge',\n",
       " 'clusters_idx_ClusterCollection',\n",
       " 'covMatrix',\n",
       " 'decayVertex_idx_VertexCollection',\n",
       " 'goodnessOfPID',\n",
       " 'mass',\n",
       " 'particles_idx_ReconstructedParticleCollection',\n",
       " 'px',\n",
       " 'py',\n",
       " 'pz',\n",
       " 'referencePoint',\n",
       " 'tracks_idx_TrackCollection']"
      ]
     },
     "execution_count": 6,
     "metadata": {},
     "output_type": "execute_result"
    }
   ],
   "source": [
    "events.ReconstructedParticleCollection.fields"
   ]
  },
  {
   "cell_type": "code",
   "execution_count": 7,
   "id": "58689fc2-0f29-4e98-8077-b81c1a8b1030",
   "metadata": {},
   "outputs": [
    {
     "data": {
      "text/html": [
       "<pre>[[{x: 47, y: 48, z: 49}],\n",
       " [{x: 47, y: 48, z: 49}],\n",
       " [{x: 47, y: 48, z: 49}]]\n",
       "--------------------------------------------------------------------------------------------------------------------\n",
       "type: 3 * var * ThreeVector[\n",
       "    x: float32[parameters={&quot;__doc__&quot;: &quot;x[ReconstructedParticleCollection_]&quot;}],\n",
       "    y: float32[parameters={&quot;__doc__&quot;: &quot;y[ReconstructedParticleCollection_]&quot;}],\n",
       "    z: float32[parameters={&quot;__doc__&quot;: &quot;z[ReconstructedParticleCollection_]&quot;}], \n",
       "parameters={&quot;collection_name&quot;: &quot;referencePoint&quot;, &quot;__doc__&quot;: &quot;reference, i.e. where the particle has been measured&quot;}]</pre>"
      ],
      "text/plain": [
       "<ThreeVectorArray [[{x: 47, y: 48, z: 49}], ..., [{...}]] type='3 * var * T...'>"
      ]
     },
     "execution_count": 7,
     "metadata": {},
     "output_type": "execute_result"
    }
   ],
   "source": [
    "events.ReconstructedParticleCollection.referencePoint"
   ]
  },
  {
   "cell_type": "code",
   "execution_count": 8,
   "id": "f48f625e-a4a4-46e7-856e-066936d5b307",
   "metadata": {},
   "outputs": [
    {
     "data": {
      "text/plain": [
       "['index', 'collectionID', 'index_Global']"
      ]
     },
     "execution_count": 8,
     "metadata": {},
     "output_type": "execute_result"
    }
   ],
   "source": [
    "events.ReconstructedParticleCollection.particles_idx_ReconstructedParticleCollection.fields"
   ]
  },
  {
   "cell_type": "code",
   "execution_count": 9,
   "id": "21096f51-e8fa-43ee-a72a-a0e5d2bc6b47",
   "metadata": {},
   "outputs": [
    {
     "data": {
      "text/html": [
       "<pre>[[{index: [0], collectionID: [3078232928], index_Global: [0]}],\n",
       " [{index: [0], collectionID: [3078232928], index_Global: [0]}],\n",
       " [{index: [1], collectionID: [3078232928], index_Global: [1]}]]\n",
       "--------------------------------------------------------------------------------------------------------------------\n",
       "type: 3 * var * {\n",
       "    index: var * int32[parameters={&quot;__doc__&quot;: &quot;index[_ReconstructedParticleCollection_particles_]&quot;}],\n",
       "    collectionID: var * uint32[parameters={&quot;__doc__&quot;: &quot;collectionID[_ReconstructedParticleCollection_particles_]&quot;}],\n",
       "    index_Global: var * int32[parameters={&quot;__doc__&quot;: &quot;index[_ReconstructedParticleCollection_particles_]&quot;}]\n",
       "}</pre>"
      ],
      "text/plain": [
       "<Array [[{index: [0], ...}], ..., [{...}]] type='3 * var * {index: var * in...'>"
      ]
     },
     "execution_count": 9,
     "metadata": {},
     "output_type": "execute_result"
    }
   ],
   "source": [
    "events.ReconstructedParticleCollection.particles_idx_ReconstructedParticleCollection"
   ]
  },
  {
   "cell_type": "code",
   "execution_count": 10,
   "id": "9ab5c81d-e567-400c-b6d7-c63632551be9",
   "metadata": {},
   "outputs": [
    {
     "data": {
      "text/plain": [
       "['PDG',\n",
       " 'charge',\n",
       " 'colorFlow',\n",
       " 'daughters_idx_MCParticleCollection',\n",
       " 'endpoint',\n",
       " 'generatorStatus',\n",
       " 'mass',\n",
       " 'momentumAtEndpoint',\n",
       " 'parents_idx_MCParticleCollection',\n",
       " 'px',\n",
       " 'py',\n",
       " 'pz',\n",
       " 'simulatorStatus',\n",
       " 'spin',\n",
       " 'time',\n",
       " 'vertex']"
      ]
     },
     "execution_count": 10,
     "metadata": {},
     "output_type": "execute_result"
    }
   ],
   "source": [
    "events.MCParticleCollection.fields"
   ]
  },
  {
   "cell_type": "code",
   "execution_count": 11,
   "id": "27711b78-8e8a-450f-8bfa-0df7fd97c127",
   "metadata": {},
   "outputs": [
    {
     "data": {
      "text/html": [
       "<pre>[[54, 77, 100],\n",
       " [54, 77, 100],\n",
       " [54, 77, 100]]\n",
       "---------------------------------------------------------------------------\n",
       "type: 3 * var * float64[parameters={&quot;__doc__&quot;: &quot;x[MCParticleCollection_]&quot;}]</pre>"
      ],
      "text/plain": [
       "<Array [[54, 77, 100], ..., [54, 77, 100]] type='3 * var * float64[paramete...'>"
      ]
     },
     "execution_count": 11,
     "metadata": {},
     "output_type": "execute_result"
    }
   ],
   "source": [
    "events.MCParticleCollection.px"
   ]
  },
  {
   "cell_type": "code",
   "execution_count": 12,
   "id": "79b88122-ebd1-4d5a-aac6-cd310dff1ad4",
   "metadata": {},
   "outputs": [
    {
     "data": {
      "text/html": [
       "<pre>[[[54], [], []],\n",
       " [[54], [], []],\n",
       " [[77], [], []]]\n",
       "----------------------------------------------------------------------------------\n",
       "type: 3 * var * var * ?float64[parameters={&quot;__doc__&quot;: &quot;x[MCParticleCollection_]&quot;}]</pre>"
      ],
      "text/plain": [
       "<Array [[[54], [], []], ..., [[77], ..., []]] type='3 * var * var * ?float6...'>"
      ]
     },
     "execution_count": 12,
     "metadata": {},
     "output_type": "execute_result"
    }
   ],
   "source": [
    "events.MCParticleCollection._apply_global_index(events.MCParticleCollection.daughters_idx_MCParticleCollection.index_Global).px"
   ]
  },
  {
   "cell_type": "code",
   "execution_count": null,
   "id": "62994b27-6bed-450d-9f72-aec1d124d1e7",
   "metadata": {},
   "outputs": [],
   "source": []
  }
 ],
 "metadata": {
  "kernelspec": {
   "display_name": "fcc-dev",
   "language": "python",
   "name": "fcc-dev"
  },
  "language_info": {
   "codemirror_mode": {
    "name": "ipython",
    "version": 3
   },
   "file_extension": ".py",
   "mimetype": "text/x-python",
   "name": "python",
   "nbconvert_exporter": "python",
   "pygments_lexer": "ipython3",
   "version": "3.12.7"
  }
 },
 "nbformat": 4,
 "nbformat_minor": 5
}
